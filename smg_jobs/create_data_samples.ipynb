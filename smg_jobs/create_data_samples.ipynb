{
 "cells": [
  {
   "cell_type": "markdown",
   "metadata": {},
   "source": [
    "## Creating smaller data samples for testing"
   ]
  },
  {
   "cell_type": "code",
   "execution_count": 1,
   "metadata": {},
   "outputs": [],
   "source": [
    "import sys\n",
    "sys.path.append(\"..\")\n",
    "\n",
    "from heritageconnector.config import config\n",
    "\n",
    "import pandas as pd\n",
    "pd.set_option('display.max_colwidth', None)\n",
    "pd.set_option('display.max_columns', None)\n",
    "\n",
    "import numpy as np"
   ]
  },
  {
   "cell_type": "code",
   "execution_count": 2,
   "metadata": {},
   "outputs": [],
   "source": [
    "random_seed = 42"
   ]
  },
  {
   "cell_type": "markdown",
   "metadata": {},
   "source": [
    "### Objects \n",
    "Create stratified sample across categories"
   ]
  },
  {
   "cell_type": "code",
   "execution_count": 3,
   "metadata": {},
   "outputs": [
    {
     "name": "stdout",
     "output_type": "stream",
     "text": [
      "../GITIGNORE_DATA/smg-datasets-private/mimsy-catalogue-export.csv\n"
     ]
    }
   ],
   "source": [
    "catalogue_path = config.MIMSY_CATALOGUE_PATH\n",
    "print(catalogue_path)"
   ]
  },
  {
   "cell_type": "code",
   "execution_count": 9,
   "metadata": {},
   "outputs": [
    {
     "name": "stdout",
     "output_type": "stream",
     "text": [
      "4998\n"
     ]
    }
   ],
   "source": [
    "SAMPLE_NO =5000\n",
    "\n",
    "cat_df = pd.read_csv(catalogue_path, low_memory=False)\n",
    "\n",
    "# do sampling\n",
    "cat_df_sample = cat_df.groupby('CATEGORY1', group_keys=False).apply(lambda x: x.sample(int(np.rint(SAMPLE_NO*len(x)/len(cat_df))), random_state=random_seed)).sort_values('MKEY').reset_index(drop=True)\n",
    "print(len(cat_df_sample))\n"
   ]
  },
  {
   "cell_type": "code",
   "execution_count": 10,
   "metadata": {},
   "outputs": [],
   "source": [
    "cat_df_sample.to_csv(f\"../GITIGNORE_DATA/smg-datasets-private/samples/mimsy-catalogue-export-{SAMPLE_NO}.csv\", index=False)"
   ]
  },
  {
   "cell_type": "code",
   "execution_count": null,
   "metadata": {},
   "outputs": [],
   "source": []
  }
 ],
 "metadata": {
  "kernelspec": {
   "display_name": "Python 3",
   "language": "python",
   "name": "python3"
  },
  "language_info": {
   "codemirror_mode": {
    "name": "ipython",
    "version": 3
   },
   "file_extension": ".py",
   "mimetype": "text/x-python",
   "name": "python",
   "nbconvert_exporter": "python",
   "pygments_lexer": "ipython3",
   "version": "3.7.4"
  }
 },
 "nbformat": 4,
 "nbformat_minor": 4
}
