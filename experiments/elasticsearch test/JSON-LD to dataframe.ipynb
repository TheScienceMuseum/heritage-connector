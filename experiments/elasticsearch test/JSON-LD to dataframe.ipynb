{
 "cells": [
  {
   "cell_type": "markdown",
   "metadata": {},
   "source": [
    "# JSON-LD to DataFrame"
   ]
  },
  {
   "cell_type": "code",
   "execution_count": 15,
   "metadata": {},
   "outputs": [],
   "source": [
    "import sys\n",
    "sys.path.append(\"../..\")\n",
    "\n",
    "from heritageconnector import datastore\n",
    "\n",
    "import pandas as pd\n",
    "pd.set_option('display.max_colwidth', None)\n",
    "pd.set_option('display.max_columns', None)\n",
    "\n",
    "from IPython.display import display"
   ]
  },
  {
   "cell_type": "code",
   "execution_count": 2,
   "metadata": {},
   "outputs": [
    {
     "data": {
      "text/plain": [
       "{'_index': 'heritageconnector',\n",
       " '_type': '_doc',\n",
       " '_id': '8MvrV3MBs6sGyKyoy6wy',\n",
       " '_score': 0.28776538,\n",
       " '_source': {'uri': 'https://collection.sciencemuseumgroup.org.uk/objects/co100',\n",
       "  'collection': 'SMG',\n",
       "  'type': 'object',\n",
       "  'graph': {'@context': [{'@foaf': 'http://xmlns.com/foaf/0.1/',\n",
       "     '@language': 'en'},\n",
       "    {'@language': 'en', '@schema': 'http://www.w3.org/2001/XMLSchema#'},\n",
       "    {'@language': 'en', '@owl': 'http://www.w3.org/2002/07/owl#'}],\n",
       "   '@foaf:maker': {'@id': 'https://collection.sciencemuseumgroup.org.uk/people/cp37297'},\n",
       "   '@id': 'https://collection.sciencemuseumgroup.org.uk/objects/co100',\n",
       "   '@schema:additionalType': {'@value': 'pendulum clock; model - representation'},\n",
       "   '@schema:description': {'@value': 'Model showing the first idea of the application of the pendulum to the clock designed by Galileo in 1642, made his son Vincenzo in 1649 and illustrated by Vincenzo Viviani, Italy. This model is by Eustachio Porcellotti, Florence, Italy, 1883.'},\n",
       "   '@schema:material': {'@value': \"['steel (metal)', 'brass (copper, zinc alloy)']\"},\n",
       "   '@schema:name': {'@value': 'Pendulum clock designed by Galileo in 1642 and made by his son in 1649, model.'}}}}"
      ]
     },
     "execution_count": 2,
     "metadata": {},
     "output_type": "execute_result"
    }
   ],
   "source": [
    "objects = datastore.get_by_type(\"object\")[\"hits\"][\"hits\"]\n",
    "objects[0]"
   ]
  },
  {
   "cell_type": "code",
   "execution_count": 6,
   "metadata": {},
   "outputs": [
    {
     "data": {
      "text/html": [
       "<div>\n",
       "<style scoped>\n",
       "    .dataframe tbody tr th:only-of-type {\n",
       "        vertical-align: middle;\n",
       "    }\n",
       "\n",
       "    .dataframe tbody tr th {\n",
       "        vertical-align: top;\n",
       "    }\n",
       "\n",
       "    .dataframe thead th {\n",
       "        text-align: right;\n",
       "    }\n",
       "</style>\n",
       "<table border=\"1\" class=\"dataframe\">\n",
       "  <thead>\n",
       "    <tr style=\"text-align: right;\">\n",
       "      <th></th>\n",
       "      <th>_index</th>\n",
       "      <th>_type</th>\n",
       "      <th>_id</th>\n",
       "      <th>_score</th>\n",
       "      <th>_source.uri</th>\n",
       "      <th>_source.collection</th>\n",
       "      <th>_source.type</th>\n",
       "      <th>_source.graph.@context</th>\n",
       "      <th>_source.graph.@foaf:maker.@id</th>\n",
       "      <th>_source.graph.@id</th>\n",
       "      <th>_source.graph.@schema:additionalType.@value</th>\n",
       "      <th>_source.graph.@schema:description.@value</th>\n",
       "      <th>_source.graph.@schema:material.@value</th>\n",
       "      <th>_source.graph.@schema:name.@value</th>\n",
       "    </tr>\n",
       "  </thead>\n",
       "  <tbody>\n",
       "    <tr>\n",
       "      <th>0</th>\n",
       "      <td>heritageconnector</td>\n",
       "      <td>_doc</td>\n",
       "      <td>8MvrV3MBs6sGyKyoy6wy</td>\n",
       "      <td>0.287765</td>\n",
       "      <td>https://collection.sciencemuseumgroup.org.uk/objects/co100</td>\n",
       "      <td>SMG</td>\n",
       "      <td>object</td>\n",
       "      <td>[{'@foaf': 'http://xmlns.com/foaf/0.1/', '@language': 'en'}, {'@language': 'en', '@schema': 'http://www.w3.org/2001/XMLSchema#'}, {'@language': 'en', '@owl': 'http://www.w3.org/2002/07/owl#'}]</td>\n",
       "      <td>https://collection.sciencemuseumgroup.org.uk/people/cp37297</td>\n",
       "      <td>https://collection.sciencemuseumgroup.org.uk/objects/co100</td>\n",
       "      <td>pendulum clock; model - representation</td>\n",
       "      <td>Model showing the first idea of the application of the pendulum to the clock designed by Galileo in 1642, made his son Vincenzo in 1649 and illustrated by Vincenzo Viviani, Italy. This model is by Eustachio Porcellotti, Florence, Italy, 1883.</td>\n",
       "      <td>['steel (metal)', 'brass (copper, zinc alloy)']</td>\n",
       "      <td>Pendulum clock designed by Galileo in 1642 and made by his son in 1649, model.</td>\n",
       "    </tr>\n",
       "    <tr>\n",
       "      <th>1</th>\n",
       "      <td>heritageconnector</td>\n",
       "      <td>_doc</td>\n",
       "      <td>8svrV3MBs6sGyKyoy6x3</td>\n",
       "      <td>0.287765</td>\n",
       "      <td>https://collection.sciencemuseumgroup.org.uk/objects/co103</td>\n",
       "      <td>SMG</td>\n",
       "      <td>object</td>\n",
       "      <td>[{'@foaf': 'http://xmlns.com/foaf/0.1/', '@language': 'en'}, {'@language': 'en', '@schema': 'http://www.w3.org/2001/XMLSchema#'}, {'@language': 'en', '@owl': 'http://www.w3.org/2002/07/owl#'}]</td>\n",
       "      <td>https://collection.sciencemuseumgroup.org.uk/people/cp59216</td>\n",
       "      <td>https://collection.sciencemuseumgroup.org.uk/objects/co103</td>\n",
       "      <td>mock-up; escapement</td>\n",
       "      <td>Model by Dent of Graham's cylinder escapement for use with lantern, 1850-1883</td>\n",
       "      <td>['brass (copper, zinc alloy)', 'steel (metal)', 'glass']</td>\n",
       "      <td>Model of Graham's Cylinder Escapement, 1850-1883</td>\n",
       "    </tr>\n",
       "  </tbody>\n",
       "</table>\n",
       "</div>"
      ],
      "text/plain": [
       "              _index _type                   _id    _score  \\\n",
       "0  heritageconnector  _doc  8MvrV3MBs6sGyKyoy6wy  0.287765   \n",
       "1  heritageconnector  _doc  8svrV3MBs6sGyKyoy6x3  0.287765   \n",
       "\n",
       "                                                  _source.uri  \\\n",
       "0  https://collection.sciencemuseumgroup.org.uk/objects/co100   \n",
       "1  https://collection.sciencemuseumgroup.org.uk/objects/co103   \n",
       "\n",
       "  _source.collection _source.type  \\\n",
       "0                SMG       object   \n",
       "1                SMG       object   \n",
       "\n",
       "                                                                                                                                                                             _source.graph.@context  \\\n",
       "0  [{'@foaf': 'http://xmlns.com/foaf/0.1/', '@language': 'en'}, {'@language': 'en', '@schema': 'http://www.w3.org/2001/XMLSchema#'}, {'@language': 'en', '@owl': 'http://www.w3.org/2002/07/owl#'}]   \n",
       "1  [{'@foaf': 'http://xmlns.com/foaf/0.1/', '@language': 'en'}, {'@language': 'en', '@schema': 'http://www.w3.org/2001/XMLSchema#'}, {'@language': 'en', '@owl': 'http://www.w3.org/2002/07/owl#'}]   \n",
       "\n",
       "                                 _source.graph.@foaf:maker.@id  \\\n",
       "0  https://collection.sciencemuseumgroup.org.uk/people/cp37297   \n",
       "1  https://collection.sciencemuseumgroup.org.uk/people/cp59216   \n",
       "\n",
       "                                            _source.graph.@id  \\\n",
       "0  https://collection.sciencemuseumgroup.org.uk/objects/co100   \n",
       "1  https://collection.sciencemuseumgroup.org.uk/objects/co103   \n",
       "\n",
       "  _source.graph.@schema:additionalType.@value  \\\n",
       "0      pendulum clock; model - representation   \n",
       "1                         mock-up; escapement   \n",
       "\n",
       "                                                                                                                                                                                                             _source.graph.@schema:description.@value  \\\n",
       "0  Model showing the first idea of the application of the pendulum to the clock designed by Galileo in 1642, made his son Vincenzo in 1649 and illustrated by Vincenzo Viviani, Italy. This model is by Eustachio Porcellotti, Florence, Italy, 1883.   \n",
       "1                                                                                                                                                                       Model by Dent of Graham's cylinder escapement for use with lantern, 1850-1883   \n",
       "\n",
       "                      _source.graph.@schema:material.@value  \\\n",
       "0           ['steel (metal)', 'brass (copper, zinc alloy)']   \n",
       "1  ['brass (copper, zinc alloy)', 'steel (metal)', 'glass']   \n",
       "\n",
       "                                                _source.graph.@schema:name.@value  \n",
       "0  Pendulum clock designed by Galileo in 1642 and made by his son in 1649, model.  \n",
       "1                                Model of Graham's Cylinder Escapement, 1850-1883  "
      ]
     },
     "execution_count": 6,
     "metadata": {},
     "output_type": "execute_result"
    }
   ],
   "source": [
    "obj_df = pd.json_normalize(objects)\n",
    "obj_df.head(2)"
   ]
  },
  {
   "cell_type": "code",
   "execution_count": 7,
   "metadata": {},
   "outputs": [],
   "source": [
    "def set_for_keys(my_dict, key_arr, val):\n",
    "    \"\"\"\n",
    "    Set val at path in my_dict defined by the string (or serializable object) array key_arr\n",
    "    \"\"\"\n",
    "    current = my_dict\n",
    "    for i in range(len(key_arr)):\n",
    "        key = key_arr[i]\n",
    "        if key not in current:\n",
    "            if i==len(key_arr)-1:\n",
    "                current[key] = val\n",
    "            else:\n",
    "                current[key] = {}\n",
    "        else:\n",
    "            if type(current[key]) is not dict:\n",
    "                print(\"Given dictionary is not compatible with key structure requested\")\n",
    "                raise ValueError(\"Dictionary key already occupied\")\n",
    "\n",
    "        current = current[key]\n",
    "\n",
    "    return my_dict\n",
    "\n",
    "def to_formatted_json(df, sep=\".\"):\n",
    "    result = []\n",
    "    for _, row in df.iterrows():\n",
    "        parsed_row = {}\n",
    "        for idx, val in row.iteritems():\n",
    "            keys = idx.split(sep)\n",
    "            parsed_row = set_for_keys(parsed_row, keys, val)\n",
    "\n",
    "        result.append(parsed_row)\n",
    "    return result\n"
   ]
  },
  {
   "cell_type": "code",
   "execution_count": 16,
   "metadata": {},
   "outputs": [
    {
     "data": {
      "text/plain": [
       "{'_index': 'heritageconnector',\n",
       " '_type': '_doc',\n",
       " '_id': '8MvrV3MBs6sGyKyoy6wy',\n",
       " '_score': 0.28776538,\n",
       " '_source': {'uri': 'https://collection.sciencemuseumgroup.org.uk/objects/co100',\n",
       "  'collection': 'SMG',\n",
       "  'type': 'object',\n",
       "  'graph': {'@context': [{'@foaf': 'http://xmlns.com/foaf/0.1/',\n",
       "     '@language': 'en'},\n",
       "    {'@language': 'en', '@schema': 'http://www.w3.org/2001/XMLSchema#'},\n",
       "    {'@language': 'en', '@owl': 'http://www.w3.org/2002/07/owl#'}],\n",
       "   '@foaf:maker': {'@id': 'https://collection.sciencemuseumgroup.org.uk/people/cp37297'},\n",
       "   '@id': 'https://collection.sciencemuseumgroup.org.uk/objects/co100',\n",
       "   '@schema:additionalType': {'@value': 'pendulum clock; model - representation'},\n",
       "   '@schema:description': {'@value': 'Model showing the first idea of the application of the pendulum to the clock designed by Galileo in 1642, made his son Vincenzo in 1649 and illustrated by Vincenzo Viviani, Italy. This model is by Eustachio Porcellotti, Florence, Italy, 1883.'},\n",
       "   '@schema:material': {'@value': \"['steel (metal)', 'brass (copper, zinc alloy)']\"},\n",
       "   '@schema:name': {'@value': 'Pendulum clock designed by Galileo in 1642 and made by his son in 1649, model.'}}}}"
      ]
     },
     "metadata": {},
     "output_type": "display_data"
    },
    {
     "name": "stdout",
     "output_type": "stream",
     "text": [
      "\n"
     ]
    },
    {
     "data": {
      "text/plain": [
       "{'_index': 'heritageconnector',\n",
       " '_type': '_doc',\n",
       " '_id': '8MvrV3MBs6sGyKyoy6wy',\n",
       " '_score': 0.28776538,\n",
       " '_source': {'uri': 'https://collection.sciencemuseumgroup.org.uk/objects/co100',\n",
       "  'collection': 'SMG',\n",
       "  'type': 'object',\n",
       "  'graph': {'@context': [{'@foaf': 'http://xmlns.com/foaf/0.1/',\n",
       "     '@language': 'en'},\n",
       "    {'@language': 'en', '@schema': 'http://www.w3.org/2001/XMLSchema#'},\n",
       "    {'@language': 'en', '@owl': 'http://www.w3.org/2002/07/owl#'}],\n",
       "   '@foaf:maker': {'@id': 'https://collection.sciencemuseumgroup.org.uk/people/cp37297'},\n",
       "   '@id': 'https://collection.sciencemuseumgroup.org.uk/objects/co100',\n",
       "   '@schema:additionalType': {'@value': 'pendulum clock; model - representation'},\n",
       "   '@schema:description': {'@value': 'Model showing the first idea of the application of the pendulum to the clock designed by Galileo in 1642, made his son Vincenzo in 1649 and illustrated by Vincenzo Viviani, Italy. This model is by Eustachio Porcellotti, Florence, Italy, 1883.'},\n",
       "   '@schema:material': {'@value': \"['steel (metal)', 'brass (copper, zinc alloy)']\"},\n",
       "   '@schema:name': {'@value': 'Pendulum clock designed by Galileo in 1642 and made by his son in 1649, model.'}}}}"
      ]
     },
     "metadata": {},
     "output_type": "display_data"
    }
   ],
   "source": [
    "obj_json = to_formatted_json(obj_df)\n",
    "display(objects[0])\n",
    "print(\"\")\n",
    "display(obj_json[0])"
   ]
  },
  {
   "cell_type": "code",
   "execution_count": null,
   "metadata": {},
   "outputs": [],
   "source": []
  }
 ],
 "metadata": {
  "kernelspec": {
   "display_name": "Python 3",
   "language": "python",
   "name": "python3"
  },
  "language_info": {
   "codemirror_mode": {
    "name": "ipython",
    "version": 3
   },
   "file_extension": ".py",
   "mimetype": "text/x-python",
   "name": "python",
   "nbconvert_exporter": "python",
   "pygments_lexer": "ipython3",
   "version": "3.7.4"
  }
 },
 "nbformat": 4,
 "nbformat_minor": 4
}
