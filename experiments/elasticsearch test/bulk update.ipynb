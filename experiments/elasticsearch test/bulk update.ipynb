{
 "cells": [
  {
   "cell_type": "code",
   "execution_count": 24,
   "metadata": {},
   "outputs": [],
   "source": [
    "from rdflib import Graph, Literal, URIRef\n",
    "import json\n",
    "import pprint\n",
    "pp = pprint.PrettyPrinter(indent=4)"
   ]
  },
  {
   "cell_type": "code",
   "execution_count": 39,
   "metadata": {},
   "outputs": [],
   "source": [
    "context = [\n",
    "    {\"@foaf\": \"http://xmlns.com/foaf/0.1/\", \"@language\": \"en\"},\n",
    "    {\"@schema\": \"http://www.w3.org/2001/XMLSchema#\", \"@language\": \"en\"},\n",
    "    {\"@owl\": \"http://www.w3.org/2002/07/owl#\", \"@language\": \"en\"},\n",
    "]\n",
    "\n",
    "triple = (URIRef(\"https://collection.sciencemuseumgroup.org.uk/people/cp118395\"), \n",
    "          URIRef(\"https://schema.org/gender\"), \n",
    "          URIRef(\"M\"))\n",
    "\n",
    "g = Graph()\n",
    "g.add(triple)"
   ]
  },
  {
   "cell_type": "code",
   "execution_count": 46,
   "metadata": {},
   "outputs": [
    {
     "data": {
      "text/plain": [
       "{'https://schema.org/gender': {'@id': 'M'}}"
      ]
     },
     "execution_count": 46,
     "metadata": {},
     "output_type": "execute_result"
    }
   ],
   "source": [
    "ld = g.serialize(format=\"json-ld\", context=context, indent=4)\n",
    "d = json.loads(ld)\n",
    "\n",
    "ID = d.pop('@id')\n",
    "_ = d.pop('@context')\n",
    "d"
   ]
  },
  {
   "cell_type": "code",
   "execution_count": 38,
   "metadata": {},
   "outputs": [
    {
     "data": {
      "text/plain": [
       "{'doc': {'graph': {'https://schema.org/gender': [{'@id': 'M'}]}}}"
      ]
     },
     "execution_count": 38,
     "metadata": {},
     "output_type": "execute_result"
    }
   ],
   "source": [
    "{\n",
    "    \"doc\": {\n",
    "        \"graph\": d\n",
    "    }\n",
    "}"
   ]
  },
  {
   "cell_type": "code",
   "execution_count": null,
   "metadata": {},
   "outputs": [],
   "source": []
  }
 ],
 "metadata": {
  "kernelspec": {
   "display_name": "Python 3",
   "language": "python",
   "name": "python3"
  },
  "language_info": {
   "codemirror_mode": {
    "name": "ipython",
    "version": 3
   },
   "file_extension": ".py",
   "mimetype": "text/x-python",
   "name": "python",
   "nbconvert_exporter": "python",
   "pygments_lexer": "ipython3",
   "version": "3.7.4"
  }
 },
 "nbformat": 4,
 "nbformat_minor": 4
}
