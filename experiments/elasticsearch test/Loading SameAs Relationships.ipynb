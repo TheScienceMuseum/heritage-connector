{
 "cells": [
  {
   "cell_type": "code",
   "execution_count": 1,
   "metadata": {},
   "outputs": [],
   "source": [
    "%load_ext autoreload\n",
    "%autoreload 2\n",
    "\n",
    "import sys\n",
    "sys.path.append(\"../..\")\n",
    "\n",
    "from heritageconnector import datastore\n",
    "from heritageconnector.utils.wikidata import qid_to_url\n",
    "\n",
    "import pandas as pd\n",
    "pd.set_option('display.max_colwidth', None)\n",
    "pd.set_option('display.max_columns', None)\n",
    "\n",
    "from IPython.display import display\n",
    "\n",
    "from tqdm import tqdm"
   ]
  },
  {
   "cell_type": "markdown",
   "metadata": {},
   "source": [
    "## 1. create table of links betweeen SMG and Wikidata people"
   ]
  },
  {
   "cell_type": "code",
   "execution_count": 2,
   "metadata": {},
   "outputs": [
    {
     "data": {
      "text/plain": [
       "0    14375\n",
       "1     3714\n",
       "2        6\n",
       "Name: qcodes_filtered, dtype: int64"
      ]
     },
     "metadata": {},
     "output_type": "display_data"
    },
    {
     "name": "stderr",
     "output_type": "stream",
     "text": [
      "/Users/kalyan/.local/share/virtualenvs/heritage-connector-tkmarX41/lib/python3.7/site-packages/ipykernel_launcher.py:6: SettingWithCopyWarning: \n",
      "A value is trying to be set on a copy of a slice from a DataFrame.\n",
      "Try using .loc[row_indexer,col_indexer] = value instead\n",
      "\n",
      "See the caveats in the documentation: https://pandas.pydata.org/pandas-docs/stable/user_guide/indexing.html#returning-a-view-versus-a-copy\n",
      "  \n"
     ]
    },
    {
     "data": {
      "text/html": [
       "<div>\n",
       "<style scoped>\n",
       "    .dataframe tbody tr th:only-of-type {\n",
       "        vertical-align: middle;\n",
       "    }\n",
       "\n",
       "    .dataframe tbody tr th {\n",
       "        vertical-align: top;\n",
       "    }\n",
       "\n",
       "    .dataframe thead th {\n",
       "        text-align: right;\n",
       "    }\n",
       "</style>\n",
       "<table border=\"1\" class=\"dataframe\">\n",
       "  <thead>\n",
       "    <tr style=\"text-align: right;\">\n",
       "      <th></th>\n",
       "      <th>LINK_ID</th>\n",
       "      <th>QID</th>\n",
       "    </tr>\n",
       "  </thead>\n",
       "  <tbody>\n",
       "    <tr>\n",
       "      <th>3</th>\n",
       "      <td>https://collection.sciencemuseumgroup.org.uk/people/cp1027</td>\n",
       "      <td>http://www.wikidata.org/entity/Q2007300</td>\n",
       "    </tr>\n",
       "    <tr>\n",
       "      <th>10</th>\n",
       "      <td>https://collection.sciencemuseumgroup.org.uk/people/cp10203</td>\n",
       "      <td>http://www.wikidata.org/entity/Q90261</td>\n",
       "    </tr>\n",
       "    <tr>\n",
       "      <th>23</th>\n",
       "      <td>https://collection.sciencemuseumgroup.org.uk/people/cp10503</td>\n",
       "      <td>http://www.wikidata.org/entity/Q18759224</td>\n",
       "    </tr>\n",
       "    <tr>\n",
       "      <th>42</th>\n",
       "      <td>https://collection.sciencemuseumgroup.org.uk/people/cp11221</td>\n",
       "      <td>http://www.wikidata.org/entity/Q310833</td>\n",
       "    </tr>\n",
       "    <tr>\n",
       "      <th>57</th>\n",
       "      <td>https://collection.sciencemuseumgroup.org.uk/people/cp11809</td>\n",
       "      <td>http://www.wikidata.org/entity/Q7341431</td>\n",
       "    </tr>\n",
       "  </tbody>\n",
       "</table>\n",
       "</div>"
      ],
      "text/plain": [
       "                                                        LINK_ID  \\\n",
       "3    https://collection.sciencemuseumgroup.org.uk/people/cp1027   \n",
       "10  https://collection.sciencemuseumgroup.org.uk/people/cp10203   \n",
       "23  https://collection.sciencemuseumgroup.org.uk/people/cp10503   \n",
       "42  https://collection.sciencemuseumgroup.org.uk/people/cp11221   \n",
       "57  https://collection.sciencemuseumgroup.org.uk/people/cp11809   \n",
       "\n",
       "                                         QID  \n",
       "3    http://www.wikidata.org/entity/Q2007300  \n",
       "10     http://www.wikidata.org/entity/Q90261  \n",
       "23  http://www.wikidata.org/entity/Q18759224  \n",
       "42    http://www.wikidata.org/entity/Q310833  \n",
       "57   http://www.wikidata.org/entity/Q7341431  "
      ]
     },
     "execution_count": 2,
     "metadata": {},
     "output_type": "execute_result"
    }
   ],
   "source": [
    "df = pd.read_pickle(\"../../GITIGNORE_DATA/filtering_people_orgs_result.pkl\")\n",
    "\n",
    "display(df['qcodes_filtered'].apply(len).value_counts())\n",
    "df_links = df[df['qcodes_filtered'].apply(len) == 1]\n",
    "\n",
    "df_links['QID'] = df_links['qcodes_filtered'].apply(lambda i: i[0])\n",
    "\n",
    "df_links = df_links[[\"LINK_ID\", \"QID\"]]\n",
    "\n",
    "# transform IDs to URLs\n",
    "df_links[\"LINK_ID\"] = df_links[\"LINK_ID\"].apply(lambda i: f\"https://collection.sciencemuseumgroup.org.uk/people/cp{i}\")\n",
    "df_links[\"QID\"] = df_links[\"QID\"].apply(qid_to_url)\n",
    "\n",
    "df_links.head()"
   ]
  },
  {
   "cell_type": "markdown",
   "metadata": {},
   "source": [
    "## 2. Add links to ES index"
   ]
  },
  {
   "cell_type": "code",
   "execution_count": 4,
   "metadata": {},
   "outputs": [
    {
     "name": "stderr",
     "output_type": "stream",
     "text": [
      "100%|██████████| 3714/3714 [02:19<00:00, 26.55it/s]\n"
     ]
    }
   ],
   "source": [
    "for _, row in tqdm(df_links.iterrows(), total=len(df_links)):\n",
    "    datastore.add_same_as(row[\"LINK_ID\"], row[\"QID\"])"
   ]
  },
  {
   "cell_type": "code",
   "execution_count": 5,
   "metadata": {},
   "outputs": [
    {
     "data": {
      "text/plain": [
       "{'@context': [{'@foaf': 'http://xmlns.com/foaf/0.1/', '@language': 'en'},\n",
       "  {'@language': 'en', '@schema': 'http://www.w3.org/2001/XMLSchema#'},\n",
       "  {'@language': 'en', '@owl': 'http://www.w3.org/2002/07/owl#'}],\n",
       " '@foaf:givenName': {'@value': 'Link, O Winston'},\n",
       " '@id': 'https://collection.sciencemuseumgroup.org.uk/people/cp1027',\n",
       " '@owl:sameAs': {'@id': 'http://www.wikidata.org/entity/Q2007300'},\n",
       " '@schema:birthPlace': {'@value': 'Brooklyn, New York city, New York state, United States'},\n",
       " '@schema:deathPlace': {'@value': 'South Salem, Westchester county, New York state, United States'},\n",
       " '@schema:disambiguatingDescription': {'@value': 'Y'},\n",
       " '@schema:gender': {'@value': 'Male'},\n",
       " '@schema:occupation': {'@value': 'photographer'}}"
      ]
     },
     "execution_count": 5,
     "metadata": {},
     "output_type": "execute_result"
    }
   ],
   "source": [
    "datastore.get_by_uri(df_links.iloc[0][\"LINK_ID\"])[\"_source\"][\"graph\"]"
   ]
  }
 ],
 "metadata": {
  "kernelspec": {
   "display_name": "Python 3",
   "language": "python",
   "name": "python3"
  },
  "language_info": {
   "codemirror_mode": {
    "name": "ipython",
    "version": 3
   },
   "file_extension": ".py",
   "mimetype": "text/x-python",
   "name": "python",
   "nbconvert_exporter": "python",
   "pygments_lexer": "ipython3",
   "version": "3.7.4"
  }
 },
 "nbformat": 4,
 "nbformat_minor": 4
}
