{
 "cells": [
  {
   "cell_type": "markdown",
   "metadata": {},
   "source": [
    "# Parsing dates experiment"
   ]
  },
  {
   "cell_type": "code",
   "execution_count": null,
   "metadata": {},
   "outputs": [],
   "source": [
    "!pip install dateparser"
   ]
  },
  {
   "cell_type": "markdown",
   "metadata": {},
   "source": [
    "## sample dates"
   ]
  },
  {
   "cell_type": "code",
   "execution_count": 13,
   "metadata": {},
   "outputs": [],
   "source": [
    "sample_dates = [\n",
    "    \"1792\",\n",
    "    \"1791-09-22\",\n",
    "    \"c. 1958\",\n",
    "    \"around 3/2/1983\",\n",
    "    \"1501-1600\"\n",
    "]"
   ]
  },
  {
   "cell_type": "markdown",
   "metadata": {},
   "source": [
    "## `dateparser`"
   ]
  },
  {
   "cell_type": "code",
   "execution_count": 16,
   "metadata": {},
   "outputs": [],
   "source": [
    "import dateparser\n",
    "from dateparser.search import search_dates"
   ]
  },
  {
   "cell_type": "code",
   "execution_count": 14,
   "metadata": {},
   "outputs": [
    {
     "data": {
      "text/plain": [
       "[datetime.datetime(1792, 7, 8, 0, 0),\n",
       " datetime.datetime(1791, 9, 22, 0, 0),\n",
       " datetime.datetime(1958, 7, 8, 0, 0),\n",
       " None,\n",
       " None]"
      ]
     },
     "execution_count": 14,
     "metadata": {},
     "output_type": "execute_result"
    }
   ],
   "source": [
    "[dateparser.parse(d) for d in sample_dates]"
   ]
  },
  {
   "cell_type": "code",
   "execution_count": 15,
   "metadata": {},
   "outputs": [
    {
     "data": {
      "text/plain": [
       "[[('1792', datetime.datetime(1792, 7, 8, 0, 0))],\n",
       " [('1791-09-22', datetime.datetime(1791, 9, 22, 0, 0))],\n",
       " [('1958', datetime.datetime(1958, 7, 8, 0, 0))],\n",
       " [('3/2/1983', datetime.datetime(1983, 3, 2, 0, 0))],\n",
       " None]"
      ]
     },
     "execution_count": 15,
     "metadata": {},
     "output_type": "execute_result"
    }
   ],
   "source": [
    "[search_dates(d) for d in sample_dates]"
   ]
  },
  {
   "cell_type": "markdown",
   "metadata": {},
   "source": [
    "## `heritageconnector` (year only)\n",
    "this exists in `heritageconnector.entity_matching.filtering.Filter`, and should be moved if we use it for ETL"
   ]
  },
  {
   "cell_type": "code",
   "execution_count": 25,
   "metadata": {},
   "outputs": [],
   "source": [
    "import re\n",
    "\n",
    "def get_year_from_date_value(datestring: str) -> int:\n",
    "    \"\"\"\n",
    "    Looks for a year mention in a date-like string by finding a run of 1-4 digits if BCE, \n",
    "    or 4 digits if not BCE.\n",
    "\n",
    "    Returns None if no date found, the date if only 1 is found, the average of the two if \n",
    "    two dates are found, and the first date if more than 2 dates are found.\n",
    "\n",
    "    Args:\n",
    "        date (str)\n",
    "\n",
    "    Returns:\n",
    "        str:\n",
    "    \"\"\"\n",
    "\n",
    "    datestring = str(datestring)\n",
    "\n",
    "    if \"BCE\" in datestring:\n",
    "        datestring = datestring.replace(\"BCE\", \"\").strip()\n",
    "        year_matches = re.findall(r\"(\\d{1,4})\", datestring)\n",
    "        # BCE dates are recorded in Wikidata as negative years\n",
    "        year_matches = [-1 * int(match) for match in year_matches]\n",
    "\n",
    "    else:\n",
    "        # look for (\\d{4)) - avoiding trying to convert \"about 1984ish\" into\n",
    "        # a date format using datetime\n",
    "        year_matches = re.findall(r\"(\\d{4})\", datestring)\n",
    "\n",
    "    try:\n",
    "        if len(year_matches) == 0:\n",
    "            return None\n",
    "        elif len(year_matches) == 1 or len(year_matches) > 2:\n",
    "            return int(year_matches[0])\n",
    "        elif len(year_matches) == 2:\n",
    "            # assume in the format \"333-345 BCE\" / \"1983-1984\"\n",
    "            return (int(year_matches[0]) + int(year_matches[1])) / 2\n",
    "    except ValueError as e:\n",
    "        print(e)"
   ]
  },
  {
   "cell_type": "code",
   "execution_count": 26,
   "metadata": {},
   "outputs": [
    {
     "data": {
      "text/plain": [
       "[1792, 1791, 1958, 1983, 1550.5]"
      ]
     },
     "execution_count": 26,
     "metadata": {},
     "output_type": "execute_result"
    }
   ],
   "source": [
    "[get_year_from_date_value(d) for d in sample_dates]"
   ]
  },
  {
   "cell_type": "code",
   "execution_count": null,
   "metadata": {},
   "outputs": [],
   "source": []
  }
 ],
 "metadata": {
  "kernelspec": {
   "display_name": "Python 3",
   "language": "python",
   "name": "python3"
  },
  "language_info": {
   "codemirror_mode": {
    "name": "ipython",
    "version": 3
   },
   "file_extension": ".py",
   "mimetype": "text/x-python",
   "name": "python",
   "nbconvert_exporter": "python",
   "pygments_lexer": "ipython3",
   "version": "3.7.4"
  }
 },
 "nbformat": 4,
 "nbformat_minor": 4
}
