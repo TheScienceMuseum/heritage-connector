{
 "cells": [
  {
   "cell_type": "markdown",
   "metadata": {},
   "source": [
    "# 2a. post results using `entities_search_engine`\n",
    "This uses the `entities_search_engine` endpoint that makes a `wbgetentities` call using the entities, and bulk posts the result to ES.\n",
    "\n",
    "**Results:**\n",
    "* 40,000 records in pages of 1,000 takes ~21 minutes.\n",
    "* we'd expect all humans to take roughly 65 hours to load into ES."
   ]
  },
  {
   "cell_type": "code",
   "execution_count": 13,
   "metadata": {},
   "outputs": [
    {
     "data": {
      "text/plain": [
       "178"
      ]
     },
     "execution_count": 13,
     "metadata": {},
     "output_type": "execute_result"
    }
   ],
   "source": [
    "import requests\n",
    "import json\n",
    "import glob\n",
    "from tqdm import tqdm\n",
    "\n",
    "data_folder = \"./data/humans\"\n",
    "file_list = sorted(glob.glob(data_folder + \"/*.json\"))\n",
    "ese_endpoint = \"http://localhost:3213\"\n",
    "\n",
    "len(file_list)"
   ]
  },
  {
   "cell_type": "code",
   "execution_count": 17,
   "metadata": {},
   "outputs": [
    {
     "name": "stderr",
     "output_type": "stream",
     "text": [
      "100%|██████████| 40/40 [21:31<00:00, 32.29s/it]\n"
     ]
    }
   ],
   "source": [
    "file = file_list[0]\n",
    "failed_entities = []\n",
    "page_size=1000\n",
    "\n",
    "with open(file, 'r') as f:\n",
    "    d = json.load(f)\n",
    "    entities = d[\"humans\"]\n",
    "    \n",
    "    pages = [entities[i : i + page_size] for i in range(0, len(entities), page_size)]\n",
    "    \n",
    "    for page in tqdm(pages):\n",
    "        r = requests.post(ese_endpoint, json={\"humans\": page})\n",
    "        \n",
    "        if r.status_code != 200:\n",
    "            print(r.status_code)\n",
    "            failed_entities.append(page)"
   ]
  },
  {
   "cell_type": "code",
   "execution_count": null,
   "metadata": {},
   "outputs": [],
   "source": []
  }
 ],
 "metadata": {
  "kernelspec": {
   "display_name": "Python 3",
   "language": "python",
   "name": "python3"
  },
  "language_info": {
   "codemirror_mode": {
    "name": "ipython",
    "version": 3
   },
   "file_extension": ".py",
   "mimetype": "text/x-python",
   "name": "python",
   "nbconvert_exporter": "python",
   "pygments_lexer": "ipython3",
   "version": "3.7.4"
  }
 },
 "nbformat": 4,
 "nbformat_minor": 4
}
