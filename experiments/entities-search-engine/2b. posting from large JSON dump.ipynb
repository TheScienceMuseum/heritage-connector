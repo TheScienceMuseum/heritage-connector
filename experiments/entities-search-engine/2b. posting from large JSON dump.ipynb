{
 "cells": [
  {
   "cell_type": "markdown",
   "metadata": {},
   "source": [
    "# 2b. Posting to Elasticsearch from (large) Wikidata dump\n",
    "Dump has been created using [wikibase-dump-filter](https://github.com/maxlath/wikibase-dump-filter/)."
   ]
  },
  {
   "cell_type": "code",
   "execution_count": 1,
   "metadata": {},
   "outputs": [],
   "source": [
    "import sys\n",
    "sys.path.append(\"../..\")\n",
    "\n",
    "from heritageconnector.config import config\n",
    "\n",
    "import json\n",
    "from itertools import islice\n",
    "from tqdm.auto import tqdm\n",
    "from elasticsearch import Elasticsearch\n",
    "from elasticsearch.helpers import parallel_bulk\n",
    "\n",
    "dump_path = \"/Volumes/Kalyan SSD/SMG/wikidata/humans_en.ndjson\""
   ]
  },
  {
   "cell_type": "markdown",
   "metadata": {},
   "source": [
    "Lazily create pages and push to ES using the [bulk ingest helper](https://github.com/elastic/elasticsearch-py/blob/master/examples/bulk-ingest/bulk-ingest.py):"
   ]
  },
  {
   "cell_type": "code",
   "execution_count": 2,
   "metadata": {},
   "outputs": [],
   "source": [
    "num_docs = None\n",
    "\n",
    "def get_data_length():\n",
    "    # this takes ages\n",
    "    with open(dump_path) as f:\n",
    "        return sum([1 for _ in f]) - 1\n",
    "    \n",
    "def process_doc(doc, properties=['P31'], lang='en'):\n",
    "    newdoc = {\n",
    "        \"id\": doc['id']\n",
    "    }\n",
    "    \n",
    "    # add label(s)\n",
    "    if lang in doc['labels']:\n",
    "        newdoc['labels'] = doc['labels'][lang]['value']\n",
    "\n",
    "    # add descriptions(s)\n",
    "    if lang in doc['descriptions']:\n",
    "        newdoc['descriptions'] = doc['descriptions'][lang]['value']\n",
    "        \n",
    "    # add aliases\n",
    "    if (len(doc['aliases']) > 0) and (lang in doc['aliases']):\n",
    "        newdoc['aliases'] = [i['value'] for i in doc['aliases'][lang]]\n",
    "    else:\n",
    "        newdoc['aliases'] = []\n",
    "        \n",
    "    # add claims (property values)\n",
    "    newdoc['claims'] = {}\n",
    "    \n",
    "    for p in properties:\n",
    "        if p in doc['claims']:\n",
    "            newdoc['claims'][p] = [i['mainsnak']['datavalue']['value']['id'] for i in doc['claims'][p]]\n",
    "        \n",
    "    return newdoc\n",
    "\n",
    "def generate_actions():\n",
    "    with open(dump_path) as f:\n",
    "        objects = (json.loads(line) for line in f)\n",
    "\n",
    "        # optionally limit number that are loaded\n",
    "        if num_docs is not None:\n",
    "            objects = islice(objects, num_docs)\n",
    "                \n",
    "        for item in objects:\n",
    "            # TODO: clean up with english-only dump\n",
    "            doc = process_doc(item)\n",
    "            \n",
    "            yield doc #doc/item"
   ]
  },
  {
   "cell_type": "code",
   "execution_count": 3,
   "metadata": {},
   "outputs": [
    {
     "data": {
      "text/plain": [
       "{'id': 'Q1868',\n",
       " 'labels': 'Paul Otlet',\n",
       " 'descriptions': 'Belgian author, librarian and colonial thinker',\n",
       " 'aliases': ['Paul Marie Ghislain Otlet', 'Paul Marie Otlet'],\n",
       " 'claims': {'P31': ['Q5']}}"
      ]
     },
     "execution_count": 3,
     "metadata": {},
     "output_type": "execute_result"
    }
   ],
   "source": [
    "next(generate_actions())"
   ]
  },
  {
   "cell_type": "code",
   "execution_count": 4,
   "metadata": {},
   "outputs": [
    {
     "name": "stdout",
     "output_type": "stream",
     "text": [
      "Indexing documents...\n"
     ]
    },
    {
     "data": {
      "application/vnd.jupyter.widget-view+json": {
       "model_id": "af9fc1bedc814e3e8965c6190ea83558",
       "version_major": 2,
       "version_minor": 0
      },
      "text/plain": [
       "HBox(children=(FloatProgress(value=1.0, bar_style='info', max=1.0), HTML(value='')))"
      ]
     },
     "metadata": {},
     "output_type": "display_data"
    },
    {
     "name": "stdout",
     "output_type": "stream",
     "text": [
      "\n"
     ]
    },
    {
     "ename": "TypeError",
     "evalue": "%d format: a number is required, not NoneType",
     "output_type": "error",
     "traceback": [
      "\u001b[0;31m---------------------------------------------------------------------------\u001b[0m",
      "\u001b[0;31mTypeError\u001b[0m                                 Traceback (most recent call last)",
      "\u001b[0;32m<ipython-input-4-d37c7f4eac9d>\u001b[0m in \u001b[0;36m<module>\u001b[0;34m\u001b[0m\n\u001b[1;32m     19\u001b[0m     \u001b[0msuccesses\u001b[0m \u001b[0;34m+=\u001b[0m \u001b[0mok\u001b[0m\u001b[0;34m\u001b[0m\u001b[0;34m\u001b[0m\u001b[0m\n\u001b[1;32m     20\u001b[0m \u001b[0;34m\u001b[0m\u001b[0m\n\u001b[0;32m---> 21\u001b[0;31m \u001b[0mprint\u001b[0m\u001b[0;34m(\u001b[0m\u001b[0;34m\"Indexed %d/%d documents\"\u001b[0m \u001b[0;34m%\u001b[0m \u001b[0;34m(\u001b[0m\u001b[0msuccesses\u001b[0m\u001b[0;34m,\u001b[0m \u001b[0mnum_docs\u001b[0m\u001b[0;34m)\u001b[0m\u001b[0;34m)\u001b[0m\u001b[0;34m\u001b[0m\u001b[0;34m\u001b[0m\u001b[0m\n\u001b[0m",
      "\u001b[0;31mTypeError\u001b[0m: %d format: a number is required, not NoneType"
     ]
    }
   ],
   "source": [
    "es_index = 'wikidump_humans'\n",
    "chunk_size = 1000 # default 500\n",
    "queue_size = 8\n",
    "\n",
    "es = Elasticsearch(\n",
    "        [config.ELASTIC_SEARCH_CLUSTER],\n",
    "        http_auth=(config.ELASTIC_SEARCH_USER, config.ELASTIC_SEARCH_PASSWORD),\n",
    "    )\n",
    "es.indices.create(index=es_index, ignore=400)\n",
    "\n",
    "print(\"Indexing documents...\")\n",
    "\n",
    "successes = 0\n",
    "errors = []\n",
    "for ok, action in tqdm(parallel_bulk(client=es, index=es_index, actions=generate_actions(), chunk_size=chunk_size, queue_size=queue_size), total=num_docs):\n",
    "    if not ok:\n",
    "        print(action)\n",
    "        errors.append(action)\n",
    "    successes += ok\n",
    "    \n",
    "print(\"Indexed %d/%d documents\" % (successes, num_docs))"
   ]
  },
  {
   "cell_type": "code",
   "execution_count": null,
   "metadata": {},
   "outputs": [],
   "source": []
  }
 ],
 "metadata": {
  "kernelspec": {
   "display_name": "Python 3",
   "language": "python",
   "name": "python3"
  },
  "language_info": {
   "codemirror_mode": {
    "name": "ipython",
    "version": 3
   },
   "file_extension": ".py",
   "mimetype": "text/x-python",
   "name": "python",
   "nbconvert_exporter": "python",
   "pygments_lexer": "ipython3",
   "version": "3.7.4"
  }
 },
 "nbformat": 4,
 "nbformat_minor": 4
}
