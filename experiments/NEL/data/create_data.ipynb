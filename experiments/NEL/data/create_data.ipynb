{
 "cells": [
  {
   "cell_type": "markdown",
   "id": "young-document",
   "metadata": {},
   "source": [
    "install libraries just for this notebook:"
   ]
  },
  {
   "cell_type": "code",
   "execution_count": 1,
   "id": "overall-synthesis",
   "metadata": {},
   "outputs": [
    {
     "name": "stdout",
     "output_type": "stream",
     "text": [
      "Requirement already satisfied: rich in /Users/kalyan/.pyenv/versions/3.9.1/envs/hc/lib/python3.9/site-packages (9.9.0)\n",
      "Requirement already satisfied: commonmark<0.10.0,>=0.9.0 in /Users/kalyan/.pyenv/versions/3.9.1/envs/hc/lib/python3.9/site-packages (from rich) (0.9.1)\n",
      "Requirement already satisfied: typing-extensions<4.0.0,>=3.7.4 in /Users/kalyan/.pyenv/versions/3.9.1/envs/hc/lib/python3.9/site-packages (from rich) (3.7.4.3)\n",
      "Requirement already satisfied: colorama<0.5.0,>=0.4.0 in /Users/kalyan/.pyenv/versions/3.9.1/envs/hc/lib/python3.9/site-packages (from rich) (0.4.4)\n",
      "Requirement already satisfied: pygments<3.0.0,>=2.6.0 in /Users/kalyan/.pyenv/versions/3.9.1/envs/hc/lib/python3.9/site-packages (from rich) (2.7.4)\n",
      "\u001b[33mWARNING: You are using pip version 20.3.3; however, version 21.0 is available.\n",
      "You should consider upgrading via the '/Users/kalyan/.pyenv/versions/3.9.1/envs/hc/bin/python -m pip install --upgrade pip' command.\u001b[0m\n",
      "Requirement already satisfied: ipywidgets in /Users/kalyan/.pyenv/versions/3.9.1/envs/hc/lib/python3.9/site-packages (7.6.3)\n",
      "Requirement already satisfied: traitlets>=4.3.1 in /Users/kalyan/.pyenv/versions/3.9.1/envs/hc/lib/python3.9/site-packages (from ipywidgets) (5.0.5)\n",
      "Requirement already satisfied: ipykernel>=4.5.1 in /Users/kalyan/.pyenv/versions/3.9.1/envs/hc/lib/python3.9/site-packages (from ipywidgets) (5.4.3)\n",
      "Requirement already satisfied: widgetsnbextension~=3.5.0 in /Users/kalyan/.pyenv/versions/3.9.1/envs/hc/lib/python3.9/site-packages (from ipywidgets) (3.5.1)\n",
      "Requirement already satisfied: nbformat>=4.2.0 in /Users/kalyan/.pyenv/versions/3.9.1/envs/hc/lib/python3.9/site-packages (from ipywidgets) (5.1.2)\n",
      "Requirement already satisfied: jupyterlab-widgets>=1.0.0 in /Users/kalyan/.pyenv/versions/3.9.1/envs/hc/lib/python3.9/site-packages (from ipywidgets) (1.0.0)\n",
      "Requirement already satisfied: ipython>=4.0.0 in /Users/kalyan/.pyenv/versions/3.9.1/envs/hc/lib/python3.9/site-packages (from ipywidgets) (7.19.0)\n",
      "Requirement already satisfied: jupyter-client in /Users/kalyan/.pyenv/versions/3.9.1/envs/hc/lib/python3.9/site-packages (from ipykernel>=4.5.1->ipywidgets) (6.1.11)\n",
      "Requirement already satisfied: tornado>=4.2 in /Users/kalyan/.pyenv/versions/3.9.1/envs/hc/lib/python3.9/site-packages (from ipykernel>=4.5.1->ipywidgets) (6.1)\n",
      "Requirement already satisfied: appnope in /Users/kalyan/.pyenv/versions/3.9.1/envs/hc/lib/python3.9/site-packages (from ipykernel>=4.5.1->ipywidgets) (0.1.2)\n",
      "Requirement already satisfied: pexpect>4.3 in /Users/kalyan/.pyenv/versions/3.9.1/envs/hc/lib/python3.9/site-packages (from ipython>=4.0.0->ipywidgets) (4.8.0)\n",
      "Requirement already satisfied: decorator in /Users/kalyan/.pyenv/versions/3.9.1/envs/hc/lib/python3.9/site-packages (from ipython>=4.0.0->ipywidgets) (4.4.2)\n",
      "Requirement already satisfied: pickleshare in /Users/kalyan/.pyenv/versions/3.9.1/envs/hc/lib/python3.9/site-packages (from ipython>=4.0.0->ipywidgets) (0.7.5)\n",
      "Requirement already satisfied: backcall in /Users/kalyan/.pyenv/versions/3.9.1/envs/hc/lib/python3.9/site-packages (from ipython>=4.0.0->ipywidgets) (0.2.0)\n",
      "Requirement already satisfied: setuptools>=18.5 in /Users/kalyan/.pyenv/versions/3.9.1/envs/hc/lib/python3.9/site-packages (from ipython>=4.0.0->ipywidgets) (51.3.3)\n",
      "Requirement already satisfied: pygments in /Users/kalyan/.pyenv/versions/3.9.1/envs/hc/lib/python3.9/site-packages (from ipython>=4.0.0->ipywidgets) (2.7.4)\n",
      "Requirement already satisfied: prompt-toolkit!=3.0.0,!=3.0.1,<3.1.0,>=2.0.0 in /Users/kalyan/.pyenv/versions/3.9.1/envs/hc/lib/python3.9/site-packages (from ipython>=4.0.0->ipywidgets) (3.0.14)\n",
      "Requirement already satisfied: jedi>=0.10 in /Users/kalyan/.pyenv/versions/3.9.1/envs/hc/lib/python3.9/site-packages (from ipython>=4.0.0->ipywidgets) (0.18.0)\n",
      "Requirement already satisfied: parso<0.9.0,>=0.8.0 in /Users/kalyan/.pyenv/versions/3.9.1/envs/hc/lib/python3.9/site-packages (from jedi>=0.10->ipython>=4.0.0->ipywidgets) (0.8.1)\n",
      "Requirement already satisfied: ipython-genutils in /Users/kalyan/.pyenv/versions/3.9.1/envs/hc/lib/python3.9/site-packages (from nbformat>=4.2.0->ipywidgets) (0.2.0)\n",
      "Requirement already satisfied: jupyter-core in /Users/kalyan/.pyenv/versions/3.9.1/envs/hc/lib/python3.9/site-packages (from nbformat>=4.2.0->ipywidgets) (4.7.0)\n",
      "Requirement already satisfied: jsonschema!=2.5.0,>=2.4 in /Users/kalyan/.pyenv/versions/3.9.1/envs/hc/lib/python3.9/site-packages (from nbformat>=4.2.0->ipywidgets) (3.2.0)\n",
      "Requirement already satisfied: six>=1.11.0 in /Users/kalyan/.pyenv/versions/3.9.1/envs/hc/lib/python3.9/site-packages (from jsonschema!=2.5.0,>=2.4->nbformat>=4.2.0->ipywidgets) (1.15.0)\n",
      "Requirement already satisfied: pyrsistent>=0.14.0 in /Users/kalyan/.pyenv/versions/3.9.1/envs/hc/lib/python3.9/site-packages (from jsonschema!=2.5.0,>=2.4->nbformat>=4.2.0->ipywidgets) (0.17.3)\n",
      "Requirement already satisfied: attrs>=17.4.0 in /Users/kalyan/.pyenv/versions/3.9.1/envs/hc/lib/python3.9/site-packages (from jsonschema!=2.5.0,>=2.4->nbformat>=4.2.0->ipywidgets) (20.3.0)\n",
      "Requirement already satisfied: ptyprocess>=0.5 in /Users/kalyan/.pyenv/versions/3.9.1/envs/hc/lib/python3.9/site-packages (from pexpect>4.3->ipython>=4.0.0->ipywidgets) (0.7.0)\n",
      "Requirement already satisfied: wcwidth in /Users/kalyan/.pyenv/versions/3.9.1/envs/hc/lib/python3.9/site-packages (from prompt-toolkit!=3.0.0,!=3.0.1,<3.1.0,>=2.0.0->ipython>=4.0.0->ipywidgets) (0.2.5)\n",
      "Requirement already satisfied: notebook>=4.4.1 in /Users/kalyan/.pyenv/versions/3.9.1/envs/hc/lib/python3.9/site-packages (from widgetsnbextension~=3.5.0->ipywidgets) (6.2.0)\n",
      "Requirement already satisfied: argon2-cffi in /Users/kalyan/.pyenv/versions/3.9.1/envs/hc/lib/python3.9/site-packages (from notebook>=4.4.1->widgetsnbextension~=3.5.0->ipywidgets) (20.1.0)\n",
      "Requirement already satisfied: pyzmq>=17 in /Users/kalyan/.pyenv/versions/3.9.1/envs/hc/lib/python3.9/site-packages (from notebook>=4.4.1->widgetsnbextension~=3.5.0->ipywidgets) (21.0.1)\n",
      "Requirement already satisfied: terminado>=0.8.3 in /Users/kalyan/.pyenv/versions/3.9.1/envs/hc/lib/python3.9/site-packages (from notebook>=4.4.1->widgetsnbextension~=3.5.0->ipywidgets) (0.9.2)\n",
      "Requirement already satisfied: nbconvert in /Users/kalyan/.pyenv/versions/3.9.1/envs/hc/lib/python3.9/site-packages (from notebook>=4.4.1->widgetsnbextension~=3.5.0->ipywidgets) (6.0.7)\n",
      "Requirement already satisfied: prometheus-client in /Users/kalyan/.pyenv/versions/3.9.1/envs/hc/lib/python3.9/site-packages (from notebook>=4.4.1->widgetsnbextension~=3.5.0->ipywidgets) (0.9.0)\n",
      "Requirement already satisfied: Send2Trash>=1.5.0 in /Users/kalyan/.pyenv/versions/3.9.1/envs/hc/lib/python3.9/site-packages (from notebook>=4.4.1->widgetsnbextension~=3.5.0->ipywidgets) (1.5.0)\n",
      "Requirement already satisfied: jinja2 in /Users/kalyan/.pyenv/versions/3.9.1/envs/hc/lib/python3.9/site-packages (from notebook>=4.4.1->widgetsnbextension~=3.5.0->ipywidgets) (2.11.2)\n",
      "Requirement already satisfied: python-dateutil>=2.1 in /Users/kalyan/.pyenv/versions/3.9.1/envs/hc/lib/python3.9/site-packages (from jupyter-client->ipykernel>=4.5.1->ipywidgets) (2.8.1)\n",
      "Requirement already satisfied: cffi>=1.0.0 in /Users/kalyan/.pyenv/versions/3.9.1/envs/hc/lib/python3.9/site-packages (from argon2-cffi->notebook>=4.4.1->widgetsnbextension~=3.5.0->ipywidgets) (1.14.4)\n",
      "Requirement already satisfied: pycparser in /Users/kalyan/.pyenv/versions/3.9.1/envs/hc/lib/python3.9/site-packages (from cffi>=1.0.0->argon2-cffi->notebook>=4.4.1->widgetsnbextension~=3.5.0->ipywidgets) (2.20)\n",
      "Requirement already satisfied: MarkupSafe>=0.23 in /Users/kalyan/.pyenv/versions/3.9.1/envs/hc/lib/python3.9/site-packages (from jinja2->notebook>=4.4.1->widgetsnbextension~=3.5.0->ipywidgets) (1.1.1)\n",
      "Requirement already satisfied: pandocfilters>=1.4.1 in /Users/kalyan/.pyenv/versions/3.9.1/envs/hc/lib/python3.9/site-packages (from nbconvert->notebook>=4.4.1->widgetsnbextension~=3.5.0->ipywidgets) (1.4.3)\n",
      "Requirement already satisfied: nbclient<0.6.0,>=0.5.0 in /Users/kalyan/.pyenv/versions/3.9.1/envs/hc/lib/python3.9/site-packages (from nbconvert->notebook>=4.4.1->widgetsnbextension~=3.5.0->ipywidgets) (0.5.1)\n",
      "Requirement already satisfied: entrypoints>=0.2.2 in /Users/kalyan/.pyenv/versions/3.9.1/envs/hc/lib/python3.9/site-packages (from nbconvert->notebook>=4.4.1->widgetsnbextension~=3.5.0->ipywidgets) (0.3)\n",
      "Requirement already satisfied: bleach in /Users/kalyan/.pyenv/versions/3.9.1/envs/hc/lib/python3.9/site-packages (from nbconvert->notebook>=4.4.1->widgetsnbextension~=3.5.0->ipywidgets) (3.2.2)\n",
      "Requirement already satisfied: testpath in /Users/kalyan/.pyenv/versions/3.9.1/envs/hc/lib/python3.9/site-packages (from nbconvert->notebook>=4.4.1->widgetsnbextension~=3.5.0->ipywidgets) (0.4.4)\n",
      "Requirement already satisfied: jupyterlab-pygments in /Users/kalyan/.pyenv/versions/3.9.1/envs/hc/lib/python3.9/site-packages (from nbconvert->notebook>=4.4.1->widgetsnbextension~=3.5.0->ipywidgets) (0.1.2)\n",
      "Requirement already satisfied: mistune<2,>=0.8.1 in /Users/kalyan/.pyenv/versions/3.9.1/envs/hc/lib/python3.9/site-packages (from nbconvert->notebook>=4.4.1->widgetsnbextension~=3.5.0->ipywidgets) (0.8.4)\n",
      "Requirement already satisfied: defusedxml in /Users/kalyan/.pyenv/versions/3.9.1/envs/hc/lib/python3.9/site-packages (from nbconvert->notebook>=4.4.1->widgetsnbextension~=3.5.0->ipywidgets) (0.6.0)\n",
      "Requirement already satisfied: async-generator in /Users/kalyan/.pyenv/versions/3.9.1/envs/hc/lib/python3.9/site-packages (from nbclient<0.6.0,>=0.5.0->nbconvert->notebook>=4.4.1->widgetsnbextension~=3.5.0->ipywidgets) (1.10)\n",
      "Requirement already satisfied: nest-asyncio in /Users/kalyan/.pyenv/versions/3.9.1/envs/hc/lib/python3.9/site-packages (from nbclient<0.6.0,>=0.5.0->nbconvert->notebook>=4.4.1->widgetsnbextension~=3.5.0->ipywidgets) (1.4.3)\n",
      "Requirement already satisfied: webencodings in /Users/kalyan/.pyenv/versions/3.9.1/envs/hc/lib/python3.9/site-packages (from bleach->nbconvert->notebook>=4.4.1->widgetsnbextension~=3.5.0->ipywidgets) (0.5.1)\n",
      "Requirement already satisfied: packaging in /Users/kalyan/.pyenv/versions/3.9.1/envs/hc/lib/python3.9/site-packages (from bleach->nbconvert->notebook>=4.4.1->widgetsnbextension~=3.5.0->ipywidgets) (20.8)\n",
      "Requirement already satisfied: pyparsing>=2.0.2 in /Users/kalyan/.pyenv/versions/3.9.1/envs/hc/lib/python3.9/site-packages (from packaging->bleach->nbconvert->notebook>=4.4.1->widgetsnbextension~=3.5.0->ipywidgets) (2.4.7)\n",
      "\u001b[33mWARNING: You are using pip version 20.3.3; however, version 21.0 is available.\n",
      "You should consider upgrading via the '/Users/kalyan/.pyenv/versions/3.9.1/envs/hc/bin/python -m pip install --upgrade pip' command.\u001b[0m\n"
     ]
    }
   ],
   "source": [
    "!pip install rich\n",
    "!pip install ipywidgets"
   ]
  },
  {
   "cell_type": "code",
   "execution_count": 2,
   "id": "lesser-preserve",
   "metadata": {},
   "outputs": [
    {
     "name": "stdout",
     "output_type": "stream",
     "text": [
      "2021-01-27 16:58:03,540 - heritageconnector.datastore - DEBUG - Connected to Elasticsearch cluster at https://c4241473f2f84e2ab15c5b7c81eb34a4.eu-west-1.aws.found.io:9243/\n"
     ]
    }
   ],
   "source": [
    "%load_ext autoreload\n",
    "%autoreload 2\n",
    "\n",
    "import sys\n",
    "sys.path.append(\"../../..\")\n",
    "\n",
    "import spacy\n",
    "from tqdm.auto import tqdm\n",
    "from rich import print as rprint\n",
    "from IPython.display import clear_output\n",
    "import pickle\n",
    "import random\n",
    "\n",
    "from config.best_spacy_pipeline import load_model\n",
    "from heritageconnector.datastore import es, index\n",
    "from heritageconnector.disambiguation.search import es_text_search\n",
    "from heritageconnector.utils.generic import get_timestamp\n",
    "from es_utils import ElasticsearchConnector, simplify_document, get_hc_candidates, get_wiki_candidates"
   ]
  },
  {
   "cell_type": "code",
   "execution_count": 3,
   "id": "gentle-accreditation",
   "metadata": {},
   "outputs": [
    {
     "name": "stdout",
     "output_type": "stream",
     "text": [
      "2021-01-27 16:58:06,765 - hc_nlp.pipeline - INFO - Loading thesaurus from ../../../config/../GITIGNORE_DATA/labels_all_unambiguous_types_people_orgs.jsonl\n",
      "2021-01-27 16:58:08,057 - hc_nlp.pipeline - INFO - 17016 term thesaurus imported in 1s\n"
     ]
    }
   ],
   "source": [
    "nlp = load_model(\"en_core_web_trf\")"
   ]
  },
  {
   "cell_type": "markdown",
   "id": "canadian-advisory",
   "metadata": {},
   "source": [
    "## 1. Create dataset of NER-annotated record descriptions, with one annotation per record\n",
    "\n",
    "```python\n",
    "[(uri, doc), ...]\n",
    "```"
   ]
  },
  {
   "cell_type": "code",
   "execution_count": 4,
   "id": "transsexual-defensive",
   "metadata": {},
   "outputs": [],
   "source": [
    "# hc_doc_generator is paginated so that spaCy's nlp.pipe can be used\n",
    "no_docs = 1000\n",
    "batch_size = 100\n",
    "\n",
    "esc = ElasticsearchConnector(es, index)\n",
    "hc_doc_generator = esc.get_document_generator(limit=no_docs, batch_size=batch_size)"
   ]
  },
  {
   "cell_type": "code",
   "execution_count": 5,
   "id": "standing-night",
   "metadata": {},
   "outputs": [],
   "source": [
    "def ner_annotate_page_of_docs(hc_doc_list: list, nlp):\n",
    "    \"\"\"\n",
    "    Creates list of (uri, Doc: spacy.tokens.Doc) tuples from a list of (uri, text) tuples.\n",
    "    Each doc object only contains one entity annotation, meaning the output list will be larger than the input list.\n",
    "    \"\"\"\n",
    "    \n",
    "    ner_data = []\n",
    "    #     uris = [item[0] for item in hc_doc_list]\n",
    "    descriptions = [item[1] for item in hc_doc_list]\n",
    "    try:\n",
    "        docs = list(nlp.pipe(descriptions, batch_size=50, n_process=1))\n",
    "    except Exception as e:\n",
    "        print(descriptions)\n",
    "        raise e\n",
    "    \n",
    "    for idx, doc in enumerate(docs):\n",
    "        for ent in doc.ents:\n",
    "            tempdoc = spacy.tokens.Doc(nlp.vocab, words=[str(tok) for tok in doc])\n",
    "            tempdoc.ents = [ent]\n",
    "            \n",
    "            ner_data.append((hc_doc_list[idx][0], tempdoc))\n",
    "    \n",
    "    return ner_data"
   ]
  },
  {
   "cell_type": "code",
   "execution_count": 6,
   "id": "moved-sellers",
   "metadata": {},
   "outputs": [
    {
     "data": {
      "application/vnd.jupyter.widget-view+json": {
       "model_id": "6631d99841f547adb2515cee30d994f8",
       "version_major": 2,
       "version_minor": 0
      },
      "text/plain": [
       "  0%|          | 0/10.0 [00:00<?, ?it/s]"
      ]
     },
     "metadata": {},
     "output_type": "display_data"
    },
    {
     "data": {
      "text/plain": [
       "3120"
      ]
     },
     "execution_count": 6,
     "metadata": {},
     "output_type": "execute_result"
    }
   ],
   "source": [
    "\"\"\"\n",
    "Create a list of annotated docs (no longer paginated), with one annotation per doc.\n",
    "\n",
    "Output: [(uri, doc), ...]\n",
    "\"\"\"\n",
    "\n",
    "annotated_docs = []\n",
    "\n",
    "# with nlp.disable_pipes(['tok2vec', 'tagger', 'lemmatizer']):\n",
    "for doc_page in tqdm(hc_doc_generator, total=no_docs/batch_size):\n",
    "    annotated_docs += ner_annotate_page_of_docs(doc_page, nlp)\n",
    "        \n",
    "len(annotated_docs)\n"
   ]
  },
  {
   "cell_type": "code",
   "execution_count": 7,
   "id": "violent-slide",
   "metadata": {},
   "outputs": [
    {
     "data": {
      "text/plain": [
       "('https://collection.sciencemuseumgroup.org.uk/objects/co8410829',\n",
       " Box containing preformed curves used by Brockbank , Wilson and Mulliner in connection with the surveying of railway lines around Manchester )"
      ]
     },
     "execution_count": 7,
     "metadata": {},
     "output_type": "execute_result"
    }
   ],
   "source": [
    "annotated_docs[0]"
   ]
  },
  {
   "cell_type": "markdown",
   "id": "unavailable-cambodia",
   "metadata": {},
   "source": [
    "## 2. Candidate retrieval for entity mentions\n",
    "\n",
    "Get candidate matches for each entity match by looking up the entity span in the HC Elasticsearch index.\n",
    "\n",
    "Outputs `[(uri, doc, candidates), ...]`, where candidates is a dict with keys `uri`, `topconcept`, `label`, `description`."
   ]
  },
  {
   "cell_type": "code",
   "execution_count": 8,
   "id": "severe-botswana",
   "metadata": {},
   "outputs": [
    {
     "data": {
      "application/vnd.jupyter.widget-view+json": {
       "model_id": "6ddd74dcf8954e3f945e577b536b9153",
       "version_major": 2,
       "version_minor": 0
      },
      "text/plain": [
       "  0%|          | 0/3120 [00:00<?, ?it/s]"
      ]
     },
     "metadata": {},
     "output_type": "display_data"
    }
   ],
   "source": [
    "docs_with_candidates = []\n",
    "\n",
    "for uri, doc in tqdm(annotated_docs):\n",
    "    ent_text = doc.ents[0].text\n",
    "    candidates = get_hc_candidates(es, ent_text, limit=10)\n",
    "    \n",
    "    docs_with_candidates.append((uri, doc, candidates))\n",
    "    "
   ]
  },
  {
   "cell_type": "code",
   "execution_count": 9,
   "id": "helpful-basement",
   "metadata": {},
   "outputs": [
    {
     "name": "stdout",
     "output_type": "stream",
     "text": [
      "3120\n"
     ]
    },
    {
     "data": {
      "text/plain": [
       "('https://collection.sciencemuseumgroup.org.uk/objects/co8410829',\n",
       " Box containing preformed curves used by Brockbank , Wilson and Mulliner in connection with the surveying of railway lines around Manchester ,\n",
       " [{'uri': 'https://collection.sciencemuseumgroup.org.uk/objects/co8410829',\n",
       "   'topconcept': 'OBJECT',\n",
       "   'label': 'Box containing preformed curves used by Brockbank, Wilson and Mulliner',\n",
       "   'description': 'Box containing preformed curves used by Brockbank, Wilson and Mulliner in connection with the surveying of railway lines around Manchester'},\n",
       "  {'uri': 'https://collection.sciencemuseumgroup.org.uk/objects/co226954',\n",
       "   'topconcept': 'OBJECT',\n",
       "   'label': 'Ralph Brocklebank',\n",
       "   'description': 'Painting, oil on canvas. Ralph Brocklebank, London & North Western Railway, \"A Director of the LNWR .  Portrait was presented by his friends'},\n",
       "  {'uri': 'https://collection.sciencemuseumgroup.org.uk/people/cp86298',\n",
       "   'topconcept': 'PERSON',\n",
       "   'label': 'Gibson, William Wilson',\n",
       "   'description': 'object - 1979-21 \\n  \\n founded dispensing chemist \\'s shop in Hexham, England \"in the reign of King William IV\" (1830-1837)'},\n",
       "  {'uri': 'https://collection.sciencemuseumgroup.org.uk/objects/co419162',\n",
       "   'topconcept': 'OBJECT',\n",
       "   'label': 'Portrait of Ralph Brocklebank',\n",
       "   'description': 'Drawing, pencil and watercolour, portrait of Ralph Brocklebank of the London and North Western Railway, by C J Cropper, 18th January 1912.  '},\n",
       "  {'uri': 'https://collection.sciencemuseumgroup.org.uk/objects/co950',\n",
       "   'topconcept': 'OBJECT',\n",
       "   'label': 'Marine chronometer with Brockbanks-Peto cross dete',\n",
       "   'description': 'Marine chronometer with Brockbanks-Peto cross detent escapement. With brass case and hand'},\n",
       "  {'uri': 'https://collection.sciencemuseumgroup.org.uk/people/cp161001',\n",
       "   'topconcept': 'PERSON',\n",
       "   'label': 'Wilson',\n",
       "   'description': ' \\n  \\n active in London'},\n",
       "  {'uri': 'https://collection.sciencemuseumgroup.org.uk/people/cp160223',\n",
       "   'topconcept': 'PERSON',\n",
       "   'label': 'Wilson',\n",
       "   'description': 'from object \\n  \\n photographer employed by The Sun newspaper in the 1960s'},\n",
       "  {'uri': 'https://collection.sciencemuseumgroup.org.uk/people/cp125590',\n",
       "   'topconcept': 'PERSON',\n",
       "   'label': 'Wilson, Robert',\n",
       "   'description': 'NRM - Pictorial Collection inv. nos. 1977-7611, 7612 & 7613. \\n  \\n '},\n",
       "  {'uri': 'https://collection.sciencemuseumgroup.org.uk/people/cp133195',\n",
       "   'topconcept': 'PERSON',\n",
       "   'label': 'Wilson, J.',\n",
       "   'description': '1987-534 - Object Description \\n  \\n '},\n",
       "  {'uri': 'https://collection.sciencemuseumgroup.org.uk/people/cp106289',\n",
       "   'topconcept': 'PERSON',\n",
       "   'label': 'Wilson, Maurice',\n",
       "   'description': 'NRM Pictorial Coll \\n  \\n '}])"
      ]
     },
     "execution_count": 9,
     "metadata": {},
     "output_type": "execute_result"
    }
   ],
   "source": [
    "print(len(docs_with_candidates))\n",
    "\n",
    "docs_with_candidates[0]"
   ]
  },
  {
   "cell_type": "markdown",
   "id": "hybrid-london",
   "metadata": {},
   "source": [
    "## 3. Interface for labelling correct linked entity\n",
    "\n",
    "Input is one of:\n",
    "* `1-n`: choice of HC entity\n",
    "* `x`: 'none of above'\n",
    "* `https://collection.sciencemuseum...`: custom entity\n",
    "\n",
    "**First, we shuffle the list of records to annotate:**"
   ]
  },
  {
   "cell_type": "code",
   "execution_count": 10,
   "id": "frequent-nepal",
   "metadata": {},
   "outputs": [],
   "source": [
    "random.Random(42).shuffle(docs_with_candidates)"
   ]
  },
  {
   "cell_type": "code",
   "execution_count": 13,
   "id": "forty-marshall",
   "metadata": {},
   "outputs": [],
   "source": [
    "def display_annotation_interface_page(doc_with_candidates):\n",
    "    uri, doc, candidates = doc_with_candidates\n",
    "    \n",
    "    spacy.displacy.render(doc, style='ent')\n",
    "    rprint(f\"[link {uri}]🔗\")\n",
    "    print(\"\")\n",
    "    \n",
    "    for idx, c in enumerate(candidates):\n",
    "        rprint(f\"{idx+1}: [bold red]{c['label']}, {c['topconcept']}[/bold red] \\n[grey]{c['description']}[/grey] \\n{c['uri']} \\n \")\n",
    "        \n",
    "def annotate(number: int, offset: int = 0, save_to_disk = True, exclude_labels: list = [\"NORP\", \"LOC\", \"EVENT\", \"DATE\", \"QUANTITY\", \"FAC\", \"PERCENT\", \"CARDINAL\"]):\n",
    "    \"\"\"Launch annotation\"\"\"\n",
    "    records_to_annotate = docs_with_candidates[0 + offset:number + offset]\n",
    "    records_annotated = []\n",
    "    \n",
    "    for idx, record in enumerate(records_to_annotate):\n",
    "        uri, doc, candidates = record\n",
    "        \n",
    "        if doc.ents[0].label_ in exclude_labels:\n",
    "            continue\n",
    "        \n",
    "        rprint(f\"[green]{idx+1}/{len(records_to_annotate)}[/green]\")\n",
    "        display_annotation_interface_page(record)\n",
    "        user_input = input(\"> \")\n",
    "        \n",
    "        # TODO: number retrieved != number requested as some are skipped. Use while loop instead\n",
    "        \n",
    "        if user_input.isdigit():\n",
    "            user_input = int(user_input)\n",
    "            if user_input in range(1, len(candidates) + 1):\n",
    "                annotation = candidates[user_input - 1]['uri']\n",
    "        elif user_input == \"x\":\n",
    "            annotation = \"NO_MATCH\"\n",
    "        elif user_input.startswith(\"http\"):\n",
    "            annotation = user_input\n",
    "        elif user_input == \"q\":\n",
    "            rprint(\"[bold red]SESSION EXITED[/bold red]\")\n",
    "            break\n",
    "        else:\n",
    "            annotation = \"INVALID/SKIPPED\"\n",
    "        \n",
    "        records_annotated.append((uri, doc, candidates, annotation))\n",
    "        \n",
    "        clear_output()\n",
    "        \n",
    "    if save_to_disk:\n",
    "        strtime = get_timestamp()\n",
    "        with open(f\"annotations_{strtime}.pkl\", \"wb\") as f:\n",
    "            pickle.dump(records_annotated, f)\n",
    "        \n",
    "    return records_annotated\n",
    "\n",
    "def load_annotations_from_disk(file_path):\n",
    "    with open(file_path, \"rb\") as f:\n",
    "        a = pickle.load(f)\n",
    "\n",
    "    return a\n"
   ]
  },
  {
   "cell_type": "code",
   "execution_count": 14,
   "id": "sacred-disney",
   "metadata": {},
   "outputs": [
    {
     "data": {
      "text/html": [
       "<pre style=\"white-space:pre;overflow-x:auto;line-height:normal;font-family:Menlo,'DejaVu Sans Mono',consolas,'Courier New',monospace\"><span style=\"color: #008000; font-weight: bold\">51</span><span style=\"color: #008000\">/</span><span style=\"color: #008000; font-weight: bold\">500</span>\n",
       "</pre>\n"
      ],
      "text/plain": [
       "<rich.jupyter.JupyterRenderable at 0x18c294bb0>"
      ]
     },
     "metadata": {},
     "output_type": "display_data"
    },
    {
     "data": {
      "text/html": [
       "<span class=\"tex2jax_ignore\"><div class=\"entities\" style=\"line-height: 2.5; direction: ltr\">Menu , card , Menu , issued by \n",
       "<mark class=\"entity\" style=\"background: #7aecec; padding: 0.45em 0.6em; margin: 0 0.25em; line-height: 1; border-radius: 0.35em;\">\n",
       "    ScotRail\n",
       "    <span style=\"font-size: 0.8em; font-weight: bold; line-height: 1; border-radius: 0.35em; vertical-align: middle; margin-left: 0.5rem\">ORG</span>\n",
       "</mark>\n",
       " for onboard catering services , 2013 .   Advertises sandwiches , crisps , drinks , sweets etc . available for purchase ;   all items are illustrated .   Back cover bears the message ' We 're calling time on drinking alcohol after 9 pm ' .   Has a large number 9 with alcoholic drinks portrayed in the centre with a ' forbidden ' bar through them .   Note that alcoholic drinks are listed in the menu . </div></span>"
      ],
      "text/plain": [
       "<IPython.core.display.HTML object>"
      ]
     },
     "metadata": {},
     "output_type": "display_data"
    },
    {
     "data": {
      "text/html": [
       "<pre style=\"white-space:pre;overflow-x:auto;line-height:normal;font-family:Menlo,'DejaVu Sans Mono',consolas,'Courier New',monospace\"><a href=\"https://collection.sciencemuseumgroup.org.uk/objects/co8360508\">🔗</a>\n",
       "</pre>\n"
      ],
      "text/plain": [
       "<rich.jupyter.JupyterRenderable at 0x10f6887f0>"
      ]
     },
     "metadata": {},
     "output_type": "display_data"
    },
    {
     "name": "stdout",
     "output_type": "stream",
     "text": [
      "\n"
     ]
    },
    {
     "data": {
      "text/html": [
       "<pre style=\"white-space:pre;overflow-x:auto;line-height:normal;font-family:Menlo,'DejaVu Sans Mono',consolas,'Courier New',monospace\"><span style=\"color: #000080; font-weight: bold\">1</span>: <span style=\"color: #800000; font-weight: bold\">Scotrail, ORGANISATION</span> \n",
       " \n",
       "<span style=\"color: #0000ff; text-decoration: underline\">https://collection.sciencemuseumgroup.org.uk/people/cp16385</span> \n",
       " \n",
       "</pre>\n"
      ],
      "text/plain": [
       "<rich.jupyter.JupyterRenderable at 0x18c294bb0>"
      ]
     },
     "metadata": {},
     "output_type": "display_data"
    },
    {
     "data": {
      "text/html": [
       "<pre style=\"white-space:pre;overflow-x:auto;line-height:normal;font-family:Menlo,'DejaVu Sans Mono',consolas,'Courier New',monospace\"><span style=\"color: #000080; font-weight: bold\">2</span>: <span style=\"color: #800000; font-weight: bold\">Scotrail Sprinters, OBJECT</span> \n",
       "Timetable, Scotrail, <span style=\"color: #008000\">\"Scotrail Sprinters\"</span>, date made <span style=\"color: #000080; font-weight: bold\">1987</span>, single fold leaflet, timetable \n",
       "Edinburgh to Bathgate until <span style=\"color: #000080; font-weight: bold\">15</span> May <span style=\"color: #000080; font-weight: bold\">1988</span>, cover ill \n",
       "<span style=\"color: #0000ff; text-decoration: underline\">https://collection.sciencemuseumgroup.org.uk/objects/co8011862</span> \n",
       " \n",
       "</pre>\n"
      ],
      "text/plain": [
       "<rich.jupyter.JupyterRenderable at 0x18d02f3d0>"
      ]
     },
     "metadata": {},
     "output_type": "display_data"
    },
    {
     "data": {
      "text/html": [
       "<pre style=\"white-space:pre;overflow-x:auto;line-height:normal;font-family:Menlo,'DejaVu Sans Mono',consolas,'Courier New',monospace\"><span style=\"color: #000080; font-weight: bold\">3</span>: <span style=\"color: #800000; font-weight: bold\">First ScotRail, ORGANISATION</span> \n",
       " \n",
       "<span style=\"color: #0000ff; text-decoration: underline\">https://collection.sciencemuseumgroup.org.uk/people/cp135459</span> \n",
       " \n",
       "</pre>\n"
      ],
      "text/plain": [
       "<rich.jupyter.JupyterRenderable at 0x18c6711f0>"
      ]
     },
     "metadata": {},
     "output_type": "display_data"
    },
    {
     "data": {
      "text/html": [
       "<pre style=\"white-space:pre;overflow-x:auto;line-height:normal;font-family:Menlo,'DejaVu Sans Mono',consolas,'Courier New',monospace\"><span style=\"color: #000080; font-weight: bold\">4</span>: <span style=\"color: #800000; font-weight: bold\">Scotrail wash bag, OBJECT</span> \n",
       "Wash bag, Scotrail Railways Ltd, draw-string bag - blue with gold and white crescent moon \n",
       "design. Containing face cloth, foot mat, razor, to \n",
       "<span style=\"color: #0000ff; text-decoration: underline\">https://collection.sciencemuseumgroup.org.uk/objects/co427042</span> \n",
       " \n",
       "</pre>\n"
      ],
      "text/plain": [
       "<rich.jupyter.JupyterRenderable at 0x18cfadd30>"
      ]
     },
     "metadata": {},
     "output_type": "display_data"
    },
    {
     "data": {
      "text/html": [
       "<pre style=\"white-space:pre;overflow-x:auto;line-height:normal;font-family:Menlo,'DejaVu Sans Mono',consolas,'Courier New',monospace\"><span style=\"color: #000080; font-weight: bold\">5</span>: <span style=\"color: #800000; font-weight: bold\">Scotrail Engineering Operations, OBJECT</span> \n",
       "Timetable, Scotrail, <span style=\"color: #008000\">\"Scotrail Engineering Operations\"</span>, date made <span style=\"color: #000080; font-weight: bold\">1988</span>, train service \n",
       "alterations at weekends in February <span style=\"color: #000080; font-weight: bold\">1988</span> Glasgow, Edin \n",
       "<span style=\"color: #0000ff; text-decoration: underline\">https://collection.sciencemuseumgroup.org.uk/objects/co8011847</span> \n",
       " \n",
       "</pre>\n"
      ],
      "text/plain": [
       "<rich.jupyter.JupyterRenderable at 0x18c719430>"
      ]
     },
     "metadata": {},
     "output_type": "display_data"
    },
    {
     "data": {
      "text/html": [
       "<pre style=\"white-space:pre;overflow-x:auto;line-height:normal;font-family:Menlo,'DejaVu Sans Mono',consolas,'Courier New',monospace\"><span style=\"color: #000080; font-weight: bold\">6</span>: <span style=\"color: #800000; font-weight: bold\">British Railways (ScotRail) poster, OBJECT</span> \n",
       "British Railways <span style=\"font-weight: bold\">(</span>ScotRail<span style=\"font-weight: bold\">)</span> poster. Freedom of Scotland Rail Tickets, <span style=\"color: #000080; font-weight: bold\">6</span> January-<span style=\"color: #000080; font-weight: bold\">31</span> December \n",
       "<span style=\"color: #000080; font-weight: bold\">1985</span>, <span style=\"color: #000080; font-weight: bold\">7</span> or <span style=\"color: #000080; font-weight: bold\">14</span> day ticket, go where you like, whe \n",
       "<span style=\"color: #0000ff; text-decoration: underline\">https://collection.sciencemuseumgroup.org.uk/objects/co230219</span> \n",
       " \n",
       "</pre>\n"
      ],
      "text/plain": [
       "<rich.jupyter.JupyterRenderable at 0x18c294bb0>"
      ]
     },
     "metadata": {},
     "output_type": "display_data"
    },
    {
     "data": {
      "text/html": [
       "<pre style=\"white-space:pre;overflow-x:auto;line-height:normal;font-family:Menlo,'DejaVu Sans Mono',consolas,'Courier New',monospace\"><span style=\"color: #000080; font-weight: bold\">7</span>: <span style=\"color: #800000; font-weight: bold\">ScotRail. Investing for the future, OBJECT</span> \n",
       "Brochure, paper, ScotRail. Investing for the future, produced by ScotRail, <span style=\"color: #000080; font-weight: bold\">2009</span>.  Describes \n",
       "ScotRail's investments and future plans <span style=\"font-weight: bold\">(</span>ScotRai \n",
       "<span style=\"color: #0000ff; text-decoration: underline\">https://collection.sciencemuseumgroup.org.uk/objects/co8190114</span> \n",
       " \n",
       "</pre>\n"
      ],
      "text/plain": [
       "<rich.jupyter.JupyterRenderable at 0x18d02f3d0>"
      ]
     },
     "metadata": {},
     "output_type": "display_data"
    },
    {
     "data": {
      "text/html": [
       "<pre style=\"white-space:pre;overflow-x:auto;line-height:normal;font-family:Menlo,'DejaVu Sans Mono',consolas,'Courier New',monospace\"><span style=\"color: #000080; font-weight: bold\">8</span>: <span style=\"color: #800000; font-weight: bold\">Scotrail's Sprinter., OBJECT</span> \n",
       "Leaflet, Scotrail, <span style=\"color: #008000\">\"Scotrail's Sprinter\"</span>, date made <span style=\"color: #000080; font-weight: bold\">1987</span>, advertising introduction of \n",
       "Sprinter from <span style=\"color: #000080; font-weight: bold\">4</span> October <span style=\"color: #000080; font-weight: bold\">1987</span>, single fold leaflet, cov \n",
       "<span style=\"color: #0000ff; text-decoration: underline\">https://collection.sciencemuseumgroup.org.uk/objects/co8011767</span> \n",
       " \n",
       "</pre>\n"
      ],
      "text/plain": [
       "<rich.jupyter.JupyterRenderable at 0x18cc40c70>"
      ]
     },
     "metadata": {},
     "output_type": "display_data"
    },
    {
     "data": {
      "text/html": [
       "<pre style=\"white-space:pre;overflow-x:auto;line-height:normal;font-family:Menlo,'DejaVu Sans Mono',consolas,'Courier New',monospace\"><span style=\"color: #000080; font-weight: bold\">9</span>: <span style=\"color: #800000; font-weight: bold\">The Wee Arrochar Scotrail service tickets, OBJECT</span> \n",
       "Three railway tickets, British Rail <span style=\"font-weight: bold\">(</span>Scotrail<span style=\"font-weight: bold\">)</span>, commemorative of the centenary of West \n",
       "Highland line, <span style=\"color: #008000\">\"The Wee Arrochar\"</span> service, <span style=\"color: #000080; font-weight: bold\">8</span>-<span style=\"color: #000080; font-weight: bold\">13</span> Augus \n",
       "<span style=\"color: #0000ff; text-decoration: underline\">https://collection.sciencemuseumgroup.org.uk/objects/co520046</span> \n",
       " \n",
       "</pre>\n"
      ],
      "text/plain": [
       "<rich.jupyter.JupyterRenderable at 0x188019610>"
      ]
     },
     "metadata": {},
     "output_type": "display_data"
    },
    {
     "data": {
      "text/html": [
       "<pre style=\"white-space:pre;overflow-x:auto;line-height:normal;font-family:Menlo,'DejaVu Sans Mono',consolas,'Courier New',monospace\"><span style=\"color: #000080; font-weight: bold\">10</span>: <span style=\"color: #800000; font-weight: bold\">British Rail (CAS) poster for ScotRail, OBJECT</span> \n",
       "BR<span style=\"font-weight: bold\">(</span>CAS<span style=\"font-weight: bold\">)</span> poster for ScotRail. Rail Rovers. Freedom of Scotland - Enjoy the Best of Scotland by\n",
       "Train with a Rail Rover, <span style=\"color: #000080; font-weight: bold\">1991</span>. Photograph of b \n",
       "<span style=\"color: #0000ff; text-decoration: underline\">https://collection.sciencemuseumgroup.org.uk/objects/co228438</span> \n",
       " \n",
       "</pre>\n"
      ],
      "text/plain": [
       "<rich.jupyter.JupyterRenderable at 0x18d02f4f0>"
      ]
     },
     "metadata": {},
     "output_type": "display_data"
    },
    {
     "ename": "KeyboardInterrupt",
     "evalue": "Interrupted by user",
     "output_type": "error",
     "traceback": [
      "\u001b[0;31m---------------------------------------------------------------------------\u001b[0m",
      "\u001b[0;31mKeyboardInterrupt\u001b[0m                         Traceback (most recent call last)",
      "\u001b[0;32m<ipython-input-14-b2a65554bc4f>\u001b[0m in \u001b[0;36m<module>\u001b[0;34m\u001b[0m\n\u001b[0;32m----> 1\u001b[0;31m \u001b[0mannotation_results\u001b[0m \u001b[0;34m=\u001b[0m \u001b[0mannotate\u001b[0m\u001b[0;34m(\u001b[0m\u001b[0;36m500\u001b[0m\u001b[0;34m,\u001b[0m \u001b[0msave_to_disk\u001b[0m\u001b[0;34m=\u001b[0m\u001b[0;32mTrue\u001b[0m\u001b[0;34m)\u001b[0m\u001b[0;34m\u001b[0m\u001b[0;34m\u001b[0m\u001b[0m\n\u001b[0m",
      "\u001b[0;32m<ipython-input-13-374c9dbbc08f>\u001b[0m in \u001b[0;36mannotate\u001b[0;34m(number, offset, save_to_disk, exclude_labels)\u001b[0m\n\u001b[1;32m     22\u001b[0m         \u001b[0mrprint\u001b[0m\u001b[0;34m(\u001b[0m\u001b[0;34mf\"[green]{idx+1}/{len(records_to_annotate)}[/green]\"\u001b[0m\u001b[0;34m)\u001b[0m\u001b[0;34m\u001b[0m\u001b[0;34m\u001b[0m\u001b[0m\n\u001b[1;32m     23\u001b[0m         \u001b[0mdisplay_annotation_interface_page\u001b[0m\u001b[0;34m(\u001b[0m\u001b[0mrecord\u001b[0m\u001b[0;34m)\u001b[0m\u001b[0;34m\u001b[0m\u001b[0;34m\u001b[0m\u001b[0m\n\u001b[0;32m---> 24\u001b[0;31m         \u001b[0muser_input\u001b[0m \u001b[0;34m=\u001b[0m \u001b[0minput\u001b[0m\u001b[0;34m(\u001b[0m\u001b[0;34m\"> \"\u001b[0m\u001b[0;34m)\u001b[0m\u001b[0;34m\u001b[0m\u001b[0;34m\u001b[0m\u001b[0m\n\u001b[0m\u001b[1;32m     25\u001b[0m \u001b[0;34m\u001b[0m\u001b[0m\n\u001b[1;32m     26\u001b[0m         \u001b[0;31m# TODO: number retrieved != number requested as some are skipped. Use while loop instead\u001b[0m\u001b[0;34m\u001b[0m\u001b[0;34m\u001b[0m\u001b[0;34m\u001b[0m\u001b[0m\n",
      "\u001b[0;32m~/.pyenv/versions/3.9.1/envs/hc/lib/python3.9/site-packages/ipykernel/kernelbase.py\u001b[0m in \u001b[0;36mraw_input\u001b[0;34m(self, prompt)\u001b[0m\n\u001b[1;32m    855\u001b[0m                 \u001b[0;34m\"raw_input was called, but this frontend does not support input requests.\"\u001b[0m\u001b[0;34m\u001b[0m\u001b[0;34m\u001b[0m\u001b[0m\n\u001b[1;32m    856\u001b[0m             )\n\u001b[0;32m--> 857\u001b[0;31m         return self._input_request(str(prompt),\n\u001b[0m\u001b[1;32m    858\u001b[0m             \u001b[0mself\u001b[0m\u001b[0;34m.\u001b[0m\u001b[0m_parent_ident\u001b[0m\u001b[0;34m,\u001b[0m\u001b[0;34m\u001b[0m\u001b[0;34m\u001b[0m\u001b[0m\n\u001b[1;32m    859\u001b[0m             \u001b[0mself\u001b[0m\u001b[0;34m.\u001b[0m\u001b[0m_parent_header\u001b[0m\u001b[0;34m,\u001b[0m\u001b[0;34m\u001b[0m\u001b[0;34m\u001b[0m\u001b[0m\n",
      "\u001b[0;32m~/.pyenv/versions/3.9.1/envs/hc/lib/python3.9/site-packages/ipykernel/kernelbase.py\u001b[0m in \u001b[0;36m_input_request\u001b[0;34m(self, prompt, ident, parent, password)\u001b[0m\n\u001b[1;32m    899\u001b[0m             \u001b[0;32mexcept\u001b[0m \u001b[0mKeyboardInterrupt\u001b[0m\u001b[0;34m:\u001b[0m\u001b[0;34m\u001b[0m\u001b[0;34m\u001b[0m\u001b[0m\n\u001b[1;32m    900\u001b[0m                 \u001b[0;31m# re-raise KeyboardInterrupt, to truncate traceback\u001b[0m\u001b[0;34m\u001b[0m\u001b[0;34m\u001b[0m\u001b[0;34m\u001b[0m\u001b[0m\n\u001b[0;32m--> 901\u001b[0;31m                 \u001b[0;32mraise\u001b[0m \u001b[0mKeyboardInterrupt\u001b[0m\u001b[0;34m(\u001b[0m\u001b[0;34m\"Interrupted by user\"\u001b[0m\u001b[0;34m)\u001b[0m \u001b[0;32mfrom\u001b[0m \u001b[0;32mNone\u001b[0m\u001b[0;34m\u001b[0m\u001b[0;34m\u001b[0m\u001b[0m\n\u001b[0m\u001b[1;32m    902\u001b[0m             \u001b[0;32mexcept\u001b[0m \u001b[0mException\u001b[0m \u001b[0;32mas\u001b[0m \u001b[0me\u001b[0m\u001b[0;34m:\u001b[0m\u001b[0;34m\u001b[0m\u001b[0;34m\u001b[0m\u001b[0m\n\u001b[1;32m    903\u001b[0m                 \u001b[0mself\u001b[0m\u001b[0;34m.\u001b[0m\u001b[0mlog\u001b[0m\u001b[0;34m.\u001b[0m\u001b[0mwarning\u001b[0m\u001b[0;34m(\u001b[0m\u001b[0;34m\"Invalid Message:\"\u001b[0m\u001b[0;34m,\u001b[0m \u001b[0mexc_info\u001b[0m\u001b[0;34m=\u001b[0m\u001b[0;32mTrue\u001b[0m\u001b[0;34m)\u001b[0m\u001b[0;34m\u001b[0m\u001b[0;34m\u001b[0m\u001b[0m\n",
      "\u001b[0;31mKeyboardInterrupt\u001b[0m: Interrupted by user"
     ]
    }
   ],
   "source": [
    "annotation_results = annotate(500, save_to_disk=True)"
   ]
  },
  {
   "cell_type": "code",
   "execution_count": null,
   "id": "elegant-egypt",
   "metadata": {},
   "outputs": [],
   "source": [
    "annotation_results"
   ]
  },
  {
   "cell_type": "code",
   "execution_count": null,
   "id": "accessory-seminar",
   "metadata": {},
   "outputs": [],
   "source": []
  }
 ],
 "metadata": {
  "kernelspec": {
   "display_name": "Python 3",
   "language": "python",
   "name": "python3"
  },
  "language_info": {
   "codemirror_mode": {
    "name": "ipython",
    "version": 3
   },
   "file_extension": ".py",
   "mimetype": "text/x-python",
   "name": "python",
   "nbconvert_exporter": "python",
   "pygments_lexer": "ipython3",
   "version": "3.9.1"
  }
 },
 "nbformat": 4,
 "nbformat_minor": 5
}
