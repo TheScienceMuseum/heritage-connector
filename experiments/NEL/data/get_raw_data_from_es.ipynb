{
 "cells": [
  {
   "cell_type": "markdown",
   "id": "nominated-logic",
   "metadata": {},
   "source": [
    "# Getting test data from Elasticsearch\n",
    "\n",
    "Here we get a fixed number of documents from Elasticsearch using a random seed and store them in JSON format."
   ]
  },
  {
   "cell_type": "code",
   "execution_count": 19,
   "id": "billion-breakdown",
   "metadata": {},
   "outputs": [
    {
     "name": "stdout",
     "output_type": "stream",
     "text": [
      "The autoreload extension is already loaded. To reload it, use:\n",
      "  %reload_ext autoreload\n"
     ]
    }
   ],
   "source": [
    "%load_ext autoreload\n",
    "%autoreload 2\n",
    "\n",
    "import sys\n",
    "sys.path.append(\"../../..\")\n",
    "\n",
    "from heritageconnector.datastore import es, index\n",
    "from elasticsearch import helpers\n",
    "from tqdm.auto import tqdm\n",
    "from itertools import islice\n",
    "import json"
   ]
  },
  {
   "cell_type": "code",
   "execution_count": 20,
   "id": "leading-julian",
   "metadata": {},
   "outputs": [],
   "source": [
    "limit = None\n",
    "\n",
    "# only consider docs with both a label and description field\n",
    "query = {\n",
    "    \"query\": {\n",
    "        \"function_score\": {\n",
    "            \"query\": {\n",
    "                \"bool\": {\n",
    "                    \"must\": [\n",
    "                        {\"exists\": {\"field\": \"graph.@rdfs:label\"}},\n",
    "                        {\n",
    "                            \"exists\": {\n",
    "                                \"field\": \"data.http://www.w3.org/2001/XMLSchema#description\"\n",
    "                            }\n",
    "                        },\n",
    "                    ]\n",
    "                }\n",
    "            },\n",
    "            \"random_score\": {\"seed\": 42, \"field\": \"_seq_no\"},\n",
    "        }\n",
    "    }\n",
    "}\n",
    "\n",
    "doc_generator = helpers.scan(\n",
    "    client=es,\n",
    "    index=index,\n",
    "    query=query,\n",
    "    preserve_order=True,\n",
    ")\n",
    "\n",
    "if limit:\n",
    "    doc_generator = islice(doc_generator, limit)"
   ]
  },
  {
   "cell_type": "code",
   "execution_count": 21,
   "id": "bigger-paint",
   "metadata": {},
   "outputs": [
    {
     "data": {
      "application/vnd.jupyter.widget-view+json": {
       "model_id": "dcc9c2ed913c47fdae0329ce19c1be80",
       "version_major": 2,
       "version_minor": 0
      },
      "text/plain": [
       "0it [00:00, ?it/s]"
      ]
     },
     "metadata": {},
     "output_type": "display_data"
    }
   ],
   "source": [
    "# run export\n",
    "\n",
    "output_path = f\"./test_data_{limit}.jsonl\"\n",
    "\n",
    "with open(output_path, \"w\") as f:\n",
    "    for doc in tqdm(doc_generator):\n",
    "        json.dump(doc, f)\n",
    "        f.write(\"\\n\")"
   ]
  },
  {
   "cell_type": "code",
   "execution_count": null,
   "id": "surgical-pittsburgh",
   "metadata": {},
   "outputs": [],
   "source": []
  }
 ],
 "metadata": {
  "kernelspec": {
   "display_name": "Python 3",
   "language": "python",
   "name": "python3"
  },
  "language_info": {
   "codemirror_mode": {
    "name": "ipython",
    "version": 3
   },
   "file_extension": ".py",
   "mimetype": "text/x-python",
   "name": "python",
   "nbconvert_exporter": "python",
   "pygments_lexer": "ipython3",
   "version": "3.9.1"
  }
 },
 "nbformat": 4,
 "nbformat_minor": 5
}
