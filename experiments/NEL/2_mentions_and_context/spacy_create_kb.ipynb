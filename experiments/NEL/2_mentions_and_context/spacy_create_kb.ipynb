{
 "cells": [
  {
   "cell_type": "code",
   "execution_count": 2,
   "id": "nearby-founder",
   "metadata": {},
   "outputs": [],
   "source": [
    "from spacy.vocab import Vocab\n",
    "import spacy\n",
    "from spacy.kb import KnowledgeBase"
   ]
  },
  {
   "cell_type": "code",
   "execution_count": 6,
   "id": "accepted-coral",
   "metadata": {},
   "outputs": [
    {
     "data": {
      "text/plain": [
       "['tok2vec', 'tagger', 'parser', 'ner', 'attribute_ruler', 'lemmatizer']"
      ]
     },
     "execution_count": 6,
     "metadata": {},
     "output_type": "execute_result"
    }
   ],
   "source": [
    "model = \"en_core_web_lg\"\n",
    "nlp = spacy.load(model)\n",
    "nlp.pipe_names"
   ]
  },
  {
   "cell_type": "code",
   "execution_count": 8,
   "id": "surrounded-yahoo",
   "metadata": {},
   "outputs": [],
   "source": [
    "nlp_vec_length = nlp.vocab.vectors.shape[1]\n",
    "\n",
    "kb = KnowledgeBase(vocab=nlp.vocab, entity_vector_length=nlp_vec_length)"
   ]
  },
  {
   "cell_type": "code",
   "execution_count": null,
   "id": "imposed-system",
   "metadata": {},
   "outputs": [],
   "source": []
  }
 ],
 "metadata": {
  "kernelspec": {
   "display_name": "Python 3",
   "language": "python",
   "name": "python3"
  },
  "language_info": {
   "codemirror_mode": {
    "name": "ipython",
    "version": 3
   },
   "file_extension": ".py",
   "mimetype": "text/x-python",
   "name": "python",
   "nbconvert_exporter": "python",
   "pygments_lexer": "ipython3",
   "version": "3.9.1"
  }
 },
 "nbformat": 4,
 "nbformat_minor": 5
}
