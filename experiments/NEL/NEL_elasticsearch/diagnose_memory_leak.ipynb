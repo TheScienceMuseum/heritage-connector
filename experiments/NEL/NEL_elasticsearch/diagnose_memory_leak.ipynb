{
 "cells": [
  {
   "cell_type": "code",
   "execution_count": 12,
   "id": "vertical-deadline",
   "metadata": {},
   "outputs": [],
   "source": [
    "import sys\n",
    "sys.path.append(\"../../..\")\n",
    "\n",
    "from heritageconnector import datastore\n",
    "from heritageconnector.config import field_mapping\n",
    "from heritageconnector.best_spacy_pipeline import load_model\n",
    "from heritageconnector.datastore import es, index\n",
    "from smg_jobs.smg_loader import preprocess_text_for_ner\n",
    "\n",
    "import matplotlib.pyplot as plt\n",
    "\n",
    "import pandas as pd\n",
    "pd.options.display.max_rows = None\n",
    "pd.options.display.max_colwidth = None"
   ]
  },
  {
   "cell_type": "markdown",
   "id": "daily-brooklyn",
   "metadata": {},
   "source": [
    "### NERLoader"
   ]
  },
  {
   "cell_type": "code",
   "execution_count": 2,
   "id": "blind-wales",
   "metadata": {},
   "outputs": [],
   "source": [
    "source_description_field = target_description_field = \"data.http://www.w3.org/2001/XMLSchema#description\"\n",
    "target_title_field = \"graph.@rdfs:label.@value\"\n",
    "target_alias_field = \"graph.@skos:altLabel.@value\"\n",
    "target_type_field = \"graph.@skos:hasTopConcept.@value\"\n",
    "\n",
    "record_loader = datastore.RecordLoader(\"SMG\", field_mapping)\n",
    "ner_loader = datastore.NERLoader(\n",
    "    record_loader,\n",
    "    source_es_index = 'heritageconnector_test',\n",
    "    target_es_index = 'heritageconnector_test',\n",
    "    source_description_field = source_description_field, \n",
    "    target_title_field = target_title_field, \n",
    "    target_description_field = target_description_field, \n",
    "    target_type_field = target_type_field,\n",
    "    target_alias_field = target_alias_field,\n",
    "    entity_types_to_link={\"PERSON\", \"OBJECT\", \"ORG\"},\n",
    "    text_preprocess_func=preprocess_text_for_ner\n",
    ")"
   ]
  },
  {
   "cell_type": "code",
   "execution_count": 20,
   "id": "suited-slovenia",
   "metadata": {},
   "outputs": [
    {
     "name": "stdout",
     "output_type": "stream",
     "text": [
      "spacy tried to use GPU but failed\n",
      "2021-03-30 12:13:33,532 - hc_nlp.pipeline - INFO - Loading thesaurus from ../../../heritageconnector/../GITIGNORE_DATA/labels_all_unambiguous_types_people_orgs.jsonl\n",
      "2021-03-30 12:13:34,894 - hc_nlp.pipeline - INFO - 17016 term thesaurus imported in 1s\n"
     ]
    },
    {
     "data": {
      "text/plain": [
       "['transformer',\n",
       " 'tagger',\n",
       " 'parser',\n",
       " 'pattern_matcher',\n",
       " 'date_matcher',\n",
       " 'ner',\n",
       " 'thesaurus_matcher',\n",
       " 'attribute_ruler',\n",
       " 'lemmatizer',\n",
       " 'entity_filter',\n",
       " 'map_entity_types',\n",
       " 'entity_joiner',\n",
       " 'duplicate_entity_detector']"
      ]
     },
     "execution_count": 20,
     "metadata": {},
     "output_type": "execute_result"
    }
   ],
   "source": [
    "ner_loader._get_ner_model(\"en_core_web_trf\").pipe_names"
   ]
  },
  {
   "cell_type": "code",
   "execution_count": 3,
   "id": "competitive-compound",
   "metadata": {},
   "outputs": [
    {
     "data": {
      "application/vnd.jupyter.widget-view+json": {
       "model_id": "60abc96c71b5403b8fa436402cd237f9",
       "version_major": 2,
       "version_minor": 0
      },
      "text/plain": [
       "  0%|          | 0/150000 [00:00<?, ?it/s]"
      ]
     },
     "metadata": {},
     "output_type": "display_data"
    }
   ],
   "source": [
    "from tqdm.auto import tqdm\n",
    "from itertools import islice\n",
    "\n",
    "num_docs = 150000\n",
    "doc_generator = islice(ner_loader._get_doc_generator('heritageconnector_test'), num_docs)\n",
    "all_docs = []\n",
    "\n",
    "for item in tqdm(doc_generator, total=num_docs):\n",
    "    all_docs.append(item)"
   ]
  },
  {
   "cell_type": "code",
   "execution_count": 4,
   "id": "aging-twelve",
   "metadata": {},
   "outputs": [],
   "source": [
    "df = pd.DataFrame(all_docs, columns=['uri', 'description'])\n",
    "df['len'] = df['description'].apply(len)\n",
    "df['len_words'] = df['description'].apply(lambda x: len(x.split(\" \")))"
   ]
  },
  {
   "cell_type": "code",
   "execution_count": 5,
   "id": "differential-savage",
   "metadata": {},
   "outputs": [
    {
     "data": {
      "text/html": [
       "<div>\n",
       "<style scoped>\n",
       "    .dataframe tbody tr th:only-of-type {\n",
       "        vertical-align: middle;\n",
       "    }\n",
       "\n",
       "    .dataframe tbody tr th {\n",
       "        vertical-align: top;\n",
       "    }\n",
       "\n",
       "    .dataframe thead th {\n",
       "        text-align: right;\n",
       "    }\n",
       "</style>\n",
       "<table border=\"1\" class=\"dataframe\">\n",
       "  <thead>\n",
       "    <tr style=\"text-align: right;\">\n",
       "      <th></th>\n",
       "      <th>uri</th>\n",
       "      <th>description</th>\n",
       "      <th>len</th>\n",
       "      <th>len_words</th>\n",
       "    </tr>\n",
       "  </thead>\n",
       "  <tbody>\n",
       "    <tr>\n",
       "      <th>0</th>\n",
       "      <td>https://collection.sciencemuseumgroup.org.uk/objects/co8409961</td>\n",
       "      <td>Ferranti HB876 area denial mine, made in Moston c1985. This is a Hunting Percival JP233 sub-munition used to hamprer the repair of bomb craters on runways</td>\n",
       "      <td>154</td>\n",
       "      <td>26</td>\n",
       "    </tr>\n",
       "    <tr>\n",
       "      <th>1</th>\n",
       "      <td>https://collection.sciencemuseumgroup.org.uk/objects/co21567</td>\n",
       "      <td>Result of heating sulphate of lead with lead</td>\n",
       "      <td>44</td>\n",
       "      <td>8</td>\n",
       "    </tr>\n",
       "    <tr>\n",
       "      <th>2</th>\n",
       "      <td>https://collection.sciencemuseumgroup.org.uk/objects/co194608</td>\n",
       "      <td>1 bottle of Petrolagar emulsion with phenolphthalein, (liquid paraffin), by Petrolagar, physician's sample, 1960-1980</td>\n",
       "      <td>117</td>\n",
       "      <td>14</td>\n",
       "    </tr>\n",
       "    <tr>\n",
       "      <th>3</th>\n",
       "      <td>https://collection.sciencemuseumgroup.org.uk/objects/co84661</td>\n",
       "      <td>Votive left leg on inscribed plaque, 20th century copy by Brucciani, original from shrine of Asklepios on Melos, Greek, 400-100 BC.  Made in London E.C. 1900-1930</td>\n",
       "      <td>162</td>\n",
       "      <td>27</td>\n",
       "    </tr>\n",
       "    <tr>\n",
       "      <th>4</th>\n",
       "      <td>https://collection.sciencemuseumgroup.org.uk/objects/co8100418</td>\n",
       "      <td>Isle of Wight Central Railway handbill 'royal marine artillery  band at Ryde'. Printed by W.H. Upward. Issued by Russell Willmott, general manager. Dated March 1915.</td>\n",
       "      <td>165</td>\n",
       "      <td>26</td>\n",
       "    </tr>\n",
       "  </tbody>\n",
       "</table>\n",
       "</div>"
      ],
      "text/plain": [
       "                                                              uri  \\\n",
       "0  https://collection.sciencemuseumgroup.org.uk/objects/co8409961   \n",
       "1    https://collection.sciencemuseumgroup.org.uk/objects/co21567   \n",
       "2   https://collection.sciencemuseumgroup.org.uk/objects/co194608   \n",
       "3    https://collection.sciencemuseumgroup.org.uk/objects/co84661   \n",
       "4  https://collection.sciencemuseumgroup.org.uk/objects/co8100418   \n",
       "\n",
       "                                                                                                                                                             description  \\\n",
       "0             Ferranti HB876 area denial mine, made in Moston c1985. This is a Hunting Percival JP233 sub-munition used to hamprer the repair of bomb craters on runways   \n",
       "1                                                                                                                           Result of heating sulphate of lead with lead   \n",
       "2                                                  1 bottle of Petrolagar emulsion with phenolphthalein, (liquid paraffin), by Petrolagar, physician's sample, 1960-1980   \n",
       "3     Votive left leg on inscribed plaque, 20th century copy by Brucciani, original from shrine of Asklepios on Melos, Greek, 400-100 BC.  Made in London E.C. 1900-1930   \n",
       "4  Isle of Wight Central Railway handbill 'royal marine artillery  band at Ryde'. Printed by W.H. Upward. Issued by Russell Willmott, general manager. Dated March 1915.   \n",
       "\n",
       "   len  len_words  \n",
       "0  154         26  \n",
       "1   44          8  \n",
       "2  117         14  \n",
       "3  162         27  \n",
       "4  165         26  "
      ]
     },
     "execution_count": 5,
     "metadata": {},
     "output_type": "execute_result"
    }
   ],
   "source": [
    "df.head()"
   ]
  },
  {
   "cell_type": "code",
   "execution_count": 17,
   "id": "satisfied-mayor",
   "metadata": {},
   "outputs": [
    {
     "data": {
      "text/plain": [
       "Text(0.5, 0, 'document idx')"
      ]
     },
     "execution_count": 17,
     "metadata": {},
     "output_type": "execute_result"
    },
    {
     "data": {
      "image/png": "[encoded data removed]",
      "text/plain": [
       "<Figure size 1440x864 with 1 Axes>"
      ]
     },
     "metadata": {
      "needs_background": "light"
     },
     "output_type": "display_data"
    }
   ],
   "source": [
    "_, ax = plt.subplots(figsize=(20,12))\n",
    "df.len.plot(kind='line', ax=ax)\n",
    "ax.set_ylabel(\"string length (characters)\")\n",
    "ax.set_xlabel(\"document idx\")"
   ]
  },
  {
   "cell_type": "code",
   "execution_count": null,
   "id": "cloudy-extent",
   "metadata": {},
   "outputs": [],
   "source": []
  }
 ],
 "metadata": {
  "kernelspec": {
   "display_name": "Python 3",
   "language": "python",
   "name": "python3"
  },
  "language_info": {
   "codemirror_mode": {
    "name": "ipython",
    "version": 3
   },
   "file_extension": ".py",
   "mimetype": "text/x-python",
   "name": "python",
   "nbconvert_exporter": "python",
   "pygments_lexer": "ipython3",
   "version": "3.9.1"
  }
 },
 "nbformat": 4,
 "nbformat_minor": 5
}
