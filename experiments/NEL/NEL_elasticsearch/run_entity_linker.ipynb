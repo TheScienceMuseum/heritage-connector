{
 "cells": [
  {
   "cell_type": "code",
   "execution_count": 3,
   "id": "unknown-cream",
   "metadata": {},
   "outputs": [
    {
     "name": "stdout",
     "output_type": "stream",
     "text": [
      "The autoreload extension is already loaded. To reload it, use:\n",
      "  %reload_ext autoreload\n",
      "2021-03-30 10:00:23,637 - heritageconnector.datastore - DEBUG - Connected to Elasticsearch cluster at https://c4241473f2f84e2ab15c5b7c81eb34a4.eu-west-1.aws.found.io:9243/\n",
      "2021-03-30 10:00:23,637 - heritageconnector.datastore - DEBUG - Connected to Elasticsearch cluster at https://c4241473f2f84e2ab15c5b7c81eb34a4.eu-west-1.aws.found.io:9243/\n"
     ]
    }
   ],
   "source": [
    "%load_ext autoreload\n",
    "%autoreload 2\n",
    "import sys\n",
    "sys.path.append(\"../../..\")\n",
    "\n",
    "from heritageconnector import datastore\n",
    "from heritageconnector.config import field_mapping\n",
    "from heritageconnector.best_spacy_pipeline import load_model\n",
    "from heritageconnector.datastore import es, index\n",
    "from smg_jobs.smg_loader import preprocess_text_for_ner\n",
    "\n",
    "import entity_linker\n",
    "\n",
    "import pandas as pd\n",
    "pd.options.display.max_rows = None\n",
    "pd.options.display.max_colwidth = None"
   ]
  },
  {
   "cell_type": "markdown",
   "id": "divine-progress",
   "metadata": {},
   "source": [
    "### NERLoader"
   ]
  },
  {
   "cell_type": "code",
   "execution_count": 4,
   "id": "imported-interpretation",
   "metadata": {},
   "outputs": [],
   "source": [
    "source_description_field = target_description_field = \"data.http://www.w3.org/2001/XMLSchema#description\"\n",
    "target_title_field = \"graph.@rdfs:label.@value\"\n",
    "target_alias_field = \"graph.@skos:altLabel.@value\"\n",
    "target_type_field = \"graph.@skos:hasTopConcept.@value\"\n",
    "\n",
    "record_loader = datastore.RecordLoader(\"SMG\", field_mapping)\n",
    "ner_loader = datastore.NERLoader(\n",
    "    record_loader,\n",
    "    source_es_index = 'heritageconnector_test',\n",
    "    target_es_index = 'heritageconnector_test',\n",
    "    source_description_field = source_description_field, \n",
    "    target_title_field = target_title_field, \n",
    "    target_description_field = target_description_field, \n",
    "    target_type_field = target_type_field,\n",
    "    target_alias_field = target_alias_field,\n",
    "    entity_types_to_link={\"PERSON\", \"OBJECT\", \"ORG\"},\n",
    "    text_preprocess_func=preprocess_text_for_ner\n",
    ")"
   ]
  },
  {
   "cell_type": "code",
   "execution_count": 5,
   "id": "requested-basics",
   "metadata": {},
   "outputs": [
    {
     "name": "stdout",
     "output_type": "stream",
     "text": [
      "2021-03-30 10:00:25,630 - heritageconnector.datastore - INFO - Fetching docs and running NER.\n",
      "2021-03-30 10:00:25,630 - heritageconnector.datastore - INFO - Fetching docs and running NER.\n",
      "spacy tried to use GPU but failed\n",
      "2021-03-30 10:00:32,187 - hc_nlp.pipeline - INFO - Loading thesaurus from ../../../heritageconnector/../GITIGNORE_DATA/labels_all_unambiguous_types_people_orgs.jsonl\n",
      "2021-03-30 10:00:33,538 - hc_nlp.pipeline - INFO - 17016 term thesaurus imported in 1s\n"
     ]
    },
    {
     "data": {
      "application/vnd.jupyter.widget-view+json": {
       "model_id": "3be8c16353034fbc86669bf4409be51c",
       "version_major": 2,
       "version_minor": 0
      },
      "text/plain": [
       "0it [00:00, ?it/s]"
      ]
     },
     "metadata": {},
     "output_type": "display_data"
    },
    {
     "data": {
      "text/plain": [
       "291"
      ]
     },
     "execution_count": 5,
     "metadata": {},
     "output_type": "execute_result"
    }
   ],
   "source": [
    "entity_list = ner_loader.get_list_of_entities_from_es(\"en_core_web_trf\", 100, random_seed=420)\n",
    "len(entity_list)"
   ]
  },
  {
   "cell_type": "code",
   "execution_count": 6,
   "id": "little-invite",
   "metadata": {},
   "outputs": [
    {
     "name": "stdout",
     "output_type": "stream",
     "text": [
      "2021-03-30 10:00:42,827 - heritageconnector.datastore - INFO - Getting link candidates for each of 291 entities\n",
      "2021-03-30 10:00:42,827 - heritageconnector.datastore - INFO - Getting link candidates for each of 291 entities\n"
     ]
    },
    {
     "data": {
      "application/vnd.jupyter.widget-view+json": {
       "model_id": "ab4c5abb9b2049eeb916b880c2481525",
       "version_major": 2,
       "version_minor": 0
      },
      "text/plain": [
       "  0%|          | 0/291 [00:00<?, ?it/s]"
      ]
     },
     "metadata": {},
     "output_type": "display_data"
    }
   ],
   "source": [
    "entity_list_with_links = ner_loader.get_link_candidates(candidates_per_entity_mention=10)"
   ]
  },
  {
   "cell_type": "code",
   "execution_count": 7,
   "id": "infectious-darwin",
   "metadata": {},
   "outputs": [
    {
     "data": {
      "text/plain": [
       "(Index(['item_uri', 'candidate_rank', 'item_description_with_ent', 'ent_label',\n",
       "        'ent_text', 'ent_sentence', 'candidate_title', 'candidate_type',\n",
       "        'candidate_uri', 'link_correct', 'candidate_alias',\n",
       "        'candidate_description', 'item_description'],\n",
       "       dtype='object'),\n",
       " (1378, 13))"
      ]
     },
     "execution_count": 7,
     "metadata": {},
     "output_type": "execute_result"
    }
   ],
   "source": [
    "ent_df = ner_loader.entity_list_as_dataframe\n",
    "ent_df.columns, ent_df.shape"
   ]
  },
  {
   "cell_type": "code",
   "execution_count": 8,
   "id": "posted-palestine",
   "metadata": {},
   "outputs": [
    {
     "data": {
      "text/html": [
       "<div>\n",
       "<style scoped>\n",
       "    .dataframe tbody tr th:only-of-type {\n",
       "        vertical-align: middle;\n",
       "    }\n",
       "\n",
       "    .dataframe tbody tr th {\n",
       "        vertical-align: top;\n",
       "    }\n",
       "\n",
       "    .dataframe thead th {\n",
       "        text-align: right;\n",
       "    }\n",
       "</style>\n",
       "<table border=\"1\" class=\"dataframe\">\n",
       "  <thead>\n",
       "    <tr style=\"text-align: right;\">\n",
       "      <th></th>\n",
       "      <th>item_uri</th>\n",
       "      <th>candidate_rank</th>\n",
       "      <th>item_description_with_ent</th>\n",
       "      <th>ent_label</th>\n",
       "      <th>ent_text</th>\n",
       "      <th>ent_sentence</th>\n",
       "      <th>candidate_title</th>\n",
       "      <th>candidate_type</th>\n",
       "      <th>candidate_uri</th>\n",
       "      <th>link_correct</th>\n",
       "      <th>candidate_alias</th>\n",
       "      <th>candidate_description</th>\n",
       "      <th>item_description</th>\n",
       "    </tr>\n",
       "  </thead>\n",
       "  <tbody>\n",
       "    <tr>\n",
       "      <th>2</th>\n",
       "      <td>https://collection.sciencemuseumgroup.org.uk/objects/co203466</td>\n",
       "      <td>NaN</td>\n",
       "      <td>Transfer print by Herbert Bairstow, FRPS. Mounted. \"A Sun lit Corner\", [[1923]]</td>\n",
       "      <td>DATE</td>\n",
       "      <td>1923</td>\n",
       "      <td>Mounted. \"A Sun lit Corner\", 1923</td>\n",
       "      <td>NaN</td>\n",
       "      <td>NaN</td>\n",
       "      <td>NaN</td>\n",
       "      <td>NaN</td>\n",
       "      <td>NaN</td>\n",
       "      <td>NaN</td>\n",
       "      <td>Transfer print by Herbert Bairstow, FRPS. Mounted. \"A Sun lit Corner\", 1923</td>\n",
       "    </tr>\n",
       "  </tbody>\n",
       "</table>\n",
       "</div>"
      ],
      "text/plain": [
       "                                                        item_uri  \\\n",
       "2  https://collection.sciencemuseumgroup.org.uk/objects/co203466   \n",
       "\n",
       "   candidate_rank  \\\n",
       "2             NaN   \n",
       "\n",
       "                                                         item_description_with_ent  \\\n",
       "2  Transfer print by Herbert Bairstow, FRPS. Mounted. \"A Sun lit Corner\", [[1923]]   \n",
       "\n",
       "  ent_label ent_text                       ent_sentence candidate_title  \\\n",
       "2      DATE     1923  Mounted. \"A Sun lit Corner\", 1923             NaN   \n",
       "\n",
       "  candidate_type candidate_uri link_correct candidate_alias  \\\n",
       "2            NaN           NaN          NaN             NaN   \n",
       "\n",
       "  candidate_description  \\\n",
       "2                   NaN   \n",
       "\n",
       "                                                              item_description  \n",
       "2  Transfer print by Herbert Bairstow, FRPS. Mounted. \"A Sun lit Corner\", 1923  "
      ]
     },
     "execution_count": 8,
     "metadata": {},
     "output_type": "execute_result"
    }
   ],
   "source": [
    "ent_df.head(1)"
   ]
  },
  {
   "cell_type": "code",
   "execution_count": 9,
   "id": "serious-determination",
   "metadata": {},
   "outputs": [
    {
     "data": {
      "text/html": [
       "<div>\n",
       "<style scoped>\n",
       "    .dataframe tbody tr th:only-of-type {\n",
       "        vertical-align: middle;\n",
       "    }\n",
       "\n",
       "    .dataframe tbody tr th {\n",
       "        vertical-align: top;\n",
       "    }\n",
       "\n",
       "    .dataframe thead th {\n",
       "        text-align: right;\n",
       "    }\n",
       "</style>\n",
       "<table border=\"1\" class=\"dataframe\">\n",
       "  <thead>\n",
       "    <tr style=\"text-align: right;\">\n",
       "      <th></th>\n",
       "      <th>item_uri</th>\n",
       "      <th>candidate_rank</th>\n",
       "      <th>item_description_with_ent</th>\n",
       "      <th>ent_label</th>\n",
       "      <th>ent_text</th>\n",
       "      <th>ent_sentence</th>\n",
       "      <th>candidate_title</th>\n",
       "      <th>candidate_type</th>\n",
       "      <th>candidate_uri</th>\n",
       "      <th>link_correct</th>\n",
       "      <th>candidate_alias</th>\n",
       "      <th>candidate_description</th>\n",
       "      <th>item_description</th>\n",
       "    </tr>\n",
       "  </thead>\n",
       "  <tbody>\n",
       "    <tr>\n",
       "      <th>0</th>\n",
       "      <td>https://collection.sciencemuseumgroup.org.uk/objects/co203466</td>\n",
       "      <td>0.0</td>\n",
       "      <td>Transfer print by [[Herbert Bairstow]], FRPS. Mounted. \"A Sun lit Corner\", 1923</td>\n",
       "      <td>PERSON</td>\n",
       "      <td>Herbert Bairstow</td>\n",
       "      <td>Transfer print by Herbert Bairstow, FRPS.</td>\n",
       "      <td>Herbert Bairstow</td>\n",
       "      <td>PERSON</td>\n",
       "      <td>https://collection.sciencemuseumgroup.org.uk/people/cp134294</td>\n",
       "      <td></td>\n",
       "      <td></td>\n",
       "      <td>collectionsonline.lacma.org more research needed      British pictorialist photographer noted for bromoil transfer prints; awarded FRPS; lived Halifax (1904).</td>\n",
       "      <td>Transfer print by Herbert Bairstow, FRPS. Mounted. \"A Sun lit Corner\", 1923</td>\n",
       "    </tr>\n",
       "    <tr>\n",
       "      <th>1</th>\n",
       "      <td>https://collection.sciencemuseumgroup.org.uk/objects/co203466</td>\n",
       "      <td>1.0</td>\n",
       "      <td>Transfer print by [[Herbert Bairstow]], FRPS. Mounted. \"A Sun lit Corner\", 1923</td>\n",
       "      <td>PERSON</td>\n",
       "      <td>Herbert Bairstow</td>\n",
       "      <td>Transfer print by Herbert Bairstow, FRPS.</td>\n",
       "      <td>S. Herbert</td>\n",
       "      <td>PERSON</td>\n",
       "      <td>https://collection.sciencemuseumgroup.org.uk/people/cp119499</td>\n",
       "      <td></td>\n",
       "      <td></td>\n",
       "      <td>Taken from object description</td>\n",
       "      <td>Transfer print by Herbert Bairstow, FRPS. Mounted. \"A Sun lit Corner\", 1923</td>\n",
       "    </tr>\n",
       "    <tr>\n",
       "      <th>2</th>\n",
       "      <td>https://collection.sciencemuseumgroup.org.uk/objects/co203466</td>\n",
       "      <td>2.0</td>\n",
       "      <td>Transfer print by [[Herbert Bairstow]], FRPS. Mounted. \"A Sun lit Corner\", 1923</td>\n",
       "      <td>PERSON</td>\n",
       "      <td>Herbert Bairstow</td>\n",
       "      <td>Transfer print by Herbert Bairstow, FRPS.</td>\n",
       "      <td>Herbert Hoover</td>\n",
       "      <td>PERSON</td>\n",
       "      <td>https://collection.sciencemuseumgroup.org.uk/people/cp48923</td>\n",
       "      <td></td>\n",
       "      <td></td>\n",
       "      <td>President of the United States...</td>\n",
       "      <td>Transfer print by Herbert Bairstow, FRPS. Mounted. \"A Sun lit Corner\", 1923</td>\n",
       "    </tr>\n",
       "    <tr>\n",
       "      <th>3</th>\n",
       "      <td>https://collection.sciencemuseumgroup.org.uk/objects/co203466</td>\n",
       "      <td>3.0</td>\n",
       "      <td>Transfer print by [[Herbert Bairstow]], FRPS. Mounted. \"A Sun lit Corner\", 1923</td>\n",
       "      <td>PERSON</td>\n",
       "      <td>Herbert Bairstow</td>\n",
       "      <td>Transfer print by Herbert Bairstow, FRPS.</td>\n",
       "      <td>Herbert Longmuir</td>\n",
       "      <td>PERSON</td>\n",
       "      <td>https://collection.sciencemuseumgroup.org.uk/people/cp119843</td>\n",
       "      <td></td>\n",
       "      <td></td>\n",
       "      <td></td>\n",
       "      <td>Transfer print by Herbert Bairstow, FRPS. Mounted. \"A Sun lit Corner\", 1923</td>\n",
       "    </tr>\n",
       "    <tr>\n",
       "      <th>4</th>\n",
       "      <td>https://collection.sciencemuseumgroup.org.uk/objects/co203466</td>\n",
       "      <td>4.0</td>\n",
       "      <td>Transfer print by [[Herbert Bairstow]], FRPS. Mounted. \"A Sun lit Corner\", 1923</td>\n",
       "      <td>PERSON</td>\n",
       "      <td>Herbert Bairstow</td>\n",
       "      <td>Transfer print by Herbert Bairstow, FRPS.</td>\n",
       "      <td>Herbert Mayo</td>\n",
       "      <td>PERSON</td>\n",
       "      <td>https://collection.sciencemuseumgroup.org.uk/people/cp51684</td>\n",
       "      <td></td>\n",
       "      <td></td>\n",
       "      <td>Paul F. Cranefield, ‘Mayo, Herbert (1796–1852)’, , 2004 [, accessed 12 March 2008]      Surgeon and lecturer in anatomy. Became surgeon at the Royal College of Surgeons 1819. Author of 'Anatomical and Physical Commentaries' (1822). Mayo discovered that the seventh cranial nerve is the nerve the activity of which causes the muscles of the face to move—that is, it is the motor nerve of the face. He also discovered that the fifth cranial nerve is the nerve that conveys sensation from the face to the brain—that is, it is the chief sensory nerve of the face.</td>\n",
       "      <td>Transfer print by Herbert Bairstow, FRPS. Mounted. \"A Sun lit Corner\", 1923</td>\n",
       "    </tr>\n",
       "  </tbody>\n",
       "</table>\n",
       "</div>"
      ],
      "text/plain": [
       "                                                        item_uri  \\\n",
       "0  https://collection.sciencemuseumgroup.org.uk/objects/co203466   \n",
       "1  https://collection.sciencemuseumgroup.org.uk/objects/co203466   \n",
       "2  https://collection.sciencemuseumgroup.org.uk/objects/co203466   \n",
       "3  https://collection.sciencemuseumgroup.org.uk/objects/co203466   \n",
       "4  https://collection.sciencemuseumgroup.org.uk/objects/co203466   \n",
       "\n",
       "   candidate_rank  \\\n",
       "0             0.0   \n",
       "1             1.0   \n",
       "2             2.0   \n",
       "3             3.0   \n",
       "4             4.0   \n",
       "\n",
       "                                                         item_description_with_ent  \\\n",
       "0  Transfer print by [[Herbert Bairstow]], FRPS. Mounted. \"A Sun lit Corner\", 1923   \n",
       "1  Transfer print by [[Herbert Bairstow]], FRPS. Mounted. \"A Sun lit Corner\", 1923   \n",
       "2  Transfer print by [[Herbert Bairstow]], FRPS. Mounted. \"A Sun lit Corner\", 1923   \n",
       "3  Transfer print by [[Herbert Bairstow]], FRPS. Mounted. \"A Sun lit Corner\", 1923   \n",
       "4  Transfer print by [[Herbert Bairstow]], FRPS. Mounted. \"A Sun lit Corner\", 1923   \n",
       "\n",
       "  ent_label          ent_text                               ent_sentence  \\\n",
       "0    PERSON  Herbert Bairstow  Transfer print by Herbert Bairstow, FRPS.   \n",
       "1    PERSON  Herbert Bairstow  Transfer print by Herbert Bairstow, FRPS.   \n",
       "2    PERSON  Herbert Bairstow  Transfer print by Herbert Bairstow, FRPS.   \n",
       "3    PERSON  Herbert Bairstow  Transfer print by Herbert Bairstow, FRPS.   \n",
       "4    PERSON  Herbert Bairstow  Transfer print by Herbert Bairstow, FRPS.   \n",
       "\n",
       "    candidate_title candidate_type  \\\n",
       "0  Herbert Bairstow         PERSON   \n",
       "1        S. Herbert         PERSON   \n",
       "2    Herbert Hoover         PERSON   \n",
       "3  Herbert Longmuir         PERSON   \n",
       "4      Herbert Mayo         PERSON   \n",
       "\n",
       "                                                  candidate_uri link_correct  \\\n",
       "0  https://collection.sciencemuseumgroup.org.uk/people/cp134294                \n",
       "1  https://collection.sciencemuseumgroup.org.uk/people/cp119499                \n",
       "2   https://collection.sciencemuseumgroup.org.uk/people/cp48923                \n",
       "3  https://collection.sciencemuseumgroup.org.uk/people/cp119843                \n",
       "4   https://collection.sciencemuseumgroup.org.uk/people/cp51684                \n",
       "\n",
       "  candidate_alias  \\\n",
       "0                   \n",
       "1                   \n",
       "2                   \n",
       "3                   \n",
       "4                   \n",
       "\n",
       "                                                                                                                                                                                                                                                                                                                                                                                                                                                                                                                                                             candidate_description  \\\n",
       "0                                                                                                                                                                                                                                                                                                                                                                                                                   collectionsonline.lacma.org more research needed      British pictorialist photographer noted for bromoil transfer prints; awarded FRPS; lived Halifax (1904).   \n",
       "1                                                                                                                                                                                                                                                                                                                                                                                                                                                                                                                                                    Taken from object description   \n",
       "2                                                                                                                                                                                                                                                                                                                                                                                                                                                                                                                                                President of the United States...   \n",
       "3                                                                                                                                                                                                                                                                                                                                                                                                                                                                                                                                                                                    \n",
       "4  Paul F. Cranefield, ‘Mayo, Herbert (1796–1852)’, , 2004 [, accessed 12 March 2008]      Surgeon and lecturer in anatomy. Became surgeon at the Royal College of Surgeons 1819. Author of 'Anatomical and Physical Commentaries' (1822). Mayo discovered that the seventh cranial nerve is the nerve the activity of which causes the muscles of the face to move—that is, it is the motor nerve of the face. He also discovered that the fifth cranial nerve is the nerve that conveys sensation from the face to the brain—that is, it is the chief sensory nerve of the face.   \n",
       "\n",
       "                                                              item_description  \n",
       "0  Transfer print by Herbert Bairstow, FRPS. Mounted. \"A Sun lit Corner\", 1923  \n",
       "1  Transfer print by Herbert Bairstow, FRPS. Mounted. \"A Sun lit Corner\", 1923  \n",
       "2  Transfer print by Herbert Bairstow, FRPS. Mounted. \"A Sun lit Corner\", 1923  \n",
       "3  Transfer print by Herbert Bairstow, FRPS. Mounted. \"A Sun lit Corner\", 1923  \n",
       "4  Transfer print by Herbert Bairstow, FRPS. Mounted. \"A Sun lit Corner\", 1923  "
      ]
     },
     "execution_count": 9,
     "metadata": {},
     "output_type": "execute_result"
    }
   ],
   "source": [
    "review_df = ner_loader.get_links_data_for_review()\n",
    "review_df.head()\n",
    "# review_df.to_csv(\"./review_data.csv\")"
   ]
  },
  {
   "cell_type": "code",
   "execution_count": 8,
   "id": "automated-orchestra",
   "metadata": {},
   "outputs": [],
   "source": [
    "# review_df.to_excel(\"./review_data_1103.xlsx\")"
   ]
  },
  {
   "cell_type": "markdown",
   "id": "functioning-validity",
   "metadata": {},
   "source": [
    "## Train entity linker and push entities to Elasticsearch index"
   ]
  },
  {
   "cell_type": "code",
   "execution_count": 12,
   "id": "vietnamese-forward",
   "metadata": {},
   "outputs": [
    {
     "name": "stdout",
     "output_type": "stream",
     "text": [
      "2021-03-30 10:31:27,227 - heritageconnector.datastore - DEBUG - Connected to Elasticsearch cluster at https://c4241473f2f84e2ab15c5b7c81eb34a4.eu-west-1.aws.found.io:9243/\n",
      "2021-03-30 10:31:27,227 - heritageconnector.datastore - DEBUG - Connected to Elasticsearch cluster at https://c4241473f2f84e2ab15c5b7c81eb34a4.eu-west-1.aws.found.io:9243/\n",
      "2021-03-30 10:31:27,227 - heritageconnector.datastore - DEBUG - Connected to Elasticsearch cluster at https://c4241473f2f84e2ab15c5b7c81eb34a4.eu-west-1.aws.found.io:9243/\n",
      "2021-03-30 10:31:27,227 - heritageconnector.datastore - DEBUG - Connected to Elasticsearch cluster at https://c4241473f2f84e2ab15c5b7c81eb34a4.eu-west-1.aws.found.io:9243/\n"
     ]
    }
   ],
   "source": [
    "data_path = \"../../../GITIGNORE_DATA/NEL/review_data_1103.xlsx\"\n"
   ]
  },
  {
   "cell_type": "code",
   "execution_count": 13,
   "id": "polar-obligation",
   "metadata": {},
   "outputs": [
    {
     "name": "stdout",
     "output_type": "stream",
     "text": [
      "2021-03-30 10:31:34,161 - heritageconnector.datastore - DEBUG - Connected to Elasticsearch cluster at https://c4241473f2f84e2ab15c5b7c81eb34a4.eu-west-1.aws.found.io:9243/\n",
      "2021-03-30 10:31:34,161 - heritageconnector.datastore - DEBUG - Connected to Elasticsearch cluster at https://c4241473f2f84e2ab15c5b7c81eb34a4.eu-west-1.aws.found.io:9243/\n",
      "2021-03-30 10:31:34,161 - heritageconnector.datastore - DEBUG - Connected to Elasticsearch cluster at https://c4241473f2f84e2ab15c5b7c81eb34a4.eu-west-1.aws.found.io:9243/\n",
      "2021-03-30 10:31:34,161 - heritageconnector.datastore - DEBUG - Connected to Elasticsearch cluster at https://c4241473f2f84e2ab15c5b7c81eb34a4.eu-west-1.aws.found.io:9243/\n",
      "2021-03-30 10:31:34,161 - heritageconnector.datastore - DEBUG - Connected to Elasticsearch cluster at https://c4241473f2f84e2ab15c5b7c81eb34a4.eu-west-1.aws.found.io:9243/\n",
      "2021-03-30 10:31:35,050 - heritageconnector.datastore - INFO - Training entity linker...\n",
      "2021-03-30 10:31:35,050 - heritageconnector.datastore - INFO - Training entity linker...\n",
      "2021-03-30 10:31:35,050 - heritageconnector.datastore - INFO - Training entity linker...\n",
      "2021-03-30 10:31:35,050 - heritageconnector.datastore - INFO - Training entity linker...\n",
      "2021-03-30 10:31:35,050 - heritageconnector.datastore - INFO - Training entity linker...\n",
      "2021-03-30 10:31:37,837 - heritageconnector.nlp.nel - DEBUG - Calculating sBERT embeddings... (1/2)\n",
      "2021-03-30 10:31:41,429 - heritageconnector.nlp.nel - DEBUG - Calculating sBERT embeddings... (2/2)\n"
     ]
    }
   ],
   "source": [
    "clf = ner_loader.train_entity_linker(data_path)"
   ]
  },
  {
   "cell_type": "code",
   "execution_count": 14,
   "id": "encouraging-military",
   "metadata": {},
   "outputs": [
    {
     "data": {
      "text/plain": [
       "True"
      ]
     },
     "execution_count": 14,
     "metadata": {},
     "output_type": "execute_result"
    }
   ],
   "source": [
    "ner_loader.has_trained_linker"
   ]
  },
  {
   "cell_type": "code",
   "execution_count": 13,
   "id": "sustained-library",
   "metadata": {},
   "outputs": [
    {
     "name": "stdout",
     "output_type": "stream",
     "text": [
      "2021-03-23 16:23:42,833 - heritageconnector.datastore - DEBUG - Connected to Elasticsearch cluster at https://c4241473f2f84e2ab15c5b7c81eb34a4.eu-west-1.aws.found.io:9243/\n",
      "2021-03-23 16:23:42,833 - heritageconnector.datastore - DEBUG - Connected to Elasticsearch cluster at https://c4241473f2f84e2ab15c5b7c81eb34a4.eu-west-1.aws.found.io:9243/\n",
      "2021-03-23 16:23:42,954 - heritageconnector.datastore - INFO - Loading 463 entities into heritageconnector_test\n",
      "2021-03-23 16:23:42,954 - heritageconnector.datastore - INFO - Loading 463 entities into heritageconnector_test\n",
      "2021-03-23 16:23:43,300 - heritageconnector.datastore - INFO - Loading entity mentions with no link candidates by type...\n",
      "2021-03-23 16:23:43,300 - heritageconnector.datastore - INFO - Loading entity mentions with no link candidates by type...\n"
     ]
    },
    {
     "data": {
      "application/vnd.jupyter.widget-view+json": {
       "model_id": "882c18f0c34a4dd0a5893ae59a298075",
       "version_major": 2,
       "version_minor": 0
      },
      "text/plain": [
       "  0%|          | 0/8 [00:00<?, ?ent type/s]"
      ]
     },
     "metadata": {},
     "output_type": "display_data"
    },
    {
     "name": "stdout",
     "output_type": "stream",
     "text": [
      "2021-03-23 16:23:44,006 - heritageconnector.datastore - INFO - Predicting links for entity mentions with link candidates and loading them in, in batches of 32768...\n",
      "2021-03-23 16:23:44,006 - heritageconnector.datastore - INFO - Predicting links for entity mentions with link candidates and loading them in, in batches of 32768...\n"
     ]
    },
    {
     "data": {
      "application/vnd.jupyter.widget-view+json": {
       "model_id": "2f27c64a3c5148e28ec1cb25c3e9f0d8",
       "version_major": 2,
       "version_minor": 0
      },
      "text/plain": [
       "  0%|          | 0/1 [00:00<?, ?batch/s]"
      ]
     },
     "metadata": {},
     "output_type": "display_data"
    },
    {
     "name": "stdout",
     "output_type": "stream",
     "text": [
      "2021-03-23 16:23:54,052 - heritageconnector.nlp.nel - DEBUG - Calculating sBERT embeddings... (1/2)\n",
      "2021-03-23 16:23:56,744 - heritageconnector.nlp.nel - DEBUG - Calculating sBERT embeddings... (2/2)\n"
     ]
    }
   ],
   "source": [
    "ner_loader.load_entities_into_es(linking_confidence_threshold=0.5, force_load_without_linker=True)"
   ]
  },
  {
   "cell_type": "code",
   "execution_count": null,
   "id": "recent-contents",
   "metadata": {},
   "outputs": [],
   "source": []
  }
 ],
 "metadata": {
  "kernelspec": {
   "display_name": "Python 3",
   "language": "python",
   "name": "python3"
  },
  "language_info": {
   "codemirror_mode": {
    "name": "ipython",
    "version": 3
   },
   "file_extension": ".py",
   "mimetype": "text/x-python",
   "name": "python",
   "nbconvert_exporter": "python",
   "pygments_lexer": "ipython3",
   "version": "3.9.1"
  }
 },
 "nbformat": 4,
 "nbformat_minor": 5
}
