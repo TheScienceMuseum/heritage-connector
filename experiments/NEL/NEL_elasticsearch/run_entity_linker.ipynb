{
 "cells": [
  {
   "cell_type": "code",
   "execution_count": 1,
   "id": "passing-madagascar",
   "metadata": {},
   "outputs": [
    {
     "name": "stdout",
     "output_type": "stream",
     "text": [
      "2021-02-15 10:13:08,436 - heritageconnector.datastore - DEBUG - Connected to Elasticsearch cluster at https://c4241473f2f84e2ab15c5b7c81eb34a4.eu-west-1.aws.found.io:9243/\n"
     ]
    }
   ],
   "source": [
    "%load_ext autoreload\n",
    "%autoreload 2\n",
    "import sys\n",
    "sys.path.append(\"../../..\")\n",
    "\n",
    "from heritageconnector import datastore\n",
    "from heritageconnector.config import field_mapping\n",
    "from heritageconnector.best_spacy_pipeline import load_model\n",
    "from heritageconnector.datastore import es, index\n",
    "\n",
    "import entity_linker"
   ]
  },
  {
   "cell_type": "markdown",
   "id": "suspected-headset",
   "metadata": {},
   "source": [
    "### NERLoader"
   ]
  },
  {
   "cell_type": "code",
   "execution_count": 19,
   "id": "mysterious-stanford",
   "metadata": {},
   "outputs": [
    {
     "name": "stdout",
     "output_type": "stream",
     "text": [
      "2021-02-15 10:39:32,094 - heritageconnector.datastore - DEBUG - Connected to Elasticsearch cluster at https://c4241473f2f84e2ab15c5b7c81eb34a4.eu-west-1.aws.found.io:9243/\n",
      "2021-02-15 10:39:32,094 - heritageconnector.datastore - DEBUG - Connected to Elasticsearch cluster at https://c4241473f2f84e2ab15c5b7c81eb34a4.eu-west-1.aws.found.io:9243/\n",
      "2021-02-15 10:39:32,094 - heritageconnector.datastore - DEBUG - Connected to Elasticsearch cluster at https://c4241473f2f84e2ab15c5b7c81eb34a4.eu-west-1.aws.found.io:9243/\n"
     ]
    }
   ],
   "source": [
    "source_description_field = target_description_field = \"data.http://www.w3.org/2001/XMLSchema#description\"\n",
    "target_title_field = \"graph.@rdfs:label.@value\"\n",
    "target_alias_field = \"graph.@skos:altLabel.@value\"\n",
    "target_type_field = \"graph.@skos:hasTopConcept.@value\"\n",
    "\n",
    "record_loader = datastore.RecordLoader(\"SMG\", field_mapping)\n",
    "ner_loader = datastore.NERLoader(\n",
    "    record_loader,\n",
    "    source_es_index = 'heritageconnector',\n",
    "    target_es_index = 'heritageconnector',\n",
    "    source_description_field = source_description_field, \n",
    "    target_title_field = target_title_field, \n",
    "    target_description_field = target_description_field, \n",
    "    target_type_field = target_type_field,\n",
    "    target_alias_field = target_alias_field,\n",
    "    entity_types_to_link={\"PERSON\", \"OBJECT\", \"ORG\"}\n",
    ")"
   ]
  },
  {
   "cell_type": "code",
   "execution_count": 27,
   "id": "accessible-fourth",
   "metadata": {},
   "outputs": [
    {
     "name": "stdout",
     "output_type": "stream",
     "text": [
      "2021-02-15 10:48:12,591 - heritageconnector.datastore - INFO - Fetching docs and running NER.\n",
      "2021-02-15 10:48:12,591 - heritageconnector.datastore - INFO - Fetching docs and running NER.\n",
      "2021-02-15 10:48:12,591 - heritageconnector.datastore - INFO - Fetching docs and running NER.\n",
      "2021-02-15 10:48:12,591 - heritageconnector.datastore - INFO - Fetching docs and running NER.\n",
      "spacy tried to use GPU but failed\n",
      "2021-02-15 10:48:16,879 - hc_nlp.pipeline - INFO - Loading thesaurus from ../../../heritageconnector/../GITIGNORE_DATA/labels_all_unambiguous_types_people_orgs.jsonl\n",
      "2021-02-15 10:48:19,124 - hc_nlp.pipeline - INFO - 17016 term thesaurus imported in 2s\n",
      "2021-02-15 10:48:19,127 - hc_nlp.pipeline - WARNING - Custom span attributes already added.\n"
     ]
    },
    {
     "data": {
      "application/vnd.jupyter.widget-view+json": {
       "model_id": "60ee1cecd0924169afc50cdc55fcbc85",
       "version_major": 2,
       "version_minor": 0
      },
      "text/plain": [
       "0it [00:00, ?it/s]"
      ]
     },
     "metadata": {},
     "output_type": "display_data"
    },
    {
     "data": {
      "text/plain": [
       "1406"
      ]
     },
     "execution_count": 27,
     "metadata": {},
     "output_type": "execute_result"
    }
   ],
   "source": [
    "entity_list = ner_loader.get_list_of_entities_from_es(\"en_core_web_trf\", 500)\n",
    "len(entity_list)"
   ]
  },
  {
   "cell_type": "code",
   "execution_count": 28,
   "id": "concrete-alignment",
   "metadata": {},
   "outputs": [
    {
     "name": "stdout",
     "output_type": "stream",
     "text": [
      "2021-02-15 10:49:09,975 - heritageconnector.datastore - INFO - Getting link candidates for each of 1406 entities\n",
      "2021-02-15 10:49:09,975 - heritageconnector.datastore - INFO - Getting link candidates for each of 1406 entities\n",
      "2021-02-15 10:49:09,975 - heritageconnector.datastore - INFO - Getting link candidates for each of 1406 entities\n",
      "2021-02-15 10:49:09,975 - heritageconnector.datastore - INFO - Getting link candidates for each of 1406 entities\n"
     ]
    },
    {
     "data": {
      "application/vnd.jupyter.widget-view+json": {
       "model_id": "e16801a5070b4c38958bda8aec4281ab",
       "version_major": 2,
       "version_minor": 0
      },
      "text/plain": [
       "  0%|          | 0/1406 [00:00<?, ?it/s]"
      ]
     },
     "metadata": {},
     "output_type": "display_data"
    }
   ],
   "source": [
    "entity_list_with_links = ner_loader.get_link_candidates(candidates_per_entity_mention=5)"
   ]
  },
  {
   "cell_type": "code",
   "execution_count": 29,
   "id": "spoken-submission",
   "metadata": {},
   "outputs": [],
   "source": [
    "review_df = ner_loader.get_links_data_for_review()\n",
    "review_df\n",
    "review_df.to_csv(\"./review_data.csv\")"
   ]
  },
  {
   "cell_type": "code",
   "execution_count": 30,
   "id": "least-democracy",
   "metadata": {},
   "outputs": [],
   "source": [
    "from spacy import displacy"
   ]
  },
  {
   "cell_type": "code",
   "execution_count": 33,
   "id": "instructional-romantic",
   "metadata": {},
   "outputs": [
    {
     "data": {
      "text/html": [
       "<span class=\"tex2jax_ignore\"><div class=\"entities\" style=\"line-height: 2.5; direction: ltr\">\n",
       "<mark class=\"entity\" style=\"background: #7aecec; padding: 0.45em 0.6em; margin: 0 0.25em; line-height: 1; border-radius: 0.35em;\">\n",
       "    Library of Congress\n",
       "    <span style=\"font-size: 0.8em; font-weight: bold; line-height: 1; border-radius: 0.35em; vertical-align: middle; margin-left: 0.5rem\">ORG</span>\n",
       "</mark>\n",
       " Authorities:  n 93079091; http://encyclopedia.jrank.org/CAL_CAR/CANNIZZARO_STANISLAO_1826_1910_.html; JSTOR - \n",
       "<mark class=\"entity\" style=\"background: #aa9cfc; padding: 0.45em 0.6em; margin: 0 0.25em; line-height: 1; border-radius: 0.35em;\">\n",
       "    Stanislao Cannizzaro\n",
       "    <span style=\"font-size: 0.8em; font-weight: bold; line-height: 1; border-radius: 0.35em; vertical-align: middle; margin-left: 0.5rem\">PERSON</span>\n",
       "</mark>\n",
       ", F.R.S. (\n",
       "<mark class=\"entity\" style=\"background: #bfe1d9; padding: 0.45em 0.6em; margin: 0 0.25em; line-height: 1; border-radius: 0.35em;\">\n",
       "    1826-1910\n",
       "    <span style=\"font-size: 0.8em; font-weight: bold; line-height: 1; border-radius: 0.35em; vertical-align: middle; margin-left: 0.5rem\">DATE</span>\n",
       "</mark>\n",
       ") and \n",
       "<mark class=\"entity\" style=\"background: #ffeb80; padding: 0.45em 0.6em; margin: 0 0.25em; line-height: 1; border-radius: 0.35em;\">\n",
       "    the First International Chemical Conference at Karlsruhe\n",
       "    <span style=\"font-size: 0.8em; font-weight: bold; line-height: 1; border-radius: 0.35em; vertical-align: middle; margin-left: 0.5rem\">EVENT</span>\n",
       "</mark>\n",
       " in \n",
       "<mark class=\"entity\" style=\"background: #bfe1d9; padding: 0.45em 0.6em; margin: 0 0.25em; line-height: 1; border-radius: 0.35em;\">\n",
       "    1860\n",
       "    <span style=\"font-size: 0.8em; font-weight: bold; line-height: 1; border-radius: 0.35em; vertical-align: middle; margin-left: 0.5rem\">DATE</span>\n",
       "</mark>\n",
       ", by \n",
       "<mark class=\"entity\" style=\"background: #7aecec; padding: 0.45em 0.6em; margin: 0 0.25em; line-height: 1; border-radius: 0.35em;\">\n",
       "    Hartley, Harold, Notes and Records of the Royal Society of London\n",
       "    <span style=\"font-size: 0.8em; font-weight: bold; line-height: 1; border-radius: 0.35em; vertical-align: middle; margin-left: 0.5rem\">ORG</span>\n",
       "</mark>\n",
       ", Vol \n",
       "<mark class=\"entity\" style=\"background: #e4e7d2; padding: 0.45em 0.6em; margin: 0 0.25em; line-height: 1; border-radius: 0.35em;\">\n",
       "    21\n",
       "    <span style=\"font-size: 0.8em; font-weight: bold; line-height: 1; border-radius: 0.35em; vertical-align: middle; margin-left: 0.5rem\">CARDINAL</span>\n",
       "</mark>\n",
       ", No 1, Jun., \n",
       "<mark class=\"entity\" style=\"background: #bfe1d9; padding: 0.45em 0.6em; margin: 0 0.25em; line-height: 1; border-radius: 0.35em;\">\n",
       "    1966\n",
       "    <span style=\"font-size: 0.8em; font-weight: bold; line-height: 1; border-radius: 0.35em; vertical-align: middle; margin-left: 0.5rem\">DATE</span>\n",
       "</mark>\n",
       ", pp. \n",
       "<mark class=\"entity\" style=\"background: #e4e7d2; padding: 0.45em 0.6em; margin: 0 0.25em; line-height: 1; border-radius: 0.35em;\">\n",
       "    56\n",
       "    <span style=\"font-size: 0.8em; font-weight: bold; line-height: 1; border-radius: 0.35em; vertical-align: middle; margin-left: 0.5rem\">CARDINAL</span>\n",
       "</mark>\n",
       "-\n",
       "<mark class=\"entity\" style=\"background: #e4e7d2; padding: 0.45em 0.6em; margin: 0 0.25em; line-height: 1; border-radius: 0.35em;\">\n",
       "    63\n",
       "    <span style=\"font-size: 0.8em; font-weight: bold; line-height: 1; border-radius: 0.35em; vertical-align: middle; margin-left: 0.5rem\">CARDINAL</span>\n",
       "</mark>\n",
       ", (http://links.jstor.org/sici?sici=0035-9149%28196606%2921%3A1%3C56%3ASCF%28AT%3E2.0.CO%3B2-M) IN : 00359149; http://en.wikipedia.org/wiki/Stanislao_Cannizzaro </div></span>"
      ],
      "text/plain": [
       "<IPython.core.display.HTML object>"
      ]
     },
     "metadata": {},
     "output_type": "display_data"
    }
   ],
   "source": [
    "displacy.render(ner_loader.nlp(\"Library of Congress Authorities:  n 93079091; http://encyclopedia.jrank.org/CAL_CAR/CANNIZZARO_STANISLAO_1826_1910_.html; JSTOR - Stanislao Cannizzaro, F.R.S. (1826-1910) and the First International Chemical Conference at Karlsruhe in 1860, by Hartley, Harold, Notes and Records of the Royal Society of London, Vol 21, No 1, Jun., 1966, pp. 56-63, (http://links.jstor.org/sici?sici=0035-9149%28196606%2921%3A1%3C56%3ASCF%28AT%3E2.0.CO%3B2-M) IN : 00359149; http://en.wikipedia.org/wiki/Stanislao_Cannizzaro \"), style='ent')\n"
   ]
  },
  {
   "cell_type": "code",
   "execution_count": null,
   "id": "extra-workstation",
   "metadata": {},
   "outputs": [],
   "source": []
  }
 ],
 "metadata": {
  "kernelspec": {
   "display_name": "Python 3",
   "language": "python",
   "name": "python3"
  },
  "language_info": {
   "codemirror_mode": {
    "name": "ipython",
    "version": 3
   },
   "file_extension": ".py",
   "mimetype": "text/x-python",
   "name": "python",
   "nbconvert_exporter": "python",
   "pygments_lexer": "ipython3",
   "version": "3.9.1"
  }
 },
 "nbformat": 4,
 "nbformat_minor": 5
}
