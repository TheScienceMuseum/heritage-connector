{
 "cells": [
  {
   "cell_type": "code",
   "execution_count": 1,
   "id": "dental-dividend",
   "metadata": {},
   "outputs": [
    {
     "name": "stdout",
     "output_type": "stream",
     "text": [
      "2021-03-23 16:21:31,935 - heritageconnector.datastore - DEBUG - Connected to Elasticsearch cluster at https://c4241473f2f84e2ab15c5b7c81eb34a4.eu-west-1.aws.found.io:9243/\n"
     ]
    }
   ],
   "source": [
    "%load_ext autoreload\n",
    "%autoreload 2\n",
    "import sys\n",
    "sys.path.append(\"../../..\")\n",
    "\n",
    "from heritageconnector import datastore\n",
    "from heritageconnector.config import field_mapping\n",
    "from heritageconnector.best_spacy_pipeline import load_model\n",
    "from heritageconnector.datastore import es, index\n",
    "from smg_jobs.smg_loader import preprocess_text_for_ner\n",
    "\n",
    "import entity_linker\n",
    "\n",
    "import pandas as pd\n",
    "pd.options.display.max_rows = None\n",
    "pd.options.display.max_colwidth = None"
   ]
  },
  {
   "cell_type": "markdown",
   "id": "recent-practitioner",
   "metadata": {},
   "source": [
    "### NERLoader"
   ]
  },
  {
   "cell_type": "code",
   "execution_count": 2,
   "id": "exclusive-headquarters",
   "metadata": {},
   "outputs": [],
   "source": [
    "source_description_field = target_description_field = \"data.http://www.w3.org/2001/XMLSchema#description\"\n",
    "target_title_field = \"graph.@rdfs:label.@value\"\n",
    "target_alias_field = \"graph.@skos:altLabel.@value\"\n",
    "target_type_field = \"graph.@skos:hasTopConcept.@value\"\n",
    "\n",
    "record_loader = datastore.RecordLoader(\"SMG\", field_mapping)\n",
    "ner_loader = datastore.NERLoader(\n",
    "    record_loader,\n",
    "    source_es_index = 'heritageconnector_test',\n",
    "    target_es_index = 'heritageconnector_test',\n",
    "    source_description_field = source_description_field, \n",
    "    target_title_field = target_title_field, \n",
    "    target_description_field = target_description_field, \n",
    "    target_type_field = target_type_field,\n",
    "    target_alias_field = target_alias_field,\n",
    "    entity_types_to_link={\"PERSON\", \"OBJECT\", \"ORG\"},\n",
    "    text_preprocess_func=preprocess_text_for_ner\n",
    ")"
   ]
  },
  {
   "cell_type": "code",
   "execution_count": 3,
   "id": "adult-bernard",
   "metadata": {},
   "outputs": [
    {
     "name": "stdout",
     "output_type": "stream",
     "text": [
      "2021-03-23 16:21:32,931 - heritageconnector.datastore - INFO - Fetching docs and running NER.\n",
      "spacy tried to use GPU but failed\n",
      "2021-03-23 16:21:36,923 - hc_nlp.pipeline - INFO - Loading thesaurus from ../../../heritageconnector/../GITIGNORE_DATA/labels_all_unambiguous_types_people_orgs.jsonl\n",
      "2021-03-23 16:21:38,320 - hc_nlp.pipeline - INFO - 17016 term thesaurus imported in 1s\n"
     ]
    },
    {
     "data": {
      "application/vnd.jupyter.widget-view+json": {
       "model_id": "de8aa5ecae7841b29f89d03d9c8aa517",
       "version_major": 2,
       "version_minor": 0
      },
      "text/plain": [
       "0it [00:00, ?it/s]"
      ]
     },
     "metadata": {},
     "output_type": "display_data"
    },
    {
     "data": {
      "text/plain": [
       "463"
      ]
     },
     "execution_count": 3,
     "metadata": {},
     "output_type": "execute_result"
    }
   ],
   "source": [
    "entity_list = ner_loader.get_list_of_entities_from_es(\"en_core_web_trf\", 100, random_seed=420)\n",
    "len(entity_list)"
   ]
  },
  {
   "cell_type": "code",
   "execution_count": 4,
   "id": "solar-subscriber",
   "metadata": {},
   "outputs": [
    {
     "name": "stdout",
     "output_type": "stream",
     "text": [
      "2021-03-23 16:21:51,361 - heritageconnector.datastore - INFO - Getting link candidates for each of 463 entities\n"
     ]
    },
    {
     "data": {
      "application/vnd.jupyter.widget-view+json": {
       "model_id": "9384a8bc26b04b93af238586edaf75c7",
       "version_major": 2,
       "version_minor": 0
      },
      "text/plain": [
       "  0%|          | 0/463 [00:00<?, ?it/s]"
      ]
     },
     "metadata": {},
     "output_type": "display_data"
    }
   ],
   "source": [
    "entity_list_with_links = ner_loader.get_link_candidates(candidates_per_entity_mention=10)"
   ]
  },
  {
   "cell_type": "code",
   "execution_count": 5,
   "id": "knowing-bachelor",
   "metadata": {},
   "outputs": [
    {
     "data": {
      "text/plain": [
       "(Index(['item_uri', 'candidate_rank', 'item_description_with_ent', 'ent_label',\n",
       "        'ent_text', 'ent_sentence', 'candidate_title', 'candidate_type',\n",
       "        'candidate_uri', 'link_correct', 'candidate_alias',\n",
       "        'candidate_description', 'item_description'],\n",
       "       dtype='object'),\n",
       " (1349, 13))"
      ]
     },
     "execution_count": 5,
     "metadata": {},
     "output_type": "execute_result"
    }
   ],
   "source": [
    "ent_df = ner_loader.entity_list_as_dataframe\n",
    "ent_df.columns, ent_df.shape"
   ]
  },
  {
   "cell_type": "code",
   "execution_count": 6,
   "id": "adolescent-india",
   "metadata": {},
   "outputs": [
    {
     "data": {
      "text/html": [
       "<div>\n",
       "<style scoped>\n",
       "    .dataframe tbody tr th:only-of-type {\n",
       "        vertical-align: middle;\n",
       "    }\n",
       "\n",
       "    .dataframe tbody tr th {\n",
       "        vertical-align: top;\n",
       "    }\n",
       "\n",
       "    .dataframe thead th {\n",
       "        text-align: right;\n",
       "    }\n",
       "</style>\n",
       "<table border=\"1\" class=\"dataframe\">\n",
       "  <thead>\n",
       "    <tr style=\"text-align: right;\">\n",
       "      <th></th>\n",
       "      <th>item_uri</th>\n",
       "      <th>candidate_rank</th>\n",
       "      <th>item_description_with_ent</th>\n",
       "      <th>ent_label</th>\n",
       "      <th>ent_text</th>\n",
       "      <th>ent_sentence</th>\n",
       "      <th>candidate_title</th>\n",
       "      <th>candidate_type</th>\n",
       "      <th>candidate_uri</th>\n",
       "      <th>link_correct</th>\n",
       "      <th>candidate_alias</th>\n",
       "      <th>candidate_description</th>\n",
       "      <th>item_description</th>\n",
       "    </tr>\n",
       "  </thead>\n",
       "  <tbody>\n",
       "    <tr>\n",
       "      <th>0</th>\n",
       "      <td>https://collection.sciencemuseumgroup.org.uk/people/cp11429</td>\n",
       "      <td>NaN</td>\n",
       "      <td>born [[1925]] , active 1940s-60s, merchant navy wireless, radar and radio telegraphy operator, British</td>\n",
       "      <td>DATE</td>\n",
       "      <td>1925</td>\n",
       "      <td>born 1925 , active 1940s-60s, merchant navy wireless, radar and radio telegraphy operator, British</td>\n",
       "      <td>NaN</td>\n",
       "      <td>NaN</td>\n",
       "      <td>NaN</td>\n",
       "      <td>NaN</td>\n",
       "      <td>NaN</td>\n",
       "      <td>NaN</td>\n",
       "      <td>born 1925 , active 1940s-60s, merchant navy wireless, radar and radio telegraphy operator, British</td>\n",
       "    </tr>\n",
       "  </tbody>\n",
       "</table>\n",
       "</div>"
      ],
      "text/plain": [
       "                                                      item_uri  \\\n",
       "0  https://collection.sciencemuseumgroup.org.uk/people/cp11429   \n",
       "\n",
       "   candidate_rank  \\\n",
       "0             NaN   \n",
       "\n",
       "                                                                                item_description_with_ent  \\\n",
       "0  born [[1925]] , active 1940s-60s, merchant navy wireless, radar and radio telegraphy operator, British   \n",
       "\n",
       "  ent_label ent_text  \\\n",
       "0      DATE     1925   \n",
       "\n",
       "                                                                                         ent_sentence  \\\n",
       "0  born 1925 , active 1940s-60s, merchant navy wireless, radar and radio telegraphy operator, British   \n",
       "\n",
       "  candidate_title candidate_type candidate_uri link_correct candidate_alias  \\\n",
       "0             NaN            NaN           NaN          NaN             NaN   \n",
       "\n",
       "  candidate_description  \\\n",
       "0                   NaN   \n",
       "\n",
       "                                                                                     item_description  \n",
       "0  born 1925 , active 1940s-60s, merchant navy wireless, radar and radio telegraphy operator, British  "
      ]
     },
     "execution_count": 6,
     "metadata": {},
     "output_type": "execute_result"
    }
   ],
   "source": [
    "ent_df.head(1)"
   ]
  },
  {
   "cell_type": "code",
   "execution_count": 7,
   "id": "banner-edmonton",
   "metadata": {},
   "outputs": [],
   "source": [
    "review_df = ner_loader.get_links_data_for_review()\n",
    "# review_df.head()\n",
    "# review_df.to_csv(\"./review_data.csv\")"
   ]
  },
  {
   "cell_type": "code",
   "execution_count": 8,
   "id": "pleasant-circulation",
   "metadata": {},
   "outputs": [],
   "source": [
    "# review_df.to_excel(\"./review_data_1103.xlsx\")"
   ]
  },
  {
   "cell_type": "markdown",
   "id": "authentic-fortune",
   "metadata": {},
   "source": [
    "## Train entity linker and push entities to Elasticsearch index"
   ]
  },
  {
   "cell_type": "code",
   "execution_count": 9,
   "id": "arabic-government",
   "metadata": {},
   "outputs": [],
   "source": [
    "df = pd.read_excel(\"../../../GITIGNORE_DATA/NEL/review_data_1103.xlsx\", index_col=0)\n",
    "df.loc[~df['link_correct'].isnull(), 'link_correct'] = df.loc[~df['link_correct'].isnull(), 'link_correct'].apply(int)\n",
    "df_annotated = df[(~df['link_correct'].isnull()) & (df['candidate_rank'] != -1)]\n"
   ]
  },
  {
   "cell_type": "code",
   "execution_count": 10,
   "id": "particular-lottery",
   "metadata": {},
   "outputs": [
    {
     "name": "stdout",
     "output_type": "stream",
     "text": [
      "2021-03-23 16:22:01,376 - heritageconnector.datastore - INFO - Training entity linker...\n",
      "2021-03-23 16:22:03,842 - heritageconnector.nlp.nel - DEBUG - Calculating sBERT embeddings... (1/2)\n",
      "2021-03-23 16:22:07,075 - heritageconnector.nlp.nel - DEBUG - Calculating sBERT embeddings... (2/2)\n"
     ]
    }
   ],
   "source": [
    "clf = ner_loader.train_entity_linker(df_annotated)"
   ]
  },
  {
   "cell_type": "code",
   "execution_count": 11,
   "id": "interesting-dairy",
   "metadata": {},
   "outputs": [
    {
     "data": {
      "text/plain": [
       "True"
      ]
     },
     "execution_count": 11,
     "metadata": {},
     "output_type": "execute_result"
    }
   ],
   "source": [
    "ner_loader.has_trained_linker"
   ]
  },
  {
   "cell_type": "code",
   "execution_count": 13,
   "id": "laden-costa",
   "metadata": {},
   "outputs": [
    {
     "name": "stdout",
     "output_type": "stream",
     "text": [
      "2021-03-23 16:23:42,833 - heritageconnector.datastore - DEBUG - Connected to Elasticsearch cluster at https://c4241473f2f84e2ab15c5b7c81eb34a4.eu-west-1.aws.found.io:9243/\n",
      "2021-03-23 16:23:42,833 - heritageconnector.datastore - DEBUG - Connected to Elasticsearch cluster at https://c4241473f2f84e2ab15c5b7c81eb34a4.eu-west-1.aws.found.io:9243/\n",
      "2021-03-23 16:23:42,954 - heritageconnector.datastore - INFO - Loading 463 entities into heritageconnector_test\n",
      "2021-03-23 16:23:42,954 - heritageconnector.datastore - INFO - Loading 463 entities into heritageconnector_test\n",
      "2021-03-23 16:23:43,300 - heritageconnector.datastore - INFO - Loading entity mentions with no link candidates by type...\n",
      "2021-03-23 16:23:43,300 - heritageconnector.datastore - INFO - Loading entity mentions with no link candidates by type...\n"
     ]
    },
    {
     "data": {
      "application/vnd.jupyter.widget-view+json": {
       "model_id": "882c18f0c34a4dd0a5893ae59a298075",
       "version_major": 2,
       "version_minor": 0
      },
      "text/plain": [
       "  0%|          | 0/8 [00:00<?, ?ent type/s]"
      ]
     },
     "metadata": {},
     "output_type": "display_data"
    },
    {
     "name": "stdout",
     "output_type": "stream",
     "text": [
      "2021-03-23 16:23:44,006 - heritageconnector.datastore - INFO - Predicting links for entity mentions with link candidates and loading them in, in batches of 32768...\n",
      "2021-03-23 16:23:44,006 - heritageconnector.datastore - INFO - Predicting links for entity mentions with link candidates and loading them in, in batches of 32768...\n"
     ]
    },
    {
     "data": {
      "application/vnd.jupyter.widget-view+json": {
       "model_id": "2f27c64a3c5148e28ec1cb25c3e9f0d8",
       "version_major": 2,
       "version_minor": 0
      },
      "text/plain": [
       "  0%|          | 0/1 [00:00<?, ?batch/s]"
      ]
     },
     "metadata": {},
     "output_type": "display_data"
    },
    {
     "name": "stdout",
     "output_type": "stream",
     "text": [
      "2021-03-23 16:23:54,052 - heritageconnector.nlp.nel - DEBUG - Calculating sBERT embeddings... (1/2)\n",
      "2021-03-23 16:23:56,744 - heritageconnector.nlp.nel - DEBUG - Calculating sBERT embeddings... (2/2)\n"
     ]
    }
   ],
   "source": [
    "ner_loader.load_entities_into_es(linking_confidence_threshold=0.5, force_load_without_linker=True)"
   ]
  },
  {
   "cell_type": "code",
   "execution_count": null,
   "id": "efficient-fourth",
   "metadata": {},
   "outputs": [],
   "source": []
  }
 ],
 "metadata": {
  "kernelspec": {
   "display_name": "Python 3",
   "language": "python",
   "name": "python3"
  },
  "language_info": {
   "codemirror_mode": {
    "name": "ipython",
    "version": 3
   },
   "file_extension": ".py",
   "mimetype": "text/x-python",
   "name": "python",
   "nbconvert_exporter": "python",
   "pygments_lexer": "ipython3",
   "version": "3.9.1"
  }
 },
 "nbformat": 4,
 "nbformat_minor": 5
}
