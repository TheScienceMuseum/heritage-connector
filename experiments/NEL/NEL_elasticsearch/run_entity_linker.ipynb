{
 "cells": [
  {
   "cell_type": "code",
   "execution_count": 1,
   "id": "narrative-shanghai",
   "metadata": {},
   "outputs": [
    {
     "name": "stdout",
     "output_type": "stream",
     "text": [
      "2021-03-18 10:03:43,928 - heritageconnector.datastore - DEBUG - Connected to Elasticsearch cluster at https://c4241473f2f84e2ab15c5b7c81eb34a4.eu-west-1.aws.found.io:9243/\n"
     ]
    }
   ],
   "source": [
    "%load_ext autoreload\n",
    "%autoreload 2\n",
    "import sys\n",
    "sys.path.append(\"../../..\")\n",
    "\n",
    "from heritageconnector import datastore\n",
    "from heritageconnector.config import field_mapping\n",
    "from heritageconnector.best_spacy_pipeline import load_model\n",
    "from heritageconnector.datastore import es, index\n",
    "from smg_jobs.smg_loader import preprocess_text_for_ner\n",
    "\n",
    "import entity_linker\n",
    "\n",
    "import pandas as pd\n",
    "pd.options.display.max_rows = None\n",
    "pd.options.display.max_colwidth = None"
   ]
  },
  {
   "cell_type": "markdown",
   "id": "limited-fight",
   "metadata": {},
   "source": [
    "### NERLoader"
   ]
  },
  {
   "cell_type": "code",
   "execution_count": 2,
   "id": "united-stroke",
   "metadata": {},
   "outputs": [],
   "source": [
    "source_description_field = target_description_field = \"data.http://www.w3.org/2001/XMLSchema#description\"\n",
    "target_title_field = \"graph.@rdfs:label.@value\"\n",
    "target_alias_field = \"graph.@skos:altLabel.@value\"\n",
    "target_type_field = \"graph.@skos:hasTopConcept.@value\"\n",
    "\n",
    "record_loader = datastore.RecordLoader(\"SMG\", field_mapping)\n",
    "ner_loader = datastore.NERLoader(\n",
    "    record_loader,\n",
    "    source_es_index = 'heritageconnector',\n",
    "    target_es_index = 'heritageconnector',\n",
    "    source_description_field = source_description_field, \n",
    "    target_title_field = target_title_field, \n",
    "    target_description_field = target_description_field, \n",
    "    target_type_field = target_type_field,\n",
    "    target_alias_field = target_alias_field,\n",
    "    entity_types_to_link={\"PERSON\", \"OBJECT\", \"ORG\"},\n",
    "    text_preprocess_func=preprocess_text_for_ner\n",
    ")"
   ]
  },
  {
   "cell_type": "code",
   "execution_count": 3,
   "id": "found-assumption",
   "metadata": {},
   "outputs": [
    {
     "name": "stdout",
     "output_type": "stream",
     "text": [
      "2021-03-18 10:03:46,393 - heritageconnector.datastore - INFO - Fetching docs and running NER.\n",
      "spacy tried to use GPU but failed\n",
      "2021-03-18 10:03:51,249 - hc_nlp.pipeline - INFO - Loading thesaurus from ../../../heritageconnector/../GITIGNORE_DATA/labels_all_unambiguous_types_people_orgs.jsonl\n",
      "2021-03-18 10:03:52,607 - hc_nlp.pipeline - INFO - 17016 term thesaurus imported in 1s\n"
     ]
    },
    {
     "data": {
      "application/vnd.jupyter.widget-view+json": {
       "model_id": "3b1891e523494432aff7182c8d8af52a",
       "version_major": 2,
       "version_minor": 0
      },
      "text/plain": [
       "0it [00:00, ?it/s]"
      ]
     },
     "metadata": {},
     "output_type": "display_data"
    },
    {
     "data": {
      "text/plain": [
       "1340"
      ]
     },
     "execution_count": 3,
     "metadata": {},
     "output_type": "execute_result"
    }
   ],
   "source": [
    "entity_list = ner_loader.get_list_of_entities_from_es(\"en_core_web_trf\", 500, random_seed=420)\n",
    "len(entity_list)"
   ]
  },
  {
   "cell_type": "code",
   "execution_count": 5,
   "id": "heard-interval",
   "metadata": {},
   "outputs": [
    {
     "name": "stdout",
     "output_type": "stream",
     "text": [
      "2021-03-18 10:04:38,710 - heritageconnector.datastore - INFO - Getting link candidates for each of 1340 entities\n"
     ]
    },
    {
     "data": {
      "application/vnd.jupyter.widget-view+json": {
       "model_id": "81fee0898fcc4d7ebb8e93f3a00758f0",
       "version_major": 2,
       "version_minor": 0
      },
      "text/plain": [
       "  0%|          | 0/1340 [00:00<?, ?it/s]"
      ]
     },
     "metadata": {},
     "output_type": "display_data"
    }
   ],
   "source": [
    "entity_list_with_links = ner_loader.get_link_candidates(candidates_per_entity_mention=10)"
   ]
  },
  {
   "cell_type": "code",
   "execution_count": 97,
   "id": "endangered-header",
   "metadata": {},
   "outputs": [
    {
     "data": {
      "text/plain": [
       "(Index(['item_uri', 'candidate_rank', 'item_description_with_ent', 'ent_label',\n",
       "        'ent_text', 'ent_sentence', 'candidate_title', 'candidate_type',\n",
       "        'candidate_uri', 'link_correct', 'candidate_alias',\n",
       "        'candidate_description', 'item_description'],\n",
       "       dtype='object'),\n",
       " (6042, 13))"
      ]
     },
     "execution_count": 97,
     "metadata": {},
     "output_type": "execute_result"
    }
   ],
   "source": [
    "ent_df = ner_loader.entity_list_as_dataframe\n",
    "ent_df.columns, ent_df.shape"
   ]
  },
  {
   "cell_type": "code",
   "execution_count": 102,
   "id": "according-citizenship",
   "metadata": {},
   "outputs": [
    {
     "name": "stdout",
     "output_type": "stream",
     "text": [
      "2021-03-18 11:40:34,039 - heritageconnector.datastore - DEBUG - Connected to Elasticsearch cluster at https://c4241473f2f84e2ab15c5b7c81eb34a4.eu-west-1.aws.found.io:9243/\n",
      "2021-03-18 11:40:34,039 - heritageconnector.datastore - DEBUG - Connected to Elasticsearch cluster at https://c4241473f2f84e2ab15c5b7c81eb34a4.eu-west-1.aws.found.io:9243/\n",
      "2021-03-18 11:40:34,039 - heritageconnector.datastore - DEBUG - Connected to Elasticsearch cluster at https://c4241473f2f84e2ab15c5b7c81eb34a4.eu-west-1.aws.found.io:9243/\n",
      "2021-03-18 11:40:34,039 - heritageconnector.datastore - DEBUG - Connected to Elasticsearch cluster at https://c4241473f2f84e2ab15c5b7c81eb34a4.eu-west-1.aws.found.io:9243/\n",
      "2021-03-18 11:40:34,039 - heritageconnector.datastore - DEBUG - Connected to Elasticsearch cluster at https://c4241473f2f84e2ab15c5b7c81eb34a4.eu-west-1.aws.found.io:9243/\n",
      "2021-03-18 11:40:34,039 - heritageconnector.datastore - DEBUG - Connected to Elasticsearch cluster at https://c4241473f2f84e2ab15c5b7c81eb34a4.eu-west-1.aws.found.io:9243/\n",
      "2021-03-18 11:40:34,039 - heritageconnector.datastore - DEBUG - Connected to Elasticsearch cluster at https://c4241473f2f84e2ab15c5b7c81eb34a4.eu-west-1.aws.found.io:9243/\n"
     ]
    }
   ],
   "source": [
    "review_df = ner_loader.get_links_data_for_review()\n",
    "# review_df.head()\n",
    "# review_df.to_csv(\"./review_data.csv\")"
   ]
  },
  {
   "cell_type": "code",
   "execution_count": 6,
   "id": "political-homework",
   "metadata": {},
   "outputs": [],
   "source": [
    "# review_df.to_excel(\"./review_data_1103.xlsx\")"
   ]
  },
  {
   "cell_type": "markdown",
   "id": "dimensional-whale",
   "metadata": {},
   "source": [
    "## Train entity linker and push entities to Elasticsearch index"
   ]
  },
  {
   "cell_type": "code",
   "execution_count": 24,
   "id": "specific-detail",
   "metadata": {},
   "outputs": [],
   "source": [
    "df = pd.read_excel(\"../../../GITIGNORE_DATA/NEL/review_data_1103.xlsx\", index_col=0)\n",
    "df.loc[~df['link_correct'].isnull(), 'link_correct'] = df.loc[~df['link_correct'].isnull(), 'link_correct'].apply(int)\n",
    "df_annotated = df[(~df['link_correct'].isnull()) & (df['candidate_rank'] != -1)]\n"
   ]
  },
  {
   "cell_type": "code",
   "execution_count": 139,
   "id": "august-henry",
   "metadata": {},
   "outputs": [
    {
     "name": "stdout",
     "output_type": "stream",
     "text": [
      "2021-03-18 13:22:35,065 - heritageconnector.datastore - INFO - Training entity linker...\n",
      "2021-03-18 13:22:35,065 - heritageconnector.datastore - INFO - Training entity linker...\n",
      "2021-03-18 13:22:35,065 - heritageconnector.datastore - INFO - Training entity linker...\n",
      "2021-03-18 13:22:35,065 - heritageconnector.datastore - INFO - Training entity linker...\n",
      "2021-03-18 13:22:35,065 - heritageconnector.datastore - INFO - Training entity linker...\n",
      "2021-03-18 13:22:35,065 - heritageconnector.datastore - INFO - Training entity linker...\n",
      "2021-03-18 13:22:35,065 - heritageconnector.datastore - INFO - Training entity linker...\n",
      "2021-03-18 13:22:35,065 - heritageconnector.datastore - INFO - Training entity linker...\n",
      "2021-03-18 13:22:35,065 - heritageconnector.datastore - INFO - Training entity linker...\n",
      "2021-03-18 13:22:35,065 - heritageconnector.datastore - INFO - Training entity linker...\n",
      "2021-03-18 13:22:35,065 - heritageconnector.datastore - INFO - Training entity linker...\n",
      "2021-03-18 13:22:35,065 - heritageconnector.datastore - INFO - Training entity linker...\n",
      "2021-03-18 13:22:37,700 - heritageconnector.nlp.nel - INFO - Calculating sBERT embeddings... (1/2)\n",
      "2021-03-18 13:22:37,700 - heritageconnector.nlp.nel - INFO - Calculating sBERT embeddings... (1/2)\n",
      "2021-03-18 13:22:37,700 - heritageconnector.nlp.nel - INFO - Calculating sBERT embeddings... (1/2)\n"
     ]
    },
    {
     "data": {
      "application/vnd.jupyter.widget-view+json": {
       "model_id": "d4ca9dc966f64dd782ad358839c6c46c",
       "version_major": 2,
       "version_minor": 0
      },
      "text/plain": [
       "Batches:   0%|          | 0/3 [00:00<?, ?it/s]"
      ]
     },
     "metadata": {},
     "output_type": "display_data"
    },
    {
     "name": "stdout",
     "output_type": "stream",
     "text": [
      "2021-03-18 13:22:40,817 - heritageconnector.nlp.nel - INFO - Calculating sBERT embeddings... (2/2)\n",
      "2021-03-18 13:22:40,817 - heritageconnector.nlp.nel - INFO - Calculating sBERT embeddings... (2/2)\n",
      "2021-03-18 13:22:40,817 - heritageconnector.nlp.nel - INFO - Calculating sBERT embeddings... (2/2)\n"
     ]
    },
    {
     "data": {
      "application/vnd.jupyter.widget-view+json": {
       "model_id": "9b2eeda3af29461195db9c9039772e97",
       "version_major": 2,
       "version_minor": 0
      },
      "text/plain": [
       "Batches:   0%|          | 0/37 [00:00<?, ?it/s]"
      ]
     },
     "metadata": {},
     "output_type": "display_data"
    }
   ],
   "source": [
    "clf = ner_loader.train_entity_linker(df_annotated)"
   ]
  },
  {
   "cell_type": "code",
   "execution_count": 140,
   "id": "velvet-criterion",
   "metadata": {},
   "outputs": [
    {
     "data": {
      "text/plain": [
       "Pipeline(steps=[('featgen', NELFeatureGenerator()),\n",
       "                ('classifier', MLPClassifier(max_iter=1000, random_state=42))])"
      ]
     },
     "execution_count": 140,
     "metadata": {},
     "output_type": "execute_result"
    }
   ],
   "source": [
    "ner_loader.clf"
   ]
  },
  {
   "cell_type": "code",
   "execution_count": 116,
   "id": "collectible-gather",
   "metadata": {},
   "outputs": [
    {
     "name": "stdout",
     "output_type": "stream",
     "text": [
      "2021-03-18 12:18:13,060 - heritageconnector.datastore - DEBUG - Connected to Elasticsearch cluster at https://c4241473f2f84e2ab15c5b7c81eb34a4.eu-west-1.aws.found.io:9243/\n",
      "2021-03-18 12:18:13,060 - heritageconnector.datastore - DEBUG - Connected to Elasticsearch cluster at https://c4241473f2f84e2ab15c5b7c81eb34a4.eu-west-1.aws.found.io:9243/\n",
      "2021-03-18 12:18:13,060 - heritageconnector.datastore - DEBUG - Connected to Elasticsearch cluster at https://c4241473f2f84e2ab15c5b7c81eb34a4.eu-west-1.aws.found.io:9243/\n",
      "2021-03-18 12:18:13,060 - heritageconnector.datastore - DEBUG - Connected to Elasticsearch cluster at https://c4241473f2f84e2ab15c5b7c81eb34a4.eu-west-1.aws.found.io:9243/\n",
      "2021-03-18 12:18:13,060 - heritageconnector.datastore - DEBUG - Connected to Elasticsearch cluster at https://c4241473f2f84e2ab15c5b7c81eb34a4.eu-west-1.aws.found.io:9243/\n",
      "2021-03-18 12:18:13,060 - heritageconnector.datastore - DEBUG - Connected to Elasticsearch cluster at https://c4241473f2f84e2ab15c5b7c81eb34a4.eu-west-1.aws.found.io:9243/\n",
      "2021-03-18 12:18:13,060 - heritageconnector.datastore - DEBUG - Connected to Elasticsearch cluster at https://c4241473f2f84e2ab15c5b7c81eb34a4.eu-west-1.aws.found.io:9243/\n",
      "2021-03-18 12:18:13,060 - heritageconnector.datastore - DEBUG - Connected to Elasticsearch cluster at https://c4241473f2f84e2ab15c5b7c81eb34a4.eu-west-1.aws.found.io:9243/\n",
      "2021-03-18 12:18:13,060 - heritageconnector.datastore - DEBUG - Connected to Elasticsearch cluster at https://c4241473f2f84e2ab15c5b7c81eb34a4.eu-west-1.aws.found.io:9243/\n",
      "2021-03-18 12:18:13,060 - heritageconnector.datastore - DEBUG - Connected to Elasticsearch cluster at https://c4241473f2f84e2ab15c5b7c81eb34a4.eu-west-1.aws.found.io:9243/\n",
      "2021-03-18 12:18:13,253 - heritageconnector.datastore - INFO - Loading 1340 entities into heritageconnector\n",
      "2021-03-18 12:18:13,253 - heritageconnector.datastore - INFO - Loading 1340 entities into heritageconnector\n",
      "2021-03-18 12:18:13,253 - heritageconnector.datastore - INFO - Loading 1340 entities into heritageconnector\n",
      "2021-03-18 12:18:13,253 - heritageconnector.datastore - INFO - Loading 1340 entities into heritageconnector\n",
      "2021-03-18 12:18:13,253 - heritageconnector.datastore - INFO - Loading 1340 entities into heritageconnector\n",
      "2021-03-18 12:18:13,253 - heritageconnector.datastore - INFO - Loading 1340 entities into heritageconnector\n",
      "2021-03-18 12:18:13,253 - heritageconnector.datastore - INFO - Loading 1340 entities into heritageconnector\n",
      "2021-03-18 12:18:13,253 - heritageconnector.datastore - INFO - Loading 1340 entities into heritageconnector\n",
      "2021-03-18 12:18:13,253 - heritageconnector.datastore - INFO - Loading 1340 entities into heritageconnector\n",
      "2021-03-18 12:18:13,253 - heritageconnector.datastore - INFO - Loading 1340 entities into heritageconnector\n",
      "2021-03-18 12:18:14,325 - heritageconnector.datastore - INFO - Predicting True links for entity annotation with link candidates\n",
      "2021-03-18 12:18:14,325 - heritageconnector.datastore - INFO - Predicting True links for entity annotation with link candidates\n",
      "2021-03-18 12:18:14,325 - heritageconnector.datastore - INFO - Predicting True links for entity annotation with link candidates\n",
      "2021-03-18 12:18:14,325 - heritageconnector.datastore - INFO - Predicting True links for entity annotation with link candidates\n",
      "2021-03-18 12:18:14,325 - heritageconnector.datastore - INFO - Predicting True links for entity annotation with link candidates\n",
      "2021-03-18 12:18:14,325 - heritageconnector.datastore - INFO - Predicting True links for entity annotation with link candidates\n",
      "2021-03-18 12:18:14,325 - heritageconnector.datastore - INFO - Predicting True links for entity annotation with link candidates\n",
      "2021-03-18 12:18:14,325 - heritageconnector.datastore - INFO - Predicting True links for entity annotation with link candidates\n",
      "2021-03-18 12:18:14,325 - heritageconnector.datastore - INFO - Predicting True links for entity annotation with link candidates\n",
      "2021-03-18 12:18:14,325 - heritageconnector.datastore - INFO - Predicting True links for entity annotation with link candidates\n",
      "2021-03-18 12:18:21,708 - heritageconnector.nlp.nel - INFO - Calculating sBERT embeddings... (1/2)\n"
     ]
    },
    {
     "data": {
      "application/vnd.jupyter.widget-view+json": {
       "model_id": "e1acf3dcb2e94edfa94692b9047e3ae6",
       "version_major": 2,
       "version_minor": 0
      },
      "text/plain": [
       "Batches:   0%|          | 0/164 [00:00<?, ?it/s]"
      ]
     },
     "metadata": {},
     "output_type": "display_data"
    },
    {
     "name": "stdout",
     "output_type": "stream",
     "text": [
      "2021-03-18 12:21:02,555 - heritageconnector.nlp.nel - INFO - Calculating sBERT embeddings... (2/2)\n"
     ]
    },
    {
     "data": {
      "application/vnd.jupyter.widget-view+json": {
       "model_id": "8487925b58ca44a2b1f0bbcfb6706438",
       "version_major": 2,
       "version_minor": 0
      },
      "text/plain": [
       "Batches:   0%|          | 0/164 [00:00<?, ?it/s]"
      ]
     },
     "metadata": {},
     "output_type": "display_data"
    },
    {
     "name": "stdout",
     "output_type": "stream",
     "text": [
      "2021-03-18 12:23:34,061 - heritageconnector.datastore - INFO - Loading 261 linked and 1156 unlinked entities into heritageconnector\n",
      "2021-03-18 12:23:34,061 - heritageconnector.datastore - INFO - Loading 261 linked and 1156 unlinked entities into heritageconnector\n",
      "2021-03-18 12:23:34,061 - heritageconnector.datastore - INFO - Loading 261 linked and 1156 unlinked entities into heritageconnector\n",
      "2021-03-18 12:23:34,061 - heritageconnector.datastore - INFO - Loading 261 linked and 1156 unlinked entities into heritageconnector\n",
      "2021-03-18 12:23:34,061 - heritageconnector.datastore - INFO - Loading 261 linked and 1156 unlinked entities into heritageconnector\n",
      "2021-03-18 12:23:34,061 - heritageconnector.datastore - INFO - Loading 261 linked and 1156 unlinked entities into heritageconnector\n",
      "2021-03-18 12:23:34,061 - heritageconnector.datastore - INFO - Loading 261 linked and 1156 unlinked entities into heritageconnector\n",
      "2021-03-18 12:23:34,061 - heritageconnector.datastore - INFO - Loading 261 linked and 1156 unlinked entities into heritageconnector\n",
      "2021-03-18 12:23:34,061 - heritageconnector.datastore - INFO - Loading 261 linked and 1156 unlinked entities into heritageconnector\n",
      "2021-03-18 12:23:34,061 - heritageconnector.datastore - INFO - Loading 261 linked and 1156 unlinked entities into heritageconnector\n"
     ]
    }
   ],
   "source": [
    "ner_loader.load_entities_into_es(linking_confidence_threshold=0.5)"
   ]
  },
  {
   "cell_type": "code",
   "execution_count": 128,
   "id": "returning-ozone",
   "metadata": {},
   "outputs": [],
   "source": [
    "unique_vals, unique_indices = np.unique(ent_df[\"item_description\"], return_inverse=True)"
   ]
  },
  {
   "cell_type": "code",
   "execution_count": 129,
   "id": "recreational-humanitarian",
   "metadata": {},
   "outputs": [
    {
     "data": {
      "text/plain": [
       "6042"
      ]
     },
     "execution_count": 129,
     "metadata": {},
     "output_type": "execute_result"
    }
   ],
   "source": [
    "len(ent_df)"
   ]
  },
  {
   "cell_type": "code",
   "execution_count": null,
   "id": "pending-newsletter",
   "metadata": {},
   "outputs": [],
   "source": []
  }
 ],
 "metadata": {
  "kernelspec": {
   "display_name": "Python 3",
   "language": "python",
   "name": "python3"
  },
  "language_info": {
   "codemirror_mode": {
    "name": "ipython",
    "version": 3
   },
   "file_extension": ".py",
   "mimetype": "text/x-python",
   "name": "python",
   "nbconvert_exporter": "python",
   "pygments_lexer": "ipython3",
   "version": "3.9.1"
  }
 },
 "nbformat": 4,
 "nbformat_minor": 5
}
