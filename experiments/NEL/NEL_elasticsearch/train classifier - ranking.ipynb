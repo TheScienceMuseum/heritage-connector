{
 "cells": [
  {
   "cell_type": "code",
   "execution_count": 1,
   "id": "linear-classics",
   "metadata": {},
   "outputs": [
    {
     "name": "stdout",
     "output_type": "stream",
     "text": [
      "Requirement already satisfied: openpyxl in /Users/kalyan/.pyenv/versions/3.9.1/envs/hc/lib/python3.9/site-packages (3.0.6)\n",
      "Requirement already satisfied: textdistance in /Users/kalyan/.pyenv/versions/3.9.1/envs/hc/lib/python3.9/site-packages (4.2.1)\n",
      "Requirement already satisfied: jdcal in /Users/kalyan/.pyenv/versions/3.9.1/envs/hc/lib/python3.9/site-packages (from openpyxl) (1.4.1)\n",
      "Requirement already satisfied: et-xmlfile in /Users/kalyan/.pyenv/versions/3.9.1/envs/hc/lib/python3.9/site-packages (from openpyxl) (1.0.1)\n",
      "\u001b[33mWARNING: You are using pip version 20.3.3; however, version 21.0.1 is available.\n",
      "You should consider upgrading via the '/Users/kalyan/.pyenv/versions/3.9.1/envs/hc/bin/python -m pip install --upgrade pip' command.\u001b[0m\n"
     ]
    }
   ],
   "source": [
    "!pip install openpyxl textdistance"
   ]
  },
  {
   "cell_type": "code",
   "execution_count": 2,
   "id": "isolated-testing",
   "metadata": {},
   "outputs": [],
   "source": [
    "import pandas as pd\n",
    "import numpy as np\n",
    "import seaborn as sns\n",
    "\n",
    "import textdistance\n",
    "from Levenshtein import distance, ratio\n",
    "from fuzzywuzzy import fuzz\n",
    "\n",
    "from hc_nlp.constants import ORG_LEGAL_SUFFIXES\n",
    "\n",
    "# disable SettingWithCopyWarning\n",
    "pd.options.mode.chained_assignment = None\n",
    "\n",
    "pd.options.display.max_rows = None"
   ]
  },
  {
   "cell_type": "code",
   "execution_count": 3,
   "id": "crazy-mirror",
   "metadata": {},
   "outputs": [
    {
     "data": {
      "text/plain": [
       "(2852, 567)"
      ]
     },
     "execution_count": 3,
     "metadata": {},
     "output_type": "execute_result"
    }
   ],
   "source": [
    "df = pd.read_excel(\"../../../GITIGNORE_DATA/NEL/KD copy of review_data.xlsx 240221.xlsx\")\n",
    "df.loc[~df['link_correct'].isnull(), 'link_correct'] = df.loc[~df['link_correct'].isnull(), 'link_correct'].apply(int)\n",
    "df = df.drop(columns=[\"item_uri.1\", \"candidate_uri.1\"])\n",
    "df['ent_label'] = df['ent_label'].map({\"PERSON\": \"PERSON\", \"OBJECT\": \"OBJECT\", \"ORG\": \"ORGANISATION\"})\n",
    "df['link_correct'] = df['link_correct'].map({0: False, 1: True})\n",
    "df['_type_match'] = (df['ent_label'] == df['candidate_type'])\n",
    "df[[\"ent_text\", \"candidate_title\"]] = df[[\"ent_text\", \"candidate_title\"]].astype(str)\n",
    "df['_ent_candidate_distance'] = df.apply(lambda x: distance(x[\"ent_text\"], x[\"candidate_title\"]), axis=1)\n",
    "df['_ent_candidate_similarity'] = df.apply(lambda x: ratio(x[\"ent_text\"], x[\"candidate_title\"]), axis=1)\n",
    "df['_ent_candidate_sorted_similarity'] = df.apply(lambda x: fuzz.token_sort_ratio(x[\"ent_text\"], x[\"candidate_title\"])/100, axis=1)\n",
    "\n",
    "df_annotated = df[~df['link_correct'].isnull()]\n",
    "\n",
    "len(df), len(df_annotated)"
   ]
  },
  {
   "cell_type": "code",
   "execution_count": 4,
   "id": "violent-allocation",
   "metadata": {},
   "outputs": [
    {
     "data": {
      "text/html": [
       "<div>\n",
       "<style scoped>\n",
       "    .dataframe tbody tr th:only-of-type {\n",
       "        vertical-align: middle;\n",
       "    }\n",
       "\n",
       "    .dataframe tbody tr th {\n",
       "        vertical-align: top;\n",
       "    }\n",
       "\n",
       "    .dataframe thead th {\n",
       "        text-align: right;\n",
       "    }\n",
       "</style>\n",
       "<table border=\"1\" class=\"dataframe\">\n",
       "  <thead>\n",
       "    <tr style=\"text-align: right;\">\n",
       "      <th></th>\n",
       "      <th>item_uri</th>\n",
       "      <th>candidate_rank</th>\n",
       "      <th>item_description</th>\n",
       "      <th>ent_label</th>\n",
       "      <th>ent_text</th>\n",
       "      <th>candidate_title</th>\n",
       "      <th>candidate_type</th>\n",
       "      <th>candidate_description</th>\n",
       "      <th>link_correct</th>\n",
       "      <th>candidate_uri</th>\n",
       "      <th>candidate_alias</th>\n",
       "      <th>_type_match</th>\n",
       "      <th>_ent_candidate_distance</th>\n",
       "      <th>_ent_candidate_similarity</th>\n",
       "      <th>_ent_candidate_sorted_similarity</th>\n",
       "    </tr>\n",
       "  </thead>\n",
       "  <tbody>\n",
       "    <tr>\n",
       "      <th>0</th>\n",
       "      <td>https://collection.sciencemuseumgroup.org.uk/o...</td>\n",
       "      <td>0</td>\n",
       "      <td>Twenty autochromes, mostly of children, by Mrs...</td>\n",
       "      <td>PERSON</td>\n",
       "      <td>E. Janet Laing</td>\n",
       "      <td>Family album of photographs of Janet Marian La...</td>\n",
       "      <td>OBJECT</td>\n",
       "      <td>Family album of photographs of Janet Marian La...</td>\n",
       "      <td>False</td>\n",
       "      <td>https://collection.sciencemuseumgroup.org.uk/o...</td>\n",
       "      <td>NaN</td>\n",
       "      <td>False</td>\n",
       "      <td>48</td>\n",
       "      <td>0.324324</td>\n",
       "      <td>0.33</td>\n",
       "    </tr>\n",
       "    <tr>\n",
       "      <th>1</th>\n",
       "      <td>https://collection.sciencemuseumgroup.org.uk/o...</td>\n",
       "      <td>1</td>\n",
       "      <td>Twenty autochromes, mostly of children, by Mrs...</td>\n",
       "      <td>PERSON</td>\n",
       "      <td>E. Janet Laing</td>\n",
       "      <td>Two hand coloured bromide prints by Janet E</td>\n",
       "      <td>OBJECT</td>\n",
       "      <td>Two hand coloured bromide prints by Janet E. L...</td>\n",
       "      <td>False</td>\n",
       "      <td>https://collection.sciencemuseumgroup.org.uk/o...</td>\n",
       "      <td>NaN</td>\n",
       "      <td>False</td>\n",
       "      <td>36</td>\n",
       "      <td>0.280702</td>\n",
       "      <td>0.36</td>\n",
       "    </tr>\n",
       "    <tr>\n",
       "      <th>2</th>\n",
       "      <td>https://collection.sciencemuseumgroup.org.uk/o...</td>\n",
       "      <td>2</td>\n",
       "      <td>Twenty autochromes, mostly of children, by Mrs...</td>\n",
       "      <td>PERSON</td>\n",
       "      <td>E. Janet Laing</td>\n",
       "      <td>Laing</td>\n",
       "      <td>PERSON</td>\n",
       "      <td>NRM - Pictorial Collection \\n  \\n</td>\n",
       "      <td>False</td>\n",
       "      <td>https://collection.sciencemuseumgroup.org.uk/p...</td>\n",
       "      <td>NaN</td>\n",
       "      <td>True</td>\n",
       "      <td>9</td>\n",
       "      <td>0.526316</td>\n",
       "      <td>0.56</td>\n",
       "    </tr>\n",
       "    <tr>\n",
       "      <th>3</th>\n",
       "      <td>https://collection.sciencemuseumgroup.org.uk/o...</td>\n",
       "      <td>3</td>\n",
       "      <td>Twenty autochromes, mostly of children, by Mrs...</td>\n",
       "      <td>PERSON</td>\n",
       "      <td>E. Janet Laing</td>\n",
       "      <td>Archer, Janet</td>\n",
       "      <td>PERSON</td>\n",
       "      <td>NRM Pictorial Coll \\n  \\n</td>\n",
       "      <td>False</td>\n",
       "      <td>https://collection.sciencemuseumgroup.org.uk/p...</td>\n",
       "      <td>NaN</td>\n",
       "      <td>True</td>\n",
       "      <td>12</td>\n",
       "      <td>0.444444</td>\n",
       "      <td>0.56</td>\n",
       "    </tr>\n",
       "    <tr>\n",
       "      <th>4</th>\n",
       "      <td>https://collection.sciencemuseumgroup.org.uk/o...</td>\n",
       "      <td>4</td>\n",
       "      <td>Twenty autochromes, mostly of children, by Mrs...</td>\n",
       "      <td>PERSON</td>\n",
       "      <td>E. Janet Laing</td>\n",
       "      <td>Taylor, Janet</td>\n",
       "      <td>PERSON</td>\n",
       "      <td>Clifton, G., Directory of British Scientific I...</td>\n",
       "      <td>False</td>\n",
       "      <td>https://collection.sciencemuseumgroup.org.uk/p...</td>\n",
       "      <td>NaN</td>\n",
       "      <td>True</td>\n",
       "      <td>12</td>\n",
       "      <td>0.444444</td>\n",
       "      <td>0.56</td>\n",
       "    </tr>\n",
       "  </tbody>\n",
       "</table>\n",
       "</div>"
      ],
      "text/plain": [
       "                                            item_uri  candidate_rank  \\\n",
       "0  https://collection.sciencemuseumgroup.org.uk/o...               0   \n",
       "1  https://collection.sciencemuseumgroup.org.uk/o...               1   \n",
       "2  https://collection.sciencemuseumgroup.org.uk/o...               2   \n",
       "3  https://collection.sciencemuseumgroup.org.uk/o...               3   \n",
       "4  https://collection.sciencemuseumgroup.org.uk/o...               4   \n",
       "\n",
       "                                    item_description ent_label  \\\n",
       "0  Twenty autochromes, mostly of children, by Mrs...    PERSON   \n",
       "1  Twenty autochromes, mostly of children, by Mrs...    PERSON   \n",
       "2  Twenty autochromes, mostly of children, by Mrs...    PERSON   \n",
       "3  Twenty autochromes, mostly of children, by Mrs...    PERSON   \n",
       "4  Twenty autochromes, mostly of children, by Mrs...    PERSON   \n",
       "\n",
       "         ent_text                                    candidate_title  \\\n",
       "0  E. Janet Laing  Family album of photographs of Janet Marian La...   \n",
       "1  E. Janet Laing        Two hand coloured bromide prints by Janet E   \n",
       "2  E. Janet Laing                                              Laing   \n",
       "3  E. Janet Laing                                      Archer, Janet   \n",
       "4  E. Janet Laing                                      Taylor, Janet   \n",
       "\n",
       "  candidate_type                              candidate_description  \\\n",
       "0         OBJECT  Family album of photographs of Janet Marian La...   \n",
       "1         OBJECT  Two hand coloured bromide prints by Janet E. L...   \n",
       "2         PERSON                 NRM - Pictorial Collection \\n  \\n    \n",
       "3         PERSON                         NRM Pictorial Coll \\n  \\n    \n",
       "4         PERSON  Clifton, G., Directory of British Scientific I...   \n",
       "\n",
       "  link_correct                                      candidate_uri  \\\n",
       "0        False  https://collection.sciencemuseumgroup.org.uk/o...   \n",
       "1        False  https://collection.sciencemuseumgroup.org.uk/o...   \n",
       "2        False  https://collection.sciencemuseumgroup.org.uk/p...   \n",
       "3        False  https://collection.sciencemuseumgroup.org.uk/p...   \n",
       "4        False  https://collection.sciencemuseumgroup.org.uk/p...   \n",
       "\n",
       "  candidate_alias  _type_match  _ent_candidate_distance  \\\n",
       "0             NaN        False                       48   \n",
       "1             NaN        False                       36   \n",
       "2             NaN         True                        9   \n",
       "3             NaN         True                       12   \n",
       "4             NaN         True                       12   \n",
       "\n",
       "   _ent_candidate_similarity  _ent_candidate_sorted_similarity  \n",
       "0                   0.324324                              0.33  \n",
       "1                   0.280702                              0.36  \n",
       "2                   0.526316                              0.56  \n",
       "3                   0.444444                              0.56  \n",
       "4                   0.444444                              0.56  "
      ]
     },
     "execution_count": 4,
     "metadata": {},
     "output_type": "execute_result"
    }
   ],
   "source": [
    "df_annotated.head()"
   ]
  },
  {
   "cell_type": "markdown",
   "id": "guilty-spirit",
   "metadata": {},
   "source": [
    "## 1. Analysing annotations"
   ]
  },
  {
   "cell_type": "code",
   "execution_count": 5,
   "id": "excessive-paradise",
   "metadata": {},
   "outputs": [
    {
     "name": "stdout",
     "output_type": "stream",
     "text": [
      "Total number of true annotations: 51\n"
     ]
    }
   ],
   "source": [
    "print(f\"Total number of true annotations: {sum(df_annotated.link_correct)}\")\n",
    "# print(f\"Number of entity mentions with at least one true annotation: {(df_annotated.groupby(['item_uri', 'ent_text']).sum() > 0)['link_correct'].sum()}\")"
   ]
  },
  {
   "cell_type": "markdown",
   "id": "primary-spain",
   "metadata": {},
   "source": [
    "#### entity type\n",
    "\n",
    "is entity type a good predictor of a match? -> **yes**"
   ]
  },
  {
   "cell_type": "code",
   "execution_count": 6,
   "id": "center-tomato",
   "metadata": {},
   "outputs": [
    {
     "data": {
      "image/png": "[encoded data removed]",
      "text/plain": [
       "<Figure size 432x288 with 1 Axes>"
      ]
     },
     "metadata": {
      "needs_background": "light"
     },
     "output_type": "display_data"
    }
   ],
   "source": [
    "sns.countplot(y=\"link_correct\", hue=\"_type_match\", data=df_annotated);"
   ]
  },
  {
   "cell_type": "markdown",
   "id": "southeast-laundry",
   "metadata": {},
   "source": [
    "### 1.1. Planning a Baseline predictor\n",
    "1. Use **text similarity only** as a predictor of whether an entity mention maps to a SMG record."
   ]
  },
  {
   "cell_type": "code",
   "execution_count": 7,
   "id": "posted-gravity",
   "metadata": {},
   "outputs": [
    {
     "data": {
      "image/png": "[encoded data removed]",
      "text/plain": [
       "<Figure size 432x288 with 1 Axes>"
      ]
     },
     "metadata": {
      "needs_background": "light"
     },
     "output_type": "display_data"
    }
   ],
   "source": [
    "g = sns.boxplot(data=df_annotated, x=\"_ent_candidate_sorted_similarity\", y=\"link_correct\", orient='h', showfliers=False)\n",
    "g.set_title(\"Entity mentions and candidate titles are generally more similar for true matches\");\n"
   ]
  },
  {
   "cell_type": "markdown",
   "id": "modified-china",
   "metadata": {},
   "source": [
    "2. Use **text similarity and matched type** as a predictor of whether an entity mention maps to an SMG record."
   ]
  },
  {
   "cell_type": "code",
   "execution_count": 8,
   "id": "stock-safety",
   "metadata": {},
   "outputs": [
    {
     "data": {
      "image/png": "[encoded data removed]",
      "text/plain": [
       "<Figure size 432x288 with 1 Axes>"
      ]
     },
     "metadata": {
      "needs_background": "light"
     },
     "output_type": "display_data"
    }
   ],
   "source": [
    "g = sns.boxplot(data=df_annotated, x=\"_ent_candidate_sorted_similarity\", y=\"link_correct\", hue=\"_type_match\", orient='h', showfliers=False)\n",
    "g.set_title(\"The difference is more apparent for correct links when matched types are taken into consideration\");"
   ]
  },
  {
   "cell_type": "code",
   "execution_count": 9,
   "id": "healthy-grass",
   "metadata": {},
   "outputs": [
    {
     "data": {
      "text/plain": [
       "<seaborn.axisgrid.FacetGrid at 0x1796b7ee0>"
      ]
     },
     "execution_count": 9,
     "metadata": {},
     "output_type": "execute_result"
    },
    {
     "data": {
      "image/png": "[encoded data removed]",
      "text/plain": [
       "<Figure size 648x216 with 3 Axes>"
      ]
     },
     "metadata": {
      "needs_background": "light"
     },
     "output_type": "display_data"
    }
   ],
   "source": [
    "g = sns.FacetGrid(df_annotated, col=\"ent_label\")\n",
    "g.map_dataframe(sns.boxplot, data=df_annotated, x=\"_ent_candidate_sorted_similarity\", y=\"link_correct\", hue=\"_type_match\", orient='h', showfliers=False)"
   ]
  },
  {
   "cell_type": "markdown",
   "id": "monetary-restoration",
   "metadata": {},
   "source": [
    "## 2. Building a Baseline Predictor\n",
    "- assume an entity mention and record are linked if `fuzz.token_sort_ratio(ent_mention, record_title)` is greater than a threshold, and the predicted entity mention type is the same as the record type\n",
    "- set this threshold initially to 0.8 based on the above plot and then tune it for accuracy"
   ]
  },
  {
   "cell_type": "code",
   "execution_count": 10,
   "id": "saving-acquisition",
   "metadata": {},
   "outputs": [],
   "source": [
    "threshold = 0.8\n",
    "sim_metric_col = \"_ent_candidate_sorted_similarity\"\n",
    "\n",
    "df_annotated['baseline_prediction'] = (df_annotated[sim_metric_col] >= threshold) & (df_annotated[\"_type_match\"])"
   ]
  },
  {
   "cell_type": "code",
   "execution_count": 11,
   "id": "sacred-separate",
   "metadata": {},
   "outputs": [
    {
     "name": "stdout",
     "output_type": "stream",
     "text": [
      "OVERALL\n",
      "{'f1': 0.7640449438202247, 'precision': 0.8947368421052632, 'recall': 0.6666666666666666, 'accuracy': 0.9629629629629629}\n",
      "PERSON\n",
      "{'f1': 0.7555555555555555, 'precision': 0.8947368421052632, 'recall': 0.6538461538461539, 'accuracy': 0.945273631840796}\n",
      "OBJECT\n",
      "{'f1': 0.8333333333333334, 'precision': 0.8333333333333334, 'recall': 0.8333333333333334, 'accuracy': 0.9333333333333333}\n",
      "ORGANISATION\n",
      "{'f1': 0.7499999999999999, 'precision': 0.9230769230769231, 'recall': 0.631578947368421, 'accuracy': 0.9761904761904762}\n"
     ]
    }
   ],
   "source": [
    "def calc_metrics(data, gt_col, pred_col):\n",
    "    tp = len(data[data[gt_col] & data[pred_col]])\n",
    "    fp = len(data[~data[gt_col] & data[pred_col]])\n",
    "    tn = len(data[~data[gt_col] & ~data[pred_col]])\n",
    "    fn = len(data[data[gt_col] & ~data[pred_col]])\n",
    "    \n",
    "    acc = (tp + tn) / (tp + fp + tn + fn)\n",
    "    pr = tp / (tp + fp)\n",
    "    re = tp / (tp + fn)\n",
    "    f1 = (2 * pr * re) / (pr + re)\n",
    "    \n",
    "    return {\"f1\": f1, \"precision\": pr, \"recall\": re, \"accuracy\": acc}\n",
    "    \n",
    "\n",
    "print(\"OVERALL\")\n",
    "print(calc_metrics(df_annotated, 'link_correct', 'baseline_prediction'))\n",
    "\n",
    "for t in [\"PERSON\", \"OBJECT\", \"ORGANISATION\"]:\n",
    "    print(t)\n",
    "    print(calc_metrics(df_annotated.loc[df_annotated[\"ent_label\"] == t, :], 'link_correct', 'baseline_prediction'))"
   ]
  },
  {
   "cell_type": "code",
   "execution_count": 12,
   "id": "corresponding-fountain",
   "metadata": {},
   "outputs": [
    {
     "name": "stdout",
     "output_type": "stream",
     "text": [
      "--- 0.6 ---\n",
      "{'f1': 0.5584415584415585, 'precision': 0.4174757281553398, 'recall': 0.8431372549019608, 'accuracy': 0.8800705467372134}\n",
      "PERSON\n",
      "{'f1': 0.5714285714285714, 'precision': 0.45454545454545453, 'recall': 0.7692307692307693, 'accuracy': 0.8507462686567164}\n",
      "OBJECT\n",
      "{'f1': 0.5882352941176471, 'precision': 0.45454545454545453, 'recall': 0.8333333333333334, 'accuracy': 0.7666666666666667}\n",
      "ORGANISATION\n",
      "{'f1': 0.537313432835821, 'precision': 0.375, 'recall': 0.9473684210526315, 'accuracy': 0.9077380952380952}\n",
      "--- 0.7 ---\n",
      "{'f1': 0.7207207207207207, 'precision': 0.6666666666666666, 'recall': 0.7843137254901961, 'accuracy': 0.9453262786596119}\n",
      "PERSON\n",
      "{'f1': 0.6545454545454545, 'precision': 0.6206896551724138, 'recall': 0.6923076923076923, 'accuracy': 0.9054726368159204}\n",
      "OBJECT\n",
      "{'f1': 0.8333333333333334, 'precision': 0.8333333333333334, 'recall': 0.8333333333333334, 'accuracy': 0.9333333333333333}\n",
      "ORGANISATION\n",
      "{'f1': 0.7727272727272727, 'precision': 0.68, 'recall': 0.8947368421052632, 'accuracy': 0.9702380952380952}\n",
      "--- 0.75 ---\n",
      "{'f1': 0.7835051546391751, 'precision': 0.8260869565217391, 'recall': 0.7450980392156863, 'accuracy': 0.9629629629629629}\n",
      "PERSON\n",
      "{'f1': 0.7555555555555555, 'precision': 0.8947368421052632, 'recall': 0.6538461538461539, 'accuracy': 0.945273631840796}\n",
      "OBJECT\n",
      "{'f1': 0.8333333333333334, 'precision': 0.8333333333333334, 'recall': 0.8333333333333334, 'accuracy': 0.9333333333333333}\n",
      "ORGANISATION\n",
      "{'f1': 0.8, 'precision': 0.7619047619047619, 'recall': 0.8421052631578947, 'accuracy': 0.9761904761904762}\n",
      "--- 0.8 ---\n",
      "{'f1': 0.7640449438202247, 'precision': 0.8947368421052632, 'recall': 0.6666666666666666, 'accuracy': 0.9629629629629629}\n",
      "PERSON\n",
      "{'f1': 0.7555555555555555, 'precision': 0.8947368421052632, 'recall': 0.6538461538461539, 'accuracy': 0.945273631840796}\n",
      "OBJECT\n",
      "{'f1': 0.8333333333333334, 'precision': 0.8333333333333334, 'recall': 0.8333333333333334, 'accuracy': 0.9333333333333333}\n",
      "ORGANISATION\n",
      "{'f1': 0.7499999999999999, 'precision': 0.9230769230769231, 'recall': 0.631578947368421, 'accuracy': 0.9761904761904762}\n",
      "--- 0.85 ---\n",
      "{'f1': 0.738095238095238, 'precision': 0.9393939393939394, 'recall': 0.6078431372549019, 'accuracy': 0.9611992945326279}\n",
      "PERSON\n",
      "{'f1': 0.7142857142857143, 'precision': 0.9375, 'recall': 0.5769230769230769, 'accuracy': 0.9402985074626866}\n",
      "OBJECT\n",
      "{'f1': 0.9090909090909091, 'precision': 1.0, 'recall': 0.8333333333333334, 'accuracy': 0.9666666666666667}\n",
      "ORGANISATION\n",
      "{'f1': 0.7096774193548387, 'precision': 0.9166666666666666, 'recall': 0.5789473684210527, 'accuracy': 0.9732142857142857}\n"
     ]
    }
   ],
   "source": [
    "for threshold in (0.6, 0.7, 0.75, 0.8, 0.85):\n",
    "    df_annotated['baseline_prediction'] = (df_annotated[sim_metric_col] >= threshold) & (df_annotated[\"_type_match\"])\n",
    "    \n",
    "    print(f\"--- {threshold} ---\")\n",
    "    print(calc_metrics(df_annotated, 'link_correct', 'baseline_prediction'))\n",
    "\n",
    "    for t in [\"PERSON\", \"OBJECT\", \"ORGANISATION\"]:\n",
    "        print(t)\n",
    "        print(calc_metrics(df_annotated.loc[df_annotated[\"ent_label\"] == t, :], 'link_correct', 'baseline_prediction'))"
   ]
  },
  {
   "cell_type": "markdown",
   "id": "statutory-offering",
   "metadata": {},
   "source": [
    "## 3. Building a machine learning predictor\n",
    "Using only the mention, title, and types of each."
   ]
  },
  {
   "cell_type": "code",
   "execution_count": 13,
   "id": "educated-italic",
   "metadata": {},
   "outputs": [],
   "source": [
    "from sklearn.preprocessing import OneHotEncoder\n",
    "from typing import List\n",
    "\n",
    "\n",
    "class FeatureGenerator:\n",
    "    def __init__(self, data: pd.DataFrame, ent_mention_col: str, ent_type_col: str, ent_context_col: str, candidate_title_col: str, candidate_type_col: str, candidate_context_col: str):\n",
    "        self.data = data\n",
    "        \n",
    "        # TODO: do lowercase transformation here to make all methods case-insensitive\n",
    "        \n",
    "        self.ent_mention_col = self.data[ent_mention_col]\n",
    "        self.ent_type_col = self.data[ent_type_col]\n",
    "        self.ent_context_col = self.data[ent_context_col]\n",
    "        self.candidate_title_col = self.data[candidate_title_col]\n",
    "        self.candidate_type_col = self.data[candidate_type_col]\n",
    "        self.candidate_context_col = self.data[candidate_context_col]\n",
    "        \n",
    "        self.n_records = self.data.shape[0]\n",
    "        \n",
    "        self.suffix_list = ORG_LEGAL_SUFFIXES\n",
    "        \n",
    "        self.ent_type_encoder = OneHotEncoder().fit(self.ent_type_col.unique().reshape(-1, 1))\n",
    "        self.candidate_type_encoder = OneHotEncoder().fit(self.candidate_type_col.unique().reshape(-1, 1))\n",
    "    \n",
    "    @staticmethod\n",
    "    def _remove_suffixes(text: str, suffix_list: List[str]) -> str:\n",
    "        \"\"\"\n",
    "        Returns lowercased version of text with any of the suffixes in suffix_list removed. Case-insensitive.\n",
    "        \"\"\"\n",
    "        mod_text = text[:-1].lower() if text[-1] == \".\" else text.lower()\n",
    "\n",
    "        for suffix in suffix_list:\n",
    "            if mod_text.endswith(suffix.lower()):\n",
    "                mod_text = mod_text.rstrip(suffix.lower()).strip()\n",
    "\n",
    "                break\n",
    "\n",
    "        return mod_text\n",
    "    \n",
    "    def _apply_string_sim_method(self, method, col_a: pd.Series, col_b: pd.Series, token_wise: bool, denominator: int = 1) -> np.ndarray:\n",
    "        \"\"\"\n",
    "        Params:\n",
    "        - token_wise (bool): if True, split each string by spaces (`method` is passed two sequences rather than two strings)\n",
    "        \"\"\"\n",
    "        if token_wise:\n",
    "            return np.array([[method(col_a.iloc[idx].split(), col_b.iloc[idx].split()) / denominator] if all([pd.notnull(col_a.iloc[idx]), pd.notnull(col_b.iloc[idx])]) else [0] for idx in range(self.n_records)])\n",
    "        else:\n",
    "            return np.array([[method(col_a.iloc[idx], col_b.iloc[idx]) / denominator] if all([pd.notnull(col_a.iloc[idx]), pd.notnull(col_b.iloc[idx])]) else [0] for idx in range(self.n_records)])\n",
    "        \n",
    "    def _generate_similarity_fuzz_sort(self, col_a: pd.Series, col_b: pd.Series, **kwargs) -> np.ndarray:\n",
    "        return self._apply_string_sim_method(fuzz.token_sort_ratio, col_a, col_b, denominator=100, token_wise=False)\n",
    "    \n",
    "    def _generate_similarity_levenshtein(self, col_a: pd.Series, col_b: pd.Series, **kwargs) -> np.ndarray:\n",
    "        return self._apply_string_sim_method(textdistance.levenshtein.normalized_similarity, col_a, col_b, token_wise=False)\n",
    "    \n",
    "    def _generate_similarity_jarowinkler(self, col_a: pd.Series, col_b: pd.Series, **kwargs) -> np.ndarray:\n",
    "        return self._apply_string_sim_method(textdistance.jaro_winkler.normalized_similarity, col_a, col_b, token_wise=False)\n",
    "    \n",
    "    def _generate_similarity_jaccard(self, col_a: pd.Series, col_b: pd.Series, **kwargs) -> np.ndarray:\n",
    "        return self._apply_string_sim_method(textdistance.jaccard.normalized_similarity, col_a, col_b, token_wise=True)\n",
    "    \n",
    "    def _generate_similarity_sorensen_dice(self, col_a: pd.Series, col_b: pd.Series, **kwargs) -> np.ndarray:\n",
    "        return self._apply_string_sim_method(textdistance.sorensen_dice.normalized_similarity, col_a, col_b, token_wise=True)\n",
    "    \n",
    "    def _generate_ml_similarity_fuzz_sort_ignore_suffixes(self, **kwargs) -> np.ndarray:\n",
    "        \n",
    "        if \"string_sim_metric\" in kwargs:\n",
    "            return np.array([[kwargs[\"string_sim_metric\"](self.ent_mention_col.iloc[idx], self.candidate_title_col.iloc[idx]) / 100] for idx in range(self.n_records) ])\n",
    "        \n",
    "        else:\n",
    "            return np.array([[fuzz.token_sort_ratio(\n",
    "                self._remove_suffixes(self.ent_mention_col.iloc[idx], self.suffix_list), \n",
    "                self._remove_suffixes(self.candidate_title_col.iloc[idx], self.suffix_list)\n",
    "            ) / 100] for idx in range(self.n_records) ])\n",
    "    \n",
    "    def _generate_label_in_mention(self, **kwargs) -> np.ndarray:\n",
    "        return np.array(\n",
    "            [[float(self.candidate_title_col.iloc[idx].lower() in self.ent_mention_col.iloc[idx].lower())] for idx in range(self.n_records)]\n",
    "        )\n",
    "    \n",
    "    def _generate_mention_in_label(self, **kwargs) -> np.ndarray:\n",
    "        return np.array(\n",
    "            [[float(self.ent_mention_col.iloc[idx].lower() in self.candidate_title_col.iloc[idx].lower())] for idx in range(self.n_records)]\n",
    "        )\n",
    "\n",
    "    \n",
    "    def _generate_type_features(self, **kwargs) -> np.ndarray:\n",
    "        return np.concatenate(\n",
    "            (\n",
    "                self.ent_type_encoder.transform(self.ent_type_col.values.reshape(-1,1)).toarray(), \n",
    "                self.candidate_type_encoder.transform(self.candidate_type_col.values.reshape(-1,1)).toarray()\n",
    "            ), \n",
    "            axis=1)\n",
    "    \n",
    "    def get_feature_matrix(self) -> np.ndarray:\n",
    "        \n",
    "        feature_rows = np.concatenate(\n",
    "            (\n",
    "                self._generate_similarity_fuzz_sort(self.ent_mention_col, self.candidate_title_col),\n",
    "                self._generate_similarity_levenshtein(self.ent_mention_col, self.candidate_title_col),\n",
    "                self._generate_similarity_jarowinkler(self.ent_mention_col, self.candidate_title_col),\n",
    "                self._generate_ml_similarity_fuzz_sort_ignore_suffixes(),\n",
    "                self._generate_similarity_jarowinkler(self.ent_context_col, self.candidate_context_col),\n",
    "                self._generate_similarity_jaccard(self.ent_context_col, self.candidate_context_col),\n",
    "                self._generate_similarity_sorensen_dice(self.ent_context_col, self.candidate_context_col),\n",
    "                self._generate_label_in_mention(),\n",
    "                self._generate_mention_in_label(),\n",
    "                self._generate_type_features(),\n",
    "            ), \n",
    "            axis=1\n",
    "        )\n",
    "        \n",
    "        return feature_rows\n",
    "        "
   ]
  },
  {
   "cell_type": "code",
   "execution_count": 14,
   "id": "better-execution",
   "metadata": {},
   "outputs": [],
   "source": [
    "f = FeatureGenerator(df_annotated, \n",
    "                     ent_mention_col='ent_text', ent_type_col='ent_label', ent_context_col='item_description', \n",
    "                     candidate_title_col='candidate_title', candidate_type_col='candidate_type', candidate_context_col='candidate_description')\n",
    "\n",
    "X = f.get_feature_matrix()\n",
    "y = 1*(df_annotated['link_correct'].values)"
   ]
  },
  {
   "cell_type": "code",
   "execution_count": 15,
   "id": "signed-lunch",
   "metadata": {},
   "outputs": [
    {
     "name": "stdout",
     "output_type": "stream",
     "text": [
      "E. Janet Laing --- Family album of photographs of Janet Marian Laing (later Mrs [0.10344828]\n",
      "E. Janet Laing --- Two hand coloured bromide prints by Janet E [0.25]\n",
      "E. Janet Laing --- Laing [0.]\n",
      "E. Janet Laing --- Archer, Janet [0.]\n",
      "E. Janet Laing --- Taylor, Janet [0.02247191]\n",
      "Unknown maker --- Unknown maker [0.]\n",
      "Unknown maker --- Wellplate, unknown maker [0.]\n",
      "Unknown maker --- Haemagglutination plate, unknown maker [0.]\n",
      "Unknown maker --- Test tube, unknown maker [0.]\n",
      "Unknown maker --- Test tube, unknown maker [0.]\n"
     ]
    }
   ],
   "source": [
    "i = 0\n",
    "n = 10\n",
    "\n",
    "for idx, row in df_annotated.head(n).iterrows():\n",
    "    print(row['ent_text'], \"---\" ,row['candidate_title'], X[i, [5]])\n",
    "    i += 1"
   ]
  },
  {
   "cell_type": "code",
   "execution_count": 16,
   "id": "alive-magic",
   "metadata": {},
   "outputs": [
    {
     "data": {
      "text/plain": [
       "((0.9440087375936432, 0.06721181749897512),\n",
       " (0.8294683257918551, 0.07772323471888948))"
      ]
     },
     "execution_count": 16,
     "metadata": {},
     "output_type": "execute_result"
    }
   ],
   "source": [
    "from sklearn.model_selection import cross_validate\n",
    "from sklearn.svm import SVC\n",
    "\n",
    "clf = SVC(kernel='linear', C=1, random_state=42)\n",
    "scores = cross_validate(clf, X, list(y), cv=10, scoring=['precision_macro', 'recall_macro'])\n",
    "\n",
    "(scores['test_precision_macro'].mean(), scores['test_precision_macro'].std()), (scores['test_recall_macro'].mean(), scores['test_recall_macro'].std())"
   ]
  },
  {
   "cell_type": "code",
   "execution_count": 17,
   "id": "union-favor",
   "metadata": {},
   "outputs": [
    {
     "data": {
      "text/plain": [
       "((0.9319351319539999, 0.09079945588001051),\n",
       " (0.8192119155354449, 0.06968056295106001))"
      ]
     },
     "execution_count": 17,
     "metadata": {},
     "output_type": "execute_result"
    }
   ],
   "source": [
    "from sklearn.linear_model import LogisticRegressionCV\n",
    "\n",
    "log_r = LogisticRegressionCV(cv=5, random_state=0, max_iter=500).fit(X, list(y))\n",
    "\n",
    "scores = cross_validate(log_r, X, list(y), cv=10, scoring=['precision_macro', 'recall_macro'])\n",
    "\n",
    "(scores['test_precision_macro'].mean(), scores['test_precision_macro'].std()), (scores['test_recall_macro'].mean(), scores['test_recall_macro'].std())"
   ]
  },
  {
   "cell_type": "code",
   "execution_count": 18,
   "id": "eight-marina",
   "metadata": {},
   "outputs": [
    {
     "data": {
      "text/plain": [
       "((0.9525607737927382, 0.0771046996206504),\n",
       " (0.8478205128205127, 0.09371312555549878))"
      ]
     },
     "execution_count": 18,
     "metadata": {},
     "output_type": "execute_result"
    }
   ],
   "source": [
    "from sklearn.neural_network import MLPClassifier\n",
    "\n",
    "mlp = MLPClassifier(random_state=0, max_iter=1000)\n",
    "\n",
    "scores = cross_validate(mlp, X, list(y), cv=10, scoring=['precision_macro', 'recall_macro'])\n",
    "\n",
    "(scores['test_precision_macro'].mean(), scores['test_precision_macro'].std()), (scores['test_recall_macro'].mean(), scores['test_recall_macro'].std())"
   ]
  },
  {
   "cell_type": "markdown",
   "id": "careful-paragraph",
   "metadata": {},
   "source": [
    "### 3.1 Test on unannotated data"
   ]
  },
  {
   "cell_type": "code",
   "execution_count": 19,
   "id": "earlier-necessity",
   "metadata": {},
   "outputs": [
    {
     "data": {
      "text/plain": [
       "2285"
      ]
     },
     "execution_count": 19,
     "metadata": {},
     "output_type": "execute_result"
    }
   ],
   "source": [
    "df_unannotated = df[df['link_correct'].isnull()]\n",
    "len(df_unannotated)"
   ]
  },
  {
   "cell_type": "code",
   "execution_count": 20,
   "id": "fossil-desert",
   "metadata": {},
   "outputs": [
    {
     "data": {
      "text/plain": [
       "(2285, 15)"
      ]
     },
     "execution_count": 20,
     "metadata": {},
     "output_type": "execute_result"
    }
   ],
   "source": [
    "f_un = FeatureGenerator(df_unannotated, \n",
    "                     ent_mention_col='ent_text', ent_type_col='ent_label', ent_context_col='item_description', \n",
    "                     candidate_title_col='candidate_title', candidate_type_col='candidate_type', candidate_context_col='candidate_description')\n",
    "\n",
    "X_un = f_un.get_feature_matrix()\n",
    "\n",
    "X_un.shape"
   ]
  },
  {
   "cell_type": "code",
   "execution_count": 21,
   "id": "natural-issue",
   "metadata": {},
   "outputs": [],
   "source": [
    "classifier = mlp.fit(X, list(y))\n",
    "\n",
    "df_unannotated['log_r_prediction'] = classifier.predict(X_un)\n",
    "df_unannotated['log_r_prediction_proba'] = classifier.predict_proba(X_un)[:,1]"
   ]
  },
  {
   "cell_type": "code",
   "execution_count": 22,
   "id": "moving-floor",
   "metadata": {},
   "outputs": [],
   "source": [
    "df_unannotated[df_unannotated['log_r_prediction'] == 1].head(50)\n",
    "# df_unannotated.head(20)\n",
    "\n",
    "df_unannotated[df_unannotated['log_r_prediction'] == 1].to_csv(\"pos_preds.csv\")"
   ]
  },
  {
   "cell_type": "markdown",
   "id": "romance-current",
   "metadata": {},
   "source": [
    "## 4. Building a pairwise ranking classifier"
   ]
  },
  {
   "cell_type": "markdown",
   "id": "atomic-pointer",
   "metadata": {},
   "source": [
    "### 4.1 RankSVM"
   ]
  },
  {
   "cell_type": "code",
   "execution_count": 157,
   "id": "fallen-ivory",
   "metadata": {},
   "outputs": [],
   "source": [
    "from sklearn.preprocessing import OneHotEncoder\n",
    "from typing import List\n",
    "\n",
    "\n",
    "class FeatureGenerator:\n",
    "    def __init__(self, data: pd.DataFrame, source_uri_col: str, ent_mention_col: str, ent_type_col: str, ent_context_col: str, candidate_title_col: str, candidate_type_col: str, candidate_context_col: str):\n",
    "        self.data = data\n",
    "        \n",
    "        # TODO: do lowercase transformation here to make all methods case-insensitive\n",
    "        self.data = data\n",
    "        self.source_uri_col = self.data[source_uri_col]\n",
    "        self.ent_mention_col = self.data[ent_mention_col]\n",
    "        self.ent_type_col = self.data[ent_type_col]\n",
    "        self.ent_context_col = self.data[ent_context_col]\n",
    "        self.candidate_title_col = self.data[candidate_title_col]\n",
    "        self.candidate_type_col = self.data[candidate_type_col]\n",
    "        self.candidate_context_col = self.data[candidate_context_col]\n",
    "        \n",
    "        self.n_records = self.data.shape[0]\n",
    "        \n",
    "        self.suffix_list = ORG_LEGAL_SUFFIXES\n",
    "        \n",
    "        self.ent_type_encoder = OneHotEncoder().fit(self.ent_type_col.unique().reshape(-1, 1))\n",
    "        self.candidate_type_encoder = OneHotEncoder().fit(self.candidate_type_col.unique().reshape(-1, 1))\n",
    "    \n",
    "    @staticmethod\n",
    "    def _remove_suffixes(text: str, suffix_list: List[str]) -> str:\n",
    "        \"\"\"\n",
    "        Returns lowercased version of text with any of the suffixes in suffix_list removed. Case-insensitive.\n",
    "        \"\"\"\n",
    "        mod_text = text[:-1].lower() if text[-1] == \".\" else text.lower()\n",
    "\n",
    "        for suffix in suffix_list:\n",
    "            if mod_text.endswith(suffix.lower()):\n",
    "                mod_text = mod_text.rstrip(suffix.lower()).strip()\n",
    "\n",
    "                break\n",
    "\n",
    "        return mod_text\n",
    "    \n",
    "    def _apply_string_sim_method(self, method, col_a: pd.Series, col_b: pd.Series, token_wise: bool, denominator: int = 1) -> np.ndarray:\n",
    "        \"\"\"\n",
    "        Params:\n",
    "        - token_wise (bool): if True, split each string by spaces (`method` is passed two sequences rather than two strings)\n",
    "        \"\"\"\n",
    "        if token_wise:\n",
    "            return np.array([[method(col_a.iloc[idx].split(), col_b.iloc[idx].split()) / denominator] if all([pd.notnull(col_a.iloc[idx]), pd.notnull(col_b.iloc[idx])]) else [0] for idx in range(self.n_records)])\n",
    "        else:\n",
    "            return np.array([[method(col_a.iloc[idx], col_b.iloc[idx]) / denominator] if all([pd.notnull(col_a.iloc[idx]), pd.notnull(col_b.iloc[idx])]) else [0] for idx in range(self.n_records)])\n",
    "        \n",
    "    def _generate_similarity_fuzz_sort(self, col_a: pd.Series, col_b: pd.Series, **kwargs) -> np.ndarray:\n",
    "        return self._apply_string_sim_method(fuzz.token_sort_ratio, col_a, col_b, denominator=100, token_wise=False)\n",
    "    \n",
    "    def _generate_similarity_levenshtein(self, col_a: pd.Series, col_b: pd.Series, **kwargs) -> np.ndarray:\n",
    "        return self._apply_string_sim_method(textdistance.levenshtein.normalized_similarity, col_a, col_b, token_wise=False)\n",
    "    \n",
    "    def _generate_similarity_jarowinkler(self, col_a: pd.Series, col_b: pd.Series, **kwargs) -> np.ndarray:\n",
    "        return self._apply_string_sim_method(textdistance.jaro_winkler.normalized_similarity, col_a, col_b, token_wise=False)\n",
    "    \n",
    "    def _generate_similarity_jaccard(self, col_a: pd.Series, col_b: pd.Series, **kwargs) -> np.ndarray:\n",
    "        return self._apply_string_sim_method(textdistance.jaccard.normalized_similarity, col_a, col_b, token_wise=True)\n",
    "    \n",
    "    def _generate_similarity_sorensen_dice(self, col_a: pd.Series, col_b: pd.Series, **kwargs) -> np.ndarray:\n",
    "        return self._apply_string_sim_method(textdistance.sorensen_dice.normalized_similarity, col_a, col_b, token_wise=True)\n",
    "    \n",
    "    def _generate_ml_similarity_fuzz_sort_ignore_suffixes(self, **kwargs) -> np.ndarray:\n",
    "        \n",
    "        if \"string_sim_metric\" in kwargs:\n",
    "            return np.array([[kwargs[\"string_sim_metric\"](self.ent_mention_col.iloc[idx], self.candidate_title_col.iloc[idx]) / 100] for idx in range(self.n_records) ])\n",
    "        \n",
    "        else:\n",
    "            return np.array([[fuzz.token_sort_ratio(\n",
    "                self._remove_suffixes(self.ent_mention_col.iloc[idx], self.suffix_list), \n",
    "                self._remove_suffixes(self.candidate_title_col.iloc[idx], self.suffix_list)\n",
    "            ) / 100] for idx in range(self.n_records) ])\n",
    "    \n",
    "    def _generate_label_in_mention(self, **kwargs) -> np.ndarray:\n",
    "        return np.array(\n",
    "            [[float(self.candidate_title_col.iloc[idx].lower() in self.ent_mention_col.iloc[idx].lower())] for idx in range(self.n_records)]\n",
    "        )\n",
    "    \n",
    "    def _generate_mention_in_label(self, **kwargs) -> np.ndarray:\n",
    "        return np.array(\n",
    "            [[float(self.ent_mention_col.iloc[idx].lower() in self.candidate_title_col.iloc[idx].lower())] for idx in range(self.n_records)]\n",
    "        )\n",
    "\n",
    "    \n",
    "    def _generate_type_features(self, **kwargs) -> np.ndarray:\n",
    "        return np.concatenate(\n",
    "            (\n",
    "                self.ent_type_encoder.transform(self.ent_type_col.values.reshape(-1,1)).toarray(), \n",
    "                self.candidate_type_encoder.transform(self.candidate_type_col.values.reshape(-1,1)).toarray()\n",
    "            ), \n",
    "            axis=1)\n",
    "    \n",
    "    def get_feature_matrix(self) -> np.ndarray:\n",
    "        \n",
    "        feature_rows = np.concatenate(\n",
    "            (\n",
    "                self._generate_similarity_fuzz_sort(self.ent_mention_col, self.candidate_title_col),\n",
    "                self._generate_similarity_levenshtein(self.ent_mention_col, self.candidate_title_col),\n",
    "                self._generate_similarity_jarowinkler(self.ent_mention_col, self.candidate_title_col),\n",
    "                self._generate_ml_similarity_fuzz_sort_ignore_suffixes(),\n",
    "                self._generate_similarity_jarowinkler(self.ent_context_col, self.candidate_context_col),\n",
    "                self._generate_similarity_jaccard(self.ent_context_col, self.candidate_context_col),\n",
    "                self._generate_similarity_sorensen_dice(self.ent_context_col, self.candidate_context_col),\n",
    "                self._generate_label_in_mention(),\n",
    "                self._generate_mention_in_label(),\n",
    "                self._generate_type_features(),\n",
    "            ), \n",
    "            axis=1\n",
    "        )\n",
    "        \n",
    "        return feature_rows\n",
    "    \n",
    "    @staticmethod\n",
    "    def group_data_by_source(data: pd.DataFrame) -> List[pd.DataFrame]:\n",
    "        # TODO: make column names in __init__ strings rather than series and pass them to groupby here\n",
    "        return [_slice for (_, _slice) in data.groupby([\"item_uri\", \"ent_text\", \"ent_label\"])]\n",
    "    \n",
    "    def get_data_with_features(self) -> pd.DataFrame:\n",
    "        \"\"\"Adds X to the end of the dataframe in columns with names 'feat_i' and returns it\"\"\"\n",
    "        \n",
    "        X = self.get_feature_matrix()\n",
    "        feat_cols = [f\"feat{i}\" for i in range(X.shape[1])]\n",
    "        \n",
    "        return pd.concat([self.data.reset_index(drop=True), pd.DataFrame(X, columns=feat_cols)], axis=1)\n",
    "    \n",
    "    def get_pairwise_features_and_targets(self) -> np.ndarray:\n",
    "        # TODO: put this in __init__\n",
    "        target_col = 'link_correct'\n",
    "        ##\n",
    "        \n",
    "        X_pairwise = []\n",
    "        y_pairwise = []\n",
    "        \n",
    "        X = self.get_feature_matrix()\n",
    "        feat_cols = [f\"feat{i}\" for i in range(X.shape[1])]\n",
    "#         data_with_X = pd.concat([self.data.reset_index(), pd.DataFrame(X, columns=feat_cols)], axis=1)\n",
    "        data_with_X = self.get_data_with_features()\n",
    "        \n",
    "        for group_data in self.group_data_by_source(data_with_X):\n",
    "            pos_idxs = group_data[group_data[target_col] == True].index\n",
    "            neg_idxs = group_data[group_data[target_col] == False].index\n",
    "                            \n",
    "            X_g = []\n",
    "            y_g = []\n",
    "\n",
    "            for pos_idx in pos_idxs:\n",
    "                for neg_idx in neg_idxs:\n",
    "                    X_g.append(group_data.loc[pos_idx, feat_cols].values - group_data.loc[neg_idx, feat_cols].values)\n",
    "                    y_g.append(1)\n",
    "\n",
    "                    X_g.append(group_data.loc[neg_idx, feat_cols].values - group_data.loc[pos_idx, feat_cols].values)\n",
    "                    y_g.append(-1)\n",
    "                    \n",
    "            X_pairwise += X_g\n",
    "            y_pairwise += y_g\n",
    "            \n",
    "        return np.array(X_pairwise), np.array(y_pairwise)"
   ]
  },
  {
   "cell_type": "code",
   "execution_count": 158,
   "id": "under-japanese",
   "metadata": {},
   "outputs": [
    {
     "data": {
      "text/plain": [
       "((434, 15), (434,))"
      ]
     },
     "execution_count": 158,
     "metadata": {},
     "output_type": "execute_result"
    }
   ],
   "source": [
    "f = FeatureGenerator(df_annotated, \n",
    "                         source_uri_col = 'item_uri', \n",
    "                         ent_mention_col='ent_text', ent_type_col='ent_label', ent_context_col='item_description', \n",
    "                         candidate_title_col='candidate_title', candidate_type_col='candidate_type', candidate_context_col='candidate_description')\n",
    "\n",
    "X_p, y_p = f.get_pairwise_features_and_targets()\n",
    "\n",
    "X_p.shape, y_p.shape"
   ]
  },
  {
   "cell_type": "code",
   "execution_count": 167,
   "id": "premium-drill",
   "metadata": {},
   "outputs": [],
   "source": [
    "from sklearn import svm\n",
    "from scipy import linalg\n",
    "\n",
    "class RankSVM():\n",
    "    def fit(self, X_train: np.ndarray, y_train: np.ndarray, verbose=False):\n",
    "        clf = svm.LinearSVC(dual=False, verbose=verbose)\n",
    "        clf.fit(X_train, y_train)\n",
    "\n",
    "        self.model = clf\n",
    "        self._weights = self.model.coef_.ravel() / linalg.norm(self.model.coef_)\n",
    "        \n",
    "        return self\n",
    "\n",
    "    def rank(self, group: pd.DataFrame) -> List[int]:\n",
    "        feat_cols = [col for col in group.columns if col.startswith('feat')]\n",
    "        X = group[feat_cols].values\n",
    "        \n",
    "        scores = X.dot(self._weights)\n",
    "\n",
    "        scored_group = group.assign(rerank_scores=scores)\n",
    "        scored_group.sort_values(\"rerank_scores\", inplace=True, ascending=False)\n",
    "        \n",
    "        return scored_group\n",
    "#         result = scored_group[\"candidate_id\"].astype(np.int).values\n",
    "\n",
    "#         return list(result)\n",
    "\n",
    "    def explain(self, features: List[str]) -> List:\n",
    "        # Gene Selection for Cancer Classification using Support Vector Machines\n",
    "\n",
    "        results = []\n",
    "        scores = self._weights * self._weights\n",
    "        scores = normalize(scores.reshape(1, -1), norm=\"l1\").squeeze()\n",
    "\n",
    "        for w, l in zip(scores, features):\n",
    "            results.append({\"feature\": l, \"weight\": w})\n",
    "\n"
   ]
  },
  {
   "cell_type": "code",
   "execution_count": 168,
   "id": "biblical-designer",
   "metadata": {},
   "outputs": [],
   "source": [
    "pair_clf = RankSVM().fit(X_p, y_p)"
   ]
  },
  {
   "cell_type": "code",
   "execution_count": 169,
   "id": "colonial-planet",
   "metadata": {},
   "outputs": [],
   "source": [
    "f_un = FeatureGenerator(df_unannotated, \n",
    "                         source_uri_col = 'item_uri', \n",
    "                         ent_mention_col='ent_text', ent_type_col='ent_label', ent_context_col='item_description', \n",
    "                         candidate_title_col='candidate_title', candidate_type_col='candidate_type', candidate_context_col='candidate_description')\n",
    "\n",
    "df_un_with_X = f_un.get_data_with_features()\n",
    "un_groups = [_slice for (_, _slice) in df_un_with_X.groupby([\"item_uri\", \"ent_text\", \"ent_label\"])]"
   ]
  },
  {
   "cell_type": "code",
   "execution_count": 187,
   "id": "compatible-safety",
   "metadata": {},
   "outputs": [
    {
     "data": {
      "text/html": [
       "<div>\n",
       "<style scoped>\n",
       "    .dataframe tbody tr th:only-of-type {\n",
       "        vertical-align: middle;\n",
       "    }\n",
       "\n",
       "    .dataframe tbody tr th {\n",
       "        vertical-align: top;\n",
       "    }\n",
       "\n",
       "    .dataframe thead th {\n",
       "        text-align: right;\n",
       "    }\n",
       "</style>\n",
       "<table border=\"1\" class=\"dataframe\">\n",
       "  <thead>\n",
       "    <tr style=\"text-align: right;\">\n",
       "      <th></th>\n",
       "      <th>item_uri</th>\n",
       "      <th>candidate_rank</th>\n",
       "      <th>item_description</th>\n",
       "      <th>ent_label</th>\n",
       "      <th>ent_text</th>\n",
       "      <th>candidate_title</th>\n",
       "      <th>candidate_type</th>\n",
       "      <th>candidate_description</th>\n",
       "      <th>link_correct</th>\n",
       "      <th>candidate_uri</th>\n",
       "      <th>...</th>\n",
       "      <th>feat6</th>\n",
       "      <th>feat7</th>\n",
       "      <th>feat8</th>\n",
       "      <th>feat9</th>\n",
       "      <th>feat10</th>\n",
       "      <th>feat11</th>\n",
       "      <th>feat12</th>\n",
       "      <th>feat13</th>\n",
       "      <th>feat14</th>\n",
       "      <th>rerank_scores</th>\n",
       "    </tr>\n",
       "  </thead>\n",
       "  <tbody>\n",
       "    <tr>\n",
       "      <th>593</th>\n",
       "      <td>https://collection.sciencemuseumgroup.org.uk/o...</td>\n",
       "      <td>0</td>\n",
       "      <td>Davis' mid C19 magneto-electric therapy machin...</td>\n",
       "      <td>ORGANISATION</td>\n",
       "      <td>Burnap</td>\n",
       "      <td>W H Burnap Company</td>\n",
       "      <td>ORGANISATION</td>\n",
       "      <td>objects 'Guide to Electrotherapy Instruments a...</td>\n",
       "      <td>NaN</td>\n",
       "      <td>https://collection.sciencemuseumgroup.org.uk/p...</td>\n",
       "      <td>...</td>\n",
       "      <td>0.086957</td>\n",
       "      <td>0.0</td>\n",
       "      <td>1.0</td>\n",
       "      <td>0.0</td>\n",
       "      <td>1.0</td>\n",
       "      <td>0.0</td>\n",
       "      <td>0.0</td>\n",
       "      <td>1.0</td>\n",
       "      <td>0.0</td>\n",
       "      <td>0.716854</td>\n",
       "    </tr>\n",
       "    <tr>\n",
       "      <th>597</th>\n",
       "      <td>https://collection.sciencemuseumgroup.org.uk/o...</td>\n",
       "      <td>4</td>\n",
       "      <td>Davis' mid C19 magneto-electric therapy machin...</td>\n",
       "      <td>ORGANISATION</td>\n",
       "      <td>Burnap</td>\n",
       "      <td>Gas burner</td>\n",
       "      <td>OBJECT</td>\n",
       "      <td>Obsolete record.</td>\n",
       "      <td>NaN</td>\n",
       "      <td>https://collection.sciencemuseumgroup.org.uk/o...</td>\n",
       "      <td>...</td>\n",
       "      <td>0.000000</td>\n",
       "      <td>0.0</td>\n",
       "      <td>0.0</td>\n",
       "      <td>0.0</td>\n",
       "      <td>1.0</td>\n",
       "      <td>0.0</td>\n",
       "      <td>1.0</td>\n",
       "      <td>0.0</td>\n",
       "      <td>0.0</td>\n",
       "      <td>0.304461</td>\n",
       "    </tr>\n",
       "    <tr>\n",
       "      <th>596</th>\n",
       "      <td>https://collection.sciencemuseumgroup.org.uk/o...</td>\n",
       "      <td>3</td>\n",
       "      <td>Davis' mid C19 magneto-electric therapy machin...</td>\n",
       "      <td>ORGANISATION</td>\n",
       "      <td>Burnap</td>\n",
       "      <td>Gas burner</td>\n",
       "      <td>OBJECT</td>\n",
       "      <td>Obsolete record</td>\n",
       "      <td>NaN</td>\n",
       "      <td>https://collection.sciencemuseumgroup.org.uk/o...</td>\n",
       "      <td>...</td>\n",
       "      <td>0.000000</td>\n",
       "      <td>0.0</td>\n",
       "      <td>0.0</td>\n",
       "      <td>0.0</td>\n",
       "      <td>1.0</td>\n",
       "      <td>0.0</td>\n",
       "      <td>1.0</td>\n",
       "      <td>0.0</td>\n",
       "      <td>0.0</td>\n",
       "      <td>0.304247</td>\n",
       "    </tr>\n",
       "    <tr>\n",
       "      <th>594</th>\n",
       "      <td>https://collection.sciencemuseumgroup.org.uk/o...</td>\n",
       "      <td>1</td>\n",
       "      <td>Davis' mid C19 magneto-electric therapy machin...</td>\n",
       "      <td>ORGANISATION</td>\n",
       "      <td>Burnap</td>\n",
       "      <td>Bunsen burner</td>\n",
       "      <td>OBJECT</td>\n",
       "      <td>Bunsen burner</td>\n",
       "      <td>NaN</td>\n",
       "      <td>https://collection.sciencemuseumgroup.org.uk/o...</td>\n",
       "      <td>...</td>\n",
       "      <td>0.000000</td>\n",
       "      <td>0.0</td>\n",
       "      <td>0.0</td>\n",
       "      <td>0.0</td>\n",
       "      <td>1.0</td>\n",
       "      <td>0.0</td>\n",
       "      <td>1.0</td>\n",
       "      <td>0.0</td>\n",
       "      <td>0.0</td>\n",
       "      <td>0.144460</td>\n",
       "    </tr>\n",
       "    <tr>\n",
       "      <th>595</th>\n",
       "      <td>https://collection.sciencemuseumgroup.org.uk/o...</td>\n",
       "      <td>2</td>\n",
       "      <td>Davis' mid C19 magneto-electric therapy machin...</td>\n",
       "      <td>ORGANISATION</td>\n",
       "      <td>Burnap</td>\n",
       "      <td>Bunsen burner</td>\n",
       "      <td>OBJECT</td>\n",
       "      <td>Bunsen burner</td>\n",
       "      <td>NaN</td>\n",
       "      <td>https://collection.sciencemuseumgroup.org.uk/o...</td>\n",
       "      <td>...</td>\n",
       "      <td>0.000000</td>\n",
       "      <td>0.0</td>\n",
       "      <td>0.0</td>\n",
       "      <td>0.0</td>\n",
       "      <td>1.0</td>\n",
       "      <td>0.0</td>\n",
       "      <td>1.0</td>\n",
       "      <td>0.0</td>\n",
       "      <td>0.0</td>\n",
       "      <td>0.144460</td>\n",
       "    </tr>\n",
       "  </tbody>\n",
       "</table>\n",
       "<p>5 rows × 33 columns</p>\n",
       "</div>"
      ],
      "text/plain": [
       "                                              item_uri  candidate_rank  \\\n",
       "593  https://collection.sciencemuseumgroup.org.uk/o...               0   \n",
       "597  https://collection.sciencemuseumgroup.org.uk/o...               4   \n",
       "596  https://collection.sciencemuseumgroup.org.uk/o...               3   \n",
       "594  https://collection.sciencemuseumgroup.org.uk/o...               1   \n",
       "595  https://collection.sciencemuseumgroup.org.uk/o...               2   \n",
       "\n",
       "                                      item_description     ent_label ent_text  \\\n",
       "593  Davis' mid C19 magneto-electric therapy machin...  ORGANISATION   Burnap   \n",
       "597  Davis' mid C19 magneto-electric therapy machin...  ORGANISATION   Burnap   \n",
       "596  Davis' mid C19 magneto-electric therapy machin...  ORGANISATION   Burnap   \n",
       "594  Davis' mid C19 magneto-electric therapy machin...  ORGANISATION   Burnap   \n",
       "595  Davis' mid C19 magneto-electric therapy machin...  ORGANISATION   Burnap   \n",
       "\n",
       "        candidate_title candidate_type  \\\n",
       "593  W H Burnap Company   ORGANISATION   \n",
       "597          Gas burner         OBJECT   \n",
       "596          Gas burner         OBJECT   \n",
       "594       Bunsen burner         OBJECT   \n",
       "595       Bunsen burner         OBJECT   \n",
       "\n",
       "                                 candidate_description link_correct  \\\n",
       "593  objects 'Guide to Electrotherapy Instruments a...          NaN   \n",
       "597                                   Obsolete record.          NaN   \n",
       "596                                    Obsolete record          NaN   \n",
       "594                                      Bunsen burner          NaN   \n",
       "595                                      Bunsen burner          NaN   \n",
       "\n",
       "                                         candidate_uri  ...     feat6  feat7  \\\n",
       "593  https://collection.sciencemuseumgroup.org.uk/p...  ...  0.086957    0.0   \n",
       "597  https://collection.sciencemuseumgroup.org.uk/o...  ...  0.000000    0.0   \n",
       "596  https://collection.sciencemuseumgroup.org.uk/o...  ...  0.000000    0.0   \n",
       "594  https://collection.sciencemuseumgroup.org.uk/o...  ...  0.000000    0.0   \n",
       "595  https://collection.sciencemuseumgroup.org.uk/o...  ...  0.000000    0.0   \n",
       "\n",
       "     feat8  feat9  feat10  feat11  feat12  feat13  feat14  rerank_scores  \n",
       "593    1.0    0.0     1.0     0.0     0.0     1.0     0.0       0.716854  \n",
       "597    0.0    0.0     1.0     0.0     1.0     0.0     0.0       0.304461  \n",
       "596    0.0    0.0     1.0     0.0     1.0     0.0     0.0       0.304247  \n",
       "594    0.0    0.0     1.0     0.0     1.0     0.0     0.0       0.144460  \n",
       "595    0.0    0.0     1.0     0.0     1.0     0.0     0.0       0.144460  \n",
       "\n",
       "[5 rows x 33 columns]"
      ]
     },
     "execution_count": 187,
     "metadata": {},
     "output_type": "execute_result"
    }
   ],
   "source": [
    "pair_clf.rank(un_groups[17])\n"
   ]
  },
  {
   "cell_type": "code",
   "execution_count": null,
   "id": "understood-barrel",
   "metadata": {},
   "outputs": [],
   "source": []
  }
 ],
 "metadata": {
  "kernelspec": {
   "display_name": "Python 3",
   "language": "python",
   "name": "python3"
  },
  "language_info": {
   "codemirror_mode": {
    "name": "ipython",
    "version": 3
   },
   "file_extension": ".py",
   "mimetype": "text/x-python",
   "name": "python",
   "nbconvert_exporter": "python",
   "pygments_lexer": "ipython3",
   "version": "3.9.1"
  }
 },
 "nbformat": 4,
 "nbformat_minor": 5
}
