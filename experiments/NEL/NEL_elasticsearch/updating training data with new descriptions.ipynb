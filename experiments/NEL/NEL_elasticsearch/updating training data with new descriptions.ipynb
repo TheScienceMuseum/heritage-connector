{
 "cells": [
  {
   "cell_type": "markdown",
   "id": "persistent-lincoln",
   "metadata": {},
   "source": [
    "# Updating training data with new descriptions\n",
    "\n",
    "Takes a (labelled or unlabelled) training data file in; maps descriptions to new descriptions from Elasticsearch; outputs training data file (.xlsx) with these new descriptions."
   ]
  },
  {
   "cell_type": "code",
   "execution_count": 9,
   "id": "under-focus",
   "metadata": {},
   "outputs": [],
   "source": [
    "import sys\n",
    "sys.path.append(\"../../..\")\n",
    "\n",
    "import pandas as pd\n",
    "from heritageconnector import datastore\n",
    "from tqdm.auto import tqdm"
   ]
  },
  {
   "cell_type": "code",
   "execution_count": 6,
   "id": "unlimited-entertainment",
   "metadata": {},
   "outputs": [
    {
     "data": {
      "text/html": [
       "<div>\n",
       "<style scoped>\n",
       "    .dataframe tbody tr th:only-of-type {\n",
       "        vertical-align: middle;\n",
       "    }\n",
       "\n",
       "    .dataframe tbody tr th {\n",
       "        vertical-align: top;\n",
       "    }\n",
       "\n",
       "    .dataframe thead th {\n",
       "        text-align: right;\n",
       "    }\n",
       "</style>\n",
       "<table border=\"1\" class=\"dataframe\">\n",
       "  <thead>\n",
       "    <tr style=\"text-align: right;\">\n",
       "      <th></th>\n",
       "      <th>item_uri</th>\n",
       "      <th>item_uri_link</th>\n",
       "      <th>candidate_rank</th>\n",
       "      <th>item_description</th>\n",
       "      <th>ent_label</th>\n",
       "      <th>ent_text</th>\n",
       "      <th>candidate_title</th>\n",
       "      <th>candidate_type</th>\n",
       "      <th>candidate_uri</th>\n",
       "      <th>candidate_uri_link</th>\n",
       "      <th>link_correct</th>\n",
       "      <th>candidate_description</th>\n",
       "    </tr>\n",
       "  </thead>\n",
       "  <tbody>\n",
       "    <tr>\n",
       "      <th>0</th>\n",
       "      <td>https://api.vam.ac.uk/v2/objects/search?id_per...</td>\n",
       "      <td>https://api.vam.ac.uk/v2/objects/search?id_per...</td>\n",
       "      <td>0</td>\n",
       "      <td>Ida and (Mary) Louise Cook were born in Sunder...</td>\n",
       "      <td>PERSON</td>\n",
       "      <td>Ida</td>\n",
       "      <td>IDA</td>\n",
       "      <td>ORGANISATION</td>\n",
       "      <td>https://api.vam.ac.uk/v2/objects/search?id_org...</td>\n",
       "      <td>https://api.vam.ac.uk/v2/objects/search?id_org...</td>\n",
       "      <td>0.0</td>\n",
       "      <td>Publisher</td>\n",
       "    </tr>\n",
       "    <tr>\n",
       "      <th>1</th>\n",
       "      <td>https://api.vam.ac.uk/v2/objects/search?id_per...</td>\n",
       "      <td>https://api.vam.ac.uk/v2/objects/search?id_per...</td>\n",
       "      <td>1</td>\n",
       "      <td>Ida and (Mary) Louise Cook were born in Sunder...</td>\n",
       "      <td>PERSON</td>\n",
       "      <td>Ida</td>\n",
       "      <td>Ida Dashwood Lady Ida Dashwood</td>\n",
       "      <td>PERSON</td>\n",
       "      <td>https://api.vam.ac.uk/v2/objects/search?id_per...</td>\n",
       "      <td>https://api.vam.ac.uk/v2/objects/search?id_per...</td>\n",
       "      <td>0.0</td>\n",
       "      <td>NaN</td>\n",
       "    </tr>\n",
       "    <tr>\n",
       "      <th>2</th>\n",
       "      <td>https://api.vam.ac.uk/v2/objects/search?id_per...</td>\n",
       "      <td>https://api.vam.ac.uk/v2/objects/search?id_per...</td>\n",
       "      <td>2</td>\n",
       "      <td>Ida and (Mary) Louise Cook were born in Sunder...</td>\n",
       "      <td>PERSON</td>\n",
       "      <td>Ida</td>\n",
       "      <td>Ida Carrara</td>\n",
       "      <td>PERSON</td>\n",
       "      <td>https://api.vam.ac.uk/v2/objects/search?id_per...</td>\n",
       "      <td>https://api.vam.ac.uk/v2/objects/search?id_per...</td>\n",
       "      <td>0.0</td>\n",
       "      <td>NaN</td>\n",
       "    </tr>\n",
       "    <tr>\n",
       "      <th>3</th>\n",
       "      <td>https://api.vam.ac.uk/v2/objects/search?id_per...</td>\n",
       "      <td>https://api.vam.ac.uk/v2/objects/search?id_per...</td>\n",
       "      <td>3</td>\n",
       "      <td>Ida and (Mary) Louise Cook were born in Sunder...</td>\n",
       "      <td>PERSON</td>\n",
       "      <td>Ida</td>\n",
       "      <td>Ida Carroll</td>\n",
       "      <td>PERSON</td>\n",
       "      <td>https://api.vam.ac.uk/v2/objects/search?id_per...</td>\n",
       "      <td>https://api.vam.ac.uk/v2/objects/search?id_per...</td>\n",
       "      <td>0.0</td>\n",
       "      <td>NaN</td>\n",
       "    </tr>\n",
       "    <tr>\n",
       "      <th>4</th>\n",
       "      <td>https://api.vam.ac.uk/v2/objects/search?id_per...</td>\n",
       "      <td>https://api.vam.ac.uk/v2/objects/search?id_per...</td>\n",
       "      <td>4</td>\n",
       "      <td>Ida and (Mary) Louise Cook were born in Sunder...</td>\n",
       "      <td>PERSON</td>\n",
       "      <td>Ida</td>\n",
       "      <td>Ida Perrin</td>\n",
       "      <td>PERSON</td>\n",
       "      <td>https://api.vam.ac.uk/v2/objects/search?id_per...</td>\n",
       "      <td>https://api.vam.ac.uk/v2/objects/search?id_per...</td>\n",
       "      <td>0.0</td>\n",
       "      <td>NaN</td>\n",
       "    </tr>\n",
       "  </tbody>\n",
       "</table>\n",
       "</div>"
      ],
      "text/plain": [
       "                                            item_uri  \\\n",
       "0  https://api.vam.ac.uk/v2/objects/search?id_per...   \n",
       "1  https://api.vam.ac.uk/v2/objects/search?id_per...   \n",
       "2  https://api.vam.ac.uk/v2/objects/search?id_per...   \n",
       "3  https://api.vam.ac.uk/v2/objects/search?id_per...   \n",
       "4  https://api.vam.ac.uk/v2/objects/search?id_per...   \n",
       "\n",
       "                                       item_uri_link  candidate_rank  \\\n",
       "0  https://api.vam.ac.uk/v2/objects/search?id_per...               0   \n",
       "1  https://api.vam.ac.uk/v2/objects/search?id_per...               1   \n",
       "2  https://api.vam.ac.uk/v2/objects/search?id_per...               2   \n",
       "3  https://api.vam.ac.uk/v2/objects/search?id_per...               3   \n",
       "4  https://api.vam.ac.uk/v2/objects/search?id_per...               4   \n",
       "\n",
       "                                    item_description ent_label ent_text  \\\n",
       "0  Ida and (Mary) Louise Cook were born in Sunder...    PERSON      Ida   \n",
       "1  Ida and (Mary) Louise Cook were born in Sunder...    PERSON      Ida   \n",
       "2  Ida and (Mary) Louise Cook were born in Sunder...    PERSON      Ida   \n",
       "3  Ida and (Mary) Louise Cook were born in Sunder...    PERSON      Ida   \n",
       "4  Ida and (Mary) Louise Cook were born in Sunder...    PERSON      Ida   \n",
       "\n",
       "                  candidate_title candidate_type  \\\n",
       "0                             IDA   ORGANISATION   \n",
       "1  Ida Dashwood Lady Ida Dashwood         PERSON   \n",
       "2                     Ida Carrara         PERSON   \n",
       "3                     Ida Carroll         PERSON   \n",
       "4                      Ida Perrin         PERSON   \n",
       "\n",
       "                                       candidate_uri  \\\n",
       "0  https://api.vam.ac.uk/v2/objects/search?id_org...   \n",
       "1  https://api.vam.ac.uk/v2/objects/search?id_per...   \n",
       "2  https://api.vam.ac.uk/v2/objects/search?id_per...   \n",
       "3  https://api.vam.ac.uk/v2/objects/search?id_per...   \n",
       "4  https://api.vam.ac.uk/v2/objects/search?id_per...   \n",
       "\n",
       "                                  candidate_uri_link  link_correct  \\\n",
       "0  https://api.vam.ac.uk/v2/objects/search?id_org...           0.0   \n",
       "1  https://api.vam.ac.uk/v2/objects/search?id_per...           0.0   \n",
       "2  https://api.vam.ac.uk/v2/objects/search?id_per...           0.0   \n",
       "3  https://api.vam.ac.uk/v2/objects/search?id_per...           0.0   \n",
       "4  https://api.vam.ac.uk/v2/objects/search?id_per...           0.0   \n",
       "\n",
       "  candidate_description  \n",
       "0             Publisher  \n",
       "1                   NaN  \n",
       "2                   NaN  \n",
       "3                   NaN  \n",
       "4                   NaN  "
      ]
     },
     "execution_count": 6,
     "metadata": {},
     "output_type": "execute_result"
    }
   ],
   "source": [
    "ES_INDEX = \"heritageconnector_vanda_test\"\n",
    "TRAIN_DATA_IN_PATH = \"../../../GITIGNORE_DATA/vanda_hc_data/NEL/nel_train_data_manual_20210829-0102_annotated.xlsx\"\n",
    "\n",
    "df = pd.read_excel(TRAIN_DATA_IN_PATH, index_col=0)\n",
    "df.head()"
   ]
  },
  {
   "cell_type": "code",
   "execution_count": 5,
   "id": "sapphire-reproduction",
   "metadata": {},
   "outputs": [],
   "source": [
    "item_uris = df['item_uri'].unique().tolist()\n",
    "candidate_uris = df['candidate_uri'].unique().tolist()"
   ]
  },
  {
   "cell_type": "markdown",
   "id": "measured-blade",
   "metadata": {},
   "source": [
    "for the items we're running NER on, we use the *description*. for the link candidates, we use the *disambiguating description*"
   ]
  },
  {
   "cell_type": "code",
   "execution_count": 20,
   "id": "rapid-pontiac",
   "metadata": {},
   "outputs": [
    {
     "name": "stdout",
     "output_type": "stream",
     "text": [
      "item uris\n"
     ]
    },
    {
     "data": {
      "application/vnd.jupyter.widget-view+json": {
       "model_id": "8b0a3a09a05047029df5a911c6785b22",
       "version_major": 2,
       "version_minor": 0
      },
      "text/plain": [
       "  0%|          | 0/9308 [00:00<?, ?it/s]"
      ]
     },
     "metadata": {},
     "output_type": "display_data"
    },
    {
     "name": "stdout",
     "output_type": "stream",
     "text": [
      "candidate uris\n"
     ]
    },
    {
     "data": {
      "application/vnd.jupyter.widget-view+json": {
       "model_id": "7e8d00db3e7d49e0873865f19dac0474",
       "version_major": 2,
       "version_minor": 0
      },
      "text/plain": [
       "  0%|          | 0/52085 [00:00<?, ?it/s]"
      ]
     },
     "metadata": {},
     "output_type": "display_data"
    }
   ],
   "source": [
    "item_uri_description_mapping = dict()\n",
    "candidate_uri_description_mapping = dict()\n",
    "\n",
    "print('item uris')\n",
    "for uri in tqdm(item_uris):\n",
    "    item_uri_description_mapping[uri] = datastore.get_by_uri(ES_INDEX, uri)['_source']['data'].get('http://www.w3.org/2001/XMLSchema#description', \"\")\n",
    "    \n",
    "print('candidate uris')\n",
    "for uri in tqdm(candidate_uris):\n",
    "    candidate_uri_description_mapping[uri] = datastore.get_by_uri(ES_INDEX, uri)['_source']['data'].get('https://schema.org/disambiguatingDescription', \"\")"
   ]
  },
  {
   "cell_type": "code",
   "execution_count": 21,
   "id": "imperial-adaptation",
   "metadata": {},
   "outputs": [],
   "source": [
    "newdf = df.copy()\n",
    "\n",
    "newdf['item_description'] = newdf['item_uri'].map(item_uri_description_mapping)\n",
    "newdf['candidate_description'] = newdf['candidate_uri'].map(candidate_uri_description_mapping)"
   ]
  },
  {
   "cell_type": "code",
   "execution_count": 28,
   "id": "polar-mustang",
   "metadata": {},
   "outputs": [],
   "source": [
    "newdf.to_excel(\"../../../GITIGNORE_DATA/vanda_hc_data/NEL/nel_train_data_manual_20210829-0102_annotated_new_descriptions.xlsx\")"
   ]
  },
  {
   "cell_type": "code",
   "execution_count": null,
   "id": "accurate-document",
   "metadata": {},
   "outputs": [],
   "source": []
  }
 ],
 "metadata": {
  "kernelspec": {
   "display_name": "Python 3",
   "language": "python",
   "name": "python3"
  },
  "language_info": {
   "codemirror_mode": {
    "name": "ipython",
    "version": 3
   },
   "file_extension": ".py",
   "mimetype": "text/x-python",
   "name": "python",
   "nbconvert_exporter": "python",
   "pygments_lexer": "ipython3",
   "version": "3.9.1"
  }
 },
 "nbformat": 4,
 "nbformat_minor": 5
}
