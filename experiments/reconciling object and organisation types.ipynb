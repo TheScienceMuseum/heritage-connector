{
 "cells": [
  {
   "cell_type": "markdown",
   "metadata": {},
   "source": [
    "# Reconciling Object & Organisation Types\n"
   ]
  },
  {
   "cell_type": "code",
   "execution_count": 1,
   "metadata": {},
   "outputs": [
    {
     "name": "stderr",
     "output_type": "stream",
     "text": [
      "/Users/kalyan/.local/share/virtualenvs/heritage-connector-tkmarX41/lib/python3.7/site-packages/tqdm/std.py:706: FutureWarning: The Panel class is removed from pandas. Accessing it from the top-level namespace will also be removed in the next version\n",
      "  from pandas import Panel\n"
     ]
    }
   ],
   "source": [
    "%load_ext autoreload\n",
    "%autoreload 2\n",
    "\n",
    "import sys\n",
    "sys.path.append(\"..\")\n",
    "import os\n",
    "\n",
    "from heritageconnector.config import config\n",
    "from heritageconnector.utils.data_transformation import transform_series_str_to_list\n",
    "from heritageconnector.entity_matching.reconciler import reconciler\n",
    "\n",
    "from tqdm import tqdm\n",
    "import pandas as pd\n",
    "pd.set_option('display.max_colwidth', None)\n",
    "pd.set_option('display.max_columns', None)\n",
    "# pd.set_option('display.max_rows', None)"
   ]
  },
  {
   "cell_type": "markdown",
   "metadata": {},
   "source": [
    "## Organisations"
   ]
  },
  {
   "cell_type": "code",
   "execution_count": 2,
   "metadata": {},
   "outputs": [],
   "source": [
    "df = pd.read_pickle(\"../GITIGNORE_DATA/results/filtering_people_orgs_result.pkl\")\n",
    "# df_people = df[df['GENDER'].isin([\"M\", \"F\"])]\n",
    "df_orgs = df[df['GENDER'] == \"N\"]"
   ]
  },
  {
   "cell_type": "code",
   "execution_count": 3,
   "metadata": {},
   "outputs": [],
   "source": [
    "org_type_col = \"OCCUPATION\""
   ]
  },
  {
   "cell_type": "code",
   "execution_count": 4,
   "metadata": {},
   "outputs": [
    {
     "name": "stderr",
     "output_type": "stream",
     "text": [
      "/Users/kalyan/.local/share/virtualenvs/heritage-connector-tkmarX41/lib/python3.7/site-packages/pandas/core/indexing.py:1745: SettingWithCopyWarning: \n",
      "A value is trying to be set on a copy of a slice from a DataFrame.\n",
      "Try using .loc[row_indexer,col_indexer] = value instead\n",
      "\n",
      "See the caveats in the documentation: https://pandas.pydata.org/pandas-docs/stable/user_guide/indexing.html#returning-a-view-versus-a-copy\n",
      "  isetter(ilocs[0], value)\n"
     ]
    }
   ],
   "source": [
    "df_orgs.loc[:, org_type_col] = df_orgs.loc[:, org_type_col].str.replace(\"'\", \"\")\n",
    "df_orgs.loc[:, org_type_col] = transform_series_str_to_list(df_orgs[org_type_col], separator=\";\")"
   ]
  },
  {
   "cell_type": "code",
   "execution_count": 5,
   "metadata": {},
   "outputs": [
    {
     "name": "stdout",
     "output_type": "stream",
     "text": [
      "2020-10-06 10:17:32,831 - heritageconnector.entity_matching.reconciler - INFO - Looking up Wikidata qcodes for items on Elasticsearch Wikidata dump\n"
     ]
    },
    {
     "name": "stderr",
     "output_type": "stream",
     "text": [
      "100%|██████████| 2603/2603 [13:10<00:00,  3.29it/s]"
     ]
    },
    {
     "name": "stdout",
     "output_type": "stream",
     "text": [
      "2020-10-06 10:30:43,802 - heritageconnector.entity_matching.reconciler - INFO - Filtering to values in subclass tree of ['Q43229', 'Q28640']\n"
     ]
    },
    {
     "name": "stderr",
     "output_type": "stream",
     "text": [
      "\n",
      "100%|██████████| 11/11 [00:05<00:00,  1.87it/s]\n"
     ]
    }
   ],
   "source": [
    "rec = reconciler(df_orgs, table=\"ORGANISATION\")\n",
    "rec.process_column(org_type_col,\n",
    "                    multiple_vals=True, \n",
    "                    class_include=[\"Q43229\", \"Q28640\"], \n",
    "                    text_similarity_thresh=95,\n",
    "                    search_limit_per_item=1000,\n",
    "                    field_exists_filter=\"claims.P279\")"
   ]
  },
  {
   "cell_type": "code",
   "execution_count": 7,
   "metadata": {},
   "outputs": [
    {
     "name": "stderr",
     "output_type": "stream",
     "text": [
      "/Users/kalyan/.local/share/virtualenvs/heritage-connector-tkmarX41/lib/python3.7/site-packages/tqdm/std.py:706: FutureWarning: The Panel class is removed from pandas. Accessing it from the top-level namespace will also be removed in the next version\n",
      "  from pandas import Panel\n"
     ]
    }
   ],
   "source": [
    "rec.export_map_df()"
   ]
  },
  {
   "cell_type": "code",
   "execution_count": 6,
   "metadata": {},
   "outputs": [],
   "source": [
    "rec.import_map_df(\"../GITIGNORE_DATA/reconciliation_ORGANISATION_20201006.csv\")"
   ]
  },
  {
   "cell_type": "code",
   "execution_count": 7,
   "metadata": {},
   "outputs": [
    {
     "name": "stderr",
     "output_type": "stream",
     "text": [
      "100%|██████████| 7743/7743 [00:03<00:00, 2555.93it/s]"
     ]
    },
    {
     "name": "stdout",
     "output_type": "stream",
     "text": [
      "32% of records have at least one resolved type\n"
     ]
    },
    {
     "name": "stderr",
     "output_type": "stream",
     "text": [
      "\n",
      "/Users/kalyan/.local/share/virtualenvs/heritage-connector-tkmarX41/lib/python3.7/site-packages/ipykernel_launcher.py:3: SettingWithCopyWarning: \n",
      "A value is trying to be set on a copy of a slice from a DataFrame.\n",
      "Try using .loc[row_indexer,col_indexer] = value instead\n",
      "\n",
      "See the caveats in the documentation: https://pandas.pydata.org/pandas-docs/stable/user_guide/indexing.html#returning-a-view-versus-a-copy\n",
      "  This is separate from the ipykernel package so we can avoid doing imports until\n"
     ]
    }
   ],
   "source": [
    "#df_orgs[[org_type_col, \"OCCUPATION_resolved\"]]#.head()\n",
    "rec.multiple_vals = True\n",
    "df_orgs[\"OCCUPATION_resolved\"] = rec.create_column_from_map_df(\"OCCUPATION\")\n",
    "print(f\"{int((df_orgs['OCCUPATION_resolved'].apply(len) > 0).sum() / len(df_orgs) * 100)}% of records have at least one resolved type\")"
   ]
  },
  {
   "cell_type": "code",
   "execution_count": 9,
   "metadata": {},
   "outputs": [
    {
     "data": {
      "text/html": [
       "<div>\n",
       "<style scoped>\n",
       "    .dataframe tbody tr th:only-of-type {\n",
       "        vertical-align: middle;\n",
       "    }\n",
       "\n",
       "    .dataframe tbody tr th {\n",
       "        vertical-align: top;\n",
       "    }\n",
       "\n",
       "    .dataframe thead th {\n",
       "        text-align: right;\n",
       "    }\n",
       "</style>\n",
       "<table border=\"1\" class=\"dataframe\">\n",
       "  <thead>\n",
       "    <tr style=\"text-align: right;\">\n",
       "      <th></th>\n",
       "      <th>OCCUPATION</th>\n",
       "      <th>OCCUPATION_resolved</th>\n",
       "    </tr>\n",
       "  </thead>\n",
       "  <tbody>\n",
       "    <tr>\n",
       "      <th>0</th>\n",
       "      <td>[manufacturer of mathematical instruments]</td>\n",
       "      <td>[]</td>\n",
       "    </tr>\n",
       "    <tr>\n",
       "      <th>6</th>\n",
       "      <td>[railway board]</td>\n",
       "      <td>[]</td>\n",
       "    </tr>\n",
       "    <tr>\n",
       "      <th>8</th>\n",
       "      <td>[supplier]</td>\n",
       "      <td>[Q7644488]</td>\n",
       "    </tr>\n",
       "    <tr>\n",
       "      <th>12</th>\n",
       "      <td>[training establishment]</td>\n",
       "      <td>[]</td>\n",
       "    </tr>\n",
       "    <tr>\n",
       "      <th>14</th>\n",
       "      <td>[manufacturer of electrical equipment]</td>\n",
       "      <td>[]</td>\n",
       "    </tr>\n",
       "    <tr>\n",
       "      <th>...</th>\n",
       "      <td>...</td>\n",
       "      <td>...</td>\n",
       "    </tr>\n",
       "    <tr>\n",
       "      <th>18053</th>\n",
       "      <td>[hospital]</td>\n",
       "      <td>[Q180370, Q16917]</td>\n",
       "    </tr>\n",
       "    <tr>\n",
       "      <th>18061</th>\n",
       "      <td>[]</td>\n",
       "      <td>[]</td>\n",
       "    </tr>\n",
       "    <tr>\n",
       "      <th>18067</th>\n",
       "      <td>[designer, manufacturer]</td>\n",
       "      <td>[]</td>\n",
       "    </tr>\n",
       "    <tr>\n",
       "      <th>18068</th>\n",
       "      <td>[manufacturer]</td>\n",
       "      <td>[]</td>\n",
       "    </tr>\n",
       "    <tr>\n",
       "      <th>18076</th>\n",
       "      <td>[]</td>\n",
       "      <td>[]</td>\n",
       "    </tr>\n",
       "  </tbody>\n",
       "</table>\n",
       "<p>7743 rows × 2 columns</p>\n",
       "</div>"
      ],
      "text/plain": [
       "                                       OCCUPATION OCCUPATION_resolved\n",
       "0      [manufacturer of mathematical instruments]                  []\n",
       "6                                 [railway board]                  []\n",
       "8                                      [supplier]          [Q7644488]\n",
       "12                       [training establishment]                  []\n",
       "14         [manufacturer of electrical equipment]                  []\n",
       "...                                           ...                 ...\n",
       "18053                                  [hospital]   [Q180370, Q16917]\n",
       "18061                                          []                  []\n",
       "18067                    [designer, manufacturer]                  []\n",
       "18068                              [manufacturer]                  []\n",
       "18076                                          []                  []\n",
       "\n",
       "[7743 rows x 2 columns]"
      ]
     },
     "execution_count": 9,
     "metadata": {},
     "output_type": "execute_result"
    }
   ],
   "source": [
    "df_orgs[[\"OCCUPATION\", \"OCCUPATION_resolved\"]]"
   ]
  },
  {
   "cell_type": "code",
   "execution_count": 10,
   "metadata": {},
   "outputs": [],
   "source": [
    "# df_orgs.to_pickle(\"../GITIGNORE_DATA/organisations_with_types.pkl\")"
   ]
  },
  {
   "cell_type": "markdown",
   "metadata": {},
   "source": [
    "## Objects"
   ]
  },
  {
   "cell_type": "code",
   "execution_count": 11,
   "metadata": {},
   "outputs": [
    {
     "name": "stderr",
     "output_type": "stream",
     "text": [
      "/Users/kalyan/.local/share/virtualenvs/heritage-connector-tkmarX41/lib/python3.7/site-packages/IPython/core/interactiveshell.py:3146: DtypeWarning: Columns (4,5,6,8,12,18,25,26,27,30,35) have mixed types.Specify dtype option on import or set low_memory=False.\n",
      "  interactivity=interactivity, compiler=compiler, result=result)\n"
     ]
    }
   ],
   "source": [
    "objects = pd.read_csv(\"../GITIGNORE_DATA/smg-datasets-private/mimsy-catalogue-export.csv\")"
   ]
  },
  {
   "cell_type": "code",
   "execution_count": 12,
   "metadata": {},
   "outputs": [],
   "source": [
    "objects.loc[:, \"ITEM_NAME\"] = transform_series_str_to_list(objects[\"ITEM_NAME\"], separator=\";\")"
   ]
  },
  {
   "cell_type": "code",
   "execution_count": 4,
   "metadata": {},
   "outputs": [
    {
     "name": "stdout",
     "output_type": "stream",
     "text": [
      "2020-10-06 11:37:17,009 - heritageconnector.entity_matching.reconciler - INFO - Looking up Wikidata qcodes for items on Elasticsearch Wikidata dump\n"
     ]
    },
    {
     "name": "stderr",
     "output_type": "stream",
     "text": [
      "100%|██████████| 23600/23600 [1:29:23<00:00,  4.40it/s]  \n"
     ]
    },
    {
     "name": "stdout",
     "output_type": "stream",
     "text": [
      "2020-10-06 13:06:40,519 - heritageconnector.entity_matching.reconciler - INFO - Filtering to values in subclass tree of Q223557\n"
     ]
    },
    {
     "name": "stderr",
     "output_type": "stream",
     "text": [
      "100%|██████████| 118/118 [02:24<00:00,  1.22s/it]\n"
     ]
    }
   ],
   "source": [
    "rec_o = reconciler(objects, table=\"OBJECT\")\n",
    "# physical object\n",
    "rec_o.process_column(\"ITEM_NAME\", \n",
    "                     multiple_vals=True, \n",
    "                     class_include=\"Q223557\", \n",
    "                     class_exclude=[\"Q5\", \"Q43229\", \"Q28640\"], \n",
    "                     text_similarity_thresh=90,\n",
    "                     search_limit_per_item=1000,\n",
    "                     field_exists_filter=\"claims.P279\")"
   ]
  },
  {
   "cell_type": "code",
   "execution_count": 5,
   "metadata": {},
   "outputs": [
    {
     "name": "stdout",
     "output_type": "stream",
     "text": [
      "2020-10-06 13:09:05,126 - heritageconnector.entity_matching.reconciler - INFO - Dataframe of value to entity mappings exported to ../GITIGNORE_DATA/reconciliation_OBJECT_20201006-1309.csv\n",
      "2020-10-06 13:09:05,126 - heritageconnector.entity_matching.reconciler - INFO - Dataframe of value to entity mappings exported to ../GITIGNORE_DATA/reconciliation_OBJECT_20201006-1309.csv\n"
     ]
    }
   ],
   "source": [
    "rec_o.export_map_df()"
   ]
  },
  {
   "cell_type": "code",
   "execution_count": 15,
   "metadata": {},
   "outputs": [
    {
     "name": "stderr",
     "output_type": "stream",
     "text": [
      "100%|██████████| 282259/282259 [01:37<00:00, 2894.75it/s]\n"
     ]
    }
   ],
   "source": [
    "rec_o.multiple_vals = True # hacky\n",
    "rec_o.import_map_df(\"../GITIGNORE_DATA/reconciliation_OBJECT_20201006-1309.csv\")\n",
    "objects[\"ITEM_NAME_resolved\"] = rec_o.create_column_from_map_df(\"ITEM_NAME\")"
   ]
  },
  {
   "cell_type": "code",
   "execution_count": 16,
   "metadata": {},
   "outputs": [
    {
     "name": "stdout",
     "output_type": "stream",
     "text": [
      "51% of records have at least one resolved type\n"
     ]
    }
   ],
   "source": [
    "print(f\"{int((objects['ITEM_NAME_resolved'].apply(len) > 0).sum() / len(objects) * 100)}% of records have at least one resolved type\")"
   ]
  },
  {
   "cell_type": "code",
   "execution_count": 17,
   "metadata": {},
   "outputs": [],
   "source": [
    "# objects.to_pickle(\"../GITIGNORE_DATA/objects_with_types.pkl\")"
   ]
  },
  {
   "cell_type": "markdown",
   "metadata": {},
   "source": [
    "## Test data"
   ]
  },
  {
   "cell_type": "code",
   "execution_count": 13,
   "metadata": {},
   "outputs": [
    {
     "name": "stdout",
     "output_type": "stream",
     "text": [
      "2020-10-06 15:13:31,286 - heritageconnector.entity_matching.reconciler - INFO - Looking up Wikidata qcodes for items on Elasticsearch Wikidata dump\n",
      "2020-10-06 15:13:31,286 - heritageconnector.entity_matching.reconciler - INFO - Looking up Wikidata qcodes for items on Elasticsearch Wikidata dump\n",
      "2020-10-06 15:13:31,286 - heritageconnector.entity_matching.reconciler - INFO - Looking up Wikidata qcodes for items on Elasticsearch Wikidata dump\n"
     ]
    },
    {
     "name": "stderr",
     "output_type": "stream",
     "text": [
      "100%|██████████| 5/5 [00:00<00:00,  6.98it/s]"
     ]
    },
    {
     "name": "stdout",
     "output_type": "stream",
     "text": [
      "2020-10-06 15:13:32,008 - heritageconnector.entity_matching.reconciler - INFO - Filtering to values in subclass tree of Q223557\n",
      "2020-10-06 15:13:32,008 - heritageconnector.entity_matching.reconciler - INFO - Filtering to values in subclass tree of Q223557\n",
      "2020-10-06 15:13:32,008 - heritageconnector.entity_matching.reconciler - INFO - Filtering to values in subclass tree of Q223557\n"
     ]
    },
    {
     "name": "stderr",
     "output_type": "stream",
     "text": [
      "\n",
      "100%|██████████| 1/1 [00:00<00:00,  1.29it/s]"
     ]
    },
    {
     "name": "stdout",
     "output_type": "stream",
     "text": [
      "2020-10-06 15:13:32,788 - heritageconnector.entity_matching.reconciler - WARNING - Using automatically generated mapping table. It is recommended to run `export_map_df`and manually inspect the reconciled entities before adding them back to your data.\n",
      "2020-10-06 15:13:32,788 - heritageconnector.entity_matching.reconciler - WARNING - Using automatically generated mapping table. It is recommended to run `export_map_df`and manually inspect the reconciled entities before adding them back to your data.\n",
      "2020-10-06 15:13:32,788 - heritageconnector.entity_matching.reconciler - WARNING - Using automatically generated mapping table. It is recommended to run `export_map_df`and manually inspect the reconciled entities before adding them back to your data.\n"
     ]
    },
    {
     "name": "stderr",
     "output_type": "stream",
     "text": [
      "\n",
      "100%|██████████| 5/5 [00:00<00:00, 4468.68it/s]\n"
     ]
    },
    {
     "data": {
      "text/plain": [
       "0              [Q125191]\n",
       "1    [Q15328, Q97301845]\n",
       "2            [Q57312861]\n",
       "3               [Q80228]\n",
       "4               [Q80228]\n",
       "Name: item_name, dtype: object"
      ]
     },
     "execution_count": 13,
     "metadata": {},
     "output_type": "execute_result"
    }
   ],
   "source": [
    "data = pd.DataFrame.from_dict({\"item_name\": [\"photograph\", \"camera\", \"model\", \"bottle\", \"bottles\"]})\n",
    "\n",
    "r = reconciler(data, table=\"OBJECT\")\n",
    "r.process_column(\"item_name\",\n",
    "                 multiple_vals=False, \n",
    "                 class_include=\"Q223557\", \n",
    "                 class_exclude=[\"Q5\", \"Q43229\", \"Q28640\"], \n",
    "                 text_similarity_thresh=90,\n",
    "                 search_limit_per_item=1000,\n",
    "                 field_exists_filter=\"claims.P279\")\n",
    "\n",
    "r.create_column_from_map_df(\"item_name\")"
   ]
  },
  {
   "cell_type": "code",
   "execution_count": null,
   "metadata": {},
   "outputs": [],
   "source": []
  }
 ],
 "metadata": {
  "kernelspec": {
   "display_name": "Python 3",
   "language": "python",
   "name": "python3"
  },
  "language_info": {
   "codemirror_mode": {
    "name": "ipython",
    "version": 3
   },
   "file_extension": ".py",
   "mimetype": "text/x-python",
   "name": "python",
   "nbconvert_exporter": "python",
   "pygments_lexer": "ipython3",
   "version": "3.7.4"
  }
 },
 "nbformat": 4,
 "nbformat_minor": 4
}
