{
 "cells": [
  {
   "cell_type": "markdown",
   "metadata": {},
   "source": [
    "# Reconciling Object & Organisation Types\n"
   ]
  },
  {
   "cell_type": "code",
   "execution_count": 13,
   "metadata": {},
   "outputs": [
    {
     "name": "stdout",
     "output_type": "stream",
     "text": [
      "The autoreload extension is already loaded. To reload it, use:\n",
      "  %reload_ext autoreload\n"
     ]
    }
   ],
   "source": [
    "%load_ext autoreload\n",
    "%autoreload 2\n",
    "\n",
    "import sys\n",
    "sys.path.append(\"..\")\n",
    "import os\n",
    "\n",
    "from heritageconnector.config import config\n",
    "from heritageconnector.utils.data_transformation import transform_series_str_to_list\n",
    "from heritageconnector.entity_matching.reconciler import Reconciler, export_map_df_to_csv, import_map_df_from_csv, create_column_from_map_df\n",
    "\n",
    "from tqdm import tqdm\n",
    "import pandas as pd\n",
    "pd.set_option('display.max_colwidth', None)\n",
    "pd.set_option('display.max_columns', None)\n",
    "# pd.set_option('display.max_rows', None)"
   ]
  },
  {
   "cell_type": "markdown",
   "metadata": {},
   "source": [
    "## Organisations"
   ]
  },
  {
   "cell_type": "code",
   "execution_count": 2,
   "metadata": {},
   "outputs": [],
   "source": [
    "df = pd.read_pickle(\"../GITIGNORE_DATA/results/filtering_people_orgs_result.pkl\")\n",
    "# df_people = df[df['GENDER'].isin([\"M\", \"F\"])]\n",
    "df_orgs = df[df['GENDER'] == \"N\"]"
   ]
  },
  {
   "cell_type": "code",
   "execution_count": 3,
   "metadata": {},
   "outputs": [],
   "source": [
    "org_type_col = \"OCCUPATION\""
   ]
  },
  {
   "cell_type": "code",
   "execution_count": 4,
   "metadata": {},
   "outputs": [
    {
     "name": "stderr",
     "output_type": "stream",
     "text": [
      "/Users/kalyan/.pyenv/versions/3.9.1/envs/hc/lib/python3.9/site-packages/pandas/core/indexing.py:1745: SettingWithCopyWarning: \n",
      "A value is trying to be set on a copy of a slice from a DataFrame.\n",
      "Try using .loc[row_indexer,col_indexer] = value instead\n",
      "\n",
      "See the caveats in the documentation: https://pandas.pydata.org/pandas-docs/stable/user_guide/indexing.html#returning-a-view-versus-a-copy\n",
      "  isetter(ilocs[0], value)\n"
     ]
    }
   ],
   "source": [
    "df_orgs.loc[:, org_type_col] = df_orgs.loc[:, org_type_col].str.replace(\"'\", \"\")\n",
    "df_orgs.loc[:, org_type_col] = transform_series_str_to_list(df_orgs[org_type_col], separator=\";\")"
   ]
  },
  {
   "cell_type": "code",
   "execution_count": 21,
   "metadata": {},
   "outputs": [
    {
     "name": "stdout",
     "output_type": "stream",
     "text": [
      "2021-05-13 17:01:55,265 - heritageconnector.entity_matching.reconciler - INFO - Looking up Wikidata QIDs against Elasticsearch Wikidata dump\n",
      "2021-05-13 17:01:55,265 - heritageconnector.entity_matching.reconciler - INFO - Looking up Wikidata QIDs against Elasticsearch Wikidata dump\n"
     ]
    },
    {
     "name": "stderr",
     "output_type": "stream",
     "text": [
      "100%|██████████| 92/92 [03:21<00:00,  2.20s/it]"
     ]
    },
    {
     "name": "stdout",
     "output_type": "stream",
     "text": [
      "2021-05-13 17:05:17,268 - heritageconnector.entity_matching.reconciler - INFO - Filtering to values in subclass tree of ['Q43229', 'Q28640']\n",
      "2021-05-13 17:05:17,268 - heritageconnector.entity_matching.reconciler - INFO - Filtering to values in subclass tree of ['Q43229', 'Q28640']\n"
     ]
    },
    {
     "name": "stderr",
     "output_type": "stream",
     "text": [
      "\n",
      "100%|██████████| 2/2 [00:00<00:00,  2.33it/s]\n"
     ]
    }
   ],
   "source": [
    "rec = Reconciler()\n",
    "map_df = rec.process_column(\n",
    "                            df_orgs[org_type_col],\n",
    "                            multiple_vals=True, \n",
    "                            class_include=[\"Q43229\", \"Q28640\"], \n",
    "                            search_args={\n",
    "                                \"search_limit_per_item\":1000,\n",
    "                                \"field_exists_filter\": \"claims.P279\",\n",
    "                                \"text_similarity_thresh\": 90,\n",
    "                            },\n",
    "                        )"
   ]
  },
  {
   "cell_type": "code",
   "execution_count": 22,
   "metadata": {},
   "outputs": [
    {
     "data": {
      "text/html": [
       "<div>\n",
       "<style scoped>\n",
       "    .dataframe tbody tr th:only-of-type {\n",
       "        vertical-align: middle;\n",
       "    }\n",
       "\n",
       "    .dataframe tbody tr th {\n",
       "        vertical-align: top;\n",
       "    }\n",
       "\n",
       "    .dataframe thead th {\n",
       "        text-align: right;\n",
       "    }\n",
       "</style>\n",
       "<table border=\"1\" class=\"dataframe\">\n",
       "  <thead>\n",
       "    <tr style=\"text-align: right;\">\n",
       "      <th></th>\n",
       "      <th>count</th>\n",
       "      <th>qids</th>\n",
       "      <th>filtered_qids</th>\n",
       "    </tr>\n",
       "  </thead>\n",
       "  <tbody>\n",
       "    <tr>\n",
       "      <th>manufacturer of mathematical instruments</th>\n",
       "      <td>1</td>\n",
       "      <td>[]</td>\n",
       "      <td>[]</td>\n",
       "    </tr>\n",
       "    <tr>\n",
       "      <th>railway board</th>\n",
       "      <td>1</td>\n",
       "      <td>[]</td>\n",
       "      <td>[]</td>\n",
       "    </tr>\n",
       "    <tr>\n",
       "      <th>supplier</th>\n",
       "      <td>1</td>\n",
       "      <td>[Q7644488]</td>\n",
       "      <td>[]</td>\n",
       "    </tr>\n",
       "    <tr>\n",
       "      <th>training establishment</th>\n",
       "      <td>1</td>\n",
       "      <td>[]</td>\n",
       "      <td>[]</td>\n",
       "    </tr>\n",
       "    <tr>\n",
       "      <th>manufacturer of electrical equipment</th>\n",
       "      <td>4</td>\n",
       "      <td>[]</td>\n",
       "      <td>[]</td>\n",
       "    </tr>\n",
       "  </tbody>\n",
       "</table>\n",
       "</div>"
      ],
      "text/plain": [
       "                                          count        qids filtered_qids\n",
       "manufacturer of mathematical instruments      1          []            []\n",
       "railway board                                 1          []            []\n",
       "supplier                                      1  [Q7644488]            []\n",
       "training establishment                        1          []            []\n",
       "manufacturer of electrical equipment          4          []            []"
      ]
     },
     "execution_count": 22,
     "metadata": {},
     "output_type": "execute_result"
    }
   ],
   "source": [
    "map_df.head()"
   ]
  },
  {
   "cell_type": "code",
   "execution_count": 21,
   "metadata": {},
   "outputs": [
    {
     "name": "stdout",
     "output_type": "stream",
     "text": [
      "2021-05-13 16:19:51,947 - heritageconnector.entity_matching.reconciler - INFO - Dataframe of value to entity mappings exported to ./temp_map_df.csv\n",
      "2021-05-13 16:19:51,947 - heritageconnector.entity_matching.reconciler - INFO - Dataframe of value to entity mappings exported to ./temp_map_df.csv\n"
     ]
    }
   ],
   "source": [
    "export_map_df_to_csv(map_df, \"./temp_map_df.csv\")"
   ]
  },
  {
   "cell_type": "code",
   "execution_count": 11,
   "metadata": {},
   "outputs": [],
   "source": [
    "imported_map_df = import_map_df_from_csv(\"../GITIGNORE_DATA/reconciliation_ORGANISATION_20201006.csv\")"
   ]
  },
  {
   "cell_type": "code",
   "execution_count": 15,
   "metadata": {},
   "outputs": [
    {
     "name": "stderr",
     "output_type": "stream",
     "text": [
      "100%|██████████| 7743/7743 [00:01<00:00, 5415.85it/s]"
     ]
    },
    {
     "name": "stdout",
     "output_type": "stream",
     "text": [
      "32% of records have at least one resolved type\n"
     ]
    },
    {
     "name": "stderr",
     "output_type": "stream",
     "text": [
      "\n",
      "<ipython-input-15-852f67c9ef55>:3: SettingWithCopyWarning: \n",
      "A value is trying to be set on a copy of a slice from a DataFrame.\n",
      "Try using .loc[row_indexer,col_indexer] = value instead\n",
      "\n",
      "See the caveats in the documentation: https://pandas.pydata.org/pandas-docs/stable/user_guide/indexing.html#returning-a-view-versus-a-copy\n",
      "  df_orgs[\"OCCUPATION_resolved\"] = create_column_from_map_df(df_orgs[\"OCCUPATION\"], imported_map_df, multiple_vals=True)\n"
     ]
    }
   ],
   "source": [
    "#df_orgs[[org_type_col, \"OCCUPATION_resolved\"]]#.head()\n",
    "rec.multiple_vals = True\n",
    "df_orgs[\"OCCUPATION_resolved\"] = create_column_from_map_df(df_orgs[\"OCCUPATION\"], imported_map_df, multiple_vals=True)\n",
    "print(f\"{int((df_orgs['OCCUPATION_resolved'].apply(len) > 0).sum() / len(df_orgs) * 100)}% of records have at least one resolved type\")"
   ]
  },
  {
   "cell_type": "code",
   "execution_count": 9,
   "metadata": {},
   "outputs": [
    {
     "data": {
      "text/html": [
       "<div>\n",
       "<style scoped>\n",
       "    .dataframe tbody tr th:only-of-type {\n",
       "        vertical-align: middle;\n",
       "    }\n",
       "\n",
       "    .dataframe tbody tr th {\n",
       "        vertical-align: top;\n",
       "    }\n",
       "\n",
       "    .dataframe thead th {\n",
       "        text-align: right;\n",
       "    }\n",
       "</style>\n",
       "<table border=\"1\" class=\"dataframe\">\n",
       "  <thead>\n",
       "    <tr style=\"text-align: right;\">\n",
       "      <th></th>\n",
       "      <th>OCCUPATION</th>\n",
       "      <th>OCCUPATION_resolved</th>\n",
       "    </tr>\n",
       "  </thead>\n",
       "  <tbody>\n",
       "    <tr>\n",
       "      <th>0</th>\n",
       "      <td>[manufacturer of mathematical instruments]</td>\n",
       "      <td>[]</td>\n",
       "    </tr>\n",
       "    <tr>\n",
       "      <th>6</th>\n",
       "      <td>[railway board]</td>\n",
       "      <td>[]</td>\n",
       "    </tr>\n",
       "    <tr>\n",
       "      <th>8</th>\n",
       "      <td>[supplier]</td>\n",
       "      <td>[Q7644488]</td>\n",
       "    </tr>\n",
       "    <tr>\n",
       "      <th>12</th>\n",
       "      <td>[training establishment]</td>\n",
       "      <td>[]</td>\n",
       "    </tr>\n",
       "    <tr>\n",
       "      <th>14</th>\n",
       "      <td>[manufacturer of electrical equipment]</td>\n",
       "      <td>[]</td>\n",
       "    </tr>\n",
       "    <tr>\n",
       "      <th>...</th>\n",
       "      <td>...</td>\n",
       "      <td>...</td>\n",
       "    </tr>\n",
       "    <tr>\n",
       "      <th>18053</th>\n",
       "      <td>[hospital]</td>\n",
       "      <td>[Q180370, Q16917]</td>\n",
       "    </tr>\n",
       "    <tr>\n",
       "      <th>18061</th>\n",
       "      <td>[]</td>\n",
       "      <td>[]</td>\n",
       "    </tr>\n",
       "    <tr>\n",
       "      <th>18067</th>\n",
       "      <td>[designer, manufacturer]</td>\n",
       "      <td>[]</td>\n",
       "    </tr>\n",
       "    <tr>\n",
       "      <th>18068</th>\n",
       "      <td>[manufacturer]</td>\n",
       "      <td>[]</td>\n",
       "    </tr>\n",
       "    <tr>\n",
       "      <th>18076</th>\n",
       "      <td>[]</td>\n",
       "      <td>[]</td>\n",
       "    </tr>\n",
       "  </tbody>\n",
       "</table>\n",
       "<p>7743 rows × 2 columns</p>\n",
       "</div>"
      ],
      "text/plain": [
       "                                       OCCUPATION OCCUPATION_resolved\n",
       "0      [manufacturer of mathematical instruments]                  []\n",
       "6                                 [railway board]                  []\n",
       "8                                      [supplier]          [Q7644488]\n",
       "12                       [training establishment]                  []\n",
       "14         [manufacturer of electrical equipment]                  []\n",
       "...                                           ...                 ...\n",
       "18053                                  [hospital]   [Q180370, Q16917]\n",
       "18061                                          []                  []\n",
       "18067                    [designer, manufacturer]                  []\n",
       "18068                              [manufacturer]                  []\n",
       "18076                                          []                  []\n",
       "\n",
       "[7743 rows x 2 columns]"
      ]
     },
     "execution_count": 9,
     "metadata": {},
     "output_type": "execute_result"
    }
   ],
   "source": [
    "df_orgs[[\"OCCUPATION\", \"OCCUPATION_resolved\"]]"
   ]
  },
  {
   "cell_type": "code",
   "execution_count": 10,
   "metadata": {},
   "outputs": [],
   "source": [
    "# df_orgs.to_pickle(\"../GITIGNORE_DATA/organisations_with_types.pkl\")"
   ]
  },
  {
   "cell_type": "markdown",
   "metadata": {},
   "source": [
    "## Objects"
   ]
  },
  {
   "cell_type": "code",
   "execution_count": 25,
   "metadata": {},
   "outputs": [
    {
     "name": "stderr",
     "output_type": "stream",
     "text": [
      "/Users/kalyan/.pyenv/versions/3.9.1/envs/hc/lib/python3.9/site-packages/IPython/core/interactiveshell.py:3146: DtypeWarning: Columns (4,5,6,8,12,18,25,26,27,30,35) have mixed types.Specify dtype option on import or set low_memory=False.\n",
      "  has_raised = await self.run_ast_nodes(code_ast.body, cell_name,\n"
     ]
    }
   ],
   "source": [
    "objects = pd.read_csv(\"../GITIGNORE_DATA/smg-datasets-private/mimsy-catalogue-export.csv\")"
   ]
  },
  {
   "cell_type": "code",
   "execution_count": 26,
   "metadata": {},
   "outputs": [],
   "source": [
    "objects.loc[:, \"ITEM_NAME\"] = transform_series_str_to_list(objects[\"ITEM_NAME\"], separator=\";\")"
   ]
  },
  {
   "cell_type": "code",
   "execution_count": 27,
   "metadata": {},
   "outputs": [
    {
     "name": "stdout",
     "output_type": "stream",
     "text": [
      "2021-05-13 17:14:58,362 - heritageconnector.entity_matching.reconciler - INFO - Looking up Wikidata QIDs against Elasticsearch Wikidata dump\n",
      "2021-05-13 17:14:58,362 - heritageconnector.entity_matching.reconciler - INFO - Looking up Wikidata QIDs against Elasticsearch Wikidata dump\n",
      "2021-05-13 17:14:58,362 - heritageconnector.entity_matching.reconciler - INFO - Looking up Wikidata QIDs against Elasticsearch Wikidata dump\n"
     ]
    },
    {
     "name": "stderr",
     "output_type": "stream",
     "text": [
      "100%|██████████| 14/14 [00:39<00:00,  2.85s/it]"
     ]
    },
    {
     "name": "stdout",
     "output_type": "stream",
     "text": [
      "2021-05-13 17:15:38,269 - heritageconnector.entity_matching.reconciler - INFO - Filtering to values in subclass tree of Q223557\n",
      "2021-05-13 17:15:38,269 - heritageconnector.entity_matching.reconciler - INFO - Filtering to values in subclass tree of Q223557\n",
      "2021-05-13 17:15:38,269 - heritageconnector.entity_matching.reconciler - INFO - Filtering to values in subclass tree of Q223557\n"
     ]
    },
    {
     "name": "stderr",
     "output_type": "stream",
     "text": [
      "\n",
      "100%|██████████| 1/1 [00:00<00:00,  1.03it/s]\n"
     ]
    }
   ],
   "source": [
    "# physical object\n",
    "map_df = rec.process_column(objects[\"ITEM_NAME\"].head(10),\n",
    "                     multiple_vals=True, \n",
    "                     class_include=\"Q223557\", \n",
    "                     class_exclude=[\"Q5\", \"Q43229\", \"Q28640\"],\n",
    "                     search_args={\n",
    "                                \"search_limit_per_item\":1000,\n",
    "                                \"field_exists_filter\": \"claims.P279\",\n",
    "                                \"text_similarity_thresh\": 90,\n",
    "                            },\n",
    "                    )"
   ]
  },
  {
   "cell_type": "code",
   "execution_count": 5,
   "metadata": {},
   "outputs": [
    {
     "name": "stdout",
     "output_type": "stream",
     "text": [
      "2020-10-06 13:09:05,126 - heritageconnector.entity_matching.reconciler - INFO - Dataframe of value to entity mappings exported to ../GITIGNORE_DATA/reconciliation_OBJECT_20201006-1309.csv\n",
      "2020-10-06 13:09:05,126 - heritageconnector.entity_matching.reconciler - INFO - Dataframe of value to entity mappings exported to ../GITIGNORE_DATA/reconciliation_OBJECT_20201006-1309.csv\n"
     ]
    }
   ],
   "source": [
    "export_map_df_to_csv(map_df, \"./temp_map_df.csv\")"
   ]
  },
  {
   "cell_type": "code",
   "execution_count": 31,
   "metadata": {},
   "outputs": [
    {
     "name": "stderr",
     "output_type": "stream",
     "text": [
      "100%|██████████| 282259/282259 [00:48<00:00, 5867.15it/s]\n"
     ]
    }
   ],
   "source": [
    "map_df_imported = import_map_df_from_csv(\"../GITIGNORE_DATA/reconciliation_OBJECT_20201006-1309.csv\")\n",
    "objects[\"ITEM_NAME_resolved\"] = create_column_from_map_df(objects[\"ITEM_NAME\"], map_df_imported, multiple_vals=True)"
   ]
  },
  {
   "cell_type": "code",
   "execution_count": 32,
   "metadata": {},
   "outputs": [
    {
     "name": "stdout",
     "output_type": "stream",
     "text": [
      "51% of records have at least one resolved type\n"
     ]
    }
   ],
   "source": [
    "print(f\"{int((objects['ITEM_NAME_resolved'].apply(len) > 0).sum() / len(objects) * 100)}% of records have at least one resolved type\")"
   ]
  },
  {
   "cell_type": "code",
   "execution_count": 17,
   "metadata": {},
   "outputs": [],
   "source": [
    "# objects.to_pickle(\"../GITIGNORE_DATA/objects_with_types.pkl\")"
   ]
  },
  {
   "cell_type": "code",
   "execution_count": null,
   "metadata": {},
   "outputs": [],
   "source": []
  }
 ],
 "metadata": {
  "kernelspec": {
   "display_name": "Python 3",
   "language": "python",
   "name": "python3"
  },
  "language_info": {
   "codemirror_mode": {
    "name": "ipython",
    "version": 3
   },
   "file_extension": ".py",
   "mimetype": "text/x-python",
   "name": "python",
   "nbconvert_exporter": "python",
   "pygments_lexer": "ipython3",
   "version": "3.9.1"
  }
 },
 "nbformat": 4,
 "nbformat_minor": 4
}
