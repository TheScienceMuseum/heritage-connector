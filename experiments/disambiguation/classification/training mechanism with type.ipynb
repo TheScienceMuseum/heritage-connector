{
 "cells": [
  {
   "cell_type": "code",
   "execution_count": 1,
   "metadata": {},
   "outputs": [],
   "source": [
    "import sys\n",
    "sys.path.append(\"../../..\")\n",
    "\n",
    "import numpy as np\n",
    "import pandas as pd"
   ]
  },
  {
   "cell_type": "markdown",
   "metadata": {},
   "source": [
    "## People"
   ]
  },
  {
   "cell_type": "code",
   "execution_count": 2,
   "metadata": {},
   "outputs": [
    {
     "data": {
      "text/plain": [
       "((59750, 8), (59750,), 59750, 8)"
      ]
     },
     "execution_count": 2,
     "metadata": {},
     "output_type": "execute_result"
    }
   ],
   "source": [
    "people_path = \"/Volumes/Kalyan_SSD/SMG/disambiguation/types_test/\"\n",
    "\n",
    "pX = np.load(people_path + 'X.npy')\n",
    "py = np.load(people_path + 'y.npy')\n",
    "\n",
    "p_pairs = pd.read_csv(people_path + \"ids.txt\", header=None, delimiter=\"\\t\", names=['internal_id', 'wikidata_id'])\n",
    "p_pids = pd.read_csv(people_path + \"pids.txt\", header=None, names=['column'])['column'].tolist()\n",
    "\n",
    "pX.shape, py.shape, len(p_pairs), len(p_pids)"
   ]
  },
  {
   "cell_type": "markdown",
   "metadata": {},
   "source": [
    "## Organisations"
   ]
  },
  {
   "cell_type": "code",
   "execution_count": 3,
   "metadata": {},
   "outputs": [
    {
     "data": {
      "text/plain": [
       "((13037, 4), (13037,), 13037, 4)"
      ]
     },
     "execution_count": 3,
     "metadata": {},
     "output_type": "execute_result"
    }
   ],
   "source": [
    "orgs_path = \"/Volumes/Kalyan_SSD/SMG/disambiguation/types_test_orgs/\"\n",
    "\n",
    "oX = np.load(orgs_path + 'X.npy')\n",
    "oy = np.load(orgs_path + 'y.npy')\n",
    "\n",
    "o_pairs = pd.read_csv(orgs_path + \"ids.txt\", header=None, delimiter=\"\\t\", names=['internal_id', 'wikidata_id'])\n",
    "o_pids = pd.read_csv(orgs_path + \"pids.txt\", header=None, names=['column'])['column'].tolist()\n",
    "\n",
    "oX.shape, oy.shape, len(o_pairs), len(o_pids)"
   ]
  },
  {
   "cell_type": "code",
   "execution_count": null,
   "metadata": {},
   "outputs": [],
   "source": []
  }
 ],
 "metadata": {
  "kernelspec": {
   "display_name": "Python 3",
   "language": "python",
   "name": "python3"
  },
  "language_info": {
   "codemirror_mode": {
    "name": "ipython",
    "version": 3
   },
   "file_extension": ".py",
   "mimetype": "text/x-python",
   "name": "python",
   "nbconvert_exporter": "python",
   "pygments_lexer": "ipython3",
   "version": "3.7.4"
  }
 },
 "nbformat": 4,
 "nbformat_minor": 4
}
