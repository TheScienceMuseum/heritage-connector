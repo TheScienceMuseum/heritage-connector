{
 "cells": [
  {
   "cell_type": "markdown",
   "metadata": {},
   "source": [
    "# Training Mechanism for Disambiguation\n",
    "Given an item with a match, get a table of information for negative samples. **Runs from Elasticsearch, unlike previous examples**\n",
    "\n",
    "1. Search label on Elasticsearch\n",
    "2. Fetch data from Wikidata"
   ]
  },
  {
   "cell_type": "code",
   "execution_count": 1,
   "metadata": {},
   "outputs": [
    {
     "name": "stdout",
     "output_type": "stream",
     "text": [
      "Requirement already satisfied: elastic_wikidata in /Users/kalyan/.local/share/virtualenvs/heritage-connector-tkmarX41/lib/python3.7/site-packages (0.3.0)\n",
      "Requirement already satisfied: SPARQLWrapper==1.8.5 in /Users/kalyan/.local/share/virtualenvs/heritage-connector-tkmarX41/lib/python3.7/site-packages (from elastic_wikidata) (1.8.5)\n",
      "Requirement already satisfied: requests==2.24.0 in /Users/kalyan/.local/share/virtualenvs/heritage-connector-tkmarX41/lib/python3.7/site-packages (from elastic_wikidata) (2.24.0)\n",
      "Requirement already satisfied: elasticsearch==7.8.1 in /Users/kalyan/.local/share/virtualenvs/heritage-connector-tkmarX41/lib/python3.7/site-packages (from elastic_wikidata) (7.8.1)\n",
      "Requirement already satisfied: click==7.1.2 in /Users/kalyan/.local/share/virtualenvs/heritage-connector-tkmarX41/lib/python3.7/site-packages (from elastic_wikidata) (7.1.2)\n",
      "Requirement already satisfied: tqdm==4.48.2 in /Users/kalyan/.local/share/virtualenvs/heritage-connector-tkmarX41/lib/python3.7/site-packages (from elastic_wikidata) (4.48.2)\n",
      "Requirement already satisfied: rdflib>=4.0 in /Users/kalyan/.local/share/virtualenvs/heritage-connector-tkmarX41/lib/python3.7/site-packages (from SPARQLWrapper==1.8.5->elastic_wikidata) (5.0.0)\n",
      "Requirement already satisfied: idna<3,>=2.5 in /Users/kalyan/.local/share/virtualenvs/heritage-connector-tkmarX41/lib/python3.7/site-packages (from requests==2.24.0->elastic_wikidata) (2.10)\n",
      "Requirement already satisfied: chardet<4,>=3.0.2 in /Users/kalyan/.local/share/virtualenvs/heritage-connector-tkmarX41/lib/python3.7/site-packages (from requests==2.24.0->elastic_wikidata) (3.0.4)\n",
      "Requirement already satisfied: urllib3!=1.25.0,!=1.25.1,<1.26,>=1.21.1 in /Users/kalyan/.local/share/virtualenvs/heritage-connector-tkmarX41/lib/python3.7/site-packages (from requests==2.24.0->elastic_wikidata) (1.25.10)\n",
      "Requirement already satisfied: certifi>=2017.4.17 in /Users/kalyan/.local/share/virtualenvs/heritage-connector-tkmarX41/lib/python3.7/site-packages (from requests==2.24.0->elastic_wikidata) (2020.6.20)\n",
      "Requirement already satisfied: pyparsing in /Users/kalyan/.local/share/virtualenvs/heritage-connector-tkmarX41/lib/python3.7/site-packages (from rdflib>=4.0->SPARQLWrapper==1.8.5->elastic_wikidata) (2.4.7)\n",
      "Requirement already satisfied: isodate in /Users/kalyan/.local/share/virtualenvs/heritage-connector-tkmarX41/lib/python3.7/site-packages (from rdflib>=4.0->SPARQLWrapper==1.8.5->elastic_wikidata) (0.6.0)\n",
      "Requirement already satisfied: six in /Users/kalyan/.local/share/virtualenvs/heritage-connector-tkmarX41/lib/python3.7/site-packages (from rdflib>=4.0->SPARQLWrapper==1.8.5->elastic_wikidata) (1.15.0)\n"
     ]
    }
   ],
   "source": [
    "!pip install elastic_wikidata"
   ]
  },
  {
   "cell_type": "code",
   "execution_count": 1,
   "metadata": {},
   "outputs": [],
   "source": [
    "%load_ext autoreload\n",
    "%autoreload 2\n",
    "\n",
    "import os\n",
    "import sys\n",
    "sys.path.append(\"../../..\")\n",
    "\n",
    "import pandas as pd\n",
    "pd.set_option('display.max_colwidth', None)\n",
    "pd.set_option('display.max_columns', None)\n",
    "pd.set_option('display.max_rows', None)\n",
    "\n",
    "import elastic_wikidata\n",
    "from heritageconnector import datastore\n",
    "\n",
    "data_folder = \"../../../GITIGNORE_DATA\""
   ]
  },
  {
   "cell_type": "code",
   "execution_count": 2,
   "metadata": {},
   "outputs": [
    {
     "data": {
      "text/html": [
       "<div>\n",
       "<style scoped>\n",
       "    .dataframe tbody tr th:only-of-type {\n",
       "        vertical-align: middle;\n",
       "    }\n",
       "\n",
       "    .dataframe tbody tr th {\n",
       "        vertical-align: top;\n",
       "    }\n",
       "\n",
       "    .dataframe thead th {\n",
       "        text-align: right;\n",
       "    }\n",
       "</style>\n",
       "<table border=\"1\" class=\"dataframe\">\n",
       "  <thead>\n",
       "    <tr style=\"text-align: right;\">\n",
       "      <th></th>\n",
       "      <th>LINK_ID</th>\n",
       "      <th>PREFERRED_NAME</th>\n",
       "      <th>TITLE_NAME</th>\n",
       "      <th>FIRSTMID_NAME</th>\n",
       "      <th>LASTSUFF_NAME</th>\n",
       "      <th>SUFFIX_NAME</th>\n",
       "      <th>HONORARY_SUFFIX</th>\n",
       "      <th>GENDER</th>\n",
       "      <th>BRIEF_BIO</th>\n",
       "      <th>DESCRIPTION</th>\n",
       "      <th>NOTE</th>\n",
       "      <th>BIRTH_DATE</th>\n",
       "      <th>BIRTH_PLACE</th>\n",
       "      <th>DEATH_DATE</th>\n",
       "      <th>DEATH_PLACE</th>\n",
       "      <th>CAUSE_OF_DEATH</th>\n",
       "      <th>NATIONALITY</th>\n",
       "      <th>OCCUPATION</th>\n",
       "      <th>WEBSITE</th>\n",
       "      <th>AFFILIATION</th>\n",
       "      <th>LINGUISTIC_GROUP</th>\n",
       "      <th>TYPE</th>\n",
       "      <th>REFERENCE_NUMBER</th>\n",
       "      <th>SOURCE</th>\n",
       "      <th>CREATE_DATE</th>\n",
       "      <th>UPDATE_DATE</th>\n",
       "      <th>res_ALL_NOTES</th>\n",
       "      <th>res_WIKIDATA_IDs</th>\n",
       "      <th>res_URLS</th>\n",
       "      <th>qcodes_filtered</th>\n",
       "    </tr>\n",
       "  </thead>\n",
       "  <tbody>\n",
       "    <tr>\n",
       "      <th>1</th>\n",
       "      <td>10245</td>\n",
       "      <td>Zenthon, Edward Rupert</td>\n",
       "      <td>NaN</td>\n",
       "      <td>Edward Rupert</td>\n",
       "      <td>Zenthon</td>\n",
       "      <td>NaN</td>\n",
       "      <td>NaN</td>\n",
       "      <td>M</td>\n",
       "      <td>Y</td>\n",
       "      <td>REF: http://www.iwm.org.uk/collections/item/object/1030031461</td>\n",
       "      <td>nan</td>\n",
       "      <td>1920-07</td>\n",
       "      <td>London, Greater London, England, United Kingdom</td>\n",
       "      <td>c. 2002</td>\n",
       "      <td>NaN</td>\n",
       "      <td>NaN</td>\n",
       "      <td>British</td>\n",
       "      <td>engineer</td>\n",
       "      <td>NaN</td>\n",
       "      <td>NaN</td>\n",
       "      <td>NaN</td>\n",
       "      <td>NaN</td>\n",
       "      <td>NaN</td>\n",
       "      <td>N</td>\n",
       "      <td>28-JAN-98</td>\n",
       "      <td>05-AUG-15</td>\n",
       "      <td>REF: http://www.iwm.org.uk/collections/item/object/1030031461 --- nan</td>\n",
       "      <td>[]</td>\n",
       "      <td>[http://www.iwm.org.uk/collections/item/object/1030031461]</td>\n",
       "      <td>[]</td>\n",
       "    </tr>\n",
       "    <tr>\n",
       "      <th>2</th>\n",
       "      <td>10269</td>\n",
       "      <td>Troughton, John</td>\n",
       "      <td>NaN</td>\n",
       "      <td>John</td>\n",
       "      <td>Troughton</td>\n",
       "      <td>NaN</td>\n",
       "      <td>NaN</td>\n",
       "      <td>M</td>\n",
       "      <td>Y</td>\n",
       "      <td>1739 - Born in Corney, Cumbria, England; Apprenticed to his Uncle John Troughton \\n1764 - traded at Surrey St., Strand, London \\n1768-71 - traded at Crown Court, Fleet St., London\\n1771-78 - traded at 17 Dean St., Fetter Lane, London \\n1778-82 - traded at 1 Queen's Sq., Bartholomew Close, London \\n1782 - purchased the business of Benjamin Cole  \\n1782-1788 - traded at the sign of the Orrery, 136 Fleet St, London, England.  \\n1788-1804 - in partnership as J &amp; E Troughton, with brother Edward Troughton (1756-1835)</td>\n",
       "      <td>ODNB: Anita McConnell, ‘Troughton, Edward (1753–1835)’, Oxford Dictionary of National Biography, Oxford University Press, 2004; online edn, May 2005 [http://www.oxforddnb.com/view/article/27767]\\nREF: A. McConnell, Instrument makers to the world: a history of Cooke, Troughton &amp; Simms (1992) · A. W. Skempton and J. Brown, ‘John and Edward Troughton’, Notes and Records of the Royal Society, 27 (1972–3), 233–62</td>\n",
       "      <td>1739</td>\n",
       "      <td>Broughton in Furness, Cumbria, England, United Kingdom</td>\n",
       "      <td>1807</td>\n",
       "      <td>London, Greater London, England, United Kingdom</td>\n",
       "      <td>NaN</td>\n",
       "      <td>English; British</td>\n",
       "      <td>mathematical instrument maker</td>\n",
       "      <td>NaN</td>\n",
       "      <td>NaN</td>\n",
       "      <td>NaN</td>\n",
       "      <td>NaN</td>\n",
       "      <td>NaN</td>\n",
       "      <td>N</td>\n",
       "      <td>28-JAN-98</td>\n",
       "      <td>06-NOV-18</td>\n",
       "      <td>1739 - Born in Corney, Cumbria, England; Apprenticed to his Uncle John Troughton \\n1764 - traded at Surrey St., Strand, London \\n1768-71 - traded at Crown Court, Fleet St., London\\n1771-78 - traded at 17 Dean St., Fetter Lane, London \\n1778-82 - traded at 1 Queen's Sq., Bartholomew Close, London \\n1782 - purchased the business of Benjamin Cole  \\n1782-1788 - traded at the sign of the Orrery, 136 Fleet St, London, England.  \\n1788-1804 - in partnership as J &amp; E Troughton, with brother Edward Troughton (1756-1835) --- ODNB: Anita McConnell, ‘Troughton, Edward (1753–1835)’, Oxford Dictionary of National Biography, Oxford University Press, 2004; online edn, May 2005 [http://www.oxforddnb.com/view/article/27767]\\nREF: A. McConnell, Instrument makers to the world: a history of Cooke, Troughton &amp; Simms (1992) · A. W. Skempton and J. Brown, ‘John and Edward Troughton’, Notes and Records of the Royal Society, 27 (1972–3), 233–62</td>\n",
       "      <td>[Q1293897]</td>\n",
       "      <td>[http://www.oxforddnb.com/view/article/27767]</td>\n",
       "      <td>[]</td>\n",
       "    </tr>\n",
       "  </tbody>\n",
       "</table>\n",
       "</div>"
      ],
      "text/plain": [
       "   LINK_ID          PREFERRED_NAME TITLE_NAME  FIRSTMID_NAME LASTSUFF_NAME  \\\n",
       "1    10245  Zenthon, Edward Rupert        NaN  Edward Rupert       Zenthon   \n",
       "2    10269         Troughton, John        NaN           John     Troughton   \n",
       "\n",
       "  SUFFIX_NAME HONORARY_SUFFIX GENDER BRIEF_BIO  \\\n",
       "1         NaN             NaN      M         Y   \n",
       "2         NaN             NaN      M         Y   \n",
       "\n",
       "                                                                                                                                                                                                                                                                                                                                                                                                                                                                                                                             DESCRIPTION  \\\n",
       "1                                                                                                                                                                                                                                                                                                                                                                                                                                                                          REF: http://www.iwm.org.uk/collections/item/object/1030031461   \n",
       "2  1739 - Born in Corney, Cumbria, England; Apprenticed to his Uncle John Troughton \\n1764 - traded at Surrey St., Strand, London \\n1768-71 - traded at Crown Court, Fleet St., London\\n1771-78 - traded at 17 Dean St., Fetter Lane, London \\n1778-82 - traded at 1 Queen's Sq., Bartholomew Close, London \\n1782 - purchased the business of Benjamin Cole  \\n1782-1788 - traded at the sign of the Orrery, 136 Fleet St, London, England.  \\n1788-1804 - in partnership as J & E Troughton, with brother Edward Troughton (1756-1835)   \n",
       "\n",
       "                                                                                                                                                                                                                                                                                                                                                                                                                          NOTE  \\\n",
       "1                                                                                                                                                                                                                                                                                                                                                                                                                          nan   \n",
       "2  ODNB: Anita McConnell, ‘Troughton, Edward (1753–1835)’, Oxford Dictionary of National Biography, Oxford University Press, 2004; online edn, May 2005 [http://www.oxforddnb.com/view/article/27767]\\nREF: A. McConnell, Instrument makers to the world: a history of Cooke, Troughton & Simms (1992) · A. W. Skempton and J. Brown, ‘John and Edward Troughton’, Notes and Records of the Royal Society, 27 (1972–3), 233–62   \n",
       "\n",
       "  BIRTH_DATE                                             BIRTH_PLACE  \\\n",
       "1    1920-07         London, Greater London, England, United Kingdom   \n",
       "2       1739  Broughton in Furness, Cumbria, England, United Kingdom   \n",
       "\n",
       "  DEATH_DATE                                      DEATH_PLACE CAUSE_OF_DEATH  \\\n",
       "1    c. 2002                                              NaN            NaN   \n",
       "2       1807  London, Greater London, England, United Kingdom            NaN   \n",
       "\n",
       "        NATIONALITY                     OCCUPATION WEBSITE  AFFILIATION  \\\n",
       "1           British                       engineer     NaN          NaN   \n",
       "2  English; British  mathematical instrument maker     NaN          NaN   \n",
       "\n",
       "   LINGUISTIC_GROUP TYPE  REFERENCE_NUMBER SOURCE CREATE_DATE UPDATE_DATE  \\\n",
       "1               NaN  NaN               NaN      N   28-JAN-98   05-AUG-15   \n",
       "2               NaN  NaN               NaN      N   28-JAN-98   06-NOV-18   \n",
       "\n",
       "                                                                                                                                                                                                                                                                                                                                                                                                                                                                                                                                                                                                                                                                                                                                                                                                                                                                                                                                                           res_ALL_NOTES  \\\n",
       "1                                                                                                                                                                                                                                                                                                                                                                                                                                                                                                                                                                                                                                                                                                                                                                                                                                                                                                  REF: http://www.iwm.org.uk/collections/item/object/1030031461 --- nan   \n",
       "2  1739 - Born in Corney, Cumbria, England; Apprenticed to his Uncle John Troughton \\n1764 - traded at Surrey St., Strand, London \\n1768-71 - traded at Crown Court, Fleet St., London\\n1771-78 - traded at 17 Dean St., Fetter Lane, London \\n1778-82 - traded at 1 Queen's Sq., Bartholomew Close, London \\n1782 - purchased the business of Benjamin Cole  \\n1782-1788 - traded at the sign of the Orrery, 136 Fleet St, London, England.  \\n1788-1804 - in partnership as J & E Troughton, with brother Edward Troughton (1756-1835) --- ODNB: Anita McConnell, ‘Troughton, Edward (1753–1835)’, Oxford Dictionary of National Biography, Oxford University Press, 2004; online edn, May 2005 [http://www.oxforddnb.com/view/article/27767]\\nREF: A. McConnell, Instrument makers to the world: a history of Cooke, Troughton & Simms (1992) · A. W. Skempton and J. Brown, ‘John and Edward Troughton’, Notes and Records of the Royal Society, 27 (1972–3), 233–62   \n",
       "\n",
       "  res_WIKIDATA_IDs  \\\n",
       "1               []   \n",
       "2       [Q1293897]   \n",
       "\n",
       "                                                     res_URLS qcodes_filtered  \n",
       "1  [http://www.iwm.org.uk/collections/item/object/1030031461]              []  \n",
       "2               [http://www.oxforddnb.com/view/article/27767]              []  "
      ]
     },
     "execution_count": 2,
     "metadata": {},
     "output_type": "execute_result"
    }
   ],
   "source": [
    "df = pd.read_pickle(data_folder + '/filtering_people_orgs_result.pkl')\n",
    "df.head(2)"
   ]
  },
  {
   "cell_type": "markdown",
   "metadata": {},
   "source": [
    "## 1. Get Candidates (search label on ES)"
   ]
  },
  {
   "cell_type": "code",
   "execution_count": 4,
   "metadata": {},
   "outputs": [],
   "source": [
    "from heritageconnector.disambiguation.search import es_text_search"
   ]
  },
  {
   "cell_type": "code",
   "execution_count": 5,
   "metadata": {},
   "outputs": [
    {
     "name": "stdout",
     "output_type": "stream",
     "text": [
      "Matches for Troughton, John\n"
     ]
    },
    {
     "data": {
      "text/plain": [
       "['Q18879367',\n",
       " 'Q58453056',\n",
       " 'Q28179162',\n",
       " 'Q559430',\n",
       " 'Q3525964',\n",
       " 'Q55816361',\n",
       " 'Q75987735',\n",
       " 'Q6834961',\n",
       " 'Q1293897',\n",
       " 'Q7422845']"
      ]
     },
     "execution_count": 5,
     "metadata": {},
     "output_type": "execute_result"
    }
   ],
   "source": [
    "ID = 10269\n",
    "row = df[df['LINK_ID'] == ID]\n",
    "label = row[\"PREFERRED_NAME\"].values[0]\n",
    "\n",
    "search = es_text_search(index='wikidump_humans')\n",
    "qids = search.run_search(label, limit=10, include_aliases=True)\n",
    "\n",
    "print(f\"Matches for {label}\")\n",
    "qids"
   ]
  },
  {
   "cell_type": "markdown",
   "metadata": {},
   "source": [
    "## 2. Get Wikidata info back"
   ]
  },
  {
   "cell_type": "markdown",
   "metadata": {},
   "source": [
    "### 2.1 Using `wbgetentities` / elastic_wikidata\n",
    "\n",
    "Only returns QIDs for every value with a QID"
   ]
  },
  {
   "cell_type": "code",
   "execution_count": 6,
   "metadata": {},
   "outputs": [],
   "source": [
    "from elastic_wikidata.wd_entities import get_entities, simplify_wbgetentities_result"
   ]
  },
  {
   "cell_type": "code",
   "execution_count": 7,
   "metadata": {},
   "outputs": [
    {
     "name": "stdout",
     "output_type": "stream",
     "text": [
      "Getting 10 wikidata documents in pages of 20\n"
     ]
    },
    {
     "data": {
      "application/vnd.jupyter.widget-view+json": {
       "model_id": "70cf105fcaaa494e805991a9a0fc4f53",
       "version_major": 2,
       "version_minor": 0
      },
      "text/plain": [
       "HBox(children=(FloatProgress(value=0.0, max=1.0), HTML(value='')))"
      ]
     },
     "metadata": {},
     "output_type": "display_data"
    },
    {
     "name": "stdout",
     "output_type": "stream",
     "text": [
      "\n"
     ]
    }
   ],
   "source": [
    "wd_res = get_entities.get_all_results(qids, page_limit=20, timeout=6)\n"
   ]
  },
  {
   "cell_type": "code",
   "execution_count": 8,
   "metadata": {},
   "outputs": [
    {
     "data": {
      "text/html": [
       "<div>\n",
       "<style scoped>\n",
       "    .dataframe tbody tr th:only-of-type {\n",
       "        vertical-align: middle;\n",
       "    }\n",
       "\n",
       "    .dataframe tbody tr th {\n",
       "        vertical-align: top;\n",
       "    }\n",
       "\n",
       "    .dataframe thead th {\n",
       "        text-align: right;\n",
       "    }\n",
       "</style>\n",
       "<table border=\"1\" class=\"dataframe\">\n",
       "  <thead>\n",
       "    <tr style=\"text-align: right;\">\n",
       "      <th></th>\n",
       "      <th>id</th>\n",
       "      <th>labels</th>\n",
       "      <th>descriptions</th>\n",
       "      <th>aliases</th>\n",
       "      <th>claims.P106</th>\n",
       "      <th>claims.P569</th>\n",
       "      <th>claims.P570</th>\n",
       "      <th>claims.P21</th>\n",
       "    </tr>\n",
       "  </thead>\n",
       "  <tbody>\n",
       "    <tr>\n",
       "      <th>0</th>\n",
       "      <td>Q18879367</td>\n",
       "      <td>John Troughton</td>\n",
       "      <td>English nonconformist minister and religious controversialist</td>\n",
       "      <td>[]</td>\n",
       "      <td>[Q1423891]</td>\n",
       "      <td>[+1637-00-00T00:00:00Z]</td>\n",
       "      <td>[+1681-00-00T00:00:00Z]</td>\n",
       "      <td>[Q6581097]</td>\n",
       "    </tr>\n",
       "    <tr>\n",
       "      <th>1</th>\n",
       "      <td>Q58453056</td>\n",
       "      <td>Michael John Troughton</td>\n",
       "      <td>researcher</td>\n",
       "      <td>[]</td>\n",
       "      <td>[Q1650915]</td>\n",
       "      <td>NaN</td>\n",
       "      <td>NaN</td>\n",
       "      <td>[Q6581097]</td>\n",
       "    </tr>\n",
       "    <tr>\n",
       "      <th>2</th>\n",
       "      <td>Q28179162</td>\n",
       "      <td>Medhurst Troughton</td>\n",
       "      <td>British cricketer (1839-1912)</td>\n",
       "      <td>[Medhurst Albert Troughton]</td>\n",
       "      <td>[Q12299841]</td>\n",
       "      <td>[+1839-12-25T00:00:00Z]</td>\n",
       "      <td>[+1912-01-01T00:00:00Z]</td>\n",
       "      <td>[Q6581097]</td>\n",
       "    </tr>\n",
       "    <tr>\n",
       "      <th>3</th>\n",
       "      <td>Q559430</td>\n",
       "      <td>Patrick Troughton</td>\n",
       "      <td>English actor (1920-1987)</td>\n",
       "      <td>[Patrick George Troughton]</td>\n",
       "      <td>[Q2259451, Q10800557, Q33999, Q10798782]</td>\n",
       "      <td>[+1920-03-25T00:00:00Z]</td>\n",
       "      <td>[+1987-03-28T00:00:00Z]</td>\n",
       "      <td>[Q6581097]</td>\n",
       "    </tr>\n",
       "    <tr>\n",
       "      <th>4</th>\n",
       "      <td>Q3525964</td>\n",
       "      <td>Jim Troughton</td>\n",
       "      <td>Cricket player of England. (born 1979)</td>\n",
       "      <td>[Jamie Oliver Troughton]</td>\n",
       "      <td>[Q12299841]</td>\n",
       "      <td>[+1979-03-02T00:00:00Z]</td>\n",
       "      <td>NaN</td>\n",
       "      <td>[Q6581097]</td>\n",
       "    </tr>\n",
       "    <tr>\n",
       "      <th>5</th>\n",
       "      <td>Q55816361</td>\n",
       "      <td>Charles Troughton Clark</td>\n",
       "      <td>New Zealand commercial photographer (1890-1973)</td>\n",
       "      <td>[C. Troughton Clark]</td>\n",
       "      <td>[Q33231]</td>\n",
       "      <td>[+1890-01-01T00:00:00Z]</td>\n",
       "      <td>[+1973-00-00T00:00:00Z, +1979-00-00T00:00:00Z]</td>\n",
       "      <td>[Q6581097]</td>\n",
       "    </tr>\n",
       "    <tr>\n",
       "      <th>6</th>\n",
       "      <td>Q75987735</td>\n",
       "      <td>Felix Troughton</td>\n",
       "      <td>Peerage person ID=450661</td>\n",
       "      <td>[Lieutenant Felix Troughton]</td>\n",
       "      <td>NaN</td>\n",
       "      <td>NaN</td>\n",
       "      <td>NaN</td>\n",
       "      <td>[Q6581097]</td>\n",
       "    </tr>\n",
       "    <tr>\n",
       "      <th>7</th>\n",
       "      <td>Q6834961</td>\n",
       "      <td>Michael Troughton</td>\n",
       "      <td>English actor</td>\n",
       "      <td>[]</td>\n",
       "      <td>[Q33999, Q36180, Q37226, Q10798782]</td>\n",
       "      <td>[+1955-03-02T00:00:00Z]</td>\n",
       "      <td>NaN</td>\n",
       "      <td>[Q6581097]</td>\n",
       "    </tr>\n",
       "    <tr>\n",
       "      <th>8</th>\n",
       "      <td>Q1293897</td>\n",
       "      <td>Edward Troughton</td>\n",
       "      <td>British telescope maker</td>\n",
       "      <td>[]</td>\n",
       "      <td>[Q11063, Q205375]</td>\n",
       "      <td>[+1753-01-01T00:00:00Z]</td>\n",
       "      <td>[+1835-06-12T00:00:00Z]</td>\n",
       "      <td>[Q6581097]</td>\n",
       "    </tr>\n",
       "    <tr>\n",
       "      <th>9</th>\n",
       "      <td>Q7422845</td>\n",
       "      <td>Sarah Troughton</td>\n",
       "      <td>Lord Lieutenant of Wiltshire</td>\n",
       "      <td>[Sarah Rose Colman]</td>\n",
       "      <td>NaN</td>\n",
       "      <td>[+1953-05-03T00:00:00Z]</td>\n",
       "      <td>NaN</td>\n",
       "      <td>[Q6581072]</td>\n",
       "    </tr>\n",
       "  </tbody>\n",
       "</table>\n",
       "</div>"
      ],
      "text/plain": [
       "          id                   labels  \\\n",
       "0  Q18879367           John Troughton   \n",
       "1  Q58453056   Michael John Troughton   \n",
       "2  Q28179162       Medhurst Troughton   \n",
       "3    Q559430        Patrick Troughton   \n",
       "4   Q3525964            Jim Troughton   \n",
       "5  Q55816361  Charles Troughton Clark   \n",
       "6  Q75987735          Felix Troughton   \n",
       "7   Q6834961        Michael Troughton   \n",
       "8   Q1293897         Edward Troughton   \n",
       "9   Q7422845          Sarah Troughton   \n",
       "\n",
       "                                                    descriptions  \\\n",
       "0  English nonconformist minister and religious controversialist   \n",
       "1                                                     researcher   \n",
       "2                                  British cricketer (1839-1912)   \n",
       "3                                      English actor (1920-1987)   \n",
       "4                         Cricket player of England. (born 1979)   \n",
       "5                New Zealand commercial photographer (1890-1973)   \n",
       "6                                       Peerage person ID=450661   \n",
       "7                                                  English actor   \n",
       "8                                        British telescope maker   \n",
       "9                                   Lord Lieutenant of Wiltshire   \n",
       "\n",
       "                        aliases                               claims.P106  \\\n",
       "0                            []                                [Q1423891]   \n",
       "1                            []                                [Q1650915]   \n",
       "2   [Medhurst Albert Troughton]                               [Q12299841]   \n",
       "3    [Patrick George Troughton]  [Q2259451, Q10800557, Q33999, Q10798782]   \n",
       "4      [Jamie Oliver Troughton]                               [Q12299841]   \n",
       "5          [C. Troughton Clark]                                  [Q33231]   \n",
       "6  [Lieutenant Felix Troughton]                                       NaN   \n",
       "7                            []       [Q33999, Q36180, Q37226, Q10798782]   \n",
       "8                            []                         [Q11063, Q205375]   \n",
       "9           [Sarah Rose Colman]                                       NaN   \n",
       "\n",
       "               claims.P569                                     claims.P570  \\\n",
       "0  [+1637-00-00T00:00:00Z]                         [+1681-00-00T00:00:00Z]   \n",
       "1                      NaN                                             NaN   \n",
       "2  [+1839-12-25T00:00:00Z]                         [+1912-01-01T00:00:00Z]   \n",
       "3  [+1920-03-25T00:00:00Z]                         [+1987-03-28T00:00:00Z]   \n",
       "4  [+1979-03-02T00:00:00Z]                                             NaN   \n",
       "5  [+1890-01-01T00:00:00Z]  [+1973-00-00T00:00:00Z, +1979-00-00T00:00:00Z]   \n",
       "6                      NaN                                             NaN   \n",
       "7  [+1955-03-02T00:00:00Z]                                             NaN   \n",
       "8  [+1753-01-01T00:00:00Z]                         [+1835-06-12T00:00:00Z]   \n",
       "9  [+1953-05-03T00:00:00Z]                                             NaN   \n",
       "\n",
       "   claims.P21  \n",
       "0  [Q6581097]  \n",
       "1  [Q6581097]  \n",
       "2  [Q6581097]  \n",
       "3  [Q6581097]  \n",
       "4  [Q6581097]  \n",
       "5  [Q6581097]  \n",
       "6  [Q6581097]  \n",
       "7  [Q6581097]  \n",
       "8  [Q6581097]  \n",
       "9  [Q6581072]  "
      ]
     },
     "execution_count": 8,
     "metadata": {},
     "output_type": "execute_result"
    }
   ],
   "source": [
    "pd.json_normalize(simplify_wbgetentities_result(wd_res, lang='en', properties=['P106', 'P569', 'P570','P21']))"
   ]
  },
  {
   "cell_type": "markdown",
   "metadata": {},
   "source": [
    "### 2.2 Using SPARQL\n",
    "Gets values back with option to return QIDs\n"
   ]
  },
  {
   "cell_type": "code",
   "execution_count": 9,
   "metadata": {},
   "outputs": [],
   "source": [
    "from heritageconnector.config import field_mapping\n",
    "from heritageconnector.utils.wikidata import url_to_pid\n",
    "from heritageconnector.disambiguation.retrieve import get_wikidata_fields"
   ]
  },
  {
   "cell_type": "code",
   "execution_count": 12,
   "metadata": {},
   "outputs": [],
   "source": [
    "def get_results(ids, limit_per_id=10, label_col=\"PREFERRED_NAME\"):\n",
    "    search = es_text_search(index='wikidump_humans')\n",
    "    id_qid_mapping = {}\n",
    "    \n",
    "    # get QIDs from ES\n",
    "    for _id in ids:\n",
    "        row = df[df['LINK_ID'] == _id]\n",
    "        label = row[label_col].values[0]\n",
    "        qids = search.run_search(label, limit=limit_per_id, include_aliases=True)\n",
    "        id_qid_mapping.update({_id: qids})\n",
    "    \n",
    "    # get PIDs from field mapping\n",
    "    person_mapping = field_mapping.mapping['PERSON']\n",
    "    col_pid_mapping = {k:url_to_pid(str(v['PID'])) for (k,v) in person_mapping.items() if 'PID' in v and v['PID'] not in ('label', 'description')}\n",
    "    pids = list(col_pid_mapping.values())\n",
    "    \n",
    "    # return table of results\n",
    "    res = get_wikidata_fields(pids, id_qid_mapping=id_qid_mapping)\n",
    "    \n",
    "    return res\n"
   ]
  },
  {
   "cell_type": "code",
   "execution_count": 13,
   "metadata": {},
   "outputs": [
    {
     "data": {
      "text/html": [
       "<div>\n",
       "<style scoped>\n",
       "    .dataframe tbody tr th:only-of-type {\n",
       "        vertical-align: middle;\n",
       "    }\n",
       "\n",
       "    .dataframe tbody tr th {\n",
       "        vertical-align: top;\n",
       "    }\n",
       "\n",
       "    .dataframe thead th {\n",
       "        text-align: right;\n",
       "    }\n",
       "</style>\n",
       "<table border=\"1\" class=\"dataframe\">\n",
       "  <thead>\n",
       "    <tr style=\"text-align: right;\">\n",
       "      <th></th>\n",
       "      <th>id</th>\n",
       "      <th>item</th>\n",
       "      <th>itemLabel</th>\n",
       "      <th>itemDescription</th>\n",
       "      <th>altLabel</th>\n",
       "      <th>P19</th>\n",
       "      <th>P20</th>\n",
       "      <th>P735</th>\n",
       "      <th>P734</th>\n",
       "      <th>P21</th>\n",
       "      <th>P570</th>\n",
       "      <th>P106</th>\n",
       "      <th>P569</th>\n",
       "    </tr>\n",
       "  </thead>\n",
       "  <tbody>\n",
       "    <tr>\n",
       "      <th>0</th>\n",
       "      <td>10245</td>\n",
       "      <td>Q1001190</td>\n",
       "      <td>Buddy Featherstonhaugh</td>\n",
       "      <td>English jazz saxophonist</td>\n",
       "      <td>Rupert Edward Lee Featherstonhaugh</td>\n",
       "      <td>Paris</td>\n",
       "      <td>London</td>\n",
       "      <td>Buddy</td>\n",
       "      <td>Featherstonhaugh</td>\n",
       "      <td>male</td>\n",
       "      <td>1976-07-12T00:00:00Z</td>\n",
       "      <td>[jazz musician, clarinetist, saxophonist, racing automobile driver]</td>\n",
       "      <td>1909-10-04T00:00:00Z</td>\n",
       "    </tr>\n",
       "    <tr>\n",
       "      <th>16</th>\n",
       "      <td>10245</td>\n",
       "      <td>Q75862568</td>\n",
       "      <td>Rupert Edward Bisgood</td>\n",
       "      <td>(1956-1956)</td>\n",
       "      <td></td>\n",
       "      <td></td>\n",
       "      <td></td>\n",
       "      <td>Rupert</td>\n",
       "      <td></td>\n",
       "      <td>male</td>\n",
       "      <td>1956-09-08T00:00:00Z</td>\n",
       "      <td></td>\n",
       "      <td>1956-09-05T00:00:00Z</td>\n",
       "    </tr>\n",
       "    <tr>\n",
       "      <th>15</th>\n",
       "      <td>10245</td>\n",
       "      <td>Q75345427</td>\n",
       "      <td>Rupert Edward Nutting</td>\n",
       "      <td>born 1971</td>\n",
       "      <td></td>\n",
       "      <td></td>\n",
       "      <td></td>\n",
       "      <td>Rupert</td>\n",
       "      <td></td>\n",
       "      <td>male</td>\n",
       "      <td></td>\n",
       "      <td></td>\n",
       "      <td>1971-10-20T00:00:00Z</td>\n",
       "    </tr>\n",
       "    <tr>\n",
       "      <th>13</th>\n",
       "      <td>10245</td>\n",
       "      <td>Q7380311</td>\n",
       "      <td>Rupert Inglis</td>\n",
       "      <td>Rugby player &amp; army chaplain</td>\n",
       "      <td>Rupert Edward Inglis</td>\n",
       "      <td></td>\n",
       "      <td></td>\n",
       "      <td>Rupert</td>\n",
       "      <td></td>\n",
       "      <td>male</td>\n",
       "      <td>1916-09-18T00:00:00Z</td>\n",
       "      <td>[Anglican priest, rugby union player]</td>\n",
       "      <td>1863-05-17T00:00:00Z</td>\n",
       "    </tr>\n",
       "    <tr>\n",
       "      <th>11</th>\n",
       "      <td>10245</td>\n",
       "      <td>Q593618</td>\n",
       "      <td>Anton Edward Rupert</td>\n",
       "      <td>Afrikaner South African billionaire entrepreneur, businessman and conservationist</td>\n",
       "      <td></td>\n",
       "      <td>Graaff-Reinet</td>\n",
       "      <td>Stellenbosch</td>\n",
       "      <td>Anton</td>\n",
       "      <td>Rupert</td>\n",
       "      <td>male</td>\n",
       "      <td>2006-01-18T00:00:00Z</td>\n",
       "      <td>entrepreneur</td>\n",
       "      <td>1916-10-04T00:00:00Z</td>\n",
       "    </tr>\n",
       "  </tbody>\n",
       "</table>\n",
       "</div>"
      ],
      "text/plain": [
       "       id       item               itemLabel  \\\n",
       "0   10245   Q1001190  Buddy Featherstonhaugh   \n",
       "16  10245  Q75862568   Rupert Edward Bisgood   \n",
       "15  10245  Q75345427   Rupert Edward Nutting   \n",
       "13  10245   Q7380311           Rupert Inglis   \n",
       "11  10245    Q593618     Anton Edward Rupert   \n",
       "\n",
       "                                                                      itemDescription  \\\n",
       "0                                                            English jazz saxophonist   \n",
       "16                                                                        (1956-1956)   \n",
       "15                                                                          born 1971   \n",
       "13                                                       Rugby player & army chaplain   \n",
       "11  Afrikaner South African billionaire entrepreneur, businessman and conservationist   \n",
       "\n",
       "                              altLabel            P19           P20    P735  \\\n",
       "0   Rupert Edward Lee Featherstonhaugh          Paris        London   Buddy   \n",
       "16                                                                   Rupert   \n",
       "15                                                                   Rupert   \n",
       "13                Rupert Edward Inglis                               Rupert   \n",
       "11                                      Graaff-Reinet  Stellenbosch   Anton   \n",
       "\n",
       "                P734   P21                  P570  \\\n",
       "0   Featherstonhaugh  male  1976-07-12T00:00:00Z   \n",
       "16                    male  1956-09-08T00:00:00Z   \n",
       "15                    male                         \n",
       "13                    male  1916-09-18T00:00:00Z   \n",
       "11            Rupert  male  2006-01-18T00:00:00Z   \n",
       "\n",
       "                                                                   P106  \\\n",
       "0   [jazz musician, clarinetist, saxophonist, racing automobile driver]   \n",
       "16                                                                        \n",
       "15                                                                        \n",
       "13                                [Anglican priest, rugby union player]   \n",
       "11                                                         entrepreneur   \n",
       "\n",
       "                    P569  \n",
       "0   1909-10-04T00:00:00Z  \n",
       "16  1956-09-05T00:00:00Z  \n",
       "15  1971-10-20T00:00:00Z  \n",
       "13  1863-05-17T00:00:00Z  \n",
       "11  1916-10-04T00:00:00Z  "
      ]
     },
     "execution_count": 13,
     "metadata": {},
     "output_type": "execute_result"
    }
   ],
   "source": [
    "resdf = get_results([10269, 10245])\n",
    "resdf.head()"
   ]
  },
  {
   "cell_type": "markdown",
   "metadata": {},
   "source": [
    "#### 2.2.1 Fill blanks using heuristics\n",
    "first name & last name"
   ]
  },
  {
   "cell_type": "code",
   "execution_count": 14,
   "metadata": {},
   "outputs": [
    {
     "data": {
      "text/html": [
       "<div>\n",
       "<style scoped>\n",
       "    .dataframe tbody tr th:only-of-type {\n",
       "        vertical-align: middle;\n",
       "    }\n",
       "\n",
       "    .dataframe tbody tr th {\n",
       "        vertical-align: top;\n",
       "    }\n",
       "\n",
       "    .dataframe thead th {\n",
       "        text-align: right;\n",
       "    }\n",
       "</style>\n",
       "<table border=\"1\" class=\"dataframe\">\n",
       "  <thead>\n",
       "    <tr style=\"text-align: right;\">\n",
       "      <th></th>\n",
       "      <th>id</th>\n",
       "      <th>item</th>\n",
       "      <th>itemLabel</th>\n",
       "      <th>itemDescription</th>\n",
       "      <th>altLabel</th>\n",
       "      <th>P19</th>\n",
       "      <th>P20</th>\n",
       "      <th>P735</th>\n",
       "      <th>P734</th>\n",
       "      <th>P21</th>\n",
       "      <th>P570</th>\n",
       "      <th>P106</th>\n",
       "      <th>P569</th>\n",
       "    </tr>\n",
       "  </thead>\n",
       "  <tbody>\n",
       "    <tr>\n",
       "      <th>0</th>\n",
       "      <td>10245</td>\n",
       "      <td>Q1001190</td>\n",
       "      <td>Buddy Featherstonhaugh</td>\n",
       "      <td>English jazz saxophonist</td>\n",
       "      <td>Rupert Edward Lee Featherstonhaugh</td>\n",
       "      <td>Paris</td>\n",
       "      <td>London</td>\n",
       "      <td>Buddy</td>\n",
       "      <td>Featherstonhaugh</td>\n",
       "      <td>male</td>\n",
       "      <td>1976-07-12T00:00:00Z</td>\n",
       "      <td>[jazz musician, clarinetist, saxophonist, racing automobile driver]</td>\n",
       "      <td>1909-10-04T00:00:00Z</td>\n",
       "    </tr>\n",
       "    <tr>\n",
       "      <th>16</th>\n",
       "      <td>10245</td>\n",
       "      <td>Q75862568</td>\n",
       "      <td>Rupert Edward Bisgood</td>\n",
       "      <td>(1956-1956)</td>\n",
       "      <td></td>\n",
       "      <td></td>\n",
       "      <td></td>\n",
       "      <td>Rupert</td>\n",
       "      <td>Bisgood</td>\n",
       "      <td>male</td>\n",
       "      <td>1956-09-08T00:00:00Z</td>\n",
       "      <td></td>\n",
       "      <td>1956-09-05T00:00:00Z</td>\n",
       "    </tr>\n",
       "    <tr>\n",
       "      <th>15</th>\n",
       "      <td>10245</td>\n",
       "      <td>Q75345427</td>\n",
       "      <td>Rupert Edward Nutting</td>\n",
       "      <td>born 1971</td>\n",
       "      <td></td>\n",
       "      <td></td>\n",
       "      <td></td>\n",
       "      <td>Rupert</td>\n",
       "      <td>Nutting</td>\n",
       "      <td>male</td>\n",
       "      <td></td>\n",
       "      <td></td>\n",
       "      <td>1971-10-20T00:00:00Z</td>\n",
       "    </tr>\n",
       "    <tr>\n",
       "      <th>13</th>\n",
       "      <td>10245</td>\n",
       "      <td>Q7380311</td>\n",
       "      <td>Rupert Inglis</td>\n",
       "      <td>Rugby player &amp; army chaplain</td>\n",
       "      <td>Rupert Edward Inglis</td>\n",
       "      <td></td>\n",
       "      <td></td>\n",
       "      <td>Rupert</td>\n",
       "      <td>Inglis</td>\n",
       "      <td>male</td>\n",
       "      <td>1916-09-18T00:00:00Z</td>\n",
       "      <td>[Anglican priest, rugby union player]</td>\n",
       "      <td>1863-05-17T00:00:00Z</td>\n",
       "    </tr>\n",
       "    <tr>\n",
       "      <th>11</th>\n",
       "      <td>10245</td>\n",
       "      <td>Q593618</td>\n",
       "      <td>Anton Edward Rupert</td>\n",
       "      <td>Afrikaner South African billionaire entrepreneur, businessman and conservationist</td>\n",
       "      <td></td>\n",
       "      <td>Graaff-Reinet</td>\n",
       "      <td>Stellenbosch</td>\n",
       "      <td>Anton</td>\n",
       "      <td>Rupert</td>\n",
       "      <td>male</td>\n",
       "      <td>2006-01-18T00:00:00Z</td>\n",
       "      <td>entrepreneur</td>\n",
       "      <td>1916-10-04T00:00:00Z</td>\n",
       "    </tr>\n",
       "  </tbody>\n",
       "</table>\n",
       "</div>"
      ],
      "text/plain": [
       "       id       item               itemLabel  \\\n",
       "0   10245   Q1001190  Buddy Featherstonhaugh   \n",
       "16  10245  Q75862568   Rupert Edward Bisgood   \n",
       "15  10245  Q75345427   Rupert Edward Nutting   \n",
       "13  10245   Q7380311           Rupert Inglis   \n",
       "11  10245    Q593618     Anton Edward Rupert   \n",
       "\n",
       "                                                                      itemDescription  \\\n",
       "0                                                            English jazz saxophonist   \n",
       "16                                                                        (1956-1956)   \n",
       "15                                                                          born 1971   \n",
       "13                                                       Rugby player & army chaplain   \n",
       "11  Afrikaner South African billionaire entrepreneur, businessman and conservationist   \n",
       "\n",
       "                              altLabel            P19           P20    P735  \\\n",
       "0   Rupert Edward Lee Featherstonhaugh          Paris        London   Buddy   \n",
       "16                                                                   Rupert   \n",
       "15                                                                   Rupert   \n",
       "13                Rupert Edward Inglis                               Rupert   \n",
       "11                                      Graaff-Reinet  Stellenbosch   Anton   \n",
       "\n",
       "                P734   P21                  P570  \\\n",
       "0   Featherstonhaugh  male  1976-07-12T00:00:00Z   \n",
       "16           Bisgood  male  1956-09-08T00:00:00Z   \n",
       "15           Nutting  male                         \n",
       "13            Inglis  male  1916-09-18T00:00:00Z   \n",
       "11            Rupert  male  2006-01-18T00:00:00Z   \n",
       "\n",
       "                                                                   P106  \\\n",
       "0   [jazz musician, clarinetist, saxophonist, racing automobile driver]   \n",
       "16                                                                        \n",
       "15                                                                        \n",
       "13                                [Anglican priest, rugby union player]   \n",
       "11                                                         entrepreneur   \n",
       "\n",
       "                    P569  \n",
       "0   1909-10-04T00:00:00Z  \n",
       "16  1956-09-05T00:00:00Z  \n",
       "15  1971-10-20T00:00:00Z  \n",
       "13  1863-05-17T00:00:00Z  \n",
       "11  1916-10-04T00:00:00Z  "
      ]
     },
     "execution_count": 14,
     "metadata": {},
     "output_type": "execute_result"
    }
   ],
   "source": [
    "firstname_from_label = lambda l: l.split(\" \")[0]\n",
    "lastname_from_label = lambda l: l.split(\" \")[-1]\n",
    "\n",
    "for idx, row in resdf.iterrows():\n",
    "    resdf.loc[idx, 'P735'] = firstname_from_label(row['itemLabel']) if not row['P735'] else row['P735']\n",
    "    resdf.loc[idx, 'P734'] = lastname_from_label(row['itemLabel']) if not row['P734'] else row['P734']\n",
    "    \n",
    "resdf.head()"
   ]
  },
  {
   "cell_type": "markdown",
   "metadata": {},
   "source": [
    "## 3. Training method"
   ]
  },
  {
   "cell_type": "code",
   "execution_count": 3,
   "metadata": {},
   "outputs": [],
   "source": [
    "from heritageconnector.disambiguation.pipelines import build_training_data\n",
    "import numpy as np"
   ]
  },
  {
   "cell_type": "code",
   "execution_count": 4,
   "metadata": {},
   "outputs": [
    {
     "data": {
      "application/vnd.jupyter.widget-view+json": {
       "model_id": "387aaaa5fca9454294ffe3e97705e6bc",
       "version_major": 2,
       "version_minor": 0
      },
      "text/plain": [
       "HBox(children=(FloatProgress(value=0.0, max=1.0), HTML(value='')))"
      ]
     },
     "metadata": {},
     "output_type": "display_data"
    },
    {
     "name": "stdout",
     "output_type": "stream",
     "text": [
      "\n"
     ]
    }
   ],
   "source": [
    "X, y, pid_labels, id_pairs = build_training_data('PERSON', page_size=100, search_limit=10, limit=100)"
   ]
  },
  {
   "cell_type": "code",
   "execution_count": 5,
   "metadata": {},
   "outputs": [
    {
     "data": {
      "text/plain": [
       "((992, 7), (992,))"
      ]
     },
     "execution_count": 5,
     "metadata": {},
     "output_type": "execute_result"
    }
   ],
   "source": [
    "X.shape, y.shape"
   ]
  },
  {
   "cell_type": "code",
   "execution_count": 6,
   "metadata": {},
   "outputs": [
    {
     "data": {
      "text/plain": [
       "['label', 'P735', 'P734', 'P21', 'P569', 'P570', 'P106']"
      ]
     },
     "execution_count": 6,
     "metadata": {},
     "output_type": "execute_result"
    }
   ],
   "source": [
    "pid_labels"
   ]
  },
  {
   "cell_type": "code",
   "execution_count": 7,
   "metadata": {},
   "outputs": [
    {
     "name": "stdout",
     "output_type": "stream",
     "text": [
      "992\n"
     ]
    },
    {
     "data": {
      "text/plain": [
       "[['https://collection.sciencemuseumgroup.org.uk/people/cp162546', 'Q5592820'],\n",
       " ['https://collection.sciencemuseumgroup.org.uk/people/cp162546', 'Q16943888'],\n",
       " ['https://collection.sciencemuseumgroup.org.uk/people/cp162546', 'Q53480104'],\n",
       " ['https://collection.sciencemuseumgroup.org.uk/people/cp162546', 'Q52063360'],\n",
       " ['https://collection.sciencemuseumgroup.org.uk/people/cp162546', 'Q43393760'],\n",
       " ['https://collection.sciencemuseumgroup.org.uk/people/cp162546', 'Q963194'],\n",
       " ['https://collection.sciencemuseumgroup.org.uk/people/cp162546', 'Q2928234'],\n",
       " ['https://collection.sciencemuseumgroup.org.uk/people/cp162546', 'Q40702241'],\n",
       " ['https://collection.sciencemuseumgroup.org.uk/people/cp162546', 'Q26713902'],\n",
       " ['https://collection.sciencemuseumgroup.org.uk/people/cp162546', 'Q65940866']]"
      ]
     },
     "execution_count": 7,
     "metadata": {},
     "output_type": "execute_result"
    }
   ],
   "source": [
    "print(len(id_pairs))\n",
    "id_pairs[0:10]"
   ]
  },
  {
   "cell_type": "code",
   "execution_count": 8,
   "metadata": {},
   "outputs": [
    {
     "name": "stdout",
     "output_type": "stream",
     "text": [
      "Sum of scores for matched (True) records: 6.381952285766602 (total 94)\n",
      "Sum of scores for not matched (False) records: 4.13257360458374 (total 898)\n"
     ]
    }
   ],
   "source": [
    "print(f\"Sum of scores for matched (True) records: {np.mean(X.sum(axis=1)[np.where(y==True)])} (total {np.count_nonzero(y==True)})\")\n",
    "print(f\"Sum of scores for not matched (False) records: {np.mean(X.sum(axis=1)[np.where(y==False)])} (total {np.count_nonzero(y==False)})\")"
   ]
  },
  {
   "cell_type": "code",
   "execution_count": null,
   "metadata": {},
   "outputs": [],
   "source": []
  }
 ],
 "metadata": {
  "kernelspec": {
   "display_name": "Python 3",
   "language": "python",
   "name": "python3"
  },
  "language_info": {
   "codemirror_mode": {
    "name": "ipython",
    "version": 3
   },
   "file_extension": ".py",
   "mimetype": "text/x-python",
   "name": "python",
   "nbconvert_exporter": "python",
   "pygments_lexer": "ipython3",
   "version": "3.7.4"
  }
 },
 "nbformat": 4,
 "nbformat_minor": 4
}
