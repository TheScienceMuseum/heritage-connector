{
 "cells": [
  {
   "cell_type": "markdown",
   "metadata": {},
   "source": [
    "# Complete search\n",
    "Search Wikidata & Wikipedia -> rank results -> retrieve information based on config."
   ]
  },
  {
   "cell_type": "code",
   "execution_count": 34,
   "metadata": {},
   "outputs": [
    {
     "name": "stdout",
     "output_type": "stream",
     "text": [
      "The autoreload extension is already loaded. To reload it, use:\n",
      "  %reload_ext autoreload\n"
     ]
    }
   ],
   "source": [
    "%load_ext autoreload\n",
    "%autoreload 2\n",
    "\n",
    "import sys\n",
    "sys.path.append(\"../..\")\n",
    "\n",
    "import os\n",
    "import re\n",
    "\n",
    "from heritageconnector.config import config, field_mapping\n",
    "from heritageconnector.disambiguation import search, retrieve\n",
    "\n",
    "import pandas as pd\n",
    "pd.set_option('display.max_colwidth', None)\n",
    "pd.set_option('display.max_columns', None)"
   ]
  },
  {
   "cell_type": "markdown",
   "metadata": {},
   "source": [
    "## 1. load data sample"
   ]
  },
  {
   "cell_type": "code",
   "execution_count": 129,
   "metadata": {},
   "outputs": [],
   "source": [
    "sample_no = 10\n",
    "random_state = 42\n",
    "\n",
    "# load mimsy_people\n",
    "df = pd.read_csv(os.path.join(\"..\", config.MIMSY_PEOPLE_PATH))\n",
    "for col in ['FIRSTMID_NAME', 'LASTSUFF_NAME']:\n",
    "    df[col] = df[col].fillna(\"\").astype(str)\n",
    "    \n",
    "df['FREETEXT'] = df['DESCRIPTION'].astype(str) + \" \" + df['NOTE'].astype(str)\n",
    "\n",
    "# load people df \n",
    "people_df = df[df['GENDER'].isin(('M', 'F'))].sample(sample_no, random_state=random_state)\n",
    "people_df.loc[:, 'JOINED_NAME'] = people_df['FIRSTMID_NAME'] + \" \" + people_df['LASTSUFF_NAME']\n",
    "\n",
    "# load org df\n",
    "org_df = df[df['GENDER'] == \"N\"].sample(sample_no, random_state=random_state)"
   ]
  },
  {
   "cell_type": "markdown",
   "metadata": {},
   "source": [
    "## 2. run search"
   ]
  },
  {
   "cell_type": "code",
   "execution_count": 130,
   "metadata": {},
   "outputs": [
    {
     "data": {
      "text/plain": [
       "LINK_ID                                                                                                                                                                                                                                           38894\n",
       "PREFERRED_NAME                                                                                                                                                                                                                         Stirling, Robert\n",
       "TITLE_NAME                                                                                                                                                                                                                                          NaN\n",
       "FIRSTMID_NAME                                                                                                                                                                                                                                    Robert\n",
       "LASTSUFF_NAME                                                                                                                                                                                                                                  Stirling\n",
       "SUFFIX_NAME                                                                                                                                                                                                                                         NaN\n",
       "HONORARY_SUFFIX                                                                                                                                                                                                                                     NaN\n",
       "GENDER                                                                                                                                                                                                                                                M\n",
       "BRIEF_BIO                                                                                                                                                                                                                                             Y\n",
       "DESCRIPTION             ODNB: Ben Marsden, ‘Stirling, Robert (1790–1878)’, Oxford Dictionary of National Biography, Oxford University Press, 2004 [http://www.oxforddnb.com/view/article/26534] Robert Stirling (1790–1878): doi:10.1093/ref:odnb/26534\n",
       "NOTE                                                                                                                                                                                                                                                NaN\n",
       "BIRTH_DATE                                                                                                                                                                                                                                   1790-10-25\n",
       "BIRTH_PLACE                                                                                                                                                                                        Methven, Perth and Kinross, Scotland, United Kingdom\n",
       "DEATH_DATE                                                                                                                                                                                                                                   1878-06-06\n",
       "DEATH_PLACE                                                                                                                                                                                                                                         NaN\n",
       "CAUSE_OF_DEATH                                                                                                                                                                                                                                      NaN\n",
       "NATIONALITY                                                                                                                                                                                                                           Scottish; British\n",
       "OCCUPATION                                                                                                                                                                                                                          inventor; clergyman\n",
       "WEBSITE                                                                                                                                                                                                                                             NaN\n",
       "AFFILIATION                                                                                                                                                                                                                                         NaN\n",
       "LINGUISTIC_GROUP                                                                                                                                                                                                                                    NaN\n",
       "TYPE                                                                                                                                                                                                                                                NaN\n",
       "REFERENCE_NUMBER                                                                                                                                                                                                                                    NaN\n",
       "SOURCE                                                                                                                                                                                                                                                N\n",
       "CREATE_DATE                                                                                                                                                                                                                                   13-MAY-02\n",
       "UPDATE_DATE                                                                                                                                                                                                                                   29-MAY-13\n",
       "FREETEXT            ODNB: Ben Marsden, ‘Stirling, Robert (1790–1878)’, Oxford Dictionary of National Biography, Oxford University Press, 2004 [http://www.oxforddnb.com/view/article/26534] Robert Stirling (1790–1878): doi:10.1093/ref:odnb/26534 nan\n",
       "JOINED_NAME                                                                                                                                                                                                                             Robert Stirling\n",
       "Name: 13380, dtype: object"
      ]
     },
     "execution_count": 130,
     "metadata": {},
     "output_type": "execute_result"
    }
   ],
   "source": [
    "row = people_df.iloc[6]\n",
    "row"
   ]
  },
  {
   "cell_type": "code",
   "execution_count": 131,
   "metadata": {},
   "outputs": [
    {
     "data": {
      "text/plain": [
       "item\n",
       "http://www.wikidata.org/entity/Q366209      0.111111\n",
       "http://www.wikidata.org/entity/Q16063040    0.097222\n",
       "http://www.wikidata.org/entity/Q7350082     0.083333\n",
       "http://www.wikidata.org/entity/Q76178526    0.069444\n",
       "http://www.wikidata.org/entity/Q76340733    0.055556\n",
       "http://www.wikidata.org/entity/Q2907840     0.045455\n",
       "http://www.wikidata.org/entity/Q5561303     0.043290\n",
       "http://www.wikidata.org/entity/Q89042134    0.041667\n",
       "http://www.wikidata.org/entity/Q18810054    0.041126\n",
       "http://www.wikidata.org/entity/Q6077165     0.038961\n",
       "Name: score, dtype: float64"
      ]
     },
     "execution_count": 131,
     "metadata": {},
     "output_type": "execute_result"
    }
   ],
   "source": [
    "search_results = search.run(text=row[\"JOINED_NAME\"], topn=10, limit=100, instanceof_filter=\"Q5\")\n",
    "search_results"
   ]
  },
  {
   "cell_type": "markdown",
   "metadata": {},
   "source": [
    "## 3. Create vectors of each Wikidata object"
   ]
  },
  {
   "cell_type": "code",
   "execution_count": 132,
   "metadata": {},
   "outputs": [
    {
     "data": {
      "text/plain": [
       "{'LINK_ID': {'type': 'index'},\n",
       " 'PREFERRED_NAME': {'PID': 'label', 'RDF': '', 'type': 'str'},\n",
       " 'FIRSTMID_NAME': {'PID': 'P735', 'RDF': '', 'type': 'str'},\n",
       " 'LASTSUFF_NAME': {'PID': 'P734', 'RDF': '', 'type': 'str'},\n",
       " 'BIRTH_DATE': {'PID': 'P569', 'RDF': '', 'type': 'date'},\n",
       " 'DEATH_DATE': {'PID': 'P570', 'RDF': '', 'type': 'date'},\n",
       " 'BIRTH_PLACE': {'PID': 'P19', 'RDF': '', 'type': 'place'},\n",
       " 'DEATH_PLACE': {'PID': 'P20', 'RDF': '', 'type': 'place'},\n",
       " 'OCCUPATION': {'PID': 'P106', 'RDF': '', 'type': 'list (str)'},\n",
       " 'DESCRIPTION': {'type': 'longstr'},\n",
       " 'NOTE': {'type': 'longstr'}}"
      ]
     },
     "execution_count": 132,
     "metadata": {},
     "output_type": "execute_result"
    }
   ],
   "source": [
    "field_mapping.PEOPLE"
   ]
  },
  {
   "cell_type": "code",
   "execution_count": 133,
   "metadata": {},
   "outputs": [
    {
     "data": {
      "text/plain": [
       "{'FIRSTMID_NAME': 'P735',\n",
       " 'LASTSUFF_NAME': 'P734',\n",
       " 'BIRTH_DATE': 'P569',\n",
       " 'DEATH_DATE': 'P570',\n",
       " 'BIRTH_PLACE': 'P19',\n",
       " 'DEATH_PLACE': 'P20',\n",
       " 'OCCUPATION': 'P106'}"
      ]
     },
     "execution_count": 133,
     "metadata": {},
     "output_type": "execute_result"
    }
   ],
   "source": [
    "qcode_urls = search_results.index.tolist()\n",
    "qcodes = [re.findall(r\"(Q\\d+)\", u)[0] for u in qcode_urls]\n",
    "\n",
    "pid_mapping = {k: v['PID'] for k, v in field_mapping.PEOPLE.items() if 'PID' in v and v['PID'].startswith('P')}\n",
    "pid_mapping"
   ]
  },
  {
   "cell_type": "code",
   "execution_count": 137,
   "metadata": {},
   "outputs": [
    {
     "data": {
      "text/html": [
       "<div>\n",
       "<style scoped>\n",
       "    .dataframe tbody tr th:only-of-type {\n",
       "        vertical-align: middle;\n",
       "    }\n",
       "\n",
       "    .dataframe tbody tr th {\n",
       "        vertical-align: top;\n",
       "    }\n",
       "\n",
       "    .dataframe thead th {\n",
       "        text-align: right;\n",
       "    }\n",
       "</style>\n",
       "<table border=\"1\" class=\"dataframe\">\n",
       "  <thead>\n",
       "    <tr style=\"text-align: right;\">\n",
       "      <th></th>\n",
       "      <th>JOINED_NAME</th>\n",
       "      <th>FREETEXT</th>\n",
       "      <th>FIRSTMID_NAME</th>\n",
       "      <th>LASTSUFF_NAME</th>\n",
       "      <th>BIRTH_DATE</th>\n",
       "      <th>DEATH_DATE</th>\n",
       "      <th>BIRTH_PLACE</th>\n",
       "      <th>DEATH_PLACE</th>\n",
       "      <th>OCCUPATION</th>\n",
       "    </tr>\n",
       "  </thead>\n",
       "  <tbody>\n",
       "    <tr>\n",
       "      <th>13380</th>\n",
       "      <td>Robert Stirling</td>\n",
       "      <td>ODNB: Ben Marsden, ‘Stirling, Robert (1790–1878)’, Oxford Dictionary of National Biography, Oxford University Press, 2004 [http://www.oxforddnb.com/view/article/26534] Robert Stirling (1790–1878): doi:10.1093/ref:odnb/26534 nan</td>\n",
       "      <td>Robert</td>\n",
       "      <td>Stirling</td>\n",
       "      <td>1790-10-25</td>\n",
       "      <td>1878-06-06</td>\n",
       "      <td>Methven, Perth and Kinross, Scotland, United Kingdom</td>\n",
       "      <td>NaN</td>\n",
       "      <td>inventor; clergyman</td>\n",
       "    </tr>\n",
       "  </tbody>\n",
       "</table>\n",
       "</div>"
      ],
      "text/plain": [
       "           JOINED_NAME  \\\n",
       "13380  Robert Stirling   \n",
       "\n",
       "                                                                                                                                                                                                                                  FREETEXT  \\\n",
       "13380  ODNB: Ben Marsden, ‘Stirling, Robert (1790–1878)’, Oxford Dictionary of National Biography, Oxford University Press, 2004 [http://www.oxforddnb.com/view/article/26534] Robert Stirling (1790–1878): doi:10.1093/ref:odnb/26534 nan   \n",
       "\n",
       "      FIRSTMID_NAME LASTSUFF_NAME  BIRTH_DATE  DEATH_DATE  \\\n",
       "13380        Robert      Stirling  1790-10-25  1878-06-06   \n",
       "\n",
       "                                                BIRTH_PLACE DEATH_PLACE  \\\n",
       "13380  Methven, Perth and Kinross, Scotland, United Kingdom         NaN   \n",
       "\n",
       "                OCCUPATION  \n",
       "13380  inventor; clergyman  "
      ]
     },
     "execution_count": 137,
     "metadata": {},
     "output_type": "execute_result"
    }
   ],
   "source": [
    "pd.DataFrame(row).T[['JOINED_NAME', 'FREETEXT'] + list(pid_mapping.keys())]"
   ]
  },
  {
   "cell_type": "code",
   "execution_count": 136,
   "metadata": {},
   "outputs": [
    {
     "data": {
      "text/html": [
       "<div>\n",
       "<style scoped>\n",
       "    .dataframe tbody tr th:only-of-type {\n",
       "        vertical-align: middle;\n",
       "    }\n",
       "\n",
       "    .dataframe tbody tr th {\n",
       "        vertical-align: top;\n",
       "    }\n",
       "\n",
       "    .dataframe thead th {\n",
       "        text-align: right;\n",
       "    }\n",
       "</style>\n",
       "<table border=\"1\" class=\"dataframe\">\n",
       "  <thead>\n",
       "    <tr style=\"text-align: right;\">\n",
       "      <th></th>\n",
       "      <th>item</th>\n",
       "      <th>itemLabel</th>\n",
       "      <th>itemDescription</th>\n",
       "      <th>altLabel</th>\n",
       "      <th>FIRSTMID_NAMELabel</th>\n",
       "      <th>LASTSUFF_NAMELabel</th>\n",
       "      <th>BIRTH_DATELabel</th>\n",
       "      <th>DEATH_DATELabel</th>\n",
       "      <th>BIRTH_PLACELabel</th>\n",
       "      <th>DEATH_PLACELabel</th>\n",
       "      <th>OCCUPATIONLabel</th>\n",
       "    </tr>\n",
       "  </thead>\n",
       "  <tbody>\n",
       "    <tr>\n",
       "      <th>0</th>\n",
       "      <td>http://www.wikidata.org/entity/Q16063040</td>\n",
       "      <td>Robert Stirling Hore Anderson</td>\n",
       "      <td>Australian politician</td>\n",
       "      <td>Robert Anderson</td>\n",
       "      <td>Robert</td>\n",
       "      <td></td>\n",
       "      <td>1821-01-01T00:00:00Z</td>\n",
       "      <td>1883-10-26T00:00:00Z</td>\n",
       "      <td></td>\n",
       "      <td></td>\n",
       "      <td>politician</td>\n",
       "    </tr>\n",
       "    <tr>\n",
       "      <th>1</th>\n",
       "      <td>http://www.wikidata.org/entity/Q18810054</td>\n",
       "      <td>Alfred Stirling</td>\n",
       "      <td>Australian diplomat</td>\n",
       "      <td></td>\n",
       "      <td>Alfred</td>\n",
       "      <td></td>\n",
       "      <td>1902-09-08T00:00:00Z</td>\n",
       "      <td>1981-07-03T00:00:00Z</td>\n",
       "      <td>Melbourne</td>\n",
       "      <td>Melbourne</td>\n",
       "      <td>diplomat</td>\n",
       "    </tr>\n",
       "    <tr>\n",
       "      <th>2</th>\n",
       "      <td>http://www.wikidata.org/entity/Q2907840</td>\n",
       "      <td>Bob Stirling</td>\n",
       "      <td>English rugby union footballer</td>\n",
       "      <td></td>\n",
       "      <td>Bob</td>\n",
       "      <td></td>\n",
       "      <td>1919-09-04T00:00:00Z</td>\n",
       "      <td>1991-01-15T00:00:00Z</td>\n",
       "      <td>Lichfield</td>\n",
       "      <td>Halton</td>\n",
       "      <td>rugby union player</td>\n",
       "    </tr>\n",
       "    <tr>\n",
       "      <th>3</th>\n",
       "      <td>http://www.wikidata.org/entity/Q366209</td>\n",
       "      <td>Robert Stirling</td>\n",
       "      <td>clergyman, engineer, inventor of the Stirling engine</td>\n",
       "      <td></td>\n",
       "      <td>Robert</td>\n",
       "      <td>Stirling</td>\n",
       "      <td>1790-10-25T00:00:00Z</td>\n",
       "      <td>1878-06-06T00:00:00Z</td>\n",
       "      <td>Methven</td>\n",
       "      <td>Galston</td>\n",
       "      <td>[engineer, inventor, cleric]</td>\n",
       "    </tr>\n",
       "    <tr>\n",
       "      <th>4</th>\n",
       "      <td>http://www.wikidata.org/entity/Q5561303</td>\n",
       "      <td>Gilbert de Stirling</td>\n",
       "      <td>Scottish bishop</td>\n",
       "      <td></td>\n",
       "      <td>Gilbert</td>\n",
       "      <td></td>\n",
       "      <td></td>\n",
       "      <td>1247-01-01T00:00:00Z</td>\n",
       "      <td></td>\n",
       "      <td></td>\n",
       "      <td>priest</td>\n",
       "    </tr>\n",
       "    <tr>\n",
       "      <th>5</th>\n",
       "      <td>http://www.wikidata.org/entity/Q6077165</td>\n",
       "      <td>Isaac Stirling</td>\n",
       "      <td>Canadian politician</td>\n",
       "      <td></td>\n",
       "      <td>Isaac</td>\n",
       "      <td></td>\n",
       "      <td>1866-04-08T00:00:00Z</td>\n",
       "      <td>1935-10-01T00:00:00Z</td>\n",
       "      <td></td>\n",
       "      <td></td>\n",
       "      <td>politician</td>\n",
       "    </tr>\n",
       "    <tr>\n",
       "      <th>6</th>\n",
       "      <td>http://www.wikidata.org/entity/Q7350082</td>\n",
       "      <td>Robert Stirling Newall</td>\n",
       "      <td>Scottish engineer and astronomer</td>\n",
       "      <td></td>\n",
       "      <td>Robert</td>\n",
       "      <td></td>\n",
       "      <td>1812-05-27T00:00:00Z</td>\n",
       "      <td>1889-04-21T00:00:00Z</td>\n",
       "      <td></td>\n",
       "      <td>Gateshead</td>\n",
       "      <td>[engineer, astronomer]</td>\n",
       "    </tr>\n",
       "    <tr>\n",
       "      <th>7</th>\n",
       "      <td>http://www.wikidata.org/entity/Q76178526</td>\n",
       "      <td>Robert Stirling</td>\n",
       "      <td>(1892-1915)</td>\n",
       "      <td></td>\n",
       "      <td>Robert</td>\n",
       "      <td></td>\n",
       "      <td>1892-05-24T00:00:00Z</td>\n",
       "      <td>1915-02-19T00:00:00Z</td>\n",
       "      <td></td>\n",
       "      <td></td>\n",
       "      <td></td>\n",
       "    </tr>\n",
       "    <tr>\n",
       "      <th>8</th>\n",
       "      <td>http://www.wikidata.org/entity/Q76340733</td>\n",
       "      <td>Robert Stirling</td>\n",
       "      <td>(1792-1860)</td>\n",
       "      <td></td>\n",
       "      <td>Robert</td>\n",
       "      <td></td>\n",
       "      <td>1792-10-19T00:00:00Z</td>\n",
       "      <td>1860-12-09T00:00:00Z</td>\n",
       "      <td></td>\n",
       "      <td></td>\n",
       "      <td></td>\n",
       "    </tr>\n",
       "    <tr>\n",
       "      <th>9</th>\n",
       "      <td>http://www.wikidata.org/entity/Q89042134</td>\n",
       "      <td>Robert Stirling</td>\n",
       "      <td>researcher</td>\n",
       "      <td></td>\n",
       "      <td>Robert</td>\n",
       "      <td></td>\n",
       "      <td></td>\n",
       "      <td></td>\n",
       "      <td></td>\n",
       "      <td></td>\n",
       "      <td></td>\n",
       "    </tr>\n",
       "  </tbody>\n",
       "</table>\n",
       "</div>"
      ],
      "text/plain": [
       "                                       item                      itemLabel  \\\n",
       "0  http://www.wikidata.org/entity/Q16063040  Robert Stirling Hore Anderson   \n",
       "1  http://www.wikidata.org/entity/Q18810054                Alfred Stirling   \n",
       "2   http://www.wikidata.org/entity/Q2907840                   Bob Stirling   \n",
       "3    http://www.wikidata.org/entity/Q366209                Robert Stirling   \n",
       "4   http://www.wikidata.org/entity/Q5561303            Gilbert de Stirling   \n",
       "5   http://www.wikidata.org/entity/Q6077165                 Isaac Stirling   \n",
       "6   http://www.wikidata.org/entity/Q7350082         Robert Stirling Newall   \n",
       "7  http://www.wikidata.org/entity/Q76178526                Robert Stirling   \n",
       "8  http://www.wikidata.org/entity/Q76340733                Robert Stirling   \n",
       "9  http://www.wikidata.org/entity/Q89042134                Robert Stirling   \n",
       "\n",
       "                                        itemDescription         altLabel  \\\n",
       "0                                 Australian politician  Robert Anderson   \n",
       "1                                   Australian diplomat                    \n",
       "2                        English rugby union footballer                    \n",
       "3  clergyman, engineer, inventor of the Stirling engine                    \n",
       "4                                       Scottish bishop                    \n",
       "5                                   Canadian politician                    \n",
       "6                      Scottish engineer and astronomer                    \n",
       "7                                           (1892-1915)                    \n",
       "8                                           (1792-1860)                    \n",
       "9                                            researcher                    \n",
       "\n",
       "  FIRSTMID_NAMELabel LASTSUFF_NAMELabel       BIRTH_DATELabel  \\\n",
       "0             Robert                     1821-01-01T00:00:00Z   \n",
       "1             Alfred                     1902-09-08T00:00:00Z   \n",
       "2                Bob                     1919-09-04T00:00:00Z   \n",
       "3             Robert           Stirling  1790-10-25T00:00:00Z   \n",
       "4            Gilbert                                            \n",
       "5              Isaac                     1866-04-08T00:00:00Z   \n",
       "6             Robert                     1812-05-27T00:00:00Z   \n",
       "7             Robert                     1892-05-24T00:00:00Z   \n",
       "8             Robert                     1792-10-19T00:00:00Z   \n",
       "9             Robert                                            \n",
       "\n",
       "        DEATH_DATELabel BIRTH_PLACELabel DEATH_PLACELabel  \\\n",
       "0  1883-10-26T00:00:00Z                                     \n",
       "1  1981-07-03T00:00:00Z        Melbourne        Melbourne   \n",
       "2  1991-01-15T00:00:00Z        Lichfield           Halton   \n",
       "3  1878-06-06T00:00:00Z          Methven          Galston   \n",
       "4  1247-01-01T00:00:00Z                                     \n",
       "5  1935-10-01T00:00:00Z                                     \n",
       "6  1889-04-21T00:00:00Z                         Gateshead   \n",
       "7  1915-02-19T00:00:00Z                                     \n",
       "8  1860-12-09T00:00:00Z                                     \n",
       "9                                                           \n",
       "\n",
       "                OCCUPATIONLabel  \n",
       "0                    politician  \n",
       "1                      diplomat  \n",
       "2            rugby union player  \n",
       "3  [engineer, inventor, cleric]  \n",
       "4                        priest  \n",
       "5                    politician  \n",
       "6        [engineer, astronomer]  \n",
       "7                                \n",
       "8                                \n",
       "9                                "
      ]
     },
     "execution_count": 136,
     "metadata": {},
     "output_type": "execute_result"
    }
   ],
   "source": [
    "res = retrieve.get_wikidata_fields(qcodes, pid_mapping)\n",
    "res"
   ]
  },
  {
   "cell_type": "code",
   "execution_count": null,
   "metadata": {},
   "outputs": [],
   "source": []
  }
 ],
 "metadata": {
  "kernelspec": {
   "display_name": "Python 3",
   "language": "python",
   "name": "python3"
  },
  "language_info": {
   "codemirror_mode": {
    "name": "ipython",
    "version": 3
   },
   "file_extension": ".py",
   "mimetype": "text/x-python",
   "name": "python",
   "nbconvert_exporter": "python",
   "pygments_lexer": "ipython3",
   "version": "3.7.4"
  },
  "toc-showcode": false
 },
 "nbformat": 4,
 "nbformat_minor": 4
}
