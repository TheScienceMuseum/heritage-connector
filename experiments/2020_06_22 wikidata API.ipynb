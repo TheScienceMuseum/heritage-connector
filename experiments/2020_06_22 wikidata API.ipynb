{
 "cells": [
  {
   "cell_type": "markdown",
   "metadata": {},
   "source": [
    "# playing with the Wikidata API"
   ]
  },
  {
   "cell_type": "code",
   "execution_count": 1,
   "metadata": {},
   "outputs": [],
   "source": [
    "%load_ext autoreload\n",
    "%autoreload 2\n",
    "\n",
    "import requests"
   ]
  },
  {
   "cell_type": "markdown",
   "metadata": {},
   "source": [
    "### what can we get about a record that will help with matching?"
   ]
  },
  {
   "cell_type": "code",
   "execution_count": 2,
   "metadata": {},
   "outputs": [],
   "source": [
    "qcodes = [\"Q2007300\", \"Q2831\"]\n",
    "param_join = lambda i: \"%7C\".join(i) if len(i) > 1 else i[0]\n",
    "\n",
    "url = f\"http://www.wikidata.org/w/api.php?action=wbgetentities&format=json&ids={param_join(qcodes)}&props=labels%7Cclaims%7Caliases&languages=en&languagefallback=1&formatversion=2\""
   ]
  },
  {
   "cell_type": "code",
   "execution_count": 3,
   "metadata": {},
   "outputs": [],
   "source": [
    "response = requests.get(url).json()"
   ]
  },
  {
   "cell_type": "code",
   "execution_count": 4,
   "metadata": {},
   "outputs": [
    {
     "data": {
      "text/plain": [
       "'O. Winston Link'"
      ]
     },
     "execution_count": 4,
     "metadata": {},
     "output_type": "execute_result"
    }
   ],
   "source": [
    "label = response['entities'][qcodes[0]][\"labels\"][\"en\"][\"value\"]\n",
    "label"
   ]
  },
  {
   "cell_type": "code",
   "execution_count": 5,
   "metadata": {},
   "outputs": [
    {
     "data": {
      "text/plain": [
       "['Ogle Winston Link', 'O Winston Link', 'Winston O. Link']"
      ]
     },
     "execution_count": 5,
     "metadata": {},
     "output_type": "execute_result"
    }
   ],
   "source": [
    "aliases = [item['value'] for item in response['entities'][qcodes[0]][\"aliases\"][\"en\"]]\n",
    "aliases"
   ]
  },
  {
   "cell_type": "code",
   "execution_count": 18,
   "metadata": {},
   "outputs": [
    {
     "data": {
      "text/plain": [
       "[{'mainsnak': {'snaktype': 'value',\n",
       "   'property': 'P31',\n",
       "   'hash': 'ad7d38a03cdd40cdc373de0dc4e7b7fcbccb31d9',\n",
       "   'datavalue': {'value': {'entity-type': 'item', 'numeric-id': 5, 'id': 'Q5'},\n",
       "    'type': 'wikibase-entityid'},\n",
       "   'datatype': 'wikibase-item'},\n",
       "  'type': 'statement',\n",
       "  'id': 'Q2007300$5E431406-2A4B-489D-8223-2464566DBF59',\n",
       "  'rank': 'normal',\n",
       "  'references': [{'hash': 'fa278ebfc458360e5aed63d5058cca83c46134f1',\n",
       "    'snaks': {'P143': [{'snaktype': 'value',\n",
       "       'property': 'P143',\n",
       "       'hash': 'e4f6d9441d0600513c4533c672b5ab472dc73694',\n",
       "       'datavalue': {'value': {'entity-type': 'item',\n",
       "         'numeric-id': 328,\n",
       "         'id': 'Q328'},\n",
       "        'type': 'wikibase-entityid'},\n",
       "       'datatype': 'wikibase-item'}]},\n",
       "    'snaks-order': ['P143']}]}]"
      ]
     },
     "execution_count": 18,
     "metadata": {},
     "output_type": "execute_result"
    }
   ],
   "source": [
    "# all properties here have length 1 except P6379: has works in the collection. Hence the index 0 after pid\n",
    "response['entities'][qcodes[0]]['claims']['P31']#[0]['mainsnak']['datavalue']['value']['id']"
   ]
  },
  {
   "cell_type": "code",
   "execution_count": 7,
   "metadata": {},
   "outputs": [
    {
     "data": {
      "text/plain": [
       "['P21',\n",
       " 'P214',\n",
       " 'P213',\n",
       " 'P244',\n",
       " 'P227',\n",
       " 'P27',\n",
       " 'P569',\n",
       " 'P570',\n",
       " 'P31',\n",
       " 'P106',\n",
       " 'P245',\n",
       " 'P1795',\n",
       " 'P735',\n",
       " 'P19',\n",
       " 'P20',\n",
       " 'P2042',\n",
       " 'P2174',\n",
       " 'P69',\n",
       " 'P648',\n",
       " 'P2163',\n",
       " 'P2750',\n",
       " 'P3430',\n",
       " 'P3544',\n",
       " 'P650',\n",
       " 'P3782',\n",
       " 'P4759',\n",
       " 'P3219',\n",
       " 'P1988',\n",
       " 'P5273',\n",
       " 'P5368',\n",
       " 'P5597',\n",
       " 'P4927',\n",
       " 'P1006',\n",
       " 'P6295',\n",
       " 'P5271',\n",
       " 'P6379',\n",
       " 'P6578',\n",
       " 'P6844',\n",
       " 'P4663',\n",
       " 'P7704',\n",
       " 'P6275',\n",
       " 'P4936',\n",
       " 'P535',\n",
       " 'P7859',\n",
       " 'P2949',\n",
       " 'P7763',\n",
       " 'P2031']"
      ]
     },
     "execution_count": 7,
     "metadata": {},
     "output_type": "execute_result"
    }
   ],
   "source": [
    "[item for item in response['entities'][qcodes[0]]['claims']]"
   ]
  },
  {
   "cell_type": "markdown",
   "metadata": {},
   "source": [
    "### integrating this into heritageconnector"
   ]
  },
  {
   "cell_type": "code",
   "execution_count": 45,
   "metadata": {},
   "outputs": [],
   "source": [
    "import sys\n",
    "sys.path.append(\"..\")\n",
    "\n",
    "from heritageconnector.utils import wikidata"
   ]
  },
  {
   "cell_type": "code",
   "execution_count": 61,
   "metadata": {},
   "outputs": [
    {
     "name": "stderr",
     "output_type": "stream",
     "text": [
      "  0%|          | 0/1 [00:00<?, ?it/s]"
     ]
    },
    {
     "name": "stdout",
     "output_type": "stream",
     "text": [
      "Getting 2 wikidata documents in pages of 50\n"
     ]
    },
    {
     "name": "stderr",
     "output_type": "stream",
     "text": [
      "100%|██████████| 1/1 [00:00<00:00,  1.72it/s]\n"
     ]
    },
    {
     "data": {
      "text/plain": [
       "['O. Winston Link', 'John Stack']"
      ]
     },
     "execution_count": 61,
     "metadata": {},
     "output_type": "execute_result"
    }
   ],
   "source": [
    "entities = wikidata.entities([\"Q2007300\", \"Q6258766\"])\n",
    "entities.get_labels()"
   ]
  },
  {
   "cell_type": "code",
   "execution_count": 58,
   "metadata": {},
   "outputs": [
    {
     "data": {
      "text/plain": [
       "[['Ogle Winston Link', 'O Winston Link', 'Winston O. Link'], []]"
      ]
     },
     "execution_count": 58,
     "metadata": {},
     "output_type": "execute_result"
    }
   ],
   "source": [
    "entities.get_aliases()"
   ]
  },
  {
   "cell_type": "code",
   "execution_count": 59,
   "metadata": {},
   "outputs": [
    {
     "data": {
      "text/plain": [
       "[['Q5'], ['Q5']]"
      ]
     },
     "execution_count": 59,
     "metadata": {},
     "output_type": "execute_result"
    }
   ],
   "source": [
    "entities.get_property_values(\"P31\") # instance of"
   ]
  },
  {
   "cell_type": "code",
   "execution_count": 60,
   "metadata": {},
   "outputs": [
    {
     "data": {
      "text/plain": [
       "[['Q5'], ['Q5']]"
      ]
     },
     "execution_count": 60,
     "metadata": {},
     "output_type": "execute_result"
    }
   ],
   "source": [
    "entities.get_property_instance_of()"
   ]
  },
  {
   "cell_type": "code",
   "execution_count": null,
   "metadata": {},
   "outputs": [],
   "source": []
  }
 ],
 "metadata": {
  "kernelspec": {
   "display_name": "Python 3",
   "language": "python",
   "name": "python3"
  },
  "language_info": {
   "codemirror_mode": {
    "name": "ipython",
    "version": 3
   },
   "file_extension": ".py",
   "mimetype": "text/x-python",
   "name": "python",
   "nbconvert_exporter": "python",
   "pygments_lexer": "ipython3",
   "version": "3.7.4"
  }
 },
 "nbformat": 4,
 "nbformat_minor": 4
}
