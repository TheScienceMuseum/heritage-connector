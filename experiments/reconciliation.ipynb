{
 "cells": [
  {
   "cell_type": "markdown",
   "metadata": {},
   "source": [
    "# Reconciliating a Categorical Field \n",
    "through an OpenRefine Reconciliation Service"
   ]
  },
  {
   "cell_type": "code",
   "execution_count": 77,
   "metadata": {},
   "outputs": [
    {
     "name": "stdout",
     "output_type": "stream",
     "text": [
      "The autoreload extension is already loaded. To reload it, use:\n",
      "  %reload_ext autoreload\n"
     ]
    }
   ],
   "source": [
    "%load_ext autoreload\n",
    "%autoreload 2\n",
    "\n",
    "import sys\n",
    "sys.path.append(\"..\")\n",
    "\n",
    "import os\n",
    "\n",
    "from heritageconnector.config import config, field_mapping\n",
    "from heritageconnector.utils.sparql import get_sparql_results\n",
    "\n",
    "import pandas as pd\n",
    "pd.set_option('display.max_colwidth', None)\n",
    "pd.set_option('display.max_columns', None)\n",
    "\n",
    "import requests\n",
    "from collections import Counter\n",
    "from tqdm import tqdm\n",
    "import re\n",
    "import json"
   ]
  },
  {
   "cell_type": "markdown",
   "metadata": {},
   "source": [
    "## 1. load data sample"
   ]
  },
  {
   "cell_type": "code",
   "execution_count": 103,
   "metadata": {},
   "outputs": [
    {
     "name": "stdout",
     "output_type": "stream",
     "text": [
      "loaded 100 people records and 100 organisation records\n"
     ]
    }
   ],
   "source": [
    "sample_no = 100\n",
    "random_state = 42\n",
    "\n",
    "# load mimsy_people\n",
    "df = pd.read_csv(config.MIMSY_PEOPLE_PATH)\n",
    "for col in ['FIRSTMID_NAME', 'LASTSUFF_NAME']:\n",
    "    df[col] = df[col].fillna(\"\").astype(str)\n",
    "    \n",
    "df['FREETEXT'] = df['DESCRIPTION'].astype(str) + \" \" + df['NOTE'].astype(str)\n",
    "\n",
    "# load people df \n",
    "people_df = df[df['GENDER'].isin(('M', 'F'))].sample(sample_no, random_state=random_state)\n",
    "people_df.loc[:, 'JOINED_NAME'] = people_df['FIRSTMID_NAME'] + \" \" + people_df['LASTSUFF_NAME']\n",
    "\n",
    "# load org df\n",
    "org_df = df[df['GENDER'] == \"N\"].sample(sample_no, random_state=random_state)\n",
    "\n",
    "print(f\"loaded {len(people_df)} people records and {len(org_df)} organisation records\")"
   ]
  },
  {
   "cell_type": "code",
   "execution_count": 104,
   "metadata": {},
   "outputs": [
    {
     "data": {
      "text/html": [
       "<div>\n",
       "<style scoped>\n",
       "    .dataframe tbody tr th:only-of-type {\n",
       "        vertical-align: middle;\n",
       "    }\n",
       "\n",
       "    .dataframe tbody tr th {\n",
       "        vertical-align: top;\n",
       "    }\n",
       "\n",
       "    .dataframe thead th {\n",
       "        text-align: right;\n",
       "    }\n",
       "</style>\n",
       "<table border=\"1\" class=\"dataframe\">\n",
       "  <thead>\n",
       "    <tr style=\"text-align: right;\">\n",
       "      <th></th>\n",
       "      <th>LINK_ID</th>\n",
       "      <th>PREFERRED_NAME</th>\n",
       "      <th>TITLE_NAME</th>\n",
       "      <th>FIRSTMID_NAME</th>\n",
       "      <th>LASTSUFF_NAME</th>\n",
       "      <th>SUFFIX_NAME</th>\n",
       "      <th>HONORARY_SUFFIX</th>\n",
       "      <th>GENDER</th>\n",
       "      <th>BRIEF_BIO</th>\n",
       "      <th>DESCRIPTION</th>\n",
       "      <th>NOTE</th>\n",
       "      <th>BIRTH_DATE</th>\n",
       "      <th>BIRTH_PLACE</th>\n",
       "      <th>DEATH_DATE</th>\n",
       "      <th>DEATH_PLACE</th>\n",
       "      <th>CAUSE_OF_DEATH</th>\n",
       "      <th>NATIONALITY</th>\n",
       "      <th>OCCUPATION</th>\n",
       "      <th>WEBSITE</th>\n",
       "      <th>AFFILIATION</th>\n",
       "      <th>LINGUISTIC_GROUP</th>\n",
       "      <th>TYPE</th>\n",
       "      <th>REFERENCE_NUMBER</th>\n",
       "      <th>SOURCE</th>\n",
       "      <th>CREATE_DATE</th>\n",
       "      <th>UPDATE_DATE</th>\n",
       "      <th>FREETEXT</th>\n",
       "      <th>JOINED_NAME</th>\n",
       "    </tr>\n",
       "  </thead>\n",
       "  <tbody>\n",
       "    <tr>\n",
       "      <th>1055</th>\n",
       "      <td>30775</td>\n",
       "      <td>Dunlop, Gilbert</td>\n",
       "      <td>NaN</td>\n",
       "      <td>Gilbert</td>\n",
       "      <td>Dunlop</td>\n",
       "      <td>NaN</td>\n",
       "      <td>NaN</td>\n",
       "      <td>M</td>\n",
       "      <td>N</td>\n",
       "      <td>NaN</td>\n",
       "      <td>NaN</td>\n",
       "      <td>NaN</td>\n",
       "      <td>NaN</td>\n",
       "      <td>NaN</td>\n",
       "      <td>NaN</td>\n",
       "      <td>NaN</td>\n",
       "      <td>British</td>\n",
       "      <td>poster artist; illustrator</td>\n",
       "      <td>NaN</td>\n",
       "      <td>NaN</td>\n",
       "      <td>NaN</td>\n",
       "      <td>NaN</td>\n",
       "      <td>NaN</td>\n",
       "      <td>N</td>\n",
       "      <td>14-FEB-01</td>\n",
       "      <td>19-MAR-10</td>\n",
       "      <td>nan nan</td>\n",
       "      <td>Gilbert Dunlop</td>\n",
       "    </tr>\n",
       "  </tbody>\n",
       "</table>\n",
       "</div>"
      ],
      "text/plain": [
       "      LINK_ID   PREFERRED_NAME TITLE_NAME FIRSTMID_NAME LASTSUFF_NAME  \\\n",
       "1055    30775  Dunlop, Gilbert        NaN       Gilbert        Dunlop   \n",
       "\n",
       "     SUFFIX_NAME HONORARY_SUFFIX GENDER BRIEF_BIO DESCRIPTION NOTE BIRTH_DATE  \\\n",
       "1055         NaN             NaN      M         N         NaN  NaN        NaN   \n",
       "\n",
       "     BIRTH_PLACE DEATH_DATE DEATH_PLACE CAUSE_OF_DEATH NATIONALITY  \\\n",
       "1055         NaN        NaN         NaN            NaN     British   \n",
       "\n",
       "                      OCCUPATION WEBSITE  AFFILIATION  LINGUISTIC_GROUP TYPE  \\\n",
       "1055  poster artist; illustrator     NaN          NaN               NaN  NaN   \n",
       "\n",
       "      REFERENCE_NUMBER SOURCE CREATE_DATE UPDATE_DATE FREETEXT     JOINED_NAME  \n",
       "1055               NaN      N   14-FEB-01   19-MAR-10  nan nan  Gilbert Dunlop  "
      ]
     },
     "execution_count": 104,
     "metadata": {},
     "output_type": "execute_result"
    }
   ],
   "source": [
    "people_df.head(1)"
   ]
  },
  {
   "cell_type": "code",
   "execution_count": 105,
   "metadata": {},
   "outputs": [
    {
     "data": {
      "text/plain": [
       "{'LINK_ID': {'type': 'index'},\n",
       " 'PREFERRED_NAME': {'PID': 'label', 'RDF': '', 'type': 'str'},\n",
       " 'FIRSTMID_NAME': {'PID': 'P735', 'RDF': '', 'type': 'str'},\n",
       " 'LASTSUFF_NAME': {'PID': 'P734', 'RDF': '', 'type': 'str'},\n",
       " 'BIRTH_DATE': {'PID': 'P569', 'RDF': '', 'type': 'date'},\n",
       " 'DEATH_DATE': {'PID': 'P570', 'RDF': '', 'type': 'date'},\n",
       " 'BIRTH_PLACE': {'PID': 'P19', 'RDF': '', 'type': 'place'},\n",
       " 'DEATH_PLACE': {'PID': 'P20', 'RDF': '', 'type': 'place'},\n",
       " 'OCCUPATION': {'PID': 'P106', 'RDF': '', 'type': 'list (str)'},\n",
       " 'DESCRIPTION': {'type': 'longstr'},\n",
       " 'NOTE': {'type': 'longstr'}}"
      ]
     },
     "execution_count": 105,
     "metadata": {},
     "output_type": "execute_result"
    }
   ],
   "source": [
    "field_mapping.PEOPLE"
   ]
  },
  {
   "cell_type": "markdown",
   "metadata": {},
   "source": [
    "## 2. reconcile `occupation` column"
   ]
  },
  {
   "cell_type": "code",
   "execution_count": 106,
   "metadata": {},
   "outputs": [],
   "source": [
    "def str_col_to_list(series, separator=\";\"):\n",
    "    return series.fillna(\"\").astype(str).apply(lambda i: [x.strip().lower() for x in i.split(separator)])"
   ]
  },
  {
   "cell_type": "code",
   "execution_count": 107,
   "metadata": {},
   "outputs": [
    {
     "data": {
      "text/plain": [
       "1055                         [poster artist, illustrator]\n",
       "7730                                          [medallist]\n",
       "16648                                                  []\n",
       "9785                         [maker of telescope replica]\n",
       "6500     [typographer, type-designer, printer, publisher]\n",
       "                               ...                       \n",
       "11947                   [physician, surgeon, pathologist]\n",
       "499                              [painter, poster artist]\n",
       "13843          [optical & philosophical instrument maker]\n",
       "5009                                                   []\n",
       "5739                                     [conjoined twin]\n",
       "Name: OCCUPATION_list, Length: 100, dtype: object"
      ]
     },
     "execution_count": 107,
     "metadata": {},
     "output_type": "execute_result"
    }
   ],
   "source": [
    "people_df['OCCUPATION_list'] = str_col_to_list(people_df['OCCUPATION'])\n",
    "people_df['OCCUPATION_list']"
   ]
  },
  {
   "cell_type": "code",
   "execution_count": 108,
   "metadata": {},
   "outputs": [
    {
     "name": "stdout",
     "output_type": "stream",
     "text": [
      "poster artist                    9\n",
      "photographer                     8\n",
      "artist                           7\n",
      "inventor                         6\n",
      "scientist                        5\n",
      "surgeon                          4\n",
      "engineer                         4\n",
      "physician                        4\n",
      "mathematical instrument maker    3\n",
      "medallist                        3\n",
      "dtype: int64\n"
     ]
    },
    {
     "data": {
      "text/plain": [
       "82"
      ]
     },
     "execution_count": 108,
     "metadata": {},
     "output_type": "execute_result"
    }
   ],
   "source": [
    "occupation_count = pd.Series(Counter(people_df[\"OCCUPATION_list\"].sum())).drop(index='').sort_values(ascending=False)\n",
    "print(occupation_count.head(10))\n",
    "\n",
    "occupations_unique = occupation_count.index.tolist()\n",
    "len(occupations_unique)"
   ]
  },
  {
   "cell_type": "code",
   "execution_count": 180,
   "metadata": {},
   "outputs": [],
   "source": [
    "def construct_query_df(name_list, entity_type):\n",
    "    \"\"\"\n",
    "    Creates a dataframe which can be converted into pages of queries for a Reconciliation Service API.\n",
    "    \"\"\"\n",
    "    \n",
    "    all_names = name_list.sum()\n",
    "    \n",
    "    # get rid of disallowed URL characters, double spaces and empty strings\n",
    "    translator = str.maketrans('', '', \":?#/[]@!$&'()*+,;=\")\n",
    "    all_names = [i.translate(translator) for i in all_names]\n",
    "    all_names = [i.replace(\"  \", \" \") for i in all_names if i != \"\"]\n",
    "    \n",
    "    series_count = pd.Series(Counter(all_names)).sort_values(ascending=False)\n",
    "    query_df = pd.DataFrame(series_count).reset_index().drop(columns=0).rename(columns={'index': 'query'})\n",
    "    \n",
    "    if isinstance(entity_type, str):\n",
    "        query_df['type'] = entity_type\n",
    "    elif isinstance(entity_type, list):\n",
    "        query_df['type'] = [entity_type for _ in range(len(query_df))]\n",
    "    \n",
    "    return query_df\n",
    "\n",
    "def reconcile_from_query_df(query_df, endpoint_url, page_limit=18):\n",
    "    \"\"\"\n",
    "    Reconciles list of strings from query dataframe.\n",
    "    \"\"\"\n",
    "    \n",
    "    endpoint_url = endpoint_url + \"?queries=\"\n",
    "    \n",
    "    idx_list = query_df.index.tolist()\n",
    "    idx_paginated = [idx_list[i : i + page_limit] for i in range(0, len(idx_list), page_limit)]\n",
    "\n",
    "    response_df = pd.DataFrame()\n",
    "    failed_idx = []\n",
    "    for page in tqdm(idx_paginated):\n",
    "        try:\n",
    "            json_request = query_df.loc[page, :].to_json(orient=\"index\")\n",
    "            response = requests.get(endpoint_url + json_request)\n",
    "            response.raise_for_status()\n",
    "\n",
    "            json_response = response.json()\n",
    "\n",
    "            tempdf = pd.json_normalize(json_response).T\n",
    "            tempdf = tempdf.rename(index = lambda x: x.strip('.result'), columns={0: 'response_dump'})\n",
    "\n",
    "            response_df = response_df.append(tempdf)\n",
    "\n",
    "        except Exception as e:\n",
    "            print(f\"FAILED: {page[0]}:{page[-1]}\")\n",
    "            print(endpoint_url + json_request)\n",
    "            print(e)\n",
    "    \n",
    "    return response_df"
   ]
  },
  {
   "cell_type": "code",
   "execution_count": 178,
   "metadata": {},
   "outputs": [
    {
     "data": {
      "text/html": [
       "<div>\n",
       "<style scoped>\n",
       "    .dataframe tbody tr th:only-of-type {\n",
       "        vertical-align: middle;\n",
       "    }\n",
       "\n",
       "    .dataframe tbody tr th {\n",
       "        vertical-align: top;\n",
       "    }\n",
       "\n",
       "    .dataframe thead th {\n",
       "        text-align: right;\n",
       "    }\n",
       "</style>\n",
       "<table border=\"1\" class=\"dataframe\">\n",
       "  <thead>\n",
       "    <tr style=\"text-align: right;\">\n",
       "      <th></th>\n",
       "      <th>query</th>\n",
       "      <th>type</th>\n",
       "    </tr>\n",
       "  </thead>\n",
       "  <tbody>\n",
       "    <tr>\n",
       "      <th>0</th>\n",
       "      <td>poster artist</td>\n",
       "      <td>[Q28640, Q12737077]</td>\n",
       "    </tr>\n",
       "    <tr>\n",
       "      <th>1</th>\n",
       "      <td>photographer</td>\n",
       "      <td>[Q28640, Q12737077]</td>\n",
       "    </tr>\n",
       "    <tr>\n",
       "      <th>2</th>\n",
       "      <td>artist</td>\n",
       "      <td>[Q28640, Q12737077]</td>\n",
       "    </tr>\n",
       "    <tr>\n",
       "      <th>3</th>\n",
       "      <td>inventor</td>\n",
       "      <td>[Q28640, Q12737077]</td>\n",
       "    </tr>\n",
       "    <tr>\n",
       "      <th>4</th>\n",
       "      <td>scientist</td>\n",
       "      <td>[Q28640, Q12737077]</td>\n",
       "    </tr>\n",
       "  </tbody>\n",
       "</table>\n",
       "</div>"
      ],
      "text/plain": [
       "           query                 type\n",
       "0  poster artist  [Q28640, Q12737077]\n",
       "1   photographer  [Q28640, Q12737077]\n",
       "2         artist  [Q28640, Q12737077]\n",
       "3       inventor  [Q28640, Q12737077]\n",
       "4      scientist  [Q28640, Q12737077]"
      ]
     },
     "execution_count": 178,
     "metadata": {},
     "output_type": "execute_result"
    }
   ],
   "source": [
    "#query_df = construct_query_df(people_df[\"OCCUPATION_list\"], 'Q12737077')\n",
    "query_df = construct_query_df(people_df[\"OCCUPATION_list\"], ['Q28640', 'Q12737077'])\n",
    "query_df.head()"
   ]
  },
  {
   "cell_type": "code",
   "execution_count": 208,
   "metadata": {},
   "outputs": [
    {
     "name": "stderr",
     "output_type": "stream",
     "text": [
      " 44%|████▍     | 4/9 [05:49<08:01, 96.23s/it] "
     ]
    },
    {
     "name": "stdout",
     "output_type": "stream",
     "text": [
      "FAILED: 30:39\n",
      "queries={\"30\": {\"query\": \"admiral\", \"type\": [\"Q28640\", \"Q12737077\"]}, \"31\": {\"query\": \"mechanical engineer\", \"type\": [\"Q28640\", \"Q12737077\"]}, \"32\": {\"query\": \"broadcaster\", \"type\": [\"Q28640\", \"Q12737077\"]}, \"33\": {\"query\": \"nautical instrument maker\", \"type\": [\"Q28640\", \"Q12737077\"]}, \"34\": {\"query\": \"instrument maker\", \"type\": [\"Q28640\", \"Q12737077\"]}, \"35\": {\"query\": \"chronophotographer\", \"type\": [\"Q28640\", \"Q12737077\"]}, \"36\": {\"query\": \"natural philosopher\", \"type\": [\"Q28640\", \"Q12737077\"]}, \"37\": {\"query\": \"neurologist\", \"type\": [\"Q28640\", \"Q12737077\"]}, \"38\": {\"query\": \"astronomer\", \"type\": [\"Q28640\", \"Q12737077\"]}, \"39\": {\"query\": \"manufacturer\", \"type\": [\"Q28640\", \"Q12737077\"]}}\n",
      "502 Server Error: Bad Gateway for url: https://wdreconcile.toolforge.org/en/api\n"
     ]
    },
    {
     "name": "stderr",
     "output_type": "stream",
     "text": [
      "100%|██████████| 9/9 [09:17<00:00, 61.97s/it]\n"
     ]
    },
    {
     "data": {
      "text/html": [
       "<div>\n",
       "<style scoped>\n",
       "    .dataframe tbody tr th:only-of-type {\n",
       "        vertical-align: middle;\n",
       "    }\n",
       "\n",
       "    .dataframe tbody tr th {\n",
       "        vertical-align: top;\n",
       "    }\n",
       "\n",
       "    .dataframe thead th {\n",
       "        text-align: right;\n",
       "    }\n",
       "</style>\n",
       "<table border=\"1\" class=\"dataframe\">\n",
       "  <thead>\n",
       "    <tr style=\"text-align: right;\">\n",
       "      <th></th>\n",
       "      <th>response_dump</th>\n",
       "    </tr>\n",
       "  </thead>\n",
       "  <tbody>\n",
       "    <tr>\n",
       "      <th>0</th>\n",
       "      <td>[{'all_labels': {'score': 100, 'weighted': 100.0}, 'score': 100.0, 'id': 'Q739437', 'name': 'poster artist', 'type': [{'id': 'Q28640', 'name': 'profession'}], 'match': True}, {'all_labels': {'score': 67, 'weighted': 67.0}, 'score': 67.0, 'id': 'Q55020125', 'name': 'bullfighting poster artist', 'type': [{'id': 'Q12737077', 'name': 'occupation'}], 'match': False}]</td>\n",
       "    </tr>\n",
       "    <tr>\n",
       "      <th>1</th>\n",
       "      <td>[{'all_labels': {'score': 100, 'weighted': 100.0}, 'score': 100.0, 'id': 'Q33231', 'name': 'photographer', 'type': [{'id': 'Q28640', 'name': 'profession'}], 'match': True}, {'all_labels': {'score': 86, 'weighted': 86.0}, 'score': 86.0, 'id': 'Q11496048', 'name': 'war photographer', 'type': [{'id': 'Q28640', 'name': 'profession'}], 'match': False}, {'all_labels': {'score': 80, 'weighted': 80.0}, 'score': 80.0, 'id': 'Q20743434', 'name': 'unit still photographer', 'type': [{'id': 'Q28640', 'name': 'profession'}, {'id': 'Q4220920', 'name': 'filmmaking occupation'}], 'match': False}, {'all_labels': {'score': 77, 'weighted': 77.0}, 'score': 77.0, 'id': 'Q51093656', 'name': 'sports photographer', 'type': [{'id': 'Q28640', 'name': 'profession'}], 'match': False}, {'all_labels': {'score': 75, 'weighted': 75.0}, 'score': 75.0, 'id': 'Q19698265', 'name': 'fashion photographer', 'type': [{'id': 'Q28640', 'name': 'profession'}], 'match': False}, {'all_labels': {'score': 75, 'weighted': 75.0}, 'score': 75.0, 'id': 'Q21694268', 'name': 'amateur photographer', 'type': [{'id': 'Q12737077', 'name': 'occupation'}], 'match': False}, {'all_labels': {'score': 73, 'weighted': 73.0}, 'score': 73.0, 'id': 'Q2544530', 'name': 'portrait photographer', 'type': [{'id': 'Q28640', 'name': 'profession'}], 'match': False}, {'all_labels': {'score': 69, 'weighted': 69.0}, 'score': 69.0, 'id': 'Q21550957', 'name': 'scientific photographer', 'type': [{'id': 'Q12737077', 'name': 'occupation'}], 'match': False}, {'all_labels': {'score': 67, 'weighted': 67.0}, 'score': 67.0, 'id': 'Q7187777', 'name': 'photographic assistant', 'type': [{'id': 'Q12737077', 'name': 'occupation'}], 'match': False}, {'all_labels': {'score': 63, 'weighted': 63.0}, 'score': 63.0, 'id': 'Q3381574', 'name': 'architectural photographer', 'type': [{'id': 'Q28640', 'name': 'profession'}], 'match': False}]</td>\n",
       "    </tr>\n",
       "    <tr>\n",
       "      <th>2</th>\n",
       "      <td>[{'all_labels': {'score': 100, 'weighted': 100.0}, 'score': 100.0, 'id': 'Q483501', 'name': 'artist', 'type': [{'id': 'Q12737077', 'name': 'occupation'}], 'match': False}, {'all_labels': {'score': 100, 'weighted': 100.0}, 'score': 100.0, 'id': 'Q713200', 'name': 'performing artist', 'type': [{'id': 'Q28640', 'name': 'profession'}, {'id': 'Q12737077', 'name': 'occupation'}], 'match': False}, {'all_labels': {'score': 100, 'weighted': 100.0}, 'score': 100.0, 'id': 'Q3391743', 'name': 'visual artist', 'type': [{'id': 'Q28640', 'name': 'profession'}], 'match': False}, {'all_labels': {'score': 100, 'weighted': 100.0}, 'score': 100.0, 'id': 'Q10774753', 'name': 'performance artist', 'type': [{'id': 'Q28640', 'name': 'profession'}, {'id': 'Q12737077', 'name': 'occupation'}], 'match': False}, {'all_labels': {'score': 80, 'weighted': 80.0}, 'score': 80.0, 'id': 'Q1114448', 'name': 'cartoonist', 'type': [{'id': 'Q28640', 'name': 'profession'}], 'match': False}, {'all_labels': {'score': 75, 'weighted': 75.0}, 'score': 75.0, 'id': 'Q266569', 'name': 'animator', 'type': [{'id': 'Q4220920', 'name': 'filmmaking occupation'}], 'match': False}, {'all_labels': {'score': 75, 'weighted': 75.0}, 'score': 75.0, 'id': 'Q2914170', 'name': 'street artist', 'type': [{'id': 'Q28640', 'name': 'profession'}, {'id': 'Q2207288', 'name': 'craft'}], 'match': False}, {'all_labels': {'score': 71, 'weighted': 71.0}, 'score': 71.0, 'id': 'Q191633', 'name': 'mangaka', 'type': [{'id': 'Q28640', 'name': 'profession'}], 'match': False}, {'all_labels': {'score': 71, 'weighted': 71.0}, 'score': 71.0, 'id': 'Q674067', 'name': 'mime artist', 'type': [{'id': 'Q28640', 'name': 'profession'}], 'match': False}, {'all_labels': {'score': 71, 'weighted': 71.0}, 'score': 71.0, 'id': 'Q15214752', 'name': 'cabaret artist', 'type': [{'id': 'Q2207288', 'name': 'craft'}, {'id': 'Q28640', 'name': 'profession'}], 'match': False}, {'all_labels': {'score': 67, 'weighted': 67.0}, 'score': 67.0, 'id': 'Q715301', 'name': 'comics artist', 'type': [{'id': 'Q28640', 'name': 'profession'}], 'match': False}, {'all_labels': {'score': 67, 'weighted': 67.0}, 'score': 67.0, 'id': 'Q10694573', 'name': 'textile artist', 'type': [{'id': 'Q28640', 'name': 'profession'}], 'match': False}, {'all_labels': {'score': 67, 'weighted': 67.0}, 'score': 67.0, 'id': 'Q15095148', 'name': 'graffiti artist', 'type': [{'id': 'Q12737077', 'name': 'occupation'}], 'match': False}, {'all_labels': {'score': 63, 'weighted': 63.0}, 'score': 63.0, 'id': 'Q935666', 'name': 'make-up artist', 'type': [{'id': 'Q28640', 'name': 'profession'}, {'id': 'Q4220920', 'name': 'filmmaking occupation'}, {'id': 'Q15839299', 'name': 'theatrical occupation'}], 'match': False}, {'all_labels': {'score': 63, 'weighted': 63.0}, 'score': 63.0, 'id': 'Q1320883', 'name': 'talent manager', 'type': [{'id': 'Q28640', 'name': 'profession'}], 'match': False}, {'all_labels': {'score': 63, 'weighted': 63.0}, 'score': 63.0, 'id': 'Q1630100', 'name': 'art model', 'type': [{'id': 'Q28640', 'name': 'profession'}], 'match': False}, {'all_labels': {'score': 63, 'weighted': 63.0}, 'score': 63.0, 'id': 'Q1925963', 'name': 'graphic artist', 'type': [{'id': 'Q28640', 'name': 'profession'}], 'match': False}, {'all_labels': {'score': 62, 'weighted': 62.0}, 'score': 62.0, 'id': 'Q28107590', 'name': 'concept artist', 'type': [{'id': 'Q28640', 'name': 'profession'}], 'match': False}, {'all_labels': {'score': 60, 'weighted': 60.0}, 'score': 60.0, 'id': 'Q639669', 'name': 'musician', 'type': [{'id': 'Q66715801', 'name': 'musical profession'}, {'id': 'Q12737077', 'name': 'occupation'}], 'match': False}, {'all_labels': {'score': 59, 'weighted': 59.0}, 'score': 59.0, 'id': 'Q706364', 'name': 'art director', 'type': [{'id': 'Q28640', 'name': 'profession'}, {'id': 'Q4164871', 'name': 'position'}], 'match': False}, {'all_labels': {'score': 57, 'weighted': 57.0}, 'score': 57.0, 'id': 'Q1028181', 'name': 'painter', 'type': [{'id': 'Q28640', 'name': 'profession'}], 'match': False}, {'all_labels': {'score': 56, 'weighted': 56.0}, 'score': 56.0, 'id': 'Q1797162', 'name': 'artistic director', 'type': [{'id': 'Q28640', 'name': 'profession'}, {'id': 'Q4164871', 'name': 'position'}], 'match': False}, {'all_labels': {'score': 55, 'weighted': 55.0}, 'score': 55.0, 'id': 'Q13381572', 'name': 'artistic gymnast', 'type': [{'id': 'Q28640', 'name': 'profession'}], 'match': False}, {'all_labels': {'score': 50, 'weighted': 50.0}, 'score': 50.0, 'id': 'Q2205972', 'name': 'stained-glass artist', 'type': [{'id': 'Q2207288', 'name': 'craft'}, {'id': 'Q28640', 'name': 'profession'}], 'match': False}, {'all_labels': {'score': 50, 'weighted': 50.0}, 'score': 50.0, 'id': 'Q18074503', 'name': 'installation artist', 'type': [{'id': 'Q28640', 'name': 'profession'}], 'match': False}]</td>\n",
       "    </tr>\n",
       "    <tr>\n",
       "      <th>3</th>\n",
       "      <td>[{'all_labels': {'score': 100, 'weighted': 100.0}, 'score': 100.0, 'id': 'Q205375', 'name': 'inventor', 'type': [{'id': 'Q28640', 'name': 'profession'}], 'match': True}, {'all_labels': {'score': 70, 'weighted': 70.0}, 'score': 70.0, 'id': 'Q715679', 'name': 'patent inventor', 'type': [{'id': 'Q12737077', 'name': 'occupation'}], 'match': False}]</td>\n",
       "    </tr>\n",
       "    <tr>\n",
       "      <th>4</th>\n",
       "      <td>[{'all_labels': {'score': 100, 'weighted': 100.0}, 'score': 100.0, 'id': 'Q901', 'name': 'scientist', 'type': [{'id': 'Q28640', 'name': 'profession'}], 'match': True}, {'all_labels': {'score': 86, 'weighted': 86.0}, 'score': 86.0, 'id': 'Q11424604', 'name': 'earth scientist', 'type': [{'id': 'Q28640', 'name': 'profession'}], 'match': False}, {'all_labels': {'score': 78, 'weighted': 78.0}, 'score': 78.0, 'id': 'Q20888501', 'name': 'soil scientist', 'type': [{'id': 'Q28640', 'name': 'profession'}], 'match': False}, {'all_labels': {'score': 78, 'weighted': 78.0}, 'score': 78.0, 'id': 'Q29169143', 'name': 'data scientist', 'type': [{'id': 'Q28640', 'name': 'profession'}], 'match': False}, {'all_labels': {'score': 75, 'weighted': 75.0}, 'score': 75.0, 'id': 'Q19587958', 'name': 'sports scientist', 'type': [{'id': 'Q28640', 'name': 'profession'}], 'match': False}, {'all_labels': {'score': 72, 'weighted': 72.0}, 'score': 72.0, 'id': 'Q15319501', 'name': 'social scientist', 'type': [{'id': 'Q28640', 'name': 'profession'}], 'match': False}, {'all_labels': {'score': 69, 'weighted': 69.0}, 'score': 69.0, 'id': 'Q1113838', 'name': 'climatologist', 'type': [{'id': 'Q28640', 'name': 'profession'}], 'match': False}, {'all_labels': {'score': 67, 'weighted': 67.0}, 'score': 67.0, 'id': 'Q82594', 'name': 'computer scientist', 'type': [{'id': 'Q28640', 'name': 'profession'}], 'match': False}, {'all_labels': {'score': 67, 'weighted': 67.0}, 'score': 67.0, 'id': 'Q14565186', 'name': 'cognitive scientist', 'type': [{'id': 'Q28640', 'name': 'profession'}], 'match': False}, {'all_labels': {'score': 67, 'weighted': 67.0}, 'score': 67.0, 'id': 'Q21329070', 'name': 'materials scientist', 'type': [{'id': 'Q28640', 'name': 'profession'}], 'match': False}, {'all_labels': {'score': 64, 'weighted': 64.0}, 'score': 64.0, 'id': 'Q1238570', 'name': 'political scientist', 'type': [{'id': 'Q28640', 'name': 'profession'}], 'match': False}, {'all_labels': {'score': 62, 'weighted': 62.0}, 'score': 62.0, 'id': 'Q593644', 'name': 'chemist', 'type': [{'id': 'Q28640', 'name': 'profession'}], 'match': False}, {'all_labels': {'score': 56, 'weighted': 56.0}, 'score': 56.0, 'id': 'Q169470', 'name': 'physicist', 'type': [{'id': 'Q28640', 'name': 'profession'}], 'match': False}, {'all_labels': {'score': 53, 'weighted': 53.0}, 'score': 53.0, 'id': 'Q11063', 'name': 'astronomer', 'type': [{'id': 'Q28640', 'name': 'profession'}], 'match': False}, {'all_labels': {'score': 52, 'weighted': 52.0}, 'score': 52.0, 'id': 'Q1662561', 'name': 'paleontologist', 'type': [{'id': 'Q28640', 'name': 'profession'}], 'match': False}, {'all_labels': {'score': 44, 'weighted': 44.0}, 'score': 44.0, 'id': 'Q520549', 'name': 'geologist', 'type': [{'id': 'Q28640', 'name': 'profession'}], 'match': False}, {'all_labels': {'score': 44, 'weighted': 44.0}, 'score': 44.0, 'id': 'Q864503', 'name': 'biologist', 'type': [{'id': 'Q28640', 'name': 'profession'}], 'match': False}]</td>\n",
       "    </tr>\n",
       "  </tbody>\n",
       "</table>\n",
       "</div>"
      ],
      "text/plain": [
       "                                                                                                                                                                                                                                                                                                                                                                                                                                                                                                                                                                                                                                                                                                                                                                                                                                                                                                                                                                                                                                                                                                                                                                                                                                                                                                                                                                                                                                                                                                                                                                                                                                                                                                                                                                                                                                                                                                                                                                                                                                                                                                                                                                                                                                                                                                                                                                                                                                                                                                                                                                                                                                                                                                                                                                                                                                                                                                                                                                                                                                                                                                                                                                                                                                                                                                                                                                                                                                                                                                                                                                                                                                                                                                                                                                                                                                                                                                                                                                                                                                                                                                                                                                                                                                                                                                                                                                                                                                                                                                                                                                                                                                                                                                                                                                                                                                                                                                                                                                            response_dump\n",
       "0                                                                                                                                                                                                                                                                                                                                                                                                                                                                                                                                                                                                                                                                                                                                                                                                                                                                                                                                                                                                                                                                                                                                                                                                                                                                                                                                                                                                                                                                                                                                                                                                                                                                                                                                                                                                                                                                                                                                                                                                                                                                                                                                                                                                                                                                                                                                                                                                                                                                                                                                                                                                                                                                                                                                                                                                                                                                                                                                                                                                                                                                                                                                                                                                                                                                                                                                                                                                                                                                                                                                                                                                                                                                                                                                                                                                                                                                                                                                                                                                                                                                                                                                                                                                                                                                                                                                                                                                                                                                                                                                                                                                            [{'all_labels': {'score': 100, 'weighted': 100.0}, 'score': 100.0, 'id': 'Q739437', 'name': 'poster artist', 'type': [{'id': 'Q28640', 'name': 'profession'}], 'match': True}, {'all_labels': {'score': 67, 'weighted': 67.0}, 'score': 67.0, 'id': 'Q55020125', 'name': 'bullfighting poster artist', 'type': [{'id': 'Q12737077', 'name': 'occupation'}], 'match': False}]\n",
       "1                                                                                                                                                                                                                                                                                                                                                                                                                                                                                                                                                                                                                                                                                                                                                                                                                                                                                                                                                                                                                                                                                                                                                                                                                                                                                                                                                                                                                                                                                                                                                                                                                                                                                                                                                                                                                                                                                                                                                                                                                                                                                                                                                                                                                                                                                                                                                                                                                                                                                                                                                                                                                                                                                                                                                                                                                                                                                                                                                                                                                                          [{'all_labels': {'score': 100, 'weighted': 100.0}, 'score': 100.0, 'id': 'Q33231', 'name': 'photographer', 'type': [{'id': 'Q28640', 'name': 'profession'}], 'match': True}, {'all_labels': {'score': 86, 'weighted': 86.0}, 'score': 86.0, 'id': 'Q11496048', 'name': 'war photographer', 'type': [{'id': 'Q28640', 'name': 'profession'}], 'match': False}, {'all_labels': {'score': 80, 'weighted': 80.0}, 'score': 80.0, 'id': 'Q20743434', 'name': 'unit still photographer', 'type': [{'id': 'Q28640', 'name': 'profession'}, {'id': 'Q4220920', 'name': 'filmmaking occupation'}], 'match': False}, {'all_labels': {'score': 77, 'weighted': 77.0}, 'score': 77.0, 'id': 'Q51093656', 'name': 'sports photographer', 'type': [{'id': 'Q28640', 'name': 'profession'}], 'match': False}, {'all_labels': {'score': 75, 'weighted': 75.0}, 'score': 75.0, 'id': 'Q19698265', 'name': 'fashion photographer', 'type': [{'id': 'Q28640', 'name': 'profession'}], 'match': False}, {'all_labels': {'score': 75, 'weighted': 75.0}, 'score': 75.0, 'id': 'Q21694268', 'name': 'amateur photographer', 'type': [{'id': 'Q12737077', 'name': 'occupation'}], 'match': False}, {'all_labels': {'score': 73, 'weighted': 73.0}, 'score': 73.0, 'id': 'Q2544530', 'name': 'portrait photographer', 'type': [{'id': 'Q28640', 'name': 'profession'}], 'match': False}, {'all_labels': {'score': 69, 'weighted': 69.0}, 'score': 69.0, 'id': 'Q21550957', 'name': 'scientific photographer', 'type': [{'id': 'Q12737077', 'name': 'occupation'}], 'match': False}, {'all_labels': {'score': 67, 'weighted': 67.0}, 'score': 67.0, 'id': 'Q7187777', 'name': 'photographic assistant', 'type': [{'id': 'Q12737077', 'name': 'occupation'}], 'match': False}, {'all_labels': {'score': 63, 'weighted': 63.0}, 'score': 63.0, 'id': 'Q3381574', 'name': 'architectural photographer', 'type': [{'id': 'Q28640', 'name': 'profession'}], 'match': False}]\n",
       "2  [{'all_labels': {'score': 100, 'weighted': 100.0}, 'score': 100.0, 'id': 'Q483501', 'name': 'artist', 'type': [{'id': 'Q12737077', 'name': 'occupation'}], 'match': False}, {'all_labels': {'score': 100, 'weighted': 100.0}, 'score': 100.0, 'id': 'Q713200', 'name': 'performing artist', 'type': [{'id': 'Q28640', 'name': 'profession'}, {'id': 'Q12737077', 'name': 'occupation'}], 'match': False}, {'all_labels': {'score': 100, 'weighted': 100.0}, 'score': 100.0, 'id': 'Q3391743', 'name': 'visual artist', 'type': [{'id': 'Q28640', 'name': 'profession'}], 'match': False}, {'all_labels': {'score': 100, 'weighted': 100.0}, 'score': 100.0, 'id': 'Q10774753', 'name': 'performance artist', 'type': [{'id': 'Q28640', 'name': 'profession'}, {'id': 'Q12737077', 'name': 'occupation'}], 'match': False}, {'all_labels': {'score': 80, 'weighted': 80.0}, 'score': 80.0, 'id': 'Q1114448', 'name': 'cartoonist', 'type': [{'id': 'Q28640', 'name': 'profession'}], 'match': False}, {'all_labels': {'score': 75, 'weighted': 75.0}, 'score': 75.0, 'id': 'Q266569', 'name': 'animator', 'type': [{'id': 'Q4220920', 'name': 'filmmaking occupation'}], 'match': False}, {'all_labels': {'score': 75, 'weighted': 75.0}, 'score': 75.0, 'id': 'Q2914170', 'name': 'street artist', 'type': [{'id': 'Q28640', 'name': 'profession'}, {'id': 'Q2207288', 'name': 'craft'}], 'match': False}, {'all_labels': {'score': 71, 'weighted': 71.0}, 'score': 71.0, 'id': 'Q191633', 'name': 'mangaka', 'type': [{'id': 'Q28640', 'name': 'profession'}], 'match': False}, {'all_labels': {'score': 71, 'weighted': 71.0}, 'score': 71.0, 'id': 'Q674067', 'name': 'mime artist', 'type': [{'id': 'Q28640', 'name': 'profession'}], 'match': False}, {'all_labels': {'score': 71, 'weighted': 71.0}, 'score': 71.0, 'id': 'Q15214752', 'name': 'cabaret artist', 'type': [{'id': 'Q2207288', 'name': 'craft'}, {'id': 'Q28640', 'name': 'profession'}], 'match': False}, {'all_labels': {'score': 67, 'weighted': 67.0}, 'score': 67.0, 'id': 'Q715301', 'name': 'comics artist', 'type': [{'id': 'Q28640', 'name': 'profession'}], 'match': False}, {'all_labels': {'score': 67, 'weighted': 67.0}, 'score': 67.0, 'id': 'Q10694573', 'name': 'textile artist', 'type': [{'id': 'Q28640', 'name': 'profession'}], 'match': False}, {'all_labels': {'score': 67, 'weighted': 67.0}, 'score': 67.0, 'id': 'Q15095148', 'name': 'graffiti artist', 'type': [{'id': 'Q12737077', 'name': 'occupation'}], 'match': False}, {'all_labels': {'score': 63, 'weighted': 63.0}, 'score': 63.0, 'id': 'Q935666', 'name': 'make-up artist', 'type': [{'id': 'Q28640', 'name': 'profession'}, {'id': 'Q4220920', 'name': 'filmmaking occupation'}, {'id': 'Q15839299', 'name': 'theatrical occupation'}], 'match': False}, {'all_labels': {'score': 63, 'weighted': 63.0}, 'score': 63.0, 'id': 'Q1320883', 'name': 'talent manager', 'type': [{'id': 'Q28640', 'name': 'profession'}], 'match': False}, {'all_labels': {'score': 63, 'weighted': 63.0}, 'score': 63.0, 'id': 'Q1630100', 'name': 'art model', 'type': [{'id': 'Q28640', 'name': 'profession'}], 'match': False}, {'all_labels': {'score': 63, 'weighted': 63.0}, 'score': 63.0, 'id': 'Q1925963', 'name': 'graphic artist', 'type': [{'id': 'Q28640', 'name': 'profession'}], 'match': False}, {'all_labels': {'score': 62, 'weighted': 62.0}, 'score': 62.0, 'id': 'Q28107590', 'name': 'concept artist', 'type': [{'id': 'Q28640', 'name': 'profession'}], 'match': False}, {'all_labels': {'score': 60, 'weighted': 60.0}, 'score': 60.0, 'id': 'Q639669', 'name': 'musician', 'type': [{'id': 'Q66715801', 'name': 'musical profession'}, {'id': 'Q12737077', 'name': 'occupation'}], 'match': False}, {'all_labels': {'score': 59, 'weighted': 59.0}, 'score': 59.0, 'id': 'Q706364', 'name': 'art director', 'type': [{'id': 'Q28640', 'name': 'profession'}, {'id': 'Q4164871', 'name': 'position'}], 'match': False}, {'all_labels': {'score': 57, 'weighted': 57.0}, 'score': 57.0, 'id': 'Q1028181', 'name': 'painter', 'type': [{'id': 'Q28640', 'name': 'profession'}], 'match': False}, {'all_labels': {'score': 56, 'weighted': 56.0}, 'score': 56.0, 'id': 'Q1797162', 'name': 'artistic director', 'type': [{'id': 'Q28640', 'name': 'profession'}, {'id': 'Q4164871', 'name': 'position'}], 'match': False}, {'all_labels': {'score': 55, 'weighted': 55.0}, 'score': 55.0, 'id': 'Q13381572', 'name': 'artistic gymnast', 'type': [{'id': 'Q28640', 'name': 'profession'}], 'match': False}, {'all_labels': {'score': 50, 'weighted': 50.0}, 'score': 50.0, 'id': 'Q2205972', 'name': 'stained-glass artist', 'type': [{'id': 'Q2207288', 'name': 'craft'}, {'id': 'Q28640', 'name': 'profession'}], 'match': False}, {'all_labels': {'score': 50, 'weighted': 50.0}, 'score': 50.0, 'id': 'Q18074503', 'name': 'installation artist', 'type': [{'id': 'Q28640', 'name': 'profession'}], 'match': False}]\n",
       "3                                                                                                                                                                                                                                                                                                                                                                                                                                                                                                                                                                                                                                                                                                                                                                                                                                                                                                                                                                                                                                                                                                                                                                                                                                                                                                                                                                                                                                                                                                                                                                                                                                                                                                                                                                                                                                                                                                                                                                                                                                                                                                                                                                                                                                                                                                                                                                                                                                                                                                                                                                                                                                                                                                                                                                                                                                                                                                                                                                                                                                                                                                                                                                                                                                                                                                                                                                                                                                                                                                                                                                                                                                                                                                                                                                                                                                                                                                                                                                                                                                                                                                                                                                                                                                                                                                                                                                                                                                                                                                                                                                                                                              [{'all_labels': {'score': 100, 'weighted': 100.0}, 'score': 100.0, 'id': 'Q205375', 'name': 'inventor', 'type': [{'id': 'Q28640', 'name': 'profession'}], 'match': True}, {'all_labels': {'score': 70, 'weighted': 70.0}, 'score': 70.0, 'id': 'Q715679', 'name': 'patent inventor', 'type': [{'id': 'Q12737077', 'name': 'occupation'}], 'match': False}]\n",
       "4                                                                                                                                                                                                                                                                                                                                                                                                                                                                                                                                                                                                                                                                                                                                                                                                                                                                                                                                                                                                                                                                                                                                                                                                                                                                                                                                                                                                                                                                                                                                                                                                                                                                                                                                                                                                                                                                                                                     [{'all_labels': {'score': 100, 'weighted': 100.0}, 'score': 100.0, 'id': 'Q901', 'name': 'scientist', 'type': [{'id': 'Q28640', 'name': 'profession'}], 'match': True}, {'all_labels': {'score': 86, 'weighted': 86.0}, 'score': 86.0, 'id': 'Q11424604', 'name': 'earth scientist', 'type': [{'id': 'Q28640', 'name': 'profession'}], 'match': False}, {'all_labels': {'score': 78, 'weighted': 78.0}, 'score': 78.0, 'id': 'Q20888501', 'name': 'soil scientist', 'type': [{'id': 'Q28640', 'name': 'profession'}], 'match': False}, {'all_labels': {'score': 78, 'weighted': 78.0}, 'score': 78.0, 'id': 'Q29169143', 'name': 'data scientist', 'type': [{'id': 'Q28640', 'name': 'profession'}], 'match': False}, {'all_labels': {'score': 75, 'weighted': 75.0}, 'score': 75.0, 'id': 'Q19587958', 'name': 'sports scientist', 'type': [{'id': 'Q28640', 'name': 'profession'}], 'match': False}, {'all_labels': {'score': 72, 'weighted': 72.0}, 'score': 72.0, 'id': 'Q15319501', 'name': 'social scientist', 'type': [{'id': 'Q28640', 'name': 'profession'}], 'match': False}, {'all_labels': {'score': 69, 'weighted': 69.0}, 'score': 69.0, 'id': 'Q1113838', 'name': 'climatologist', 'type': [{'id': 'Q28640', 'name': 'profession'}], 'match': False}, {'all_labels': {'score': 67, 'weighted': 67.0}, 'score': 67.0, 'id': 'Q82594', 'name': 'computer scientist', 'type': [{'id': 'Q28640', 'name': 'profession'}], 'match': False}, {'all_labels': {'score': 67, 'weighted': 67.0}, 'score': 67.0, 'id': 'Q14565186', 'name': 'cognitive scientist', 'type': [{'id': 'Q28640', 'name': 'profession'}], 'match': False}, {'all_labels': {'score': 67, 'weighted': 67.0}, 'score': 67.0, 'id': 'Q21329070', 'name': 'materials scientist', 'type': [{'id': 'Q28640', 'name': 'profession'}], 'match': False}, {'all_labels': {'score': 64, 'weighted': 64.0}, 'score': 64.0, 'id': 'Q1238570', 'name': 'political scientist', 'type': [{'id': 'Q28640', 'name': 'profession'}], 'match': False}, {'all_labels': {'score': 62, 'weighted': 62.0}, 'score': 62.0, 'id': 'Q593644', 'name': 'chemist', 'type': [{'id': 'Q28640', 'name': 'profession'}], 'match': False}, {'all_labels': {'score': 56, 'weighted': 56.0}, 'score': 56.0, 'id': 'Q169470', 'name': 'physicist', 'type': [{'id': 'Q28640', 'name': 'profession'}], 'match': False}, {'all_labels': {'score': 53, 'weighted': 53.0}, 'score': 53.0, 'id': 'Q11063', 'name': 'astronomer', 'type': [{'id': 'Q28640', 'name': 'profession'}], 'match': False}, {'all_labels': {'score': 52, 'weighted': 52.0}, 'score': 52.0, 'id': 'Q1662561', 'name': 'paleontologist', 'type': [{'id': 'Q28640', 'name': 'profession'}], 'match': False}, {'all_labels': {'score': 44, 'weighted': 44.0}, 'score': 44.0, 'id': 'Q520549', 'name': 'geologist', 'type': [{'id': 'Q28640', 'name': 'profession'}], 'match': False}, {'all_labels': {'score': 44, 'weighted': 44.0}, 'score': 44.0, 'id': 'Q864503', 'name': 'biologist', 'type': [{'id': 'Q28640', 'name': 'profession'}], 'match': False}]"
      ]
     },
     "execution_count": 208,
     "metadata": {},
     "output_type": "execute_result"
    }
   ],
   "source": [
    "def reconcile_from_query_df_post(query_df, endpoint_url, page_limit=18):\n",
    "    \"\"\"\n",
    "    Reconciles list of strings from query dataframe.\n",
    "    \"\"\"\n",
    "    \n",
    "    #endpoint_url = endpoint_url + \"?queries=\"\n",
    "    \n",
    "    idx_list = query_df.index.tolist()\n",
    "    idx_paginated = [idx_list[i : i + page_limit] for i in range(0, len(idx_list), page_limit)]\n",
    "\n",
    "    response_df = pd.DataFrame()\n",
    "    failed_idx = []\n",
    "    for page in tqdm(idx_paginated):\n",
    "        try:\n",
    "            json_request = query_df.loc[page, :].to_json(orient=\"index\")\n",
    "            headers = {'User-Agent': 'Mozilla/5.0 (Macintosh; Intel Mac OS X 10_11_5) AppleWebKit/537.36 (KHTML, like Gecko) Chrome/50.0.2661.102 Safari/537.36'}\n",
    "            body = \"queries=\" + json.dumps(json.loads(json_request))\n",
    "            session = requests.Session()\n",
    "            response = session.post(endpoint_url, headers=headers, data=body)\n",
    "            response.raise_for_status()\n",
    "\n",
    "            json_response = response.json()\n",
    "\n",
    "            tempdf = pd.json_normalize(json_response).T\n",
    "            tempdf = tempdf.rename(index = lambda x: x.strip('.result'), columns={0: 'response_dump'})\n",
    "\n",
    "            response_df = response_df.append(tempdf)\n",
    "\n",
    "        except Exception as e:\n",
    "            # TODO: retry once\n",
    "            print(f\"FAILED: {page[0]}:{page[-1]}\")\n",
    "            print(body)\n",
    "            print(e)\n",
    "    \n",
    "    return response_df\n",
    "\n",
    "# https://wdreconcile.toolforge.org/en/api\n",
    "# https://tools.wmflabs.org/openrefine-wikidata/en/api\n",
    "\n",
    "response_df = reconcile_from_query_df_post(query_df, endpoint_url=\"https://wdreconcile.toolforge.org/en/api\", page_limit=10)\n",
    "response_df.index = response_df.index.astype(int)\n",
    "response_df.head()"
   ]
  },
  {
   "cell_type": "code",
   "execution_count": null,
   "metadata": {},
   "outputs": [],
   "source": [
    "combined_df = pd.concat([query_df, response_df], axis=1)\n",
    "combined_df"
   ]
  },
  {
   "cell_type": "code",
   "execution_count": 149,
   "metadata": {},
   "outputs": [
    {
     "name": "stderr",
     "output_type": "stream",
     "text": [
      "100%|██████████| 81/81 [00:00<00:00, 1608.35it/s]"
     ]
    },
    {
     "name": "stdout",
     "output_type": "stream",
     "text": [
      "clergyman ['clergyman', 'clergyman']\n",
      "apprentice ['apprentice', 'apprentice']\n",
      "optician ['optician', 'optician']\n"
     ]
    },
    {
     "name": "stderr",
     "output_type": "stream",
     "text": [
      "\n"
     ]
    }
   ],
   "source": [
    "from fuzzywuzzy import fuzz\n",
    "\n",
    "# TODO: add to list of matches if score == 100 or name matches\n",
    "\n",
    "combined_df[\"match_name\"] = \"\"\n",
    "combined_df[\"match_id\"] = \"\"\n",
    "\n",
    "for idx, row in tqdm(combined_df.iterrows(), total=combined_df.shape[0]):\n",
    "    query = row['query']\n",
    "    response = row['response_dump']\n",
    "    \n",
    "    if not isinstance(response, float):\n",
    "        names = [item['name'] for item in response]\n",
    "        ids = [item['id'] for item in response]\n",
    "        idx_match = [idx for idx, item in enumerate(names) if fuzz.ratio(query, item) > 90]\n",
    "\n",
    "        if len(idx_match) >= 1:\n",
    "            combined_df.loc[idx, \"match_name\"] = names[idx_match[0]]\n",
    "            combined_df.loc[idx, \"match_id\"] = ids[idx_match[0]]\n",
    "        if len(idx_match) > 1:\n",
    "            print(query, [names[i] for i in idx_match])"
   ]
  },
  {
   "cell_type": "markdown",
   "metadata": {},
   "source": [
    "## 3. Getting properties from field name\n",
    "We can use `P1629: subject item of this property` to get the type of entity we should be searching for from our column (i.e. the one in config)."
   ]
  },
  {
   "cell_type": "code",
   "execution_count": 37,
   "metadata": {},
   "outputs": [],
   "source": [
    "def get_properties_from_field(field_pid):\n",
    "    query = f\"\"\"\n",
    "    SELECT ?property WHERE {{\n",
    "      wd:{field_pid} wdt:P1629 ?property.\n",
    "    }}\n",
    "    \"\"\"\n",
    "    \n",
    "    res = get_sparql_results(config.WIKIDATA_SPARQL_ENDPOINT, query)\n",
    "    \n",
    "    if 'results' in res:\n",
    "        bindings = res['results']['bindings']\n",
    "        qids = [re.findall(\"(Q\\d+)\", item['property']['value'])[0] for item in bindings]\n",
    "        \n",
    "        return qids"
   ]
  },
  {
   "cell_type": "code",
   "execution_count": 38,
   "metadata": {},
   "outputs": [
    {
     "data": {
      "text/plain": [
       "['Q28640', 'Q12737077']"
      ]
     },
     "execution_count": 38,
     "metadata": {},
     "output_type": "execute_result"
    }
   ],
   "source": [
    "get_properties_from_field(field_mapping.PEOPLE['OCCUPATION']['PID'])"
   ]
  },
  {
   "cell_type": "code",
   "execution_count": null,
   "metadata": {},
   "outputs": [],
   "source": []
  }
 ],
 "metadata": {
  "kernelspec": {
   "display_name": "Python 3",
   "language": "python",
   "name": "python3"
  },
  "language_info": {
   "codemirror_mode": {
    "name": "ipython",
    "version": 3
   },
   "file_extension": ".py",
   "mimetype": "text/x-python",
   "name": "python",
   "nbconvert_exporter": "python",
   "pygments_lexer": "ipython3",
   "version": "3.7.4"
  }
 },
 "nbformat": 4,
 "nbformat_minor": 4
}
