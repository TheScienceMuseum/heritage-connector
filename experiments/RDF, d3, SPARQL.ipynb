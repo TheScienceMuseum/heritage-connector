{
 "cells": [
  {
   "cell_type": "markdown",
   "metadata": {},
   "source": [
    "# RDF, d3, SPARQL\n",
    "* Creates an RDF dump of the Elasticsearch index and converts it to `{subject: \"\", predicate: \"\", object: \"\"}` format to be plotted in d3.\n",
    "* Experimenting with SPARQL searches within rdflib"
   ]
  },
  {
   "cell_type": "code",
   "execution_count": 21,
   "metadata": {},
   "outputs": [
    {
     "name": "stdout",
     "output_type": "stream",
     "text": [
      "The autoreload extension is already loaded. To reload it, use:\n",
      "  %reload_ext autoreload\n"
     ]
    }
   ],
   "source": [
    "%load_ext autoreload\n",
    "%autoreload 2\n",
    "\n",
    "import sys\n",
    "sys.path.append(\"..\")\n",
    "\n",
    "from heritageconnector import datastore\n",
    "\n",
    "from rdflib import Graph\n",
    "from rdflib.extras.external_graph_libs import rdflib_to_networkx_multidigraph\n",
    "\n",
    "import matplotlib.pyplot as plt\n",
    "\n",
    "import networkx as nx\n",
    "from networkx.readwrite import json_graph\n",
    "\n",
    "import json\n",
    "\n",
    "import pandas as pd\n",
    "pd.set_option('display.max_colwidth', None)\n",
    "pd.set_option('display.max_columns', None)\n",
    "\n",
    "from IPython.display import display"
   ]
  },
  {
   "cell_type": "markdown",
   "metadata": {},
   "source": [
    "## 1. Create graph from ES dump"
   ]
  },
  {
   "cell_type": "code",
   "execution_count": 11,
   "metadata": {},
   "outputs": [
    {
     "data": {
      "text/plain": [
       "9749"
      ]
     },
     "execution_count": 11,
     "metadata": {},
     "output_type": "execute_result"
    }
   ],
   "source": [
    "g = datastore.es_to_rdflib_graph()\n",
    "len(g)"
   ]
  },
  {
   "cell_type": "markdown",
   "metadata": {},
   "source": [
    "## 2. Convert to json file"
   ]
  },
  {
   "cell_type": "code",
   "execution_count": 15,
   "metadata": {},
   "outputs": [],
   "source": [
    "export_path = \"triples.json\""
   ]
  },
  {
   "cell_type": "code",
   "execution_count": 22,
   "metadata": {},
   "outputs": [],
   "source": [
    "# convert graph to networkx\n",
    "g_nx = rdflib_to_networkx_multidigraph(g)\n",
    "#nx.draw(g_nx, with_labels=False)"
   ]
  },
  {
   "cell_type": "code",
   "execution_count": 25,
   "metadata": {},
   "outputs": [],
   "source": [
    "# and then to json for d3\n",
    "links = json_graph.node_link_data(g_nx)['links']\n",
    "\n",
    "rdf_links = []\n",
    "\n",
    "for item in links:\n",
    "    s = item['source']\n",
    "    p = item['key']\n",
    "    o = item['target']\n",
    "    \n",
    "    rdf_links.append({'subject': s, 'predicate': p, 'object': o})\n",
    "    \n",
    "with open(export_path, \"w\") as f:\n",
    "    json.dump(rdf_links, f)\n"
   ]
  },
  {
   "cell_type": "markdown",
   "metadata": {},
   "source": [
    "## 3. SPARQL queries"
   ]
  },
  {
   "cell_type": "code",
   "execution_count": 38,
   "metadata": {},
   "outputs": [
    {
     "data": {
      "text/plain": [
       "[(rdflib.term.URIRef('https://collection.sciencemuseumgroup.org.uk/people/cp13963'),\n",
       "  rdflib.term.URIRef('http://www.w3.org/2001/XMLSchema#gender'),\n",
       "  rdflib.term.Literal('Female')),\n",
       " (rdflib.term.URIRef('https://collection.sciencemuseumgroup.org.uk/people/cp19506'),\n",
       "  rdflib.term.URIRef('http://www.w3.org/2001/XMLSchema#gender'),\n",
       "  rdflib.term.Literal('Female')),\n",
       " (rdflib.term.URIRef('https://collection.sciencemuseumgroup.org.uk/people/cp23767'),\n",
       "  rdflib.term.URIRef('http://www.w3.org/2001/XMLSchema#gender'),\n",
       "  rdflib.term.Literal('Female')),\n",
       " (rdflib.term.URIRef('https://collection.sciencemuseumgroup.org.uk/people/cp10803'),\n",
       "  rdflib.term.URIRef('http://www.w3.org/2001/XMLSchema#gender'),\n",
       "  rdflib.term.Literal('Female')),\n",
       " (rdflib.term.URIRef('https://collection.sciencemuseumgroup.org.uk/people/cp19797'),\n",
       "  rdflib.term.URIRef('http://www.w3.org/2001/XMLSchema#gender'),\n",
       "  rdflib.term.Literal('Female')),\n",
       " (rdflib.term.URIRef('https://collection.sciencemuseumgroup.org.uk/people/cp18982'),\n",
       "  rdflib.term.URIRef('http://www.w3.org/2001/XMLSchema#gender'),\n",
       "  rdflib.term.Literal('Female')),\n",
       " (rdflib.term.URIRef('https://collection.sciencemuseumgroup.org.uk/people/cp29214'),\n",
       "  rdflib.term.URIRef('http://www.w3.org/2001/XMLSchema#gender'),\n",
       "  rdflib.term.Literal('Female')),\n",
       " (rdflib.term.URIRef('https://collection.sciencemuseumgroup.org.uk/people/cp20094'),\n",
       "  rdflib.term.URIRef('http://www.w3.org/2001/XMLSchema#gender'),\n",
       "  rdflib.term.Literal('Female')),\n",
       " (rdflib.term.URIRef('https://collection.sciencemuseumgroup.org.uk/people/cp14308'),\n",
       "  rdflib.term.URIRef('http://www.w3.org/2001/XMLSchema#gender'),\n",
       "  rdflib.term.Literal('Female')),\n",
       " (rdflib.term.URIRef('https://collection.sciencemuseumgroup.org.uk/people/cp17001'),\n",
       "  rdflib.term.URIRef('http://www.w3.org/2001/XMLSchema#gender'),\n",
       "  rdflib.term.Literal('Female')),\n",
       " (rdflib.term.URIRef('https://collection.sciencemuseumgroup.org.uk/people/cp15383'),\n",
       "  rdflib.term.URIRef('http://www.w3.org/2001/XMLSchema#gender'),\n",
       "  rdflib.term.Literal('Female')),\n",
       " (rdflib.term.URIRef('https://collection.sciencemuseumgroup.org.uk/people/cp15958'),\n",
       "  rdflib.term.URIRef('http://www.w3.org/2001/XMLSchema#gender'),\n",
       "  rdflib.term.Literal('Female')),\n",
       " (rdflib.term.URIRef('https://collection.sciencemuseumgroup.org.uk/people/cp15594'),\n",
       "  rdflib.term.URIRef('http://www.w3.org/2001/XMLSchema#gender'),\n",
       "  rdflib.term.Literal('Female')),\n",
       " (rdflib.term.URIRef('https://collection.sciencemuseumgroup.org.uk/people/cp17288'),\n",
       "  rdflib.term.URIRef('http://www.w3.org/2001/XMLSchema#gender'),\n",
       "  rdflib.term.Literal('Female')),\n",
       " (rdflib.term.URIRef('https://collection.sciencemuseumgroup.org.uk/people/cp17013'),\n",
       "  rdflib.term.URIRef('http://www.w3.org/2001/XMLSchema#gender'),\n",
       "  rdflib.term.Literal('Female')),\n",
       " (rdflib.term.URIRef('https://collection.sciencemuseumgroup.org.uk/people/cp16715'),\n",
       "  rdflib.term.URIRef('http://www.w3.org/2001/XMLSchema#gender'),\n",
       "  rdflib.term.Literal('Female')),\n",
       " (rdflib.term.URIRef('https://collection.sciencemuseumgroup.org.uk/people/cp19558'),\n",
       "  rdflib.term.URIRef('http://www.w3.org/2001/XMLSchema#gender'),\n",
       "  rdflib.term.Literal('Female')),\n",
       " (rdflib.term.URIRef('https://collection.sciencemuseumgroup.org.uk/people/cp21108'),\n",
       "  rdflib.term.URIRef('http://www.w3.org/2001/XMLSchema#gender'),\n",
       "  rdflib.term.Literal('Female')),\n",
       " (rdflib.term.URIRef('https://collection.sciencemuseumgroup.org.uk/people/cp18161'),\n",
       "  rdflib.term.URIRef('http://www.w3.org/2001/XMLSchema#gender'),\n",
       "  rdflib.term.Literal('Female')),\n",
       " (rdflib.term.URIRef('https://collection.sciencemuseumgroup.org.uk/people/cp19042'),\n",
       "  rdflib.term.URIRef('http://www.w3.org/2001/XMLSchema#gender'),\n",
       "  rdflib.term.Literal('Female')),\n",
       " (rdflib.term.URIRef('https://collection.sciencemuseumgroup.org.uk/people/cp13325'),\n",
       "  rdflib.term.URIRef('http://www.w3.org/2001/XMLSchema#gender'),\n",
       "  rdflib.term.Literal('Female')),\n",
       " (rdflib.term.URIRef('https://collection.sciencemuseumgroup.org.uk/people/cp23732'),\n",
       "  rdflib.term.URIRef('http://www.w3.org/2001/XMLSchema#gender'),\n",
       "  rdflib.term.Literal('Female')),\n",
       " (rdflib.term.URIRef('https://collection.sciencemuseumgroup.org.uk/people/cp20120'),\n",
       "  rdflib.term.URIRef('http://www.w3.org/2001/XMLSchema#gender'),\n",
       "  rdflib.term.Literal('Female'))]"
      ]
     },
     "execution_count": 38,
     "metadata": {},
     "output_type": "execute_result"
    }
   ],
   "source": [
    "sparql_query = \"\"\"\n",
    "CONSTRUCT WHERE {\n",
    "    ?item xsd:gender \"Female\"\n",
    "}\n",
    "\n",
    "\"\"\"\n",
    "\n",
    "res = g.query(sparql_query)\n",
    "\n",
    "[row for row in res]"
   ]
  },
  {
   "cell_type": "code",
   "execution_count": null,
   "metadata": {},
   "outputs": [],
   "source": []
  }
 ],
 "metadata": {
  "kernelspec": {
   "display_name": "Python 3",
   "language": "python",
   "name": "python3"
  },
  "language_info": {
   "codemirror_mode": {
    "name": "ipython",
    "version": 3
   },
   "file_extension": ".py",
   "mimetype": "text/x-python",
   "name": "python",
   "nbconvert_exporter": "python",
   "pygments_lexer": "ipython3",
   "version": "3.7.4"
  }
 },
 "nbformat": 4,
 "nbformat_minor": 4
}
