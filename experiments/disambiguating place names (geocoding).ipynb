{
 "cells": [
  {
   "cell_type": "code",
   "execution_count": 1,
   "metadata": {},
   "outputs": [],
   "source": [
    "import geocoder\n",
    "import pandas as pd\n",
    "from collections import Counter\n",
    "from tqdm.auto import tqdm"
   ]
  },
  {
   "cell_type": "code",
   "execution_count": 2,
   "metadata": {},
   "outputs": [
    {
     "data": {
      "text/plain": [
       "Index(['LINK_ID', 'PREFERRED_NAME', 'TITLE_NAME', 'FIRSTMID_NAME',\n",
       "       'LASTSUFF_NAME', 'SUFFIX_NAME', 'HONORARY_SUFFIX', 'GENDER',\n",
       "       'BRIEF_BIO', 'DESCRIPTION', 'NOTE', 'BIRTH_DATE', 'BIRTH_PLACE',\n",
       "       'DEATH_DATE', 'DEATH_PLACE', 'CAUSE_OF_DEATH', 'NATIONALITY',\n",
       "       'OCCUPATION', 'WEBSITE', 'AFFILIATION', 'LINGUISTIC_GROUP', 'TYPE',\n",
       "       'REFERENCE_NUMBER', 'SOURCE', 'CREATE_DATE', 'UPDATE_DATE',\n",
       "       'res_ALL_NOTES', 'res_WIKIDATA_IDs', 'res_URLS', 'qcodes_filtered'],\n",
       "      dtype='object')"
      ]
     },
     "execution_count": 2,
     "metadata": {},
     "output_type": "execute_result"
    }
   ],
   "source": [
    "df = pd.read_pickle(\"../GITIGNORE_DATA/filtering_people_orgs_result.pkl\")\n",
    "df.columns"
   ]
  },
  {
   "cell_type": "code",
   "execution_count": 3,
   "metadata": {},
   "outputs": [],
   "source": [
    "def process_place_name(loc):\n",
    "    \"\"\"Split by semicolon and return unique values\"\"\"\n",
    "    if str(loc) == \"nan\":\n",
    "        return loc\n",
    "    else:\n",
    "        split = loc.split(\"; \")\n",
    "        return list(set(split))\n",
    "\n",
    "df[\"BIRTH_PLACE_list\"] = df[\"BIRTH_PLACE\"].apply(process_place_name)\n",
    "df[\"DEATH_PLACE_list\"] = df[\"DEATH_PLACE\"].apply(process_place_name)\n"
   ]
  },
  {
   "cell_type": "code",
   "execution_count": 4,
   "metadata": {},
   "outputs": [
    {
     "data": {
      "text/plain": [
       "3058"
      ]
     },
     "execution_count": 4,
     "metadata": {},
     "output_type": "execute_result"
    }
   ],
   "source": [
    "places_counts = Counter(df.BIRTH_PLACE_list.dropna().sum() + df.DEATH_PLACE_list.dropna().sum())\n",
    "places_unique = list(places_counts.keys())\n",
    "len(places_counts)"
   ]
  },
  {
   "cell_type": "code",
   "execution_count": 5,
   "metadata": {},
   "outputs": [
    {
     "data": {
      "text/plain": [
       "London, Greater London, England, United Kingdom                         12.017631\n",
       "England, United Kingdom                                                  4.075183\n",
       "United Kingdom                                                           3.093812\n",
       "Paris, Ville de Paris, Île-de-France, France                             2.278776\n",
       "France                                                                   1.871257\n",
       "                                                                          ...    \n",
       "Larbert, Stirling, Scotland, United Kingdom                              0.008317\n",
       "Beacon, Dutchess county, New York state, United States                   0.008317\n",
       "Fowey, Cornwall, England, United Kingdom                                 0.008317\n",
       "Finsbury, Islington, London, Greater London, England, United Kingdom     0.008317\n",
       "Broadheath, Trafford, Greater Manchester, England, United Kingdom        0.008317\n",
       "Length: 3058, dtype: float64"
      ]
     },
     "execution_count": 5,
     "metadata": {},
     "output_type": "execute_result"
    }
   ],
   "source": [
    "pd.Series(places_counts).sort_values(ascending=False) / sum(places_counts.values()) * 100"
   ]
  },
  {
   "cell_type": "code",
   "execution_count": null,
   "metadata": {},
   "outputs": [],
   "source": [
    "def get_id_and_countryid(loc: str):\n",
    "    g = geocoder.geonames(loc, key='heritageconnector')\n",
    "\n",
    "    if g.error:\n",
    "        raise Exception(f\"Rate limit met. {g.error}\")\n",
    "\n",
    "    try:\n",
    "        address = g.json.get('address', None)\n",
    "        # found label must be in requested label\n",
    "        # the API sometimes does weird things like 'sussex' -> 'eastbourne'\n",
    "        assert address in loc\n",
    "    except:\n",
    "        # try disambiguating one level up e.g. \"debden, essex, england\" -> \"essex, england\"\n",
    "        if \",\" in loc:\n",
    "            loc = \", \".join(loc.split(\", \")[1:])\n",
    "            return get_id_and_countryid(loc)\n",
    "        else:\n",
    "            return {}\n",
    "        \n",
    "    return {\"name\": loc, \"geonames_address\":address, \"geonames_id\": g.geonames_id, \"country_id\": g.json.get('raw', {}).get('countryId', None)}"
   ]
  },
  {
   "cell_type": "code",
   "execution_count": null,
   "metadata": {},
   "outputs": [],
   "source": [
    "results_list = []\n",
    "\n",
    "for place in tqdm(places_unique):\n",
    "    try:\n",
    "        results_list.append(get_id_and_countryid(place))\n",
    "    except Exception as e:\n",
    "        print(place)\n",
    "        raise e\n",
    "        break"
   ]
  },
  {
   "cell_type": "code",
   "execution_count": null,
   "metadata": {},
   "outputs": [],
   "source": [
    "pd.DataFrame(results_list)"
   ]
  },
  {
   "cell_type": "code",
   "execution_count": null,
   "metadata": {},
   "outputs": [],
   "source": []
  }
 ],
 "metadata": {
  "kernelspec": {
   "display_name": "Python 3",
   "language": "python",
   "name": "python3"
  },
  "language_info": {
   "codemirror_mode": {
    "name": "ipython",
    "version": 3
   },
   "file_extension": ".py",
   "mimetype": "text/x-python",
   "name": "python",
   "nbconvert_exporter": "python",
   "pygments_lexer": "ipython3",
   "version": "3.7.4"
  }
 },
 "nbformat": 4,
 "nbformat_minor": 4
}
