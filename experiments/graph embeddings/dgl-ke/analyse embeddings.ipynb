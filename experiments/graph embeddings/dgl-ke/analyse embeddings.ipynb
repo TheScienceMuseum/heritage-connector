{
 "cells": [
  {
   "cell_type": "code",
   "execution_count": 18,
   "metadata": {},
   "outputs": [],
   "source": [
    "import numpy as np\n",
    "import os\n",
    "import pandas as pd\n",
    "\n",
    "def load_map(path):\n",
    "    df = pd.read_csv(path, sep=\"\\t\")\n",
    "    return df"
   ]
  },
  {
   "cell_type": "code",
   "execution_count": 4,
   "metadata": {},
   "outputs": [],
   "source": [
    "models_folder = \"/Volumes/Kalyan_SSD/SMG/data/aws_data/\"\n",
    "model_path = \"TransE_hc1208_7\"\n",
    "\n",
    "path = os.path.join(models_folder, model_path)"
   ]
  },
  {
   "cell_type": "code",
   "execution_count": 5,
   "metadata": {},
   "outputs": [],
   "source": [
    "entities = np.load(os.path.join(path, \"hc1208_TransE_entity.npy\"))\n",
    "relations = np.load(os.path.join(path, \"hc1208_TransE_relation.npy\"))"
   ]
  },
  {
   "cell_type": "code",
   "execution_count": 7,
   "metadata": {},
   "outputs": [
    {
     "data": {
      "text/plain": [
       "(284122, 400)"
      ]
     },
     "execution_count": 7,
     "metadata": {},
     "output_type": "execute_result"
    }
   ],
   "source": [
    "# less than total no of entities?\n",
    "entities.shape"
   ]
  },
  {
   "cell_type": "code",
   "execution_count": 20,
   "metadata": {},
   "outputs": [],
   "source": [
    "e_map = load_map(os.path.join(path, \"entities.tsv\"))\n",
    "r_map = load_map(os.path.join(path, \"relations.tsv\"))"
   ]
  },
  {
   "cell_type": "code",
   "execution_count": 21,
   "metadata": {},
   "outputs": [
    {
     "data": {
      "text/html": [
       "<div>\n",
       "<style scoped>\n",
       "    .dataframe tbody tr th:only-of-type {\n",
       "        vertical-align: middle;\n",
       "    }\n",
       "\n",
       "    .dataframe tbody tr th {\n",
       "        vertical-align: top;\n",
       "    }\n",
       "\n",
       "    .dataframe thead th {\n",
       "        text-align: right;\n",
       "    }\n",
       "</style>\n",
       "<table border=\"1\" class=\"dataframe\">\n",
       "  <thead>\n",
       "    <tr style=\"text-align: right;\">\n",
       "      <th></th>\n",
       "      <th>0</th>\n",
       "      <th>&lt;https://collection.sciencemuseumgroup.org.uk/objects/co209934&gt;</th>\n",
       "    </tr>\n",
       "  </thead>\n",
       "  <tbody>\n",
       "    <tr>\n",
       "      <th>0</th>\n",
       "      <td>1</td>\n",
       "      <td>&lt;http://xmlns.com/foaf/0.1/knows&gt;</td>\n",
       "    </tr>\n",
       "    <tr>\n",
       "      <th>1</th>\n",
       "      <td>2</td>\n",
       "      <td>&lt;https://collection.sciencemuseumgroup.org.uk/...</td>\n",
       "    </tr>\n",
       "    <tr>\n",
       "      <th>2</th>\n",
       "      <td>3</td>\n",
       "      <td>&lt;https://collection.sciencemuseumgroup.org.uk/...</td>\n",
       "    </tr>\n",
       "    <tr>\n",
       "      <th>3</th>\n",
       "      <td>4</td>\n",
       "      <td>&lt;http://www.w3.org/2001/XMLSchema#material&gt;</td>\n",
       "    </tr>\n",
       "    <tr>\n",
       "      <th>4</th>\n",
       "      <td>5</td>\n",
       "      <td>&lt;https://collection.sciencemuseumgroup.org.uk/...</td>\n",
       "    </tr>\n",
       "    <tr>\n",
       "      <th>...</th>\n",
       "      <td>...</td>\n",
       "      <td>...</td>\n",
       "    </tr>\n",
       "    <tr>\n",
       "      <th>284116</th>\n",
       "      <td>284117</td>\n",
       "      <td>&lt;https://collection.sciencemuseumgroup.org.uk/...</td>\n",
       "    </tr>\n",
       "    <tr>\n",
       "      <th>284117</th>\n",
       "      <td>284118</td>\n",
       "      <td>&lt;https://collection.sciencemuseumgroup.org.uk/...</td>\n",
       "    </tr>\n",
       "    <tr>\n",
       "      <th>284118</th>\n",
       "      <td>284119</td>\n",
       "      <td>_:N34efc84664b747f78c070d428238db98</td>\n",
       "    </tr>\n",
       "    <tr>\n",
       "      <th>284119</th>\n",
       "      <td>284120</td>\n",
       "      <td>&lt;https://collection.sciencemuseumgroup.org.uk/...</td>\n",
       "    </tr>\n",
       "    <tr>\n",
       "      <th>284120</th>\n",
       "      <td>284121</td>\n",
       "      <td>&lt;https://collection.sciencemuseumgroup.org.uk/...</td>\n",
       "    </tr>\n",
       "  </tbody>\n",
       "</table>\n",
       "<p>284121 rows × 2 columns</p>\n",
       "</div>"
      ],
      "text/plain": [
       "             0 <https://collection.sciencemuseumgroup.org.uk/objects/co209934>\n",
       "0            1                  <http://xmlns.com/foaf/0.1/knows>             \n",
       "1            2  <https://collection.sciencemuseumgroup.org.uk/...             \n",
       "2            3  <https://collection.sciencemuseumgroup.org.uk/...             \n",
       "3            4        <http://www.w3.org/2001/XMLSchema#material>             \n",
       "4            5  <https://collection.sciencemuseumgroup.org.uk/...             \n",
       "...        ...                                                ...             \n",
       "284116  284117  <https://collection.sciencemuseumgroup.org.uk/...             \n",
       "284117  284118  <https://collection.sciencemuseumgroup.org.uk/...             \n",
       "284118  284119                _:N34efc84664b747f78c070d428238db98             \n",
       "284119  284120  <https://collection.sciencemuseumgroup.org.uk/...             \n",
       "284120  284121  <https://collection.sciencemuseumgroup.org.uk/...             \n",
       "\n",
       "[284121 rows x 2 columns]"
      ]
     },
     "execution_count": 21,
     "metadata": {},
     "output_type": "execute_result"
    }
   ],
   "source": [
    "e_map"
   ]
  },
  {
   "cell_type": "code",
   "execution_count": null,
   "metadata": {},
   "outputs": [],
   "source": []
  }
 ],
 "metadata": {
  "kernelspec": {
   "display_name": "Python 3",
   "language": "python",
   "name": "python3"
  },
  "language_info": {
   "codemirror_mode": {
    "name": "ipython",
    "version": 3
   },
   "file_extension": ".py",
   "mimetype": "text/x-python",
   "name": "python",
   "nbconvert_exporter": "python",
   "pygments_lexer": "ipython3",
   "version": "3.7.4"
  }
 },
 "nbformat": 4,
 "nbformat_minor": 4
}
