{
 "cells": [
  {
   "cell_type": "code",
   "execution_count": 1,
   "metadata": {},
   "outputs": [],
   "source": [
    "import numpy as np"
   ]
  },
  {
   "cell_type": "code",
   "execution_count": 2,
   "metadata": {},
   "outputs": [
    {
     "data": {
      "text/plain": [
       "array([[-0.16075581, -0.17571238,  0.34504825, ...,  0.04659903,\n",
       "        -0.00431065,  0.07706353],\n",
       "       [ 0.00167292,  0.23690903, -0.03077856, ..., -0.4487558 ,\n",
       "        -0.1373163 ,  0.328542  ],\n",
       "       [ 0.46972644, -0.12422456,  0.2518229 , ..., -0.03002504,\n",
       "        -0.04575275, -0.06809212],\n",
       "       ...,\n",
       "       [-0.38934636,  0.10734315,  0.41924626, ..., -0.19892101,\n",
       "         0.1601604 , -0.38628244],\n",
       "       [ 0.35450837, -0.15133037,  0.20831972, ..., -0.28141218,\n",
       "        -0.34140164,  0.41026998],\n",
       "       [ 0.5986333 , -0.33210415, -0.18657655, ...,  0.19685969,\n",
       "        -0.29193008,  0.21181981]], dtype=float32)"
      ]
     },
     "execution_count": 2,
     "metadata": {},
     "output_type": "execute_result"
    }
   ],
   "source": [
    "np.load('TransE_l1_hc1708_0/hc1708_TransE_l1_entity.npy')"
   ]
  },
  {
   "cell_type": "code",
   "execution_count": null,
   "metadata": {},
   "outputs": [],
   "source": []
  }
 ],
 "metadata": {
  "kernelspec": {
   "display_name": "Python 3",
   "language": "python",
   "name": "python3"
  },
  "language_info": {
   "codemirror_mode": {
    "name": "ipython",
    "version": 3
   },
   "file_extension": ".py",
   "mimetype": "text/x-python",
   "name": "python",
   "nbconvert_exporter": "python",
   "pygments_lexer": "ipython3",
   "version": "3.7.3"
  }
 },
 "nbformat": 4,
 "nbformat_minor": 4
}
