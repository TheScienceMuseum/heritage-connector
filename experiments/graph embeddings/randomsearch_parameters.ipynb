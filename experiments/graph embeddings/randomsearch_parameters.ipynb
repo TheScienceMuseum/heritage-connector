{
 "cells": [
  {
   "cell_type": "markdown",
   "metadata": {},
   "source": [
    "# Random Search of Parameters\n",
    "\n",
    "Method which takes in a dictionary of parameter values, and produces `n` sets of values through random sampling\n",
    "\n",
    "To get within *a*% of the true maximum, you need to run $n > \\frac{log(a)}{log(1-a)}$ trials [[ref]](https://stats.stackexchange.com/questions/160479/practical-hyperparameter-optimization-random-vs-grid-search). \n",
    "\n",
    "To get within 10% of the true maximum we need to run $n > 21.85$ trials. "
   ]
  },
  {
   "cell_type": "code",
   "execution_count": 17,
   "metadata": {},
   "outputs": [],
   "source": [
    "import numpy as np\n",
    "import itertools\n",
    "import datetime\n",
    "\n",
    "script_folder = \"./dgl-ke/scripts\""
   ]
  },
  {
   "cell_type": "markdown",
   "metadata": {},
   "source": [
    "## 1. Get parameters"
   ]
  },
  {
   "cell_type": "code",
   "execution_count": 23,
   "metadata": {},
   "outputs": [],
   "source": [
    "params = {\n",
    "    \"lr\": [0.001, 0.01, 0.1],\n",
    "    \"neg_adv\": [True, False],\n",
    "    \"hidden_dim\": [50, 100, 250, 400],\n",
    "    \"norm\": ['l1', 'l2'],\n",
    "    \"regularization_coef\": [2e-6, 2e-8],\n",
    "    \"gamma\": [1, 5, 10, 20],\n",
    "}"
   ]
  },
  {
   "cell_type": "code",
   "execution_count": 24,
   "metadata": {},
   "outputs": [],
   "source": [
    "def get_random_samples(params, n, replacement=False, seed=42):\n",
    "    all_keys = params.keys()\n",
    "    all_vals = [v for k,v in params.items()]\n",
    "    combinations = list(itertools.product(*all_vals))\n",
    "    \n",
    "    rnd = np.random.RandomState(seed)\n",
    "    res_list = [combinations[i] for i in rnd.choice(len(combinations), n, replace=replacement)]\n",
    "    all_res = []\n",
    "    \n",
    "    for p in res_list:\n",
    "        all_res.append( {k: p[i] for (i,k) in enumerate(all_keys)} )\n",
    "        \n",
    "    return all_res"
   ]
  },
  {
   "cell_type": "code",
   "execution_count": 25,
   "metadata": {},
   "outputs": [
    {
     "data": {
      "text/plain": [
       "[{'lr': 0.1,\n",
       "  'neg_adv': True,\n",
       "  'hidden_dim': 50,\n",
       "  'norm': 'l2',\n",
       "  'regularization_coef': 2e-08,\n",
       "  'gamma': 1},\n",
       " {'lr': 0.01,\n",
       "  'neg_adv': False,\n",
       "  'hidden_dim': 400,\n",
       "  'norm': 'l2',\n",
       "  'regularization_coef': 2e-06,\n",
       "  'gamma': 10},\n",
       " {'lr': 0.1,\n",
       "  'neg_adv': False,\n",
       "  'hidden_dim': 250,\n",
       "  'norm': 'l1',\n",
       "  'regularization_coef': 2e-06,\n",
       "  'gamma': 20}]"
      ]
     },
     "execution_count": 25,
     "metadata": {},
     "output_type": "execute_result"
    }
   ],
   "source": [
    "n = 22\n",
    "samples = get_random_samples(params, n)\n",
    "samples[0:3]"
   ]
  },
  {
   "cell_type": "markdown",
   "metadata": {},
   "source": [
    "## 2. Run DGL-KE on each of the parameter sets"
   ]
  },
  {
   "cell_type": "code",
   "execution_count": 22,
   "metadata": {},
   "outputs": [
    {
     "name": "stdout",
     "output_type": "stream",
     "text": [
      "hc1808\n"
     ]
    }
   ],
   "source": [
    "# fixed params\n",
    "DATA_PATH=\"~/data\"\n",
    "SAVE_PATH=\"~/data/results\"\n",
    "DATASET=\"hc1708\"\n",
    "FORMAT=\"raw_udd_htr\"\n",
    "\n",
    "LOG_INTERVAL=10000\n",
    "BATCH_SIZE=1000\n",
    "BATCH_SIZE_EVAL=16\n",
    "NEG_SAMPLE_SIZE=200\n"
   ]
  },
  {
   "cell_type": "code",
   "execution_count": null,
   "metadata": {},
   "outputs": [],
   "source": [
    "for idx, s in enumerate(samples[0:1]):\n",
    "    print(f\"---TEST {idx+1}---\")\n",
    "    \n",
    "    filename = f\"./run_{idx+1}.txt\"\n",
    "    model_name = f\"TransE_{s['norm']}\"\n",
    "    neg_adv_flag = '-adv' if s['neg_adv'] else ''\n",
    "\n",
    "    ! dglke_train --model_name {model_name} --data_path {DATA_PATH} --save_path {SAVE_PATH}  --dataset {DATASET}  --format {FORMAT} \\\n",
    "    --data_files train.txt valid.txt test.txt \\\n",
    "    --log_interval {LOG_INTERVAL} --batch_size {BATCH_SIZE} --batch_size_eval {BATCH_SIZE_EVAL} --neg_sample_size {NEG_SAMPLE_SIZE} \\\n",
    "    --lr {s['lr']} {neg_adv_flag} --hidden_dim {s['hidden_dim']} -rc {s['regularization_coef']} -g {s['gamma']}\n",
    "    --gpu 0 --test --mix_cpu_gpu --async_update |& tee {filename}\n",
    "    "
   ]
  },
  {
   "cell_type": "code",
   "execution_count": null,
   "metadata": {},
   "outputs": [],
   "source": []
  }
 ],
 "metadata": {
  "kernelspec": {
   "display_name": "Python 3",
   "language": "python",
   "name": "python3"
  },
  "language_info": {
   "codemirror_mode": {
    "name": "ipython",
    "version": 3
   },
   "file_extension": ".py",
   "mimetype": "text/x-python",
   "name": "python",
   "nbconvert_exporter": "python",
   "pygments_lexer": "ipython3",
   "version": "3.7.4"
  }
 },
 "nbformat": 4,
 "nbformat_minor": 4
}
