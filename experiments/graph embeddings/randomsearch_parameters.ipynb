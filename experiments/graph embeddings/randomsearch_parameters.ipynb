{
 "cells": [
  {
   "cell_type": "markdown",
   "metadata": {},
   "source": [
    "# Random Search of Parameters\n",
    "\n",
    "Method which takes in a dictionary of parameter values, and produces `n` sets of values through random sampling"
   ]
  },
  {
   "cell_type": "code",
   "execution_count": 14,
   "metadata": {},
   "outputs": [],
   "source": [
    "import numpy as np\n",
    "import itertools"
   ]
  },
  {
   "cell_type": "code",
   "execution_count": 48,
   "metadata": {},
   "outputs": [],
   "source": [
    "params = {\n",
    "    \"lr\": [0.001, 0.01, 0.1],\n",
    "    \"neg_adv\": [True, False],\n",
    "    \"hidden_dim\": [50, 100, 250, 400],\n",
    "    \"norm\": ['L1', 'L2'],\n",
    "    \"regularization_coef\": [2e-6, 2e-8],\n",
    "    \"gamma\": [1, 5, 10, 20],\n",
    "}"
   ]
  },
  {
   "cell_type": "code",
   "execution_count": 49,
   "metadata": {},
   "outputs": [],
   "source": [
    "def get_random_samples(params, n, replacement=False):\n",
    "    all_keys = params.keys()\n",
    "    all_vals = [v for k,v in params.items()]\n",
    "    combinations = list(itertools.product(*all_vals))\n",
    "    \n",
    "    res_list = [combinations[i] for i in np.random.choice(len(combinations), n, replace=replacement)]\n",
    "    all_res = []\n",
    "    \n",
    "    for p in res_list:\n",
    "        all_res.append( {k: p[i] for (i,k) in enumerate(all_keys)} )\n",
    "        \n",
    "    return all_res"
   ]
  },
  {
   "cell_type": "code",
   "execution_count": 51,
   "metadata": {},
   "outputs": [
    {
     "data": {
      "text/plain": [
       "[{'lr': 0.01,\n",
       "  'neg_adv': False,\n",
       "  'hidden_dim': 400,\n",
       "  'norm': 'L2',\n",
       "  'regularization_coef': 2e-06,\n",
       "  'gamma': 5},\n",
       " {'lr': 0.1,\n",
       "  'neg_adv': True,\n",
       "  'hidden_dim': 50,\n",
       "  'norm': 'L1',\n",
       "  'regularization_coef': 2e-08,\n",
       "  'gamma': 1},\n",
       " {'lr': 0.1,\n",
       "  'neg_adv': True,\n",
       "  'hidden_dim': 400,\n",
       "  'norm': 'L2',\n",
       "  'regularization_coef': 2e-08,\n",
       "  'gamma': 20},\n",
       " {'lr': 0.001,\n",
       "  'neg_adv': True,\n",
       "  'hidden_dim': 400,\n",
       "  'norm': 'L1',\n",
       "  'regularization_coef': 2e-08,\n",
       "  'gamma': 10},\n",
       " {'lr': 0.1,\n",
       "  'neg_adv': True,\n",
       "  'hidden_dim': 100,\n",
       "  'norm': 'L1',\n",
       "  'regularization_coef': 2e-08,\n",
       "  'gamma': 10}]"
      ]
     },
     "execution_count": 51,
     "metadata": {},
     "output_type": "execute_result"
    }
   ],
   "source": [
    "get_random_samples(params, 5)"
   ]
  },
  {
   "cell_type": "code",
   "execution_count": null,
   "metadata": {},
   "outputs": [],
   "source": []
  }
 ],
 "metadata": {
  "kernelspec": {
   "display_name": "Python 3",
   "language": "python",
   "name": "python3"
  },
  "language_info": {
   "codemirror_mode": {
    "name": "ipython",
    "version": 3
   },
   "file_extension": ".py",
   "mimetype": "text/x-python",
   "name": "python",
   "nbconvert_exporter": "python",
   "pygments_lexer": "ipython3",
   "version": "3.7.4"
  }
 },
 "nbformat": 4,
 "nbformat_minor": 4
}
