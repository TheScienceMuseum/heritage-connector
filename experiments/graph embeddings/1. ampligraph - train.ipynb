{
 "cells": [
  {
   "cell_type": "markdown",
   "metadata": {},
   "source": [
    "# Training TransE model in Ampligraph\n",
    "07/08/20. HC contains ~30% people/orgs connected to Wikidata."
   ]
  },
  {
   "cell_type": "markdown",
   "metadata": {},
   "source": [
    "## 1. Import data"
   ]
  },
  {
   "cell_type": "code",
   "execution_count": 1,
   "metadata": {},
   "outputs": [],
   "source": [
    "from ampligraph.datasets import load_from_csv, load_from_ntriples\n",
    "import numpy as np"
   ]
  },
  {
   "cell_type": "code",
   "execution_count": 2,
   "metadata": {},
   "outputs": [
    {
     "data": {
      "text/plain": [
       "array([['<https://collection.sciencemuseumgroup.org.uk/objects/co8437506>',\n",
       "        '<http://xmlns.com/foaf/0.1/maker>',\n",
       "        '<https://collection.sciencemuseumgroup.org.uk/people/cp127630>'],\n",
       "       ['<https://collection.sciencemuseumgroup.org.uk/objects/co58651>',\n",
       "        '<http://www.w3.org/2001/XMLSchema#additionalType>',\n",
       "        'polariscope'],\n",
       "       ['<https://collection.sciencemuseumgroup.org.uk/objects/co415797>',\n",
       "        '<http://xmlns.com/foaf/0.1/maker>',\n",
       "        '<https://collection.sciencemuseumgroup.org.uk/people/cp1390>'],\n",
       "       ['<https://collection.sciencemuseumgroup.org.uk/objects/co86084>',\n",
       "        '<http://www.w3.org/2001/XMLSchema#material>',\n",
       "        'earthenware (tin glazed)'],\n",
       "       ['<https://collection.sciencemuseumgroup.org.uk/objects/co192556>',\n",
       "        '<http://www.w3.org/2001/XMLSchema#name>',\n",
       "        'Two packets of Cephos powders, England, 1955-1975']],\n",
       "      dtype=object)"
      ]
     },
     "execution_count": 2,
     "metadata": {},
     "output_type": "execute_result"
    }
   ],
   "source": [
    "data_folder = \"/Volumes/Kalyan_SSD/SMG/\"\n",
    "csv_name = \"hc_dump_100820.csv\"\n",
    "nt_name = \"hc_dump_100820.nt\"\n",
    "\n",
    "#X = load_from_csv(data_folder, csv_name, sep='\\t')\n",
    "X = load_from_ntriples(data_folder, nt_name)\n",
    "X[:5, ]"
   ]
  },
  {
   "cell_type": "code",
   "execution_count": 3,
   "metadata": {},
   "outputs": [
    {
     "data": {
      "text/plain": [
       "array(['<http://www.w3.org/2001/XMLSchema#additionalType>',\n",
       "       '<http://www.w3.org/2001/XMLSchema#birthDate>',\n",
       "       '<http://www.w3.org/2001/XMLSchema#birthPlace>',\n",
       "       '<http://www.w3.org/2001/XMLSchema#deathDate>',\n",
       "       '<http://www.w3.org/2001/XMLSchema#deathPlace>'], dtype='<U495')"
      ]
     },
     "execution_count": 3,
     "metadata": {},
     "output_type": "execute_result"
    }
   ],
   "source": [
    "X = X.astype(np.str)\n",
    "\n",
    "# np.unique below doesn't work with a mix of str & float\n",
    "entities = np.unique(np.concatenate([X[:,0], X[:,2]]))\n",
    "relations = np.unique(X[:,1])\n",
    "relations[0:5]"
   ]
  },
  {
   "cell_type": "markdown",
   "metadata": {},
   "source": [
    "## 2. Train-test split"
   ]
  },
  {
   "cell_type": "code",
   "execution_count": 4,
   "metadata": {},
   "outputs": [],
   "source": [
    "from ampligraph.evaluation import train_test_split_no_unseen"
   ]
  },
  {
   "cell_type": "code",
   "execution_count": 5,
   "metadata": {},
   "outputs": [
    {
     "name": "stdout",
     "output_type": "stream",
     "text": [
      "Train set size:  (1258813, 3)\n",
      "Test set size:  (1000, 3)\n"
     ]
    }
   ],
   "source": [
    "X_train, X_test = train_test_split_no_unseen(X, test_size=1000) \n",
    "\n",
    "print('Train set size: ', X_train.shape)\n",
    "print('Test set size: ', X_test.shape)"
   ]
  },
  {
   "cell_type": "markdown",
   "metadata": {},
   "source": [
    "## 3. Train TransE"
   ]
  },
  {
   "cell_type": "code",
   "execution_count": 6,
   "metadata": {},
   "outputs": [],
   "source": [
    "from ampligraph.latent_features import TransE"
   ]
  },
  {
   "cell_type": "code",
   "execution_count": 7,
   "metadata": {},
   "outputs": [],
   "source": [
    "model = TransE(batches_count=500, \n",
    "               seed=42,\n",
    "               epochs=20, \n",
    "               k=50, \n",
    "               optimizer='sgd', \n",
    "               loss='pairwise', \n",
    "               loss_params={'margin':5}, \n",
    "               verbose=True)\n",
    "\n",
    "positives_filter = X"
   ]
  },
  {
   "cell_type": "code",
   "execution_count": 18,
   "metadata": {},
   "outputs": [
    {
     "name": "stdout",
     "output_type": "stream",
     "text": [
      "WARNING - Your graph has a large number of distinct entities. Found 616233 distinct entities\n",
      "WARNING - Changing the variable initialization strategy.\n",
      "WARNING - Changing the strategy to use lazy loading of variables...\n",
      "WARNING - Only 5036 embeddings would be loaded in memory per batch...\n"
     ]
    },
    {
     "name": "stderr",
     "output_type": "stream",
     "text": [
      "Average Loss:   2.360491: 100%|██████████| 20/20 [06:15<00:00, 18.76s/epoch]\n"
     ]
    }
   ],
   "source": [
    "model.fit(X_train)"
   ]
  },
  {
   "cell_type": "markdown",
   "metadata": {},
   "source": [
    "## 4. Evaluate"
   ]
  },
  {
   "cell_type": "code",
   "execution_count": 16,
   "metadata": {},
   "outputs": [],
   "source": [
    "from ampligraph.evaluation import evaluate_performance"
   ]
  },
  {
   "cell_type": "code",
   "execution_count": 19,
   "metadata": {},
   "outputs": [],
   "source": [
    "# 50k entities used for synthetic negative creation as recommended in https://github.com/Accenture/AmpliGraph/issues/186\n",
    "subset = np.random.choice(entities, size=50000) "
   ]
  },
  {
   "cell_type": "code",
   "execution_count": null,
   "metadata": {},
   "outputs": [],
   "source": [
    "ranks = evaluate_performance(X_test, \n",
    "                             model=model, \n",
    "                             filter_triples=positives_filter,   # Corruption strategy filter defined above \n",
    "                             entities_subset=subset,\n",
    "                             corrupt_side=(\"s\", \"o\"), # corrupt subj and obj separately while evaluating\n",
    "                             verbose=True)"
   ]
  },
  {
   "cell_type": "code",
   "execution_count": 18,
   "metadata": {},
   "outputs": [
    {
     "name": "stdout",
     "output_type": "stream",
     "text": [
      "MRR: 0.00\n",
      "Hits@10: 0.00\n",
      "Hits@3: 0.00\n",
      "Hits@1: 0.00\n"
     ]
    }
   ],
   "source": [
    "from ampligraph.evaluation import mr_score, mrr_score, hits_at_n_score\n",
    "\n",
    "mrr = mrr_score(ranks)\n",
    "print(\"MRR: %.2f\" % (mrr))\n",
    "\n",
    "hits_10 = hits_at_n_score(ranks, n=10)\n",
    "print(\"Hits@10: %.2f\" % (hits_10))\n",
    "hits_3 = hits_at_n_score(ranks, n=3)\n",
    "print(\"Hits@3: %.2f\" % (hits_3))\n",
    "hits_1 = hits_at_n_score(ranks, n=1)\n",
    "print(\"Hits@1: %.2f\" % (hits_1))\n"
   ]
  },
  {
   "cell_type": "markdown",
   "metadata": {},
   "source": [
    "## 5. Inference"
   ]
  },
  {
   "cell_type": "code",
   "execution_count": 22,
   "metadata": {},
   "outputs": [],
   "source": [
    "from ampligraph.discovery import query_topn"
   ]
  },
  {
   "cell_type": "code",
   "execution_count": 23,
   "metadata": {},
   "outputs": [
    {
     "name": "stdout",
     "output_type": "stream",
     "text": [
      "WARNING - Your graph has a large number of distinct entities. Found 616233 distinct entities\n",
      "WARNING - Changing the variable loading strategy to use lazy loading of variables...\n",
      "WARNING - Evaluation would take longer than usual.\n"
     ]
    },
    {
     "name": "stderr",
     "output_type": "stream",
     "text": [
      "100%|██████████| 616233/616233 [04:13<00:00, 2431.99it/s]\n"
     ]
    },
    {
     "data": {
      "text/plain": [
       "(array([['<https://collection.sciencemuseumgroup.org.uk/people/cp36993>',\n",
       "         '<http://www.w3.org/2001/XMLSchema#birthDate>',\n",
       "         '1917.0^^<http://www.w3.org/2001/XMLSchema#double>'],\n",
       "        ['<https://collection.sciencemuseumgroup.org.uk/people/cp36993>',\n",
       "         '<http://www.w3.org/2001/XMLSchema#birthDate>',\n",
       "         '1820.0^^<http://www.w3.org/2001/XMLSchema#double>'],\n",
       "        ['<https://collection.sciencemuseumgroup.org.uk/people/cp36993>',\n",
       "         '<http://www.w3.org/2001/XMLSchema#birthDate>',\n",
       "         '1810.0^^<http://www.w3.org/2001/XMLSchema#double>'],\n",
       "        ['<https://collection.sciencemuseumgroup.org.uk/people/cp36993>',\n",
       "         '<http://www.w3.org/2001/XMLSchema#birthDate>',\n",
       "         '1788.0^^<http://www.w3.org/2001/XMLSchema#double>'],\n",
       "        ['<https://collection.sciencemuseumgroup.org.uk/people/cp36993>',\n",
       "         '<http://www.w3.org/2001/XMLSchema#birthDate>',\n",
       "         '1872.0^^<http://www.w3.org/2001/XMLSchema#double>'],\n",
       "        ['<https://collection.sciencemuseumgroup.org.uk/people/cp36993>',\n",
       "         '<http://www.w3.org/2001/XMLSchema#birthDate>',\n",
       "         '1894.0^^<http://www.w3.org/2001/XMLSchema#double>'],\n",
       "        ['<https://collection.sciencemuseumgroup.org.uk/people/cp36993>',\n",
       "         '<http://www.w3.org/2001/XMLSchema#birthDate>',\n",
       "         '1925.0^^<http://www.w3.org/2001/XMLSchema#double>'],\n",
       "        ['<https://collection.sciencemuseumgroup.org.uk/people/cp36993>',\n",
       "         '<http://www.w3.org/2001/XMLSchema#birthDate>',\n",
       "         '1834.0^^<http://www.w3.org/2001/XMLSchema#double>'],\n",
       "        ['<https://collection.sciencemuseumgroup.org.uk/people/cp36993>',\n",
       "         '<http://www.w3.org/2001/XMLSchema#birthDate>',\n",
       "         '1880.0^^<http://www.w3.org/2001/XMLSchema#double>'],\n",
       "        ['<https://collection.sciencemuseumgroup.org.uk/people/cp36993>',\n",
       "         '<http://www.w3.org/2001/XMLSchema#birthDate>',\n",
       "         '1817.0^^<http://www.w3.org/2001/XMLSchema#double>']],\n",
       "       dtype='<U495'),\n",
       " array([-2.3197298, -2.3541205, -2.3920014, -2.484775 , -2.4901845,\n",
       "        -2.494243 , -2.5213   , -2.5240812, -2.5289578, -2.564571 ],\n",
       "       dtype=float32))"
      ]
     },
     "execution_count": 23,
     "metadata": {},
     "output_type": "execute_result"
    }
   ],
   "source": [
    "# when was charles babbage born?\n",
    "subj = \"<https://collection.sciencemuseumgroup.org.uk/people/cp36993>\" # babbage\n",
    "pred = \"<http://www.w3.org/2001/XMLSchema#birthDate>\"\n",
    "# correct answer is 1791\n",
    "query_topn(model, top_n=10, head=subj, relation=pred, tail=None, ents_to_consider=None, rels_to_consider=None)"
   ]
  },
  {
   "cell_type": "code",
   "execution_count": 24,
   "metadata": {},
   "outputs": [
    {
     "name": "stdout",
     "output_type": "stream",
     "text": [
      "WARNING - Your graph has a large number of distinct entities. Found 616233 distinct entities\n",
      "WARNING - Changing the variable loading strategy to use lazy loading of variables...\n",
      "WARNING - Evaluation would take longer than usual.\n"
     ]
    },
    {
     "name": "stderr",
     "output_type": "stream",
     "text": [
      "100%|██████████| 616233/616233 [04:11<00:00, 2454.13it/s]\n"
     ]
    },
    {
     "data": {
      "text/plain": [
       "(array([['<https://collection.sciencemuseumgroup.org.uk/objects/co133199>',\n",
       "         '<http://www.w3.org/2001/XMLSchema#material>', 'glass'],\n",
       "        ['<https://collection.sciencemuseumgroup.org.uk/objects/co133199>',\n",
       "         '<http://www.w3.org/2001/XMLSchema#material>', 'steel'],\n",
       "        ['<https://collection.sciencemuseumgroup.org.uk/objects/co133199>',\n",
       "         '<http://www.w3.org/2001/XMLSchema#material>', 'paper'],\n",
       "        ['<https://collection.sciencemuseumgroup.org.uk/objects/co133199>',\n",
       "         '<http://www.w3.org/2001/XMLSchema#material>', 'wood'],\n",
       "        ['<https://collection.sciencemuseumgroup.org.uk/objects/co133199>',\n",
       "         '<http://www.w3.org/2001/XMLSchema#material>', 'brass'],\n",
       "        ['<https://collection.sciencemuseumgroup.org.uk/objects/co133199>',\n",
       "         '<http://www.w3.org/2001/XMLSchema#material>', 'metal'],\n",
       "        ['<https://collection.sciencemuseumgroup.org.uk/objects/co133199>',\n",
       "         '<http://www.w3.org/2001/XMLSchema#material>', 'metal (unknown)'],\n",
       "        ['<https://collection.sciencemuseumgroup.org.uk/objects/co133199>',\n",
       "         '<http://www.w3.org/2001/XMLSchema#material>',\n",
       "         'paper (fibre product)'],\n",
       "        ['<https://collection.sciencemuseumgroup.org.uk/objects/co133199>',\n",
       "         '<http://www.w3.org/2001/XMLSchema#material>', 'complete'],\n",
       "        ['<https://collection.sciencemuseumgroup.org.uk/objects/co133199>',\n",
       "         '<http://www.w3.org/2001/XMLSchema#material>',\n",
       "         'wood (unidentified)']], dtype='<U495'),\n",
       " array([-2.9827502, -3.7292488, -3.9954512, -4.528742 , -6.260298 ,\n",
       "        -6.3236547, -6.603527 , -6.78125  , -7.2180686, -7.5298147],\n",
       "       dtype=float32))"
      ]
     },
     "execution_count": 24,
     "metadata": {},
     "output_type": "execute_result"
    }
   ],
   "source": [
    "# what are the materials of this metal perfume bottle?\n",
    "subj = \"<https://collection.sciencemuseumgroup.org.uk/objects/co133199>\"\n",
    "pred = \"<http://www.w3.org/2001/XMLSchema#material>\"\n",
    "\n",
    "query_topn(model, top_n=10, head=subj, relation=pred, tail=None, ents_to_consider=None, rels_to_consider=None)"
   ]
  },
  {
   "cell_type": "markdown",
   "metadata": {},
   "source": [
    "## appendix: memory consumption"
   ]
  },
  {
   "cell_type": "code",
   "execution_count": 20,
   "metadata": {},
   "outputs": [
    {
     "data": {
      "text/plain": [
       "[('X', 7483.289332),\n",
       " ('positives_filter', 7483.289332),\n",
       " ('X_train', 7477.349332),\n",
       " ('entities', 1220.141436),\n",
       " ('subset', 99.000096),\n",
       " ('X_test', 5.940112),\n",
       " ('relations', 0.029796),\n",
       " ('TransE', 0.002008),\n",
       " ('var_list', 0.000272),\n",
       " ('load_from_csv', 0.000144),\n",
       " ('load_from_ntriples', 0.000144),\n",
       " ('train_test_split_no_unseen', 0.000144),\n",
       " ('np', 8.8e-05),\n",
       " ('data_folder', 7.3e-05),\n",
       " ('csv_name', 6.7e-05),\n",
       " ('nt_name', 6.6e-05),\n",
       " ('model', 6.4e-05),\n",
       " ('unit', 2.4e-05)]"
      ]
     },
     "execution_count": 20,
     "metadata": {},
     "output_type": "execute_result"
    }
   ],
   "source": [
    "import sys\n",
    "\n",
    "# These are the usual ipython objects, including this one you are creating\n",
    "ipython_vars = ['In', 'Out', 'exit', 'quit', 'get_ipython', 'ipython_vars']\n",
    "\n",
    "# Get a sorted list of the objects and their sizes (MB)\n",
    "unit = 1e6\n",
    "var_list = sorted([(x, sys.getsizeof(globals().get(x))/unit) for x in dir() if not x.startswith('_') and x not in sys.modules and x not in ipython_vars], key=lambda x: x[1], reverse=True)\n",
    "var_list"
   ]
  },
  {
   "cell_type": "code",
   "execution_count": 21,
   "metadata": {},
   "outputs": [
    {
     "data": {
      "text/plain": [
       "23769.042530000006"
      ]
     },
     "execution_count": 21,
     "metadata": {},
     "output_type": "execute_result"
    }
   ],
   "source": [
    "sum([item[1] for item in var_list])"
   ]
  },
  {
   "cell_type": "code",
   "execution_count": null,
   "metadata": {},
   "outputs": [],
   "source": []
  }
 ],
 "metadata": {
  "kernelspec": {
   "display_name": "Python 3",
   "language": "python",
   "name": "python3"
  },
  "language_info": {
   "codemirror_mode": {
    "name": "ipython",
    "version": 3
   },
   "file_extension": ".py",
   "mimetype": "text/x-python",
   "name": "python",
   "nbconvert_exporter": "python",
   "pygments_lexer": "ipython3",
   "version": "3.7.4"
  }
 },
 "nbformat": 4,
 "nbformat_minor": 4
}
