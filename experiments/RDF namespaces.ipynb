{
 "cells": [
  {
   "cell_type": "markdown",
   "metadata": {},
   "source": [
    "# RDFlib namespaces"
   ]
  },
  {
   "cell_type": "code",
   "execution_count": 5,
   "metadata": {},
   "outputs": [],
   "source": [
    "import sys\n",
    "sys.path.append(\"../../..\")\n",
    "\n",
    "from heritageconnector import datastore\n",
    "\n",
    "from rdflib import Graph, Literal, URIRef\n",
    "from rdflib.namespace import XSD, FOAF, OWL, RDF, PROV"
   ]
  },
  {
   "cell_type": "code",
   "execution_count": 4,
   "metadata": {},
   "outputs": [],
   "source": [
    "context = [\n",
    "    {\"@foaf\": \"http://xmlns.com/foaf/0.1/\", \"@language\": \"en\"},\n",
    "    {\"@sdo\": \"https://schema.org/\", \"@language\": \"en\"},\n",
    "    {\"@owl\": \"http://www.w3.org/2002/07/owl#\", \"@language\": \"en\"},\n",
    "    {\"@xsd\": \"http://www.w3.org/2001/XMLSchema#\", \"@language\": \"en\"},\n",
    "    {\"@wd\": \"http://www.wikidata.org/entity/\", \"@language\": \"en\"},\n",
    "    {\"@wdt\": \"http://www.wikidata.org/prop/direct/\", \"@language\": \"en\"},\n",
    "    {\"@prov\": \"http://www.w3.org/ns/prov#\", \"@language\": \"en\"},\n",
    "]\n"
   ]
  },
  {
   "cell_type": "code",
   "execution_count": 12,
   "metadata": {},
   "outputs": [
    {
     "name": "stdout",
     "output_type": "stream",
     "text": [
      "4972\n"
     ]
    },
    {
     "data": {
      "text/plain": [
       "[('xml', rdflib.term.URIRef('http://www.w3.org/XML/1998/namespace')),\n",
       " ('rdf', rdflib.term.URIRef('http://www.w3.org/1999/02/22-rdf-syntax-ns#')),\n",
       " ('rdfs', rdflib.term.URIRef('http://www.w3.org/2000/01/rdf-schema#')),\n",
       " ('xsd', rdflib.term.URIRef('http://www.w3.org/2001/XMLSchema#')),\n",
       " ('@foaf', rdflib.term.URIRef('http://xmlns.com/foaf/0.1/')),\n",
       " ('@sdo', rdflib.term.URIRef('https://schema.org/')),\n",
       " ('@owl', rdflib.term.URIRef('http://www.w3.org/2002/07/owl#')),\n",
       " ('@xsd', rdflib.term.URIRef('http://www.w3.org/2001/XMLSchema#')),\n",
       " ('@wd', rdflib.term.URIRef('http://www.wikidata.org/entity/')),\n",
       " ('@wdt', rdflib.term.URIRef('http://www.wikidata.org/prop/direct/')),\n",
       " ('@prov', rdflib.term.URIRef('http://www.w3.org/ns/prov#'))]"
      ]
     },
     "execution_count": 12,
     "metadata": {},
     "output_type": "execute_result"
    }
   ],
   "source": [
    "g = datastore.get_graph_by_type('PERSON')\n",
    "\n",
    "[n for n in g.namespace_manager.namespaces()]"
   ]
  },
  {
   "cell_type": "code",
   "execution_count": 19,
   "metadata": {},
   "outputs": [
    {
     "data": {
      "text/plain": [
       "('@xsd', rdflib.term.URIRef('http://www.w3.org/2001/XMLSchema#'), 'deathPlace')"
      ]
     },
     "execution_count": 19,
     "metadata": {},
     "output_type": "execute_result"
    }
   ],
   "source": [
    "g.namespace_manager.compute_qname(\"http://www.w3.org/2001/XMLSchema#deathPlace\", generate=False)"
   ]
  },
  {
   "cell_type": "code",
   "execution_count": 20,
   "metadata": {},
   "outputs": [
    {
     "data": {
      "text/plain": [
       "True"
      ]
     },
     "execution_count": 20,
     "metadata": {},
     "output_type": "execute_result"
    }
   ],
   "source": [
    "URIRef('http://www.w3.org/2001/XMLSchema#deathPlace') == XSD.deathPlace"
   ]
  },
  {
   "cell_type": "code",
   "execution_count": null,
   "metadata": {},
   "outputs": [],
   "source": []
  }
 ],
 "metadata": {
  "kernelspec": {
   "display_name": "Python 3",
   "language": "python",
   "name": "python3"
  },
  "language_info": {
   "codemirror_mode": {
    "name": "ipython",
    "version": 3
   },
   "file_extension": ".py",
   "mimetype": "text/x-python",
   "name": "python",
   "nbconvert_exporter": "python",
   "pygments_lexer": "ipython3",
   "version": "3.7.4"
  }
 },
 "nbformat": 4,
 "nbformat_minor": 4
}
