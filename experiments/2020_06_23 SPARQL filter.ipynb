{
 "cells": [
  {
   "cell_type": "markdown",
   "metadata": {},
   "source": [
    "# Filtering records using SPARQL"
   ]
  },
  {
   "cell_type": "code",
   "execution_count": 1,
   "metadata": {},
   "outputs": [],
   "source": [
    "%load_ext autoreload\n",
    "%autoreload 2"
   ]
  },
  {
   "cell_type": "code",
   "execution_count": 2,
   "metadata": {},
   "outputs": [
    {
     "data": {
      "text/plain": [
       "10352"
      ]
     },
     "execution_count": 2,
     "metadata": {},
     "output_type": "execute_result"
    }
   ],
   "source": [
    "import sys\n",
    "sys.path.append(\"..\")\n",
    "import pandas as pd\n",
    "import re\n",
    "from fuzzywuzzy import fuzz\n",
    "from heritageconnector.utils.sparql import get_sparql_results\n",
    "\n",
    "pd.set_option('display.max_colwidth', None)\n",
    "pd.set_option('display.max_columns', None)\n",
    "\n",
    "endpoint_url = \"https://query.wikidata.org/sparql\"\n",
    "\n",
    "df = pd.read_pickle(\"../GITIGNORE_DATA/lookup_result.pkl\")\n",
    "people_df = df[df['GENDER'].isin([\"M\", \"F\"])]\n",
    "\n",
    "len(people_df)"
   ]
  },
  {
   "cell_type": "code",
   "execution_count": 3,
   "metadata": {},
   "outputs": [],
   "source": [
    "map_ids = lambda ids: \", \".join([f\"wd:{i}\" for i in ids])\n",
    "map_ids_values = lambda ids: \" \".join([f\"(wd:{i})\" for i in ids])\n",
    "\n",
    "def return_labels_aliases_by_property(query_ids, property_id, include_class_tree):\n",
    "    \n",
    "    class_tree = \"/wdt:P279*\" if include_class_tree else \"\"\n",
    "        \n",
    "    query = f\"\"\"\n",
    "    SELECT ?item ?itemLabel ?altLabel\n",
    "            WHERE\n",
    "            {{\n",
    "                VALUES (?item) {{ {map_ids_values(query_ids)} }}\n",
    "                ?item wdt:P31{class_tree} wd:{property_id}.\n",
    "                ?item skos:altLabel ?altLabel .\n",
    "                FILTER (lang(?altLabel) = \"en\")\n",
    "\n",
    "                SERVICE wikibase:label {{ \n",
    "                  bd:serviceParam wikibase:language \"en\" .\n",
    "                }}\n",
    "            }} \n",
    "    GROUP BY ?item ?itemLabel ?altLabel\n",
    "    \"\"\"\n",
    "    res = get_sparql_results(endpoint_url, query)['results']['bindings']\n",
    "    \n",
    "    res_df = pd.json_normalize(res)\n",
    "    res_df['qcode'] = res_df['item.value'].apply(lambda x: re.findall(r\"(Q\\d+)\", x)[0])\n",
    "    res_df = res_df[['qcode', 'itemLabel.value', 'altLabel.value']]\n",
    "    # convert aliases to lowercase and drop duplicates\n",
    "    res_df['altLabel.value'] = res_df['altLabel.value'].astype(str).str.lower()\n",
    "    res_df = res_df.drop_duplicates(subset = 'altLabel.value')\n",
    "    \n",
    "    return res_df"
   ]
  },
  {
   "cell_type": "code",
   "execution_count": 4,
   "metadata": {},
   "outputs": [
    {
     "data": {
      "text/plain": [
       "3620"
      ]
     },
     "execution_count": 4,
     "metadata": {},
     "output_type": "execute_result"
    }
   ],
   "source": [
    "qcodes_unique = [item for item in list(set(people_df['res_WIKIDATA_IDs'].sum())) if str(item).startswith(\"Q\")]\n",
    "len(qcodes_unique)"
   ]
  },
  {
   "cell_type": "code",
   "execution_count": 5,
   "metadata": {},
   "outputs": [
    {
     "name": "stdout",
     "output_type": "stream",
     "text": [
      "8.15197205543518\n"
     ]
    }
   ],
   "source": [
    "qcodes_query = qcodes_unique\n",
    "import time\n",
    "start = time.time()\n",
    "res_df = return_labels_aliases_by_property(qcodes_query, \"Q5\", include_class_tree=False)\n",
    "print(time.time() - start)"
   ]
  },
  {
   "cell_type": "code",
   "execution_count": 6,
   "metadata": {},
   "outputs": [
    {
     "data": {
      "text/html": [
       "<div>\n",
       "<style scoped>\n",
       "    .dataframe tbody tr th:only-of-type {\n",
       "        vertical-align: middle;\n",
       "    }\n",
       "\n",
       "    .dataframe tbody tr th {\n",
       "        vertical-align: top;\n",
       "    }\n",
       "\n",
       "    .dataframe thead th {\n",
       "        text-align: right;\n",
       "    }\n",
       "</style>\n",
       "<table border=\"1\" class=\"dataframe\">\n",
       "  <thead>\n",
       "    <tr style=\"text-align: right;\">\n",
       "      <th></th>\n",
       "      <th>qcode</th>\n",
       "      <th>itemLabel.value</th>\n",
       "      <th>altLabel.value</th>\n",
       "    </tr>\n",
       "  </thead>\n",
       "  <tbody>\n",
       "    <tr>\n",
       "      <th>0</th>\n",
       "      <td>Q762</td>\n",
       "      <td>Leonardo da Vinci</td>\n",
       "      <td>leonardi de vinci</td>\n",
       "    </tr>\n",
       "    <tr>\n",
       "      <th>1</th>\n",
       "      <td>Q762</td>\n",
       "      <td>Leonardo da Vinci</td>\n",
       "      <td>leonardi devinci</td>\n",
       "    </tr>\n",
       "    <tr>\n",
       "      <th>2</th>\n",
       "      <td>Q762</td>\n",
       "      <td>Leonardo da Vinci</td>\n",
       "      <td>leonardi di vinci</td>\n",
       "    </tr>\n",
       "    <tr>\n",
       "      <th>3</th>\n",
       "      <td>Q762</td>\n",
       "      <td>Leonardo da Vinci</td>\n",
       "      <td>leonardo d'avinci</td>\n",
       "    </tr>\n",
       "    <tr>\n",
       "      <th>4</th>\n",
       "      <td>Q762</td>\n",
       "      <td>Leonardo da Vinci</td>\n",
       "      <td>leonardo d'vinci</td>\n",
       "    </tr>\n",
       "    <tr>\n",
       "      <th>...</th>\n",
       "      <td>...</td>\n",
       "      <td>...</td>\n",
       "      <td>...</td>\n",
       "    </tr>\n",
       "    <tr>\n",
       "      <th>9359</th>\n",
       "      <td>Q1074290</td>\n",
       "      <td>Paul Gavarni</td>\n",
       "      <td>sulpice guillaume chevalier</td>\n",
       "    </tr>\n",
       "    <tr>\n",
       "      <th>9360</th>\n",
       "      <td>Q1074290</td>\n",
       "      <td>Paul Gavarni</td>\n",
       "      <td>sulpice-guillaume chevalier</td>\n",
       "    </tr>\n",
       "    <tr>\n",
       "      <th>9361</th>\n",
       "      <td>Q1074290</td>\n",
       "      <td>Paul Gavarni</td>\n",
       "      <td>sulpice-paul chevalier</td>\n",
       "    </tr>\n",
       "    <tr>\n",
       "      <th>9362</th>\n",
       "      <td>Q1074290</td>\n",
       "      <td>Paul Gavarni</td>\n",
       "      <td>william chevalier</td>\n",
       "    </tr>\n",
       "    <tr>\n",
       "      <th>9363</th>\n",
       "      <td>Q1077407</td>\n",
       "      <td>Chris Killip</td>\n",
       "      <td>christopher killip</td>\n",
       "    </tr>\n",
       "  </tbody>\n",
       "</table>\n",
       "<p>9081 rows × 3 columns</p>\n",
       "</div>"
      ],
      "text/plain": [
       "         qcode    itemLabel.value               altLabel.value\n",
       "0         Q762  Leonardo da Vinci            leonardi de vinci\n",
       "1         Q762  Leonardo da Vinci             leonardi devinci\n",
       "2         Q762  Leonardo da Vinci            leonardi di vinci\n",
       "3         Q762  Leonardo da Vinci            leonardo d'avinci\n",
       "4         Q762  Leonardo da Vinci             leonardo d'vinci\n",
       "...        ...                ...                          ...\n",
       "9359  Q1074290       Paul Gavarni  sulpice guillaume chevalier\n",
       "9360  Q1074290       Paul Gavarni  sulpice-guillaume chevalier\n",
       "9361  Q1074290       Paul Gavarni       sulpice-paul chevalier\n",
       "9362  Q1074290       Paul Gavarni            william chevalier\n",
       "9363  Q1077407       Chris Killip           christopher killip\n",
       "\n",
       "[9081 rows x 3 columns]"
      ]
     },
     "execution_count": 6,
     "metadata": {},
     "output_type": "execute_result"
    }
   ],
   "source": [
    "res_df"
   ]
  },
  {
   "cell_type": "code",
   "execution_count": 7,
   "metadata": {},
   "outputs": [],
   "source": [
    "def get_aliases(qcodes):\n",
    "    return [res_df.loc[res_df['qcode'] == qcode, 'altLabel.value'].tolist() for qcode in qcodes]\n",
    "\n",
    "def get_labels(qcodes):\n",
    "    return [res_df.loc[res_df['qcode'] == qcode, 'itemLabel.value'].unique().tolist() for qcode in qcodes]\n",
    "\n",
    "#get_labels([\"Q762\", \"Q55021352\"]), get_aliases([\"Q762\", \"Q55021352\"])"
   ]
  },
  {
   "cell_type": "markdown",
   "metadata": {},
   "source": [
    "### integrating into heritageconnector"
   ]
  },
  {
   "cell_type": "code",
   "execution_count": 9,
   "metadata": {},
   "outputs": [
    {
     "name": "stderr",
     "output_type": "stream",
     "text": [
      "/Users/kalyan/.local/share/virtualenvs/heritage-connector-tkmarX41/lib/python3.7/site-packages/pandas/core/indexing.py:966: SettingWithCopyWarning: \n",
      "A value is trying to be set on a copy of a slice from a DataFrame.\n",
      "Try using .loc[row_indexer,col_indexer] = value instead\n",
      "\n",
      "See the caveats in the documentation: https://pandas.pydata.org/pandas-docs/stable/user_guide/indexing.html#returning-a-view-versus-a-copy\n",
      "  self.obj[item] = s\n"
     ]
    },
    {
     "name": "stdout",
     "output_type": "stream",
     "text": [
      "Added filter {'instance_of': {'property_id': 'Q5', 'include_class_tree': False}}\n",
      "Added filter {'label': {'label_col': 'PREFERRED_NAME', 'include_aliases': True, 'threshold': 90, 'fuzzy_match_scorer': <function token_sort_ratio at 0x11ae477a0>}}\n",
      "Running Wikidata query..\n"
     ]
    },
    {
     "name": "stderr",
     "output_type": "stream",
     "text": [
      "/Users/kalyan/.local/share/virtualenvs/heritage-connector-tkmarX41/lib/python3.7/site-packages/pandas/core/indexing.py:845: SettingWithCopyWarning: \n",
      "A value is trying to be set on a copy of a slice from a DataFrame.\n",
      "Try using .loc[row_indexer,col_indexer] = value instead\n",
      "\n",
      "See the caveats in the documentation: https://pandas.pydata.org/pandas-docs/stable/user_guide/indexing.html#returning-a-view-versus-a-copy\n",
      "  self.obj[key] = _infer_fill_value(value)\n",
      " 16%|█▋        | 572/3476 [00:00<00:00, 5713.53it/s]"
     ]
    },
    {
     "name": "stdout",
     "output_type": "stream",
     "text": [
      "Applying filters...\n",
      "Filter: instance of Q5\n"
     ]
    },
    {
     "name": "stderr",
     "output_type": "stream",
     "text": [
      "100%|██████████| 3476/3476 [00:00<00:00, 5904.51it/s]\n",
      "  3%|▎         | 89/3326 [00:00<00:07, 433.86it/s]"
     ]
    },
    {
     "name": "stdout",
     "output_type": "stream",
     "text": [
      "Filter: check label similarity against column PREFERRED_NAME\n"
     ]
    },
    {
     "name": "stderr",
     "output_type": "stream",
     "text": [
      "100%|██████████| 3326/3326 [00:07<00:00, 454.54it/s]\n"
     ]
    }
   ],
   "source": [
    "from heritageconnector.entity_matching.filtering import Filter\n",
    "\n",
    "f = Filter(dataframe=people_df, qcode_col=\"res_WIKIDATA_IDs\")\n",
    "f.add_instanceof_filter(\"Q5\", False)\n",
    "f.add_label_filter(\"PREFERRED_NAME\", threshold=90, include_aliases=True, fuzzy_match_scorer=fuzz.token_sort_ratio)\n",
    "f.process_dataframe()"
   ]
  },
  {
   "cell_type": "code",
   "execution_count": 10,
   "metadata": {},
   "outputs": [
    {
     "data": {
      "text/plain": [
       "0.2752125193199382"
      ]
     },
     "execution_count": 10,
     "metadata": {},
     "output_type": "execute_result"
    }
   ],
   "source": [
    "new_df = f.get_dataframe()\n",
    "len(new_df[(new_df['qcodes_filtered'].map(lambda d: len(d)) > 0)]) / len(people_df)"
   ]
  },
  {
   "cell_type": "code",
   "execution_count": 11,
   "metadata": {},
   "outputs": [
    {
     "name": "stdout",
     "output_type": "stream",
     "text": [
      "Added filter {'instance_of': {'property_id': 'Q43229', 'include_class_tree': True}}\n",
      "Added filter {'label': {'label_col': 'PREFERRED_NAME', 'include_aliases': True, 'threshold': 80, 'fuzzy_match_scorer': <function token_set_ratio at 0x11ae479e0>}}\n",
      "Running Wikidata query..\n"
     ]
    },
    {
     "name": "stderr",
     "output_type": "stream",
     "text": [
      "100%|██████████| 1142/1142 [00:00<00:00, 7947.82it/s]\n",
      " 12%|█▏        | 94/807 [00:00<00:00, 939.15it/s]"
     ]
    },
    {
     "name": "stdout",
     "output_type": "stream",
     "text": [
      "Applying filters...\n",
      "Filter: instance of Q43229\n",
      "Filter: check label similarity against column PREFERRED_NAME\n"
     ]
    },
    {
     "name": "stderr",
     "output_type": "stream",
     "text": [
      "100%|██████████| 807/807 [00:00<00:00, 963.59it/s]\n"
     ]
    }
   ],
   "source": [
    "org_df = df[df['GENDER'] == \"N\"]\n",
    "fo = Filter(dataframe=org_df, qcode_col=\"res_WIKIDATA_IDs\")\n",
    "fo.add_instanceof_filter(\"Q43229\", True)\n",
    "fo.add_label_filter(\"PREFERRED_NAME\", threshold=80, include_aliases=True, fuzzy_match_scorer=fuzz.token_set_ratio)\n",
    "fo.process_dataframe()\n",
    "org_res_df = fo.get_dataframe()"
   ]
  },
  {
   "cell_type": "code",
   "execution_count": 12,
   "metadata": {},
   "outputs": [
    {
     "data": {
      "text/plain": [
       "(697, 7743, 0.09001678935812993)"
      ]
     },
     "execution_count": 12,
     "metadata": {},
     "output_type": "execute_result"
    }
   ],
   "source": [
    "num_orgs_after_filter = len(org_res_df[(org_res_df['qcodes_filtered'].map(lambda d: len(d)) > 0)])\n",
    "num_orgs_after_filter, len(org_df), num_orgs_after_filter / len(org_df)"
   ]
  },
  {
   "cell_type": "code",
   "execution_count": 13,
   "metadata": {},
   "outputs": [
    {
     "data": {
      "text/plain": [
       "0"
      ]
     },
     "execution_count": 13,
     "metadata": {},
     "output_type": "execute_result"
    }
   ],
   "source": [
    "# no. organisations with more than one qcode remaining\n",
    "len(org_res_df[(org_res_df['qcodes_filtered'].map(lambda d: len(d)) > 1)])"
   ]
  },
  {
   "cell_type": "code",
   "execution_count": 14,
   "metadata": {},
   "outputs": [],
   "source": [
    "ids_less_strict = org_res_df[(org_res_df['qcodes_filtered'].map(lambda d: len(d)) > 0)].index.tolist()"
   ]
  },
  {
   "cell_type": "code",
   "execution_count": 15,
   "metadata": {},
   "outputs": [],
   "source": [
    "ids_more_strict = org_res_df[(org_res_df['qcodes_filtered'].map(lambda d: len(d)) > 0)].index.tolist()"
   ]
  },
  {
   "cell_type": "code",
   "execution_count": 16,
   "metadata": {},
   "outputs": [
    {
     "data": {
      "text/plain": [
       "Index(['LINK_ID', 'PREFERRED_NAME', 'TITLE_NAME', 'FIRSTMID_NAME',\n",
       "       'LASTSUFF_NAME', 'SUFFIX_NAME', 'HONORARY_SUFFIX', 'GENDER',\n",
       "       'BRIEF_BIO', 'DESCRIPTION', 'NOTE', 'BIRTH_DATE', 'BIRTH_PLACE',\n",
       "       'DEATH_DATE', 'DEATH_PLACE', 'CAUSE_OF_DEATH', 'NATIONALITY',\n",
       "       'OCCUPATION', 'WEBSITE', 'AFFILIATION', 'LINGUISTIC_GROUP', 'TYPE',\n",
       "       'REFERENCE_NUMBER', 'SOURCE', 'CREATE_DATE', 'UPDATE_DATE',\n",
       "       'res_ALL_NOTES', 'res_WIKIDATA_IDs', 'res_URLS', 'qcodes_filtered'],\n",
       "      dtype='object')"
      ]
     },
     "execution_count": 16,
     "metadata": {},
     "output_type": "execute_result"
    }
   ],
   "source": [
    "org_res_df.columns"
   ]
  },
  {
   "cell_type": "code",
   "execution_count": 17,
   "metadata": {},
   "outputs": [
    {
     "data": {
      "text/html": [
       "<div>\n",
       "<style scoped>\n",
       "    .dataframe tbody tr th:only-of-type {\n",
       "        vertical-align: middle;\n",
       "    }\n",
       "\n",
       "    .dataframe tbody tr th {\n",
       "        vertical-align: top;\n",
       "    }\n",
       "\n",
       "    .dataframe thead th {\n",
       "        text-align: right;\n",
       "    }\n",
       "</style>\n",
       "<table border=\"1\" class=\"dataframe\">\n",
       "  <thead>\n",
       "    <tr style=\"text-align: right;\">\n",
       "      <th></th>\n",
       "      <th>PREFERRED_NAME</th>\n",
       "      <th>NOTE</th>\n",
       "      <th>res_WIKIDATA_IDs</th>\n",
       "      <th>res_URLS</th>\n",
       "      <th>qcodes_filtered</th>\n",
       "    </tr>\n",
       "  </thead>\n",
       "  <tbody>\n",
       "  </tbody>\n",
       "</table>\n",
       "</div>"
      ],
      "text/plain": [
       "Empty DataFrame\n",
       "Columns: [PREFERRED_NAME, NOTE, res_WIKIDATA_IDs, res_URLS, qcodes_filtered]\n",
       "Index: []"
      ]
     },
     "execution_count": 17,
     "metadata": {},
     "output_type": "execute_result"
    }
   ],
   "source": [
    "org_res_df.loc[list(set(ids_less_strict) - set(ids_more_strict)), [\"PREFERRED_NAME\", \"NOTE\", \"res_WIKIDATA_IDs\", \"res_URLS\", \"qcodes_filtered\"]]"
   ]
  },
  {
   "cell_type": "code",
   "execution_count": 20,
   "metadata": {},
   "outputs": [
    {
     "name": "stdout",
     "output_type": "stream",
     "text": [
      "No. records after filtering: 697/7743 (9.0%)\n"
     ]
    }
   ],
   "source": [
    "fo.view_stats()"
   ]
  },
  {
   "cell_type": "markdown",
   "metadata": {},
   "source": [
    "### filtering with birth and death dates"
   ]
  },
  {
   "cell_type": "code",
   "execution_count": 44,
   "metadata": {},
   "outputs": [],
   "source": [
    "def return_labels_aliases_by_property(query_ids, property_id, include_class_tree):\n",
    "    \n",
    "    class_tree = \"/wdt:P279*\" if include_class_tree else \"\"\n",
    "        \n",
    "    query = f\"\"\"\n",
    "    SELECT ?item ?itemLabel ?altLabel ?birthYear ?deathYear ?inceptionYear ?dissolvedYear WHERE {{\n",
    "      VALUES (?item) {{ {map_ids_values(query_ids)} }}\n",
    "      ?item wdt:P31{class_tree} wd:{property_id}.\n",
    "      OPTIONAL{{\n",
    "        ?item wdt:P569 ?birthDate.\n",
    "        BIND( year(?birthDate) AS ?birthYear )\n",
    "        }}\n",
    "      OPTIONAL {{\n",
    "        ?item wdt:P570 ?deathDate.\n",
    "        BIND( year(?deathDate) AS ?deathYear )\n",
    "        }}\n",
    "      OPTIONAL {{\n",
    "        ?item wdt:P571 ?inceptionDate.\n",
    "        BIND( year(?inceptionDate) AS ?inceptionYear )\n",
    "        }}\n",
    "      OPTIONAL {{\n",
    "        ?item wdt:P576 ?dissolvedDate.\n",
    "        BIND( year(?dissolvedDate) AS ?dissolvedYear )  \n",
    "        }}\n",
    "      OPTIONAL {{\n",
    "        ?item skos:altLabel ?altLabel.\n",
    "        FILTER (lang(?altLabel) = \"en\")\n",
    "        }}\n",
    "      SERVICE wikibase:label {{ bd:serviceParam wikibase:language \"en\". }}\n",
    "    }}\n",
    "    \"\"\"\n",
    "    res = get_sparql_results(endpoint_url, query)['results']['bindings']\n",
    "    \n",
    "    res_df = pd.json_normalize(res)\n",
    "    res_df['qcode'] = res_df['item.value'].apply(lambda x: re.findall(r\"(Q\\d+)\", x)[0])\n",
    "    \n",
    "    final_cols = ['qcode', 'itemLabel.value', 'altLabel.value', 'birthYear.value', 'deathYear.value', 'inceptionYear.value', 'dissolvedYear.value']\n",
    "    cols_missing = set(final_cols) - set(res_df.columns.values.tolist())\n",
    "    for col in cols_missing:\n",
    "        res_df[col] = \"\"\n",
    "        \n",
    "    res_df = res_df[['qcode', 'itemLabel.value', 'altLabel.value', 'birthYear.value', 'deathYear.value', 'inceptionYear.value', 'dissolvedYear.value']]\n",
    "    # convert aliases to lowercase and drop duplicates\n",
    "    res_df['altLabel.value'] = res_df['altLabel.value'].astype(str).str.lower()\n",
    "    res_df = res_df.drop_duplicates()\n",
    "    \n",
    "    return res_df\n",
    "\n"
   ]
  },
  {
   "cell_type": "code",
   "execution_count": 45,
   "metadata": {},
   "outputs": [
    {
     "data": {
      "text/html": [
       "<div>\n",
       "<style scoped>\n",
       "    .dataframe tbody tr th:only-of-type {\n",
       "        vertical-align: middle;\n",
       "    }\n",
       "\n",
       "    .dataframe tbody tr th {\n",
       "        vertical-align: top;\n",
       "    }\n",
       "\n",
       "    .dataframe thead th {\n",
       "        text-align: right;\n",
       "    }\n",
       "</style>\n",
       "<table border=\"1\" class=\"dataframe\">\n",
       "  <thead>\n",
       "    <tr style=\"text-align: right;\">\n",
       "      <th></th>\n",
       "      <th>qcode</th>\n",
       "      <th>itemLabel.value</th>\n",
       "      <th>altLabel.value</th>\n",
       "      <th>birthYear.value</th>\n",
       "      <th>deathYear.value</th>\n",
       "      <th>inceptionYear.value</th>\n",
       "      <th>dissolvedYear.value</th>\n",
       "    </tr>\n",
       "  </thead>\n",
       "  <tbody>\n",
       "    <tr>\n",
       "      <th>0</th>\n",
       "      <td>Q41421</td>\n",
       "      <td>Michael Jordan</td>\n",
       "      <td>air jordan</td>\n",
       "      <td>1963</td>\n",
       "      <td>NaN</td>\n",
       "      <td></td>\n",
       "      <td></td>\n",
       "    </tr>\n",
       "    <tr>\n",
       "      <th>1</th>\n",
       "      <td>Q41421</td>\n",
       "      <td>Michael Jordan</td>\n",
       "      <td>his airness</td>\n",
       "      <td>1963</td>\n",
       "      <td>NaN</td>\n",
       "      <td></td>\n",
       "      <td></td>\n",
       "    </tr>\n",
       "    <tr>\n",
       "      <th>2</th>\n",
       "      <td>Q41421</td>\n",
       "      <td>Michael Jordan</td>\n",
       "      <td>michael jeffrey jordan</td>\n",
       "      <td>1963</td>\n",
       "      <td>NaN</td>\n",
       "      <td></td>\n",
       "      <td></td>\n",
       "    </tr>\n",
       "    <tr>\n",
       "      <th>3</th>\n",
       "      <td>Q167877</td>\n",
       "      <td>Michael Jackson</td>\n",
       "      <td>nan</td>\n",
       "      <td>1942</td>\n",
       "      <td>2007</td>\n",
       "      <td></td>\n",
       "      <td></td>\n",
       "    </tr>\n",
       "    <tr>\n",
       "      <th>4</th>\n",
       "      <td>Q46633</td>\n",
       "      <td>Charles Babbage</td>\n",
       "      <td>nan</td>\n",
       "      <td>1791</td>\n",
       "      <td>1871</td>\n",
       "      <td></td>\n",
       "      <td></td>\n",
       "    </tr>\n",
       "  </tbody>\n",
       "</table>\n",
       "</div>"
      ],
      "text/plain": [
       "     qcode  itemLabel.value          altLabel.value birthYear.value  \\\n",
       "0   Q41421   Michael Jordan              air jordan            1963   \n",
       "1   Q41421   Michael Jordan             his airness            1963   \n",
       "2   Q41421   Michael Jordan  michael jeffrey jordan            1963   \n",
       "3  Q167877  Michael Jackson                     nan            1942   \n",
       "4   Q46633  Charles Babbage                     nan            1791   \n",
       "\n",
       "  deathYear.value inceptionYear.value dissolvedYear.value  \n",
       "0             NaN                                          \n",
       "1             NaN                                          \n",
       "2             NaN                                          \n",
       "3            2007                                          \n",
       "4            1871                                          "
      ]
     },
     "execution_count": 45,
     "metadata": {},
     "output_type": "execute_result"
    }
   ],
   "source": [
    "query_ids = [\"Q167877\", \"Q46633\", \"Q312\", \"Q920016\", \"Q41421\"]\n",
    "return_labels_aliases_by_property(query_ids, \"Q5\", False) # humans"
   ]
  },
  {
   "cell_type": "code",
   "execution_count": 61,
   "metadata": {},
   "outputs": [
    {
     "name": "stderr",
     "output_type": "stream",
     "text": [
      "/Users/kalyan/.local/share/virtualenvs/heritage-connector-tkmarX41/lib/python3.7/site-packages/pandas/core/indexing.py:966: SettingWithCopyWarning: \n",
      "A value is trying to be set on a copy of a slice from a DataFrame.\n",
      "Try using .loc[row_indexer,col_indexer] = value instead\n",
      "\n",
      "See the caveats in the documentation: https://pandas.pydata.org/pandas-docs/stable/user_guide/indexing.html#returning-a-view-versus-a-copy\n",
      "  self.obj[item] = s\n"
     ]
    },
    {
     "data": {
      "text/html": [
       "<div>\n",
       "<style scoped>\n",
       "    .dataframe tbody tr th:only-of-type {\n",
       "        vertical-align: middle;\n",
       "    }\n",
       "\n",
       "    .dataframe tbody tr th {\n",
       "        vertical-align: top;\n",
       "    }\n",
       "\n",
       "    .dataframe thead th {\n",
       "        text-align: right;\n",
       "    }\n",
       "</style>\n",
       "<table border=\"1\" class=\"dataframe\">\n",
       "  <thead>\n",
       "    <tr style=\"text-align: right;\">\n",
       "      <th></th>\n",
       "      <th>qcode</th>\n",
       "      <th>label</th>\n",
       "      <th>alias</th>\n",
       "      <th>birthYear.value</th>\n",
       "      <th>deathYear.value</th>\n",
       "      <th>inceptionYear.value</th>\n",
       "      <th>dissolvedYear.value</th>\n",
       "    </tr>\n",
       "  </thead>\n",
       "  <tbody>\n",
       "    <tr>\n",
       "      <th>0</th>\n",
       "      <td>Q123679</td>\n",
       "      <td>Abraham-Louis Breguet</td>\n",
       "      <td>abraham louis breguet</td>\n",
       "      <td>1747</td>\n",
       "      <td>1823</td>\n",
       "      <td></td>\n",
       "      <td></td>\n",
       "    </tr>\n",
       "    <tr>\n",
       "      <th>1</th>\n",
       "      <td>Q123679</td>\n",
       "      <td>Abraham-Louis Breguet</td>\n",
       "      <td>abraham-louis bréguet</td>\n",
       "      <td>1747</td>\n",
       "      <td>1823</td>\n",
       "      <td></td>\n",
       "      <td></td>\n",
       "    </tr>\n",
       "    <tr>\n",
       "      <th>2</th>\n",
       "      <td>Q123900</td>\n",
       "      <td>Johann Jakob Scheuchzer</td>\n",
       "      <td>j.j.scheuchzer</td>\n",
       "      <td>1672</td>\n",
       "      <td>1733</td>\n",
       "      <td></td>\n",
       "      <td></td>\n",
       "    </tr>\n",
       "    <tr>\n",
       "      <th>3</th>\n",
       "      <td>Q123918</td>\n",
       "      <td>Johann Kaspar Lavater</td>\n",
       "      <td>j. c. lavater</td>\n",
       "      <td>1741</td>\n",
       "      <td>1801</td>\n",
       "      <td></td>\n",
       "      <td></td>\n",
       "    </tr>\n",
       "    <tr>\n",
       "      <th>5</th>\n",
       "      <td>Q123918</td>\n",
       "      <td>Johann Kaspar Lavater</td>\n",
       "      <td>johann caspar lavater</td>\n",
       "      <td>1741</td>\n",
       "      <td>1801</td>\n",
       "      <td></td>\n",
       "      <td></td>\n",
       "    </tr>\n",
       "    <tr>\n",
       "      <th>...</th>\n",
       "      <td>...</td>\n",
       "      <td>...</td>\n",
       "      <td>...</td>\n",
       "      <td>...</td>\n",
       "      <td>...</td>\n",
       "      <td>...</td>\n",
       "      <td>...</td>\n",
       "    </tr>\n",
       "    <tr>\n",
       "      <th>12306</th>\n",
       "      <td>Q65317</td>\n",
       "      <td>Godfrey Kneller</td>\n",
       "      <td>st. g. kneller</td>\n",
       "      <td>1646</td>\n",
       "      <td>1723</td>\n",
       "      <td></td>\n",
       "      <td></td>\n",
       "    </tr>\n",
       "    <tr>\n",
       "      <th>12307</th>\n",
       "      <td>Q65317</td>\n",
       "      <td>Godfrey Kneller</td>\n",
       "      <td>v.g. kneller</td>\n",
       "      <td>1646</td>\n",
       "      <td>1723</td>\n",
       "      <td></td>\n",
       "      <td></td>\n",
       "    </tr>\n",
       "    <tr>\n",
       "      <th>12308</th>\n",
       "      <td>Q65454</td>\n",
       "      <td>Erich Salomon</td>\n",
       "      <td>e. salomon</td>\n",
       "      <td>1886</td>\n",
       "      <td>1944</td>\n",
       "      <td></td>\n",
       "      <td></td>\n",
       "    </tr>\n",
       "    <tr>\n",
       "      <th>12309</th>\n",
       "      <td>Q65454</td>\n",
       "      <td>Erich Salomon</td>\n",
       "      <td>erich franz emil salomon</td>\n",
       "      <td>1886</td>\n",
       "      <td>1944</td>\n",
       "      <td></td>\n",
       "      <td></td>\n",
       "    </tr>\n",
       "    <tr>\n",
       "      <th>12310</th>\n",
       "      <td>Q65454</td>\n",
       "      <td>Erich Salomon</td>\n",
       "      <td>erikh zalomon</td>\n",
       "      <td>1886</td>\n",
       "      <td>1944</td>\n",
       "      <td></td>\n",
       "      <td></td>\n",
       "    </tr>\n",
       "  </tbody>\n",
       "</table>\n",
       "<p>10956 rows × 7 columns</p>\n",
       "</div>"
      ],
      "text/plain": [
       "         qcode                    label                     alias  \\\n",
       "0      Q123679    Abraham-Louis Breguet     abraham louis breguet   \n",
       "1      Q123679    Abraham-Louis Breguet     abraham-louis bréguet   \n",
       "2      Q123900  Johann Jakob Scheuchzer            j.j.scheuchzer   \n",
       "3      Q123918    Johann Kaspar Lavater             j. c. lavater   \n",
       "5      Q123918    Johann Kaspar Lavater     johann caspar lavater   \n",
       "...        ...                      ...                       ...   \n",
       "12306   Q65317          Godfrey Kneller            st. g. kneller   \n",
       "12307   Q65317          Godfrey Kneller              v.g. kneller   \n",
       "12308   Q65454            Erich Salomon                e. salomon   \n",
       "12309   Q65454            Erich Salomon  erich franz emil salomon   \n",
       "12310   Q65454            Erich Salomon             erikh zalomon   \n",
       "\n",
       "      birthYear.value deathYear.value inceptionYear.value dissolvedYear.value  \n",
       "0                1747            1823                                          \n",
       "1                1747            1823                                          \n",
       "2                1672            1733                                          \n",
       "3                1741            1801                                          \n",
       "5                1741            1801                                          \n",
       "...               ...             ...                 ...                 ...  \n",
       "12306            1646            1723                                          \n",
       "12307            1646            1723                                          \n",
       "12308            1886            1944                                          \n",
       "12309            1886            1944                                          \n",
       "12310            1886            1944                                          \n",
       "\n",
       "[10956 rows x 7 columns]"
      ]
     },
     "execution_count": 61,
     "metadata": {},
     "output_type": "execute_result"
    }
   ],
   "source": [
    "f = Filter(dataframe=people_df, qcode_col=\"res_WIKIDATA_IDs\")\n",
    "f.qcodes_unique\n",
    "f._run_wikidata_query(f.qcodes_unique, instanceof_filter=True, property_id=\"Q5\", include_class_tree=False)"
   ]
  },
  {
   "cell_type": "code",
   "execution_count": null,
   "metadata": {},
   "outputs": [],
   "source": []
  }
 ],
 "metadata": {
  "kernelspec": {
   "display_name": "Python 3",
   "language": "python",
   "name": "python3"
  },
  "language_info": {
   "codemirror_mode": {
    "name": "ipython",
    "version": 3
   },
   "file_extension": ".py",
   "mimetype": "text/x-python",
   "name": "python",
   "nbconvert_exporter": "python",
   "pygments_lexer": "ipython3",
   "version": "3.7.4"
  }
 },
 "nbformat": 4,
 "nbformat_minor": 4
}
