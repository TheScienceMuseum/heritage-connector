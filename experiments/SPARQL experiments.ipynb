{
 "cells": [
  {
   "cell_type": "code",
   "execution_count": 25,
   "metadata": {},
   "outputs": [],
   "source": [
    "import sys\n",
    "sys.path.append(\"..\")\n",
    "\n",
    "from heritageconnector.utils.sparql import get_sparql_results\n",
    "import re\n",
    "import pandas as pd"
   ]
  },
  {
   "cell_type": "code",
   "execution_count": 7,
   "metadata": {},
   "outputs": [],
   "source": [
    "endpoint_url = \"https://query.wikidata.org/sparql\""
   ]
  },
  {
   "cell_type": "markdown",
   "metadata": {},
   "source": [
    "### get all items which are instance of (subclass of)^n company"
   ]
  },
  {
   "cell_type": "code",
   "execution_count": 2,
   "metadata": {},
   "outputs": [
    {
     "name": "stdout",
     "output_type": "stream",
     "text": [
      "resolved 2 codes in 2.68s\n"
     ]
    },
    {
     "data": {
      "text/plain": [
       "['Q920016']"
      ]
     },
     "execution_count": 2,
     "metadata": {},
     "output_type": "execute_result"
    }
   ],
   "source": [
    "# get all items which are instance of of (subclass of)*n company, with specific IDs\n",
    "query_ids = [\"Q920016\", \"Q181795\"]\n",
    "\n",
    "def filter_ids_org(query_ids):\n",
    "    import time\n",
    "    start = time.time()\n",
    "    map_ids = lambda ids: \", \".join([f\"wd:{i}\" for i in ids])\n",
    "\n",
    "    \n",
    "    query = f\"\"\"\n",
    "        SELECT ?item \n",
    "        WHERE\n",
    "        {{\n",
    "            ?item wdt:P31/wdt:P279* wd:Q43229 .\n",
    "\n",
    "            FILTER (?item IN ({map_ids(query_ids)}))\n",
    "\n",
    "            SERVICE wikibase:label {{ bd:serviceParam wikibase:language  \n",
    "                                        \"[AUTO_LANGUAGE],en\" }}\n",
    "        }} \n",
    "    \"\"\"\n",
    "\n",
    "\n",
    "    res = get_sparql_results(endpoint_url, query)\n",
    "    res_codes = list(set([re.findall(r\"(Q\\d+)\", item['item']['value'])[0] for item in res['results']['bindings']]))\n",
    "    end = time.time()\n",
    "    print(f\"resolved {len(query_ids)} codes in {round(end-start, 2)}s\")\n",
    "    return res_codes\n",
    "    \n",
    "\n",
    "filter_ids_org(query_ids)"
   ]
  },
  {
   "cell_type": "markdown",
   "metadata": {},
   "source": [
    "### test queries for big list\n",
    "had to change from GET to POST in sparqlwrapper"
   ]
  },
  {
   "cell_type": "code",
   "execution_count": 4,
   "metadata": {},
   "outputs": [
    {
     "data": {
      "text/plain": [
       "953"
      ]
     },
     "execution_count": 4,
     "metadata": {},
     "output_type": "execute_result"
    }
   ],
   "source": [
    "big_list = ['Q920016','Q1066823','Q5323238','Q18528774','Q655224','Q2996518','Q877056','Q565558','Q532084','Q6260480','Q3021874','Q6939017','Q7368100','Q261875','Q5161794','Q49013','Q836679','Q5592814','Q1068204','Q131617','Q16994191','Q823917','Q6398452','Q18390172','Q207922','Q22905','Q55215244','Q795981','Q2304446','Q80978','Q8113084','Q49203','Q181114','Q1172222','Q197494','Q6757800','Q965204','Q342149','Q7232114','Q1389016','Q836005','Q6742','Q2989830','Q1419175','Q1342845','Q7055980','Q623459','Q7522044','Q301092','Q17405939','Q19864','Q3940385','Q54173','Q151107','Q789348','Q1524298','Q854437','Q207922','Q1507508','Q7988937','Q5479677','Q2031258','Q4979670','Q1426394','Q1403445','Q18576021','Q18576021','Q919252','Q52846','Q4970128','Q4918054','Q4718186','Q19325675','Q19325675','Q333515','Q5342819','Q196253','Q2040291','Q16783773','Q183412','Q4834516','Q6617575','Q401378','Q19899797','Q524989','Q502125','Q1301181','Q2131434','Q7982900','Q7982900','Q7293504','Q5341603','Q3296078','Q16998625','Q551401','Q7987281','Q7620697','Q5446206','Q2814117','Q7627180','Q7909557','Q4782192','Q696947','Q1499462','Q2171067','Q320466','Q895398','Q1109743','Q208305','Q11200333','Q4968486','Q1394642','Q38076','Q5328784','Q1382126','Q5260328','Q848977','Q6842471','Q2940338','Q5454298','Q5184831','Q7056196','Q2962364','Q787383','Q1937120','Q2001072','Q901932','Q603253','Q2002710','Q3802035','Q1529921','Q169674','Q77541','Q680019','Q384011','Q446392','Q3181735','Q6820521','Q1888767','Q7321658','Q5330761','Q378698','Q1494435','Q1361595','Q16854275','Q16854275','Q5179900','Q5346086','Q626800','Q1583606','Q324603','Q7975388','Q661005','Q2593507','Q935025','Q2057955','Q3037239','Q3498778','Q5314856','Q513679','Q7674943','Q16210084','Q181912','Q3303574','Q6898582','Q8055710','Q1372904','Q561948','Q4950318','Q1432129','Q827927','Q5338300','Q5130177','Q7437933','Q1777807','Q565558','Q2098669','Q19324981','Q19324981','Q1393142','Q507269','Q507269','Q6671047','Q1413338','Q7055281','Q18390172','Q7204713','Q843431','Q1583606','Q10323528','Q745099','Q2737059','Q7434449','Q20875','Q20875','Q699810','Q1252404','Q357536','Q1892933','Q1475924','Q3495342','Q157062','Q7965070','Q4829358','Q63163882','Q123679','Q733293','Q1186888','Q70993','Q70993','Q70993','Q1346177','Q551401','Q1346177','Q3240764','Q672271','Q210534','Q7610007','Q2904929','Q7050731','Q7045628','Q6825499','Q1132697','Q9401','Q1415097','Q568182','Q217623','Q37306837','Q2332198','Q2332198','Q4763413','Q4998335','Q258567','Q6979152','Q5182762','Q3162866','Q1333399','Q3125008','Q208909','Q99398','Q1780728','Q5497844','Q12859175','Q6621296','Q996824','Q1121154','Q5927441','Q7796279','Q825943','Q1139597','Q15990695','Q15990695','Q19899760','Q18917579','Q18917579','Q11854626','Q7173632','Q7173632','Q18577160','Q6116147','Q5543812','Q5543812','Q5430128','Q221986','Q1492842','Q27262555','Q1342306','Q15497087','Q15497087','Q195976','Q7986356','Q7493629','Q674773','Q1273370','Q23445','Q7855878','Q6617575','Q4836722','Q7326545','Q7326543','Q3246355','Q1891931','Q5538462','Q7173632','Q7173632','Q18577160','Q1475924','Q161168','Q7268324','Q7268327','Q3143350','Q777039','Q3273288','Q901932','Q1741634','Q951830','Q3633141','Q16994191','Q21492814','Q1806984','Q6394304','Q659169','Q5572075','Q181811','Q3246355','Q7204713','Q623503','Q17062795','Q309245','Q5153310','Q6283452','Q6283452','Q520263','Q3508894','Q6913476','Q1028212','Q156959','Q1035745','Q315422','Q165749','Q251749','Q18527717','Q688619','Q7183700','Q1535788','Q5001067','Q18527717','Q699810','Q6842416','Q1103378','Q1621197','Q17182930','Q472941','Q110283','Q478829','Q5177663','Q677579','Q648932','Q3373231','Q700517','Q14475898','Q95149','Q7162224','Q2648991','Q4944547','Q6084150','Q5868463','Q923672','Q7649985','Q7574361','Q1439887','Q17018456','Q7694543','Q7571484','Q2962386','Q6516169','Q6666301','Q2645718','Q253927','Q4808373','Q1456606','Q83164','Q5380703','Q16997727','Q2598272','Q15228801','Q1032234','Q5133211','Q5078065','Q3715773','Q10585074','Q2001111','Q8049380','Q4666975','Q207699','Q1134337','Q13634023','Q7157819','Q3345408','Q3276096','Q4916454','Q5311011','Q1035745','Q1197895','Q7597040','Q5134907','Q5341986','Q1866973','Q5385734','Q83584','Q202628','Q3480461','Q5133307','Q346230','Q425942','Q5170839','Q7057167','Q6084088','Q347404','Q4789419','Q15228801','Q1032142','Q5033707','Q6516220','Q3329546','Q1208203','Q1672471','Q3352823','Q7622000','Q787383','Q5599646','Q6723792','Q875070','Q1069374','Q1583606','Q5599271','Q1156','Q5935815','Q5042665','Q5087711','Q279756','Q4971157','Q53257','Q1105286','Q3229164','Q1016948','Q229744','Q6841933','Q3195297','Q899151','Q7621999','Q1544279','Q569432','Q776039','Q118911','Q63157810','Q7378521','Q309245','Q3745138','Q787183','Q6817168','Q7055980','Q6613437','Q7569180','Q6747236','Q1544011','Q3743389','Q178778','Q680237','Q695070','Q2065934','Q8030340','Q2996518','Q998257','Q5184822','Q29842645','Q29842645','Q3521113','Q241599','Q351268','Q1066858','Q249606','Q201691','Q7791819','Q597047','Q479952','Q2057955','Q1638745','Q1029631','Q3403102','Q843965','Q5762066','Q5645747','Q2862799','Q7361602','Q19604632','Q4923252','Q1418','Q1508173','Q6290566','Q6290566','Q1508173','Q18576307','Q1983554','Q17987457','Q699439','Q952062','Q6283268','Q6283268','Q5129465','Q7183700','Q2001085','Q3346386','Q2893204','Q37726','Q5454298','Q7697842','Q4719707','Q4719707','Q212322','Q1152374','Q17083122','Q18527717','Q6224512','Q6224512','Q1933462','Q1393142','Q36008','Q1349705','Q256501','Q479952','Q58326','Q7567046','Q7529800','Q1374840','Q1374840','Q7183700','Q5499156','Q282186','Q7971204','Q2719798','Q531861','','Q76692','Q76692','Q920249','Q918747','Q3257938','Q567000','Q1293897','Q2492951','Q26893','Q4803995','Q2033167','Q18527717','Q734698','Q853110','Q357809','Q1699394','Q917988','Q1779703','Q7440651','Q728562','Q5330408','Q1692707','Q168241','Q676200','Q3082939','Q204917','Q1544279','Q1092839','Q3246267','Q5261424','Q3997890','Q2904527','Q84','Q1130022','Q2962831','Q693105','Q83779','Q1743895','Q1092174','Q7158740','Q734698','Q7989469','Q605169','Q741266','Q5307325','Q2002710','Q4920046','Q2010680','Q1471161','Q921302','Q2010680','Q1428170','Q7158740','Q5598942','Q688684','Q5322081','Q605169','Q1952198','Q16062927','Q2855703','Q5604969','Q258567','Q689159','Q7056819','Q2011495','Q7515728','Q3568387','Q804868','Q843251','Q5599675','Q233791','Q5965211','Q751494','Q6483051','Q3112198','Q5870125','Q234021','Q7350044','Q7504283','Q4037739','Q10298714','Q16841659','Q18325155','Q18527272','Q16841659','Q16841659','Q18527272','Q2157495','Q476988','Q3298522','Q690220','Q4756278','Q1486303','Q1112471','Q343635','Q7945549','Q18528883','Q18528883','Q18508736','Q4020051','Q5481302','Q596139','Q7993520','Q3112198','Q226082','Q19899833','Q5722167','Q1420671','Q18576201','Q3112198','Q386424','Q1699452','Q375044','Q1674254','Q16988866','Q4647052','Q1967136','Q5470087','Q1297','Q2097344','Q1325334','Q7893566','Q860489','Q6257201','Q5454298','Q58892377','Q8055610','Q2304593','Q1584305','Q1748978','Q496368','Q2548932','Q3304245','Q1868882','Q309245','Q7927756','Q282150','Q7437857','Q217039','Q13646','Q6670591','Q935025','Q2608507','Q500115','Q240913','Q12858578','Q1411739','Q489224','Q3826415','Q4789781','Q911673','Q2100540','Q277586','Q2835512','Q907655','Q809087','Q5586936','Q1470340','Q4898067','Q6781679','Q1143779','Q597047','Q5302695','Q766669','Q7318096','Q1492213','Q536878','Q6869688','Q16998819','Q1750203','Q5210780','Q157332','Q1544319','Q1219708','Q1187590','Q5330541','Q16210878','Q6665985','Q7440651','Q1827989','Q2644813','Q5599694','Q617900','Q887543','Q206921','Q1009242','Q7753907','Q1543874','Q1922100','Q7986616','Q4713725','Q2341687','Q7437875','Q6670302','Q7599653','Q1024911','Q9964','Q973919','Q3076217','Q3700357','Q7414','Q632240','Q2635041','Q6386127','Q13516753','Q1126800','Q1026582','Q7754620','Q7568536','Q1099576','Q7000912','Q938861','Q7569271','Q201850','Q185800','Q2605160','Q1143479','Q779893','Q1456606','Q1501379','Q674564','Q202585','Q356186','Q4979665','Q16062927','Q10536232','Q1109743','Q95149','Q3127696','Q7171560','Q1344715','Q119172','Q9322','Q5313107','Q5338299','Q920023','Q738258','Q823917','Q1199961','Q7596880','Q1540175','Q846843','Q639030','Q804920','Q538822','Q145518','Q6934313','Q1867165','Q1683230','Q212322','Q1559946','Q569432','Q687175','Q458361','Q11200333','Q3115973','Q5161796','Q8006916','Q10298933','Q8040425','Q8040425','Q18527683','Q16859239','Q7795358','Q16066204','Q18671097','Q16065503','Q18819365','Q15994848','Q4730616','Q7437875','Q1801779','Q6851442','Q935570','Q5270118','Q1464767','Q7986616','Q4971159','Q5357511','Q2033055','Q2171067','Q5021767','Q5370258','Q4043152','Q5566905','Q6658476','Q1935518','Q2476154','Q18527717','Q712307','Q712307','Q812251','Q538101','Q7987516','Q52152','Q7503454','Q209344','Q7284131','Q12072724','Q591797','Q2176967','Q1380591','Q2578157','Q2578157','Q2579134','Q6118201','Q4868728','Q7492750','Q4916779','Q7374968','Q3415277','Q18875197','Q2831957','Q18875197','Q4862178','Q6388826','Q1508348','Q2331750','Q161140','Q2424595','Q654779','Q283666','Q5430059','Q1091034','Q7232208','Q3501089','Q1544011','Q5935900','Q5046098','Q5609336','Q899151','Q8007694','Q902688','Q184478','Q3336928','Q5047206','Q1544011','Q1396353','Q1544011','Q2330305','Q333225','Q333225','Q6972894','Q5173901','Q5284974','Q5620146','Q9630','Q6140016','Q5866155','Q64513730','Q9773','Q913573','Q649491','Q1407586','Q1348214','Q5101196','Q5600013','Q632404','Q557632','Q4972091','Q1280748','Q456999','Q1364302','Q13645831','Q673267','Q164740','Q961065','Q7121914','Q7624369','Q5314344','Q53247','Q5444234','Q293583','Q53227','Q839246','Q935570','Q1992307','Q1129996','Q3655695','Q2894022','Q524255','Q4882487','Q1335585','Q596685','Q630670','Q31579','Q212329','Q42369','Q1582120','Q1347340','Q4671432','Q7926975','Q4947472','Q660770','Q920046','Q6485610','Q181892','Q9964','Q1339786','Q4838281','Q4754549','Q375383','Q325635','Q557632','Q5248841','Q552152','Q817256','Q5001409','Q6757800','Q1364302','Q3519460','Q217338','Q7788182','Q1092174','Q5216359','Q18528751','Q301754','Q10854572','Q4789418','Q285774','Q6975162','Q8008904','Q1636748','Q3551276','Q41187','Q170416','Q4409','Q8009810','Q561948','Q659169']\n",
    "len(big_list)"
   ]
  },
  {
   "cell_type": "code",
   "execution_count": 5,
   "metadata": {},
   "outputs": [
    {
     "name": "stdout",
     "output_type": "stream",
     "text": [
      "50\n",
      "resolved 50 codes in 3.9s\n",
      "100\n",
      "resolved 100 codes in 3.5s\n",
      "150\n",
      "resolved 150 codes in 3.59s\n",
      "200\n",
      "resolved 200 codes in 3.42s\n",
      "250\n",
      "resolved 250 codes in 2.87s\n",
      "300\n",
      "resolved 300 codes in 3.58s\n",
      "350\n",
      "resolved 350 codes in 2.61s\n",
      "400\n",
      "resolved 400 codes in 2.85s\n",
      "450\n",
      "resolved 450 codes in 3.15s\n",
      "500\n",
      "resolved 500 codes in 3.89s\n",
      "550\n",
      "resolved 550 codes in 3.87s\n",
      "600\n",
      "resolved 600 codes in 3.31s\n",
      "650\n",
      "resolved 650 codes in 3.47s\n",
      "700\n",
      "resolved 700 codes in 3.09s\n",
      "750\n",
      "resolved 750 codes in 3.49s\n",
      "800\n",
      "resolved 800 codes in 3.89s\n",
      "850\n",
      "resolved 850 codes in 3.16s\n",
      "900\n",
      "resolved 900 codes in 3.13s\n"
     ]
    }
   ],
   "source": [
    "for i in range(50, 950, 50):\n",
    "    slist = big_list[0:i]\n",
    "    print(i)\n",
    "    filter_ids_org(slist)"
   ]
  },
  {
   "cell_type": "markdown",
   "metadata": {},
   "source": [
    "### replacing filter with a single parametrised SPARQL query"
   ]
  },
  {
   "cell_type": "code",
   "execution_count": 22,
   "metadata": {},
   "outputs": [],
   "source": [
    "map_ids = lambda ids: \", \".join([f\"wd:{i}\" for i in ids])\n",
    "\n",
    "def return_labels_aliases_by_property(query_ids, property_id, include_class_tree):\n",
    "    \n",
    "    class_tree = \"/wdt:P279*\" if include_class_tree else \"\"\n",
    "        \n",
    "    query = f\"\"\"\n",
    "    SELECT ?item ?itemLabel ?altLabel\n",
    "            WHERE\n",
    "            {{\n",
    "                ?item wdt:P31{class_tree} wd:{property_id}.\n",
    "                ?item skos:altLabel ?altLabel .\n",
    "                FILTER (lang(?altLabel) = \"en\")\n",
    "                FILTER (?item IN ({map_ids(query_ids)}))\n",
    "\n",
    "                SERVICE wikibase:label {{ \n",
    "                  bd:serviceParam wikibase:language \"en\" .\n",
    "                }}\n",
    "            }} \n",
    "    GROUP BY ?item ?itemLabel ?altLabel\n",
    "    \"\"\"\n",
    "\n",
    "    return get_sparql_results(endpoint_url, query)\n",
    "\n",
    "####\n",
    "property_id = \"Q43229\"\n",
    "query_ids = ['Q920016','Q1066823','Q5323238','Q18528774','Q655224','Q2996518','Q877056','Q565558','Q532084']\n",
    "class_tree = True\n",
    "\n",
    "res = return_labels_aliases_by_property(query_ids, property_id, class_tree)['results']['bindings']"
   ]
  },
  {
   "cell_type": "code",
   "execution_count": 29,
   "metadata": {},
   "outputs": [
    {
     "data": {
      "text/html": [
       "<div>\n",
       "<style scoped>\n",
       "    .dataframe tbody tr th:only-of-type {\n",
       "        vertical-align: middle;\n",
       "    }\n",
       "\n",
       "    .dataframe tbody tr th {\n",
       "        vertical-align: top;\n",
       "    }\n",
       "\n",
       "    .dataframe thead th {\n",
       "        text-align: right;\n",
       "    }\n",
       "</style>\n",
       "<table border=\"1\" class=\"dataframe\">\n",
       "  <thead>\n",
       "    <tr style=\"text-align: right;\">\n",
       "      <th></th>\n",
       "      <th>qcode</th>\n",
       "      <th>item.value</th>\n",
       "      <th>itemLabel.value</th>\n",
       "      <th>altLabel.value</th>\n",
       "    </tr>\n",
       "  </thead>\n",
       "  <tbody>\n",
       "    <tr>\n",
       "      <th>0</th>\n",
       "      <td>Q1066823</td>\n",
       "      <td>http://www.wikidata.org/entity/Q1066823</td>\n",
       "      <td>National Weather Service</td>\n",
       "      <td>NWS</td>\n",
       "    </tr>\n",
       "    <tr>\n",
       "      <th>1</th>\n",
       "      <td>Q1066823</td>\n",
       "      <td>http://www.wikidata.org/entity/Q1066823</td>\n",
       "      <td>National Weather Service</td>\n",
       "      <td>United States Weather Bureau</td>\n",
       "    </tr>\n",
       "    <tr>\n",
       "      <th>2</th>\n",
       "      <td>Q877056</td>\n",
       "      <td>http://www.wikidata.org/entity/Q877056</td>\n",
       "      <td>Christofle</td>\n",
       "      <td>Christofle &amp; Cie</td>\n",
       "    </tr>\n",
       "    <tr>\n",
       "      <th>3</th>\n",
       "      <td>Q877056</td>\n",
       "      <td>http://www.wikidata.org/entity/Q877056</td>\n",
       "      <td>Christofle</td>\n",
       "      <td>Christofle &amp; Co.</td>\n",
       "    </tr>\n",
       "    <tr>\n",
       "      <th>4</th>\n",
       "      <td>Q877056</td>\n",
       "      <td>http://www.wikidata.org/entity/Q877056</td>\n",
       "      <td>Christofle</td>\n",
       "      <td>Christofle et Cie</td>\n",
       "    </tr>\n",
       "    <tr>\n",
       "      <th>5</th>\n",
       "      <td>Q877056</td>\n",
       "      <td>http://www.wikidata.org/entity/Q877056</td>\n",
       "      <td>Christofle</td>\n",
       "      <td>L' Orfèvrerie Christofle</td>\n",
       "    </tr>\n",
       "    <tr>\n",
       "      <th>6</th>\n",
       "      <td>Q877056</td>\n",
       "      <td>http://www.wikidata.org/entity/Q877056</td>\n",
       "      <td>Christofle</td>\n",
       "      <td>Orfèvrerie Christofle</td>\n",
       "    </tr>\n",
       "    <tr>\n",
       "      <th>7</th>\n",
       "      <td>Q5323238</td>\n",
       "      <td>http://www.wikidata.org/entity/Q5323238</td>\n",
       "      <td>EKCO</td>\n",
       "      <td>Eric Kirkham Cole Limited</td>\n",
       "    </tr>\n",
       "    <tr>\n",
       "      <th>8</th>\n",
       "      <td>Q532084</td>\n",
       "      <td>http://www.wikidata.org/entity/Q532084</td>\n",
       "      <td>Bass Brewery</td>\n",
       "      <td>The Bass Brewery</td>\n",
       "    </tr>\n",
       "    <tr>\n",
       "      <th>9</th>\n",
       "      <td>Q565558</td>\n",
       "      <td>http://www.wikidata.org/entity/Q565558</td>\n",
       "      <td>Schott AG</td>\n",
       "      <td>Jenaer Glaswerk Schott &amp; Gen.</td>\n",
       "    </tr>\n",
       "    <tr>\n",
       "      <th>10</th>\n",
       "      <td>Q565558</td>\n",
       "      <td>http://www.wikidata.org/entity/Q565558</td>\n",
       "      <td>Schott AG</td>\n",
       "      <td>Schott &amp; Gen.</td>\n",
       "    </tr>\n",
       "    <tr>\n",
       "      <th>11</th>\n",
       "      <td>Q920016</td>\n",
       "      <td>http://www.wikidata.org/entity/Q920016</td>\n",
       "      <td>British Railways Board</td>\n",
       "      <td>BRB</td>\n",
       "    </tr>\n",
       "    <tr>\n",
       "      <th>12</th>\n",
       "      <td>Q655224</td>\n",
       "      <td>http://www.wikidata.org/entity/Q655224</td>\n",
       "      <td>British Aircraft Corporation</td>\n",
       "      <td>BAC</td>\n",
       "    </tr>\n",
       "  </tbody>\n",
       "</table>\n",
       "</div>"
      ],
      "text/plain": [
       "       qcode                               item.value  \\\n",
       "0   Q1066823  http://www.wikidata.org/entity/Q1066823   \n",
       "1   Q1066823  http://www.wikidata.org/entity/Q1066823   \n",
       "2    Q877056   http://www.wikidata.org/entity/Q877056   \n",
       "3    Q877056   http://www.wikidata.org/entity/Q877056   \n",
       "4    Q877056   http://www.wikidata.org/entity/Q877056   \n",
       "5    Q877056   http://www.wikidata.org/entity/Q877056   \n",
       "6    Q877056   http://www.wikidata.org/entity/Q877056   \n",
       "7   Q5323238  http://www.wikidata.org/entity/Q5323238   \n",
       "8    Q532084   http://www.wikidata.org/entity/Q532084   \n",
       "9    Q565558   http://www.wikidata.org/entity/Q565558   \n",
       "10   Q565558   http://www.wikidata.org/entity/Q565558   \n",
       "11   Q920016   http://www.wikidata.org/entity/Q920016   \n",
       "12   Q655224   http://www.wikidata.org/entity/Q655224   \n",
       "\n",
       "                 itemLabel.value                 altLabel.value  \n",
       "0       National Weather Service                            NWS  \n",
       "1       National Weather Service   United States Weather Bureau  \n",
       "2                     Christofle               Christofle & Cie  \n",
       "3                     Christofle               Christofle & Co.  \n",
       "4                     Christofle              Christofle et Cie  \n",
       "5                     Christofle       L' Orfèvrerie Christofle  \n",
       "6                     Christofle          Orfèvrerie Christofle  \n",
       "7                           EKCO      Eric Kirkham Cole Limited  \n",
       "8                   Bass Brewery               The Bass Brewery  \n",
       "9                      Schott AG  Jenaer Glaswerk Schott & Gen.  \n",
       "10                     Schott AG                  Schott & Gen.  \n",
       "11        British Railways Board                            BRB  \n",
       "12  British Aircraft Corporation                            BAC  "
      ]
     },
     "execution_count": 29,
     "metadata": {},
     "output_type": "execute_result"
    }
   ],
   "source": [
    "res_df = pd.json_normalize(res)\n",
    "res_df['qcode'] = res_df['item.value'].apply(lambda x: re.findall(r\"(Q\\d+)\", x)[0])\n",
    "res_df = res_df[['qcode', 'item.value', 'itemLabel.value', 'altLabel.value']]\n",
    "res_df"
   ]
  },
  {
   "cell_type": "code",
   "execution_count": null,
   "metadata": {},
   "outputs": [],
   "source": []
  }
 ],
 "metadata": {
  "kernelspec": {
   "display_name": "Python 3",
   "language": "python",
   "name": "python3"
  },
  "language_info": {
   "codemirror_mode": {
    "name": "ipython",
    "version": 3
   },
   "file_extension": ".py",
   "mimetype": "text/x-python",
   "name": "python",
   "nbconvert_exporter": "python",
   "pygments_lexer": "ipython3",
   "version": "3.7.4"
  }
 },
 "nbformat": 4,
 "nbformat_minor": 4
}
