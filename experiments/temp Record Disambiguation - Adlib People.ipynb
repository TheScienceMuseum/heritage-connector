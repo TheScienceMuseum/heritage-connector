{
 "cells": [
  {
   "cell_type": "code",
   "execution_count": 60,
   "id": "starting-catholic",
   "metadata": {},
   "outputs": [],
   "source": [
    "import sys\n",
    "sys.path.append(\"..\")\n",
    "\n",
    "from heritageconnector.disambiguation.pipelines import Disambiguator\n",
    "from heritageconnector.disambiguation.helpers import load_training_data, plot_performance_curves\n",
    "from heritageconnector.disambiguation.postprocessing import filter_max_wikidata_links, enforce_correct_type\n",
    "from heritageconnector.config import config\n",
    "\n",
    "from rdflib.plugins.stores.sparqlstore import SPARQLStore\n",
    "from rdflib import URIRef\n",
    "\n",
    "import numpy as np\n",
    "import pandas as pd\n",
    "\n",
    "pd.set_option('display.max_rows', 500)\n",
    "pd.set_option('display.max_columns', None)\n",
    "pd.set_option('display.max_colwidth', None)\n",
    "pd.set_option('display.width', 1000)"
   ]
  },
  {
   "cell_type": "markdown",
   "id": "metallic-peninsula",
   "metadata": {},
   "source": [
    "### get test data for ADLIB_PEOPLE"
   ]
  },
  {
   "cell_type": "code",
   "execution_count": 4,
   "id": "suitable-gossip",
   "metadata": {},
   "outputs": [],
   "source": [
    "disambiguator = Disambiguator(\"PERSON_ADLIB\", )"
   ]
  },
  {
   "cell_type": "code",
   "execution_count": 5,
   "id": "pending-elements",
   "metadata": {
    "collapsed": true,
    "jupyter": {
     "outputs_hidden": true
    }
   },
   "outputs": [
    {
     "name": "stdout",
     "output_type": "stream",
     "text": [
      "2021-06-03 17:03:00,379 - heritageconnector.utils.wikidata - WARNING - Values {'http://xmlns.com/foaf/0.1/made', 'http://www.w3.org/2004/02/skos/core#related'} are missing from results.\n"
     ]
    },
    {
     "data": {
      "application/vnd.jupyter.widget-view+json": {
       "model_id": "ffcfd6db79104e879a962dc149cd8578",
       "version_major": 2,
       "version_minor": 0
      },
      "text/plain": [
       "0it [00:00, ?it/s]"
      ]
     },
     "metadata": {},
     "output_type": "display_data"
    },
    {
     "name": "stdout",
     "output_type": "stream",
     "text": [
      "2021-06-03 17:03:01,478 - heritageconnector.disambiguation.pipelines - DEBUG - Running search\n",
      "2021-06-03 17:05:26,631 - heritageconnector.disambiguation.pipelines - DEBUG - ...search complete in 145.14346432685852s\n",
      "2021-06-03 17:05:26,668 - heritageconnector.disambiguation.pipelines - DEBUG - Getting wikidata fields\n",
      "Getting 1448 wikidata documents in pages of 50\n"
     ]
    },
    {
     "data": {
      "application/vnd.jupyter.widget-view+json": {
       "model_id": "cdcd079398954b15be81f801c18a2059",
       "version_major": 2,
       "version_minor": 0
      },
      "text/plain": [
       "  0%|          | 0/29 [00:00<?, ?it/s]"
      ]
     },
     "metadata": {},
     "output_type": "display_data"
    },
    {
     "name": "stdout",
     "output_type": "stream",
     "text": [
      "2021-06-03 17:07:51,783 - heritageconnector.disambiguation.pipelines - DEBUG - ...retrieved in 145.11253905296326s\n"
     ]
    },
    {
     "name": "stderr",
     "output_type": "stream",
     "text": [
      "/Users/kalyan/.pyenv/versions/3.9.1/envs/hc/lib/python3.9/site-packages/pandas/core/indexing.py:1597: SettingWithCopyWarning: \n",
      "A value is trying to be set on a copy of a slice from a DataFrame.\n",
      "Try using .loc[row_indexer,col_indexer] = value instead\n",
      "\n",
      "See the caveats in the documentation: https://pandas.pydata.org/pandas-docs/stable/user_guide/indexing.html#returning-a-view-versus-a-copy\n",
      "  self.obj[key] = value\n",
      "/Users/kalyan/.pyenv/versions/3.9.1/envs/hc/lib/python3.9/site-packages/pandas/core/indexing.py:1720: SettingWithCopyWarning: \n",
      "A value is trying to be set on a copy of a slice from a DataFrame.\n",
      "Try using .loc[row_indexer,col_indexer] = value instead\n",
      "\n",
      "See the caveats in the documentation: https://pandas.pydata.org/pandas-docs/stable/user_guide/indexing.html#returning-a-view-versus-a-copy\n",
      "  self._setitem_single_column(loc, value, pi)\n"
     ]
    },
    {
     "name": "stdout",
     "output_type": "stream",
     "text": [
      "2021-06-03 17:07:52,168 - heritageconnector.disambiguation.pipelines - DEBUG - Calculating field similarities for batch..\n",
      "2021-06-03 17:08:27,029 - heritageconnector.disambiguation.pipelines - DEBUG - Finding distances between entities...\n"
     ]
    },
    {
     "data": {
      "application/vnd.jupyter.widget-view+json": {
       "model_id": "da227ca9beb64d3bbb8020847e9e992c",
       "version_major": 2,
       "version_minor": 0
      },
      "text/plain": [
       "  0%|          | 0/214 [00:00<?, ?it/s]"
      ]
     },
     "metadata": {},
     "output_type": "display_data"
    },
    {
     "name": "stdout",
     "output_type": "stream",
     "text": [
      "2021-06-03 17:10:25,706 - heritageconnector.disambiguation.pipelines - DEBUG - Running search\n",
      "2021-06-03 17:12:47,031 - heritageconnector.disambiguation.pipelines - DEBUG - ...search complete in 141.3234589099884s\n",
      "2021-06-03 17:12:47,033 - heritageconnector.disambiguation.pipelines - DEBUG - Getting wikidata fields\n",
      "Getting 1580 wikidata documents in pages of 50\n"
     ]
    },
    {
     "data": {
      "application/vnd.jupyter.widget-view+json": {
       "model_id": "8f224df0d91748b8bbe569f0d1e822f5",
       "version_major": 2,
       "version_minor": 0
      },
      "text/plain": [
       "  0%|          | 0/32 [00:00<?, ?it/s]"
      ]
     },
     "metadata": {},
     "output_type": "display_data"
    },
    {
     "name": "stdout",
     "output_type": "stream",
     "text": [
      "2021-06-03 17:15:57,240 - heritageconnector.disambiguation.pipelines - DEBUG - ...retrieved in 190.20556211471558s\n",
      "2021-06-03 17:15:57,540 - heritageconnector.disambiguation.pipelines - DEBUG - Calculating field similarities for batch..\n",
      "2021-06-03 17:16:36,870 - heritageconnector.disambiguation.pipelines - DEBUG - Finding distances between entities...\n"
     ]
    },
    {
     "data": {
      "application/vnd.jupyter.widget-view+json": {
       "model_id": "b5325353415a44af9e2838a7c4c5cc2f",
       "version_major": 2,
       "version_minor": 0
      },
      "text/plain": [
       "  0%|          | 0/279 [00:00<?, ?it/s]"
      ]
     },
     "metadata": {},
     "output_type": "display_data"
    },
    {
     "name": "stdout",
     "output_type": "stream",
     "text": [
      "2021-06-03 17:18:12,818 - heritageconnector.disambiguation.pipelines - DEBUG - Running search\n",
      "2021-06-03 17:20:44,241 - heritageconnector.disambiguation.pipelines - DEBUG - ...search complete in 151.4216170310974s\n",
      "2021-06-03 17:20:44,243 - heritageconnector.disambiguation.pipelines - DEBUG - Getting wikidata fields\n",
      "Getting 1492 wikidata documents in pages of 50\n"
     ]
    },
    {
     "data": {
      "application/vnd.jupyter.widget-view+json": {
       "model_id": "db0b56201cc24449b513d97eb72e1832",
       "version_major": 2,
       "version_minor": 0
      },
      "text/plain": [
       "  0%|          | 0/30 [00:00<?, ?it/s]"
      ]
     },
     "metadata": {},
     "output_type": "display_data"
    },
    {
     "name": "stdout",
     "output_type": "stream",
     "text": [
      "2021-06-03 17:23:22,699 - heritageconnector.disambiguation.pipelines - DEBUG - ...retrieved in 158.45448684692383s\n",
      "2021-06-03 17:23:22,996 - heritageconnector.disambiguation.pipelines - DEBUG - Calculating field similarities for batch..\n",
      "2021-06-03 17:23:51,140 - heritageconnector.disambiguation.pipelines - DEBUG - Finding distances between entities...\n"
     ]
    },
    {
     "data": {
      "application/vnd.jupyter.widget-view+json": {
       "model_id": "3d61292b2988433891d7dac755d1aab5",
       "version_major": 2,
       "version_minor": 0
      },
      "text/plain": [
       "  0%|          | 0/255 [00:00<?, ?it/s]"
      ]
     },
     "metadata": {},
     "output_type": "display_data"
    },
    {
     "name": "stdout",
     "output_type": "stream",
     "text": [
      "2021-06-03 17:24:58,811 - heritageconnector.disambiguation.pipelines - DEBUG - Running search\n",
      "2021-06-03 17:27:24,861 - heritageconnector.disambiguation.pipelines - DEBUG - ...search complete in 146.0455858707428s\n",
      "2021-06-03 17:27:24,864 - heritageconnector.disambiguation.pipelines - DEBUG - Getting wikidata fields\n",
      "Getting 1555 wikidata documents in pages of 50\n"
     ]
    },
    {
     "data": {
      "application/vnd.jupyter.widget-view+json": {
       "model_id": "f610a4025091412ba2e1ccd05522d85d",
       "version_major": 2,
       "version_minor": 0
      },
      "text/plain": [
       "  0%|          | 0/32 [00:00<?, ?it/s]"
      ]
     },
     "metadata": {},
     "output_type": "display_data"
    },
    {
     "name": "stdout",
     "output_type": "stream",
     "text": [
      "Getting 1555 wikidata documents in pages of 50\n"
     ]
    },
    {
     "data": {
      "application/vnd.jupyter.widget-view+json": {
       "model_id": "498957cd77d34211b1ee69517663d603",
       "version_major": 2,
       "version_minor": 0
      },
      "text/plain": [
       "  0%|          | 0/32 [00:00<?, ?it/s]"
      ]
     },
     "metadata": {},
     "output_type": "display_data"
    },
    {
     "name": "stdout",
     "output_type": "stream",
     "text": [
      "2021-06-03 17:32:11,238 - heritageconnector.disambiguation.pipelines - DEBUG - ...retrieved in 286.37330198287964s\n",
      "2021-06-03 17:32:11,538 - heritageconnector.disambiguation.pipelines - DEBUG - Calculating field similarities for batch..\n",
      "2021-06-03 17:33:00,715 - heritageconnector.disambiguation.pipelines - DEBUG - Finding distances between entities...\n"
     ]
    },
    {
     "data": {
      "application/vnd.jupyter.widget-view+json": {
       "model_id": "8a0d50ac75bd4020b63e1e1ba3534962",
       "version_major": 2,
       "version_minor": 0
      },
      "text/plain": [
       "  0%|          | 0/219 [00:00<?, ?it/s]"
      ]
     },
     "metadata": {},
     "output_type": "display_data"
    },
    {
     "name": "stdout",
     "output_type": "stream",
     "text": [
      "2021-06-03 17:33:52,151 - heritageconnector.disambiguation.pipelines - DEBUG - Running search\n",
      "2021-06-03 17:36:10,012 - heritageconnector.disambiguation.pipelines - DEBUG - ...search complete in 137.8590269088745s\n",
      "2021-06-03 17:36:10,014 - heritageconnector.disambiguation.pipelines - DEBUG - Getting wikidata fields\n",
      "Getting 1567 wikidata documents in pages of 50\n"
     ]
    },
    {
     "data": {
      "application/vnd.jupyter.widget-view+json": {
       "model_id": "202e4c4bc78a4857b15fcb2f2dbc7a1e",
       "version_major": 2,
       "version_minor": 0
      },
      "text/plain": [
       "  0%|          | 0/32 [00:00<?, ?it/s]"
      ]
     },
     "metadata": {},
     "output_type": "display_data"
    },
    {
     "name": "stdout",
     "output_type": "stream",
     "text": [
      "2021-06-03 17:38:51,889 - heritageconnector.disambiguation.pipelines - DEBUG - ...retrieved in 161.8740520477295s\n",
      "2021-06-03 17:38:52,186 - heritageconnector.disambiguation.pipelines - DEBUG - Calculating field similarities for batch..\n",
      "2021-06-03 17:39:43,551 - heritageconnector.disambiguation.pipelines - DEBUG - Finding distances between entities...\n"
     ]
    },
    {
     "data": {
      "application/vnd.jupyter.widget-view+json": {
       "model_id": "c72755b92d55480588ae14c61e32231c",
       "version_major": 2,
       "version_minor": 0
      },
      "text/plain": [
       "  0%|          | 0/219 [00:00<?, ?it/s]"
      ]
     },
     "metadata": {},
     "output_type": "display_data"
    },
    {
     "name": "stdout",
     "output_type": "stream",
     "text": [
      "2021-06-03 17:40:48,302 - heritageconnector.disambiguation.pipelines - DEBUG - Running search\n",
      "2021-06-03 17:43:11,894 - heritageconnector.disambiguation.pipelines - DEBUG - ...search complete in 143.5904519557953s\n",
      "2021-06-03 17:43:11,896 - heritageconnector.disambiguation.pipelines - DEBUG - Getting wikidata fields\n",
      "Getting 1545 wikidata documents in pages of 50\n"
     ]
    },
    {
     "data": {
      "application/vnd.jupyter.widget-view+json": {
       "model_id": "a6c09d1b228d4f0a80e41ff6c3e7b3a9",
       "version_major": 2,
       "version_minor": 0
      },
      "text/plain": [
       "  0%|          | 0/31 [00:00<?, ?it/s]"
      ]
     },
     "metadata": {},
     "output_type": "display_data"
    },
    {
     "name": "stdout",
     "output_type": "stream",
     "text": [
      "2021-06-03 17:46:25,318 - heritageconnector.disambiguation.pipelines - DEBUG - ...retrieved in 193.42065525054932s\n",
      "2021-06-03 17:46:25,619 - heritageconnector.disambiguation.pipelines - DEBUG - Calculating field similarities for batch..\n",
      "2021-06-03 17:47:46,047 - heritageconnector.disambiguation.pipelines - DEBUG - Finding distances between entities...\n"
     ]
    },
    {
     "data": {
      "application/vnd.jupyter.widget-view+json": {
       "model_id": "0fd2bf86946d479d8ce454f7066d34d8",
       "version_major": 2,
       "version_minor": 0
      },
      "text/plain": [
       "  0%|          | 0/182 [00:00<?, ?it/s]"
      ]
     },
     "metadata": {},
     "output_type": "display_data"
    },
    {
     "name": "stdout",
     "output_type": "stream",
     "text": [
      "2021-06-03 17:48:21,814 - heritageconnector.disambiguation.pipelines - DEBUG - Running search\n",
      "2021-06-03 17:50:41,444 - heritageconnector.disambiguation.pipelines - DEBUG - ...search complete in 139.62847423553467s\n",
      "2021-06-03 17:50:41,446 - heritageconnector.disambiguation.pipelines - DEBUG - Getting wikidata fields\n",
      "Getting 1454 wikidata documents in pages of 50\n"
     ]
    },
    {
     "data": {
      "application/vnd.jupyter.widget-view+json": {
       "model_id": "8b4c3a0e26cf4ad5b53569507b868bc5",
       "version_major": 2,
       "version_minor": 0
      },
      "text/plain": [
       "  0%|          | 0/30 [00:00<?, ?it/s]"
      ]
     },
     "metadata": {},
     "output_type": "display_data"
    },
    {
     "name": "stdout",
     "output_type": "stream",
     "text": [
      "2021-06-03 17:53:31,395 - heritageconnector.disambiguation.pipelines - DEBUG - ...retrieved in 169.94762206077576s\n",
      "2021-06-03 17:53:31,694 - heritageconnector.disambiguation.pipelines - DEBUG - Calculating field similarities for batch..\n",
      "2021-06-03 17:53:56,934 - heritageconnector.disambiguation.pipelines - DEBUG - Finding distances between entities...\n"
     ]
    },
    {
     "data": {
      "application/vnd.jupyter.widget-view+json": {
       "model_id": "531925ba75b04210a716138f0f6a34a0",
       "version_major": 2,
       "version_minor": 0
      },
      "text/plain": [
       "  0%|          | 0/204 [00:00<?, ?it/s]"
      ]
     },
     "metadata": {},
     "output_type": "display_data"
    },
    {
     "name": "stdout",
     "output_type": "stream",
     "text": [
      "2021-06-03 17:54:37,105 - heritageconnector.disambiguation.pipelines - DEBUG - Running search\n",
      "2021-06-03 17:56:50,901 - heritageconnector.disambiguation.pipelines - DEBUG - ...search complete in 133.79431796073914s\n",
      "2021-06-03 17:56:50,904 - heritageconnector.disambiguation.pipelines - DEBUG - Getting wikidata fields\n",
      "Getting 1365 wikidata documents in pages of 50\n"
     ]
    },
    {
     "data": {
      "application/vnd.jupyter.widget-view+json": {
       "model_id": "aeca1842515c440bbeab59b9bedc52c7",
       "version_major": 2,
       "version_minor": 0
      },
      "text/plain": [
       "  0%|          | 0/28 [00:00<?, ?it/s]"
      ]
     },
     "metadata": {},
     "output_type": "display_data"
    },
    {
     "name": "stdout",
     "output_type": "stream",
     "text": [
      "2021-06-03 17:59:28,029 - heritageconnector.disambiguation.pipelines - DEBUG - ...retrieved in 157.12385511398315s\n",
      "2021-06-03 17:59:28,328 - heritageconnector.disambiguation.pipelines - DEBUG - Calculating field similarities for batch..\n",
      "2021-06-03 18:00:43,258 - heritageconnector.disambiguation.pipelines - DEBUG - Finding distances between entities...\n"
     ]
    },
    {
     "data": {
      "application/vnd.jupyter.widget-view+json": {
       "model_id": "15aff219bd2a4d7daa4013aecc3340c6",
       "version_major": 2,
       "version_minor": 0
      },
      "text/plain": [
       "  0%|          | 0/177 [00:00<?, ?it/s]"
      ]
     },
     "metadata": {},
     "output_type": "display_data"
    },
    {
     "name": "stdout",
     "output_type": "stream",
     "text": [
      "2021-06-03 18:01:31,794 - heritageconnector.disambiguation.pipelines - DEBUG - Running search\n",
      "2021-06-03 18:03:49,302 - heritageconnector.disambiguation.pipelines - DEBUG - ...search complete in 137.50632405281067s\n",
      "2021-06-03 18:03:49,305 - heritageconnector.disambiguation.pipelines - DEBUG - Getting wikidata fields\n",
      "Getting 1471 wikidata documents in pages of 50\n"
     ]
    },
    {
     "data": {
      "application/vnd.jupyter.widget-view+json": {
       "model_id": "45eca8d1864848f4b0d9c9b951231b96",
       "version_major": 2,
       "version_minor": 0
      },
      "text/plain": [
       "  0%|          | 0/30 [00:00<?, ?it/s]"
      ]
     },
     "metadata": {},
     "output_type": "display_data"
    },
    {
     "name": "stdout",
     "output_type": "stream",
     "text": [
      "2021-06-03 18:06:31,922 - heritageconnector.disambiguation.pipelines - DEBUG - ...retrieved in 162.61564111709595s\n",
      "2021-06-03 18:06:32,222 - heritageconnector.disambiguation.pipelines - DEBUG - Calculating field similarities for batch..\n",
      "2021-06-03 18:07:48,855 - heritageconnector.disambiguation.pipelines - DEBUG - Finding distances between entities...\n"
     ]
    },
    {
     "data": {
      "application/vnd.jupyter.widget-view+json": {
       "model_id": "ed13b70d2b7d456d92a3e70728f1057c",
       "version_major": 2,
       "version_minor": 0
      },
      "text/plain": [
       "  0%|          | 0/168 [00:00<?, ?it/s]"
      ]
     },
     "metadata": {},
     "output_type": "display_data"
    },
    {
     "name": "stdout",
     "output_type": "stream",
     "text": [
      "2021-06-03 18:08:33,185 - heritageconnector.disambiguation.pipelines - DEBUG - Running search\n",
      "2021-06-03 18:10:56,281 - heritageconnector.disambiguation.pipelines - DEBUG - ...search complete in 143.09508204460144s\n",
      "2021-06-03 18:10:56,283 - heritageconnector.disambiguation.pipelines - DEBUG - Getting wikidata fields\n",
      "Getting 1545 wikidata documents in pages of 50\n"
     ]
    },
    {
     "data": {
      "application/vnd.jupyter.widget-view+json": {
       "model_id": "a96da278cb7a4881b55e3c4dd25c6b22",
       "version_major": 2,
       "version_minor": 0
      },
      "text/plain": [
       "  0%|          | 0/31 [00:00<?, ?it/s]"
      ]
     },
     "metadata": {},
     "output_type": "display_data"
    },
    {
     "name": "stdout",
     "output_type": "stream",
     "text": [
      "2021-06-03 18:14:39,135 - heritageconnector.disambiguation.pipelines - DEBUG - ...retrieved in 222.8506350517273s\n",
      "2021-06-03 18:14:39,435 - heritageconnector.disambiguation.pipelines - DEBUG - Calculating field similarities for batch..\n",
      "2021-06-03 18:15:42,383 - heritageconnector.disambiguation.pipelines - DEBUG - Finding distances between entities...\n"
     ]
    },
    {
     "data": {
      "application/vnd.jupyter.widget-view+json": {
       "model_id": "7c7afc787ca84d928157566be8f21f10",
       "version_major": 2,
       "version_minor": 0
      },
      "text/plain": [
       "  0%|          | 0/224 [00:00<?, ?it/s]"
      ]
     },
     "metadata": {},
     "output_type": "display_data"
    },
    {
     "name": "stdout",
     "output_type": "stream",
     "text": [
      "2021-06-03 18:16:42,141 - heritageconnector.disambiguation.pipelines - DEBUG - Running search\n",
      "2021-06-03 18:19:17,124 - heritageconnector.disambiguation.pipelines - DEBUG - ...search complete in 154.98096680641174s\n",
      "2021-06-03 18:19:17,126 - heritageconnector.disambiguation.pipelines - DEBUG - Getting wikidata fields\n",
      "Getting 1511 wikidata documents in pages of 50\n"
     ]
    },
    {
     "data": {
      "application/vnd.jupyter.widget-view+json": {
       "model_id": "5edd8a4a1e934ac8a7f743f5a41e0be9",
       "version_major": 2,
       "version_minor": 0
      },
      "text/plain": [
       "  0%|          | 0/31 [00:00<?, ?it/s]"
      ]
     },
     "metadata": {},
     "output_type": "display_data"
    },
    {
     "name": "stdout",
     "output_type": "stream",
     "text": [
      "2021-06-03 18:21:59,593 - heritageconnector.disambiguation.pipelines - DEBUG - ...retrieved in 162.4661021232605s\n",
      "2021-06-03 18:21:59,893 - heritageconnector.disambiguation.pipelines - DEBUG - Calculating field similarities for batch..\n",
      "2021-06-03 18:23:09,676 - heritageconnector.disambiguation.pipelines - DEBUG - Finding distances between entities...\n"
     ]
    },
    {
     "data": {
      "application/vnd.jupyter.widget-view+json": {
       "model_id": "764ac0d3b84240f38882750fe8f11040",
       "version_major": 2,
       "version_minor": 0
      },
      "text/plain": [
       "  0%|          | 0/212 [00:00<?, ?it/s]"
      ]
     },
     "metadata": {},
     "output_type": "display_data"
    },
    {
     "name": "stdout",
     "output_type": "stream",
     "text": [
      "2021-06-03 18:24:07,634 - heritageconnector.disambiguation.pipelines - DEBUG - Running search\n",
      "2021-06-03 18:26:41,303 - heritageconnector.disambiguation.pipelines - DEBUG - ...search complete in 153.66718697547913s\n",
      "2021-06-03 18:26:41,305 - heritageconnector.disambiguation.pipelines - DEBUG - Getting wikidata fields\n",
      "Getting 1572 wikidata documents in pages of 50\n"
     ]
    },
    {
     "data": {
      "application/vnd.jupyter.widget-view+json": {
       "model_id": "f2d4b74020094f008b89199b30d83c81",
       "version_major": 2,
       "version_minor": 0
      },
      "text/plain": [
       "  0%|          | 0/32 [00:00<?, ?it/s]"
      ]
     },
     "metadata": {},
     "output_type": "display_data"
    },
    {
     "name": "stdout",
     "output_type": "stream",
     "text": [
      "2021-06-03 18:30:16,543 - heritageconnector.disambiguation.pipelines - DEBUG - ...retrieved in 215.23608803749084s\n",
      "2021-06-03 18:30:16,844 - heritageconnector.disambiguation.pipelines - DEBUG - Calculating field similarities for batch..\n",
      "2021-06-03 18:31:08,733 - heritageconnector.disambiguation.pipelines - DEBUG - Finding distances between entities...\n"
     ]
    },
    {
     "data": {
      "application/vnd.jupyter.widget-view+json": {
       "model_id": "9a5c34ea8d164e9b8a035fd266a2ae76",
       "version_major": 2,
       "version_minor": 0
      },
      "text/plain": [
       "  0%|          | 0/223 [00:00<?, ?it/s]"
      ]
     },
     "metadata": {},
     "output_type": "display_data"
    },
    {
     "name": "stdout",
     "output_type": "stream",
     "text": [
      "2021-06-03 18:32:07,281 - heritageconnector.disambiguation.pipelines - DEBUG - Running search\n",
      "2021-06-03 18:34:49,259 - heritageconnector.disambiguation.pipelines - DEBUG - ...search complete in 161.97649598121643s\n",
      "2021-06-03 18:34:49,262 - heritageconnector.disambiguation.pipelines - DEBUG - Getting wikidata fields\n",
      "Getting 1606 wikidata documents in pages of 50\n"
     ]
    },
    {
     "data": {
      "application/vnd.jupyter.widget-view+json": {
       "model_id": "cdfc9341038a450aa9453aed45cf22f5",
       "version_major": 2,
       "version_minor": 0
      },
      "text/plain": [
       "  0%|          | 0/33 [00:00<?, ?it/s]"
      ]
     },
     "metadata": {},
     "output_type": "display_data"
    },
    {
     "name": "stdout",
     "output_type": "stream",
     "text": [
      "Getting 1606 wikidata documents in pages of 50\n"
     ]
    },
    {
     "data": {
      "application/vnd.jupyter.widget-view+json": {
       "model_id": "a17ba0a0dd314357bf4ce9e0a071e934",
       "version_major": 2,
       "version_minor": 0
      },
      "text/plain": [
       "  0%|          | 0/33 [00:00<?, ?it/s]"
      ]
     },
     "metadata": {},
     "output_type": "display_data"
    },
    {
     "name": "stdout",
     "output_type": "stream",
     "text": [
      "Getting 1606 wikidata documents in pages of 50\n"
     ]
    },
    {
     "data": {
      "application/vnd.jupyter.widget-view+json": {
       "model_id": "f229bbab9a874f6fbec002a4716ab129",
       "version_major": 2,
       "version_minor": 0
      },
      "text/plain": [
       "  0%|          | 0/33 [00:00<?, ?it/s]"
      ]
     },
     "metadata": {},
     "output_type": "display_data"
    },
    {
     "name": "stdout",
     "output_type": "stream",
     "text": [
      "Getting 1606 wikidata documents in pages of 50\n"
     ]
    },
    {
     "data": {
      "application/vnd.jupyter.widget-view+json": {
       "model_id": "ddec4c0b1e7740769f8d710599f595fc",
       "version_major": 2,
       "version_minor": 0
      },
      "text/plain": [
       "  0%|          | 0/33 [00:00<?, ?it/s]"
      ]
     },
     "metadata": {},
     "output_type": "display_data"
    },
    {
     "name": "stdout",
     "output_type": "stream",
     "text": [
      "2021-06-03 18:43:09,470 - heritageconnector.disambiguation.pipelines - DEBUG - ...retrieved in 500.2072720527649s\n",
      "2021-06-03 18:43:09,771 - heritageconnector.disambiguation.pipelines - DEBUG - Calculating field similarities for batch..\n",
      "2021-06-03 18:43:57,629 - heritageconnector.disambiguation.pipelines - DEBUG - Finding distances between entities...\n"
     ]
    },
    {
     "data": {
      "application/vnd.jupyter.widget-view+json": {
       "model_id": "ac58d14156a1441e93a1641cb9bd7add",
       "version_major": 2,
       "version_minor": 0
      },
      "text/plain": [
       "  0%|          | 0/220 [00:00<?, ?it/s]"
      ]
     },
     "metadata": {},
     "output_type": "display_data"
    },
    {
     "name": "stdout",
     "output_type": "stream",
     "text": [
      "2021-06-03 18:44:46,527 - heritageconnector.disambiguation.pipelines - DEBUG - Running search\n",
      "2021-06-03 18:47:22,951 - heritageconnector.disambiguation.pipelines - DEBUG - ...search complete in 156.42235493659973s\n",
      "2021-06-03 18:47:22,953 - heritageconnector.disambiguation.pipelines - DEBUG - Getting wikidata fields\n",
      "Getting 1532 wikidata documents in pages of 50\n"
     ]
    },
    {
     "data": {
      "application/vnd.jupyter.widget-view+json": {
       "model_id": "47c1561760d04c3390714e1169bdb8f0",
       "version_major": 2,
       "version_minor": 0
      },
      "text/plain": [
       "  0%|          | 0/31 [00:00<?, ?it/s]"
      ]
     },
     "metadata": {},
     "output_type": "display_data"
    },
    {
     "name": "stdout",
     "output_type": "stream",
     "text": [
      "Getting 1532 wikidata documents in pages of 50\n"
     ]
    },
    {
     "data": {
      "application/vnd.jupyter.widget-view+json": {
       "model_id": "8c6a2cb4f7e4411a8cf7ba98a862a1aa",
       "version_major": 2,
       "version_minor": 0
      },
      "text/plain": [
       "  0%|          | 0/31 [00:00<?, ?it/s]"
      ]
     },
     "metadata": {},
     "output_type": "display_data"
    },
    {
     "name": "stdout",
     "output_type": "stream",
     "text": [
      "2021-06-03 18:51:25,692 - heritageconnector.disambiguation.pipelines - DEBUG - ...retrieved in 242.73723793029785s\n",
      "2021-06-03 18:51:25,995 - heritageconnector.disambiguation.pipelines - DEBUG - Calculating field similarities for batch..\n",
      "2021-06-03 18:51:51,891 - heritageconnector.disambiguation.pipelines - DEBUG - Finding distances between entities...\n"
     ]
    },
    {
     "data": {
      "application/vnd.jupyter.widget-view+json": {
       "model_id": "2a79e3e0312d413f8a0deea7beba2305",
       "version_major": 2,
       "version_minor": 0
      },
      "text/plain": [
       "  0%|          | 0/224 [00:00<?, ?it/s]"
      ]
     },
     "metadata": {},
     "output_type": "display_data"
    },
    {
     "name": "stdout",
     "output_type": "stream",
     "text": [
      "2021-06-03 18:52:32,513 - heritageconnector.disambiguation.pipelines - DEBUG - Running search\n",
      "2021-06-03 18:55:01,359 - heritageconnector.disambiguation.pipelines - DEBUG - ...search complete in 148.8447380065918s\n",
      "2021-06-03 18:55:01,362 - heritageconnector.disambiguation.pipelines - DEBUG - Getting wikidata fields\n",
      "Getting 1622 wikidata documents in pages of 50\n"
     ]
    },
    {
     "data": {
      "application/vnd.jupyter.widget-view+json": {
       "model_id": "97157bc2d8ef424f9272ced7e0048157",
       "version_major": 2,
       "version_minor": 0
      },
      "text/plain": [
       "  0%|          | 0/33 [00:00<?, ?it/s]"
      ]
     },
     "metadata": {},
     "output_type": "display_data"
    },
    {
     "name": "stdout",
     "output_type": "stream",
     "text": [
      "2021-06-03 18:58:17,851 - heritageconnector.disambiguation.pipelines - DEBUG - ...retrieved in 196.48782014846802s\n",
      "2021-06-03 18:58:18,149 - heritageconnector.disambiguation.pipelines - DEBUG - Calculating field similarities for batch..\n",
      "2021-06-03 18:58:41,453 - heritageconnector.disambiguation.pipelines - DEBUG - Finding distances between entities...\n"
     ]
    },
    {
     "data": {
      "application/vnd.jupyter.widget-view+json": {
       "model_id": "5e2e91471ce745449b626d86be6badda",
       "version_major": 2,
       "version_minor": 0
      },
      "text/plain": [
       "  0%|          | 0/224 [00:00<?, ?it/s]"
      ]
     },
     "metadata": {},
     "output_type": "display_data"
    },
    {
     "name": "stdout",
     "output_type": "stream",
     "text": [
      "2021-06-03 18:59:05,395 - heritageconnector.disambiguation.pipelines - DEBUG - Running search\n",
      "2021-06-03 19:01:40,971 - heritageconnector.disambiguation.pipelines - DEBUG - ...search complete in 155.5737919807434s\n",
      "2021-06-03 19:01:40,973 - heritageconnector.disambiguation.pipelines - DEBUG - Getting wikidata fields\n",
      "Getting 1538 wikidata documents in pages of 50\n"
     ]
    },
    {
     "data": {
      "application/vnd.jupyter.widget-view+json": {
       "model_id": "ef97eb89c46648cbbd8ea3daf9ae2eb5",
       "version_major": 2,
       "version_minor": 0
      },
      "text/plain": [
       "  0%|          | 0/31 [00:00<?, ?it/s]"
      ]
     },
     "metadata": {},
     "output_type": "display_data"
    },
    {
     "name": "stdout",
     "output_type": "stream",
     "text": [
      "2021-06-03 19:04:22,392 - heritageconnector.disambiguation.pipelines - DEBUG - ...retrieved in 161.41704773902893s\n",
      "2021-06-03 19:04:22,692 - heritageconnector.disambiguation.pipelines - DEBUG - Calculating field similarities for batch..\n",
      "2021-06-03 19:04:45,113 - heritageconnector.disambiguation.pipelines - DEBUG - Finding distances between entities...\n"
     ]
    },
    {
     "data": {
      "application/vnd.jupyter.widget-view+json": {
       "model_id": "5f9f81fe7244479797c592c472c0d661",
       "version_major": 2,
       "version_minor": 0
      },
      "text/plain": [
       "  0%|          | 0/213 [00:00<?, ?it/s]"
      ]
     },
     "metadata": {},
     "output_type": "display_data"
    },
    {
     "name": "stdout",
     "output_type": "stream",
     "text": [
      "2021-06-03 19:05:16,354 - heritageconnector.disambiguation.pipelines - DEBUG - Running search\n",
      "2021-06-03 19:07:48,336 - heritageconnector.disambiguation.pipelines - DEBUG - ...search complete in 151.97955703735352s\n",
      "2021-06-03 19:07:48,338 - heritageconnector.disambiguation.pipelines - DEBUG - Getting wikidata fields\n",
      "Getting 1556 wikidata documents in pages of 50\n"
     ]
    },
    {
     "data": {
      "application/vnd.jupyter.widget-view+json": {
       "model_id": "ac6db146e3b44942bb395bf29b73679e",
       "version_major": 2,
       "version_minor": 0
      },
      "text/plain": [
       "  0%|          | 0/32 [00:00<?, ?it/s]"
      ]
     },
     "metadata": {},
     "output_type": "display_data"
    },
    {
     "name": "stdout",
     "output_type": "stream",
     "text": [
      "2021-06-03 19:10:47,610 - heritageconnector.disambiguation.pipelines - DEBUG - ...retrieved in 179.2705419063568s\n",
      "2021-06-03 19:10:47,909 - heritageconnector.disambiguation.pipelines - DEBUG - Calculating field similarities for batch..\n",
      "2021-06-03 19:11:37,807 - heritageconnector.disambiguation.pipelines - DEBUG - Finding distances between entities...\n"
     ]
    },
    {
     "data": {
      "application/vnd.jupyter.widget-view+json": {
       "model_id": "7d9056d0890f4251ab23f506fda9cdfe",
       "version_major": 2,
       "version_minor": 0
      },
      "text/plain": [
       "  0%|          | 0/215 [00:00<?, ?it/s]"
      ]
     },
     "metadata": {},
     "output_type": "display_data"
    },
    {
     "name": "stdout",
     "output_type": "stream",
     "text": [
      "2021-06-03 19:12:19,569 - heritageconnector.disambiguation.pipelines - DEBUG - Running search\n",
      "2021-06-03 19:14:45,108 - heritageconnector.disambiguation.pipelines - DEBUG - ...search complete in 145.538104057312s\n",
      "2021-06-03 19:14:45,111 - heritageconnector.disambiguation.pipelines - DEBUG - Getting wikidata fields\n",
      "Getting 1539 wikidata documents in pages of 50\n"
     ]
    },
    {
     "data": {
      "application/vnd.jupyter.widget-view+json": {
       "model_id": "90de9026684c4cd2864b7739ba6c4d65",
       "version_major": 2,
       "version_minor": 0
      },
      "text/plain": [
       "  0%|          | 0/31 [00:00<?, ?it/s]"
      ]
     },
     "metadata": {},
     "output_type": "display_data"
    },
    {
     "name": "stdout",
     "output_type": "stream",
     "text": [
      "2021-06-03 19:17:25,721 - heritageconnector.disambiguation.pipelines - DEBUG - ...retrieved in 160.60895109176636s\n",
      "2021-06-03 19:17:26,021 - heritageconnector.disambiguation.pipelines - DEBUG - Calculating field similarities for batch..\n",
      "2021-06-03 19:18:10,751 - heritageconnector.disambiguation.pipelines - DEBUG - Finding distances between entities...\n"
     ]
    },
    {
     "data": {
      "application/vnd.jupyter.widget-view+json": {
       "model_id": "ceb846b708364c48bf363ff89cf8f677",
       "version_major": 2,
       "version_minor": 0
      },
      "text/plain": [
       "  0%|          | 0/195 [00:00<?, ?it/s]"
      ]
     },
     "metadata": {},
     "output_type": "display_data"
    },
    {
     "name": "stdout",
     "output_type": "stream",
     "text": [
      "2021-06-03 19:18:29,976 - heritageconnector.disambiguation.pipelines - DEBUG - Running search\n",
      "2021-06-03 19:20:52,521 - heritageconnector.disambiguation.pipelines - DEBUG - ...search complete in 142.54357314109802s\n",
      "2021-06-03 19:20:52,523 - heritageconnector.disambiguation.pipelines - DEBUG - Getting wikidata fields\n",
      "Getting 1666 wikidata documents in pages of 50\n"
     ]
    },
    {
     "data": {
      "application/vnd.jupyter.widget-view+json": {
       "model_id": "e2bb854a984e4593b477114383193c6d",
       "version_major": 2,
       "version_minor": 0
      },
      "text/plain": [
       "  0%|          | 0/34 [00:00<?, ?it/s]"
      ]
     },
     "metadata": {},
     "output_type": "display_data"
    },
    {
     "name": "stdout",
     "output_type": "stream",
     "text": [
      "2021-06-03 19:23:42,716 - heritageconnector.disambiguation.pipelines - DEBUG - ...retrieved in 170.1913788318634s\n",
      "2021-06-03 19:23:43,017 - heritageconnector.disambiguation.pipelines - DEBUG - Calculating field similarities for batch..\n",
      "2021-06-03 19:24:16,664 - heritageconnector.disambiguation.pipelines - DEBUG - Finding distances between entities...\n"
     ]
    },
    {
     "data": {
      "application/vnd.jupyter.widget-view+json": {
       "model_id": "1da1e2a73e6e4541af0a362514bc8c43",
       "version_major": 2,
       "version_minor": 0
      },
      "text/plain": [
       "  0%|          | 0/204 [00:00<?, ?it/s]"
      ]
     },
     "metadata": {},
     "output_type": "display_data"
    },
    {
     "name": "stdout",
     "output_type": "stream",
     "text": [
      "2021-06-03 19:25:03,986 - heritageconnector.disambiguation.pipelines - DEBUG - Running search\n",
      "2021-06-03 19:27:30,959 - heritageconnector.disambiguation.pipelines - DEBUG - ...search complete in 146.97095894813538s\n",
      "2021-06-03 19:27:30,960 - heritageconnector.disambiguation.pipelines - DEBUG - Getting wikidata fields\n",
      "Getting 1583 wikidata documents in pages of 50\n"
     ]
    },
    {
     "data": {
      "application/vnd.jupyter.widget-view+json": {
       "model_id": "dda20b35633d4aa4a17109fc58979525",
       "version_major": 2,
       "version_minor": 0
      },
      "text/plain": [
       "  0%|          | 0/32 [00:00<?, ?it/s]"
      ]
     },
     "metadata": {},
     "output_type": "display_data"
    },
    {
     "name": "stdout",
     "output_type": "stream",
     "text": [
      "2021-06-03 19:30:03,005 - heritageconnector.disambiguation.pipelines - DEBUG - ...retrieved in 152.04378199577332s\n",
      "2021-06-03 19:30:03,307 - heritageconnector.disambiguation.pipelines - DEBUG - Calculating field similarities for batch..\n",
      "2021-06-03 19:30:32,139 - heritageconnector.disambiguation.pipelines - DEBUG - Finding distances between entities...\n"
     ]
    },
    {
     "data": {
      "application/vnd.jupyter.widget-view+json": {
       "model_id": "23ebc9458f834f90ace3964ed461406f",
       "version_major": 2,
       "version_minor": 0
      },
      "text/plain": [
       "  0%|          | 0/196 [00:00<?, ?it/s]"
      ]
     },
     "metadata": {},
     "output_type": "display_data"
    },
    {
     "name": "stdout",
     "output_type": "stream",
     "text": [
      "2021-06-03 19:30:58,082 - heritageconnector.disambiguation.pipelines - DEBUG - Running search\n",
      "2021-06-03 19:33:26,719 - heritageconnector.disambiguation.pipelines - DEBUG - ...search complete in 148.63507890701294s\n",
      "2021-06-03 19:33:26,722 - heritageconnector.disambiguation.pipelines - DEBUG - Getting wikidata fields\n",
      "Getting 1443 wikidata documents in pages of 50\n"
     ]
    },
    {
     "data": {
      "application/vnd.jupyter.widget-view+json": {
       "model_id": "a3376bf537a34114b9dda275c44451fa",
       "version_major": 2,
       "version_minor": 0
      },
      "text/plain": [
       "  0%|          | 0/29 [00:00<?, ?it/s]"
      ]
     },
     "metadata": {},
     "output_type": "display_data"
    },
    {
     "name": "stdout",
     "output_type": "stream",
     "text": [
      "2021-06-03 19:36:02,278 - heritageconnector.disambiguation.pipelines - DEBUG - ...retrieved in 155.55426001548767s\n",
      "2021-06-03 19:36:02,577 - heritageconnector.disambiguation.pipelines - DEBUG - Calculating field similarities for batch..\n",
      "2021-06-03 19:36:49,980 - heritageconnector.disambiguation.pipelines - DEBUG - Finding distances between entities...\n"
     ]
    },
    {
     "data": {
      "application/vnd.jupyter.widget-view+json": {
       "model_id": "f9060ed84cbf43019b424259740b72f9",
       "version_major": 2,
       "version_minor": 0
      },
      "text/plain": [
       "  0%|          | 0/201 [00:00<?, ?it/s]"
      ]
     },
     "metadata": {},
     "output_type": "display_data"
    },
    {
     "name": "stdout",
     "output_type": "stream",
     "text": [
      "2021-06-03 19:37:11,223 - heritageconnector.disambiguation.pipelines - DEBUG - Running search\n",
      "2021-06-03 19:39:35,345 - heritageconnector.disambiguation.pipelines - DEBUG - ...search complete in 144.11769604682922s\n",
      "2021-06-03 19:39:35,347 - heritageconnector.disambiguation.pipelines - DEBUG - Getting wikidata fields\n",
      "Getting 1508 wikidata documents in pages of 50\n"
     ]
    },
    {
     "data": {
      "application/vnd.jupyter.widget-view+json": {
       "model_id": "75d1ec14126749fca61ab3393631f521",
       "version_major": 2,
       "version_minor": 0
      },
      "text/plain": [
       "  0%|          | 0/31 [00:00<?, ?it/s]"
      ]
     },
     "metadata": {},
     "output_type": "display_data"
    },
    {
     "name": "stdout",
     "output_type": "stream",
     "text": [
      "2021-06-03 19:42:18,716 - heritageconnector.disambiguation.pipelines - DEBUG - ...retrieved in 163.36757278442383s\n",
      "2021-06-03 19:42:19,015 - heritageconnector.disambiguation.pipelines - DEBUG - Calculating field similarities for batch..\n",
      "2021-06-03 19:42:37,600 - heritageconnector.disambiguation.pipelines - DEBUG - get_triples query failed for item https://collection.sciencemuseumgroup.org.uk/people/ap26101. Retrying in 120 seconds\n",
      "2021-06-03 19:45:19,321 - heritageconnector.disambiguation.pipelines - DEBUG - Finding distances between entities...\n"
     ]
    },
    {
     "data": {
      "application/vnd.jupyter.widget-view+json": {
       "model_id": "1fae1f81d4274ebeb432ebcfffcf2562",
       "version_major": 2,
       "version_minor": 0
      },
      "text/plain": [
       "  0%|          | 0/199 [00:00<?, ?it/s]"
      ]
     },
     "metadata": {},
     "output_type": "display_data"
    },
    {
     "name": "stdout",
     "output_type": "stream",
     "text": [
      "2021-06-03 19:45:43,690 - heritageconnector.disambiguation.pipelines - DEBUG - Running search\n",
      "2021-06-03 19:48:10,523 - heritageconnector.disambiguation.pipelines - DEBUG - ...search complete in 146.83116626739502s\n",
      "2021-06-03 19:48:10,526 - heritageconnector.disambiguation.pipelines - DEBUG - Getting wikidata fields\n",
      "Getting 1526 wikidata documents in pages of 50\n"
     ]
    },
    {
     "data": {
      "application/vnd.jupyter.widget-view+json": {
       "model_id": "9a6727fdaaaf4e64aeb0032bee594f7e",
       "version_major": 2,
       "version_minor": 0
      },
      "text/plain": [
       "  0%|          | 0/31 [00:00<?, ?it/s]"
      ]
     },
     "metadata": {},
     "output_type": "display_data"
    },
    {
     "name": "stdout",
     "output_type": "stream",
     "text": [
      "2021-06-03 19:51:07,297 - heritageconnector.disambiguation.pipelines - DEBUG - ...retrieved in 176.76999807357788s\n",
      "2021-06-03 19:51:07,597 - heritageconnector.disambiguation.pipelines - DEBUG - Calculating field similarities for batch..\n",
      "2021-06-03 19:51:54,626 - heritageconnector.disambiguation.pipelines - DEBUG - Finding distances between entities...\n"
     ]
    },
    {
     "data": {
      "application/vnd.jupyter.widget-view+json": {
       "model_id": "88cedf550d7a4bf8af2592fc9d359e72",
       "version_major": 2,
       "version_minor": 0
      },
      "text/plain": [
       "  0%|          | 0/188 [00:00<?, ?it/s]"
      ]
     },
     "metadata": {},
     "output_type": "display_data"
    },
    {
     "name": "stdout",
     "output_type": "stream",
     "text": [
      "2021-06-03 19:52:11,449 - heritageconnector.disambiguation.pipelines - DEBUG - Running search\n",
      "2021-06-03 19:54:40,195 - heritageconnector.disambiguation.pipelines - DEBUG - ...search complete in 148.7431390285492s\n",
      "2021-06-03 19:54:40,197 - heritageconnector.disambiguation.pipelines - DEBUG - Getting wikidata fields\n",
      "Getting 1568 wikidata documents in pages of 50\n"
     ]
    },
    {
     "data": {
      "application/vnd.jupyter.widget-view+json": {
       "model_id": "d424bbb67e824f468d3c746f1dfb2942",
       "version_major": 2,
       "version_minor": 0
      },
      "text/plain": [
       "  0%|          | 0/32 [00:00<?, ?it/s]"
      ]
     },
     "metadata": {},
     "output_type": "display_data"
    },
    {
     "name": "stdout",
     "output_type": "stream",
     "text": [
      "2021-06-03 19:57:31,596 - heritageconnector.disambiguation.pipelines - DEBUG - ...retrieved in 171.3974151611328s\n",
      "2021-06-03 19:57:31,898 - heritageconnector.disambiguation.pipelines - DEBUG - Calculating field similarities for batch..\n",
      "2021-06-03 19:58:02,431 - heritageconnector.disambiguation.pipelines - DEBUG - Finding distances between entities...\n"
     ]
    },
    {
     "data": {
      "application/vnd.jupyter.widget-view+json": {
       "model_id": "9885da1a3ea94b7fac592516f43526c6",
       "version_major": 2,
       "version_minor": 0
      },
      "text/plain": [
       "  0%|          | 0/243 [00:00<?, ?it/s]"
      ]
     },
     "metadata": {},
     "output_type": "display_data"
    },
    {
     "name": "stdout",
     "output_type": "stream",
     "text": [
      "2021-06-03 19:58:47,735 - heritageconnector.disambiguation.pipelines - DEBUG - Running search\n",
      "2021-06-03 20:00:18,579 - heritageconnector.disambiguation.pipelines - DEBUG - ...search complete in 90.84199094772339s\n",
      "2021-06-03 20:00:18,582 - heritageconnector.disambiguation.pipelines - DEBUG - Getting wikidata fields\n",
      "Getting 917 wikidata documents in pages of 50\n"
     ]
    },
    {
     "data": {
      "application/vnd.jupyter.widget-view+json": {
       "model_id": "c4284c669a4d4e07af444fd42fe47e62",
       "version_major": 2,
       "version_minor": 0
      },
      "text/plain": [
       "  0%|          | 0/19 [00:00<?, ?it/s]"
      ]
     },
     "metadata": {},
     "output_type": "display_data"
    },
    {
     "name": "stdout",
     "output_type": "stream",
     "text": [
      "2021-06-03 20:02:09,185 - heritageconnector.disambiguation.pipelines - DEBUG - ...retrieved in 110.60178732872009s\n",
      "2021-06-03 20:02:09,352 - heritageconnector.disambiguation.pipelines - DEBUG - Calculating field similarities for batch..\n",
      "2021-06-03 20:02:31,663 - heritageconnector.disambiguation.pipelines - DEBUG - Finding distances between entities...\n"
     ]
    },
    {
     "data": {
      "application/vnd.jupyter.widget-view+json": {
       "model_id": "a9615a715a8f404dacab2cf0c728fe5b",
       "version_major": 2,
       "version_minor": 0
      },
      "text/plain": [
       "  0%|          | 0/116 [00:00<?, ?it/s]"
      ]
     },
     "metadata": {},
     "output_type": "display_data"
    }
   ],
   "source": [
    "disambiguator.save_test_data_to_folder(\"./test_data\", )"
   ]
  },
  {
   "cell_type": "markdown",
   "id": "agricultural-genome",
   "metadata": {},
   "source": [
    "### reorder the columns in adlib people test data to match the column order of mimsy people train data"
   ]
  },
  {
   "cell_type": "code",
   "execution_count": 7,
   "id": "perfect-canon",
   "metadata": {},
   "outputs": [],
   "source": [
    "people_mimsy_train_dir = \"/Volumes/Kalyan_SSD/SMG/disambiguation/people_281020/train/\"\n",
    "people_adlib_test_dir = \"./test_data\""
   ]
  },
  {
   "cell_type": "code",
   "execution_count": 11,
   "id": "central-transaction",
   "metadata": {},
   "outputs": [],
   "source": [
    "X_train, y_train, pairs_train, pids_train = load_training_data(people_mimsy_train_dir)\n",
    "X_test, pairs_test, pids_test = load_training_data(people_adlib_test_dir)"
   ]
  },
  {
   "cell_type": "code",
   "execution_count": 50,
   "id": "interesting-spirit",
   "metadata": {},
   "outputs": [
    {
     "data": {
      "text/plain": [
       "(['P106', 'P569', 'P21', 'P570', 'P734', 'P735', 'label', 'P31'],\n",
       " [None, 'P569', 'P21', 'P570', 'P734', 'P735', 'label', 'P31'])"
      ]
     },
     "execution_count": 50,
     "metadata": {},
     "output_type": "execute_result"
    }
   ],
   "source": [
    "test_cols_reordered = []\n",
    "pids_test_reordered = []\n",
    "\n",
    "for pid in pids_train:\n",
    "    if pid in pids_test:\n",
    "        pids_test_reordered.append(pid)\n",
    "        test_cols_reordered.append(X_test[:, pids_train.index(pid)])\n",
    "    else:\n",
    "        pids_test_reordered.append(None)\n",
    "        test_cols_reordered.append(np.zeros((X_test.shape[0], 1)))\n",
    "        \n",
    "pids_train, pids_test_reordered"
   ]
  },
  {
   "cell_type": "code",
   "execution_count": 53,
   "id": "seeing-sponsorship",
   "metadata": {},
   "outputs": [
    {
     "data": {
      "text/plain": [
       "((49100, 8), (57887, 8))"
      ]
     },
     "execution_count": 53,
     "metadata": {},
     "output_type": "execute_result"
    }
   ],
   "source": [
    "X_test_reordered = np.column_stack(test_cols_reordered)\n",
    "\n",
    "X_test_reordered.shape, X_train.shape"
   ]
  },
  {
   "cell_type": "markdown",
   "id": "classical-average",
   "metadata": {},
   "source": [
    "### run mimsy classifier on adlib data"
   ]
  },
  {
   "cell_type": "code",
   "execution_count": 67,
   "id": "emotional-annual",
   "metadata": {},
   "outputs": [],
   "source": [
    "clf = Disambiguator(\"PERSON\").fit(X_train, y_train)"
   ]
  },
  {
   "cell_type": "code",
   "execution_count": 82,
   "id": "democratic-handling",
   "metadata": {},
   "outputs": [],
   "source": [
    "pairs_pred = clf.get_predictions_table(X_test_reordered, pairs_test, threshold=0.95)\n",
    "top_positive_preds = clf.get_top_ranked_pairs(pairs_pred)\n",
    "top_positive_preds_filtered = enforce_correct_type(top_positive_preds)\n",
    "top_positive_preds_filtered = filter_max_wikidata_links(top_positive_preds_filtered, 2)"
   ]
  },
  {
   "cell_type": "markdown",
   "id": "advanced-thinking",
   "metadata": {},
   "source": [
    "### export for manual review\n",
    "from of 60 examples manually reviewed, there's an **estimated precision of 87% and recall of 100% with a 95% threshold**."
   ]
  },
  {
   "cell_type": "code",
   "execution_count": 83,
   "id": "interstate-county",
   "metadata": {},
   "outputs": [
    {
     "data": {
      "text/html": [
       "<div>\n",
       "<style scoped>\n",
       "    .dataframe tbody tr th:only-of-type {\n",
       "        vertical-align: middle;\n",
       "    }\n",
       "\n",
       "    .dataframe tbody tr th {\n",
       "        vertical-align: top;\n",
       "    }\n",
       "\n",
       "    .dataframe thead th {\n",
       "        text-align: right;\n",
       "    }\n",
       "</style>\n",
       "<table border=\"1\" class=\"dataframe\">\n",
       "  <thead>\n",
       "    <tr style=\"text-align: right;\">\n",
       "      <th></th>\n",
       "      <th>internal_id</th>\n",
       "      <th>wikidata_id</th>\n",
       "      <th>is_type</th>\n",
       "      <th>y_pred_proba</th>\n",
       "      <th>y_pred</th>\n",
       "    </tr>\n",
       "  </thead>\n",
       "  <tbody>\n",
       "    <tr>\n",
       "      <th>15218</th>\n",
       "      <td>https://collection.sciencemuseumgroup.org.uk/people/ap34</td>\n",
       "      <td>https://www.wikidata.org/entity/Q76004019</td>\n",
       "      <td>True</td>\n",
       "      <td>0.996749</td>\n",
       "      <td>True</td>\n",
       "    </tr>\n",
       "    <tr>\n",
       "      <th>21189</th>\n",
       "      <td>https://collection.sciencemuseumgroup.org.uk/people/ap28768</td>\n",
       "      <td>https://www.wikidata.org/entity/Q5083297</td>\n",
       "      <td>True</td>\n",
       "      <td>0.998241</td>\n",
       "      <td>True</td>\n",
       "    </tr>\n",
       "    <tr>\n",
       "      <th>20723</th>\n",
       "      <td>https://collection.sciencemuseumgroup.org.uk/people/ap86</td>\n",
       "      <td>https://www.wikidata.org/entity/Q355785</td>\n",
       "      <td>True</td>\n",
       "      <td>0.998241</td>\n",
       "      <td>True</td>\n",
       "    </tr>\n",
       "    <tr>\n",
       "      <th>20435</th>\n",
       "      <td>https://collection.sciencemuseumgroup.org.uk/people/ap24432</td>\n",
       "      <td>https://www.wikidata.org/entity/Q18756578</td>\n",
       "      <td>True</td>\n",
       "      <td>0.998241</td>\n",
       "      <td>True</td>\n",
       "    </tr>\n",
       "    <tr>\n",
       "      <th>46168</th>\n",
       "      <td>https://collection.sciencemuseumgroup.org.uk/people/ap24278</td>\n",
       "      <td>https://www.wikidata.org/entity/Q75636717</td>\n",
       "      <td>True</td>\n",
       "      <td>0.996002</td>\n",
       "      <td>True</td>\n",
       "    </tr>\n",
       "  </tbody>\n",
       "</table>\n",
       "</div>"
      ],
      "text/plain": [
       "                                                       internal_id                                wikidata_id  is_type  y_pred_proba  y_pred\n",
       "15218     https://collection.sciencemuseumgroup.org.uk/people/ap34  https://www.wikidata.org/entity/Q76004019     True      0.996749    True\n",
       "21189  https://collection.sciencemuseumgroup.org.uk/people/ap28768   https://www.wikidata.org/entity/Q5083297     True      0.998241    True\n",
       "20723     https://collection.sciencemuseumgroup.org.uk/people/ap86    https://www.wikidata.org/entity/Q355785     True      0.998241    True\n",
       "20435  https://collection.sciencemuseumgroup.org.uk/people/ap24432  https://www.wikidata.org/entity/Q18756578     True      0.998241    True\n",
       "46168  https://collection.sciencemuseumgroup.org.uk/people/ap24278  https://www.wikidata.org/entity/Q75636717     True      0.996002    True"
      ]
     },
     "execution_count": 83,
     "metadata": {},
     "output_type": "execute_result"
    }
   ],
   "source": [
    "pairs_pos_sample = pairs_pred[pairs_pred['y_pred'] == True].sample(30, random_state=42)\n",
    "pairs_neg_sample = pairs_pred[pairs_pred['y_pred'] == False].sample(30, random_state=42)\n",
    "\n",
    "pairs_sample = pd.concat([pairs_pos_sample, pairs_neg_sample], ignore_index=False)\n",
    "pairs_sample = pairs_sample.copy()\n",
    "pairs_sample['wikidata_id'] = \"https://www.wikidata.org/entity/\" + pairs_sample['wikidata_id']\n",
    "\n",
    "pairs_sample.head()"
   ]
  },
  {
   "cell_type": "code",
   "execution_count": null,
   "id": "prescription-disposition",
   "metadata": {},
   "outputs": [],
   "source": [
    "pairs_sample.to_excel(\"people_adlib_classifier_sample_for_review.xlsx\")"
   ]
  },
  {
   "cell_type": "markdown",
   "id": "charged-watershed",
   "metadata": {},
   "source": [
    "### save predictions"
   ]
  },
  {
   "cell_type": "code",
   "execution_count": 85,
   "id": "desperate-student",
   "metadata": {},
   "outputs": [
    {
     "name": "stdout",
     "output_type": "stream",
     "text": [
      "exporting 620 positive predictions\n"
     ]
    }
   ],
   "source": [
    "print(f\"exporting {len(top_positive_preds_filtered)} positive predictions\")\n",
    "top_positive_preds_filtered.to_csv(\"../GITIGNORE_DATA/disambiguation_preds_positive_adlib_people.csv\", index=False)"
   ]
  },
  {
   "cell_type": "code",
   "execution_count": null,
   "id": "considered-painting",
   "metadata": {},
   "outputs": [],
   "source": []
  }
 ],
 "metadata": {
  "kernelspec": {
   "display_name": "Python 3",
   "language": "python",
   "name": "python3"
  },
  "language_info": {
   "codemirror_mode": {
    "name": "ipython",
    "version": 3
   },
   "file_extension": ".py",
   "mimetype": "text/x-python",
   "name": "python",
   "nbconvert_exporter": "python",
   "pygments_lexer": "ipython3",
   "version": "3.9.1"
  }
 },
 "nbformat": 4,
 "nbformat_minor": 5
}
