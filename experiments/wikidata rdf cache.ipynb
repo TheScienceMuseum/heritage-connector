{
 "cells": [
  {
   "cell_type": "code",
   "execution_count": 102,
   "id": "marked-observation",
   "metadata": {},
   "outputs": [],
   "source": [
    "from rdflib import Graph, URIRef, Literal\n",
    "from elasticsearch import helpers\n",
    "import itertools\n",
    "from tqdm.auto import tqdm\n",
    "import json\n",
    "\n",
    "import sys\n",
    "sys.path.append(\"..\")\n",
    "\n",
    "from heritageconnector import datastore\n",
    "from heritageconnector.namespace import RDFS\n",
    "from heritageconnector.utils.wikidata import is_qid, url_to_qid"
   ]
  },
  {
   "cell_type": "markdown",
   "id": "successful-complex",
   "metadata": {},
   "source": [
    "## heritage connector graph from triples"
   ]
  },
  {
   "cell_type": "code",
   "execution_count": 37,
   "id": "backed-musical",
   "metadata": {},
   "outputs": [
    {
     "data": {
      "text/plain": [
       "<Graph identifier=N0224a797f7d94f70a0d13493a91f0d07 (<class 'rdflib.graph.Graph'>)>"
      ]
     },
     "execution_count": 37,
     "metadata": {},
     "output_type": "execute_result"
    }
   ],
   "source": [
    "dump_path = \"../GITIGNORE_DATA/triples/hc_dump_latest.nt\"\n",
    "\n",
    "g = Graph()\n",
    "g.parse(dump_path, format='nt')\n"
   ]
  },
  {
   "cell_type": "code",
   "execution_count": 69,
   "id": "advanced-portuguese",
   "metadata": {},
   "outputs": [],
   "source": [
    "wikidata_nodes = set([n for n in g.all_nodes() if \"wikidata\" in str(n)])"
   ]
  },
  {
   "cell_type": "code",
   "execution_count": 72,
   "id": "creative-banks",
   "metadata": {},
   "outputs": [
    {
     "data": {
      "text/plain": [
       "rdflib.term.URIRef('http://www.wikidata.org/entity/Q501953')"
      ]
     },
     "execution_count": 72,
     "metadata": {},
     "output_type": "execute_result"
    }
   ],
   "source": [
    "list(wikidata_nodes)[0]"
   ]
  },
  {
   "cell_type": "markdown",
   "id": "crucial-coupon",
   "metadata": {},
   "source": [
    "## parse a fixed number of wikidata entities in the heritage connector to a separate graph"
   ]
  },
  {
   "cell_type": "code",
   "execution_count": 94,
   "id": "primary-uncle",
   "metadata": {},
   "outputs": [],
   "source": [
    "def parse_wikidump_doc(g: Graph, doc: dict):\n",
    "    _id = \"http://www.wikidata.org/entity/\" + doc[\"_source\"][\"id\"]\n",
    "    src = doc[\"_source\"]\n",
    "    claims = doc[\"_source\"][\"claims\"]\n",
    "    \n",
    "    if \"labels\" in src.keys():\n",
    "        g.add((URIRef(_id), RDFS.label, Literal(src[\"labels\"])))\n",
    "        \n",
    "    for prop, vals in claims.items():\n",
    "        prop_uriref = URIRef(\"http://www.wikidata.org/prop/direct/\"+prop)\n",
    "        for v in vals:\n",
    "            if is_qid(v):\n",
    "                g.add((URIRef(_id), prop_uriref, URIRef(\"http://www.wikidata.org/entity/\"+v)))\n",
    "            else:\n",
    "                g.add((URIRef(_id), prop_uriref, Literal(v)))"
   ]
  },
  {
   "cell_type": "code",
   "execution_count": 96,
   "id": "valued-broadcast",
   "metadata": {},
   "outputs": [
    {
     "data": {
      "application/vnd.jupyter.widget-view+json": {
       "model_id": "21f8a12bd6e14facae52a2e301209a77",
       "version_major": 2,
       "version_minor": 0
      },
      "text/plain": [
       "  0%|          | 0/1000 [00:00<?, ?it/s]"
      ]
     },
     "metadata": {},
     "output_type": "display_data"
    },
    {
     "name": "stderr",
     "output_type": "stream",
     "text": [
      "http://www.wikidata.org/entity/Boer War Q71976.jpg does not look like a valid URI, trying to serialize this will break.\n"
     ]
    }
   ],
   "source": [
    "wiki_entities_limit = 1000\n",
    "wg = Graph()\n",
    "\n",
    "for ent in tqdm(list(wikidata_nodes)[0:wiki_entities_limit]):\n",
    "    res = datastore.es.search(\n",
    "            body = {\"query\": {\"bool\": {\"must\": [{\"term\": {\"id.keyword\": url_to_qid(str(ent))}}]}}}, \n",
    "            index=\"wikidump\"\n",
    "        )[\"hits\"][\"hits\"]\n",
    "    \n",
    "    if res:\n",
    "        parse_wikidump_doc(wg, res[0])"
   ]
  },
  {
   "cell_type": "code",
   "execution_count": 97,
   "id": "alpine-lawyer",
   "metadata": {},
   "outputs": [
    {
     "data": {
      "text/plain": [
       "11042"
      ]
     },
     "execution_count": 97,
     "metadata": {},
     "output_type": "execute_result"
    }
   ],
   "source": [
    "len(wg)"
   ]
  },
  {
   "cell_type": "markdown",
   "id": "ready-technique",
   "metadata": {},
   "source": [
    "## add the graphs and check that the triples are as expected"
   ]
  },
  {
   "cell_type": "code",
   "execution_count": 98,
   "id": "suburban-stationery",
   "metadata": {},
   "outputs": [
    {
     "data": {
      "text/plain": [
       "3316054"
      ]
     },
     "execution_count": 98,
     "metadata": {},
     "output_type": "execute_result"
    }
   ],
   "source": [
    "G = g + wg\n",
    "len(G)"
   ]
  },
  {
   "cell_type": "code",
   "execution_count": 99,
   "id": "bulgarian-alpha",
   "metadata": {},
   "outputs": [],
   "source": [
    "test_wiki_id = list(wikidata_nodes)[0]"
   ]
  },
  {
   "cell_type": "code",
   "execution_count": 101,
   "id": "silver-router",
   "metadata": {},
   "outputs": [
    {
     "data": {
      "text/plain": [
       "([(rdflib.term.URIRef('http://www.wikidata.org/entity/Q501953'),\n",
       "   rdflib.term.URIRef('http://www.wikidata.org/prop/direct/P856'),\n",
       "   rdflib.term.Literal('http://www.ville-badonviller.fr/')),\n",
       "  (rdflib.term.URIRef('http://www.wikidata.org/entity/Q501953'),\n",
       "   rdflib.term.URIRef('http://www.wikidata.org/prop/direct/P166'),\n",
       "   rdflib.term.URIRef('http://www.wikidata.org/entity/Q2727598')),\n",
       "  (rdflib.term.URIRef('http://www.wikidata.org/entity/Q501953'),\n",
       "   rdflib.term.URIRef('http://www.wikidata.org/prop/direct/P646'),\n",
       "   rdflib.term.Literal('/m/0b9kt0')),\n",
       "  (rdflib.term.URIRef('http://www.wikidata.org/entity/Q501953'),\n",
       "   rdflib.term.URIRef('http://www.wikidata.org/prop/direct/P17'),\n",
       "   rdflib.term.URIRef('http://www.wikidata.org/entity/Q142')),\n",
       "  (rdflib.term.URIRef('http://www.wikidata.org/entity/Q501953'),\n",
       "   rdflib.term.URIRef('http://www.wikidata.org/prop/direct/P31'),\n",
       "   rdflib.term.URIRef('http://www.wikidata.org/entity/Q484170')),\n",
       "  (rdflib.term.URIRef('http://www.wikidata.org/entity/Q501953'),\n",
       "   rdflib.term.URIRef('http://www.wikidata.org/prop/direct/P214'),\n",
       "   rdflib.term.Literal('243218432')),\n",
       "  (rdflib.term.URIRef('http://www.wikidata.org/entity/Q501953'),\n",
       "   rdflib.term.URIRef('http://www.w3.org/2000/01/rdf-schema#label'),\n",
       "   rdflib.term.Literal('Badonviller')),\n",
       "  (rdflib.term.URIRef('http://www.wikidata.org/entity/Q501953'),\n",
       "   rdflib.term.URIRef('http://www.wikidata.org/prop/direct/P166'),\n",
       "   rdflib.term.URIRef('http://www.wikidata.org/entity/Q2547676')),\n",
       "  (rdflib.term.URIRef('http://www.wikidata.org/entity/Q501953'),\n",
       "   rdflib.term.URIRef('http://www.wikidata.org/prop/direct/P18'),\n",
       "   rdflib.term.Literal('Badonvillerplace.JPG'))],\n",
       " [(rdflib.term.URIRef('https://collection.sciencemuseumgroup.org.uk/people/cp127972'),\n",
       "   rdflib.term.URIRef('http://www.heritageconnector.org/RDF/entityLOC'),\n",
       "   rdflib.term.URIRef('http://www.wikidata.org/entity/Q501953'))])"
      ]
     },
     "execution_count": 101,
     "metadata": {},
     "output_type": "execute_result"
    }
   ],
   "source": [
    "list(G.triples((test_wiki_id, None, None))),  list(G.triples((None, None, test_wiki_id)))"
   ]
  },
  {
   "cell_type": "code",
   "execution_count": null,
   "id": "creative-equivalent",
   "metadata": {},
   "outputs": [],
   "source": []
  }
 ],
 "metadata": {
  "kernelspec": {
   "display_name": "Python 3",
   "language": "python",
   "name": "python3"
  },
  "language_info": {
   "codemirror_mode": {
    "name": "ipython",
    "version": 3
   },
   "file_extension": ".py",
   "mimetype": "text/x-python",
   "name": "python",
   "nbconvert_exporter": "python",
   "pygments_lexer": "ipython3",
   "version": "3.9.1"
  }
 },
 "nbformat": 4,
 "nbformat_minor": 5
}
