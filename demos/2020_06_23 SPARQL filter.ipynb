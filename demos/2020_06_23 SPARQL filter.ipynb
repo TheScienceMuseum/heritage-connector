{
 "cells": [
  {
   "cell_type": "markdown",
   "metadata": {},
   "source": [
    "# Filtering records using SPARQL"
   ]
  },
  {
   "cell_type": "code",
   "execution_count": 20,
   "metadata": {},
   "outputs": [
    {
     "data": {
      "text/plain": [
       "10352"
      ]
     },
     "execution_count": 20,
     "metadata": {},
     "output_type": "execute_result"
    }
   ],
   "source": [
    "import sys\n",
    "sys.path.append(\"..\")\n",
    "import pandas as pd\n",
    "import re\n",
    "from heritageconnector.utils.sparql import get_sparql_results\n",
    "\n",
    "endpoint_url = \"https://query.wikidata.org/sparql\"\n",
    "\n",
    "df = pd.read_pickle(\"../GITIGNORE_DATA/lookup_result.pkl\")\n",
    "people_df = df[df['GENDER'].isin([\"M\", \"F\"])]\n",
    "\n",
    "len(people_df)"
   ]
  },
  {
   "cell_type": "code",
   "execution_count": 33,
   "metadata": {},
   "outputs": [],
   "source": [
    "map_ids = lambda ids: \", \".join([f\"wd:{i}\" for i in ids])\n",
    "\n",
    "def return_labels_aliases_by_property(query_ids, property_id, include_class_tree):\n",
    "    \n",
    "    class_tree = \"/wdt:P279*\" if include_class_tree else \"\"\n",
    "        \n",
    "    query = f\"\"\"\n",
    "    SELECT ?item ?itemLabel ?altLabel\n",
    "            WHERE\n",
    "            {{\n",
    "                ?item wdt:P31{class_tree} wd:{property_id}.\n",
    "                ?item skos:altLabel ?altLabel .\n",
    "                FILTER (lang(?altLabel) = \"en\")\n",
    "                FILTER (?item IN ({map_ids(query_ids)}))\n",
    "\n",
    "                SERVICE wikibase:label {{ \n",
    "                  bd:serviceParam wikibase:language \"en\" .\n",
    "                }}\n",
    "            }} \n",
    "    GROUP BY ?item ?itemLabel ?altLabel\n",
    "    \"\"\"\n",
    "\n",
    "    res = get_sparql_results(endpoint_url, query)['results']['bindings']\n",
    "    \n",
    "    res_df = pd.json_normalize(res)\n",
    "    res_df['qcode'] = res_df['item.value'].apply(lambda x: re.findall(r\"(Q\\d+)\", x)[0])\n",
    "    res_df = res_df[['qcode', 'itemLabel.value', 'altLabel.value']]\n",
    "    \n",
    "    return res_df"
   ]
  },
  {
   "cell_type": "code",
   "execution_count": 34,
   "metadata": {},
   "outputs": [
    {
     "data": {
      "text/plain": [
       "3620"
      ]
     },
     "execution_count": 34,
     "metadata": {},
     "output_type": "execute_result"
    }
   ],
   "source": [
    "qcodes_unique = [item for item in list(set(people_df['res_WIKIDATA_IDs'].sum())) if str(item).startswith(\"Q\")]\n",
    "len(qcodes_unique)"
   ]
  },
  {
   "cell_type": "code",
   "execution_count": 35,
   "metadata": {},
   "outputs": [
    {
     "name": "stdout",
     "output_type": "stream",
     "text": [
      "18.83329677581787\n"
     ]
    }
   ],
   "source": [
    "# error 500: timeout if too many records. need to paginate\n",
    "qcodes_query = qcodes_unique[0:2000]\n",
    "import time\n",
    "start = time.time()\n",
    "res_df = return_labels_aliases_by_property(qcodes_query, \"Q5\", include_class_tree=False)\n",
    "print(time.time() - start)"
   ]
  },
  {
   "cell_type": "code",
   "execution_count": 36,
   "metadata": {},
   "outputs": [
    {
     "data": {
      "text/html": [
       "<div>\n",
       "<style scoped>\n",
       "    .dataframe tbody tr th:only-of-type {\n",
       "        vertical-align: middle;\n",
       "    }\n",
       "\n",
       "    .dataframe tbody tr th {\n",
       "        vertical-align: top;\n",
       "    }\n",
       "\n",
       "    .dataframe thead th {\n",
       "        text-align: right;\n",
       "    }\n",
       "</style>\n",
       "<table border=\"1\" class=\"dataframe\">\n",
       "  <thead>\n",
       "    <tr style=\"text-align: right;\">\n",
       "      <th></th>\n",
       "      <th>qcode</th>\n",
       "      <th>itemLabel.value</th>\n",
       "      <th>altLabel.value</th>\n",
       "    </tr>\n",
       "  </thead>\n",
       "  <tbody>\n",
       "    <tr>\n",
       "      <th>0</th>\n",
       "      <td>Q675</td>\n",
       "      <td>André-Marie Ampère</td>\n",
       "      <td>Andre-Marie Ampere</td>\n",
       "    </tr>\n",
       "    <tr>\n",
       "      <th>1</th>\n",
       "      <td>Q762</td>\n",
       "      <td>Leonardo da Vinci</td>\n",
       "      <td>Vinci</td>\n",
       "    </tr>\n",
       "    <tr>\n",
       "      <th>2</th>\n",
       "      <td>Q762</td>\n",
       "      <td>Leonardo da Vinci</td>\n",
       "      <td>Leonardo</td>\n",
       "    </tr>\n",
       "    <tr>\n",
       "      <th>3</th>\n",
       "      <td>Q762</td>\n",
       "      <td>Leonardo da Vinci</td>\n",
       "      <td>Leonard</td>\n",
       "    </tr>\n",
       "    <tr>\n",
       "      <th>4</th>\n",
       "      <td>Q762</td>\n",
       "      <td>Leonardo da Vinci</td>\n",
       "      <td>Leonardo Da Vinci</td>\n",
       "    </tr>\n",
       "    <tr>\n",
       "      <th>...</th>\n",
       "      <td>...</td>\n",
       "      <td>...</td>\n",
       "      <td>...</td>\n",
       "    </tr>\n",
       "    <tr>\n",
       "      <th>4356</th>\n",
       "      <td>Q55008046</td>\n",
       "      <td>Albert I of Belgium</td>\n",
       "      <td>King Albert I</td>\n",
       "    </tr>\n",
       "    <tr>\n",
       "      <th>4357</th>\n",
       "      <td>Q55008046</td>\n",
       "      <td>Albert I of Belgium</td>\n",
       "      <td>King Albert I of Belgium</td>\n",
       "    </tr>\n",
       "    <tr>\n",
       "      <th>4358</th>\n",
       "      <td>Q55021352</td>\n",
       "      <td>Freiherr Christian Leopold von Buch</td>\n",
       "      <td>Buch</td>\n",
       "    </tr>\n",
       "    <tr>\n",
       "      <th>4359</th>\n",
       "      <td>Q55021352</td>\n",
       "      <td>Freiherr Christian Leopold von Buch</td>\n",
       "      <td>Christian Leopold von Buch</td>\n",
       "    </tr>\n",
       "    <tr>\n",
       "      <th>4360</th>\n",
       "      <td>Q55021352</td>\n",
       "      <td>Freiherr Christian Leopold von Buch</td>\n",
       "      <td>Leopold von Buch</td>\n",
       "    </tr>\n",
       "  </tbody>\n",
       "</table>\n",
       "<p>4361 rows × 3 columns</p>\n",
       "</div>"
      ],
      "text/plain": [
       "          qcode                      itemLabel.value  \\\n",
       "0          Q675                   André-Marie Ampère   \n",
       "1          Q762                    Leonardo da Vinci   \n",
       "2          Q762                    Leonardo da Vinci   \n",
       "3          Q762                    Leonardo da Vinci   \n",
       "4          Q762                    Leonardo da Vinci   \n",
       "...         ...                                  ...   \n",
       "4356  Q55008046                  Albert I of Belgium   \n",
       "4357  Q55008046                  Albert I of Belgium   \n",
       "4358  Q55021352  Freiherr Christian Leopold von Buch   \n",
       "4359  Q55021352  Freiherr Christian Leopold von Buch   \n",
       "4360  Q55021352  Freiherr Christian Leopold von Buch   \n",
       "\n",
       "                  altLabel.value  \n",
       "0             Andre-Marie Ampere  \n",
       "1                          Vinci  \n",
       "2                       Leonardo  \n",
       "3                        Leonard  \n",
       "4              Leonardo Da Vinci  \n",
       "...                          ...  \n",
       "4356               King Albert I  \n",
       "4357    King Albert I of Belgium  \n",
       "4358                        Buch  \n",
       "4359  Christian Leopold von Buch  \n",
       "4360            Leopold von Buch  \n",
       "\n",
       "[4361 rows x 3 columns]"
      ]
     },
     "execution_count": 36,
     "metadata": {},
     "output_type": "execute_result"
    }
   ],
   "source": [
    "res_df"
   ]
  },
  {
   "cell_type": "code",
   "execution_count": 41,
   "metadata": {},
   "outputs": [
    {
     "data": {
      "text/plain": [
       "[['Leonardo da Vinci'], ['Freiherr Christian Leopold von Buch']]"
      ]
     },
     "execution_count": 41,
     "metadata": {},
     "output_type": "execute_result"
    }
   ],
   "source": [
    "def get_aliases(qcodes):\n",
    "    return [res_df.loc[res_df['qcode'] == qcode, 'altLabel.value'].unique().tolist() for qcode in qcodes]\n",
    "\n",
    "def get_labels(qcodes):\n",
    "    return [res_df.loc[res_df['qcode'] == qcode, 'itemLabel.value'].unique().tolist() for qcode in qcodes]\n",
    "\n",
    "get_labels([\"Q762\", \"Q55021352\"])"
   ]
  },
  {
   "cell_type": "code",
   "execution_count": null,
   "metadata": {},
   "outputs": [],
   "source": []
  }
 ],
 "metadata": {
  "kernelspec": {
   "display_name": "Python 3",
   "language": "python",
   "name": "python3"
  },
  "language_info": {
   "codemirror_mode": {
    "name": "ipython",
    "version": 3
   },
   "file_extension": ".py",
   "mimetype": "text/x-python",
   "name": "python",
   "nbconvert_exporter": "python",
   "pygments_lexer": "ipython3",
   "version": "3.7.4"
  }
 },
 "nbformat": 4,
 "nbformat_minor": 4
}
