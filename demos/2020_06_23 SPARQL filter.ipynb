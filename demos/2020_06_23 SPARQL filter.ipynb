{
 "cells": [
  {
   "cell_type": "markdown",
   "metadata": {},
   "source": [
    "# Filtering records using SPARQL"
   ]
  },
  {
   "cell_type": "code",
   "execution_count": 1,
   "metadata": {},
   "outputs": [],
   "source": [
    "%load_ext autoreload\n",
    "%autoreload 2"
   ]
  },
  {
   "cell_type": "code",
   "execution_count": 17,
   "metadata": {},
   "outputs": [
    {
     "data": {
      "text/plain": [
       "10352"
      ]
     },
     "execution_count": 17,
     "metadata": {},
     "output_type": "execute_result"
    }
   ],
   "source": [
    "import sys\n",
    "sys.path.append(\"..\")\n",
    "import pandas as pd\n",
    "import re\n",
    "from fuzzywuzzy import fuzz\n",
    "from heritageconnector.utils.sparql import get_sparql_results\n",
    "\n",
    "pd.set_option('display.max_colwidth', None)\n",
    "pd.set_option('display.max_columns', None)\n",
    "\n",
    "endpoint_url = \"https://query.wikidata.org/sparql\"\n",
    "\n",
    "df = pd.read_pickle(\"../GITIGNORE_DATA/lookup_result.pkl\")\n",
    "people_df = df[df['GENDER'].isin([\"M\", \"F\"])]\n",
    "\n",
    "len(people_df)"
   ]
  },
  {
   "cell_type": "code",
   "execution_count": 18,
   "metadata": {},
   "outputs": [],
   "source": [
    "map_ids = lambda ids: \", \".join([f\"wd:{i}\" for i in ids])\n",
    "map_ids_values = lambda ids: \" \".join([f\"(wd:{i})\" for i in ids])\n",
    "\n",
    "def return_labels_aliases_by_property(query_ids, property_id, include_class_tree):\n",
    "    \n",
    "    class_tree = \"/wdt:P279*\" if include_class_tree else \"\"\n",
    "        \n",
    "    query = f\"\"\"\n",
    "    SELECT ?item ?itemLabel ?altLabel\n",
    "            WHERE\n",
    "            {{\n",
    "                VALUES (?item) {{ {map_ids_values(query_ids)} }}\n",
    "                ?item wdt:P31{class_tree} wd:{property_id}.\n",
    "                ?item skos:altLabel ?altLabel .\n",
    "                FILTER (lang(?altLabel) = \"en\")\n",
    "\n",
    "                SERVICE wikibase:label {{ \n",
    "                  bd:serviceParam wikibase:language \"en\" .\n",
    "                }}\n",
    "            }} \n",
    "    GROUP BY ?item ?itemLabel ?altLabel\n",
    "    \"\"\"\n",
    "    res = get_sparql_results(endpoint_url, query)['results']['bindings']\n",
    "    \n",
    "    res_df = pd.json_normalize(res)\n",
    "    res_df['qcode'] = res_df['item.value'].apply(lambda x: re.findall(r\"(Q\\d+)\", x)[0])\n",
    "    res_df = res_df[['qcode', 'itemLabel.value', 'altLabel.value']]\n",
    "    # convert aliases to lowercase and drop duplicates\n",
    "    res_df['altLabel.value'] = res_df['altLabel.value'].astype(str).str.lower()\n",
    "    res_df = res_df.drop_duplicates(subset = 'altLabel.value')\n",
    "    \n",
    "    return res_df"
   ]
  },
  {
   "cell_type": "code",
   "execution_count": 19,
   "metadata": {},
   "outputs": [
    {
     "data": {
      "text/plain": [
       "3620"
      ]
     },
     "execution_count": 19,
     "metadata": {},
     "output_type": "execute_result"
    }
   ],
   "source": [
    "qcodes_unique = [item for item in list(set(people_df['res_WIKIDATA_IDs'].sum())) if str(item).startswith(\"Q\")]\n",
    "len(qcodes_unique)"
   ]
  },
  {
   "cell_type": "code",
   "execution_count": 20,
   "metadata": {},
   "outputs": [
    {
     "name": "stdout",
     "output_type": "stream",
     "text": [
      "17.793995141983032\n"
     ]
    }
   ],
   "source": [
    "qcodes_query = qcodes_unique\n",
    "import time\n",
    "start = time.time()\n",
    "res_df = return_labels_aliases_by_property(qcodes_query, \"Q5\", include_class_tree=False)\n",
    "print(time.time() - start)"
   ]
  },
  {
   "cell_type": "code",
   "execution_count": 21,
   "metadata": {},
   "outputs": [
    {
     "data": {
      "text/html": [
       "<div>\n",
       "<style scoped>\n",
       "    .dataframe tbody tr th:only-of-type {\n",
       "        vertical-align: middle;\n",
       "    }\n",
       "\n",
       "    .dataframe tbody tr th {\n",
       "        vertical-align: top;\n",
       "    }\n",
       "\n",
       "    .dataframe thead th {\n",
       "        text-align: right;\n",
       "    }\n",
       "</style>\n",
       "<table border=\"1\" class=\"dataframe\">\n",
       "  <thead>\n",
       "    <tr style=\"text-align: right;\">\n",
       "      <th></th>\n",
       "      <th>qcode</th>\n",
       "      <th>itemLabel.value</th>\n",
       "      <th>altLabel.value</th>\n",
       "    </tr>\n",
       "  </thead>\n",
       "  <tbody>\n",
       "    <tr>\n",
       "      <th>0</th>\n",
       "      <td>Q762</td>\n",
       "      <td>Leonardo da Vinci</td>\n",
       "      <td>leonardi de vinci</td>\n",
       "    </tr>\n",
       "    <tr>\n",
       "      <th>1</th>\n",
       "      <td>Q762</td>\n",
       "      <td>Leonardo da Vinci</td>\n",
       "      <td>leonardi devinci</td>\n",
       "    </tr>\n",
       "    <tr>\n",
       "      <th>2</th>\n",
       "      <td>Q762</td>\n",
       "      <td>Leonardo da Vinci</td>\n",
       "      <td>leonardi di vinci</td>\n",
       "    </tr>\n",
       "    <tr>\n",
       "      <th>3</th>\n",
       "      <td>Q762</td>\n",
       "      <td>Leonardo da Vinci</td>\n",
       "      <td>leonardo d'avinci</td>\n",
       "    </tr>\n",
       "    <tr>\n",
       "      <th>4</th>\n",
       "      <td>Q762</td>\n",
       "      <td>Leonardo da Vinci</td>\n",
       "      <td>leonardo d'vinci</td>\n",
       "    </tr>\n",
       "    <tr>\n",
       "      <th>...</th>\n",
       "      <td>...</td>\n",
       "      <td>...</td>\n",
       "      <td>...</td>\n",
       "    </tr>\n",
       "    <tr>\n",
       "      <th>9359</th>\n",
       "      <td>Q901129</td>\n",
       "      <td>Jean-Baptiste L. Romé de l'Isle</td>\n",
       "      <td>rome de l´isle j b l</td>\n",
       "    </tr>\n",
       "    <tr>\n",
       "      <th>9360</th>\n",
       "      <td>Q901532</td>\n",
       "      <td>John Bennet Lawes</td>\n",
       "      <td>sir john bennet lawes, 1st baronet</td>\n",
       "    </tr>\n",
       "    <tr>\n",
       "      <th>9361</th>\n",
       "      <td>Q901532</td>\n",
       "      <td>John Bennet Lawes</td>\n",
       "      <td>sir john bennet lawes, 1st bt.</td>\n",
       "    </tr>\n",
       "    <tr>\n",
       "      <th>9362</th>\n",
       "      <td>Q901872</td>\n",
       "      <td>Alexandre-Émile Béguyer de Chancourtois</td>\n",
       "      <td>alexandre-emile beguyer de chancourtois</td>\n",
       "    </tr>\n",
       "    <tr>\n",
       "      <th>9363</th>\n",
       "      <td>Q901872</td>\n",
       "      <td>Alexandre-Émile Béguyer de Chancourtois</td>\n",
       "      <td>béguyer de chancourtois</td>\n",
       "    </tr>\n",
       "  </tbody>\n",
       "</table>\n",
       "<p>9081 rows × 3 columns</p>\n",
       "</div>"
      ],
      "text/plain": [
       "        qcode                          itemLabel.value  \\\n",
       "0        Q762                        Leonardo da Vinci   \n",
       "1        Q762                        Leonardo da Vinci   \n",
       "2        Q762                        Leonardo da Vinci   \n",
       "3        Q762                        Leonardo da Vinci   \n",
       "4        Q762                        Leonardo da Vinci   \n",
       "...       ...                                      ...   \n",
       "9359  Q901129          Jean-Baptiste L. Romé de l'Isle   \n",
       "9360  Q901532                        John Bennet Lawes   \n",
       "9361  Q901532                        John Bennet Lawes   \n",
       "9362  Q901872  Alexandre-Émile Béguyer de Chancourtois   \n",
       "9363  Q901872  Alexandre-Émile Béguyer de Chancourtois   \n",
       "\n",
       "                               altLabel.value  \n",
       "0                           leonardi de vinci  \n",
       "1                            leonardi devinci  \n",
       "2                           leonardi di vinci  \n",
       "3                           leonardo d'avinci  \n",
       "4                            leonardo d'vinci  \n",
       "...                                       ...  \n",
       "9359                     rome de l´isle j b l  \n",
       "9360       sir john bennet lawes, 1st baronet  \n",
       "9361           sir john bennet lawes, 1st bt.  \n",
       "9362  alexandre-emile beguyer de chancourtois  \n",
       "9363                  béguyer de chancourtois  \n",
       "\n",
       "[9081 rows x 3 columns]"
      ]
     },
     "execution_count": 21,
     "metadata": {},
     "output_type": "execute_result"
    }
   ],
   "source": [
    "res_df"
   ]
  },
  {
   "cell_type": "code",
   "execution_count": 22,
   "metadata": {},
   "outputs": [],
   "source": [
    "def get_aliases(qcodes):\n",
    "    return [res_df.loc[res_df['qcode'] == qcode, 'altLabel.value'].tolist() for qcode in qcodes]\n",
    "\n",
    "def get_labels(qcodes):\n",
    "    return [res_df.loc[res_df['qcode'] == qcode, 'itemLabel.value'].unique().tolist() for qcode in qcodes]\n",
    "\n",
    "#get_labels([\"Q762\", \"Q55021352\"]), get_aliases([\"Q762\", \"Q55021352\"])"
   ]
  },
  {
   "cell_type": "markdown",
   "metadata": {},
   "source": [
    "### integrating into heritageconnector"
   ]
  },
  {
   "cell_type": "code",
   "execution_count": 23,
   "metadata": {},
   "outputs": [
    {
     "name": "stderr",
     "output_type": "stream",
     "text": [
      "/Users/kalyan/.local/share/virtualenvs/heritage-connector-tkmarX41/lib/python3.7/site-packages/pandas/core/indexing.py:966: SettingWithCopyWarning: \n",
      "A value is trying to be set on a copy of a slice from a DataFrame.\n",
      "Try using .loc[row_indexer,col_indexer] = value instead\n",
      "\n",
      "See the caveats in the documentation: https://pandas.pydata.org/pandas-docs/stable/user_guide/indexing.html#returning-a-view-versus-a-copy\n",
      "  self.obj[item] = s\n"
     ]
    },
    {
     "name": "stdout",
     "output_type": "stream",
     "text": [
      "Added filter {'instance_of': {'property_id': 'Q5', 'include_class_tree': False}}\n",
      "Added filter {'label': {'label_col': 'PREFERRED_NAME', 'include_aliases': True, 'threshold': 90, 'fuzzy_match_scorer': <function token_sort_ratio at 0x1254b2290>}}\n",
      "Running Wikidata query..\n"
     ]
    },
    {
     "name": "stderr",
     "output_type": "stream",
     "text": [
      "/Users/kalyan/.local/share/virtualenvs/heritage-connector-tkmarX41/lib/python3.7/site-packages/pandas/core/indexing.py:845: SettingWithCopyWarning: \n",
      "A value is trying to be set on a copy of a slice from a DataFrame.\n",
      "Try using .loc[row_indexer,col_indexer] = value instead\n",
      "\n",
      "See the caveats in the documentation: https://pandas.pydata.org/pandas-docs/stable/user_guide/indexing.html#returning-a-view-versus-a-copy\n",
      "  self.obj[key] = _infer_fill_value(value)\n",
      " 18%|█▊        | 615/3476 [00:00<00:00, 6148.72it/s]"
     ]
    },
    {
     "name": "stdout",
     "output_type": "stream",
     "text": [
      "Applying filters...\n",
      "Filter: instance of Q5\n"
     ]
    },
    {
     "name": "stderr",
     "output_type": "stream",
     "text": [
      "100%|██████████| 3476/3476 [00:00<00:00, 6113.32it/s]\n",
      "  3%|▎         | 88/3326 [00:00<00:07, 440.29it/s]"
     ]
    },
    {
     "name": "stdout",
     "output_type": "stream",
     "text": [
      "Filter: check label similarity against column PREFERRED_NAME\n"
     ]
    },
    {
     "name": "stderr",
     "output_type": "stream",
     "text": [
      "100%|██████████| 3326/3326 [00:07<00:00, 444.82it/s]\n"
     ]
    }
   ],
   "source": [
    "from heritageconnector.entity_matching.filter import Filter\n",
    "\n",
    "f = Filter(dataframe=people_df, qcode_col=\"res_WIKIDATA_IDs\")\n",
    "f.add_instanceof_filter(\"Q5\", False)\n",
    "f.add_label_filter(\"PREFERRED_NAME\", threshold=90, include_aliases=True, fuzzy_match_scorer=fuzz.token_sort_ratio)\n",
    "f.process_dataframe()"
   ]
  },
  {
   "cell_type": "code",
   "execution_count": 24,
   "metadata": {},
   "outputs": [
    {
     "data": {
      "text/plain": [
       "0.2752125193199382"
      ]
     },
     "execution_count": 24,
     "metadata": {},
     "output_type": "execute_result"
    }
   ],
   "source": [
    "new_df = f.get_dataframe()\n",
    "len(new_df[(new_df['qcodes_filtered'].map(lambda d: len(d)) > 0)]) / len(people_df)"
   ]
  },
  {
   "cell_type": "code",
   "execution_count": 25,
   "metadata": {},
   "outputs": [
    {
     "name": "stdout",
     "output_type": "stream",
     "text": [
      "Added filter {'instance_of': {'property_id': 'Q43229', 'include_class_tree': True}}\n",
      "Added filter {'label': {'label_col': 'PREFERRED_NAME', 'include_aliases': True, 'threshold': 80, 'fuzzy_match_scorer': <function token_set_ratio at 0x1254b24d0>}}\n",
      "Running Wikidata query..\n"
     ]
    },
    {
     "name": "stderr",
     "output_type": "stream",
     "text": [
      "100%|██████████| 1142/1142 [00:00<00:00, 8135.52it/s]\n",
      "  0%|          | 0/807 [00:00<?, ?it/s]"
     ]
    },
    {
     "name": "stdout",
     "output_type": "stream",
     "text": [
      "Applying filters...\n",
      "Filter: instance of Q43229\n",
      "Filter: check label similarity against column PREFERRED_NAME\n"
     ]
    },
    {
     "name": "stderr",
     "output_type": "stream",
     "text": [
      "100%|██████████| 807/807 [00:00<00:00, 930.99it/s]\n"
     ]
    }
   ],
   "source": [
    "org_df = df[df['GENDER'] == \"N\"]\n",
    "fo = Filter(dataframe=org_df, qcode_col=\"res_WIKIDATA_IDs\")\n",
    "fo.add_instanceof_filter(\"Q43229\", True)\n",
    "fo.add_label_filter(\"PREFERRED_NAME\", threshold=80, include_aliases=True, fuzzy_match_scorer=fuzz.token_set_ratio)\n",
    "fo.process_dataframe()\n",
    "org_res_df = fo.get_dataframe()"
   ]
  },
  {
   "cell_type": "code",
   "execution_count": 26,
   "metadata": {},
   "outputs": [
    {
     "data": {
      "text/plain": [
       "(697, 7743, 0.09001678935812993)"
      ]
     },
     "execution_count": 26,
     "metadata": {},
     "output_type": "execute_result"
    }
   ],
   "source": [
    "num_orgs_after_filter = len(org_res_df[(org_res_df['qcodes_filtered'].map(lambda d: len(d)) > 0)])\n",
    "num_orgs_after_filter, len(org_df), num_orgs_after_filter / len(org_df)"
   ]
  },
  {
   "cell_type": "code",
   "execution_count": 27,
   "metadata": {},
   "outputs": [
    {
     "data": {
      "text/plain": [
       "0"
      ]
     },
     "execution_count": 27,
     "metadata": {},
     "output_type": "execute_result"
    }
   ],
   "source": [
    "# no. organisations with more than one qcode remaining\n",
    "len(org_res_df[(org_res_df['qcodes_filtered'].map(lambda d: len(d)) > 1)])"
   ]
  },
  {
   "cell_type": "code",
   "execution_count": 28,
   "metadata": {},
   "outputs": [],
   "source": [
    "ids_less_strict = org_res_df[(org_res_df['qcodes_filtered'].map(lambda d: len(d)) > 0)].index.tolist()"
   ]
  },
  {
   "cell_type": "code",
   "execution_count": 29,
   "metadata": {},
   "outputs": [],
   "source": [
    "ids_more_strict = org_res_df[(org_res_df['qcodes_filtered'].map(lambda d: len(d)) > 0)].index.tolist()"
   ]
  },
  {
   "cell_type": "code",
   "execution_count": 30,
   "metadata": {},
   "outputs": [
    {
     "data": {
      "text/plain": [
       "Index(['LINK_ID', 'PREFERRED_NAME', 'TITLE_NAME', 'FIRSTMID_NAME',\n",
       "       'LASTSUFF_NAME', 'SUFFIX_NAME', 'HONORARY_SUFFIX', 'GENDER',\n",
       "       'BRIEF_BIO', 'DESCRIPTION', 'NOTE', 'BIRTH_DATE', 'BIRTH_PLACE',\n",
       "       'DEATH_DATE', 'DEATH_PLACE', 'CAUSE_OF_DEATH', 'NATIONALITY',\n",
       "       'OCCUPATION', 'WEBSITE', 'AFFILIATION', 'LINGUISTIC_GROUP', 'TYPE',\n",
       "       'REFERENCE_NUMBER', 'SOURCE', 'CREATE_DATE', 'UPDATE_DATE',\n",
       "       'res_ALL_NOTES', 'res_WIKIDATA_IDs', 'res_URLS', 'qcodes_filtered'],\n",
       "      dtype='object')"
      ]
     },
     "execution_count": 30,
     "metadata": {},
     "output_type": "execute_result"
    }
   ],
   "source": [
    "org_res_df.columns"
   ]
  },
  {
   "cell_type": "code",
   "execution_count": 16,
   "metadata": {},
   "outputs": [
    {
     "data": {
      "text/html": [
       "<div>\n",
       "<style scoped>\n",
       "    .dataframe tbody tr th:only-of-type {\n",
       "        vertical-align: middle;\n",
       "    }\n",
       "\n",
       "    .dataframe tbody tr th {\n",
       "        vertical-align: top;\n",
       "    }\n",
       "\n",
       "    .dataframe thead th {\n",
       "        text-align: right;\n",
       "    }\n",
       "</style>\n",
       "<table border=\"1\" class=\"dataframe\">\n",
       "  <thead>\n",
       "    <tr style=\"text-align: right;\">\n",
       "      <th></th>\n",
       "      <th>PREFERRED_NAME</th>\n",
       "      <th>NOTE</th>\n",
       "      <th>res_WIKIDATA_IDs</th>\n",
       "      <th>res_URLS</th>\n",
       "      <th>qcodes_filtered</th>\n",
       "    </tr>\n",
       "  </thead>\n",
       "  <tbody>\n",
       "  </tbody>\n",
       "</table>\n",
       "</div>"
      ],
      "text/plain": [
       "Empty DataFrame\n",
       "Columns: [PREFERRED_NAME, NOTE, res_WIKIDATA_IDs, res_URLS, qcodes_filtered]\n",
       "Index: []"
      ]
     },
     "execution_count": 16,
     "metadata": {},
     "output_type": "execute_result"
    }
   ],
   "source": [
    "org_res_df.loc[list(set(ids_less_strict) - set(ids_more_strict)), [\"PREFERRED_NAME\", \"NOTE\", \"res_WIKIDATA_IDs\", \"res_URLS\", \"qcodes_filtered\"]]"
   ]
  },
  {
   "cell_type": "code",
   "execution_count": null,
   "metadata": {},
   "outputs": [],
   "source": []
  }
 ],
 "metadata": {
  "kernelspec": {
   "display_name": "Python 3",
   "language": "python",
   "name": "python3"
  },
  "language_info": {
   "codemirror_mode": {
    "name": "ipython",
    "version": 3
   },
   "file_extension": ".py",
   "mimetype": "text/x-python",
   "name": "python",
   "nbconvert_exporter": "python",
   "pygments_lexer": "ipython3",
   "version": "3.7.4"
  }
 },
 "nbformat": 4,
 "nbformat_minor": 4
}
