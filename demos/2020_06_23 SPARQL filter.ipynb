{
 "cells": [
  {
   "cell_type": "markdown",
   "metadata": {},
   "source": [
    "# Filtering records using SPARQL"
   ]
  },
  {
   "cell_type": "code",
   "execution_count": 1,
   "metadata": {},
   "outputs": [],
   "source": [
    "%load_ext autoreload\n",
    "%autoreload 2"
   ]
  },
  {
   "cell_type": "code",
   "execution_count": 2,
   "metadata": {},
   "outputs": [
    {
     "data": {
      "text/plain": [
       "10352"
      ]
     },
     "execution_count": 2,
     "metadata": {},
     "output_type": "execute_result"
    }
   ],
   "source": [
    "import sys\n",
    "sys.path.append(\"..\")\n",
    "import pandas as pd\n",
    "import re\n",
    "from heritageconnector.utils.sparql import get_sparql_results\n",
    "\n",
    "pd.set_option('display.max_colwidth', None)\n",
    "pd.set_option('display.max_columns', None)\n",
    "\n",
    "endpoint_url = \"https://query.wikidata.org/sparql\"\n",
    "\n",
    "df = pd.read_pickle(\"../GITIGNORE_DATA/lookup_result.pkl\")\n",
    "people_df = df[df['GENDER'].isin([\"M\", \"F\"])]\n",
    "\n",
    "len(people_df)"
   ]
  },
  {
   "cell_type": "code",
   "execution_count": 3,
   "metadata": {},
   "outputs": [],
   "source": [
    "map_ids = lambda ids: \", \".join([f\"wd:{i}\" for i in ids])\n",
    "map_ids_values = lambda ids: \" \".join([f\"(wd:{i})\" for i in ids])\n",
    "\n",
    "def return_labels_aliases_by_property(query_ids, property_id, include_class_tree):\n",
    "    \n",
    "    class_tree = \"/wdt:P279*\" if include_class_tree else \"\"\n",
    "        \n",
    "    query = f\"\"\"\n",
    "    SELECT ?item ?itemLabel ?altLabel\n",
    "            WHERE\n",
    "            {{\n",
    "                VALUES (?item) {{ {map_ids_values(query_ids)} }}\n",
    "                ?item wdt:P31{class_tree} wd:{property_id}.\n",
    "                ?item skos:altLabel ?altLabel .\n",
    "                FILTER (lang(?altLabel) = \"en\")\n",
    "\n",
    "                SERVICE wikibase:label {{ \n",
    "                  bd:serviceParam wikibase:language \"en\" .\n",
    "                }}\n",
    "            }} \n",
    "    GROUP BY ?item ?itemLabel ?altLabel\n",
    "    \"\"\"\n",
    "    res = get_sparql_results(endpoint_url, query)['results']['bindings']\n",
    "    \n",
    "    res_df = pd.json_normalize(res)\n",
    "    res_df['qcode'] = res_df['item.value'].apply(lambda x: re.findall(r\"(Q\\d+)\", x)[0])\n",
    "    res_df = res_df[['qcode', 'itemLabel.value', 'altLabel.value']]\n",
    "    # convert aliases to lowercase and drop duplicates\n",
    "    res_df['altLabel.value'] = res_df['altLabel.value'].astype(str).str.lower()\n",
    "    res_df = res_df.drop_duplicates(subset = 'altLabel.value')\n",
    "    \n",
    "    return res_df"
   ]
  },
  {
   "cell_type": "code",
   "execution_count": 4,
   "metadata": {},
   "outputs": [
    {
     "data": {
      "text/plain": [
       "3620"
      ]
     },
     "execution_count": 4,
     "metadata": {},
     "output_type": "execute_result"
    }
   ],
   "source": [
    "qcodes_unique = [item for item in list(set(people_df['res_WIKIDATA_IDs'].sum())) if str(item).startswith(\"Q\")]\n",
    "len(qcodes_unique)"
   ]
  },
  {
   "cell_type": "code",
   "execution_count": 5,
   "metadata": {},
   "outputs": [
    {
     "name": "stdout",
     "output_type": "stream",
     "text": [
      "6.129828929901123\n"
     ]
    }
   ],
   "source": [
    "qcodes_query = qcodes_unique\n",
    "import time\n",
    "start = time.time()\n",
    "res_df = return_labels_aliases_by_property(qcodes_query, \"Q5\", include_class_tree=False)\n",
    "print(time.time() - start)"
   ]
  },
  {
   "cell_type": "code",
   "execution_count": 6,
   "metadata": {},
   "outputs": [
    {
     "data": {
      "text/html": [
       "<div>\n",
       "<style scoped>\n",
       "    .dataframe tbody tr th:only-of-type {\n",
       "        vertical-align: middle;\n",
       "    }\n",
       "\n",
       "    .dataframe tbody tr th {\n",
       "        vertical-align: top;\n",
       "    }\n",
       "\n",
       "    .dataframe thead th {\n",
       "        text-align: right;\n",
       "    }\n",
       "</style>\n",
       "<table border=\"1\" class=\"dataframe\">\n",
       "  <thead>\n",
       "    <tr style=\"text-align: right;\">\n",
       "      <th></th>\n",
       "      <th>qcode</th>\n",
       "      <th>itemLabel.value</th>\n",
       "      <th>altLabel.value</th>\n",
       "    </tr>\n",
       "  </thead>\n",
       "  <tbody>\n",
       "    <tr>\n",
       "      <th>0</th>\n",
       "      <td>Q762</td>\n",
       "      <td>Leonardo da Vinci</td>\n",
       "      <td>leonardi de vinci</td>\n",
       "    </tr>\n",
       "    <tr>\n",
       "      <th>1</th>\n",
       "      <td>Q762</td>\n",
       "      <td>Leonardo da Vinci</td>\n",
       "      <td>leonardi devinci</td>\n",
       "    </tr>\n",
       "    <tr>\n",
       "      <th>2</th>\n",
       "      <td>Q762</td>\n",
       "      <td>Leonardo da Vinci</td>\n",
       "      <td>leonardi di vinci</td>\n",
       "    </tr>\n",
       "    <tr>\n",
       "      <th>3</th>\n",
       "      <td>Q762</td>\n",
       "      <td>Leonardo da Vinci</td>\n",
       "      <td>leonardo d'avinci</td>\n",
       "    </tr>\n",
       "    <tr>\n",
       "      <th>4</th>\n",
       "      <td>Q762</td>\n",
       "      <td>Leonardo da Vinci</td>\n",
       "      <td>leonardo d'vinci</td>\n",
       "    </tr>\n",
       "    <tr>\n",
       "      <th>...</th>\n",
       "      <td>...</td>\n",
       "      <td>...</td>\n",
       "      <td>...</td>\n",
       "    </tr>\n",
       "    <tr>\n",
       "      <th>9340</th>\n",
       "      <td>Q472095</td>\n",
       "      <td>Warren De la Rue</td>\n",
       "      <td>warren de la rue</td>\n",
       "    </tr>\n",
       "    <tr>\n",
       "      <th>9341</th>\n",
       "      <td>Q472095</td>\n",
       "      <td>Warren De la Rue</td>\n",
       "      <td>de la rue, warren</td>\n",
       "    </tr>\n",
       "    <tr>\n",
       "      <th>9344</th>\n",
       "      <td>Q472510</td>\n",
       "      <td>Ernst Alexanderson</td>\n",
       "      <td>ernst frederick werner alexanderson</td>\n",
       "    </tr>\n",
       "    <tr>\n",
       "      <th>9345</th>\n",
       "      <td>Q472639</td>\n",
       "      <td>William Jackson Hooker</td>\n",
       "      <td>sir william jackson hooker</td>\n",
       "    </tr>\n",
       "    <tr>\n",
       "      <th>9346</th>\n",
       "      <td>Q472639</td>\n",
       "      <td>William Jackson Hooker</td>\n",
       "      <td>sir william hooker</td>\n",
       "    </tr>\n",
       "  </tbody>\n",
       "</table>\n",
       "<p>9064 rows × 3 columns</p>\n",
       "</div>"
      ],
      "text/plain": [
       "        qcode         itemLabel.value                       altLabel.value\n",
       "0        Q762       Leonardo da Vinci                    leonardi de vinci\n",
       "1        Q762       Leonardo da Vinci                     leonardi devinci\n",
       "2        Q762       Leonardo da Vinci                    leonardi di vinci\n",
       "3        Q762       Leonardo da Vinci                    leonardo d'avinci\n",
       "4        Q762       Leonardo da Vinci                     leonardo d'vinci\n",
       "...       ...                     ...                                  ...\n",
       "9340  Q472095        Warren De la Rue                     warren de la rue\n",
       "9341  Q472095        Warren De la Rue                    de la rue, warren\n",
       "9344  Q472510      Ernst Alexanderson  ernst frederick werner alexanderson\n",
       "9345  Q472639  William Jackson Hooker           sir william jackson hooker\n",
       "9346  Q472639  William Jackson Hooker                   sir william hooker\n",
       "\n",
       "[9064 rows x 3 columns]"
      ]
     },
     "execution_count": 6,
     "metadata": {},
     "output_type": "execute_result"
    }
   ],
   "source": [
    "res_df"
   ]
  },
  {
   "cell_type": "code",
   "execution_count": 9,
   "metadata": {},
   "outputs": [],
   "source": [
    "def get_aliases(qcodes):\n",
    "    return [res_df.loc[res_df['qcode'] == qcode, 'altLabel.value'].tolist() for qcode in qcodes]\n",
    "\n",
    "def get_labels(qcodes):\n",
    "    return [res_df.loc[res_df['qcode'] == qcode, 'itemLabel.value'].unique().tolist() for qcode in qcodes]\n",
    "\n",
    "#get_labels([\"Q762\", \"Q55021352\"]), get_aliases([\"Q762\", \"Q55021352\"])"
   ]
  },
  {
   "cell_type": "markdown",
   "metadata": {},
   "source": [
    "### integrating into heritageconnector"
   ]
  },
  {
   "cell_type": "code",
   "execution_count": 66,
   "metadata": {},
   "outputs": [
    {
     "name": "stdout",
     "output_type": "stream",
     "text": [
      "Added filter {'instance_of': {'property_id': 'Q5', 'include_class_tree': False}}\n",
      "Added filter {'label': {'label_col': 'PREFERRED_NAME', 'threshold': 90, 'include_aliases': True}}\n",
      "Running Wikidata query..\n"
     ]
    },
    {
     "name": "stderr",
     "output_type": "stream",
     "text": [
      " 18%|█▊        | 623/3476 [00:00<00:00, 6210.49it/s]"
     ]
    },
    {
     "name": "stdout",
     "output_type": "stream",
     "text": [
      "Applying filters...\n",
      "Filter: instance of Q5\n"
     ]
    },
    {
     "name": "stderr",
     "output_type": "stream",
     "text": [
      "100%|██████████| 3476/3476 [00:00<00:00, 6580.09it/s]\n",
      "  3%|▎         | 85/3326 [00:00<00:07, 421.67it/s]"
     ]
    },
    {
     "name": "stdout",
     "output_type": "stream",
     "text": [
      "Filter: check label similarity against column PREFERRED_NAME\n"
     ]
    },
    {
     "name": "stderr",
     "output_type": "stream",
     "text": [
      "100%|██████████| 3326/3326 [00:07<00:00, 441.79it/s]\n"
     ]
    }
   ],
   "source": [
    "from heritageconnector.entity_matching.filter import Filter\n",
    "\n",
    "f = Filter(dataframe=people_df, qcode_col=\"res_WIKIDATA_IDs\")\n",
    "f.add_instanceof_filter(\"Q5\", False)\n",
    "f.add_label_filter(\"PREFERRED_NAME\", threshold=90, include_aliases=True)\n",
    "f.process_dataframe()"
   ]
  },
  {
   "cell_type": "code",
   "execution_count": 67,
   "metadata": {},
   "outputs": [
    {
     "data": {
      "text/plain": [
       "0.30863601236476046"
      ]
     },
     "execution_count": 67,
     "metadata": {},
     "output_type": "execute_result"
    }
   ],
   "source": [
    "new_df = f.get_dataframe()\n",
    "len(new_df[(new_df['qcodes_filtered'].map(lambda d: len(d)) > 0)]) / len(people_df)"
   ]
  },
  {
   "cell_type": "code",
   "execution_count": null,
   "metadata": {},
   "outputs": [
    {
     "name": "stdout",
     "output_type": "stream",
     "text": [
      "Added filter {'instance_of': {'property_id': 'Q43229', 'include_class_tree': True}}\n",
      "Added filter {'label': {'label_col': 'PREFERRED_NAME', 'threshold': 80, 'include_aliases': True}}\n",
      "Running Wikidata query..\n"
     ]
    }
   ],
   "source": [
    "org_df = df[df['GENDER'] == \"N\"]\n",
    "fo = Filter(dataframe=org_df, qcode_col=\"res_WIKIDATA_IDs\")\n",
    "fo.add_instanceof_filter(\"Q43229\", True)\n",
    "fo.add_label_filter(\"PREFERRED_NAME\", threshold=80, include_aliases=True)\n",
    "fo.process_dataframe()\n",
    "org_res_df = fo.get_dataframe()"
   ]
  },
  {
   "cell_type": "code",
   "execution_count": null,
   "metadata": {},
   "outputs": [],
   "source": [
    "num_orgs_after_filter = len(org_res_df[(org_res_df['qcodes_filtered'].map(lambda d: len(d)) > 0)])\n",
    "num_orgs_after_filter, len(org_df), num_orgs_after_filter / len(org_df)"
   ]
  },
  {
   "cell_type": "code",
   "execution_count": 65,
   "metadata": {},
   "outputs": [
    {
     "data": {
      "text/plain": [
       "0"
      ]
     },
     "execution_count": 65,
     "metadata": {},
     "output_type": "execute_result"
    }
   ],
   "source": [
    "# no. organisations with more than one qcode remaining\n",
    "len(org_res_df[(org_res_df['qcodes_filtered'].map(lambda d: len(d)) > 1)])"
   ]
  },
  {
   "cell_type": "code",
   "execution_count": 61,
   "metadata": {},
   "outputs": [],
   "source": [
    "ids_less_strict = org_res_df[(org_res_df['qcodes_filtered'].map(lambda d: len(d)) > 0)].index.tolist()"
   ]
  },
  {
   "cell_type": "code",
   "execution_count": 47,
   "metadata": {},
   "outputs": [],
   "source": [
    "ids_more_strict = org_res_df[(org_res_df['qcodes_filtered'].map(lambda d: len(d)) > 0)].index.tolist()"
   ]
  },
  {
   "cell_type": "code",
   "execution_count": 57,
   "metadata": {},
   "outputs": [
    {
     "data": {
      "text/plain": [
       "Index(['LINK_ID', 'PREFERRED_NAME', 'TITLE_NAME', 'FIRSTMID_NAME',\n",
       "       'LASTSUFF_NAME', 'SUFFIX_NAME', 'HONORARY_SUFFIX', 'GENDER',\n",
       "       'BRIEF_BIO', 'DESCRIPTION', 'NOTE', 'BIRTH_DATE', 'BIRTH_PLACE',\n",
       "       'DEATH_DATE', 'DEATH_PLACE', 'CAUSE_OF_DEATH', 'NATIONALITY',\n",
       "       'OCCUPATION', 'WEBSITE', 'AFFILIATION', 'LINGUISTIC_GROUP', 'TYPE',\n",
       "       'REFERENCE_NUMBER', 'SOURCE', 'CREATE_DATE', 'UPDATE_DATE',\n",
       "       'res_ALL_NOTES', 'res_WIKIDATA_IDs', 'res_URLS', 'qcodes_filtered'],\n",
       "      dtype='object')"
      ]
     },
     "execution_count": 57,
     "metadata": {},
     "output_type": "execute_result"
    }
   ],
   "source": [
    "org_res_df.columns"
   ]
  },
  {
   "cell_type": "code",
   "execution_count": 62,
   "metadata": {},
   "outputs": [
    {
     "data": {
      "text/html": [
       "<div>\n",
       "<style scoped>\n",
       "    .dataframe tbody tr th:only-of-type {\n",
       "        vertical-align: middle;\n",
       "    }\n",
       "\n",
       "    .dataframe tbody tr th {\n",
       "        vertical-align: top;\n",
       "    }\n",
       "\n",
       "    .dataframe thead th {\n",
       "        text-align: right;\n",
       "    }\n",
       "</style>\n",
       "<table border=\"1\" class=\"dataframe\">\n",
       "  <thead>\n",
       "    <tr style=\"text-align: right;\">\n",
       "      <th></th>\n",
       "      <th>PREFERRED_NAME</th>\n",
       "      <th>NOTE</th>\n",
       "      <th>res_WIKIDATA_IDs</th>\n",
       "      <th>res_URLS</th>\n",
       "      <th>qcodes_filtered</th>\n",
       "    </tr>\n",
       "  </thead>\n",
       "  <tbody>\n",
       "    <tr>\n",
       "      <th>14337</th>\n",
       "      <td>Thomson SA</td>\n",
       "      <td>Thomson SA (Société Anonyme) grew out of Thomson-CSF, nationalised by the French government in 1982. In 1988 Thomson Consumer Electronics was formed, renamed Thomson Multimedia in 1995. The French government split the consumer electronics and defence businesses prior to privatization in 1999, those companies being Thomson-CSF (today Thales Group) and Thomson Multimedia (later renamed Thomson SA). Thomson SA has steadily moved out of consumer electronics manufacturing; in 2004 Thomson set up a joint venture (TTE) with China's TCL, giving to TCL all manufacturing of RCA and Thomson television and DVD products and making TCL the global leader in TV manufacturing. (Thomson still controls the brands themselves and licenses them to TTE). In December 2006 Thomson SA sold off its Audio/Video and Accessories businesses (which included all its consumer electronics under the RCA and Thomson brands, except TVs, (now part of TTE)) and communications products to Audiovox. In 2007, Thomson SA agreed to sell its consumer electronics audio video business outside Europe including the worldwide rights to the RCA Brand for consumer electronics audio video products. Instead Thomson SA has moved into the into broadcast management, facilities and services market, taking over Technicolor from Carlton Television, Corinthian the Television and Moving Picture Company from ITV in the early 2000s. In September 2005 Thomson first showed its revolutionary Infinity camcorder. At the April 2006 launch this was not described as a camera at all but instead described as 'a new line of IT-based acquisition, recording and storage devices'.</td>\n",
       "      <td>[Q1365773]</td>\n",
       "      <td>[http://www.thomson.net/GlobalEnglish/Corporate/About/History/Pages/default.aspx, http://en.wikipedia.org/wiki/Thomson_SA]</td>\n",
       "      <td>[Q1365773]</td>\n",
       "    </tr>\n",
       "    <tr>\n",
       "      <th>19</th>\n",
       "      <td>E K Cole Limited</td>\n",
       "      <td>ODNB: Rowland F. Pocock, ‘Cole, Eric Kirkham (1901–1966)’, Oxford Dictionary of National Biography, Oxford University Press, 2004 [http://www.oxforddnb.com/view/article/46833, accessed 31 Dec 2008]\\nWIKI: http://en.wikipedia.org/wiki/Ekco   24 May 2009</td>\n",
       "      <td>[Q18528774, Q5323238]</td>\n",
       "      <td>[http://www.oxforddnb.com/view/article/46833, http://en.wikipedia.org/wiki/Ekco]</td>\n",
       "      <td>[Q5323238]</td>\n",
       "    </tr>\n",
       "    <tr>\n",
       "      <th>12187</th>\n",
       "      <td>New Zealand Government Railways</td>\n",
       "      <td>The New Zealand Railways Department or New Zealand Government Railways, was a government department charged with owning and maintaining New Zealand's rail infrastructure, and operating the railway system. The Department was created in 1880 and in 1981 became the New Zealand Railways Corporation.</td>\n",
       "      <td>[Q538101]</td>\n",
       "      <td>[http://en.wikipedia.org/wiki/New_Zealand_Railways_Department]</td>\n",
       "      <td>[Q538101]</td>\n",
       "    </tr>\n",
       "    <tr>\n",
       "      <th>13735</th>\n",
       "      <td>J Lyons and Company Limited</td>\n",
       "      <td>1894-1960s - Operated Lyons tea shops. Acquired many large American companies after WWII, including Baskin Robbins and Wimpy. However, the company broke up in the 1980s, and eventually folded completely in 1994;</td>\n",
       "      <td>[Q6106384]</td>\n",
       "      <td>[http://en.wikipedia.org/wiki/J._Lyons_and_Co., http://www.kzwp.com/lyons/]</td>\n",
       "      <td>[Q6106384]</td>\n",
       "    </tr>\n",
       "    <tr>\n",
       "      <th>4784</th>\n",
       "      <td>E Merck</td>\n",
       "      <td>MERCK:  http://www.merckgroup.com/en/company/history/history.html; WIKI:  https://en.wikipedia.org/wiki/Merck_Group</td>\n",
       "      <td>[Q156959]</td>\n",
       "      <td>[http://www.merckgroup.com/en/company/history/history.html, https://en.wikipedia.org/wiki/Merck_Group]</td>\n",
       "      <td>[Q156959]</td>\n",
       "    </tr>\n",
       "    <tr>\n",
       "      <th>944</th>\n",
       "      <td>West Japan Railways</td>\n",
       "      <td>West Japan Railway Company, also referred to as JR West, is one of the Japan Railways Group (JR Group) companies and operates in western Honshū. It was founded in 1987 as part of the Japanese National Railway privatisation reforms.</td>\n",
       "      <td>[Q502125]</td>\n",
       "      <td>[http://en.wikipedia.org/wiki/West_Japan_Railway_Company, http://www.westjr.co.jp/english/company/]</td>\n",
       "      <td>[Q502125]</td>\n",
       "    </tr>\n",
       "    <tr>\n",
       "      <th>10813</th>\n",
       "      <td>Ward Lock &amp; Company Limited</td>\n",
       "      <td>Founded in 1854 by Ebenezer Ward and George Lock as Ward Lock. The company was based in Fleet Street. 1878 it moved to Salisbury square. James Bowden joined the company in the 1880s and the comapny became Ward, Lock and Bowden Company  from 1891 to 1893  then Ward Lock and Bowden Ltd.  from 1893 to 1897. In 1897 it became Ward Lock &amp; Co. Ltd. This company is still active as an imprint in Penguin books.</td>\n",
       "      <td>[Q2100540]</td>\n",
       "      <td>[http://en.wikipedia.org/wiki/Ward_Lock_&amp;_Co]</td>\n",
       "      <td>[Q2100540]</td>\n",
       "    </tr>\n",
       "    <tr>\n",
       "      <th>15552</th>\n",
       "      <td>Linea Aeropostal Venezuela</td>\n",
       "      <td>1929 - the French company Aeropostale (known as Lignes Aeriennes Latécoère until 1927), then under the leadership of its owner Marcel Bouilloux-Lafont, arrived in Venezuela.  1933 - the Venezuelan government purchased the airline from the French.  1935 - name was changed to Línea Aeropostal Venezolana.  1937 - the government of Venezuela secured full ownership of the airline.  1939 - headquarters were moved from Maracay to Maiquetía because of its proximity to Caracas.  1945 - first international flights began.  1947 - introduced Lockheed Constellations to fly a new direct international route from Caracas to New York.  1961 - Douglas DC-8 jets were introduced to replace the Super Constellations.  1994 - commercial operations ceased, as part of a government effort to trim expenses.  1996 - company sold to the Corporacion Alas de Venezuela.  1997 - operations restarted as a private company.  2008 - sold to a group of entrepreneurs from the state of Carabobo, Venezuela.  2009 - the Venezuelan government announced its intention to nationalise Aeropostal, following the arrest of several owners and employees in 2008 on Interpol drug trafficking warrants.</td>\n",
       "      <td>[Q1826405]</td>\n",
       "      <td>[http://en.wikipedia.org/wiki/Aeropostal_Alas_de_Venezuela]</td>\n",
       "      <td>[Q1826405]</td>\n",
       "    </tr>\n",
       "    <tr>\n",
       "      <th>14276</th>\n",
       "      <td>Corgi Motorcycle Company Limited</td>\n",
       "      <td>1946 - Corgi founded by John Dolphin. \\n27,050 mororcycles were manufactured, some exported to the US, branded as the ‘Indian Papoose’\\nOctober 1954 - production ended.</td>\n",
       "      <td>[Q5170499]</td>\n",
       "      <td>[https://en.wikipedia.org/wiki/Corgi_Motorcycle_Co_Ltd.]</td>\n",
       "      <td>[Q5170499]</td>\n",
       "    </tr>\n",
       "    <tr>\n",
       "      <th>16840</th>\n",
       "      <td>Marine Steam Turbine Company Limited</td>\n",
       "      <td>1894 - Founded by Charles Algernon Parsons.  This was the company that built the turbine-powered yacht, turbine-powered yacht, 'Turbinia'.  June 1897 - 'Turbinia' was steamed at speed through the Spithead Diamond Jubilee Royal Navy fleet review off Portsmouth.  1897 - Charles Algernon Parsons founds Parsons Marine Steam Turbine Co, which bought the rights from Marine Steam Turbine Co Ltd.</td>\n",
       "      <td>[Q197494]</td>\n",
       "      <td>[http://en.wikipedia.org/wiki/Parsons_Marine_Steam_Turbine_Company, http://www.gracesguide.co.uk/Parsons_Marine_Steam_Turbine_Co, http://wck2.companieshouse.gov.uk/]</td>\n",
       "      <td>[Q197494]</td>\n",
       "    </tr>\n",
       "    <tr>\n",
       "      <th>1740</th>\n",
       "      <td>Garrard and Company Limited</td>\n",
       "      <td>1735 - founded by George Wickes, with shop at Threadneedle Street, London, England; 1737 - goldsmith to the Prince of Wales; 1802 - taken over by Robert Garrard senior; shop moves to 25 Haymarket, London, England; 1818 - Robert Garrad senior dies and the company is taken over by his sons Robert Garrard II, James and Sebastian; trading as R and S Garrard; 1843 - trading as R and S Garrard and Company; appointed Crown jeweller to Queen Victoria; 1909 - incorporated as R and S Garrard and Company Limited; 1911 - move to 24 Albemarle Street, London; 1939 - the company makes timing instruments for Lancaster and Wellington bomber aircraft;  1998-2002 - Garrard part of Asprey; Albemarle street premises vacated; 2003 - independence regained; move back into Albemarle Street showroom;</td>\n",
       "      <td>[Q1494435]</td>\n",
       "      <td>[http://en.wikipedia.org/wiki/Garrard_%26_Co, http://www.garrard.com/heritage/, http://www.silvercollection.it/ENGLAGARRARD.html]</td>\n",
       "      <td>[Q1494435]</td>\n",
       "    </tr>\n",
       "    <tr>\n",
       "      <th>3922</th>\n",
       "      <td>Thorn EMI Electronics Ltd.</td>\n",
       "      <td>Thorn EMI was a major British company involved in consumer electronics, music, defence and retail. It was created in October 1979 when THORN Electrical Industries merged with EMI to form one of the largest operating companies in the United Kingdom. Owned Ferguson Radio Corporation for production of TV's, radios etc. under name Thorn EMI Ferguson; ceased UK production in 1992 but brand continued into 1990s. On August 16, 1996, Thorn EMI shareholders voted in favour of demerger proposals. The company became EMI Group plc, and the electronics and rentals divisions were divested as Thorn plc and the company was acquired by Future Rentals, a subsidiary of Nomura Group in 1998.</td>\n",
       "      <td>[Q7796279]</td>\n",
       "      <td>[http://en.wikipedia.org/wiki/Thorn_EMI]</td>\n",
       "      <td>[Q7796279]</td>\n",
       "    </tr>\n",
       "    <tr>\n",
       "      <th>5971</th>\n",
       "      <td>Central Railway of India</td>\n",
       "      <td>One of the largest of 16 zones of Indian railways.  Formed in 1951 by grouping several government-owned railways, including the Great Indian Peninsula Railway, and the Scindia State Railway of the former princely state of Gwalior.</td>\n",
       "      <td>[Q3345408]</td>\n",
       "      <td>[http://en.wikipedia.org/wiki/Central_Railway_(India)]</td>\n",
       "      <td>[Q3345408]</td>\n",
       "    </tr>\n",
       "    <tr>\n",
       "      <th>1501</th>\n",
       "      <td>Raleigh Cycle Company Limited</td>\n",
       "      <td>Raleigh's history started in 1887, in Raleigh Street, Nottingham when Frank Bowden bought  Woodhead, Angois and Ellis. After the war started to  buy competitors. In 1960, The Tube Investments Group purchased Raleigh and renamed it TI-Raleigh.</td>\n",
       "      <td>[Q2001072]</td>\n",
       "      <td>[http://www.raleigh.co.uk/Company/History/, http://en.wikipedia.org/wiki/Raleigh_Bicycle_Company]</td>\n",
       "      <td>[Q2001072]</td>\n",
       "    </tr>\n",
       "    <tr>\n",
       "      <th>4062</th>\n",
       "      <td>Fairey Marine Limited</td>\n",
       "      <td>1940s - company started by Sir Charles Richard Fairey and Colin Chichester-Smith.  \\n1975 - went into liquidation and the business was subsequently absorbed into the marine division of Babcock International Group.</td>\n",
       "      <td>[Q5430128]</td>\n",
       "      <td>[http://wck2.companieshouse.gov.uk, http://www.faireyownersclub.co.uk/default.asp?content=theboats, http://en.wikipedia.org/wiki/Fairey_Marine_Ltd]</td>\n",
       "      <td>[Q5430128]</td>\n",
       "    </tr>\n",
       "    <tr>\n",
       "      <th>14308</th>\n",
       "      <td>Queensland Government Railway</td>\n",
       "      <td>Name used during the 1950s (?). The company is still under operation as QR Limited. It was founded in 1865. Other names it has traded under include Queensland Rail and Queensland Railways. It is still governement owned</td>\n",
       "      <td>[Q379439]</td>\n",
       "      <td>[http://en.wikipedia.org/wiki/Queensland_Rail]</td>\n",
       "      <td>[Q379439]</td>\n",
       "    </tr>\n",
       "    <tr>\n",
       "      <th>5989</th>\n",
       "      <td>Southern Railway, India</td>\n",
       "      <td>1951 - created on 14 April by merging three state railways, the Madras and Southern Mahratta Railway, the South Indian Railway Company, and the Mysore State Railway. The South Indian Railway was originally created in the British colonial times as Great Southern India Railway Co. founded in Britain in 1853 and registered in 1859. Its original headquarters was in Tiruchirappalli (Trichy) and was registered as a company in London only in 1890</td>\n",
       "      <td>[Q3276096]</td>\n",
       "      <td>[http://en.wikipedia.org/wiki/Southern_Railway_(India)]</td>\n",
       "      <td>[Q3276096]</td>\n",
       "    </tr>\n",
       "    <tr>\n",
       "      <th>2407</th>\n",
       "      <td>Glastechnische Laboratorium Schott &amp; Genossen</td>\n",
       "      <td>1884 - Otto Schott forms a partnership with Carl Zeiss and Ernst Abbe which resulted in the production of totally new forms of optical and other glass.  The firm became the leading glass and optical glass firm in the world.  1945 - The company is split betwen East and West Germany,  as Schott Glaswerke AG in Jena, West Germany and Jena Glaswerke VEB in Mainz.  1989 - 'Jenaer Glaswerk Schott &amp; Gen' is taken over by 'Schott Glaswerke AG', which moves back to Jena, as one company.</td>\n",
       "      <td>[Q565558]</td>\n",
       "      <td>[http://www.schott.com/jena/english/company/history.html, http://www.zeisshistorica.org/companies.html, http://en.wikipedia.org/wiki/Schott_AG]</td>\n",
       "      <td>[Q565558]</td>\n",
       "    </tr>\n",
       "    <tr>\n",
       "      <th>11499</th>\n",
       "      <td>Isle of Mann Victorian Steam Railway Company Limited</td>\n",
       "      <td>Name given to the Isle of Man Steam Railway is the late 60s and early 1970s.</td>\n",
       "      <td>[Q1456606]</td>\n",
       "      <td>[http://en.wikipedia.org/wiki/Isle_of_Man_Steam_Railway]</td>\n",
       "      <td>[Q1456606]</td>\n",
       "    </tr>\n",
       "    <tr>\n",
       "      <th>11757</th>\n",
       "      <td>British Rail Research, Derby</td>\n",
       "      <td>The British Rail Research Division was created by the British Railways Board, in 1964, in order to improve railway reliability and efficiency, while reducing costs and improving revenue. The department moved to propose built facilities, called the Railway Technical Centre, in Derby.  While it became famous for the Advanced Passenger Train (APT), its activities extended into every area of railway operation. When British Rail was sold into private ownership, the Research Division was bought by AEA Technology plc in 1996. The resulting business, \"AEA Technology Rail\", was subsequently sold in 2006 and became DeltaRail Group Limited.</td>\n",
       "      <td>[Q538822]</td>\n",
       "      <td>[http://en.wikipedia.org/wiki/British_Rail_Research_Division]</td>\n",
       "      <td>[Q538822]</td>\n",
       "    </tr>\n",
       "    <tr>\n",
       "      <th>17774</th>\n",
       "      <td>Robert Hudson Limited</td>\n",
       "      <td>nan</td>\n",
       "      <td>[Q7345667]</td>\n",
       "      <td>[http://en.wikipedia.org/wiki/Robert_Hudson_%28company%29]</td>\n",
       "      <td>[Q7345667]</td>\n",
       "    </tr>\n",
       "    <tr>\n",
       "      <th>14961</th>\n",
       "      <td>S G Brown Limited</td>\n",
       "      <td>Manufactured a range of products including the gyroscopic compass, loudspeakers,  1948 - factory moved to Watford, England; 1960 - company was sold to the De Havilland division of Hawker Siddeley;  Later owned by Vosper Thornycroft; 2000 - merged with TSS (motion sensor and subsea pipe/cable tracker specialist) to develop underwater gyros and using name TSS International, 2008 - purchased by the Teledyne group, now trading as Teledyne TSS International; Some products continue to be sold using the name SG Brown, principally gyrocompass and hand-steering units for military vessels. 2009 - 1 Garnet Close, Greycaine Industrial Estate, Watford, Hertfordshire, WD24 7GL; 2010 - 1 Blackmoor Lane, Croxley Green Business Park, Watford, WD18 8GA</td>\n",
       "      <td>[Q7395351]</td>\n",
       "      <td>[http://en.wikipedia.org/wiki/S_G_Brown_Ltd, http://www.tss-international.com/, http://en.wikipedia.org/wiki/S_G_Brown_Ltd, http://www.gracesguide.co.uk/S._G._Brown]</td>\n",
       "      <td>[Q7395351]</td>\n",
       "    </tr>\n",
       "  </tbody>\n",
       "</table>\n",
       "</div>"
      ],
      "text/plain": [
       "                                             PREFERRED_NAME  \\\n",
       "14337                                            Thomson SA   \n",
       "19                                         E K Cole Limited   \n",
       "12187                       New Zealand Government Railways   \n",
       "13735                           J Lyons and Company Limited   \n",
       "4784                                                E Merck   \n",
       "944                                     West Japan Railways   \n",
       "10813                           Ward Lock & Company Limited   \n",
       "15552                            Linea Aeropostal Venezuela   \n",
       "14276                      Corgi Motorcycle Company Limited   \n",
       "16840                  Marine Steam Turbine Company Limited   \n",
       "1740                            Garrard and Company Limited   \n",
       "3922                             Thorn EMI Electronics Ltd.   \n",
       "5971                               Central Railway of India   \n",
       "1501                          Raleigh Cycle Company Limited   \n",
       "4062                                  Fairey Marine Limited   \n",
       "14308                         Queensland Government Railway   \n",
       "5989                                Southern Railway, India   \n",
       "2407          Glastechnische Laboratorium Schott & Genossen   \n",
       "11499  Isle of Mann Victorian Steam Railway Company Limited   \n",
       "11757                          British Rail Research, Derby   \n",
       "17774                                 Robert Hudson Limited   \n",
       "14961                                     S G Brown Limited   \n",
       "\n",
       "                                                                                                                                                                                                                                                                                                                                                                                                                                                                                                                                                                                                                                                                                                                                                                                                                                                                                                                                                                                                                                                                                                                                                                                                                                                                                                                                                                                                                                                                                                                                                                                                                                                                                                NOTE  \\\n",
       "14337  Thomson SA (Société Anonyme) grew out of Thomson-CSF, nationalised by the French government in 1982. In 1988 Thomson Consumer Electronics was formed, renamed Thomson Multimedia in 1995. The French government split the consumer electronics and defence businesses prior to privatization in 1999, those companies being Thomson-CSF (today Thales Group) and Thomson Multimedia (later renamed Thomson SA). Thomson SA has steadily moved out of consumer electronics manufacturing; in 2004 Thomson set up a joint venture (TTE) with China's TCL, giving to TCL all manufacturing of RCA and Thomson television and DVD products and making TCL the global leader in TV manufacturing. (Thomson still controls the brands themselves and licenses them to TTE). In December 2006 Thomson SA sold off its Audio/Video and Accessories businesses (which included all its consumer electronics under the RCA and Thomson brands, except TVs, (now part of TTE)) and communications products to Audiovox. In 2007, Thomson SA agreed to sell its consumer electronics audio video business outside Europe including the worldwide rights to the RCA Brand for consumer electronics audio video products. Instead Thomson SA has moved into the into broadcast management, facilities and services market, taking over Technicolor from Carlton Television, Corinthian the Television and Moving Picture Company from ITV in the early 2000s. In September 2005 Thomson first showed its revolutionary Infinity camcorder. At the April 2006 launch this was not described as a camera at all but instead described as 'a new line of IT-based acquisition, recording and storage devices'.   \n",
       "19                                                                                                                                                                                                                                                                                                                                                                                                                                                                                                                                                                                                                                                                                                                                                                                                                                                                                                                                                                                                                                                                                                                                                                                                                                                                                                                                                                                                                                      ODNB: Rowland F. Pocock, ‘Cole, Eric Kirkham (1901–1966)’, Oxford Dictionary of National Biography, Oxford University Press, 2004 [http://www.oxforddnb.com/view/article/46833, accessed 31 Dec 2008]\\nWIKI: http://en.wikipedia.org/wiki/Ekco   24 May 2009   \n",
       "12187                                                                                                                                                                                                                                                                                                                                                                                                                                                                                                                                                                                                                                                                                                                                                                                                                                                                                                                                                                                                                                                                                                                                                                                                                                                                                                                                                                                       The New Zealand Railways Department or New Zealand Government Railways, was a government department charged with owning and maintaining New Zealand's rail infrastructure, and operating the railway system. The Department was created in 1880 and in 1981 became the New Zealand Railways Corporation.   \n",
       "13735                                                                                                                                                                                                                                                                                                                                                                                                                                                                                                                                                                                                                                                                                                                                                                                                                                                                                                                                                                                                                                                                                                                                                                                                                                                                                                                                                                                                                                                                            1894-1960s - Operated Lyons tea shops. Acquired many large American companies after WWII, including Baskin Robbins and Wimpy. However, the company broke up in the 1980s, and eventually folded completely in 1994;   \n",
       "4784                                                                                                                                                                                                                                                                                                                                                                                                                                                                                                                                                                                                                                                                                                                                                                                                                                                                                                                                                                                                                                                                                                                                                                                                                                                                                                                                                                                                                                                                                                                                                                             MERCK:  http://www.merckgroup.com/en/company/history/history.html; WIKI:  https://en.wikipedia.org/wiki/Merck_Group   \n",
       "944                                                                                                                                                                                                                                                                                                                                                                                                                                                                                                                                                                                                                                                                                                                                                                                                                                                                                                                                                                                                                                                                                                                                                                                                                                                                                                                                                                                                                                                          West Japan Railway Company, also referred to as JR West, is one of the Japan Railways Group (JR Group) companies and operates in western Honshū. It was founded in 1987 as part of the Japanese National Railway privatisation reforms.   \n",
       "10813                                                                                                                                                                                                                                                                                                                                                                                                                                                                                                                                                                                                                                                                                                                                                                                                                                                                                                                                                                                                                                                                                                                                                                                                                                                                          Founded in 1854 by Ebenezer Ward and George Lock as Ward Lock. The company was based in Fleet Street. 1878 it moved to Salisbury square. James Bowden joined the company in the 1880s and the comapny became Ward, Lock and Bowden Company  from 1891 to 1893  then Ward Lock and Bowden Ltd.  from 1893 to 1897. In 1897 it became Ward Lock & Co. Ltd. This company is still active as an imprint in Penguin books.   \n",
       "15552                                                                                                                                                                                                                                                                                                                                                                                                                                                                                 1929 - the French company Aeropostale (known as Lignes Aeriennes Latécoère until 1927), then under the leadership of its owner Marcel Bouilloux-Lafont, arrived in Venezuela.  1933 - the Venezuelan government purchased the airline from the French.  1935 - name was changed to Línea Aeropostal Venezolana.  1937 - the government of Venezuela secured full ownership of the airline.  1939 - headquarters were moved from Maracay to Maiquetía because of its proximity to Caracas.  1945 - first international flights began.  1947 - introduced Lockheed Constellations to fly a new direct international route from Caracas to New York.  1961 - Douglas DC-8 jets were introduced to replace the Super Constellations.  1994 - commercial operations ceased, as part of a government effort to trim expenses.  1996 - company sold to the Corporacion Alas de Venezuela.  1997 - operations restarted as a private company.  2008 - sold to a group of entrepreneurs from the state of Carabobo, Venezuela.  2009 - the Venezuelan government announced its intention to nationalise Aeropostal, following the arrest of several owners and employees in 2008 on Interpol drug trafficking warrants.   \n",
       "14276                                                                                                                                                                                                                                                                                                                                                                                                                                                                                                                                                                                                                                                                                                                                                                                                                                                                                                                                                                                                                                                                                                                                                                                                                                                                                                                                                                                                                                                                                                                       1946 - Corgi founded by John Dolphin. \\n27,050 mororcycles were manufactured, some exported to the US, branded as the ‘Indian Papoose’\\nOctober 1954 - production ended.   \n",
       "16840                                                                                                                                                                                                                                                                                                                                                                                                                                                                                                                                                                                                                                                                                                                                                                                                                                                                                                                                                                                                                                                                                                                                                                                                                                                                                        1894 - Founded by Charles Algernon Parsons.  This was the company that built the turbine-powered yacht, turbine-powered yacht, 'Turbinia'.  June 1897 - 'Turbinia' was steamed at speed through the Spithead Diamond Jubilee Royal Navy fleet review off Portsmouth.  1897 - Charles Algernon Parsons founds Parsons Marine Steam Turbine Co, which bought the rights from Marine Steam Turbine Co Ltd.   \n",
       "1740                                                                                                                                                                                                                                                                                                                                                                                                                                                                                                                                                                                                                                                                                                                                                                                                                                                                               1735 - founded by George Wickes, with shop at Threadneedle Street, London, England; 1737 - goldsmith to the Prince of Wales; 1802 - taken over by Robert Garrard senior; shop moves to 25 Haymarket, London, England; 1818 - Robert Garrad senior dies and the company is taken over by his sons Robert Garrard II, James and Sebastian; trading as R and S Garrard; 1843 - trading as R and S Garrard and Company; appointed Crown jeweller to Queen Victoria; 1909 - incorporated as R and S Garrard and Company Limited; 1911 - move to 24 Albemarle Street, London; 1939 - the company makes timing instruments for Lancaster and Wellington bomber aircraft;  1998-2002 - Garrard part of Asprey; Albemarle street premises vacated; 2003 - independence regained; move back into Albemarle Street showroom;   \n",
       "3922                                                                                                                                                                                                                                                                                                                                                                                                                                                                                                                                                                                                                                                                                                                                                                                                                                                                                                                                                                                        Thorn EMI was a major British company involved in consumer electronics, music, defence and retail. It was created in October 1979 when THORN Electrical Industries merged with EMI to form one of the largest operating companies in the United Kingdom. Owned Ferguson Radio Corporation for production of TV's, radios etc. under name Thorn EMI Ferguson; ceased UK production in 1992 but brand continued into 1990s. On August 16, 1996, Thorn EMI shareholders voted in favour of demerger proposals. The company became EMI Group plc, and the electronics and rentals divisions were divested as Thorn plc and the company was acquired by Future Rentals, a subsidiary of Nomura Group in 1998.   \n",
       "5971                                                                                                                                                                                                                                                                                                                                                                                                                                                                                                                                                                                                                                                                                                                                                                                                                                                                                                                                                                                                                                                                                                                                                                                                                                                                                                                                                                                                                                                          One of the largest of 16 zones of Indian railways.  Formed in 1951 by grouping several government-owned railways, including the Great Indian Peninsula Railway, and the Scindia State Railway of the former princely state of Gwalior.   \n",
       "1501                                                                                                                                                                                                                                                                                                                                                                                                                                                                                                                                                                                                                                                                                                                                                                                                                                                                                                                                                                                                                                                                                                                                                                                                                                                                                                                                                                                                                                              Raleigh's history started in 1887, in Raleigh Street, Nottingham when Frank Bowden bought  Woodhead, Angois and Ellis. After the war started to  buy competitors. In 1960, The Tube Investments Group purchased Raleigh and renamed it TI-Raleigh.   \n",
       "4062                                                                                                                                                                                                                                                                                                                                                                                                                                                                                                                                                                                                                                                                                                                                                                                                                                                                                                                                                                                                                                                                                                                                                                                                                                                                                                                                                                                                                                                                           1940s - company started by Sir Charles Richard Fairey and Colin Chichester-Smith.  \\n1975 - went into liquidation and the business was subsequently absorbed into the marine division of Babcock International Group.   \n",
       "14308                                                                                                                                                                                                                                                                                                                                                                                                                                                                                                                                                                                                                                                                                                                                                                                                                                                                                                                                                                                                                                                                                                                                                                                                                                                                                                                                                                                                                                                                     Name used during the 1950s (?). The company is still under operation as QR Limited. It was founded in 1865. Other names it has traded under include Queensland Rail and Queensland Railways. It is still governement owned   \n",
       "5989                                                                                                                                                                                                                                                                                                                                                                                                                                                                                                                                                                                                                                                                                                                                                                                                                                                                                                                                                                                                                                                                                                                                                                                                                                     1951 - created on 14 April by merging three state railways, the Madras and Southern Mahratta Railway, the South Indian Railway Company, and the Mysore State Railway. The South Indian Railway was originally created in the British colonial times as Great Southern India Railway Co. founded in Britain in 1853 and registered in 1859. Its original headquarters was in Tiruchirappalli (Trichy) and was registered as a company in London only in 1890   \n",
       "2407                                                                                                                                                                                                                                                                                                                                                                                                                                                                                                                                                                                                                                                                                                                                                                                                                                                                                                                                                                                                                                                                                                                                                                                              1884 - Otto Schott forms a partnership with Carl Zeiss and Ernst Abbe which resulted in the production of totally new forms of optical and other glass.  The firm became the leading glass and optical glass firm in the world.  1945 - The company is split betwen East and West Germany,  as Schott Glaswerke AG in Jena, West Germany and Jena Glaswerke VEB in Mainz.  1989 - 'Jenaer Glaswerk Schott & Gen' is taken over by 'Schott Glaswerke AG', which moves back to Jena, as one company.   \n",
       "11499                                                                                                                                                                                                                                                                                                                                                                                                                                                                                                                                                                                                                                                                                                                                                                                                                                                                                                                                                                                                                                                                                                                                                                                                                                                                                                                                                                                                                                                                                                                                                                                                                   Name given to the Isle of Man Steam Railway is the late 60s and early 1970s.   \n",
       "11757                                                                                                                                                                                                                                                                                                                                                                                                                                                                                                                                                                                                                                                                                                                                                                                                                                                                                                                                                                                                                                  The British Rail Research Division was created by the British Railways Board, in 1964, in order to improve railway reliability and efficiency, while reducing costs and improving revenue. The department moved to propose built facilities, called the Railway Technical Centre, in Derby.  While it became famous for the Advanced Passenger Train (APT), its activities extended into every area of railway operation. When British Rail was sold into private ownership, the Research Division was bought by AEA Technology plc in 1996. The resulting business, \"AEA Technology Rail\", was subsequently sold in 2006 and became DeltaRail Group Limited.   \n",
       "17774                                                                                                                                                                                                                                                                                                                                                                                                                                                                                                                                                                                                                                                                                                                                                                                                                                                                                                                                                                                                                                                                                                                                                                                                                                                                                                                                                                                                                                                                                                                                                                                                                                                                                            nan   \n",
       "14961                                                                                                                                                                                                                                                                                                                                                                                                                                                                                                                                                                                                                                                                                                                                                                                                                                                                                                                       Manufactured a range of products including the gyroscopic compass, loudspeakers,  1948 - factory moved to Watford, England; 1960 - company was sold to the De Havilland division of Hawker Siddeley;  Later owned by Vosper Thornycroft; 2000 - merged with TSS (motion sensor and subsea pipe/cable tracker specialist) to develop underwater gyros and using name TSS International, 2008 - purchased by the Teledyne group, now trading as Teledyne TSS International; Some products continue to be sold using the name SG Brown, principally gyrocompass and hand-steering units for military vessels. 2009 - 1 Garnet Close, Greycaine Industrial Estate, Watford, Hertfordshire, WD24 7GL; 2010 - 1 Blackmoor Lane, Croxley Green Business Park, Watford, WD18 8GA   \n",
       "\n",
       "            res_WIKIDATA_IDs  \\\n",
       "14337             [Q1365773]   \n",
       "19     [Q18528774, Q5323238]   \n",
       "12187              [Q538101]   \n",
       "13735             [Q6106384]   \n",
       "4784               [Q156959]   \n",
       "944                [Q502125]   \n",
       "10813             [Q2100540]   \n",
       "15552             [Q1826405]   \n",
       "14276             [Q5170499]   \n",
       "16840              [Q197494]   \n",
       "1740              [Q1494435]   \n",
       "3922              [Q7796279]   \n",
       "5971              [Q3345408]   \n",
       "1501              [Q2001072]   \n",
       "4062              [Q5430128]   \n",
       "14308              [Q379439]   \n",
       "5989              [Q3276096]   \n",
       "2407               [Q565558]   \n",
       "11499             [Q1456606]   \n",
       "11757              [Q538822]   \n",
       "17774             [Q7345667]   \n",
       "14961             [Q7395351]   \n",
       "\n",
       "                                                                                                                                                                    res_URLS  \\\n",
       "14337                                             [http://www.thomson.net/GlobalEnglish/Corporate/About/History/Pages/default.aspx, http://en.wikipedia.org/wiki/Thomson_SA]   \n",
       "19                                                                                          [http://www.oxforddnb.com/view/article/46833, http://en.wikipedia.org/wiki/Ekco]   \n",
       "12187                                                                                                         [http://en.wikipedia.org/wiki/New_Zealand_Railways_Department]   \n",
       "13735                                                                                            [http://en.wikipedia.org/wiki/J._Lyons_and_Co., http://www.kzwp.com/lyons/]   \n",
       "4784                                                                  [http://www.merckgroup.com/en/company/history/history.html, https://en.wikipedia.org/wiki/Merck_Group]   \n",
       "944                                                                      [http://en.wikipedia.org/wiki/West_Japan_Railway_Company, http://www.westjr.co.jp/english/company/]   \n",
       "10813                                                                                                                          [http://en.wikipedia.org/wiki/Ward_Lock_&_Co]   \n",
       "15552                                                                                                            [http://en.wikipedia.org/wiki/Aeropostal_Alas_de_Venezuela]   \n",
       "14276                                                                                                               [https://en.wikipedia.org/wiki/Corgi_Motorcycle_Co_Ltd.]   \n",
       "16840  [http://en.wikipedia.org/wiki/Parsons_Marine_Steam_Turbine_Company, http://www.gracesguide.co.uk/Parsons_Marine_Steam_Turbine_Co, http://wck2.companieshouse.gov.uk/]   \n",
       "1740                                       [http://en.wikipedia.org/wiki/Garrard_%26_Co, http://www.garrard.com/heritage/, http://www.silvercollection.it/ENGLAGARRARD.html]   \n",
       "3922                                                                                                                                [http://en.wikipedia.org/wiki/Thorn_EMI]   \n",
       "5971                                                                                                                  [http://en.wikipedia.org/wiki/Central_Railway_(India)]   \n",
       "1501                                                                       [http://www.raleigh.co.uk/Company/History/, http://en.wikipedia.org/wiki/Raleigh_Bicycle_Company]   \n",
       "4062                     [http://wck2.companieshouse.gov.uk, http://www.faireyownersclub.co.uk/default.asp?content=theboats, http://en.wikipedia.org/wiki/Fairey_Marine_Ltd]   \n",
       "14308                                                                                                                         [http://en.wikipedia.org/wiki/Queensland_Rail]   \n",
       "5989                                                                                                                 [http://en.wikipedia.org/wiki/Southern_Railway_(India)]   \n",
       "2407                         [http://www.schott.com/jena/english/company/history.html, http://www.zeisshistorica.org/companies.html, http://en.wikipedia.org/wiki/Schott_AG]   \n",
       "11499                                                                                                               [http://en.wikipedia.org/wiki/Isle_of_Man_Steam_Railway]   \n",
       "11757                                                                                                          [http://en.wikipedia.org/wiki/British_Rail_Research_Division]   \n",
       "17774                                                                                                             [http://en.wikipedia.org/wiki/Robert_Hudson_%28company%29]   \n",
       "14961  [http://en.wikipedia.org/wiki/S_G_Brown_Ltd, http://www.tss-international.com/, http://en.wikipedia.org/wiki/S_G_Brown_Ltd, http://www.gracesguide.co.uk/S._G._Brown]   \n",
       "\n",
       "      qcodes_filtered  \n",
       "14337      [Q1365773]  \n",
       "19         [Q5323238]  \n",
       "12187       [Q538101]  \n",
       "13735      [Q6106384]  \n",
       "4784        [Q156959]  \n",
       "944         [Q502125]  \n",
       "10813      [Q2100540]  \n",
       "15552      [Q1826405]  \n",
       "14276      [Q5170499]  \n",
       "16840       [Q197494]  \n",
       "1740       [Q1494435]  \n",
       "3922       [Q7796279]  \n",
       "5971       [Q3345408]  \n",
       "1501       [Q2001072]  \n",
       "4062       [Q5430128]  \n",
       "14308       [Q379439]  \n",
       "5989       [Q3276096]  \n",
       "2407        [Q565558]  \n",
       "11499      [Q1456606]  \n",
       "11757       [Q538822]  \n",
       "17774      [Q7345667]  \n",
       "14961      [Q7395351]  "
      ]
     },
     "execution_count": 62,
     "metadata": {},
     "output_type": "execute_result"
    }
   ],
   "source": [
    "org_res_df.loc[list(set(ids_less_strict) - set(ids_more_strict)), [\"PREFERRED_NAME\", \"NOTE\", \"res_WIKIDATA_IDs\", \"res_URLS\", \"qcodes_filtered\"]]"
   ]
  },
  {
   "cell_type": "code",
   "execution_count": null,
   "metadata": {},
   "outputs": [],
   "source": []
  }
 ],
 "metadata": {
  "kernelspec": {
   "display_name": "Python 3",
   "language": "python",
   "name": "python3"
  },
  "language_info": {
   "codemirror_mode": {
    "name": "ipython",
    "version": 3
   },
   "file_extension": ".py",
   "mimetype": "text/x-python",
   "name": "python",
   "nbconvert_exporter": "python",
   "pygments_lexer": "ipython3",
   "version": "3.7.4"
  }
 },
 "nbformat": 4,
 "nbformat_minor": 4
}
