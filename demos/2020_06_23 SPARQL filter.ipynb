{
 "cells": [
  {
   "cell_type": "markdown",
   "metadata": {},
   "source": [
    "# Filtering records using SPARQL"
   ]
  },
  {
   "cell_type": "code",
   "execution_count": 20,
   "metadata": {},
   "outputs": [
    {
     "data": {
      "text/plain": [
       "10352"
      ]
     },
     "execution_count": 20,
     "metadata": {},
     "output_type": "execute_result"
    }
   ],
   "source": [
    "import sys\n",
    "sys.path.append(\"..\")\n",
    "import pandas as pd\n",
    "import re\n",
    "from heritageconnector.utils.sparql import get_sparql_results\n",
    "\n",
    "endpoint_url = \"https://query.wikidata.org/sparql\"\n",
    "\n",
    "df = pd.read_pickle(\"../GITIGNORE_DATA/lookup_result.pkl\")\n",
    "people_df = df[df['GENDER'].isin([\"M\", \"F\"])]\n",
    "\n",
    "len(people_df)"
   ]
  },
  {
   "cell_type": "code",
   "execution_count": 66,
   "metadata": {},
   "outputs": [],
   "source": [
    "map_ids = lambda ids: \", \".join([f\"wd:{i}\" for i in ids])\n",
    "map_ids_values = lambda ids: \" \".join([f\"(wd:{i})\" for i in ids])\n",
    "\n",
    "def return_labels_aliases_by_property(query_ids, property_id, include_class_tree):\n",
    "    \n",
    "    class_tree = \"/wdt:P279*\" if include_class_tree else \"\"\n",
    "        \n",
    "    query = f\"\"\"\n",
    "    SELECT ?item ?itemLabel ?altLabel\n",
    "            WHERE\n",
    "            {{\n",
    "                VALUES (?item) {{ {map_ids_values(query_ids)} }}\n",
    "                ?item wdt:P31{class_tree} wd:{property_id}.\n",
    "                ?item skos:altLabel ?altLabel .\n",
    "                FILTER (lang(?altLabel) = \"en\")\n",
    "\n",
    "                SERVICE wikibase:label {{ \n",
    "                  bd:serviceParam wikibase:language \"en\" .\n",
    "                }}\n",
    "            }} \n",
    "    GROUP BY ?item ?itemLabel ?altLabel\n",
    "    \"\"\"\n",
    "    res = get_sparql_results(endpoint_url, query)['results']['bindings']\n",
    "    \n",
    "    res_df = pd.json_normalize(res)\n",
    "    res_df['qcode'] = res_df['item.value'].apply(lambda x: re.findall(r\"(Q\\d+)\", x)[0])\n",
    "    res_df = res_df[['qcode', 'itemLabel.value', 'altLabel.value']]\n",
    "    \n",
    "    return res_df"
   ]
  },
  {
   "cell_type": "code",
   "execution_count": 62,
   "metadata": {},
   "outputs": [
    {
     "data": {
      "text/plain": [
       "3620"
      ]
     },
     "execution_count": 62,
     "metadata": {},
     "output_type": "execute_result"
    }
   ],
   "source": [
    "qcodes_unique = [item for item in list(set(people_df['res_WIKIDATA_IDs'].sum())) if str(item).startswith(\"Q\")]\n",
    "len(qcodes_unique)"
   ]
  },
  {
   "cell_type": "code",
   "execution_count": 69,
   "metadata": {},
   "outputs": [
    {
     "name": "stdout",
     "output_type": "stream",
     "text": [
      "8.351809978485107\n"
     ]
    }
   ],
   "source": [
    "# error 500: timeout if too many records. need to paginate\n",
    "qcodes_query = qcodes_unique#[0:2000]\n",
    "import time\n",
    "start = time.time()\n",
    "res_df = return_labels_aliases_by_property(qcodes_query, \"Q5\", include_class_tree=False)\n",
    "print(time.time() - start)"
   ]
  },
  {
   "cell_type": "code",
   "execution_count": 70,
   "metadata": {},
   "outputs": [
    {
     "data": {
      "text/html": [
       "<div>\n",
       "<style scoped>\n",
       "    .dataframe tbody tr th:only-of-type {\n",
       "        vertical-align: middle;\n",
       "    }\n",
       "\n",
       "    .dataframe tbody tr th {\n",
       "        vertical-align: top;\n",
       "    }\n",
       "\n",
       "    .dataframe thead th {\n",
       "        text-align: right;\n",
       "    }\n",
       "</style>\n",
       "<table border=\"1\" class=\"dataframe\">\n",
       "  <thead>\n",
       "    <tr style=\"text-align: right;\">\n",
       "      <th></th>\n",
       "      <th>qcode</th>\n",
       "      <th>itemLabel.value</th>\n",
       "      <th>altLabel.value</th>\n",
       "    </tr>\n",
       "  </thead>\n",
       "  <tbody>\n",
       "    <tr>\n",
       "      <th>0</th>\n",
       "      <td>Q517</td>\n",
       "      <td>Napoleon</td>\n",
       "      <td>Napoleon I</td>\n",
       "    </tr>\n",
       "    <tr>\n",
       "      <th>1</th>\n",
       "      <td>Q517</td>\n",
       "      <td>Napoleon</td>\n",
       "      <td>Emperor of the French Napoleon I</td>\n",
       "    </tr>\n",
       "    <tr>\n",
       "      <th>2</th>\n",
       "      <td>Q517</td>\n",
       "      <td>Napoleon</td>\n",
       "      <td>Napoléon Bonaparte</td>\n",
       "    </tr>\n",
       "    <tr>\n",
       "      <th>3</th>\n",
       "      <td>Q517</td>\n",
       "      <td>Napoleon</td>\n",
       "      <td>Le Petit Caporal</td>\n",
       "    </tr>\n",
       "    <tr>\n",
       "      <th>4</th>\n",
       "      <td>Q517</td>\n",
       "      <td>Napoleon</td>\n",
       "      <td>Napoleone Buonaparte</td>\n",
       "    </tr>\n",
       "    <tr>\n",
       "      <th>...</th>\n",
       "      <td>...</td>\n",
       "      <td>...</td>\n",
       "      <td>...</td>\n",
       "    </tr>\n",
       "    <tr>\n",
       "      <th>9338</th>\n",
       "      <td>Q2938863</td>\n",
       "      <td>Carl Angst</td>\n",
       "      <td>Carl-Albert Angst</td>\n",
       "    </tr>\n",
       "    <tr>\n",
       "      <th>9339</th>\n",
       "      <td>Q2938914</td>\n",
       "      <td>Carl Frederik von Breda</td>\n",
       "      <td>Carl Fredric von Breda</td>\n",
       "    </tr>\n",
       "    <tr>\n",
       "      <th>9340</th>\n",
       "      <td>Q2938914</td>\n",
       "      <td>Carl Frederik von Breda</td>\n",
       "      <td>Carl Fredrik van Breda</td>\n",
       "    </tr>\n",
       "    <tr>\n",
       "      <th>9341</th>\n",
       "      <td>Q2938914</td>\n",
       "      <td>Carl Frederik von Breda</td>\n",
       "      <td>Carl Fredrik von Breda</td>\n",
       "    </tr>\n",
       "    <tr>\n",
       "      <th>9342</th>\n",
       "      <td>Q2938914</td>\n",
       "      <td>Carl Frederik von Breda</td>\n",
       "      <td>Carl Fredrik Von Breda</td>\n",
       "    </tr>\n",
       "  </tbody>\n",
       "</table>\n",
       "<p>9343 rows × 3 columns</p>\n",
       "</div>"
      ],
      "text/plain": [
       "         qcode          itemLabel.value                    altLabel.value\n",
       "0         Q517                 Napoleon                        Napoleon I\n",
       "1         Q517                 Napoleon  Emperor of the French Napoleon I\n",
       "2         Q517                 Napoleon                Napoléon Bonaparte\n",
       "3         Q517                 Napoleon                  Le Petit Caporal\n",
       "4         Q517                 Napoleon              Napoleone Buonaparte\n",
       "...        ...                      ...                               ...\n",
       "9338  Q2938863               Carl Angst                 Carl-Albert Angst\n",
       "9339  Q2938914  Carl Frederik von Breda            Carl Fredric von Breda\n",
       "9340  Q2938914  Carl Frederik von Breda            Carl Fredrik van Breda\n",
       "9341  Q2938914  Carl Frederik von Breda            Carl Fredrik von Breda\n",
       "9342  Q2938914  Carl Frederik von Breda            Carl Fredrik Von Breda\n",
       "\n",
       "[9343 rows x 3 columns]"
      ]
     },
     "execution_count": 70,
     "metadata": {},
     "output_type": "execute_result"
    }
   ],
   "source": [
    "res_df"
   ]
  },
  {
   "cell_type": "code",
   "execution_count": 71,
   "metadata": {},
   "outputs": [
    {
     "data": {
      "text/plain": [
       "[['Leonardo da Vinci'], ['Freiherr Christian Leopold von Buch']]"
      ]
     },
     "execution_count": 71,
     "metadata": {},
     "output_type": "execute_result"
    }
   ],
   "source": [
    "def get_aliases(qcodes):\n",
    "    return [res_df.loc[res_df['qcode'] == qcode, 'altLabel.value'].unique().tolist() for qcode in qcodes]\n",
    "\n",
    "def get_labels(qcodes):\n",
    "    return [res_df.loc[res_df['qcode'] == qcode, 'itemLabel.value'].unique().tolist() for qcode in qcodes]\n",
    "\n",
    "get_labels([\"Q762\", \"Q55021352\"])"
   ]
  },
  {
   "cell_type": "code",
   "execution_count": null,
   "metadata": {},
   "outputs": [],
   "source": []
  }
 ],
 "metadata": {
  "kernelspec": {
   "display_name": "Python 3",
   "language": "python",
   "name": "python3"
  },
  "language_info": {
   "codemirror_mode": {
    "name": "ipython",
    "version": 3
   },
   "file_extension": ".py",
   "mimetype": "text/x-python",
   "name": "python",
   "nbconvert_exporter": "python",
   "pygments_lexer": "ipython3",
   "version": "3.7.4"
  }
 },
 "nbformat": 4,
 "nbformat_minor": 4
}
