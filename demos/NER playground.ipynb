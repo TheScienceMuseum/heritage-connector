{
 "cells": [
  {
   "cell_type": "markdown",
   "id": "failing-psychiatry",
   "metadata": {},
   "source": [
    "A quick and dirty notebook to play with the best spaCy model in Heritage Connector."
   ]
  },
  {
   "cell_type": "code",
   "execution_count": 1,
   "id": "assigned-authentication",
   "metadata": {},
   "outputs": [
    {
     "name": "stdout",
     "output_type": "stream",
     "text": [
      "spacy tried to use GPU but failed\n",
      "2021-08-18 11:43:37,172 - hc_nlp.pipeline - INFO - Loading thesaurus from ../heritageconnector/../GITIGNORE_DATA/make_data/output/dictionary_matcher_collection.jsonl\n",
      "2021-08-18 11:43:38,504 - hc_nlp.pipeline - INFO - 17016 term thesaurus imported in 1s\n"
     ]
    }
   ],
   "source": [
    "import sys\n",
    "sys.path.append(\"..\")\n",
    "\n",
    "from heritageconnector.best_spacy_pipeline import load_model\n",
    "from spacy import displacy\n",
    "\n",
    "ent_types_exclude = [\"QUANTITY\", \"ORDINAL\"]\n",
    "nlp = load_model(\"en_core_web_trf\")"
   ]
  },
  {
   "cell_type": "code",
   "execution_count": 2,
   "id": "speaking-night",
   "metadata": {},
   "outputs": [],
   "source": [
    "text = \"\"\"\n",
    " Painting, [The Munition Girls] / by Stanhope Alexander Forbes, 1918. Oil on canvas; 40x 50\" or 103x127cm, in decorative gilt frame 132x152x8.5cm. Signed and dated bottom left. Female operatives making 4.5-inch shells at the Kilnhurst Steel Works of John Baker and Co. Ltd., Rotherham; steel billets are re-heated in a separate furnace and, still glowing, moved by hand to a steam hydraulic press for forging. Mr. George Baker commissioned this scene \"to produce a memento for our women workers\", and each of them received a framed copy of it.\n",
    "\n",
    "Commissioned by John Baker & Co, this famous oil painting, entitled ‘The Munition Girls’, shows women working at Kilnhurst Steelworks during the First World War. The artist was Alexander Stanhope Forbes (1857-1947).\n",
    "\"\"\""
   ]
  },
  {
   "cell_type": "code",
   "execution_count": 3,
   "id": "macro-spectrum",
   "metadata": {},
   "outputs": [],
   "source": [
    "doc = nlp(text)\n",
    "doc.ents = [ent for ent in doc.ents if ent.label_ not in ent_types_exclude]"
   ]
  },
  {
   "cell_type": "code",
   "execution_count": 4,
   "id": "technological-wealth",
   "metadata": {},
   "outputs": [
    {
     "data": {
      "text/html": [
       "<span class=\"tex2jax_ignore\"><div class=\"entities\" style=\"line-height: 2.5; direction: ltr\"></br> Painting, [<mark class=\"entity\" style=\"background: #ddd; padding: 0.45em 0.6em; margin: 0 0.25em; line-height: 1; border-radius: 0.35em;\">The Munition Girls<span style=\"font-size: 0.8em; font-weight: bold; line-height: 1; border-radius: 0.35em; vertical-align: middle; margin-left: 0.5rem\">OBJECT</span></mark>] / by <mark class=\"entity\" style=\"background: #aa9cfc; padding: 0.45em 0.6em; margin: 0 0.25em; line-height: 1; border-radius: 0.35em;\">Stanhope Alexander Forbes<span style=\"font-size: 0.8em; font-weight: bold; line-height: 1; border-radius: 0.35em; vertical-align: middle; margin-left: 0.5rem\">PERSON</span></mark>, <mark class=\"entity\" style=\"background: #bfe1d9; padding: 0.45em 0.6em; margin: 0 0.25em; line-height: 1; border-radius: 0.35em;\">1918<span style=\"font-size: 0.8em; font-weight: bold; line-height: 1; border-radius: 0.35em; vertical-align: middle; margin-left: 0.5rem\">DATE</span></mark>. Oil on canvas; 40x 50&quot; or 103x127cm, in decorative gilt frame 132x152x8.5cm. Signed and dated bottom left. Female operatives making 4.5-inch shells at <mark class=\"entity\" style=\"background: #7aecec; padding: 0.45em 0.6em; margin: 0 0.25em; line-height: 1; border-radius: 0.35em;\">the Kilnhurst Steel Works<span style=\"font-size: 0.8em; font-weight: bold; line-height: 1; border-radius: 0.35em; vertical-align: middle; margin-left: 0.5rem\">ORG</span></mark> of <mark class=\"entity\" style=\"background: #7aecec; padding: 0.45em 0.6em; margin: 0 0.25em; line-height: 1; border-radius: 0.35em;\">John Baker and Co. Ltd.<span style=\"font-size: 0.8em; font-weight: bold; line-height: 1; border-radius: 0.35em; vertical-align: middle; margin-left: 0.5rem\">ORG</span></mark>, <mark class=\"entity\" style=\"background: #ff9561; padding: 0.45em 0.6em; margin: 0 0.25em; line-height: 1; border-radius: 0.35em;\">Rotherham<span style=\"font-size: 0.8em; font-weight: bold; line-height: 1; border-radius: 0.35em; vertical-align: middle; margin-left: 0.5rem\">LOC</span></mark>; steel billets are re-heated in a separate furnace and, still glowing, moved by hand to a steam hydraulic press for forging. Mr. <mark class=\"entity\" style=\"background: #aa9cfc; padding: 0.45em 0.6em; margin: 0 0.25em; line-height: 1; border-radius: 0.35em;\">George Baker<span style=\"font-size: 0.8em; font-weight: bold; line-height: 1; border-radius: 0.35em; vertical-align: middle; margin-left: 0.5rem\">PERSON</span></mark> commissioned this scene &quot;to produce a memento for our women workers&quot;, and each of them received a framed copy of it.</br></br>Commissioned by <mark class=\"entity\" style=\"background: #7aecec; padding: 0.45em 0.6em; margin: 0 0.25em; line-height: 1; border-radius: 0.35em;\">John Baker &amp; Co<span style=\"font-size: 0.8em; font-weight: bold; line-height: 1; border-radius: 0.35em; vertical-align: middle; margin-left: 0.5rem\">ORG</span></mark>, this famous oil painting, entitled ‘<mark class=\"entity\" style=\"background: #ddd; padding: 0.45em 0.6em; margin: 0 0.25em; line-height: 1; border-radius: 0.35em;\">The Munition Girls<span style=\"font-size: 0.8em; font-weight: bold; line-height: 1; border-radius: 0.35em; vertical-align: middle; margin-left: 0.5rem\">OBJECT</span></mark>’, shows women working at <mark class=\"entity\" style=\"background: #7aecec; padding: 0.45em 0.6em; margin: 0 0.25em; line-height: 1; border-radius: 0.35em;\">Kilnhurst Steelworks<span style=\"font-size: 0.8em; font-weight: bold; line-height: 1; border-radius: 0.35em; vertical-align: middle; margin-left: 0.5rem\">ORG</span></mark> during <mark class=\"entity\" style=\"background: #ffeb80; padding: 0.45em 0.6em; margin: 0 0.25em; line-height: 1; border-radius: 0.35em;\">the First World War<span style=\"font-size: 0.8em; font-weight: bold; line-height: 1; border-radius: 0.35em; vertical-align: middle; margin-left: 0.5rem\">EVENT</span></mark>. The artist was <mark class=\"entity\" style=\"background: #aa9cfc; padding: 0.45em 0.6em; margin: 0 0.25em; line-height: 1; border-radius: 0.35em;\">Alexander Stanhope Forbes<span style=\"font-size: 0.8em; font-weight: bold; line-height: 1; border-radius: 0.35em; vertical-align: middle; margin-left: 0.5rem\">PERSON</span></mark> (<mark class=\"entity\" style=\"background: #bfe1d9; padding: 0.45em 0.6em; margin: 0 0.25em; line-height: 1; border-radius: 0.35em;\">1857-1947<span style=\"font-size: 0.8em; font-weight: bold; line-height: 1; border-radius: 0.35em; vertical-align: middle; margin-left: 0.5rem\">DATE</span></mark>).</br></div></span>"
      ],
      "text/plain": [
       "<IPython.core.display.HTML object>"
      ]
     },
     "metadata": {},
     "output_type": "display_data"
    }
   ],
   "source": [
    "displacy.render(doc, style=\"ent\", minify=True)"
   ]
  },
  {
   "cell_type": "code",
   "execution_count": null,
   "id": "noticed-colon",
   "metadata": {},
   "outputs": [],
   "source": []
  }
 ],
 "metadata": {
  "kernelspec": {
   "display_name": "Python 3",
   "language": "python",
   "name": "python3"
  },
  "language_info": {
   "codemirror_mode": {
    "name": "ipython",
    "version": 3
   },
   "file_extension": ".py",
   "mimetype": "text/x-python",
   "name": "python",
   "nbconvert_exporter": "python",
   "pygments_lexer": "ipython3",
   "version": "3.9.1"
  }
 },
 "nbformat": 4,
 "nbformat_minor": 5
}
