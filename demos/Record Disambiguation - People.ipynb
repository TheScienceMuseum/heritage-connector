{
 "cells": [
  {
   "cell_type": "markdown",
   "metadata": {},
   "source": [
    "# Record Disambiguation\n",
    "\n",
    "In this notebook we perform entity disambiguation on records, specifically person records."
   ]
  },
  {
   "cell_type": "code",
   "execution_count": 1,
   "metadata": {},
   "outputs": [],
   "source": [
    "%load_ext autoreload\n",
    "%autoreload 2\n",
    "\n",
    "import pandas as pd\n",
    "import numpy as np\n",
    "import seaborn as sns\n",
    "import matplotlib.pyplot as plt\n",
    "from IPython.display import display, Markdown\n",
    "\n",
    "from sklearn.model_selection import train_test_split\n",
    "\n",
    "import sys\n",
    "sys.path.append(\"..\")\n",
    "\n",
    "from heritageconnector.disambiguation.helpers import load_training_data, plot_performance_curves\n",
    "from heritageconnector.disambiguation.pipelines import Disambiguator\n",
    "\n",
    "pd.set_option('display.max_colwidth', None)\n",
    "pd.set_option('display.max_rows', None)"
   ]
  },
  {
   "cell_type": "markdown",
   "metadata": {},
   "source": [
    "## 1. Load data\n",
    "This data has already been generated using `Disambiguator.save_training_data_to_folder` and `Disambiguator.save_test_data_to_folder`."
   ]
  },
  {
   "cell_type": "code",
   "execution_count": 2,
   "metadata": {},
   "outputs": [],
   "source": [
    "train_dir = \"/Volumes/Kalyan_SSD/SMG/disambiguation/people_231020/train/\"\n",
    "test_dir = \"/Volumes/Kalyan_SSD/SMG/disambiguation/people_231020/test/\""
   ]
  },
  {
   "cell_type": "code",
   "execution_count": 3,
   "metadata": {},
   "outputs": [],
   "source": [
    "X, y, pairs, pids = load_training_data(train_dir)\n",
    "X_new, pairs_new, pids_new = load_training_data(test_dir)"
   ]
  },
  {
   "cell_type": "code",
   "execution_count": 5,
   "metadata": {},
   "outputs": [
    {
     "data": {
      "text/plain": [
       "(['P106', 'P569', 'P21', 'P570', 'P734', 'P735', 'label', 'P31'],\n",
       " ['P106', 'P569', 'P21', 'P570', 'P734', 'P735', 'label', 'P31'])"
      ]
     },
     "execution_count": 5,
     "metadata": {},
     "output_type": "execute_result"
    }
   ],
   "source": [
    "pids, pids_new"
   ]
  },
  {
   "cell_type": "markdown",
   "metadata": {},
   "source": [
    "## 2. Train classifier\n",
    "The disambiguator wraps `sklearn.tree.DecisionTreeClassifier` and takes its parameters as inputs."
   ]
  },
  {
   "cell_type": "markdown",
   "metadata": {},
   "source": [
    "### 2a. Test classifier performance\n",
    "We'll perform a train/test split on the labelled data to quickly test the classifier's performance using its `score` method. \n",
    "\n",
    "The `score` method here returns [balanced accuracy](https://scikit-learn.org/stable/modules/generated/sklearn.metrics.balanced_accuracy_score.html): accuracy weighted so that each class is considered evenly."
   ]
  },
  {
   "cell_type": "code",
   "execution_count": 6,
   "metadata": {},
   "outputs": [],
   "source": [
    "X_train, X_test, y_train, y_test = train_test_split(X, y, random_state=42)"
   ]
  },
  {
   "cell_type": "code",
   "execution_count": 7,
   "metadata": {},
   "outputs": [
    {
     "name": "stdout",
     "output_type": "stream",
     "text": [
      "balanced accuracy score: 0.9804624906911341\n",
      "precision score: 0.9288762446657184\n",
      "recall score: 0.9645494830132939\n"
     ]
    }
   ],
   "source": [
    "clf = Disambiguator('PERSON').fit(X_train, y_train)\n",
    "print(clf.score(X_test, y_test))"
   ]
  },
  {
   "cell_type": "markdown",
   "metadata": {},
   "source": [
    "### 2b. Use classifier to predict new Wikidata links"
   ]
  },
  {
   "cell_type": "code",
   "execution_count": 9,
   "metadata": {},
   "outputs": [
    {
     "name": "stdout",
     "output_type": "stream",
     "text": [
      "2506 potential new links found\n"
     ]
    }
   ],
   "source": [
    "clf = Disambiguator('PERSON').fit(X, y)\n",
    "y_pred = clf.predict(X_new, threshold=0.5)\n",
    "y_pred_proba = clf.predict_proba(X_new)\n",
    "\n",
    "print(f\"{np.unique(y_pred, return_counts=True)[1][1]} potential new links found\")"
   ]
  },
  {
   "cell_type": "code",
   "execution_count": 10,
   "metadata": {},
   "outputs": [
    {
     "data": {
      "text/html": [
       "<div>\n",
       "<style scoped>\n",
       "    .dataframe tbody tr th:only-of-type {\n",
       "        vertical-align: middle;\n",
       "    }\n",
       "\n",
       "    .dataframe tbody tr th {\n",
       "        vertical-align: top;\n",
       "    }\n",
       "\n",
       "    .dataframe thead th {\n",
       "        text-align: right;\n",
       "    }\n",
       "</style>\n",
       "<table border=\"1\" class=\"dataframe\">\n",
       "  <thead>\n",
       "    <tr style=\"text-align: right;\">\n",
       "      <th></th>\n",
       "      <th>internal_id</th>\n",
       "      <th>wikidata_id</th>\n",
       "      <th>y_pred</th>\n",
       "      <th>y_pred_proba</th>\n",
       "    </tr>\n",
       "  </thead>\n",
       "  <tbody>\n",
       "    <tr>\n",
       "      <th>101463</th>\n",
       "      <td>https://collection.sciencemuseumgroup.org.uk/people/cp166996</td>\n",
       "      <td>Q76828</td>\n",
       "      <td>True</td>\n",
       "      <td>0.998220</td>\n",
       "    </tr>\n",
       "    <tr>\n",
       "      <th>94303</th>\n",
       "      <td>https://collection.sciencemuseumgroup.org.uk/people/cp133782</td>\n",
       "      <td>Q18163225</td>\n",
       "      <td>True</td>\n",
       "      <td>0.998220</td>\n",
       "    </tr>\n",
       "    <tr>\n",
       "      <th>20435</th>\n",
       "      <td>https://collection.sciencemuseumgroup.org.uk/people/cp106822</td>\n",
       "      <td>Q7926329</td>\n",
       "      <td>True</td>\n",
       "      <td>0.998220</td>\n",
       "    </tr>\n",
       "    <tr>\n",
       "      <th>3030</th>\n",
       "      <td>https://collection.sciencemuseumgroup.org.uk/people/cp161786</td>\n",
       "      <td>Q6742597</td>\n",
       "      <td>True</td>\n",
       "      <td>0.998220</td>\n",
       "    </tr>\n",
       "    <tr>\n",
       "      <th>107602</th>\n",
       "      <td>https://collection.sciencemuseumgroup.org.uk/people/cp44515</td>\n",
       "      <td>Q12015708</td>\n",
       "      <td>True</td>\n",
       "      <td>0.998220</td>\n",
       "    </tr>\n",
       "    <tr>\n",
       "      <th>53272</th>\n",
       "      <td>https://collection.sciencemuseumgroup.org.uk/people/cp84859</td>\n",
       "      <td>Q75852678</td>\n",
       "      <td>True</td>\n",
       "      <td>0.996749</td>\n",
       "    </tr>\n",
       "    <tr>\n",
       "      <th>131879</th>\n",
       "      <td>https://collection.sciencemuseumgroup.org.uk/people/cp136902</td>\n",
       "      <td>Q6786928</td>\n",
       "      <td>True</td>\n",
       "      <td>0.998220</td>\n",
       "    </tr>\n",
       "    <tr>\n",
       "      <th>94309</th>\n",
       "      <td>https://collection.sciencemuseumgroup.org.uk/people/cp133782</td>\n",
       "      <td>Q52218610</td>\n",
       "      <td>True</td>\n",
       "      <td>0.923343</td>\n",
       "    </tr>\n",
       "    <tr>\n",
       "      <th>75072</th>\n",
       "      <td>https://collection.sciencemuseumgroup.org.uk/people/cp133925</td>\n",
       "      <td>Q52155667</td>\n",
       "      <td>True</td>\n",
       "      <td>0.998220</td>\n",
       "    </tr>\n",
       "    <tr>\n",
       "      <th>111399</th>\n",
       "      <td>https://collection.sciencemuseumgroup.org.uk/people/cp36055</td>\n",
       "      <td>Q20492565</td>\n",
       "      <td>True</td>\n",
       "      <td>0.998220</td>\n",
       "    </tr>\n",
       "    <tr>\n",
       "      <th>82546</th>\n",
       "      <td>https://collection.sciencemuseumgroup.org.uk/people/cp135327</td>\n",
       "      <td>Q92646</td>\n",
       "      <td>True</td>\n",
       "      <td>0.923343</td>\n",
       "    </tr>\n",
       "    <tr>\n",
       "      <th>98152</th>\n",
       "      <td>https://collection.sciencemuseumgroup.org.uk/people/cp97788</td>\n",
       "      <td>Q78562</td>\n",
       "      <td>True</td>\n",
       "      <td>0.998220</td>\n",
       "    </tr>\n",
       "    <tr>\n",
       "      <th>41304</th>\n",
       "      <td>https://collection.sciencemuseumgroup.org.uk/people/cp69065</td>\n",
       "      <td>Q746066</td>\n",
       "      <td>True</td>\n",
       "      <td>0.998220</td>\n",
       "    </tr>\n",
       "    <tr>\n",
       "      <th>82539</th>\n",
       "      <td>https://collection.sciencemuseumgroup.org.uk/people/cp39817</td>\n",
       "      <td>Q6969500</td>\n",
       "      <td>True</td>\n",
       "      <td>0.998220</td>\n",
       "    </tr>\n",
       "    <tr>\n",
       "      <th>23903</th>\n",
       "      <td>https://collection.sciencemuseumgroup.org.uk/people/cp159907</td>\n",
       "      <td>Q1514491</td>\n",
       "      <td>True</td>\n",
       "      <td>0.983339</td>\n",
       "    </tr>\n",
       "    <tr>\n",
       "      <th>127593</th>\n",
       "      <td>https://collection.sciencemuseumgroup.org.uk/people/cp39766</td>\n",
       "      <td>Q63155335</td>\n",
       "      <td>True</td>\n",
       "      <td>0.998220</td>\n",
       "    </tr>\n",
       "    <tr>\n",
       "      <th>119776</th>\n",
       "      <td>https://collection.sciencemuseumgroup.org.uk/people/cp102165</td>\n",
       "      <td>Q96086764</td>\n",
       "      <td>True</td>\n",
       "      <td>0.998220</td>\n",
       "    </tr>\n",
       "    <tr>\n",
       "      <th>3057</th>\n",
       "      <td>https://collection.sciencemuseumgroup.org.uk/people/cp77947</td>\n",
       "      <td>Q8006904</td>\n",
       "      <td>True</td>\n",
       "      <td>0.998220</td>\n",
       "    </tr>\n",
       "    <tr>\n",
       "      <th>70962</th>\n",
       "      <td>https://collection.sciencemuseumgroup.org.uk/people/cp129290</td>\n",
       "      <td>Q5195836</td>\n",
       "      <td>True</td>\n",
       "      <td>0.983339</td>\n",
       "    </tr>\n",
       "    <tr>\n",
       "      <th>65108</th>\n",
       "      <td>https://collection.sciencemuseumgroup.org.uk/people/cp102505</td>\n",
       "      <td>Q73983060</td>\n",
       "      <td>True</td>\n",
       "      <td>0.998220</td>\n",
       "    </tr>\n",
       "  </tbody>\n",
       "</table>\n",
       "</div>"
      ],
      "text/plain": [
       "                                                         internal_id  \\\n",
       "101463  https://collection.sciencemuseumgroup.org.uk/people/cp166996   \n",
       "94303   https://collection.sciencemuseumgroup.org.uk/people/cp133782   \n",
       "20435   https://collection.sciencemuseumgroup.org.uk/people/cp106822   \n",
       "3030    https://collection.sciencemuseumgroup.org.uk/people/cp161786   \n",
       "107602   https://collection.sciencemuseumgroup.org.uk/people/cp44515   \n",
       "53272    https://collection.sciencemuseumgroup.org.uk/people/cp84859   \n",
       "131879  https://collection.sciencemuseumgroup.org.uk/people/cp136902   \n",
       "94309   https://collection.sciencemuseumgroup.org.uk/people/cp133782   \n",
       "75072   https://collection.sciencemuseumgroup.org.uk/people/cp133925   \n",
       "111399   https://collection.sciencemuseumgroup.org.uk/people/cp36055   \n",
       "82546   https://collection.sciencemuseumgroup.org.uk/people/cp135327   \n",
       "98152    https://collection.sciencemuseumgroup.org.uk/people/cp97788   \n",
       "41304    https://collection.sciencemuseumgroup.org.uk/people/cp69065   \n",
       "82539    https://collection.sciencemuseumgroup.org.uk/people/cp39817   \n",
       "23903   https://collection.sciencemuseumgroup.org.uk/people/cp159907   \n",
       "127593   https://collection.sciencemuseumgroup.org.uk/people/cp39766   \n",
       "119776  https://collection.sciencemuseumgroup.org.uk/people/cp102165   \n",
       "3057     https://collection.sciencemuseumgroup.org.uk/people/cp77947   \n",
       "70962   https://collection.sciencemuseumgroup.org.uk/people/cp129290   \n",
       "65108   https://collection.sciencemuseumgroup.org.uk/people/cp102505   \n",
       "\n",
       "       wikidata_id  y_pred  y_pred_proba  \n",
       "101463      Q76828    True      0.998220  \n",
       "94303    Q18163225    True      0.998220  \n",
       "20435     Q7926329    True      0.998220  \n",
       "3030      Q6742597    True      0.998220  \n",
       "107602   Q12015708    True      0.998220  \n",
       "53272    Q75852678    True      0.996749  \n",
       "131879    Q6786928    True      0.998220  \n",
       "94309    Q52218610    True      0.923343  \n",
       "75072    Q52155667    True      0.998220  \n",
       "111399   Q20492565    True      0.998220  \n",
       "82546       Q92646    True      0.923343  \n",
       "98152       Q78562    True      0.998220  \n",
       "41304      Q746066    True      0.998220  \n",
       "82539     Q6969500    True      0.998220  \n",
       "23903     Q1514491    True      0.983339  \n",
       "127593   Q63155335    True      0.998220  \n",
       "119776   Q96086764    True      0.998220  \n",
       "3057      Q8006904    True      0.998220  \n",
       "70962     Q5195836    True      0.983339  \n",
       "65108    Q73983060    True      0.998220  "
      ]
     },
     "execution_count": 10,
     "metadata": {},
     "output_type": "execute_result"
    }
   ],
   "source": [
    "pairs_new[\"y_pred\"] = y_pred\n",
    "pairs_new[\"y_pred_proba\"] = y_pred_proba\n",
    "pairs_new.sort_values(\"y_pred\", ascending=False).head(20)"
   ]
  },
  {
   "cell_type": "code",
   "execution_count": 11,
   "metadata": {},
   "outputs": [
    {
     "data": {
      "text/markdown": [
       "The graph below shows the distribution of the number of predicted matches per SMG ID. Around 75% have a unique match, and most of the remainder have two matches."
      ],
      "text/plain": [
       "<IPython.core.display.Markdown object>"
      ]
     },
     "metadata": {},
     "output_type": "display_data"
    },
    {
     "data": {
      "image/png": "[encoded data removed]",
      "text/plain": [
       "<Figure size 432x288 with 1 Axes>"
      ]
     },
     "metadata": {
      "needs_background": "light"
     },
     "output_type": "display_data"
    }
   ],
   "source": [
    "display(Markdown(\"The graph below shows the distribution of the number of predicted matches per SMG ID. Around 75% have a unique match, and most of the remainder have two matches.\"))\n",
    "sns.distplot(pairs_new.loc[pairs_new[\"y_pred\"] == True, \"internal_id\"].value_counts(), kde=False, norm_hist=True).set_ylabel('proportion')\n",
    "plt.gca().set_title('Count of Number of SMG IDs per True Prediction');"
   ]
  },
  {
   "cell_type": "markdown",
   "metadata": {},
   "source": [
    "## 2c. Returning top-ranked links only\n",
    "We can filter some of the duplicate Wikidata candidates for each SMG item found above by _only returning the top-ranked positive matches_. `clf.predict_top_ranked_pairs` does this."
   ]
  },
  {
   "cell_type": "code",
   "execution_count": 12,
   "metadata": {},
   "outputs": [
    {
     "name": "stdout",
     "output_type": "stream",
     "text": [
      "No. new links: 2411\n",
      "No. SMG items with new links: 2320\n"
     ]
    },
    {
     "data": {
      "text/html": [
       "<div>\n",
       "<style scoped>\n",
       "    .dataframe tbody tr th:only-of-type {\n",
       "        vertical-align: middle;\n",
       "    }\n",
       "\n",
       "    .dataframe tbody tr th {\n",
       "        vertical-align: top;\n",
       "    }\n",
       "\n",
       "    .dataframe thead th {\n",
       "        text-align: right;\n",
       "    }\n",
       "</style>\n",
       "<table border=\"1\" class=\"dataframe\">\n",
       "  <thead>\n",
       "    <tr style=\"text-align: right;\">\n",
       "      <th></th>\n",
       "      <th>internal_id</th>\n",
       "      <th>wikidata_id</th>\n",
       "      <th>y_pred</th>\n",
       "      <th>y_pred_proba</th>\n",
       "    </tr>\n",
       "  </thead>\n",
       "  <tbody>\n",
       "    <tr>\n",
       "      <th>49</th>\n",
       "      <td>https://collection.sciencemuseumgroup.org.uk/people/cp94357</td>\n",
       "      <td>Q75421470</td>\n",
       "      <td>True</td>\n",
       "      <td>0.960995</td>\n",
       "    </tr>\n",
       "    <tr>\n",
       "      <th>59</th>\n",
       "      <td>https://collection.sciencemuseumgroup.org.uk/people/cp17013</td>\n",
       "      <td>Q18528681</td>\n",
       "      <td>True</td>\n",
       "      <td>0.998220</td>\n",
       "    </tr>\n",
       "    <tr>\n",
       "      <th>77</th>\n",
       "      <td>https://collection.sciencemuseumgroup.org.uk/people/cp16491</td>\n",
       "      <td>Q7347877</td>\n",
       "      <td>True</td>\n",
       "      <td>0.998220</td>\n",
       "    </tr>\n",
       "    <tr>\n",
       "      <th>126</th>\n",
       "      <td>https://collection.sciencemuseumgroup.org.uk/people/cp137207</td>\n",
       "      <td>Q29554021</td>\n",
       "      <td>True</td>\n",
       "      <td>0.983339</td>\n",
       "    </tr>\n",
       "    <tr>\n",
       "      <th>248</th>\n",
       "      <td>https://collection.sciencemuseumgroup.org.uk/people/cp124380</td>\n",
       "      <td>Q43376653</td>\n",
       "      <td>True</td>\n",
       "      <td>0.827308</td>\n",
       "    </tr>\n",
       "  </tbody>\n",
       "</table>\n",
       "</div>"
      ],
      "text/plain": [
       "                                                      internal_id wikidata_id  \\\n",
       "49    https://collection.sciencemuseumgroup.org.uk/people/cp94357   Q75421470   \n",
       "59    https://collection.sciencemuseumgroup.org.uk/people/cp17013   Q18528681   \n",
       "77    https://collection.sciencemuseumgroup.org.uk/people/cp16491    Q7347877   \n",
       "126  https://collection.sciencemuseumgroup.org.uk/people/cp137207   Q29554021   \n",
       "248  https://collection.sciencemuseumgroup.org.uk/people/cp124380   Q43376653   \n",
       "\n",
       "     y_pred  y_pred_proba  \n",
       "49     True      0.960995  \n",
       "59     True      0.998220  \n",
       "77     True      0.998220  \n",
       "126    True      0.983339  \n",
       "248    True      0.827308  "
      ]
     },
     "execution_count": 12,
     "metadata": {},
     "output_type": "execute_result"
    }
   ],
   "source": [
    "pairs_true = clf.predict_top_ranked_pairs(X_new, pairs_new)\n",
    "print(f\"No. new links: {len(pairs_true)}\")\n",
    "print(f\"No. SMG items with new links: {len(pairs_true['internal_id'].unique())}\")\n",
    "pairs_true.head()"
   ]
  },
  {
   "cell_type": "markdown",
   "metadata": {},
   "source": [
    "## 3. Explain classifier\n",
    "We can see that the classifier prioritises P569/P570 (birth and death dates), P21 (gender), label similarity, and occupation.\n",
    "\n",
    "It's interesting to note that P31 (instance of), which tells the classifier whether the Wikidata record is a human, is not used. This is likely because P569/P570/P106/P21 are qualities which only humans can have.\n",
    "\n",
    "P31 is likely to be much more prevalent when classifying objects, and distinguishing between e.g. paintings and posters."
   ]
  },
  {
   "cell_type": "code",
   "execution_count": 13,
   "metadata": {},
   "outputs": [
    {
     "name": "stdout",
     "output_type": "stream",
     "text": [
      "|--- P569 <= 1.00\n",
      "|   |--- P106 <= 0.50\n",
      "|   |   |--- P570 <= 1.00\n",
      "|   |   |   |--- label <= 0.99\n",
      "|   |   |   |   |--- P735 <= 0.03\n",
      "|   |   |   |   |   |--- class: False\n",
      "|   |   |   |   |--- P735 >  0.03\n",
      "|   |   |   |   |   |--- class: False\n",
      "|   |   |   |--- label >  0.99\n",
      "|   |   |   |   |--- P21 <= 0.50\n",
      "|   |   |   |   |   |--- class: False\n",
      "|   |   |   |   |--- P21 >  0.50\n",
      "|   |   |   |   |   |--- class: False\n",
      "|   |   |--- P570 >  1.00\n",
      "|   |   |   |--- label <= 0.94\n",
      "|   |   |   |   |--- class: False\n",
      "|   |   |   |--- label >  0.94\n",
      "|   |   |   |   |--- P734 <= 0.97\n",
      "|   |   |   |   |   |--- class: False\n",
      "|   |   |   |   |--- P734 >  0.97\n",
      "|   |   |   |   |   |--- class: True\n",
      "|   |--- P106 >  0.50\n",
      "|   |   |--- label <= 0.95\n",
      "|   |   |   |--- label <= 0.87\n",
      "|   |   |   |   |--- P570 <= 0.28\n",
      "|   |   |   |   |   |--- class: False\n",
      "|   |   |   |   |--- P570 >  0.28\n",
      "|   |   |   |   |   |--- class: False\n",
      "|   |   |   |--- label >  0.87\n",
      "|   |   |   |   |--- P569 <= 0.90\n",
      "|   |   |   |   |   |--- class: True\n",
      "|   |   |   |   |--- P569 >  0.90\n",
      "|   |   |   |   |   |--- class: False\n",
      "|   |   |--- label >  0.95\n",
      "|   |   |   |--- P569 <= 0.42\n",
      "|   |   |   |   |--- P734 <= 0.92\n",
      "|   |   |   |   |   |--- class: True\n",
      "|   |   |   |   |--- P734 >  0.92\n",
      "|   |   |   |   |   |--- class: True\n",
      "|   |   |   |--- P569 >  0.42\n",
      "|   |   |   |   |--- P569 <= 0.99\n",
      "|   |   |   |   |   |--- class: False\n",
      "|   |   |   |   |--- P569 >  0.99\n",
      "|   |   |   |   |   |--- class: True\n",
      "|--- P569 >  1.00\n",
      "|   |--- label <= 0.86\n",
      "|   |   |--- class: False\n",
      "|   |--- label >  0.86\n",
      "|   |   |--- P569 <= 1.00\n",
      "|   |   |   |--- P570 <= 1.00\n",
      "|   |   |   |   |--- P106 <= 0.50\n",
      "|   |   |   |   |   |--- class: False\n",
      "|   |   |   |   |--- P106 >  0.50\n",
      "|   |   |   |   |   |--- class: True\n",
      "|   |   |   |--- P570 >  1.00\n",
      "|   |   |   |   |--- P735 <= 0.60\n",
      "|   |   |   |   |   |--- class: True\n",
      "|   |   |   |   |--- P735 >  0.60\n",
      "|   |   |   |   |   |--- class: True\n",
      "|   |   |--- P569 >  1.00\n",
      "|   |   |   |--- P569 <= 1.00\n",
      "|   |   |   |   |--- P570 <= 1.00\n",
      "|   |   |   |   |   |--- class: False\n",
      "|   |   |   |   |--- P570 >  1.00\n",
      "|   |   |   |   |   |--- class: True\n",
      "|   |   |   |--- P569 >  1.00\n",
      "|   |   |   |   |--- label <= 0.95\n",
      "|   |   |   |   |   |--- class: True\n",
      "|   |   |   |   |--- label >  0.95\n",
      "|   |   |   |   |   |--- class: True\n",
      "\n"
     ]
    }
   ],
   "source": [
    "clf.print_tree(feature_names=pids)"
   ]
  },
  {
   "cell_type": "markdown",
   "metadata": {},
   "source": [
    "## 4. Export model & sample of predictions"
   ]
  },
  {
   "cell_type": "code",
   "execution_count": 14,
   "metadata": {},
   "outputs": [],
   "source": [
    "clf.save_classifier_to_disk(\"/Volumes/Kalyan_SSD/SMG/disambiguation/people_231020/clf.pkl\")"
   ]
  },
  {
   "cell_type": "code",
   "execution_count": 13,
   "metadata": {},
   "outputs": [],
   "source": [
    "pairs_pos_sample = pairs_new[pairs_new['y_pred'] == True].sample(30, random_state=42)\n",
    "pairs_neg_sample = pairs_new[pairs_new['y_pred'] == False].sample(30, random_state=42)\n",
    "\n",
    "pairs_sample = pd.concat([pairs_pos_sample, pairs_neg_sample], ignore_index=False)\n",
    "pairs_sample = pairs_sample.copy()\n",
    "pairs_sample['wikidata_id'] = \"https://www.wikidata.org/entity/\" + pairs_sample['wikidata_id']\n",
    "\n",
    "pairs_sample.to_excel(\"people_classifier_sample_for_review.xlsx\")"
   ]
  },
  {
   "cell_type": "code",
   "execution_count": null,
   "metadata": {},
   "outputs": [],
   "source": []
  }
 ],
 "metadata": {
  "kernelspec": {
   "display_name": "Python 3",
   "language": "python",
   "name": "python3"
  },
  "language_info": {
   "codemirror_mode": {
    "name": "ipython",
    "version": 3
   },
   "file_extension": ".py",
   "mimetype": "text/x-python",
   "name": "python",
   "nbconvert_exporter": "python",
   "pygments_lexer": "ipython3",
   "version": "3.7.4"
  }
 },
 "nbformat": 4,
 "nbformat_minor": 4
}
