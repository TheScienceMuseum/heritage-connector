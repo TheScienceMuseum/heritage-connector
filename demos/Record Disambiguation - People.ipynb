{
 "cells": [
  {
   "cell_type": "markdown",
   "metadata": {},
   "source": [
    "# Record Disambiguation\n",
    "\n",
    "In this notebook we perform entity disambiguation on records, specifically person records."
   ]
  },
  {
   "cell_type": "code",
   "execution_count": 50,
   "metadata": {},
   "outputs": [
    {
     "name": "stdout",
     "output_type": "stream",
     "text": [
      "The autoreload extension is already loaded. To reload it, use:\n",
      "  %reload_ext autoreload\n"
     ]
    }
   ],
   "source": [
    "%load_ext autoreload\n",
    "%autoreload 2\n",
    "\n",
    "import pandas as pd\n",
    "import numpy as np\n",
    "import seaborn as sns\n",
    "import matplotlib.pyplot as plt\n",
    "from IPython.display import display, Markdown\n",
    "\n",
    "from sklearn.model_selection import train_test_split\n",
    "from tqdm.auto import tqdm\n",
    "\n",
    "import sys\n",
    "sys.path.append(\"..\")\n",
    "\n",
    "from heritageconnector.disambiguation.helpers import load_training_data, plot_performance_curves, filter_top_ranked_results\n",
    "from heritageconnector.disambiguation.pipelines import Disambiguator\n",
    "from heritageconnector.utils.wikidata import get_sparql_results, url_to_qid\n",
    "from heritageconnector.utils.generic import paginate_list\n",
    "from heritageconnector.config import config\n",
    "\n",
    "pd.set_option('display.max_colwidth', None)\n",
    "pd.set_option('display.max_rows', None)"
   ]
  },
  {
   "cell_type": "markdown",
   "metadata": {},
   "source": [
    "## 1. Load data\n",
    "This data has already been generated using `Disambiguator.save_training_data_to_folder` and `Disambiguator.save_test_data_to_folder`."
   ]
  },
  {
   "cell_type": "code",
   "execution_count": 2,
   "metadata": {},
   "outputs": [],
   "source": [
    "train_dir = \"/Volumes/Kalyan_SSD/SMG/disambiguation/people_281020/train/\"\n",
    "test_dir = \"/Volumes/Kalyan_SSD/SMG/disambiguation/people_281020/test/\""
   ]
  },
  {
   "cell_type": "code",
   "execution_count": 3,
   "metadata": {},
   "outputs": [],
   "source": [
    "X, y, pairs, pids = load_training_data(train_dir)\n",
    "X_new, pairs_new, pids_new = load_training_data(test_dir)"
   ]
  },
  {
   "cell_type": "code",
   "execution_count": 4,
   "metadata": {},
   "outputs": [
    {
     "data": {
      "text/plain": [
       "(['P106', 'P569', 'P21', 'P570', 'P734', 'P735', 'label', 'P31'],\n",
       " ['P106', 'P569', 'P21', 'P570', 'P734', 'P735', 'label', 'P31'])"
      ]
     },
     "execution_count": 4,
     "metadata": {},
     "output_type": "execute_result"
    }
   ],
   "source": [
    "pids, pids_new"
   ]
  },
  {
   "cell_type": "code",
   "execution_count": 5,
   "metadata": {},
   "outputs": [
    {
     "data": {
      "text/plain": [
       "(array([ 2679.        , 26567.62505612, 36153.        , 20873.14567818,\n",
       "        38961.28005132, 38739.14005587, 50105.81000471, 40493.54009902]),\n",
       " array([  2174.        ,  27642.6309081 ,  78893.        ,  20711.03388381,\n",
       "         96322.20012947,  72159.18014151, 114198.47994336,  96696.10330041]))"
      ]
     },
     "execution_count": 5,
     "metadata": {},
     "output_type": "execute_result"
    }
   ],
   "source": [
    "X.sum(axis=0), X_new.sum(axis=0)"
   ]
  },
  {
   "cell_type": "code",
   "execution_count": 32,
   "metadata": {},
   "outputs": [
    {
     "data": {
      "text/html": [
       "<div>\n",
       "<style scoped>\n",
       "    .dataframe tbody tr th:only-of-type {\n",
       "        vertical-align: middle;\n",
       "    }\n",
       "\n",
       "    .dataframe tbody tr th {\n",
       "        vertical-align: top;\n",
       "    }\n",
       "\n",
       "    .dataframe thead th {\n",
       "        text-align: right;\n",
       "    }\n",
       "</style>\n",
       "<table border=\"1\" class=\"dataframe\">\n",
       "  <thead>\n",
       "    <tr style=\"text-align: right;\">\n",
       "      <th></th>\n",
       "      <th>internal_id</th>\n",
       "      <th>wikidata_id</th>\n",
       "      <th>is_type</th>\n",
       "    </tr>\n",
       "  </thead>\n",
       "  <tbody>\n",
       "    <tr>\n",
       "      <th>0</th>\n",
       "      <td>https://collection.sciencemuseumgroup.org.uk/people/cp21611</td>\n",
       "      <td>Q56181182</td>\n",
       "      <td>True</td>\n",
       "    </tr>\n",
       "    <tr>\n",
       "      <th>1</th>\n",
       "      <td>https://collection.sciencemuseumgroup.org.uk/people/cp21611</td>\n",
       "      <td>Q4360279</td>\n",
       "      <td>True</td>\n",
       "    </tr>\n",
       "    <tr>\n",
       "      <th>2</th>\n",
       "      <td>https://collection.sciencemuseumgroup.org.uk/people/cp21611</td>\n",
       "      <td>Q6792929</td>\n",
       "      <td>True</td>\n",
       "    </tr>\n",
       "    <tr>\n",
       "      <th>3</th>\n",
       "      <td>https://collection.sciencemuseumgroup.org.uk/people/cp21611</td>\n",
       "      <td>Q6793535</td>\n",
       "      <td>True</td>\n",
       "    </tr>\n",
       "    <tr>\n",
       "      <th>4</th>\n",
       "      <td>https://collection.sciencemuseumgroup.org.uk/people/cp21611</td>\n",
       "      <td>Q1911462</td>\n",
       "      <td>False</td>\n",
       "    </tr>\n",
       "  </tbody>\n",
       "</table>\n",
       "</div>"
      ],
      "text/plain": [
       "                                                   internal_id wikidata_id  \\\n",
       "0  https://collection.sciencemuseumgroup.org.uk/people/cp21611   Q56181182   \n",
       "1  https://collection.sciencemuseumgroup.org.uk/people/cp21611    Q4360279   \n",
       "2  https://collection.sciencemuseumgroup.org.uk/people/cp21611    Q6792929   \n",
       "3  https://collection.sciencemuseumgroup.org.uk/people/cp21611    Q6793535   \n",
       "4  https://collection.sciencemuseumgroup.org.uk/people/cp21611    Q1911462   \n",
       "\n",
       "   is_type  \n",
       "0     True  \n",
       "1     True  \n",
       "2     True  \n",
       "3     True  \n",
       "4    False  "
      ]
     },
     "execution_count": 32,
     "metadata": {},
     "output_type": "execute_result"
    }
   ],
   "source": [
    "pairs.head()"
   ]
  },
  {
   "cell_type": "markdown",
   "metadata": {},
   "source": [
    "## 2. Train classifier\n",
    "The disambiguator wraps `sklearn.tree.DecisionTreeClassifier` and takes its parameters as inputs."
   ]
  },
  {
   "cell_type": "markdown",
   "metadata": {},
   "source": [
    "### 2a. Test classifier performance\n",
    "We'll perform a train/test split on the labelled data to quickly test the classifier's performance using its `score` method. \n",
    "\n",
    "The `score` method here returns [balanced accuracy](https://scikit-learn.org/stable/modules/generated/sklearn.metrics.balanced_accuracy_score.html): accuracy weighted so that each class is considered evenly."
   ]
  },
  {
   "cell_type": "code",
   "execution_count": 33,
   "metadata": {},
   "outputs": [],
   "source": [
    "X_train, X_test, y_train, y_test = train_test_split(X, y, random_state=42, test_size=0.1)"
   ]
  },
  {
   "cell_type": "code",
   "execution_count": 34,
   "metadata": {},
   "outputs": [
    {
     "name": "stdout",
     "output_type": "stream",
     "text": [
      "0.5 --- \n",
      "balanced accuracy score: 0.9794740146913499\n",
      "precision score: 0.9054054054054054\n",
      "recall score: 0.9640287769784173\n",
      "0.6 --- \n",
      "balanced accuracy score: 0.9794740146913499\n",
      "precision score: 0.9054054054054054\n",
      "recall score: 0.9640287769784173\n",
      "0.7 --- \n",
      "balanced accuracy score: 0.9794740146913499\n",
      "precision score: 0.9054054054054054\n",
      "recall score: 0.9640287769784173\n",
      "0.8 --- \n",
      "balanced accuracy score: 0.9794740146913499\n",
      "precision score: 0.9054054054054054\n",
      "recall score: 0.9640287769784173\n",
      "0.9 --- \n",
      "balanced accuracy score: 0.9796554699626254\n",
      "precision score: 0.9115646258503401\n",
      "recall score: 0.9640287769784173\n"
     ]
    }
   ],
   "source": [
    "clf = Disambiguator('PERSON').fit(X_train, y_train)\n",
    "for threshold in [0.5, 0.6, 0.7, 0.8, 0.9]:\n",
    "    print(str(threshold) + \" --- \\n\" + clf.score(X_test, y_test, threshold))"
   ]
  },
  {
   "cell_type": "markdown",
   "metadata": {},
   "source": [
    "### 2b. Use classifier to predict new Wikidata links"
   ]
  },
  {
   "cell_type": "code",
   "execution_count": 35,
   "metadata": {},
   "outputs": [
    {
     "name": "stdout",
     "output_type": "stream",
     "text": [
      "2431 potential new links found\n"
     ]
    }
   ],
   "source": [
    "clf = Disambiguator('PERSON').fit(X, y)\n",
    "y_pred = clf.predict(X_new, threshold=0.9)\n",
    "y_pred_proba = clf.predict_proba(X_new)\n",
    "\n",
    "print(f\"{np.unique(y_pred, return_counts=True)[1][1]} potential new links found\")"
   ]
  },
  {
   "cell_type": "code",
   "execution_count": 36,
   "metadata": {},
   "outputs": [],
   "source": [
    "pairs_new[\"y_pred\"] = y_pred\n",
    "pairs_new[\"y_pred_proba\"] = y_pred_proba\n"
   ]
  },
  {
   "cell_type": "code",
   "execution_count": 37,
   "metadata": {},
   "outputs": [
    {
     "data": {
      "text/markdown": [
       "The graph below shows the distribution of the number of predicted matches per SMG ID. Around 75% have a unique match, and most of the remainder have two matches."
      ],
      "text/plain": [
       "<IPython.core.display.Markdown object>"
      ]
     },
     "metadata": {},
     "output_type": "display_data"
    },
    {
     "data": {
      "image/png": "[encoded data removed]",
      "text/plain": [
       "<Figure size 432x288 with 1 Axes>"
      ]
     },
     "metadata": {
      "needs_background": "light"
     },
     "output_type": "display_data"
    }
   ],
   "source": [
    "display(Markdown(\"The graph below shows the distribution of the number of predicted matches per SMG ID. Around 75% have a unique match, and most of the remainder have two matches.\"))\n",
    "sns.distplot(pairs_new.loc[pairs_new[\"y_pred\"] == True, \"internal_id\"].value_counts(), kde=False, norm_hist=True).set_ylabel('proportion')\n",
    "plt.gca().set_title('Count of Number of SMG IDs per True Prediction');"
   ]
  },
  {
   "cell_type": "markdown",
   "metadata": {},
   "source": [
    "## 2c. Returning top-ranked links only\n",
    "We can filter some of the duplicate Wikidata candidates for each SMG item found above by _only returning the top-ranked positive matches_. `clf.predict_top_ranked_pairs` does this."
   ]
  },
  {
   "cell_type": "code",
   "execution_count": 38,
   "metadata": {},
   "outputs": [
    {
     "name": "stdout",
     "output_type": "stream",
     "text": [
      "No. new links: 2355\n",
      "No. SMG items with new links: 2271\n"
     ]
    },
    {
     "data": {
      "text/html": [
       "<div>\n",
       "<style scoped>\n",
       "    .dataframe tbody tr th:only-of-type {\n",
       "        vertical-align: middle;\n",
       "    }\n",
       "\n",
       "    .dataframe tbody tr th {\n",
       "        vertical-align: top;\n",
       "    }\n",
       "\n",
       "    .dataframe thead th {\n",
       "        text-align: right;\n",
       "    }\n",
       "</style>\n",
       "<table border=\"1\" class=\"dataframe\">\n",
       "  <thead>\n",
       "    <tr style=\"text-align: right;\">\n",
       "      <th></th>\n",
       "      <th>internal_id</th>\n",
       "      <th>wikidata_id</th>\n",
       "      <th>y_pred</th>\n",
       "      <th>y_pred_proba</th>\n",
       "      <th>is_type</th>\n",
       "    </tr>\n",
       "  </thead>\n",
       "  <tbody>\n",
       "    <tr>\n",
       "      <th>54</th>\n",
       "      <td>https://collection.sciencemuseumgroup.org.uk/people/cp94357</td>\n",
       "      <td>Q75421470</td>\n",
       "      <td>True</td>\n",
       "      <td>0.960995</td>\n",
       "      <td>True</td>\n",
       "    </tr>\n",
       "    <tr>\n",
       "      <th>67</th>\n",
       "      <td>https://collection.sciencemuseumgroup.org.uk/people/cp17013</td>\n",
       "      <td>Q18528681</td>\n",
       "      <td>True</td>\n",
       "      <td>0.998241</td>\n",
       "      <td>True</td>\n",
       "    </tr>\n",
       "    <tr>\n",
       "      <th>86</th>\n",
       "      <td>https://collection.sciencemuseumgroup.org.uk/people/cp16491</td>\n",
       "      <td>Q7347877</td>\n",
       "      <td>True</td>\n",
       "      <td>0.998241</td>\n",
       "      <td>True</td>\n",
       "    </tr>\n",
       "    <tr>\n",
       "      <th>124</th>\n",
       "      <td>https://collection.sciencemuseumgroup.org.uk/people/cp137207</td>\n",
       "      <td>Q29554021</td>\n",
       "      <td>True</td>\n",
       "      <td>0.983339</td>\n",
       "      <td>True</td>\n",
       "    </tr>\n",
       "    <tr>\n",
       "      <th>386</th>\n",
       "      <td>https://collection.sciencemuseumgroup.org.uk/people/cp122042</td>\n",
       "      <td>Q8015140</td>\n",
       "      <td>True</td>\n",
       "      <td>0.998241</td>\n",
       "      <td>True</td>\n",
       "    </tr>\n",
       "    <tr>\n",
       "      <th>445</th>\n",
       "      <td>https://collection.sciencemuseumgroup.org.uk/people/cp83117</td>\n",
       "      <td>Q7527197</td>\n",
       "      <td>True</td>\n",
       "      <td>0.998241</td>\n",
       "      <td>True</td>\n",
       "    </tr>\n",
       "    <tr>\n",
       "      <th>511</th>\n",
       "      <td>https://collection.sciencemuseumgroup.org.uk/people/cp121095</td>\n",
       "      <td>Q578648</td>\n",
       "      <td>True</td>\n",
       "      <td>0.983339</td>\n",
       "      <td>True</td>\n",
       "    </tr>\n",
       "    <tr>\n",
       "      <th>654</th>\n",
       "      <td>https://collection.sciencemuseumgroup.org.uk/people/cp69987</td>\n",
       "      <td>Q555993</td>\n",
       "      <td>True</td>\n",
       "      <td>0.998241</td>\n",
       "      <td>True</td>\n",
       "    </tr>\n",
       "    <tr>\n",
       "      <th>658</th>\n",
       "      <td>https://collection.sciencemuseumgroup.org.uk/people/cp50762</td>\n",
       "      <td>Q65530095</td>\n",
       "      <td>True</td>\n",
       "      <td>0.998241</td>\n",
       "      <td>True</td>\n",
       "    </tr>\n",
       "    <tr>\n",
       "      <th>692</th>\n",
       "      <td>https://collection.sciencemuseumgroup.org.uk/people/cp41079</td>\n",
       "      <td>Q1726164</td>\n",
       "      <td>True</td>\n",
       "      <td>0.998241</td>\n",
       "      <td>True</td>\n",
       "    </tr>\n",
       "    <tr>\n",
       "      <th>820</th>\n",
       "      <td>https://collection.sciencemuseumgroup.org.uk/people/cp4884</td>\n",
       "      <td>Q2426962</td>\n",
       "      <td>True</td>\n",
       "      <td>0.998241</td>\n",
       "      <td>True</td>\n",
       "    </tr>\n",
       "    <tr>\n",
       "      <th>908</th>\n",
       "      <td>https://collection.sciencemuseumgroup.org.uk/people/cp101396</td>\n",
       "      <td>Q61925477</td>\n",
       "      <td>True</td>\n",
       "      <td>0.983339</td>\n",
       "      <td>True</td>\n",
       "    </tr>\n",
       "    <tr>\n",
       "      <th>920</th>\n",
       "      <td>https://collection.sciencemuseumgroup.org.uk/people/cp125640</td>\n",
       "      <td>Q23653078</td>\n",
       "      <td>True</td>\n",
       "      <td>0.983339</td>\n",
       "      <td>True</td>\n",
       "    </tr>\n",
       "    <tr>\n",
       "      <th>925</th>\n",
       "      <td>https://collection.sciencemuseumgroup.org.uk/people/cp125640</td>\n",
       "      <td>Q25828339</td>\n",
       "      <td>True</td>\n",
       "      <td>0.983339</td>\n",
       "      <td>True</td>\n",
       "    </tr>\n",
       "    <tr>\n",
       "      <th>937</th>\n",
       "      <td>https://collection.sciencemuseumgroup.org.uk/people/cp31657</td>\n",
       "      <td>Q15994855</td>\n",
       "      <td>True</td>\n",
       "      <td>0.998241</td>\n",
       "      <td>True</td>\n",
       "    </tr>\n",
       "    <tr>\n",
       "      <th>1001</th>\n",
       "      <td>https://collection.sciencemuseumgroup.org.uk/people/cp136158</td>\n",
       "      <td>Q446325</td>\n",
       "      <td>True</td>\n",
       "      <td>0.998241</td>\n",
       "      <td>True</td>\n",
       "    </tr>\n",
       "    <tr>\n",
       "      <th>1221</th>\n",
       "      <td>https://collection.sciencemuseumgroup.org.uk/people/cp164664</td>\n",
       "      <td>Q56186990</td>\n",
       "      <td>True</td>\n",
       "      <td>0.998241</td>\n",
       "      <td>True</td>\n",
       "    </tr>\n",
       "    <tr>\n",
       "      <th>1231</th>\n",
       "      <td>https://collection.sciencemuseumgroup.org.uk/people/cp164664</td>\n",
       "      <td>Q56177447</td>\n",
       "      <td>True</td>\n",
       "      <td>0.998241</td>\n",
       "      <td>True</td>\n",
       "    </tr>\n",
       "    <tr>\n",
       "      <th>1235</th>\n",
       "      <td>https://collection.sciencemuseumgroup.org.uk/people/cp164664</td>\n",
       "      <td>Q160852</td>\n",
       "      <td>True</td>\n",
       "      <td>0.998241</td>\n",
       "      <td>True</td>\n",
       "    </tr>\n",
       "    <tr>\n",
       "      <th>1282</th>\n",
       "      <td>https://collection.sciencemuseumgroup.org.uk/people/cp89237</td>\n",
       "      <td>Q57146</td>\n",
       "      <td>True</td>\n",
       "      <td>0.998241</td>\n",
       "      <td>True</td>\n",
       "    </tr>\n",
       "  </tbody>\n",
       "</table>\n",
       "</div>"
      ],
      "text/plain": [
       "                                                       internal_id  \\\n",
       "54     https://collection.sciencemuseumgroup.org.uk/people/cp94357   \n",
       "67     https://collection.sciencemuseumgroup.org.uk/people/cp17013   \n",
       "86     https://collection.sciencemuseumgroup.org.uk/people/cp16491   \n",
       "124   https://collection.sciencemuseumgroup.org.uk/people/cp137207   \n",
       "386   https://collection.sciencemuseumgroup.org.uk/people/cp122042   \n",
       "445    https://collection.sciencemuseumgroup.org.uk/people/cp83117   \n",
       "511   https://collection.sciencemuseumgroup.org.uk/people/cp121095   \n",
       "654    https://collection.sciencemuseumgroup.org.uk/people/cp69987   \n",
       "658    https://collection.sciencemuseumgroup.org.uk/people/cp50762   \n",
       "692    https://collection.sciencemuseumgroup.org.uk/people/cp41079   \n",
       "820     https://collection.sciencemuseumgroup.org.uk/people/cp4884   \n",
       "908   https://collection.sciencemuseumgroup.org.uk/people/cp101396   \n",
       "920   https://collection.sciencemuseumgroup.org.uk/people/cp125640   \n",
       "925   https://collection.sciencemuseumgroup.org.uk/people/cp125640   \n",
       "937    https://collection.sciencemuseumgroup.org.uk/people/cp31657   \n",
       "1001  https://collection.sciencemuseumgroup.org.uk/people/cp136158   \n",
       "1221  https://collection.sciencemuseumgroup.org.uk/people/cp164664   \n",
       "1231  https://collection.sciencemuseumgroup.org.uk/people/cp164664   \n",
       "1235  https://collection.sciencemuseumgroup.org.uk/people/cp164664   \n",
       "1282   https://collection.sciencemuseumgroup.org.uk/people/cp89237   \n",
       "\n",
       "     wikidata_id  y_pred  y_pred_proba  is_type  \n",
       "54     Q75421470    True      0.960995     True  \n",
       "67     Q18528681    True      0.998241     True  \n",
       "86      Q7347877    True      0.998241     True  \n",
       "124    Q29554021    True      0.983339     True  \n",
       "386     Q8015140    True      0.998241     True  \n",
       "445     Q7527197    True      0.998241     True  \n",
       "511      Q578648    True      0.983339     True  \n",
       "654      Q555993    True      0.998241     True  \n",
       "658    Q65530095    True      0.998241     True  \n",
       "692     Q1726164    True      0.998241     True  \n",
       "820     Q2426962    True      0.998241     True  \n",
       "908    Q61925477    True      0.983339     True  \n",
       "920    Q23653078    True      0.983339     True  \n",
       "925    Q25828339    True      0.983339     True  \n",
       "937    Q15994855    True      0.998241     True  \n",
       "1001     Q446325    True      0.998241     True  \n",
       "1221   Q56186990    True      0.998241     True  \n",
       "1231   Q56177447    True      0.998241     True  \n",
       "1235     Q160852    True      0.998241     True  \n",
       "1282      Q57146    True      0.998241     True  "
      ]
     },
     "execution_count": 38,
     "metadata": {},
     "output_type": "execute_result"
    }
   ],
   "source": [
    "pairs_true = clf.predict_top_ranked_pairs(X_new, pairs_new, threshold=0.9)\n",
    "print(f\"No. new links: {len(pairs_true)}\")\n",
    "print(f\"No. SMG items with new links: {len(pairs_true['internal_id'].unique())}\")\n",
    "pairs_true.head(20)"
   ]
  },
  {
   "cell_type": "markdown",
   "metadata": {},
   "source": [
    "## 2d. Filter matches\n",
    "\n",
    "By type, number of links"
   ]
  },
  {
   "cell_type": "code",
   "execution_count": 51,
   "metadata": {},
   "outputs": [
    {
     "name": "stdout",
     "output_type": "stream",
     "text": [
      "-- After Filtering --\n",
      "No. new links: 2345\n",
      "No. SMG items with new links: 2267\n"
     ]
    }
   ],
   "source": [
    "max_links_per_record = 4\n",
    "pairs_true_filtered = filter_top_ranked_results(pairs_true, enforce_correct_type=True, max_wikidata_links=4)\n",
    "\n",
    "print(\"-- After Filtering --\")\n",
    "print(f\"No. new links: {len(pairs_true_filtered)}\")\n",
    "print(f\"No. SMG items with new links: {len(pairs_true_filtered['internal_id'].unique())}\")\n"
   ]
  },
  {
   "cell_type": "markdown",
   "metadata": {},
   "source": [
    "## 3. Explain classifier\n",
    "We can see that the classifier prioritises P569/P570 (birth and death dates), P21 (gender), label similarity, and occupation.\n",
    "\n",
    "It's interesting to note that P31 (instance of), which tells the classifier whether the Wikidata record is a human, is not used. This is likely because P569/P570/P106/P21 are qualities which only humans can have.\n",
    "\n",
    "P31 is likely to be much more prevalent when classifying objects, and distinguishing between e.g. paintings and posters."
   ]
  },
  {
   "cell_type": "code",
   "execution_count": 27,
   "metadata": {},
   "outputs": [
    {
     "name": "stdout",
     "output_type": "stream",
     "text": [
      "|--- P569 <= 1.00\n",
      "|   |--- P106 <= 0.50\n",
      "|   |   |--- P570 <= 1.00\n",
      "|   |   |   |--- label <= 0.99\n",
      "|   |   |   |   |--- P735 <= 0.03\n",
      "|   |   |   |   |   |--- class: False\n",
      "|   |   |   |   |--- P735 >  0.03\n",
      "|   |   |   |   |   |--- class: False\n",
      "|   |   |   |--- label >  0.99\n",
      "|   |   |   |   |--- P21 <= 0.50\n",
      "|   |   |   |   |   |--- class: False\n",
      "|   |   |   |   |--- P21 >  0.50\n",
      "|   |   |   |   |   |--- class: False\n",
      "|   |   |--- P570 >  1.00\n",
      "|   |   |   |--- label <= 0.94\n",
      "|   |   |   |   |--- class: False\n",
      "|   |   |   |--- label >  0.94\n",
      "|   |   |   |   |--- P734 <= 0.97\n",
      "|   |   |   |   |   |--- class: False\n",
      "|   |   |   |   |--- P734 >  0.97\n",
      "|   |   |   |   |   |--- class: True\n",
      "|   |--- P106 >  0.50\n",
      "|   |   |--- label <= 0.95\n",
      "|   |   |   |--- label <= 0.87\n",
      "|   |   |   |   |--- P570 <= 0.28\n",
      "|   |   |   |   |   |--- class: False\n",
      "|   |   |   |   |--- P570 >  0.28\n",
      "|   |   |   |   |   |--- class: False\n",
      "|   |   |   |--- label >  0.87\n",
      "|   |   |   |   |--- P569 <= 0.90\n",
      "|   |   |   |   |   |--- class: True\n",
      "|   |   |   |   |--- P569 >  0.90\n",
      "|   |   |   |   |   |--- class: False\n",
      "|   |   |--- label >  0.95\n",
      "|   |   |   |--- P569 <= 0.42\n",
      "|   |   |   |   |--- P734 <= 0.92\n",
      "|   |   |   |   |   |--- class: True\n",
      "|   |   |   |   |--- P734 >  0.92\n",
      "|   |   |   |   |   |--- class: True\n",
      "|   |   |   |--- P569 >  0.42\n",
      "|   |   |   |   |--- P569 <= 0.99\n",
      "|   |   |   |   |   |--- class: False\n",
      "|   |   |   |   |--- P569 >  0.99\n",
      "|   |   |   |   |   |--- class: True\n",
      "|--- P569 >  1.00\n",
      "|   |--- label <= 0.86\n",
      "|   |   |--- class: False\n",
      "|   |--- label >  0.86\n",
      "|   |   |--- P569 <= 1.00\n",
      "|   |   |   |--- P570 <= 1.00\n",
      "|   |   |   |   |--- P106 <= 0.50\n",
      "|   |   |   |   |   |--- class: False\n",
      "|   |   |   |   |--- P106 >  0.50\n",
      "|   |   |   |   |   |--- class: True\n",
      "|   |   |   |--- P570 >  1.00\n",
      "|   |   |   |   |--- P735 <= 0.60\n",
      "|   |   |   |   |   |--- class: True\n",
      "|   |   |   |   |--- P735 >  0.60\n",
      "|   |   |   |   |   |--- class: True\n",
      "|   |   |--- P569 >  1.00\n",
      "|   |   |   |--- P569 <= 1.00\n",
      "|   |   |   |   |--- P570 <= 1.00\n",
      "|   |   |   |   |   |--- class: False\n",
      "|   |   |   |   |--- P570 >  1.00\n",
      "|   |   |   |   |   |--- class: True\n",
      "|   |   |   |--- P569 >  1.00\n",
      "|   |   |   |   |--- label <= 0.95\n",
      "|   |   |   |   |   |--- class: True\n",
      "|   |   |   |   |--- label >  0.95\n",
      "|   |   |   |   |   |--- class: True\n",
      "\n"
     ]
    }
   ],
   "source": [
    "clf.print_tree(feature_names=pids)"
   ]
  },
  {
   "cell_type": "markdown",
   "metadata": {},
   "source": [
    "## 4. Export model and final predictions"
   ]
  },
  {
   "cell_type": "code",
   "execution_count": 54,
   "metadata": {},
   "outputs": [],
   "source": [
    "clf.save_classifier_to_disk(\"/Volumes/Kalyan_SSD/SMG/disambiguation/people_281020/clf.pkl\")\n",
    "pairs_true_filtered.to_csv(\"/Volumes/Kalyan_SSD/SMG/disambiguation/people_281020/people_preds_positive.csv\", index=False)"
   ]
  },
  {
   "cell_type": "markdown",
   "metadata": {},
   "source": [
    "You can also use the below cell to export a sample of positive and negative samples to an Excel document for manual review"
   ]
  },
  {
   "cell_type": "raw",
   "metadata": {},
   "source": [
    "pairs_pos_sample = pairs_new[pairs_new['y_pred'] == True].sample(30, random_state=42)\n",
    "pairs_neg_sample = pairs_new[pairs_new['y_pred'] == False].sample(30, random_state=42)\n",
    "\n",
    "pairs_sample = pd.concat([pairs_pos_sample, pairs_neg_sample], ignore_index=False)\n",
    "pairs_sample = pairs_sample.copy()\n",
    "pairs_sample['wikidata_id'] = \"https://www.wikidata.org/entity/\" + pairs_sample['wikidata_id']\n",
    "\n",
    "pairs_sample.to_excel(\"people_classifier_sample_for_review.xlsx\")"
   ]
  },
  {
   "cell_type": "code",
   "execution_count": null,
   "metadata": {},
   "outputs": [],
   "source": []
  }
 ],
 "metadata": {
  "kernelspec": {
   "display_name": "Python 3",
   "language": "python",
   "name": "python3"
  },
  "language_info": {
   "codemirror_mode": {
    "name": "ipython",
    "version": 3
   },
   "file_extension": ".py",
   "mimetype": "text/x-python",
   "name": "python",
   "nbconvert_exporter": "python",
   "pygments_lexer": "ipython3",
   "version": "3.7.4"
  }
 },
 "nbformat": 4,
 "nbformat_minor": 4
}
