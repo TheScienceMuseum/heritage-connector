{
 "cells": [
  {
   "cell_type": "markdown",
   "metadata": {},
   "source": [
    "# Record Disambiguation\n",
    "\n",
    "In this notebook we perform entity disambiguation on records, specifically person records."
   ]
  },
  {
   "cell_type": "code",
   "execution_count": 1,
   "metadata": {},
   "outputs": [],
   "source": [
    "%load_ext autoreload\n",
    "%autoreload 2\n",
    "\n",
    "import pandas as pd\n",
    "import numpy as np\n",
    "import seaborn as sns\n",
    "import matplotlib.pyplot as plt\n",
    "from IPython.display import display, Markdown\n",
    "\n",
    "from sklearn.model_selection import train_test_split\n",
    "from tqdm.auto import tqdm\n",
    "\n",
    "import sys\n",
    "sys.path.append(\"..\")\n",
    "\n",
    "from heritageconnector.disambiguation.helpers import load_training_data, plot_performance_curves, filter_top_ranked_results\n",
    "from heritageconnector.disambiguation.pipelines import Disambiguator\n",
    "from heritageconnector.utils.wikidata import get_sparql_results, url_to_qid\n",
    "from heritageconnector.utils.generic import paginate_list\n",
    "from heritageconnector.config import config\n",
    "\n",
    "pd.set_option('display.max_colwidth', None)\n",
    "pd.set_option('display.max_rows', None)"
   ]
  },
  {
   "cell_type": "markdown",
   "metadata": {},
   "source": [
    "## 1. Load data\n",
    "This data has already been generated using `Disambiguator.save_training_data_to_folder` and `Disambiguator.save_test_data_to_folder`."
   ]
  },
  {
   "cell_type": "code",
   "execution_count": 2,
   "metadata": {},
   "outputs": [],
   "source": [
    "train_dir = \"/Volumes/Kalyan_SSD/SMG/disambiguation/organisations_021120/train/\"\n",
    "test_dir = \"/Volumes/Kalyan_SSD/SMG/disambiguation/organisations_021120/test/\""
   ]
  },
  {
   "cell_type": "code",
   "execution_count": 3,
   "metadata": {},
   "outputs": [],
   "source": [
    "X, y, pairs, pids = load_training_data(train_dir)\n",
    "X_new, pairs_new, pids_new = load_training_data(test_dir)"
   ]
  },
  {
   "cell_type": "code",
   "execution_count": 4,
   "metadata": {},
   "outputs": [
    {
     "data": {
      "text/plain": [
       "(['P571', 'P17', 'P576', 'label', 'P31'],\n",
       " ['P571', 'P17', 'P576', 'label', 'P31'])"
      ]
     },
     "execution_count": 4,
     "metadata": {},
     "output_type": "execute_result"
    }
   ],
   "source": [
    "pids, pids_new"
   ]
  },
  {
   "cell_type": "code",
   "execution_count": 5,
   "metadata": {},
   "outputs": [
    {
     "data": {
      "text/plain": [
       "(array([ 2065.43552665,  3650.00001308,   390.65041494, 10510.98999181,\n",
       "         1882.37945545]),\n",
       " array([ 7077.69297345, 21222.44011462,   871.75777721, 87865.52991133,\n",
       "        12582.58693225]))"
      ]
     },
     "execution_count": 5,
     "metadata": {},
     "output_type": "execute_result"
    }
   ],
   "source": [
    "X.sum(axis=0), X_new.sum(axis=0)"
   ]
  },
  {
   "cell_type": "code",
   "execution_count": 6,
   "metadata": {},
   "outputs": [
    {
     "data": {
      "text/html": [
       "<div>\n",
       "<style scoped>\n",
       "    .dataframe tbody tr th:only-of-type {\n",
       "        vertical-align: middle;\n",
       "    }\n",
       "\n",
       "    .dataframe tbody tr th {\n",
       "        vertical-align: top;\n",
       "    }\n",
       "\n",
       "    .dataframe thead th {\n",
       "        text-align: right;\n",
       "    }\n",
       "</style>\n",
       "<table border=\"1\" class=\"dataframe\">\n",
       "  <thead>\n",
       "    <tr style=\"text-align: right;\">\n",
       "      <th></th>\n",
       "      <th>internal_id</th>\n",
       "      <th>wikidata_id</th>\n",
       "      <th>is_type</th>\n",
       "    </tr>\n",
       "  </thead>\n",
       "  <tbody>\n",
       "    <tr>\n",
       "      <th>0</th>\n",
       "      <td>https://collection.sciencemuseumgroup.org.uk/people/cp160635</td>\n",
       "      <td>Q5412030</td>\n",
       "      <td>True</td>\n",
       "    </tr>\n",
       "    <tr>\n",
       "      <th>1</th>\n",
       "      <td>https://collection.sciencemuseumgroup.org.uk/people/cp160635</td>\n",
       "      <td>Q643519</td>\n",
       "      <td>True</td>\n",
       "    </tr>\n",
       "    <tr>\n",
       "      <th>2</th>\n",
       "      <td>https://collection.sciencemuseumgroup.org.uk/people/cp160635</td>\n",
       "      <td>Q8591063</td>\n",
       "      <td>True</td>\n",
       "    </tr>\n",
       "    <tr>\n",
       "      <th>3</th>\n",
       "      <td>https://collection.sciencemuseumgroup.org.uk/people/cp160635</td>\n",
       "      <td>Q60895350</td>\n",
       "      <td>True</td>\n",
       "    </tr>\n",
       "    <tr>\n",
       "      <th>4</th>\n",
       "      <td>https://collection.sciencemuseumgroup.org.uk/people/cp160635</td>\n",
       "      <td>Q1025696</td>\n",
       "      <td>True</td>\n",
       "    </tr>\n",
       "  </tbody>\n",
       "</table>\n",
       "</div>"
      ],
      "text/plain": [
       "                                                    internal_id wikidata_id  \\\n",
       "0  https://collection.sciencemuseumgroup.org.uk/people/cp160635    Q5412030   \n",
       "1  https://collection.sciencemuseumgroup.org.uk/people/cp160635     Q643519   \n",
       "2  https://collection.sciencemuseumgroup.org.uk/people/cp160635    Q8591063   \n",
       "3  https://collection.sciencemuseumgroup.org.uk/people/cp160635   Q60895350   \n",
       "4  https://collection.sciencemuseumgroup.org.uk/people/cp160635    Q1025696   \n",
       "\n",
       "   is_type  \n",
       "0     True  \n",
       "1     True  \n",
       "2     True  \n",
       "3     True  \n",
       "4     True  "
      ]
     },
     "execution_count": 6,
     "metadata": {},
     "output_type": "execute_result"
    }
   ],
   "source": [
    "pairs.head()"
   ]
  },
  {
   "cell_type": "markdown",
   "metadata": {},
   "source": [
    "## 2. Train classifier\n",
    "The disambiguator wraps `sklearn.tree.DecisionTreeClassifier` and takes its parameters as inputs."
   ]
  },
  {
   "cell_type": "markdown",
   "metadata": {},
   "source": [
    "### 2a. Test classifier performance\n",
    "We'll perform a train/test split on the labelled data to quickly test the classifier's performance using its `score` method. \n",
    "\n",
    "The `score` method here returns [balanced accuracy](https://scikit-learn.org/stable/modules/generated/sklearn.metrics.balanced_accuracy_score.html): accuracy weighted so that each class is considered evenly."
   ]
  },
  {
   "cell_type": "code",
   "execution_count": 7,
   "metadata": {},
   "outputs": [],
   "source": [
    "X_train, X_test, y_train, y_test = train_test_split(X, y, random_state=42, test_size=0.1)"
   ]
  },
  {
   "cell_type": "code",
   "execution_count": 8,
   "metadata": {},
   "outputs": [
    {
     "name": "stdout",
     "output_type": "stream",
     "text": [
      "0.5 --- \n",
      "balanced accuracy score: 0.8973468811741463\n",
      "precision score: 0.3795620437956204\n",
      "recall score: 0.8666666666666667\n",
      "0.6 --- \n",
      "balanced accuracy score: 0.8973468811741463\n",
      "precision score: 0.3795620437956204\n",
      "recall score: 0.8666666666666667\n",
      "0.7 --- \n",
      "balanced accuracy score: 0.8998871013265595\n",
      "precision score: 0.3969465648854962\n",
      "recall score: 0.8666666666666667\n",
      "0.8 --- \n",
      "balanced accuracy score: 0.8953640982218458\n",
      "precision score: 0.4214876033057851\n",
      "recall score: 0.85\n",
      "0.9 --- \n",
      "balanced accuracy score: 0.8580651989839119\n",
      "precision score: 0.5294117647058824\n",
      "recall score: 0.75\n",
      "0.95 --- \n",
      "balanced accuracy score: 0.6899731865650579\n",
      "precision score: 0.8518518518518519\n",
      "recall score: 0.38333333333333336\n"
     ]
    }
   ],
   "source": [
    "clf = Disambiguator('ORGANISATION', max_depth=6).fit(X_train, y_train)\n",
    "for threshold in [0.5, 0.6, 0.7, 0.8, 0.9, 0.95]:\n",
    "    print(str(threshold) + \" --- \\n\" + clf.score(X_test, y_test, threshold))"
   ]
  },
  {
   "cell_type": "markdown",
   "metadata": {},
   "source": [
    "### 2b. Use classifier to predict new Wikidata links"
   ]
  },
  {
   "cell_type": "code",
   "execution_count": 9,
   "metadata": {},
   "outputs": [
    {
     "name": "stdout",
     "output_type": "stream",
     "text": [
      "1227 potential new links found\n"
     ]
    }
   ],
   "source": [
    "clf = Disambiguator('ORGANISATION', max_depth=6).fit(X, y)\n",
    "y_pred = clf.predict(X_new, threshold=0.95)\n",
    "y_pred_proba = clf.predict_proba(X_new)\n",
    "\n",
    "print(f\"{np.unique(y_pred, return_counts=True)[1][1]} potential new links found\")"
   ]
  },
  {
   "cell_type": "code",
   "execution_count": 10,
   "metadata": {},
   "outputs": [],
   "source": [
    "pairs_new[\"y_pred\"] = y_pred\n",
    "pairs_new[\"y_pred_proba\"] = y_pred_proba"
   ]
  },
  {
   "cell_type": "code",
   "execution_count": 11,
   "metadata": {},
   "outputs": [
    {
     "data": {
      "text/markdown": [
       "The graph below shows the distribution of the number of predicted matches per SMG ID. Around 75% have a unique match, and most of the remainder have two matches."
      ],
      "text/plain": [
       "<IPython.core.display.Markdown object>"
      ]
     },
     "metadata": {},
     "output_type": "display_data"
    },
    {
     "data": {
      "image/png": "[encoded data removed]",
      "text/plain": [
       "<Figure size 432x288 with 1 Axes>"
      ]
     },
     "metadata": {
      "needs_background": "light"
     },
     "output_type": "display_data"
    }
   ],
   "source": [
    "display(Markdown(\"The graph below shows the distribution of the number of predicted matches per SMG ID. Around 75% have a unique match, and most of the remainder have two matches.\"))\n",
    "sns.distplot(pairs_new.loc[pairs_new[\"y_pred\"] == True, \"internal_id\"].value_counts(), kde=False, norm_hist=True).set_ylabel('proportion')\n",
    "plt.gca().set_title('Count of Number of SMG IDs per True Prediction');"
   ]
  },
  {
   "cell_type": "markdown",
   "metadata": {},
   "source": [
    "## 2c. Returning top-ranked links only\n",
    "We can filter some of the duplicate Wikidata candidates for each SMG item found above by _only returning the top-ranked positive matches_. `clf.predict_top_ranked_pairs` does this."
   ]
  },
  {
   "cell_type": "code",
   "execution_count": 12,
   "metadata": {},
   "outputs": [
    {
     "name": "stdout",
     "output_type": "stream",
     "text": [
      "No. new links: 1143\n",
      "No. SMG items with new links: 984\n"
     ]
    },
    {
     "data": {
      "text/html": [
       "<div>\n",
       "<style scoped>\n",
       "    .dataframe tbody tr th:only-of-type {\n",
       "        vertical-align: middle;\n",
       "    }\n",
       "\n",
       "    .dataframe tbody tr th {\n",
       "        vertical-align: top;\n",
       "    }\n",
       "\n",
       "    .dataframe thead th {\n",
       "        text-align: right;\n",
       "    }\n",
       "</style>\n",
       "<table border=\"1\" class=\"dataframe\">\n",
       "  <thead>\n",
       "    <tr style=\"text-align: right;\">\n",
       "      <th></th>\n",
       "      <th>internal_id</th>\n",
       "      <th>wikidata_id</th>\n",
       "      <th>is_type</th>\n",
       "      <th>y_pred</th>\n",
       "      <th>y_pred_proba</th>\n",
       "    </tr>\n",
       "  </thead>\n",
       "  <tbody>\n",
       "    <tr>\n",
       "      <th>243</th>\n",
       "      <td>https://collection.sciencemuseumgroup.org.uk/people/cp67907</td>\n",
       "      <td>Q22268903</td>\n",
       "      <td>True</td>\n",
       "      <td>True</td>\n",
       "      <td>0.950553</td>\n",
       "    </tr>\n",
       "    <tr>\n",
       "      <th>279</th>\n",
       "      <td>https://collection.sciencemuseumgroup.org.uk/people/cp63077</td>\n",
       "      <td>Q46974</td>\n",
       "      <td>True</td>\n",
       "      <td>True</td>\n",
       "      <td>0.997054</td>\n",
       "    </tr>\n",
       "    <tr>\n",
       "      <th>861</th>\n",
       "      <td>https://collection.sciencemuseumgroup.org.uk/people/cp1208</td>\n",
       "      <td>Q27724422</td>\n",
       "      <td>True</td>\n",
       "      <td>True</td>\n",
       "      <td>0.950553</td>\n",
       "    </tr>\n",
       "    <tr>\n",
       "      <th>875</th>\n",
       "      <td>https://collection.sciencemuseumgroup.org.uk/people/cp92812</td>\n",
       "      <td>Q1419438</td>\n",
       "      <td>True</td>\n",
       "      <td>True</td>\n",
       "      <td>0.950553</td>\n",
       "    </tr>\n",
       "    <tr>\n",
       "      <th>967</th>\n",
       "      <td>https://collection.sciencemuseumgroup.org.uk/people/cp57931</td>\n",
       "      <td>Q2578470</td>\n",
       "      <td>True</td>\n",
       "      <td>True</td>\n",
       "      <td>0.950553</td>\n",
       "    </tr>\n",
       "    <tr>\n",
       "      <th>1088</th>\n",
       "      <td>https://collection.sciencemuseumgroup.org.uk/people/cp86959</td>\n",
       "      <td>Q5093779</td>\n",
       "      <td>True</td>\n",
       "      <td>True</td>\n",
       "      <td>0.950553</td>\n",
       "    </tr>\n",
       "    <tr>\n",
       "      <th>1226</th>\n",
       "      <td>https://collection.sciencemuseumgroup.org.uk/people/cp137175</td>\n",
       "      <td>Q1548575</td>\n",
       "      <td>True</td>\n",
       "      <td>True</td>\n",
       "      <td>0.950553</td>\n",
       "    </tr>\n",
       "    <tr>\n",
       "      <th>1255</th>\n",
       "      <td>https://collection.sciencemuseumgroup.org.uk/people/cp133059</td>\n",
       "      <td>Q88565690</td>\n",
       "      <td>True</td>\n",
       "      <td>True</td>\n",
       "      <td>0.992833</td>\n",
       "    </tr>\n",
       "    <tr>\n",
       "      <th>1350</th>\n",
       "      <td>https://collection.sciencemuseumgroup.org.uk/people/cp4558</td>\n",
       "      <td>Q1240510</td>\n",
       "      <td>True</td>\n",
       "      <td>True</td>\n",
       "      <td>0.992833</td>\n",
       "    </tr>\n",
       "    <tr>\n",
       "      <th>1361</th>\n",
       "      <td>https://collection.sciencemuseumgroup.org.uk/people/cp136764</td>\n",
       "      <td>Q908172</td>\n",
       "      <td>True</td>\n",
       "      <td>True</td>\n",
       "      <td>0.950553</td>\n",
       "    </tr>\n",
       "    <tr>\n",
       "      <th>1429</th>\n",
       "      <td>https://collection.sciencemuseumgroup.org.uk/people/cp99068</td>\n",
       "      <td>Q863304</td>\n",
       "      <td>True</td>\n",
       "      <td>True</td>\n",
       "      <td>0.950553</td>\n",
       "    </tr>\n",
       "    <tr>\n",
       "      <th>1499</th>\n",
       "      <td>https://collection.sciencemuseumgroup.org.uk/people/cp124453</td>\n",
       "      <td>Q872879</td>\n",
       "      <td>True</td>\n",
       "      <td>True</td>\n",
       "      <td>0.952838</td>\n",
       "    </tr>\n",
       "    <tr>\n",
       "      <th>1524</th>\n",
       "      <td>https://collection.sciencemuseumgroup.org.uk/people/cp18017</td>\n",
       "      <td>Q1676408</td>\n",
       "      <td>True</td>\n",
       "      <td>True</td>\n",
       "      <td>0.950553</td>\n",
       "    </tr>\n",
       "    <tr>\n",
       "      <th>1585</th>\n",
       "      <td>https://collection.sciencemuseumgroup.org.uk/people/cp6250</td>\n",
       "      <td>Q5955751</td>\n",
       "      <td>True</td>\n",
       "      <td>True</td>\n",
       "      <td>0.997054</td>\n",
       "    </tr>\n",
       "    <tr>\n",
       "      <th>1615</th>\n",
       "      <td>https://collection.sciencemuseumgroup.org.uk/people/cp91828</td>\n",
       "      <td>Q5737913</td>\n",
       "      <td>True</td>\n",
       "      <td>True</td>\n",
       "      <td>0.997054</td>\n",
       "    </tr>\n",
       "    <tr>\n",
       "      <th>1709</th>\n",
       "      <td>https://collection.sciencemuseumgroup.org.uk/people/cp135410</td>\n",
       "      <td>Q7595036</td>\n",
       "      <td>True</td>\n",
       "      <td>True</td>\n",
       "      <td>0.950553</td>\n",
       "    </tr>\n",
       "    <tr>\n",
       "      <th>1863</th>\n",
       "      <td>https://collection.sciencemuseumgroup.org.uk/people/cp136034</td>\n",
       "      <td>Q764701</td>\n",
       "      <td>True</td>\n",
       "      <td>True</td>\n",
       "      <td>0.950553</td>\n",
       "    </tr>\n",
       "    <tr>\n",
       "      <th>1905</th>\n",
       "      <td>https://collection.sciencemuseumgroup.org.uk/people/cp134568</td>\n",
       "      <td>Q827227</td>\n",
       "      <td>True</td>\n",
       "      <td>True</td>\n",
       "      <td>0.997054</td>\n",
       "    </tr>\n",
       "    <tr>\n",
       "      <th>1944</th>\n",
       "      <td>https://collection.sciencemuseumgroup.org.uk/people/cp44102</td>\n",
       "      <td>Q7570387</td>\n",
       "      <td>True</td>\n",
       "      <td>True</td>\n",
       "      <td>0.992833</td>\n",
       "    </tr>\n",
       "    <tr>\n",
       "      <th>2182</th>\n",
       "      <td>https://collection.sciencemuseumgroup.org.uk/people/cp68563</td>\n",
       "      <td>Q218438</td>\n",
       "      <td>True</td>\n",
       "      <td>True</td>\n",
       "      <td>0.989793</td>\n",
       "    </tr>\n",
       "  </tbody>\n",
       "</table>\n",
       "</div>"
      ],
      "text/plain": [
       "                                                       internal_id  \\\n",
       "243    https://collection.sciencemuseumgroup.org.uk/people/cp67907   \n",
       "279    https://collection.sciencemuseumgroup.org.uk/people/cp63077   \n",
       "861     https://collection.sciencemuseumgroup.org.uk/people/cp1208   \n",
       "875    https://collection.sciencemuseumgroup.org.uk/people/cp92812   \n",
       "967    https://collection.sciencemuseumgroup.org.uk/people/cp57931   \n",
       "1088   https://collection.sciencemuseumgroup.org.uk/people/cp86959   \n",
       "1226  https://collection.sciencemuseumgroup.org.uk/people/cp137175   \n",
       "1255  https://collection.sciencemuseumgroup.org.uk/people/cp133059   \n",
       "1350    https://collection.sciencemuseumgroup.org.uk/people/cp4558   \n",
       "1361  https://collection.sciencemuseumgroup.org.uk/people/cp136764   \n",
       "1429   https://collection.sciencemuseumgroup.org.uk/people/cp99068   \n",
       "1499  https://collection.sciencemuseumgroup.org.uk/people/cp124453   \n",
       "1524   https://collection.sciencemuseumgroup.org.uk/people/cp18017   \n",
       "1585    https://collection.sciencemuseumgroup.org.uk/people/cp6250   \n",
       "1615   https://collection.sciencemuseumgroup.org.uk/people/cp91828   \n",
       "1709  https://collection.sciencemuseumgroup.org.uk/people/cp135410   \n",
       "1863  https://collection.sciencemuseumgroup.org.uk/people/cp136034   \n",
       "1905  https://collection.sciencemuseumgroup.org.uk/people/cp134568   \n",
       "1944   https://collection.sciencemuseumgroup.org.uk/people/cp44102   \n",
       "2182   https://collection.sciencemuseumgroup.org.uk/people/cp68563   \n",
       "\n",
       "     wikidata_id  is_type  y_pred  y_pred_proba  \n",
       "243    Q22268903     True    True      0.950553  \n",
       "279       Q46974     True    True      0.997054  \n",
       "861    Q27724422     True    True      0.950553  \n",
       "875     Q1419438     True    True      0.950553  \n",
       "967     Q2578470     True    True      0.950553  \n",
       "1088    Q5093779     True    True      0.950553  \n",
       "1226    Q1548575     True    True      0.950553  \n",
       "1255   Q88565690     True    True      0.992833  \n",
       "1350    Q1240510     True    True      0.992833  \n",
       "1361     Q908172     True    True      0.950553  \n",
       "1429     Q863304     True    True      0.950553  \n",
       "1499     Q872879     True    True      0.952838  \n",
       "1524    Q1676408     True    True      0.950553  \n",
       "1585    Q5955751     True    True      0.997054  \n",
       "1615    Q5737913     True    True      0.997054  \n",
       "1709    Q7595036     True    True      0.950553  \n",
       "1863     Q764701     True    True      0.950553  \n",
       "1905     Q827227     True    True      0.997054  \n",
       "1944    Q7570387     True    True      0.992833  \n",
       "2182     Q218438     True    True      0.989793  "
      ]
     },
     "execution_count": 12,
     "metadata": {},
     "output_type": "execute_result"
    }
   ],
   "source": [
    "pairs_true = clf.predict_top_ranked_pairs(X_new, pairs_new, threshold=0.95)\n",
    "print(f\"No. new links: {len(pairs_true)}\")\n",
    "print(f\"No. SMG items with new links: {len(pairs_true['internal_id'].unique())}\")\n",
    "pairs_true.head(20)"
   ]
  },
  {
   "cell_type": "markdown",
   "metadata": {},
   "source": [
    "## 2d. Filter matches\n",
    "\n",
    "By type, number of links"
   ]
  },
  {
   "cell_type": "code",
   "execution_count": 13,
   "metadata": {},
   "outputs": [
    {
     "name": "stdout",
     "output_type": "stream",
     "text": [
      "-- After Filtering --\n",
      "No. new links: 1023\n",
      "No. SMG items with new links: 956\n"
     ]
    },
    {
     "data": {
      "text/html": [
       "<div>\n",
       "<style scoped>\n",
       "    .dataframe tbody tr th:only-of-type {\n",
       "        vertical-align: middle;\n",
       "    }\n",
       "\n",
       "    .dataframe tbody tr th {\n",
       "        vertical-align: top;\n",
       "    }\n",
       "\n",
       "    .dataframe thead th {\n",
       "        text-align: right;\n",
       "    }\n",
       "</style>\n",
       "<table border=\"1\" class=\"dataframe\">\n",
       "  <thead>\n",
       "    <tr style=\"text-align: right;\">\n",
       "      <th></th>\n",
       "      <th>internal_id</th>\n",
       "      <th>wikidata_id</th>\n",
       "      <th>is_type</th>\n",
       "      <th>y_pred</th>\n",
       "      <th>y_pred_proba</th>\n",
       "    </tr>\n",
       "  </thead>\n",
       "  <tbody>\n",
       "    <tr>\n",
       "      <th>243</th>\n",
       "      <td>https://collection.sciencemuseumgroup.org.uk/people/cp67907</td>\n",
       "      <td>Q22268903</td>\n",
       "      <td>True</td>\n",
       "      <td>True</td>\n",
       "      <td>0.950553</td>\n",
       "    </tr>\n",
       "    <tr>\n",
       "      <th>279</th>\n",
       "      <td>https://collection.sciencemuseumgroup.org.uk/people/cp63077</td>\n",
       "      <td>Q46974</td>\n",
       "      <td>True</td>\n",
       "      <td>True</td>\n",
       "      <td>0.997054</td>\n",
       "    </tr>\n",
       "    <tr>\n",
       "      <th>861</th>\n",
       "      <td>https://collection.sciencemuseumgroup.org.uk/people/cp1208</td>\n",
       "      <td>Q27724422</td>\n",
       "      <td>True</td>\n",
       "      <td>True</td>\n",
       "      <td>0.950553</td>\n",
       "    </tr>\n",
       "    <tr>\n",
       "      <th>875</th>\n",
       "      <td>https://collection.sciencemuseumgroup.org.uk/people/cp92812</td>\n",
       "      <td>Q1419438</td>\n",
       "      <td>True</td>\n",
       "      <td>True</td>\n",
       "      <td>0.950553</td>\n",
       "    </tr>\n",
       "    <tr>\n",
       "      <th>967</th>\n",
       "      <td>https://collection.sciencemuseumgroup.org.uk/people/cp57931</td>\n",
       "      <td>Q2578470</td>\n",
       "      <td>True</td>\n",
       "      <td>True</td>\n",
       "      <td>0.950553</td>\n",
       "    </tr>\n",
       "    <tr>\n",
       "      <th>1088</th>\n",
       "      <td>https://collection.sciencemuseumgroup.org.uk/people/cp86959</td>\n",
       "      <td>Q5093779</td>\n",
       "      <td>True</td>\n",
       "      <td>True</td>\n",
       "      <td>0.950553</td>\n",
       "    </tr>\n",
       "    <tr>\n",
       "      <th>1226</th>\n",
       "      <td>https://collection.sciencemuseumgroup.org.uk/people/cp137175</td>\n",
       "      <td>Q1548575</td>\n",
       "      <td>True</td>\n",
       "      <td>True</td>\n",
       "      <td>0.950553</td>\n",
       "    </tr>\n",
       "    <tr>\n",
       "      <th>1255</th>\n",
       "      <td>https://collection.sciencemuseumgroup.org.uk/people/cp133059</td>\n",
       "      <td>Q88565690</td>\n",
       "      <td>True</td>\n",
       "      <td>True</td>\n",
       "      <td>0.992833</td>\n",
       "    </tr>\n",
       "    <tr>\n",
       "      <th>1350</th>\n",
       "      <td>https://collection.sciencemuseumgroup.org.uk/people/cp4558</td>\n",
       "      <td>Q1240510</td>\n",
       "      <td>True</td>\n",
       "      <td>True</td>\n",
       "      <td>0.992833</td>\n",
       "    </tr>\n",
       "    <tr>\n",
       "      <th>1361</th>\n",
       "      <td>https://collection.sciencemuseumgroup.org.uk/people/cp136764</td>\n",
       "      <td>Q908172</td>\n",
       "      <td>True</td>\n",
       "      <td>True</td>\n",
       "      <td>0.950553</td>\n",
       "    </tr>\n",
       "  </tbody>\n",
       "</table>\n",
       "</div>"
      ],
      "text/plain": [
       "                                                       internal_id  \\\n",
       "243    https://collection.sciencemuseumgroup.org.uk/people/cp67907   \n",
       "279    https://collection.sciencemuseumgroup.org.uk/people/cp63077   \n",
       "861     https://collection.sciencemuseumgroup.org.uk/people/cp1208   \n",
       "875    https://collection.sciencemuseumgroup.org.uk/people/cp92812   \n",
       "967    https://collection.sciencemuseumgroup.org.uk/people/cp57931   \n",
       "1088   https://collection.sciencemuseumgroup.org.uk/people/cp86959   \n",
       "1226  https://collection.sciencemuseumgroup.org.uk/people/cp137175   \n",
       "1255  https://collection.sciencemuseumgroup.org.uk/people/cp133059   \n",
       "1350    https://collection.sciencemuseumgroup.org.uk/people/cp4558   \n",
       "1361  https://collection.sciencemuseumgroup.org.uk/people/cp136764   \n",
       "\n",
       "     wikidata_id  is_type  y_pred  y_pred_proba  \n",
       "243    Q22268903     True    True      0.950553  \n",
       "279       Q46974     True    True      0.997054  \n",
       "861    Q27724422     True    True      0.950553  \n",
       "875     Q1419438     True    True      0.950553  \n",
       "967     Q2578470     True    True      0.950553  \n",
       "1088    Q5093779     True    True      0.950553  \n",
       "1226    Q1548575     True    True      0.950553  \n",
       "1255   Q88565690     True    True      0.992833  \n",
       "1350    Q1240510     True    True      0.992833  \n",
       "1361     Q908172     True    True      0.950553  "
      ]
     },
     "execution_count": 13,
     "metadata": {},
     "output_type": "execute_result"
    }
   ],
   "source": [
    "max_links_per_record = 2\n",
    "pairs_true_filtered = filter_top_ranked_results(pairs_true, enforce_correct_type=True, max_wikidata_links=max_links_per_record)\n",
    "\n",
    "print(\"-- After Filtering --\")\n",
    "print(f\"No. new links: {len(pairs_true_filtered)}\")\n",
    "print(f\"No. SMG items with new links: {len(pairs_true_filtered['internal_id'].unique())}\")\n",
    "\n",
    "pairs_true_filtered.head(10)"
   ]
  },
  {
   "cell_type": "markdown",
   "metadata": {},
   "source": [
    "## 3. Explain classifier\n",
    "We can see that the classifier prioritises P569/P570 (birth and death dates), P21 (gender), label similarity, and occupation.\n",
    "\n",
    "It's interesting to note that P31 (instance of), which tells the classifier whether the Wikidata record is a human, is not used. This is likely because P569/P570/P106/P21 are qualities which only humans can have.\n",
    "\n",
    "P31 is likely to be much more prevalent when classifying objects, and distinguishing between e.g. paintings and posters."
   ]
  },
  {
   "cell_type": "code",
   "execution_count": 14,
   "metadata": {},
   "outputs": [
    {
     "name": "stdout",
     "output_type": "stream",
     "text": [
      "|--- P31 <= 0.15\n",
      "|   |--- P571 <= 1.00\n",
      "|   |   |--- label <= 0.93\n",
      "|   |   |   |--- P17 <= 0.94\n",
      "|   |   |   |   |--- class: False\n",
      "|   |   |   |--- P17 >  0.94\n",
      "|   |   |   |   |--- label <= 0.83\n",
      "|   |   |   |   |   |--- P576 <= 0.39\n",
      "|   |   |   |   |   |   |--- class: False\n",
      "|   |   |   |   |   |--- P576 >  0.39\n",
      "|   |   |   |   |   |   |--- class: False\n",
      "|   |   |   |   |--- label >  0.83\n",
      "|   |   |   |   |   |--- label <= 0.84\n",
      "|   |   |   |   |   |   |--- class: False\n",
      "|   |   |   |   |   |--- label >  0.84\n",
      "|   |   |   |   |   |   |--- class: False\n",
      "|   |   |--- label >  0.93\n",
      "|   |   |   |--- P17 <= 0.62\n",
      "|   |   |   |   |--- P571 <= 1.00\n",
      "|   |   |   |   |   |--- label <= 0.99\n",
      "|   |   |   |   |   |   |--- class: False\n",
      "|   |   |   |   |   |--- label >  0.99\n",
      "|   |   |   |   |   |   |--- class: False\n",
      "|   |   |   |   |--- P571 >  1.00\n",
      "|   |   |   |   |   |--- P17 <= 0.23\n",
      "|   |   |   |   |   |   |--- class: False\n",
      "|   |   |   |   |   |--- P17 >  0.23\n",
      "|   |   |   |   |   |   |--- class: True\n",
      "|   |   |   |--- P17 >  0.62\n",
      "|   |   |   |   |--- label <= 1.00\n",
      "|   |   |   |   |   |--- label <= 0.94\n",
      "|   |   |   |   |   |   |--- class: True\n",
      "|   |   |   |   |   |--- label >  0.94\n",
      "|   |   |   |   |   |   |--- class: True\n",
      "|   |   |   |   |--- label >  1.00\n",
      "|   |   |   |   |   |--- P571 <= 0.98\n",
      "|   |   |   |   |   |   |--- class: False\n",
      "|   |   |   |   |   |--- P571 >  0.98\n",
      "|   |   |   |   |   |   |--- class: True\n",
      "|   |--- P571 >  1.00\n",
      "|   |   |--- label <= 0.96\n",
      "|   |   |   |--- class: False\n",
      "|   |   |--- label >  0.96\n",
      "|   |   |   |--- P571 <= 1.00\n",
      "|   |   |   |   |--- class: True\n",
      "|   |   |   |--- P571 >  1.00\n",
      "|   |   |   |   |--- P576 <= 0.99\n",
      "|   |   |   |   |   |--- P17 <= 0.60\n",
      "|   |   |   |   |   |   |--- class: True\n",
      "|   |   |   |   |   |--- P17 >  0.60\n",
      "|   |   |   |   |   |   |--- class: True\n",
      "|   |   |   |   |--- P576 >  0.99\n",
      "|   |   |   |   |   |--- class: True\n",
      "|--- P31 >  0.15\n",
      "|   |--- label <= 0.91\n",
      "|   |   |--- P571 <= 1.00\n",
      "|   |   |   |--- label <= 0.88\n",
      "|   |   |   |   |--- P17 <= 0.84\n",
      "|   |   |   |   |   |--- P576 <= 0.46\n",
      "|   |   |   |   |   |   |--- class: False\n",
      "|   |   |   |   |   |--- P576 >  0.46\n",
      "|   |   |   |   |   |   |--- class: False\n",
      "|   |   |   |   |--- P17 >  0.84\n",
      "|   |   |   |   |   |--- label <= 0.81\n",
      "|   |   |   |   |   |   |--- class: False\n",
      "|   |   |   |   |   |--- label >  0.81\n",
      "|   |   |   |   |   |   |--- class: False\n",
      "|   |   |   |--- label >  0.88\n",
      "|   |   |   |   |--- P17 <= 0.81\n",
      "|   |   |   |   |   |--- P571 <= 0.99\n",
      "|   |   |   |   |   |   |--- class: False\n",
      "|   |   |   |   |   |--- P571 >  0.99\n",
      "|   |   |   |   |   |   |--- class: True\n",
      "|   |   |   |   |--- P17 >  0.81\n",
      "|   |   |   |   |   |--- P571 <= 0.42\n",
      "|   |   |   |   |   |   |--- class: True\n",
      "|   |   |   |   |   |--- P571 >  0.42\n",
      "|   |   |   |   |   |   |--- class: False\n",
      "|   |   |--- P571 >  1.00\n",
      "|   |   |   |--- label <= 0.80\n",
      "|   |   |   |   |--- class: False\n",
      "|   |   |   |--- label >  0.80\n",
      "|   |   |   |   |--- P31 <= 0.75\n",
      "|   |   |   |   |   |--- P31 <= 0.29\n",
      "|   |   |   |   |   |   |--- class: True\n",
      "|   |   |   |   |   |--- P31 >  0.29\n",
      "|   |   |   |   |   |   |--- class: True\n",
      "|   |   |   |   |--- P31 >  0.75\n",
      "|   |   |   |   |   |--- class: True\n",
      "|   |--- label >  0.91\n",
      "|   |   |--- P571 <= 1.00\n",
      "|   |   |   |--- label <= 0.95\n",
      "|   |   |   |   |--- P17 <= 0.81\n",
      "|   |   |   |   |   |--- P17 <= 0.05\n",
      "|   |   |   |   |   |   |--- class: False\n",
      "|   |   |   |   |   |--- P17 >  0.05\n",
      "|   |   |   |   |   |   |--- class: False\n",
      "|   |   |   |   |--- P17 >  0.81\n",
      "|   |   |   |   |   |--- P31 <= 0.42\n",
      "|   |   |   |   |   |   |--- class: False\n",
      "|   |   |   |   |   |--- P31 >  0.42\n",
      "|   |   |   |   |   |   |--- class: True\n",
      "|   |   |   |--- label >  0.95\n",
      "|   |   |   |   |--- P31 <= 0.23\n",
      "|   |   |   |   |   |--- P31 <= 0.18\n",
      "|   |   |   |   |   |   |--- class: True\n",
      "|   |   |   |   |   |--- P31 >  0.18\n",
      "|   |   |   |   |   |   |--- class: False\n",
      "|   |   |   |   |--- P31 >  0.23\n",
      "|   |   |   |   |   |--- P17 <= 0.85\n",
      "|   |   |   |   |   |   |--- class: True\n",
      "|   |   |   |   |   |--- P17 >  0.85\n",
      "|   |   |   |   |   |   |--- class: True\n",
      "|   |   |--- P571 >  1.00\n",
      "|   |   |   |--- P571 <= 1.00\n",
      "|   |   |   |   |--- P17 <= 0.46\n",
      "|   |   |   |   |   |--- P576 <= 0.97\n",
      "|   |   |   |   |   |   |--- class: True\n",
      "|   |   |   |   |   |--- P576 >  0.97\n",
      "|   |   |   |   |   |   |--- class: True\n",
      "|   |   |   |   |--- P17 >  0.46\n",
      "|   |   |   |   |   |--- P576 <= 0.97\n",
      "|   |   |   |   |   |   |--- class: True\n",
      "|   |   |   |   |   |--- P576 >  0.97\n",
      "|   |   |   |   |   |   |--- class: True\n",
      "|   |   |   |--- P571 >  1.00\n",
      "|   |   |   |   |--- P17 <= 0.21\n",
      "|   |   |   |   |   |--- P17 <= 0.05\n",
      "|   |   |   |   |   |   |--- class: True\n",
      "|   |   |   |   |   |--- P17 >  0.05\n",
      "|   |   |   |   |   |   |--- class: True\n",
      "|   |   |   |   |--- P17 >  0.21\n",
      "|   |   |   |   |   |--- label <= 0.96\n",
      "|   |   |   |   |   |   |--- class: True\n",
      "|   |   |   |   |   |--- label >  0.96\n",
      "|   |   |   |   |   |   |--- class: True\n",
      "\n"
     ]
    }
   ],
   "source": [
    "clf.print_tree(feature_names=pids)"
   ]
  },
  {
   "cell_type": "markdown",
   "metadata": {},
   "source": [
    "## 4. Export model & sample of predictions"
   ]
  },
  {
   "cell_type": "code",
   "execution_count": 15,
   "metadata": {},
   "outputs": [],
   "source": [
    "clf.save_classifier_to_disk(\"/Volumes/Kalyan_SSD/SMG/disambiguation/organisations_021120/clf.pkl\")\n",
    "pairs_true_filtered.to_csv(\"/Volumes/Kalyan_SSD/SMG/disambiguation/organisations_021120/orgs_preds_positive.csv\", index=False)"
   ]
  },
  {
   "cell_type": "raw",
   "metadata": {},
   "source": [
    "pairs_pos_sample = pairs_new[pairs_new['y_pred'] == True].sample(30, random_state=42)\n",
    "pairs_neg_sample = pairs_new[pairs_new['y_pred'] == False].sample(30, random_state=42)\n",
    "\n",
    "pairs_sample = pd.concat([pairs_pos_sample, pairs_neg_sample], ignore_index=False)\n",
    "pairs_sample = pairs_sample.copy()\n",
    "pairs_sample['wikidata_id'] = \"https://www.wikidata.org/entity/\" + pairs_sample['wikidata_id']\n",
    "\n",
    "pairs_sample.to_excel(\"people_classifier_sample_for_review.xlsx\")"
   ]
  },
  {
   "cell_type": "code",
   "execution_count": null,
   "metadata": {},
   "outputs": [],
   "source": []
  }
 ],
 "metadata": {
  "kernelspec": {
   "display_name": "Python 3",
   "language": "python",
   "name": "python3"
  },
  "language_info": {
   "codemirror_mode": {
    "name": "ipython",
    "version": 3
   },
   "file_extension": ".py",
   "mimetype": "text/x-python",
   "name": "python",
   "nbconvert_exporter": "python",
   "pygments_lexer": "ipython3",
   "version": "3.7.4"
  }
 },
 "nbformat": 4,
 "nbformat_minor": 4
}
