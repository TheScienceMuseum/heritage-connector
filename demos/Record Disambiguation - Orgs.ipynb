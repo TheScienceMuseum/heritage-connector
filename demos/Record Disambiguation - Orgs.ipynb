{
 "cells": [
  {
   "cell_type": "markdown",
   "metadata": {},
   "source": [
    "# Record Disambiguation\n",
    "\n",
    "In this notebook we perform entity disambiguation on records, specifically person records."
   ]
  },
  {
   "cell_type": "code",
   "execution_count": 1,
   "metadata": {},
   "outputs": [],
   "source": [
    "%load_ext autoreload\n",
    "%autoreload 2\n",
    "\n",
    "import pandas as pd\n",
    "import numpy as np\n",
    "import seaborn as sns\n",
    "import matplotlib.pyplot as plt\n",
    "from IPython.display import display, Markdown\n",
    "\n",
    "from sklearn.model_selection import train_test_split\n",
    "from tqdm.auto import tqdm\n",
    "\n",
    "import sys\n",
    "sys.path.append(\"..\")\n",
    "\n",
    "from heritageconnector.disambiguation.helpers import load_training_data, plot_performance_curves, filter_top_ranked_results\n",
    "from heritageconnector.disambiguation.pipelines import Disambiguator\n",
    "from heritageconnector.utils.wikidata import get_sparql_results, url_to_qid\n",
    "from heritageconnector.utils.generic import paginate_list\n",
    "from heritageconnector.config import config\n",
    "\n",
    "pd.set_option('display.max_colwidth', None)\n",
    "pd.set_option('display.max_rows', None)"
   ]
  },
  {
   "cell_type": "markdown",
   "metadata": {},
   "source": [
    "## 1. Load data\n",
    "This data has already been generated using `Disambiguator.save_training_data_to_folder` and `Disambiguator.save_test_data_to_folder`."
   ]
  },
  {
   "cell_type": "code",
   "execution_count": 20,
   "metadata": {},
   "outputs": [],
   "source": [
    "train_dir = \"/Volumes/Kalyan_SSD/SMG/disambiguation/organisations_281020/train/\"\n",
    "test_dir = \"/Volumes/Kalyan_SSD/SMG/disambiguation/organisations_281020/test/\""
   ]
  },
  {
   "cell_type": "code",
   "execution_count": 21,
   "metadata": {},
   "outputs": [],
   "source": [
    "X, y, pairs, pids = load_training_data(train_dir)\n",
    "X_new, pairs_new, pids_new = load_training_data(test_dir)"
   ]
  },
  {
   "cell_type": "code",
   "execution_count": 4,
   "metadata": {},
   "outputs": [
    {
     "data": {
      "text/plain": [
       "(['P571', 'P576', 'label', 'P31'], ['P571', 'P576', 'label', 'P31'])"
      ]
     },
     "execution_count": 4,
     "metadata": {},
     "output_type": "execute_result"
    }
   ],
   "source": [
    "pids, pids_new"
   ]
  },
  {
   "cell_type": "code",
   "execution_count": 6,
   "metadata": {},
   "outputs": [
    {
     "data": {
      "text/plain": [
       "(array([ 2065.48057614,   390.65041494, 10511.09999183,  1885.55965347]),\n",
       " array([ 7076.74729307,   871.75928628, 87867.67991152, 12585.86794357]))"
      ]
     },
     "execution_count": 6,
     "metadata": {},
     "output_type": "execute_result"
    }
   ],
   "source": [
    "X.sum(axis=0), X_new.sum(axis=0)"
   ]
  },
  {
   "cell_type": "code",
   "execution_count": 22,
   "metadata": {},
   "outputs": [
    {
     "data": {
      "text/html": [
       "<div>\n",
       "<style scoped>\n",
       "    .dataframe tbody tr th:only-of-type {\n",
       "        vertical-align: middle;\n",
       "    }\n",
       "\n",
       "    .dataframe tbody tr th {\n",
       "        vertical-align: top;\n",
       "    }\n",
       "\n",
       "    .dataframe thead th {\n",
       "        text-align: right;\n",
       "    }\n",
       "</style>\n",
       "<table border=\"1\" class=\"dataframe\">\n",
       "  <thead>\n",
       "    <tr style=\"text-align: right;\">\n",
       "      <th></th>\n",
       "      <th>internal_id</th>\n",
       "      <th>wikidata_id</th>\n",
       "      <th>is_type</th>\n",
       "    </tr>\n",
       "  </thead>\n",
       "  <tbody>\n",
       "    <tr>\n",
       "      <th>0</th>\n",
       "      <td>https://collection.sciencemuseumgroup.org.uk/people/cp160635</td>\n",
       "      <td>Q54957046</td>\n",
       "      <td>True</td>\n",
       "    </tr>\n",
       "    <tr>\n",
       "      <th>1</th>\n",
       "      <td>https://collection.sciencemuseumgroup.org.uk/people/cp160635</td>\n",
       "      <td>Q4356031</td>\n",
       "      <td>False</td>\n",
       "    </tr>\n",
       "    <tr>\n",
       "      <th>2</th>\n",
       "      <td>https://collection.sciencemuseumgroup.org.uk/people/cp160635</td>\n",
       "      <td>Q1025696</td>\n",
       "      <td>False</td>\n",
       "    </tr>\n",
       "    <tr>\n",
       "      <th>3</th>\n",
       "      <td>https://collection.sciencemuseumgroup.org.uk/people/cp160635</td>\n",
       "      <td>Q92038108</td>\n",
       "      <td>False</td>\n",
       "    </tr>\n",
       "    <tr>\n",
       "      <th>4</th>\n",
       "      <td>https://collection.sciencemuseumgroup.org.uk/people/cp160635</td>\n",
       "      <td>Q54979507</td>\n",
       "      <td>True</td>\n",
       "    </tr>\n",
       "  </tbody>\n",
       "</table>\n",
       "</div>"
      ],
      "text/plain": [
       "                                                    internal_id wikidata_id  \\\n",
       "0  https://collection.sciencemuseumgroup.org.uk/people/cp160635   Q54957046   \n",
       "1  https://collection.sciencemuseumgroup.org.uk/people/cp160635    Q4356031   \n",
       "2  https://collection.sciencemuseumgroup.org.uk/people/cp160635    Q1025696   \n",
       "3  https://collection.sciencemuseumgroup.org.uk/people/cp160635   Q92038108   \n",
       "4  https://collection.sciencemuseumgroup.org.uk/people/cp160635   Q54979507   \n",
       "\n",
       "   is_type  \n",
       "0     True  \n",
       "1    False  \n",
       "2    False  \n",
       "3    False  \n",
       "4     True  "
      ]
     },
     "execution_count": 22,
     "metadata": {},
     "output_type": "execute_result"
    }
   ],
   "source": [
    "pairs.head()"
   ]
  },
  {
   "cell_type": "markdown",
   "metadata": {},
   "source": [
    "## 2. Train classifier\n",
    "The disambiguator wraps `sklearn.tree.DecisionTreeClassifier` and takes its parameters as inputs."
   ]
  },
  {
   "cell_type": "markdown",
   "metadata": {},
   "source": [
    "### 2a. Test classifier performance\n",
    "We'll perform a train/test split on the labelled data to quickly test the classifier's performance using its `score` method. \n",
    "\n",
    "The `score` method here returns [balanced accuracy](https://scikit-learn.org/stable/modules/generated/sklearn.metrics.balanced_accuracy_score.html): accuracy weighted so that each class is considered evenly."
   ]
  },
  {
   "cell_type": "code",
   "execution_count": 8,
   "metadata": {},
   "outputs": [],
   "source": [
    "X_train, X_test, y_train, y_test = train_test_split(X, y, random_state=42, test_size=0.1)"
   ]
  },
  {
   "cell_type": "code",
   "execution_count": 9,
   "metadata": {},
   "outputs": [
    {
     "name": "stdout",
     "output_type": "stream",
     "text": [
      "balanced accuracy score: 0.9236230813428548\n",
      "precision score: 0.45901639344262296\n",
      "recall score: 0.9032258064516129\n"
     ]
    }
   ],
   "source": [
    "clf = Disambiguator('ORGANISATION').fit(X_train, y_train)\n",
    "print(clf.score(X_test, y_test, threshold=0.6))"
   ]
  },
  {
   "cell_type": "markdown",
   "metadata": {},
   "source": [
    "### 2b. Use classifier to predict new Wikidata links"
   ]
  },
  {
   "cell_type": "code",
   "execution_count": 10,
   "metadata": {},
   "outputs": [
    {
     "name": "stdout",
     "output_type": "stream",
     "text": [
      "4050 potential new links found\n"
     ]
    }
   ],
   "source": [
    "clf = Disambiguator('ORGANISATION').fit(X, y)\n",
    "y_pred = clf.predict(X_new, threshold=0.6)\n",
    "y_pred_proba = clf.predict_proba(X_new)\n",
    "\n",
    "print(f\"{np.unique(y_pred, return_counts=True)[1][1]} potential new links found\")"
   ]
  },
  {
   "cell_type": "code",
   "execution_count": 13,
   "metadata": {},
   "outputs": [],
   "source": [
    "pairs_new[\"y_pred\"] = y_pred\n",
    "pairs_new[\"y_pred_proba\"] = y_pred_proba"
   ]
  },
  {
   "cell_type": "code",
   "execution_count": 14,
   "metadata": {},
   "outputs": [
    {
     "data": {
      "text/markdown": [
       "The graph below shows the distribution of the number of predicted matches per SMG ID. Around 75% have a unique match, and most of the remainder have two matches."
      ],
      "text/plain": [
       "<IPython.core.display.Markdown object>"
      ]
     },
     "metadata": {},
     "output_type": "display_data"
    },
    {
     "data": {
      "image/png": "[encoded data removed]",
      "text/plain": [
       "<Figure size 432x288 with 1 Axes>"
      ]
     },
     "metadata": {
      "needs_background": "light"
     },
     "output_type": "display_data"
    }
   ],
   "source": [
    "display(Markdown(\"The graph below shows the distribution of the number of predicted matches per SMG ID. Around 75% have a unique match, and most of the remainder have two matches.\"))\n",
    "sns.distplot(pairs_new.loc[pairs_new[\"y_pred\"] == True, \"internal_id\"].value_counts(), kde=False, norm_hist=True).set_ylabel('proportion')\n",
    "plt.gca().set_title('Count of Number of SMG IDs per True Prediction');"
   ]
  },
  {
   "cell_type": "markdown",
   "metadata": {},
   "source": [
    "## 2c. Returning top-ranked links only\n",
    "We can filter some of the duplicate Wikidata candidates for each SMG item found above by _only returning the top-ranked positive matches_. `clf.predict_top_ranked_pairs` does this."
   ]
  },
  {
   "cell_type": "code",
   "execution_count": 15,
   "metadata": {},
   "outputs": [
    {
     "name": "stdout",
     "output_type": "stream",
     "text": [
      "No. new links: 3543\n",
      "No. SMG items with new links: 2283\n"
     ]
    },
    {
     "data": {
      "text/html": [
       "<div>\n",
       "<style scoped>\n",
       "    .dataframe tbody tr th:only-of-type {\n",
       "        vertical-align: middle;\n",
       "    }\n",
       "\n",
       "    .dataframe tbody tr th {\n",
       "        vertical-align: top;\n",
       "    }\n",
       "\n",
       "    .dataframe thead th {\n",
       "        text-align: right;\n",
       "    }\n",
       "</style>\n",
       "<table border=\"1\" class=\"dataframe\">\n",
       "  <thead>\n",
       "    <tr style=\"text-align: right;\">\n",
       "      <th></th>\n",
       "      <th>internal_id</th>\n",
       "      <th>wikidata_id</th>\n",
       "      <th>is_type</th>\n",
       "      <th>y_pred</th>\n",
       "      <th>y_pred_proba</th>\n",
       "    </tr>\n",
       "  </thead>\n",
       "  <tbody>\n",
       "    <tr>\n",
       "      <th>60</th>\n",
       "      <td>https://collection.sciencemuseumgroup.org.uk/people/cp16435</td>\n",
       "      <td>Q56557888</td>\n",
       "      <td>True</td>\n",
       "      <td>True</td>\n",
       "      <td>0.910068</td>\n",
       "    </tr>\n",
       "    <tr>\n",
       "      <th>62</th>\n",
       "      <td>https://collection.sciencemuseumgroup.org.uk/people/cp16435</td>\n",
       "      <td>Q19872846</td>\n",
       "      <td>True</td>\n",
       "      <td>True</td>\n",
       "      <td>0.910068</td>\n",
       "    </tr>\n",
       "    <tr>\n",
       "      <th>63</th>\n",
       "      <td>https://collection.sciencemuseumgroup.org.uk/people/cp16435</td>\n",
       "      <td>Q5260325</td>\n",
       "      <td>True</td>\n",
       "      <td>True</td>\n",
       "      <td>0.910068</td>\n",
       "    </tr>\n",
       "    <tr>\n",
       "      <th>64</th>\n",
       "      <td>https://collection.sciencemuseumgroup.org.uk/people/cp16435</td>\n",
       "      <td>Q4294371</td>\n",
       "      <td>True</td>\n",
       "      <td>True</td>\n",
       "      <td>0.910068</td>\n",
       "    </tr>\n",
       "    <tr>\n",
       "      <th>66</th>\n",
       "      <td>https://collection.sciencemuseumgroup.org.uk/people/cp16435</td>\n",
       "      <td>Q3315315</td>\n",
       "      <td>True</td>\n",
       "      <td>True</td>\n",
       "      <td>0.910068</td>\n",
       "    </tr>\n",
       "    <tr>\n",
       "      <th>70</th>\n",
       "      <td>https://collection.sciencemuseumgroup.org.uk/people/cp16435</td>\n",
       "      <td>Q74529046</td>\n",
       "      <td>True</td>\n",
       "      <td>True</td>\n",
       "      <td>0.910068</td>\n",
       "    </tr>\n",
       "    <tr>\n",
       "      <th>72</th>\n",
       "      <td>https://collection.sciencemuseumgroup.org.uk/people/cp16435</td>\n",
       "      <td>Q16956091</td>\n",
       "      <td>True</td>\n",
       "      <td>True</td>\n",
       "      <td>0.910068</td>\n",
       "    </tr>\n",
       "    <tr>\n",
       "      <th>73</th>\n",
       "      <td>https://collection.sciencemuseumgroup.org.uk/people/cp16435</td>\n",
       "      <td>Q1312371</td>\n",
       "      <td>True</td>\n",
       "      <td>True</td>\n",
       "      <td>0.910068</td>\n",
       "    </tr>\n",
       "    <tr>\n",
       "      <th>75</th>\n",
       "      <td>https://collection.sciencemuseumgroup.org.uk/people/cp16435</td>\n",
       "      <td>Q3044742</td>\n",
       "      <td>True</td>\n",
       "      <td>True</td>\n",
       "      <td>0.910068</td>\n",
       "    </tr>\n",
       "    <tr>\n",
       "      <th>76</th>\n",
       "      <td>https://collection.sciencemuseumgroup.org.uk/people/cp16435</td>\n",
       "      <td>Q4294368</td>\n",
       "      <td>True</td>\n",
       "      <td>True</td>\n",
       "      <td>0.910068</td>\n",
       "    </tr>\n",
       "    <tr>\n",
       "      <th>77</th>\n",
       "      <td>https://collection.sciencemuseumgroup.org.uk/people/cp16435</td>\n",
       "      <td>Q12257652</td>\n",
       "      <td>True</td>\n",
       "      <td>True</td>\n",
       "      <td>0.910068</td>\n",
       "    </tr>\n",
       "    <tr>\n",
       "      <th>78</th>\n",
       "      <td>https://collection.sciencemuseumgroup.org.uk/people/cp16435</td>\n",
       "      <td>Q2303626</td>\n",
       "      <td>True</td>\n",
       "      <td>True</td>\n",
       "      <td>0.910068</td>\n",
       "    </tr>\n",
       "    <tr>\n",
       "      <th>79</th>\n",
       "      <td>https://collection.sciencemuseumgroup.org.uk/people/cp16435</td>\n",
       "      <td>Q19872844</td>\n",
       "      <td>True</td>\n",
       "      <td>True</td>\n",
       "      <td>0.910068</td>\n",
       "    </tr>\n",
       "    <tr>\n",
       "      <th>240</th>\n",
       "      <td>https://collection.sciencemuseumgroup.org.uk/people/cp67907</td>\n",
       "      <td>Q5477830</td>\n",
       "      <td>True</td>\n",
       "      <td>True</td>\n",
       "      <td>0.910068</td>\n",
       "    </tr>\n",
       "    <tr>\n",
       "      <th>243</th>\n",
       "      <td>https://collection.sciencemuseumgroup.org.uk/people/cp67907</td>\n",
       "      <td>Q5477832</td>\n",
       "      <td>True</td>\n",
       "      <td>True</td>\n",
       "      <td>0.910068</td>\n",
       "    </tr>\n",
       "    <tr>\n",
       "      <th>244</th>\n",
       "      <td>https://collection.sciencemuseumgroup.org.uk/people/cp67907</td>\n",
       "      <td>Q22268903</td>\n",
       "      <td>True</td>\n",
       "      <td>True</td>\n",
       "      <td>0.910068</td>\n",
       "    </tr>\n",
       "    <tr>\n",
       "      <th>290</th>\n",
       "      <td>https://collection.sciencemuseumgroup.org.uk/people/cp63077</td>\n",
       "      <td>Q46974</td>\n",
       "      <td>True</td>\n",
       "      <td>True</td>\n",
       "      <td>0.995691</td>\n",
       "    </tr>\n",
       "    <tr>\n",
       "      <th>456</th>\n",
       "      <td>https://collection.sciencemuseumgroup.org.uk/people/cp124541</td>\n",
       "      <td>Q10298417</td>\n",
       "      <td>True</td>\n",
       "      <td>True</td>\n",
       "      <td>0.910068</td>\n",
       "    </tr>\n",
       "    <tr>\n",
       "      <th>459</th>\n",
       "      <td>https://collection.sciencemuseumgroup.org.uk/people/cp124541</td>\n",
       "      <td>Q86684705</td>\n",
       "      <td>True</td>\n",
       "      <td>True</td>\n",
       "      <td>0.910068</td>\n",
       "    </tr>\n",
       "    <tr>\n",
       "      <th>462</th>\n",
       "      <td>https://collection.sciencemuseumgroup.org.uk/people/cp124541</td>\n",
       "      <td>Q6852052</td>\n",
       "      <td>True</td>\n",
       "      <td>True</td>\n",
       "      <td>0.910068</td>\n",
       "    </tr>\n",
       "  </tbody>\n",
       "</table>\n",
       "</div>"
      ],
      "text/plain": [
       "                                                      internal_id wikidata_id  \\\n",
       "60    https://collection.sciencemuseumgroup.org.uk/people/cp16435   Q56557888   \n",
       "62    https://collection.sciencemuseumgroup.org.uk/people/cp16435   Q19872846   \n",
       "63    https://collection.sciencemuseumgroup.org.uk/people/cp16435    Q5260325   \n",
       "64    https://collection.sciencemuseumgroup.org.uk/people/cp16435    Q4294371   \n",
       "66    https://collection.sciencemuseumgroup.org.uk/people/cp16435    Q3315315   \n",
       "70    https://collection.sciencemuseumgroup.org.uk/people/cp16435   Q74529046   \n",
       "72    https://collection.sciencemuseumgroup.org.uk/people/cp16435   Q16956091   \n",
       "73    https://collection.sciencemuseumgroup.org.uk/people/cp16435    Q1312371   \n",
       "75    https://collection.sciencemuseumgroup.org.uk/people/cp16435    Q3044742   \n",
       "76    https://collection.sciencemuseumgroup.org.uk/people/cp16435    Q4294368   \n",
       "77    https://collection.sciencemuseumgroup.org.uk/people/cp16435   Q12257652   \n",
       "78    https://collection.sciencemuseumgroup.org.uk/people/cp16435    Q2303626   \n",
       "79    https://collection.sciencemuseumgroup.org.uk/people/cp16435   Q19872844   \n",
       "240   https://collection.sciencemuseumgroup.org.uk/people/cp67907    Q5477830   \n",
       "243   https://collection.sciencemuseumgroup.org.uk/people/cp67907    Q5477832   \n",
       "244   https://collection.sciencemuseumgroup.org.uk/people/cp67907   Q22268903   \n",
       "290   https://collection.sciencemuseumgroup.org.uk/people/cp63077      Q46974   \n",
       "456  https://collection.sciencemuseumgroup.org.uk/people/cp124541   Q10298417   \n",
       "459  https://collection.sciencemuseumgroup.org.uk/people/cp124541   Q86684705   \n",
       "462  https://collection.sciencemuseumgroup.org.uk/people/cp124541    Q6852052   \n",
       "\n",
       "     is_type  y_pred  y_pred_proba  \n",
       "60      True    True      0.910068  \n",
       "62      True    True      0.910068  \n",
       "63      True    True      0.910068  \n",
       "64      True    True      0.910068  \n",
       "66      True    True      0.910068  \n",
       "70      True    True      0.910068  \n",
       "72      True    True      0.910068  \n",
       "73      True    True      0.910068  \n",
       "75      True    True      0.910068  \n",
       "76      True    True      0.910068  \n",
       "77      True    True      0.910068  \n",
       "78      True    True      0.910068  \n",
       "79      True    True      0.910068  \n",
       "240     True    True      0.910068  \n",
       "243     True    True      0.910068  \n",
       "244     True    True      0.910068  \n",
       "290     True    True      0.995691  \n",
       "456     True    True      0.910068  \n",
       "459     True    True      0.910068  \n",
       "462     True    True      0.910068  "
      ]
     },
     "execution_count": 15,
     "metadata": {},
     "output_type": "execute_result"
    }
   ],
   "source": [
    "pairs_true = clf.predict_top_ranked_pairs(X_new, pairs_new, threshold=0.8)\n",
    "print(f\"No. new links: {len(pairs_true)}\")\n",
    "print(f\"No. SMG items with new links: {len(pairs_true['internal_id'].unique())}\")\n",
    "pairs_true.head(20)"
   ]
  },
  {
   "cell_type": "markdown",
   "metadata": {},
   "source": [
    "## 2d. Filter matches\n",
    "\n",
    "By type, number of links"
   ]
  },
  {
   "cell_type": "code",
   "execution_count": 19,
   "metadata": {},
   "outputs": [
    {
     "name": "stdout",
     "output_type": "stream",
     "text": [
      "-- After Filtering --\n",
      "No. new links: 2853\n",
      "No. SMG items with new links: 2150\n"
     ]
    },
    {
     "data": {
      "text/html": [
       "<div>\n",
       "<style scoped>\n",
       "    .dataframe tbody tr th:only-of-type {\n",
       "        vertical-align: middle;\n",
       "    }\n",
       "\n",
       "    .dataframe tbody tr th {\n",
       "        vertical-align: top;\n",
       "    }\n",
       "\n",
       "    .dataframe thead th {\n",
       "        text-align: right;\n",
       "    }\n",
       "</style>\n",
       "<table border=\"1\" class=\"dataframe\">\n",
       "  <thead>\n",
       "    <tr style=\"text-align: right;\">\n",
       "      <th></th>\n",
       "      <th>internal_id</th>\n",
       "      <th>wikidata_id</th>\n",
       "      <th>is_type</th>\n",
       "      <th>y_pred</th>\n",
       "      <th>y_pred_proba</th>\n",
       "    </tr>\n",
       "  </thead>\n",
       "  <tbody>\n",
       "    <tr>\n",
       "      <th>240</th>\n",
       "      <td>https://collection.sciencemuseumgroup.org.uk/people/cp67907</td>\n",
       "      <td>Q5477830</td>\n",
       "      <td>True</td>\n",
       "      <td>True</td>\n",
       "      <td>0.910068</td>\n",
       "    </tr>\n",
       "    <tr>\n",
       "      <th>243</th>\n",
       "      <td>https://collection.sciencemuseumgroup.org.uk/people/cp67907</td>\n",
       "      <td>Q5477832</td>\n",
       "      <td>True</td>\n",
       "      <td>True</td>\n",
       "      <td>0.910068</td>\n",
       "    </tr>\n",
       "    <tr>\n",
       "      <th>244</th>\n",
       "      <td>https://collection.sciencemuseumgroup.org.uk/people/cp67907</td>\n",
       "      <td>Q22268903</td>\n",
       "      <td>True</td>\n",
       "      <td>True</td>\n",
       "      <td>0.910068</td>\n",
       "    </tr>\n",
       "    <tr>\n",
       "      <th>290</th>\n",
       "      <td>https://collection.sciencemuseumgroup.org.uk/people/cp63077</td>\n",
       "      <td>Q46974</td>\n",
       "      <td>True</td>\n",
       "      <td>True</td>\n",
       "      <td>0.995691</td>\n",
       "    </tr>\n",
       "    <tr>\n",
       "      <th>456</th>\n",
       "      <td>https://collection.sciencemuseumgroup.org.uk/people/cp124541</td>\n",
       "      <td>Q10298417</td>\n",
       "      <td>True</td>\n",
       "      <td>True</td>\n",
       "      <td>0.910068</td>\n",
       "    </tr>\n",
       "    <tr>\n",
       "      <th>459</th>\n",
       "      <td>https://collection.sciencemuseumgroup.org.uk/people/cp124541</td>\n",
       "      <td>Q86684705</td>\n",
       "      <td>True</td>\n",
       "      <td>True</td>\n",
       "      <td>0.910068</td>\n",
       "    </tr>\n",
       "    <tr>\n",
       "      <th>462</th>\n",
       "      <td>https://collection.sciencemuseumgroup.org.uk/people/cp124541</td>\n",
       "      <td>Q6852052</td>\n",
       "      <td>True</td>\n",
       "      <td>True</td>\n",
       "      <td>0.910068</td>\n",
       "    </tr>\n",
       "    <tr>\n",
       "      <th>491</th>\n",
       "      <td>https://collection.sciencemuseumgroup.org.uk/people/cp40755</td>\n",
       "      <td>Q1739094</td>\n",
       "      <td>True</td>\n",
       "      <td>True</td>\n",
       "      <td>0.910068</td>\n",
       "    </tr>\n",
       "    <tr>\n",
       "      <th>540</th>\n",
       "      <td>https://collection.sciencemuseumgroup.org.uk/people/cp53005</td>\n",
       "      <td>Q48792266</td>\n",
       "      <td>True</td>\n",
       "      <td>True</td>\n",
       "      <td>0.910068</td>\n",
       "    </tr>\n",
       "    <tr>\n",
       "      <th>578</th>\n",
       "      <td>https://collection.sciencemuseumgroup.org.uk/people/cp20304</td>\n",
       "      <td>Q30261908</td>\n",
       "      <td>True</td>\n",
       "      <td>True</td>\n",
       "      <td>0.910068</td>\n",
       "    </tr>\n",
       "  </tbody>\n",
       "</table>\n",
       "</div>"
      ],
      "text/plain": [
       "                                                      internal_id wikidata_id  \\\n",
       "240   https://collection.sciencemuseumgroup.org.uk/people/cp67907    Q5477830   \n",
       "243   https://collection.sciencemuseumgroup.org.uk/people/cp67907    Q5477832   \n",
       "244   https://collection.sciencemuseumgroup.org.uk/people/cp67907   Q22268903   \n",
       "290   https://collection.sciencemuseumgroup.org.uk/people/cp63077      Q46974   \n",
       "456  https://collection.sciencemuseumgroup.org.uk/people/cp124541   Q10298417   \n",
       "459  https://collection.sciencemuseumgroup.org.uk/people/cp124541   Q86684705   \n",
       "462  https://collection.sciencemuseumgroup.org.uk/people/cp124541    Q6852052   \n",
       "491   https://collection.sciencemuseumgroup.org.uk/people/cp40755    Q1739094   \n",
       "540   https://collection.sciencemuseumgroup.org.uk/people/cp53005   Q48792266   \n",
       "578   https://collection.sciencemuseumgroup.org.uk/people/cp20304   Q30261908   \n",
       "\n",
       "     is_type  y_pred  y_pred_proba  \n",
       "240     True    True      0.910068  \n",
       "243     True    True      0.910068  \n",
       "244     True    True      0.910068  \n",
       "290     True    True      0.995691  \n",
       "456     True    True      0.910068  \n",
       "459     True    True      0.910068  \n",
       "462     True    True      0.910068  \n",
       "491     True    True      0.910068  \n",
       "540     True    True      0.910068  \n",
       "578     True    True      0.910068  "
      ]
     },
     "execution_count": 19,
     "metadata": {},
     "output_type": "execute_result"
    }
   ],
   "source": [
    "max_links_per_record = 4\n",
    "pairs_true_filtered = filter_top_ranked_results(pairs_true, enforce_correct_type=True, max_wikidata_links=4)\n",
    "\n",
    "print(\"-- After Filtering --\")\n",
    "print(f\"No. new links: {len(pairs_true_filtered)}\")\n",
    "print(f\"No. SMG items with new links: {len(pairs_true_filtered['internal_id'].unique())}\")\n",
    "\n",
    "pairs_true_filtered.head(10)"
   ]
  },
  {
   "cell_type": "markdown",
   "metadata": {},
   "source": [
    "## 3. Explain classifier\n",
    "We can see that the classifier prioritises P569/P570 (birth and death dates), P21 (gender), label similarity, and occupation.\n",
    "\n",
    "It's interesting to note that P31 (instance of), which tells the classifier whether the Wikidata record is a human, is not used. This is likely because P569/P570/P106/P21 are qualities which only humans can have.\n",
    "\n",
    "P31 is likely to be much more prevalent when classifying objects, and distinguishing between e.g. paintings and posters."
   ]
  },
  {
   "cell_type": "code",
   "execution_count": 120,
   "metadata": {},
   "outputs": [
    {
     "name": "stdout",
     "output_type": "stream",
     "text": [
      "|--- class_tree <= 0.50\n",
      "|   |--- P576 <= 1.00\n",
      "|   |   |--- P31 <= 0.42\n",
      "|   |   |   |--- P571 <= 0.98\n",
      "|   |   |   |   |--- label <= 0.83\n",
      "|   |   |   |   |   |--- class: False\n",
      "|   |   |   |   |--- label >  0.83\n",
      "|   |   |   |   |   |--- class: False\n",
      "|   |   |   |--- P571 >  0.98\n",
      "|   |   |   |   |--- P571 <= 0.98\n",
      "|   |   |   |   |   |--- class: True\n",
      "|   |   |   |   |--- P571 >  0.98\n",
      "|   |   |   |   |   |--- class: False\n",
      "|   |   |--- P31 >  0.42\n",
      "|   |   |   |--- P571 <= 0.45\n",
      "|   |   |   |   |--- label <= 0.96\n",
      "|   |   |   |   |   |--- class: False\n",
      "|   |   |   |   |--- label >  0.96\n",
      "|   |   |   |   |   |--- class: True\n",
      "|   |   |   |--- P571 >  0.45\n",
      "|   |   |   |   |--- P571 <= 0.98\n",
      "|   |   |   |   |   |--- class: False\n",
      "|   |   |   |   |--- P571 >  0.98\n",
      "|   |   |   |   |   |--- class: False\n",
      "|   |--- P576 >  1.00\n",
      "|   |   |--- class: True\n",
      "|--- class_tree >  0.50\n",
      "|   |--- label <= 0.91\n",
      "|   |   |--- P571 <= 1.00\n",
      "|   |   |   |--- label <= 0.88\n",
      "|   |   |   |   |--- label <= 0.81\n",
      "|   |   |   |   |   |--- class: False\n",
      "|   |   |   |   |--- label >  0.81\n",
      "|   |   |   |   |   |--- class: False\n",
      "|   |   |   |--- label >  0.88\n",
      "|   |   |   |   |--- P31 <= 0.29\n",
      "|   |   |   |   |   |--- class: False\n",
      "|   |   |   |   |--- P31 >  0.29\n",
      "|   |   |   |   |   |--- class: False\n",
      "|   |   |--- P571 >  1.00\n",
      "|   |   |   |--- label <= 0.80\n",
      "|   |   |   |   |--- class: False\n",
      "|   |   |   |--- label >  0.80\n",
      "|   |   |   |   |--- label <= 0.86\n",
      "|   |   |   |   |   |--- class: True\n",
      "|   |   |   |   |--- label >  0.86\n",
      "|   |   |   |   |   |--- class: True\n",
      "|   |--- label >  0.91\n",
      "|   |   |--- P31 <= 0.23\n",
      "|   |   |   |--- P571 <= 1.00\n",
      "|   |   |   |   |--- P31 <= 0.10\n",
      "|   |   |   |   |   |--- class: True\n",
      "|   |   |   |   |--- P31 >  0.10\n",
      "|   |   |   |   |   |--- class: False\n",
      "|   |   |   |--- P571 >  1.00\n",
      "|   |   |   |   |--- P571 <= 1.00\n",
      "|   |   |   |   |   |--- class: True\n",
      "|   |   |   |   |--- P571 >  1.00\n",
      "|   |   |   |   |   |--- class: True\n",
      "|   |   |--- P31 >  0.23\n",
      "|   |   |   |--- P571 <= 1.00\n",
      "|   |   |   |   |--- label <= 0.95\n",
      "|   |   |   |   |   |--- class: False\n",
      "|   |   |   |   |--- label >  0.95\n",
      "|   |   |   |   |   |--- class: True\n",
      "|   |   |   |--- P571 >  1.00\n",
      "|   |   |   |   |--- P571 <= 1.00\n",
      "|   |   |   |   |   |--- class: True\n",
      "|   |   |   |   |--- P571 >  1.00\n",
      "|   |   |   |   |   |--- class: True\n",
      "\n"
     ]
    }
   ],
   "source": [
    "clf.print_tree(feature_names=pids + ['class_tree'])"
   ]
  },
  {
   "cell_type": "markdown",
   "metadata": {},
   "source": [
    "## 4. Export model & sample of predictions"
   ]
  },
  {
   "cell_type": "code",
   "execution_count": 24,
   "metadata": {},
   "outputs": [],
   "source": [
    "clf.save_classifier_to_disk(\"/Volumes/Kalyan_SSD/SMG/disambiguation/organisations_281020/clf.pkl\")\n",
    "pairs_true_filtered.to_csv(\"/Volumes/Kalyan_SSD/SMG/disambiguation/organisations_281020/orgs_preds_positive.csv\", index=False)"
   ]
  },
  {
   "cell_type": "raw",
   "metadata": {},
   "source": [
    "pairs_pos_sample = pairs_new[pairs_new['y_pred'] == True].sample(30, random_state=42)\n",
    "pairs_neg_sample = pairs_new[pairs_new['y_pred'] == False].sample(30, random_state=42)\n",
    "\n",
    "pairs_sample = pd.concat([pairs_pos_sample, pairs_neg_sample], ignore_index=False)\n",
    "pairs_sample = pairs_sample.copy()\n",
    "pairs_sample['wikidata_id'] = \"https://www.wikidata.org/entity/\" + pairs_sample['wikidata_id']\n",
    "\n",
    "pairs_sample.to_excel(\"people_classifier_sample_for_review.xlsx\")"
   ]
  },
  {
   "cell_type": "code",
   "execution_count": null,
   "metadata": {},
   "outputs": [],
   "source": []
  }
 ],
 "metadata": {
  "kernelspec": {
   "display_name": "Python 3",
   "language": "python",
   "name": "python3"
  },
  "language_info": {
   "codemirror_mode": {
    "name": "ipython",
    "version": 3
   },
   "file_extension": ".py",
   "mimetype": "text/x-python",
   "name": "python",
   "nbconvert_exporter": "python",
   "pygments_lexer": "ipython3",
   "version": "3.7.4"
  }
 },
 "nbformat": 4,
 "nbformat_minor": 4
}
