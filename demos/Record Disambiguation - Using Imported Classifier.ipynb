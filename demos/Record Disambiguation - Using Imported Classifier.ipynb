{
 "cells": [
  {
   "cell_type": "code",
   "execution_count": 23,
   "metadata": {},
   "outputs": [
    {
     "name": "stdout",
     "output_type": "stream",
     "text": [
      "The autoreload extension is already loaded. To reload it, use:\n",
      "  %reload_ext autoreload\n"
     ]
    }
   ],
   "source": [
    "%load_ext autoreload\n",
    "%autoreload 2\n",
    "\n",
    "import pandas as pd\n",
    "\n",
    "import sys\n",
    "sys.path.append(\"..\")\n",
    "\n",
    "from heritageconnector.disambiguation.helpers import load_training_data\n",
    "from heritageconnector.disambiguation.pipelines import Disambiguator\n",
    "from heritageconnector.disambiguation.postprocessing import filter_cased_wikidata_labels, remove_wikidata_items_with_min_claims, filter_max_wikidata_links\n",
    "\n",
    "pd.set_option('display.max_colwidth', None)\n",
    "pd.set_option('display.max_rows', None)"
   ]
  },
  {
   "cell_type": "markdown",
   "metadata": {},
   "source": [
    "## 1. Load data and classifier"
   ]
  },
  {
   "cell_type": "code",
   "execution_count": 27,
   "metadata": {},
   "outputs": [],
   "source": [
    "# test_dir = \"/Volumes/Kalyan_SSD/SMG/disambiguation/objects_131120/test_computing_space/\"\n",
    "# test_dir = \"/Volumes/Kalyan_SSD/SMG/disambiguation/objects_131120/test_photographic_aeronautics/\"\n",
    "test_dir = \"/Volumes/Kalyan_SSD/SMG/disambiguation/objects_131120/test_art_locomotives_and_rolling_stock/\"\n",
    "test_dir = \"/Volumes/Kalyan_SSD/SMG/disambiguation/objects_131120/test_locomotives_and_rolling_stock/\"\n",
    "\n",
    "X, pairs, pids = load_training_data(test_dir)"
   ]
  },
  {
   "cell_type": "code",
   "execution_count": 28,
   "metadata": {},
   "outputs": [
    {
     "name": "stdout",
     "output_type": "stream",
     "text": [
      "|--- label <= 0.97\n",
      "|   |--- label <= 0.80\n",
      "|   |   |--- class: False\n",
      "|   |--- label >  0.80\n",
      "|   |   |--- label <= 0.81\n",
      "|   |   |   |--- class: True\n",
      "|   |   |--- label >  0.81\n",
      "|   |   |   |--- label <= 0.81\n",
      "|   |   |   |   |--- class: False\n",
      "|   |   |   |--- label >  0.81\n",
      "|   |   |   |   |--- class: False\n",
      "|--- label >  0.97\n",
      "|   |--- P31 <= 0.13\n",
      "|   |   |--- P31 <= 0.00\n",
      "|   |   |   |--- class: True\n",
      "|   |   |--- P31 >  0.00\n",
      "|   |   |   |--- class: True\n",
      "|   |--- P31 >  0.13\n",
      "|   |   |--- P31 <= 0.75\n",
      "|   |   |   |--- class: True\n",
      "|   |   |--- P31 >  0.75\n",
      "|   |   |   |--- class: True\n",
      "\n"
     ]
    }
   ],
   "source": [
    "d = Disambiguator('OBJECT')\n",
    "d.load_classifier_from_disk(\"/Volumes/Kalyan_SSD/SMG/disambiguation/objects_131120/clf.pkl\")\n",
    "d.print_tree(feature_names=pids)"
   ]
  },
  {
   "cell_type": "markdown",
   "metadata": {},
   "source": [
    "## 2. Predict SMG-Wikidata links using classifier"
   ]
  },
  {
   "cell_type": "code",
   "execution_count": 29,
   "metadata": {},
   "outputs": [
    {
     "data": {
      "text/html": [
       "<div>\n",
       "<style scoped>\n",
       "    .dataframe tbody tr th:only-of-type {\n",
       "        vertical-align: middle;\n",
       "    }\n",
       "\n",
       "    .dataframe tbody tr th {\n",
       "        vertical-align: top;\n",
       "    }\n",
       "\n",
       "    .dataframe thead th {\n",
       "        text-align: right;\n",
       "    }\n",
       "</style>\n",
       "<table border=\"1\" class=\"dataframe\">\n",
       "  <thead>\n",
       "    <tr style=\"text-align: right;\">\n",
       "      <th></th>\n",
       "      <th>internal_id</th>\n",
       "      <th>wikidata_id</th>\n",
       "      <th>is_type</th>\n",
       "      <th>y_pred_proba</th>\n",
       "      <th>y_pred</th>\n",
       "    </tr>\n",
       "  </thead>\n",
       "  <tbody>\n",
       "    <tr>\n",
       "      <th>978</th>\n",
       "      <td>https://collection.sciencemuseumgroup.org.uk/objects/co8060525</td>\n",
       "      <td>Q785745</td>\n",
       "      <td>True</td>\n",
       "      <td>0.972222</td>\n",
       "      <td>True</td>\n",
       "    </tr>\n",
       "    <tr>\n",
       "      <th>1678</th>\n",
       "      <td>https://collection.sciencemuseumgroup.org.uk/objects/co205761</td>\n",
       "      <td>Q4231608</td>\n",
       "      <td>True</td>\n",
       "      <td>0.972222</td>\n",
       "      <td>True</td>\n",
       "    </tr>\n",
       "    <tr>\n",
       "      <th>3145</th>\n",
       "      <td>https://collection.sciencemuseumgroup.org.uk/objects/co205759</td>\n",
       "      <td>Q24294815</td>\n",
       "      <td>True</td>\n",
       "      <td>0.972222</td>\n",
       "      <td>True</td>\n",
       "    </tr>\n",
       "    <tr>\n",
       "      <th>3521</th>\n",
       "      <td>https://collection.sciencemuseumgroup.org.uk/objects/co8060526</td>\n",
       "      <td>Q26251835</td>\n",
       "      <td>True</td>\n",
       "      <td>0.972222</td>\n",
       "      <td>True</td>\n",
       "    </tr>\n",
       "    <tr>\n",
       "      <th>139</th>\n",
       "      <td>https://collection.sciencemuseumgroup.org.uk/objects/co207717</td>\n",
       "      <td>Q19842071</td>\n",
       "      <td>True</td>\n",
       "      <td>0.972222</td>\n",
       "      <td>True</td>\n",
       "    </tr>\n",
       "  </tbody>\n",
       "</table>\n",
       "</div>"
      ],
      "text/plain": [
       "                                                         internal_id  \\\n",
       "978   https://collection.sciencemuseumgroup.org.uk/objects/co8060525   \n",
       "1678   https://collection.sciencemuseumgroup.org.uk/objects/co205761   \n",
       "3145   https://collection.sciencemuseumgroup.org.uk/objects/co205759   \n",
       "3521  https://collection.sciencemuseumgroup.org.uk/objects/co8060526   \n",
       "139    https://collection.sciencemuseumgroup.org.uk/objects/co207717   \n",
       "\n",
       "     wikidata_id  is_type  y_pred_proba  y_pred  \n",
       "978      Q785745     True      0.972222    True  \n",
       "1678    Q4231608     True      0.972222    True  \n",
       "3145   Q24294815     True      0.972222    True  \n",
       "3521   Q26251835     True      0.972222    True  \n",
       "139    Q19842071     True      0.972222    True  "
      ]
     },
     "execution_count": 29,
     "metadata": {},
     "output_type": "execute_result"
    }
   ],
   "source": [
    "pairs_pred = d.get_predictions_table(X, pairs, threshold=0.9)\n",
    "pairs_pred.sort_values('y_pred_proba', ascending=False).head()"
   ]
  },
  {
   "cell_type": "markdown",
   "metadata": {},
   "source": [
    "## 3. Filter results"
   ]
  },
  {
   "cell_type": "code",
   "execution_count": 30,
   "metadata": {},
   "outputs": [
    {
     "data": {
      "text/plain": [
       "141"
      ]
     },
     "execution_count": 30,
     "metadata": {},
     "output_type": "execute_result"
    }
   ],
   "source": [
    "# first get only the positive predictions\n",
    "pairs_pred_positive = pairs_pred[pairs_pred['y_pred'] == True]\n",
    "\n",
    "len(pairs_pred_positive)"
   ]
  },
  {
   "cell_type": "code",
   "execution_count": 31,
   "metadata": {},
   "outputs": [
    {
     "name": "stdout",
     "output_type": "stream",
     "text": [
      "37 matches after filtering\n"
     ]
    }
   ],
   "source": [
    "pairs_pred_positive_filtered = filter_cased_wikidata_labels(pairs_pred_positive)\n",
    "pairs_pred_positive_filtered = remove_wikidata_items_with_min_claims(pairs_pred_positive_filtered, 1)\n",
    "pairs_pred_positive_filtered = filter_max_wikidata_links(pairs_pred_positive_filtered)\n",
    "\n",
    "print(f\"{len(pairs_pred_positive_filtered)} matches after filtering\")"
   ]
  },
  {
   "cell_type": "code",
   "execution_count": 32,
   "metadata": {},
   "outputs": [
    {
     "data": {
      "text/html": [
       "<div>\n",
       "<style scoped>\n",
       "    .dataframe tbody tr th:only-of-type {\n",
       "        vertical-align: middle;\n",
       "    }\n",
       "\n",
       "    .dataframe tbody tr th {\n",
       "        vertical-align: top;\n",
       "    }\n",
       "\n",
       "    .dataframe thead th {\n",
       "        text-align: right;\n",
       "    }\n",
       "</style>\n",
       "<table border=\"1\" class=\"dataframe\">\n",
       "  <thead>\n",
       "    <tr style=\"text-align: right;\">\n",
       "      <th></th>\n",
       "      <th>internal_id</th>\n",
       "      <th>wikidata_id</th>\n",
       "      <th>is_type</th>\n",
       "      <th>y_pred_proba</th>\n",
       "      <th>y_pred</th>\n",
       "    </tr>\n",
       "  </thead>\n",
       "  <tbody>\n",
       "    <tr>\n",
       "      <th>54</th>\n",
       "      <td>https://collection.sciencemuseumgroup.org.uk/objects/co8247941</td>\n",
       "      <td>Q735464</td>\n",
       "      <td>True</td>\n",
       "      <td>0.972222</td>\n",
       "      <td>True</td>\n",
       "    </tr>\n",
       "    <tr>\n",
       "      <th>753</th>\n",
       "      <td>https://collection.sciencemuseumgroup.org.uk/objects/co8087889</td>\n",
       "      <td>Q16240986</td>\n",
       "      <td>True</td>\n",
       "      <td>0.972222</td>\n",
       "      <td>True</td>\n",
       "    </tr>\n",
       "    <tr>\n",
       "      <th>3216</th>\n",
       "      <td>https://collection.sciencemuseumgroup.org.uk/objects/co8014638</td>\n",
       "      <td>Q27908860</td>\n",
       "      <td>True</td>\n",
       "      <td>0.972222</td>\n",
       "      <td>True</td>\n",
       "    </tr>\n",
       "    <tr>\n",
       "      <th>2705</th>\n",
       "      <td>https://collection.sciencemuseumgroup.org.uk/objects/co205948</td>\n",
       "      <td>Q96748816</td>\n",
       "      <td>True</td>\n",
       "      <td>0.972222</td>\n",
       "      <td>True</td>\n",
       "    </tr>\n",
       "    <tr>\n",
       "      <th>1649</th>\n",
       "      <td>https://collection.sciencemuseumgroup.org.uk/objects/co205736</td>\n",
       "      <td>Q23710199</td>\n",
       "      <td>True</td>\n",
       "      <td>0.972222</td>\n",
       "      <td>True</td>\n",
       "    </tr>\n",
       "    <tr>\n",
       "      <th>1245</th>\n",
       "      <td>https://collection.sciencemuseumgroup.org.uk/objects/co206601</td>\n",
       "      <td>Q1011643</td>\n",
       "      <td>True</td>\n",
       "      <td>0.972222</td>\n",
       "      <td>True</td>\n",
       "    </tr>\n",
       "    <tr>\n",
       "      <th>2499</th>\n",
       "      <td>https://collection.sciencemuseumgroup.org.uk/objects/co207720</td>\n",
       "      <td>Q2393776</td>\n",
       "      <td>True</td>\n",
       "      <td>0.972222</td>\n",
       "      <td>True</td>\n",
       "    </tr>\n",
       "    <tr>\n",
       "      <th>226</th>\n",
       "      <td>https://collection.sciencemuseumgroup.org.uk/objects/co8180085</td>\n",
       "      <td>Q2123438</td>\n",
       "      <td>True</td>\n",
       "      <td>0.972222</td>\n",
       "      <td>True</td>\n",
       "    </tr>\n",
       "    <tr>\n",
       "      <th>866</th>\n",
       "      <td>https://collection.sciencemuseumgroup.org.uk/objects/co205775</td>\n",
       "      <td>Q11288598</td>\n",
       "      <td>True</td>\n",
       "      <td>0.966258</td>\n",
       "      <td>True</td>\n",
       "    </tr>\n",
       "    <tr>\n",
       "      <th>2830</th>\n",
       "      <td>https://collection.sciencemuseumgroup.org.uk/objects/co205752</td>\n",
       "      <td>Q1126984</td>\n",
       "      <td>True</td>\n",
       "      <td>0.966258</td>\n",
       "      <td>True</td>\n",
       "    </tr>\n",
       "    <tr>\n",
       "      <th>3486</th>\n",
       "      <td>https://collection.sciencemuseumgroup.org.uk/objects/co205740</td>\n",
       "      <td>Q56240448</td>\n",
       "      <td>True</td>\n",
       "      <td>0.966258</td>\n",
       "      <td>True</td>\n",
       "    </tr>\n",
       "    <tr>\n",
       "      <th>3414</th>\n",
       "      <td>https://collection.sciencemuseumgroup.org.uk/objects/co205771</td>\n",
       "      <td>Q27943246</td>\n",
       "      <td>True</td>\n",
       "      <td>0.966258</td>\n",
       "      <td>True</td>\n",
       "    </tr>\n",
       "    <tr>\n",
       "      <th>3406</th>\n",
       "      <td>https://collection.sciencemuseumgroup.org.uk/objects/co205771</td>\n",
       "      <td>Q56240475</td>\n",
       "      <td>True</td>\n",
       "      <td>0.966258</td>\n",
       "      <td>True</td>\n",
       "    </tr>\n",
       "    <tr>\n",
       "      <th>3369</th>\n",
       "      <td>https://collection.sciencemuseumgroup.org.uk/objects/co205767</td>\n",
       "      <td>Q738131</td>\n",
       "      <td>True</td>\n",
       "      <td>0.966258</td>\n",
       "      <td>True</td>\n",
       "    </tr>\n",
       "    <tr>\n",
       "      <th>3352</th>\n",
       "      <td>https://collection.sciencemuseumgroup.org.uk/objects/co8099875</td>\n",
       "      <td>Q27943246</td>\n",
       "      <td>True</td>\n",
       "      <td>0.966258</td>\n",
       "      <td>True</td>\n",
       "    </tr>\n",
       "    <tr>\n",
       "      <th>3346</th>\n",
       "      <td>https://collection.sciencemuseumgroup.org.uk/objects/co8099875</td>\n",
       "      <td>Q56240475</td>\n",
       "      <td>True</td>\n",
       "      <td>0.966258</td>\n",
       "      <td>True</td>\n",
       "    </tr>\n",
       "    <tr>\n",
       "      <th>3259</th>\n",
       "      <td>https://collection.sciencemuseumgroup.org.uk/objects/co205758</td>\n",
       "      <td>Q56240475</td>\n",
       "      <td>True</td>\n",
       "      <td>0.966258</td>\n",
       "      <td>True</td>\n",
       "    </tr>\n",
       "    <tr>\n",
       "      <th>3246</th>\n",
       "      <td>https://collection.sciencemuseumgroup.org.uk/objects/co205758</td>\n",
       "      <td>Q56240448</td>\n",
       "      <td>True</td>\n",
       "      <td>0.966258</td>\n",
       "      <td>True</td>\n",
       "    </tr>\n",
       "    <tr>\n",
       "      <th>207</th>\n",
       "      <td>https://collection.sciencemuseumgroup.org.uk/objects/co205731</td>\n",
       "      <td>Q56240475</td>\n",
       "      <td>True</td>\n",
       "      <td>0.966258</td>\n",
       "      <td>True</td>\n",
       "    </tr>\n",
       "    <tr>\n",
       "      <th>3159</th>\n",
       "      <td>https://collection.sciencemuseumgroup.org.uk/objects/co205755</td>\n",
       "      <td>Q61453256</td>\n",
       "      <td>True</td>\n",
       "      <td>0.966258</td>\n",
       "      <td>True</td>\n",
       "    </tr>\n",
       "  </tbody>\n",
       "</table>\n",
       "</div>"
      ],
      "text/plain": [
       "                                                         internal_id  \\\n",
       "54    https://collection.sciencemuseumgroup.org.uk/objects/co8247941   \n",
       "753   https://collection.sciencemuseumgroup.org.uk/objects/co8087889   \n",
       "3216  https://collection.sciencemuseumgroup.org.uk/objects/co8014638   \n",
       "2705   https://collection.sciencemuseumgroup.org.uk/objects/co205948   \n",
       "1649   https://collection.sciencemuseumgroup.org.uk/objects/co205736   \n",
       "1245   https://collection.sciencemuseumgroup.org.uk/objects/co206601   \n",
       "2499   https://collection.sciencemuseumgroup.org.uk/objects/co207720   \n",
       "226   https://collection.sciencemuseumgroup.org.uk/objects/co8180085   \n",
       "866    https://collection.sciencemuseumgroup.org.uk/objects/co205775   \n",
       "2830   https://collection.sciencemuseumgroup.org.uk/objects/co205752   \n",
       "3486   https://collection.sciencemuseumgroup.org.uk/objects/co205740   \n",
       "3414   https://collection.sciencemuseumgroup.org.uk/objects/co205771   \n",
       "3406   https://collection.sciencemuseumgroup.org.uk/objects/co205771   \n",
       "3369   https://collection.sciencemuseumgroup.org.uk/objects/co205767   \n",
       "3352  https://collection.sciencemuseumgroup.org.uk/objects/co8099875   \n",
       "3346  https://collection.sciencemuseumgroup.org.uk/objects/co8099875   \n",
       "3259   https://collection.sciencemuseumgroup.org.uk/objects/co205758   \n",
       "3246   https://collection.sciencemuseumgroup.org.uk/objects/co205758   \n",
       "207    https://collection.sciencemuseumgroup.org.uk/objects/co205731   \n",
       "3159   https://collection.sciencemuseumgroup.org.uk/objects/co205755   \n",
       "\n",
       "     wikidata_id  is_type  y_pred_proba  y_pred  \n",
       "54       Q735464     True      0.972222    True  \n",
       "753    Q16240986     True      0.972222    True  \n",
       "3216   Q27908860     True      0.972222    True  \n",
       "2705   Q96748816     True      0.972222    True  \n",
       "1649   Q23710199     True      0.972222    True  \n",
       "1245    Q1011643     True      0.972222    True  \n",
       "2499    Q2393776     True      0.972222    True  \n",
       "226     Q2123438     True      0.972222    True  \n",
       "866    Q11288598     True      0.966258    True  \n",
       "2830    Q1126984     True      0.966258    True  \n",
       "3486   Q56240448     True      0.966258    True  \n",
       "3414   Q27943246     True      0.966258    True  \n",
       "3406   Q56240475     True      0.966258    True  \n",
       "3369     Q738131     True      0.966258    True  \n",
       "3352   Q27943246     True      0.966258    True  \n",
       "3346   Q56240475     True      0.966258    True  \n",
       "3259   Q56240475     True      0.966258    True  \n",
       "3246   Q56240448     True      0.966258    True  \n",
       "207    Q56240475     True      0.966258    True  \n",
       "3159   Q61453256     True      0.966258    True  "
      ]
     },
     "execution_count": 32,
     "metadata": {},
     "output_type": "execute_result"
    }
   ],
   "source": [
    "pairs_pred_positive_filtered.sort_values('y_pred_proba', ascending=False).head(20)"
   ]
  },
  {
   "cell_type": "markdown",
   "metadata": {},
   "source": [
    "## 4. Export results"
   ]
  },
  {
   "cell_type": "code",
   "execution_count": 33,
   "metadata": {},
   "outputs": [
    {
     "name": "stdout",
     "output_type": "stream",
     "text": [
      "/Volumes/Kalyan_SSD/SMG/disambiguation/objects_131120/test_locomotives_and_rolling_stock/preds_positive.csv\n"
     ]
    }
   ],
   "source": [
    "export_path = test_dir + \"preds_positive.csv\"\n",
    "print(export_path)"
   ]
  },
  {
   "cell_type": "code",
   "execution_count": 34,
   "metadata": {},
   "outputs": [],
   "source": [
    "pairs_pred_positive_filtered.to_csv(export_path)"
   ]
  },
  {
   "cell_type": "code",
   "execution_count": null,
   "metadata": {},
   "outputs": [],
   "source": []
  }
 ],
 "metadata": {
  "kernelspec": {
   "display_name": "Python 3",
   "language": "python",
   "name": "python3"
  },
  "language_info": {
   "codemirror_mode": {
    "name": "ipython",
    "version": 3
   },
   "file_extension": ".py",
   "mimetype": "text/x-python",
   "name": "python",
   "nbconvert_exporter": "python",
   "pygments_lexer": "ipython3",
   "version": "3.7.4"
  }
 },
 "nbformat": 4,
 "nbformat_minor": 4
}
