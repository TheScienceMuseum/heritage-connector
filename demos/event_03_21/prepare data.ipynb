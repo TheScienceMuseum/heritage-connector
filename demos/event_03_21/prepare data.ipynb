{
 "cells": [
  {
   "cell_type": "code",
   "execution_count": 1,
   "id": "funky-writer",
   "metadata": {},
   "outputs": [
    {
     "name": "stdout",
     "output_type": "stream",
     "text": [
      "2021-03-19 15:35:12,230 - heritageconnector.datastore - DEBUG - Connected to Elasticsearch cluster at https://c4241473f2f84e2ab15c5b7c81eb34a4.eu-west-1.aws.found.io:9243/\n"
     ]
    }
   ],
   "source": [
    "# %load_ext autoreload\n",
    "# %autoreload 2\n",
    "import sys\n",
    "sys.path.append(\"../..\")\n",
    "\n",
    "from heritageconnector import datastore\n",
    "from heritageconnector.config import field_mapping\n",
    "from heritageconnector.best_spacy_pipeline import load_model\n",
    "from heritageconnector.datastore import es, index\n",
    "from smg_jobs.smg_loader import preprocess_text_for_ner\n",
    "\n",
    "import numpy as np\n",
    "\n",
    "from elasticsearch import helpers, Elasticsearch\n",
    "from itertools import islice\n",
    "\n",
    "from typing import Optional, Generator, List, Tuple\n",
    "\n",
    "import pandas as pd\n",
    "pd.options.display.max_rows = None\n",
    "pd.options.display.max_colwidth = None"
   ]
  },
  {
   "cell_type": "code",
   "execution_count": 2,
   "id": "bound-lyric",
   "metadata": {},
   "outputs": [
    {
     "name": "stdout",
     "output_type": "stream",
     "text": [
      "spacy tried to use GPU but failed\n",
      "2021-03-19 15:35:16,314 - hc_nlp.pipeline - INFO - Loading thesaurus from ../../heritageconnector/../GITIGNORE_DATA/labels_all_unambiguous_types_people_orgs.jsonl\n",
      "2021-03-19 15:35:17,659 - hc_nlp.pipeline - INFO - 17016 term thesaurus imported in 1s\n"
     ]
    }
   ],
   "source": [
    "nlp = load_model(\"en_core_web_trf\")"
   ]
  },
  {
   "cell_type": "code",
   "execution_count": 3,
   "id": "excessive-incidence",
   "metadata": {},
   "outputs": [
    {
     "data": {
      "text/plain": [
       "25"
      ]
     },
     "execution_count": 3,
     "metadata": {},
     "output_type": "execute_result"
    }
   ],
   "source": [
    "category_mapping = {\n",
    "    \"Textiles\": [\n",
    "        \"Textile Industry\", \n",
    "        \"Textiles Machinery\"\n",
    "    ],\n",
    "    'Energy': [\n",
    "        'Coal Mining', \n",
    "        'Electricity Supply', \n",
    "        'Environmental Science & Technology', \n",
    "        'Gas Industry', \n",
    "        \"Heat Engines (non steam)\",\n",
    "        \"Heating, Cooling and Ventilation\",\n",
    "        \"James Watt's Garret Workshop\",\n",
    "        \"Lighting\",\n",
    "        \"Mining & Ore Dressing\",\n",
    "        \"Motive Power\",\n",
    "        \"Nuclear Physics\",\n",
    "        \"Stationary Engines\"\n",
    "    ],\n",
    "    \"Communications\": [\n",
    "        \"Cinematograph\",\n",
    "        \"Electronic Component\",\n",
    "        \"Pictorial Collection (Railway\",\n",
    "        \"Printing & Writing\",\n",
    "        \"Radio Communication\",\n",
    "        \"Sound Reproduction\",\n",
    "        \"Television\",\n",
    "    ],\n",
    "    \"General\": [\n",
    "        \"Archive Collections\",\n",
    "        \"Art\",\n",
    "        \"Local History\",\n",
    "        \"Photographs\"\n",
    "    ]\n",
    "}\n",
    "\n",
    "category_mapping_reversed = {i: k for k,v in category_mapping.items() for i in v }\n",
    "\n",
    "categories = []\n",
    "for k, v in category_mapping.items():\n",
    "    categories += v \n",
    "    \n",
    "len(categories)"
   ]
  },
  {
   "cell_type": "code",
   "execution_count": 4,
   "id": "numerical-innocent",
   "metadata": {},
   "outputs": [],
   "source": [
    "# the below class inherits from datastore.NERLoader but changes _get_doc_generator so that it only gets objects from within \n",
    "# the categories listed above\n",
    "\n",
    "class NERLoader(datastore.NERLoader):\n",
    "    def __init__(self, **kwargs):\n",
    "        super().__init__(**kwargs)\n",
    "        \n",
    "    def _get_doc_generator(\n",
    "        self,\n",
    "        index: str,\n",
    "        limit: Optional[int] = None,\n",
    "        random_sample: bool = True,\n",
    "        random_seed: int = 42,\n",
    "    ) -> Generator[List[Tuple[str, str]], None, None]:\n",
    "        \"\"\"\n",
    "        Returns a generator of document IDs and descriptions from the Elasticsearch index, batched according to\n",
    "            `self.batch_size` and limited according to `limit`. Only documents with an XSD.description value are\n",
    "            returned.\n",
    "\n",
    "        Args:\n",
    "            limit (Optional[int], optional): limit the number of documents to get and therefore load. Defaults to None.\n",
    "            random_sample (bool, optional): whether to take documents at random. Defaults to True.\n",
    "            random_seed (int, optional): random seed to use if random sampling is enabled using the `random_sample` parameter. Defaults to 42.\n",
    "\n",
    "        Returns:\n",
    "            Generator[List[Tuple[str, str]]]: generator of lists with length `self.batch_size`, where each list contains `(uri, description)` tuples.\n",
    "        \"\"\"\n",
    "\n",
    "        es_query = {\n",
    "            \"query\": {\n",
    "                \"function_score\": {\n",
    "                    \"query\": {\n",
    "                        \"bool\": {\n",
    "                            \"must\": [\n",
    "                                {\n",
    "                                    \"exists\": {\n",
    "                                        \"field\": \"data.http://www.w3.org/2001/XMLSchema#description\"\n",
    "                                    }\n",
    "                                },\n",
    "                                {\"terms\": {\"graph.@sdo:isPartOf.@value.keyword\": categories}}\n",
    "                            ]\n",
    "                        }\n",
    "                    },\n",
    "                    \"random_score\": {\"seed\": random_seed, \"field\": \"_seq_no\"},\n",
    "                }\n",
    "            }\n",
    "        }\n",
    "\n",
    "        doc_generator = helpers.scan(\n",
    "            client=es,\n",
    "            index=index,\n",
    "            query=es_query,\n",
    "            preserve_order=True,\n",
    "        )\n",
    "\n",
    "        if limit:\n",
    "            doc_generator = islice(doc_generator, limit)\n",
    "\n",
    "        doc_generator = (\n",
    "            (\n",
    "                doc[\"_id\"],\n",
    "                self.text_preprocess_func(\n",
    "                    doc[\"_source\"][\"data\"][\n",
    "                        \"http://www.w3.org/2001/XMLSchema#description\"\n",
    "                    ]\n",
    "                ),\n",
    "            )\n",
    "            for doc in doc_generator\n",
    "        )\n",
    "\n",
    "        return doc_generator\n",
    "\n"
   ]
  },
  {
   "cell_type": "code",
   "execution_count": 5,
   "id": "particular-scratch",
   "metadata": {},
   "outputs": [],
   "source": [
    "source_description_field = target_description_field = \"data.http://www.w3.org/2001/XMLSchema#description\"\n",
    "target_title_field = \"graph.@rdfs:label.@value\"\n",
    "target_alias_field = \"graph.@skos:altLabel.@value\"\n",
    "target_type_field = \"graph.@skos:hasTopConcept.@value\"\n",
    "\n",
    "record_loader = datastore.RecordLoader(\"SMG\", field_mapping)\n",
    "ner_loader = NERLoader(\n",
    "    record_loader = record_loader,\n",
    "    source_es_index = 'heritageconnector',\n",
    "    target_es_index = 'heritageconnector',\n",
    "    source_description_field = source_description_field, \n",
    "    target_title_field = target_title_field, \n",
    "    target_description_field = target_description_field, \n",
    "    target_type_field = target_type_field,\n",
    "    target_alias_field = target_alias_field,\n",
    "    entity_types_to_link={\"PERSON\", \"OBJECT\", \"ORG\"},\n",
    "    text_preprocess_func=preprocess_text_for_ner\n",
    ")"
   ]
  },
  {
   "cell_type": "code",
   "execution_count": 6,
   "id": "grave-trigger",
   "metadata": {},
   "outputs": [
    {
     "name": "stdout",
     "output_type": "stream",
     "text": [
      "2021-03-19 15:35:17,686 - heritageconnector.datastore - INFO - Fetching docs and running NER.\n",
      "spacy tried to use GPU but failed\n",
      "2021-03-19 15:35:25,288 - hc_nlp.pipeline - INFO - Loading thesaurus from ../../heritageconnector/../GITIGNORE_DATA/labels_all_unambiguous_types_people_orgs.jsonl\n",
      "2021-03-19 15:35:26,773 - hc_nlp.pipeline - INFO - 17016 term thesaurus imported in 1s\n",
      "2021-03-19 15:35:26,776 - hc_nlp.pipeline - WARNING - Custom span attributes already added.\n"
     ]
    },
    {
     "data": {
      "application/vnd.jupyter.widget-view+json": {
       "model_id": "15f7fb8338504141bd486358867bcf6e",
       "version_major": 2,
       "version_minor": 0
      },
      "text/plain": [
       "0it [00:00, ?it/s]"
      ]
     },
     "metadata": {},
     "output_type": "display_data"
    },
    {
     "name": "stdout",
     "output_type": "stream",
     "text": [
      "2021-03-19 15:44:25,725 - heritageconnector.datastore - INFO - Getting link candidates for each of 15215 entities\n"
     ]
    },
    {
     "data": {
      "application/vnd.jupyter.widget-view+json": {
       "model_id": "077bf27f728e44509d26fb1e95ae051a",
       "version_major": 2,
       "version_minor": 0
      },
      "text/plain": [
       "  0%|          | 0/15215 [00:00<?, ?it/s]"
      ]
     },
     "metadata": {},
     "output_type": "display_data"
    }
   ],
   "source": [
    "ner_loader.get_list_of_entities_from_es(\"en_core_web_trf\", 5000)\n",
    "_ = ner_loader.get_link_candidates(10)\n"
   ]
  },
  {
   "cell_type": "code",
   "execution_count": 7,
   "id": "breathing-cedar",
   "metadata": {},
   "outputs": [
    {
     "name": "stdout",
     "output_type": "stream",
     "text": [
      "2021-03-19 16:05:38,551 - heritageconnector.datastore - INFO - Training entity linker...\n",
      "2021-03-19 16:05:41,226 - heritageconnector.nlp.nel - INFO - Calculating sBERT embeddings... (1/2)\n"
     ]
    },
    {
     "data": {
      "application/vnd.jupyter.widget-view+json": {
       "model_id": "9dc253498db449cfbbc6928429f6a241",
       "version_major": 2,
       "version_minor": 0
      },
      "text/plain": [
       "Batches:   0%|          | 0/3 [00:00<?, ?it/s]"
      ]
     },
     "metadata": {},
     "output_type": "display_data"
    },
    {
     "name": "stdout",
     "output_type": "stream",
     "text": [
      "2021-03-19 16:05:44,607 - heritageconnector.nlp.nel - INFO - Calculating sBERT embeddings... (2/2)\n"
     ]
    },
    {
     "data": {
      "application/vnd.jupyter.widget-view+json": {
       "model_id": "e8a7d89bed6f46728858863205105840",
       "version_major": 2,
       "version_minor": 0
      },
      "text/plain": [
       "Batches:   0%|          | 0/37 [00:00<?, ?it/s]"
      ]
     },
     "metadata": {},
     "output_type": "display_data"
    }
   ],
   "source": [
    "def train_entity_linker():\n",
    "    df = pd.read_excel(\"../../GITIGNORE_DATA/NEL/review_data_1103.xlsx\", index_col=0)\n",
    "    df.loc[~df['link_correct'].isnull(), 'link_correct'] = df.loc[~df['link_correct'].isnull(), 'link_correct'].apply(int)\n",
    "    df_annotated = df[(~df['link_correct'].isnull()) & (df['candidate_rank'] != -1)]\n",
    "\n",
    "    return ner_loader.train_entity_linker(df_annotated)\n",
    "\n",
    "clf = train_entity_linker()"
   ]
  },
  {
   "cell_type": "code",
   "execution_count": 8,
   "id": "respective-lottery",
   "metadata": {},
   "outputs": [],
   "source": [
    "# get entities and split by those with candidates and those without\n",
    "ent_df = ner_loader.entity_list_as_dataframe\n",
    "ents_with_candidates, ents_without_candidates = ent_df[~ent_df['candidate_rank'].isna()], ent_df[ent_df['candidate_rank'].isna()]"
   ]
  },
  {
   "cell_type": "code",
   "execution_count": 9,
   "id": "informed-wednesday",
   "metadata": {},
   "outputs": [
    {
     "name": "stdout",
     "output_type": "stream",
     "text": [
      "2021-03-19 16:08:26,319 - heritageconnector.nlp.nel - INFO - Calculating sBERT embeddings... (1/2)\n"
     ]
    },
    {
     "data": {
      "application/vnd.jupyter.widget-view+json": {
       "model_id": "3bd04116a8c3472788c173ea0184db90",
       "version_major": 2,
       "version_minor": 0
      },
      "text/plain": [
       "Batches:   0%|          | 0/104 [00:00<?, ?it/s]"
      ]
     },
     "metadata": {},
     "output_type": "display_data"
    },
    {
     "name": "stdout",
     "output_type": "stream",
     "text": [
      "2021-03-19 16:10:17,732 - heritageconnector.nlp.nel - INFO - Calculating sBERT embeddings... (2/2)\n"
     ]
    },
    {
     "data": {
      "application/vnd.jupyter.widget-view+json": {
       "model_id": "f008cab1374340c1a7f06df1285bd982",
       "version_major": 2,
       "version_minor": 0
      },
      "text/plain": [
       "Batches:   0%|          | 0/788 [00:00<?, ?it/s]"
      ]
     },
     "metadata": {},
     "output_type": "display_data"
    }
   ],
   "source": [
    "# predict whether each link candidate is an actual link for the entity\n",
    "y_pred = clf.predict_proba(ents_with_candidates)[:,1]\n",
    "ents_with_candidates[\"y_pred\"] = y_pred"
   ]
  },
  {
   "cell_type": "code",
   "execution_count": 10,
   "id": "senior-hudson",
   "metadata": {},
   "outputs": [],
   "source": [
    "# concatenate dataframes\n",
    "ents_df_with_candidates_and_preds = pd.concat([ents_with_candidates, ents_without_candidates])\n"
   ]
  },
  {
   "cell_type": "code",
   "execution_count": 11,
   "id": "specific-johnston",
   "metadata": {},
   "outputs": [],
   "source": [
    "# add spaCy docs to the dataframe so these can just be retrieved instead of created in the demo\n",
    "\n",
    "desc_unique, desc_unique_indices = np.unique(ents_df_with_candidates_and_preds.item_description.values, return_inverse=True)\n",
    "docs_unique = np.array(list(nlp.pipe(desc_unique)), dtype=object)\n",
    "\n",
    "# spacy docs in dataframe approach\n",
    "# ents_df_with_candidates_and_preds['item_description_spacy_doc'] = docs_unique[desc_unique_indices]\n",
    "\n",
    "# DocBin approach\n",
    "# from spacy.tokens import DocBin\n",
    "# doc_bin = DocBin(attrs=[\"ENT_IOB\", \"ENT_TYPE\"], store_user_data=True)\n",
    "\n",
    "# for doc in docs_unique[desc_unique_indices]:\n",
    "#     doc_bin.add(doc)\n",
    "\n",
    "# doc_bin.to_disk('docs.spacy')"
   ]
  },
  {
   "cell_type": "code",
   "execution_count": 15,
   "id": "jewish-start",
   "metadata": {},
   "outputs": [],
   "source": [
    "from spacy import displacy\n",
    "html_list = [displacy.render(doc, style='ent', jupyter=False) for doc in docs_unique]"
   ]
  },
  {
   "cell_type": "code",
   "execution_count": 16,
   "id": "persistent-trademark",
   "metadata": {},
   "outputs": [
    {
     "data": {
      "text/plain": [
       "(True,\n",
       " '<div class=\"entities\" style=\"line-height: 2.5; direction: ltr\">&quot;A peep at the gas lights in \\n<mark class=\"entity\" style=\"background: #ddd; padding: 0.45em 0.6em; margin: 0 0.25em; line-height: 1; border-radius: 0.35em;\">\\n    Pall Mall\\n    <span style=\"font-size: 0.8em; font-weight: bold; line-height: 1; border-radius: 0.35em; vertical-align: middle; margin-left: 0.5rem\">FAC</span>\\n</mark>\\n&quot; \\n<mark class=\"entity\" style=\"background: #bfe1d9; padding: 0.45em 0.6em; margin: 0 0.25em; line-height: 1; border-radius: 0.35em;\">\\n    1807\\n    <span style=\"font-size: 0.8em; font-weight: bold; line-height: 1; border-radius: 0.35em; vertical-align: middle; margin-left: 0.5rem\">DATE</span>\\n</mark>\\n, \\n<mark class=\"entity\" style=\"background: #aa9cfc; padding: 0.45em 0.6em; margin: 0 0.25em; line-height: 1; border-radius: 0.35em;\">\\n    Rowlandson\\n    <span style=\"font-size: 0.8em; font-weight: bold; line-height: 1; border-radius: 0.35em; vertical-align: middle; margin-left: 0.5rem\">PERSON</span>\\n</mark>\\n</div>')"
      ]
     },
     "execution_count": 16,
     "metadata": {},
     "output_type": "execute_result"
    }
   ],
   "source": [
    "len(html_list) == len(docs_unique), html_list[0]"
   ]
  },
  {
   "cell_type": "code",
   "execution_count": 20,
   "id": "allied-america",
   "metadata": {},
   "outputs": [],
   "source": [
    "ents_df_with_candidates_and_preds[\"ent_html\"] = np.array(html_list)[desc_unique_indices]"
   ]
  },
  {
   "cell_type": "code",
   "execution_count": 22,
   "id": "functioning-overall",
   "metadata": {},
   "outputs": [
    {
     "name": "stdout",
     "output_type": "stream",
     "text": [
      "<div class=\"entities\" style=\"line-height: 2.5; direction: ltr\">A photograph of the crowd at an \n",
      "<mark class=\"entity\" style=\"background: #7aecec; padding: 0.45em 0.6em; margin: 0 0.25em; line-height: 1; border-radius: 0.35em;\">\n",
      "    Arsenal\n",
      "    <span style=\"font-size: 0.8em; font-weight: bold; line-height: 1; border-radius: 0.35em; vertical-align: middle; margin-left: 0.5rem\">ORG</span>\n",
      "</mark>\n",
      " trial match, taken by \n",
      "<mark class=\"entity\" style=\"background: #aa9cfc; padding: 0.45em 0.6em; margin: 0 0.25em; line-height: 1; border-radius: 0.35em;\">\n",
      "    James Jarché\n",
      "    <span style=\"font-size: 0.8em; font-weight: bold; line-height: 1; border-radius: 0.35em; vertical-align: middle; margin-left: 0.5rem\">PERSON</span>\n",
      "</mark>\n",
      " and published in \n",
      "<mark class=\"entity\" style=\"background: #7aecec; padding: 0.45em 0.6em; margin: 0 0.25em; line-height: 1; border-radius: 0.35em;\">\n",
      "    Weekly Illustrated\n",
      "    <span style=\"font-size: 0.8em; font-weight: bold; line-height: 1; border-radius: 0.35em; vertical-align: middle; margin-left: 0.5rem\">ORG</span>\n",
      "</mark>\n",
      ".</div>\n"
     ]
    }
   ],
   "source": [
    "# test of rendering a doc (if they are stored in the dataframe)\n",
    "doc = ents_df_with_candidates_and_preds['ent_html'].iloc[0]\n",
    "print(doc)\n"
   ]
  },
  {
   "cell_type": "code",
   "execution_count": 23,
   "id": "heard-worth",
   "metadata": {},
   "outputs": [
    {
     "data": {
      "text/html": [
       "<div>\n",
       "<style scoped>\n",
       "    .dataframe tbody tr th:only-of-type {\n",
       "        vertical-align: middle;\n",
       "    }\n",
       "\n",
       "    .dataframe tbody tr th {\n",
       "        vertical-align: top;\n",
       "    }\n",
       "\n",
       "    .dataframe thead th {\n",
       "        text-align: right;\n",
       "    }\n",
       "</style>\n",
       "<table border=\"1\" class=\"dataframe\">\n",
       "  <thead>\n",
       "    <tr style=\"text-align: right;\">\n",
       "      <th></th>\n",
       "      <th>item_uri</th>\n",
       "      <th>candidate_rank</th>\n",
       "      <th>item_description_with_ent</th>\n",
       "      <th>ent_label</th>\n",
       "      <th>ent_text</th>\n",
       "      <th>ent_sentence</th>\n",
       "      <th>candidate_title</th>\n",
       "      <th>candidate_type</th>\n",
       "      <th>candidate_uri</th>\n",
       "      <th>link_correct</th>\n",
       "      <th>candidate_alias</th>\n",
       "      <th>candidate_description</th>\n",
       "      <th>item_description</th>\n",
       "      <th>y_pred</th>\n",
       "      <th>ent_html</th>\n",
       "    </tr>\n",
       "  </thead>\n",
       "  <tbody>\n",
       "    <tr>\n",
       "      <th>0</th>\n",
       "      <td>https://collection.sciencemuseumgroup.org.uk/objects/co8223447</td>\n",
       "      <td>0.0</td>\n",
       "      <td>A photograph of the crowd at an [[Arsenal]] trial match, taken by James Jarché and published in Weekly Illustrated.</td>\n",
       "      <td>ORG</td>\n",
       "      <td>Arsenal</td>\n",
       "      <td>A photograph of the crowd at an Arsenal trial match, taken by James Jarché and published in Weekly Illustrated.</td>\n",
       "      <td>Arsenal De Rochefort</td>\n",
       "      <td>ORGANISATION</td>\n",
       "      <td>https://collection.sciencemuseumgroup.org.uk/people/cp136697</td>\n",
       "      <td></td>\n",
       "      <td></td>\n",
       "      <td>UNESCO, World Heritage Sites, Tentative List, available online at:    Wreck Site, available online at:        Created ex nihilo in 1666 by Louis XIV on the advice of Colbert, to protect the French coastline from attack and to build ships for the French naval fleet.  By 1926, it no longer met the demands of a modern naval fleet and was closed.</td>\n",
       "      <td>A photograph of the crowd at an Arsenal trial match, taken by James Jarché and published in Weekly Illustrated.</td>\n",
       "      <td>0.034337</td>\n",
       "      <td>&lt;div class=\"entities\" style=\"line-height: 2.5; direction: ltr\"&gt;A photograph of the crowd at an \\n&lt;mark class=\"entity\" style=\"background: #7aecec; padding: 0.45em 0.6em; margin: 0 0.25em; line-height: 1; border-radius: 0.35em;\"&gt;\\n    Arsenal\\n    &lt;span style=\"font-size: 0.8em; font-weight: bold; line-height: 1; border-radius: 0.35em; vertical-align: middle; margin-left: 0.5rem\"&gt;ORG&lt;/span&gt;\\n&lt;/mark&gt;\\n trial match, taken by \\n&lt;mark class=\"entity\" style=\"background: #aa9cfc; padding: 0.45em 0.6em; margin: 0 0.25em; line-height: 1; border-radius: 0.35em;\"&gt;\\n    James Jarché\\n    &lt;span style=\"font-size: 0.8em; font-weight: bold; line-height: 1; border-radius: 0.35em; vertical-align: middle; margin-left: 0.5rem\"&gt;PERSON&lt;/span&gt;\\n&lt;/mark&gt;\\n and published in \\n&lt;mark class=\"entity\" style=\"background: #7aecec; padding: 0.45em 0.6em; margin: 0 0.25em; line-height: 1; border-radius: 0.35em;\"&gt;\\n    Weekly Illustrated\\n    &lt;span style=\"font-size: 0.8em; font-weight: bold; line-height: 1; border-radius: 0.35em; vertical-align: middle; margin-left: 0.5rem\"&gt;ORG&lt;/span&gt;\\n&lt;/mark&gt;\\n.&lt;/div&gt;</td>\n",
       "    </tr>\n",
       "  </tbody>\n",
       "</table>\n",
       "</div>"
      ],
      "text/plain": [
       "                                                         item_uri  \\\n",
       "0  https://collection.sciencemuseumgroup.org.uk/objects/co8223447   \n",
       "\n",
       "   candidate_rank  \\\n",
       "0             0.0   \n",
       "\n",
       "                                                                                             item_description_with_ent  \\\n",
       "0  A photograph of the crowd at an [[Arsenal]] trial match, taken by James Jarché and published in Weekly Illustrated.   \n",
       "\n",
       "  ent_label ent_text  \\\n",
       "0       ORG  Arsenal   \n",
       "\n",
       "                                                                                                      ent_sentence  \\\n",
       "0  A photograph of the crowd at an Arsenal trial match, taken by James Jarché and published in Weekly Illustrated.   \n",
       "\n",
       "        candidate_title candidate_type  \\\n",
       "0  Arsenal De Rochefort   ORGANISATION   \n",
       "\n",
       "                                                  candidate_uri link_correct  \\\n",
       "0  https://collection.sciencemuseumgroup.org.uk/people/cp136697                \n",
       "\n",
       "  candidate_alias  \\\n",
       "0                   \n",
       "\n",
       "                                                                                                                                                                                                                                                                                                                                      candidate_description  \\\n",
       "0  UNESCO, World Heritage Sites, Tentative List, available online at:    Wreck Site, available online at:        Created ex nihilo in 1666 by Louis XIV on the advice of Colbert, to protect the French coastline from attack and to build ships for the French naval fleet.  By 1926, it no longer met the demands of a modern naval fleet and was closed.   \n",
       "\n",
       "                                                                                                  item_description  \\\n",
       "0  A photograph of the crowd at an Arsenal trial match, taken by James Jarché and published in Weekly Illustrated.   \n",
       "\n",
       "     y_pred  \\\n",
       "0  0.034337   \n",
       "\n",
       "                                                                                                                                                                                                                                                                                                                                                                                                                                                                                                                                                                                                                                                                                                                                                                                                                                                                                                                                                                                                                                                                                                                   ent_html  \n",
       "0  <div class=\"entities\" style=\"line-height: 2.5; direction: ltr\">A photograph of the crowd at an \\n<mark class=\"entity\" style=\"background: #7aecec; padding: 0.45em 0.6em; margin: 0 0.25em; line-height: 1; border-radius: 0.35em;\">\\n    Arsenal\\n    <span style=\"font-size: 0.8em; font-weight: bold; line-height: 1; border-radius: 0.35em; vertical-align: middle; margin-left: 0.5rem\">ORG</span>\\n</mark>\\n trial match, taken by \\n<mark class=\"entity\" style=\"background: #aa9cfc; padding: 0.45em 0.6em; margin: 0 0.25em; line-height: 1; border-radius: 0.35em;\">\\n    James Jarché\\n    <span style=\"font-size: 0.8em; font-weight: bold; line-height: 1; border-radius: 0.35em; vertical-align: middle; margin-left: 0.5rem\">PERSON</span>\\n</mark>\\n and published in \\n<mark class=\"entity\" style=\"background: #7aecec; padding: 0.45em 0.6em; margin: 0 0.25em; line-height: 1; border-radius: 0.35em;\">\\n    Weekly Illustrated\\n    <span style=\"font-size: 0.8em; font-weight: bold; line-height: 1; border-radius: 0.35em; vertical-align: middle; margin-left: 0.5rem\">ORG</span>\\n</mark>\\n.</div>  "
      ]
     },
     "execution_count": 23,
     "metadata": {},
     "output_type": "execute_result"
    }
   ],
   "source": [
    "ents_df_with_candidates_and_preds.head(1)"
   ]
  },
  {
   "cell_type": "code",
   "execution_count": 24,
   "id": "suffering-group",
   "metadata": {},
   "outputs": [
    {
     "data": {
      "text/html": [
       "<div>\n",
       "<style scoped>\n",
       "    .dataframe tbody tr th:only-of-type {\n",
       "        vertical-align: middle;\n",
       "    }\n",
       "\n",
       "    .dataframe tbody tr th {\n",
       "        vertical-align: top;\n",
       "    }\n",
       "\n",
       "    .dataframe thead th {\n",
       "        text-align: right;\n",
       "    }\n",
       "</style>\n",
       "<table border=\"1\" class=\"dataframe\">\n",
       "  <thead>\n",
       "    <tr style=\"text-align: right;\">\n",
       "      <th>demo_category</th>\n",
       "      <th>Communications</th>\n",
       "      <th>Energy</th>\n",
       "      <th>General</th>\n",
       "      <th>Textiles</th>\n",
       "    </tr>\n",
       "    <tr>\n",
       "      <th>CATEGORY1</th>\n",
       "      <th></th>\n",
       "      <th></th>\n",
       "      <th></th>\n",
       "      <th></th>\n",
       "    </tr>\n",
       "  </thead>\n",
       "  <tbody>\n",
       "    <tr>\n",
       "      <th>Archive Collections</th>\n",
       "      <td>-</td>\n",
       "      <td>-</td>\n",
       "      <td>172.0</td>\n",
       "      <td>-</td>\n",
       "    </tr>\n",
       "    <tr>\n",
       "      <th>Art</th>\n",
       "      <td>-</td>\n",
       "      <td>-</td>\n",
       "      <td>21580.0</td>\n",
       "      <td>-</td>\n",
       "    </tr>\n",
       "    <tr>\n",
       "      <th>Coal Mining</th>\n",
       "      <td>-</td>\n",
       "      <td>759.0</td>\n",
       "      <td>-</td>\n",
       "      <td>-</td>\n",
       "    </tr>\n",
       "    <tr>\n",
       "      <th>Electricity Supply</th>\n",
       "      <td>-</td>\n",
       "      <td>1992.0</td>\n",
       "      <td>-</td>\n",
       "      <td>-</td>\n",
       "    </tr>\n",
       "    <tr>\n",
       "      <th>Environmental Science &amp; Technology</th>\n",
       "      <td>-</td>\n",
       "      <td>216.0</td>\n",
       "      <td>-</td>\n",
       "      <td>-</td>\n",
       "    </tr>\n",
       "    <tr>\n",
       "      <th>Gas Industry</th>\n",
       "      <td>-</td>\n",
       "      <td>710.0</td>\n",
       "      <td>-</td>\n",
       "      <td>-</td>\n",
       "    </tr>\n",
       "    <tr>\n",
       "      <th>Heat Engines (non steam)</th>\n",
       "      <td>-</td>\n",
       "      <td>160.0</td>\n",
       "      <td>-</td>\n",
       "      <td>-</td>\n",
       "    </tr>\n",
       "    <tr>\n",
       "      <th>Heating, Cooling and Ventilation</th>\n",
       "      <td>-</td>\n",
       "      <td>101.0</td>\n",
       "      <td>-</td>\n",
       "      <td>-</td>\n",
       "    </tr>\n",
       "    <tr>\n",
       "      <th>James Watt's Garret Workshop</th>\n",
       "      <td>-</td>\n",
       "      <td>68.0</td>\n",
       "      <td>-</td>\n",
       "      <td>-</td>\n",
       "    </tr>\n",
       "    <tr>\n",
       "      <th>Lighting</th>\n",
       "      <td>-</td>\n",
       "      <td>676.0</td>\n",
       "      <td>-</td>\n",
       "      <td>-</td>\n",
       "    </tr>\n",
       "    <tr>\n",
       "      <th>Local History</th>\n",
       "      <td>-</td>\n",
       "      <td>-</td>\n",
       "      <td>5327.0</td>\n",
       "      <td>-</td>\n",
       "    </tr>\n",
       "    <tr>\n",
       "      <th>Mining &amp; Ore Dressing</th>\n",
       "      <td>-</td>\n",
       "      <td>1558.0</td>\n",
       "      <td>-</td>\n",
       "      <td>-</td>\n",
       "    </tr>\n",
       "    <tr>\n",
       "      <th>Motive Power</th>\n",
       "      <td>-</td>\n",
       "      <td>1342.0</td>\n",
       "      <td>-</td>\n",
       "      <td>-</td>\n",
       "    </tr>\n",
       "    <tr>\n",
       "      <th>Nuclear Physics</th>\n",
       "      <td>-</td>\n",
       "      <td>895.0</td>\n",
       "      <td>-</td>\n",
       "      <td>-</td>\n",
       "    </tr>\n",
       "    <tr>\n",
       "      <th>Photographs</th>\n",
       "      <td>-</td>\n",
       "      <td>-</td>\n",
       "      <td>45737.0</td>\n",
       "      <td>-</td>\n",
       "    </tr>\n",
       "    <tr>\n",
       "      <th>Printing &amp; Writing</th>\n",
       "      <td>1208.0</td>\n",
       "      <td>-</td>\n",
       "      <td>-</td>\n",
       "      <td>-</td>\n",
       "    </tr>\n",
       "    <tr>\n",
       "      <th>Radio Communication</th>\n",
       "      <td>2166.0</td>\n",
       "      <td>-</td>\n",
       "      <td>-</td>\n",
       "      <td>-</td>\n",
       "    </tr>\n",
       "    <tr>\n",
       "      <th>Sound Reproduction</th>\n",
       "      <td>891.0</td>\n",
       "      <td>-</td>\n",
       "      <td>-</td>\n",
       "      <td>-</td>\n",
       "    </tr>\n",
       "    <tr>\n",
       "      <th>Stationary Engines</th>\n",
       "      <td>-</td>\n",
       "      <td>11.0</td>\n",
       "      <td>-</td>\n",
       "      <td>-</td>\n",
       "    </tr>\n",
       "    <tr>\n",
       "      <th>Television</th>\n",
       "      <td>1536.0</td>\n",
       "      <td>-</td>\n",
       "      <td>-</td>\n",
       "      <td>-</td>\n",
       "    </tr>\n",
       "    <tr>\n",
       "      <th>Textile Industry</th>\n",
       "      <td>-</td>\n",
       "      <td>-</td>\n",
       "      <td>-</td>\n",
       "      <td>841.0</td>\n",
       "    </tr>\n",
       "    <tr>\n",
       "      <th>Textiles Machinery</th>\n",
       "      <td>-</td>\n",
       "      <td>-</td>\n",
       "      <td>-</td>\n",
       "      <td>706.0</td>\n",
       "    </tr>\n",
       "  </tbody>\n",
       "</table>\n",
       "</div>"
      ],
      "text/plain": [
       "demo_category                      Communications  Energy  General Textiles\n",
       "CATEGORY1                                                                  \n",
       "Archive Collections                             -       -    172.0        -\n",
       "Art                                             -       -  21580.0        -\n",
       "Coal Mining                                     -   759.0        -        -\n",
       "Electricity Supply                              -  1992.0        -        -\n",
       "Environmental Science & Technology              -   216.0        -        -\n",
       "Gas Industry                                    -   710.0        -        -\n",
       "Heat Engines (non steam)                        -   160.0        -        -\n",
       "Heating, Cooling and Ventilation                -   101.0        -        -\n",
       "James Watt's Garret Workshop                    -    68.0        -        -\n",
       "Lighting                                        -   676.0        -        -\n",
       "Local History                                   -       -   5327.0        -\n",
       "Mining & Ore Dressing                           -  1558.0        -        -\n",
       "Motive Power                                    -  1342.0        -        -\n",
       "Nuclear Physics                                 -   895.0        -        -\n",
       "Photographs                                     -       -  45737.0        -\n",
       "Printing & Writing                         1208.0       -        -        -\n",
       "Radio Communication                        2166.0       -        -        -\n",
       "Sound Reproduction                          891.0       -        -        -\n",
       "Stationary Engines                              -    11.0        -        -\n",
       "Television                                 1536.0       -        -        -\n",
       "Textile Industry                                -       -        -    841.0\n",
       "Textiles Machinery                              -       -        -    706.0"
      ]
     },
     "execution_count": 24,
     "metadata": {},
     "output_type": "execute_result"
    }
   ],
   "source": [
    "# TODO: add item labels to dataframe here\n",
    "# get categories\n",
    "catalogue_df = pd.read_csv(\"../../GITIGNORE_DATA/smg-datasets-private/mimsy-catalogue-export.csv\", usecols=[\"MKEY\", \"CATEGORY1\", \"TITLE\"])\n",
    "catalogue_df[\"MKEY\"] = \"https://collection.sciencemuseumgroup.org.uk/objects/co\" + catalogue_df[\"MKEY\"].astype(str)\n",
    "catalogue_df[\"CATEGORY1\"] = catalogue_df[\"CATEGORY1\"].apply(lambda x: x.split(\" - \")[1].strip())\n",
    "\n",
    "# merge \n",
    "ents_df_with_candidates_and_preds = ents_df_with_candidates_and_preds.merge(catalogue_df, how='left', left_on='item_uri', right_on='MKEY',)\n",
    "ents_df_with_candidates_and_preds[\"demo_category\"] = ents_df_with_candidates_and_preds[\"CATEGORY1\"].map(category_mapping_reversed)\n",
    "\n",
    "ents_df_with_candidates_and_preds.groupby([\"demo_category\", \"CATEGORY1\"]).count()[\"item_uri\"].unstack().fillna(\"-\").T"
   ]
  },
  {
   "cell_type": "code",
   "execution_count": 25,
   "id": "formal-match",
   "metadata": {},
   "outputs": [
    {
     "data": {
      "text/html": [
       "<div>\n",
       "<style scoped>\n",
       "    .dataframe tbody tr th:only-of-type {\n",
       "        vertical-align: middle;\n",
       "    }\n",
       "\n",
       "    .dataframe tbody tr th {\n",
       "        vertical-align: top;\n",
       "    }\n",
       "\n",
       "    .dataframe thead th {\n",
       "        text-align: right;\n",
       "    }\n",
       "</style>\n",
       "<table border=\"1\" class=\"dataframe\">\n",
       "  <thead>\n",
       "    <tr style=\"text-align: right;\">\n",
       "      <th></th>\n",
       "      <th>item_uri</th>\n",
       "      <th>candidate_rank</th>\n",
       "      <th>item_description_with_ent</th>\n",
       "      <th>ent_label</th>\n",
       "      <th>ent_text</th>\n",
       "      <th>ent_sentence</th>\n",
       "      <th>candidate_title</th>\n",
       "      <th>candidate_type</th>\n",
       "      <th>candidate_uri</th>\n",
       "      <th>link_correct</th>\n",
       "      <th>candidate_alias</th>\n",
       "      <th>candidate_description</th>\n",
       "      <th>item_description</th>\n",
       "      <th>y_pred</th>\n",
       "      <th>ent_html</th>\n",
       "      <th>MKEY</th>\n",
       "      <th>TITLE</th>\n",
       "      <th>CATEGORY1</th>\n",
       "      <th>demo_category</th>\n",
       "    </tr>\n",
       "  </thead>\n",
       "  <tbody>\n",
       "    <tr>\n",
       "      <th>0</th>\n",
       "      <td>https://collection.sciencemuseumgroup.org.uk/objects/co8223447</td>\n",
       "      <td>0.0</td>\n",
       "      <td>A photograph of the crowd at an [[Arsenal]] trial match, taken by James Jarché and published in Weekly Illustrated.</td>\n",
       "      <td>ORG</td>\n",
       "      <td>Arsenal</td>\n",
       "      <td>A photograph of the crowd at an Arsenal trial match, taken by James Jarché and published in Weekly Illustrated.</td>\n",
       "      <td>Arsenal De Rochefort</td>\n",
       "      <td>ORGANISATION</td>\n",
       "      <td>https://collection.sciencemuseumgroup.org.uk/people/cp136697</td>\n",
       "      <td></td>\n",
       "      <td></td>\n",
       "      <td>UNESCO, World Heritage Sites, Tentative List, available online at:    Wreck Site, available online at:        Created ex nihilo in 1666 by Louis XIV on the advice of Colbert, to protect the French coastline from attack and to build ships for the French naval fleet.  By 1926, it no longer met the demands of a modern naval fleet and was closed.</td>\n",
       "      <td>A photograph of the crowd at an Arsenal trial match, taken by James Jarché and published in Weekly Illustrated.</td>\n",
       "      <td>0.034337</td>\n",
       "      <td>&lt;div class=\"entities\" style=\"line-height: 2.5; direction: ltr\"&gt;A photograph of the crowd at an \\n&lt;mark class=\"entity\" style=\"background: #7aecec; padding: 0.45em 0.6em; margin: 0 0.25em; line-height: 1; border-radius: 0.35em;\"&gt;\\n    Arsenal\\n    &lt;span style=\"font-size: 0.8em; font-weight: bold; line-height: 1; border-radius: 0.35em; vertical-align: middle; margin-left: 0.5rem\"&gt;ORG&lt;/span&gt;\\n&lt;/mark&gt;\\n trial match, taken by \\n&lt;mark class=\"entity\" style=\"background: #aa9cfc; padding: 0.45em 0.6em; margin: 0 0.25em; line-height: 1; border-radius: 0.35em;\"&gt;\\n    James Jarché\\n    &lt;span style=\"font-size: 0.8em; font-weight: bold; line-height: 1; border-radius: 0.35em; vertical-align: middle; margin-left: 0.5rem\"&gt;PERSON&lt;/span&gt;\\n&lt;/mark&gt;\\n and published in \\n&lt;mark class=\"entity\" style=\"background: #7aecec; padding: 0.45em 0.6em; margin: 0 0.25em; line-height: 1; border-radius: 0.35em;\"&gt;\\n    Weekly Illustrated\\n    &lt;span style=\"font-size: 0.8em; font-weight: bold; line-height: 1; border-radius: 0.35em; vertical-align: middle; margin-left: 0.5rem\"&gt;ORG&lt;/span&gt;\\n&lt;/mark&gt;\\n.&lt;/div&gt;</td>\n",
       "      <td>https://collection.sciencemuseumgroup.org.uk/objects/co8223447</td>\n",
       "      <td>Crowd watching Arsenal trial match</td>\n",
       "      <td>Photographs</td>\n",
       "      <td>General</td>\n",
       "    </tr>\n",
       "  </tbody>\n",
       "</table>\n",
       "</div>"
      ],
      "text/plain": [
       "                                                         item_uri  \\\n",
       "0  https://collection.sciencemuseumgroup.org.uk/objects/co8223447   \n",
       "\n",
       "   candidate_rank  \\\n",
       "0             0.0   \n",
       "\n",
       "                                                                                             item_description_with_ent  \\\n",
       "0  A photograph of the crowd at an [[Arsenal]] trial match, taken by James Jarché and published in Weekly Illustrated.   \n",
       "\n",
       "  ent_label ent_text  \\\n",
       "0       ORG  Arsenal   \n",
       "\n",
       "                                                                                                      ent_sentence  \\\n",
       "0  A photograph of the crowd at an Arsenal trial match, taken by James Jarché and published in Weekly Illustrated.   \n",
       "\n",
       "        candidate_title candidate_type  \\\n",
       "0  Arsenal De Rochefort   ORGANISATION   \n",
       "\n",
       "                                                  candidate_uri link_correct  \\\n",
       "0  https://collection.sciencemuseumgroup.org.uk/people/cp136697                \n",
       "\n",
       "  candidate_alias  \\\n",
       "0                   \n",
       "\n",
       "                                                                                                                                                                                                                                                                                                                                      candidate_description  \\\n",
       "0  UNESCO, World Heritage Sites, Tentative List, available online at:    Wreck Site, available online at:        Created ex nihilo in 1666 by Louis XIV on the advice of Colbert, to protect the French coastline from attack and to build ships for the French naval fleet.  By 1926, it no longer met the demands of a modern naval fleet and was closed.   \n",
       "\n",
       "                                                                                                  item_description  \\\n",
       "0  A photograph of the crowd at an Arsenal trial match, taken by James Jarché and published in Weekly Illustrated.   \n",
       "\n",
       "     y_pred  \\\n",
       "0  0.034337   \n",
       "\n",
       "                                                                                                                                                                                                                                                                                                                                                                                                                                                                                                                                                                                                                                                                                                                                                                                                                                                                                                                                                                                                                                                                                                                   ent_html  \\\n",
       "0  <div class=\"entities\" style=\"line-height: 2.5; direction: ltr\">A photograph of the crowd at an \\n<mark class=\"entity\" style=\"background: #7aecec; padding: 0.45em 0.6em; margin: 0 0.25em; line-height: 1; border-radius: 0.35em;\">\\n    Arsenal\\n    <span style=\"font-size: 0.8em; font-weight: bold; line-height: 1; border-radius: 0.35em; vertical-align: middle; margin-left: 0.5rem\">ORG</span>\\n</mark>\\n trial match, taken by \\n<mark class=\"entity\" style=\"background: #aa9cfc; padding: 0.45em 0.6em; margin: 0 0.25em; line-height: 1; border-radius: 0.35em;\">\\n    James Jarché\\n    <span style=\"font-size: 0.8em; font-weight: bold; line-height: 1; border-radius: 0.35em; vertical-align: middle; margin-left: 0.5rem\">PERSON</span>\\n</mark>\\n and published in \\n<mark class=\"entity\" style=\"background: #7aecec; padding: 0.45em 0.6em; margin: 0 0.25em; line-height: 1; border-radius: 0.35em;\">\\n    Weekly Illustrated\\n    <span style=\"font-size: 0.8em; font-weight: bold; line-height: 1; border-radius: 0.35em; vertical-align: middle; margin-left: 0.5rem\">ORG</span>\\n</mark>\\n.</div>   \n",
       "\n",
       "                                                             MKEY  \\\n",
       "0  https://collection.sciencemuseumgroup.org.uk/objects/co8223447   \n",
       "\n",
       "                                TITLE    CATEGORY1 demo_category  \n",
       "0  Crowd watching Arsenal trial match  Photographs       General  "
      ]
     },
     "execution_count": 25,
     "metadata": {},
     "output_type": "execute_result"
    }
   ],
   "source": [
    "ents_df_with_candidates_and_preds.head(1)"
   ]
  },
  {
   "cell_type": "code",
   "execution_count": 26,
   "id": "administrative-wellington",
   "metadata": {},
   "outputs": [],
   "source": [
    "# TODO: export final dataframe to pickle\n",
    "ents_df_with_candidates_and_preds.to_pickle(\"demo_data.pkl\")"
   ]
  },
  {
   "cell_type": "code",
   "execution_count": 27,
   "id": "dietary-combat",
   "metadata": {},
   "outputs": [],
   "source": [
    "# also to parquet\n",
    "ents_df_with_candidates_and_preds.to_parquet('demo_data.parquet.gzip', compression='gzip')"
   ]
  },
  {
   "cell_type": "code",
   "execution_count": null,
   "id": "scheduled-diagnosis",
   "metadata": {},
   "outputs": [],
   "source": []
  }
 ],
 "metadata": {
  "kernelspec": {
   "display_name": "Python 3",
   "language": "python",
   "name": "python3"
  },
  "language_info": {
   "codemirror_mode": {
    "name": "ipython",
    "version": 3
   },
   "file_extension": ".py",
   "mimetype": "text/x-python",
   "name": "python",
   "nbconvert_exporter": "python",
   "pygments_lexer": "ipython3",
   "version": "3.9.1"
  }
 },
 "nbformat": 4,
 "nbformat_minor": 5
}
