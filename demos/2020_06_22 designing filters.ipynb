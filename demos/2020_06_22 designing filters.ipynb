{
 "cells": [
  {
   "cell_type": "code",
   "execution_count": 1,
   "metadata": {},
   "outputs": [],
   "source": [
    "%load_ext autoreload\n",
    "%autoreload 2"
   ]
  },
  {
   "cell_type": "code",
   "execution_count": 45,
   "metadata": {},
   "outputs": [],
   "source": [
    "import sys\n",
    "sys.path.append(\"..\")\n",
    "\n",
    "from heritageconnector.entity_matching.filter import Filter\n",
    "import pandas as pd\n",
    "pd.set_option('display.max_colwidth', None)\n",
    "pd.set_option('display.max_columns', None)\n"
   ]
  },
  {
   "cell_type": "code",
   "execution_count": 46,
   "metadata": {},
   "outputs": [
    {
     "data": {
      "text/html": [
       "<div>\n",
       "<style scoped>\n",
       "    .dataframe tbody tr th:only-of-type {\n",
       "        vertical-align: middle;\n",
       "    }\n",
       "\n",
       "    .dataframe tbody tr th {\n",
       "        vertical-align: top;\n",
       "    }\n",
       "\n",
       "    .dataframe thead th {\n",
       "        text-align: right;\n",
       "    }\n",
       "</style>\n",
       "<table border=\"1\" class=\"dataframe\">\n",
       "  <thead>\n",
       "    <tr style=\"text-align: right;\">\n",
       "      <th></th>\n",
       "      <th>LINK_ID</th>\n",
       "      <th>PREFERRED_NAME</th>\n",
       "      <th>TITLE_NAME</th>\n",
       "      <th>FIRSTMID_NAME</th>\n",
       "      <th>LASTSUFF_NAME</th>\n",
       "      <th>SUFFIX_NAME</th>\n",
       "      <th>HONORARY_SUFFIX</th>\n",
       "      <th>GENDER</th>\n",
       "      <th>BRIEF_BIO</th>\n",
       "      <th>DESCRIPTION</th>\n",
       "      <th>NOTE</th>\n",
       "      <th>BIRTH_DATE</th>\n",
       "      <th>BIRTH_PLACE</th>\n",
       "      <th>DEATH_DATE</th>\n",
       "      <th>DEATH_PLACE</th>\n",
       "      <th>CAUSE_OF_DEATH</th>\n",
       "      <th>NATIONALITY</th>\n",
       "      <th>OCCUPATION</th>\n",
       "      <th>WEBSITE</th>\n",
       "      <th>AFFILIATION</th>\n",
       "      <th>LINGUISTIC_GROUP</th>\n",
       "      <th>TYPE</th>\n",
       "      <th>REFERENCE_NUMBER</th>\n",
       "      <th>SOURCE</th>\n",
       "      <th>CREATE_DATE</th>\n",
       "      <th>UPDATE_DATE</th>\n",
       "      <th>res_ALL_NOTES</th>\n",
       "      <th>res_WIKIDATA_IDs</th>\n",
       "      <th>res_URLS</th>\n",
       "    </tr>\n",
       "  </thead>\n",
       "  <tbody>\n",
       "    <tr>\n",
       "      <th>0</th>\n",
       "      <td>10243</td>\n",
       "      <td>Brooklyn Arms Company</td>\n",
       "      <td>NaN</td>\n",
       "      <td>NaN</td>\n",
       "      <td>Brooklyn Arms Company</td>\n",
       "      <td>NaN</td>\n",
       "      <td>NaN</td>\n",
       "      <td>N</td>\n",
       "      <td>Y</td>\n",
       "      <td>nan</td>\n",
       "      <td>object record: 1987-1020</td>\n",
       "      <td>c. 1870</td>\n",
       "      <td>Brooklyn, New York, New York state, United States</td>\n",
       "      <td>NaN</td>\n",
       "      <td>NaN</td>\n",
       "      <td>NaN</td>\n",
       "      <td>American</td>\n",
       "      <td>manufacturer of mathematical instruments</td>\n",
       "      <td>NaN</td>\n",
       "      <td>NaN</td>\n",
       "      <td>NaN</td>\n",
       "      <td>NaN</td>\n",
       "      <td>NaN</td>\n",
       "      <td>N</td>\n",
       "      <td>28-JAN-98</td>\n",
       "      <td>06-NOV-18</td>\n",
       "      <td>nan --- object record: 1987-1020</td>\n",
       "      <td>[]</td>\n",
       "      <td>[]</td>\n",
       "    </tr>\n",
       "    <tr>\n",
       "      <th>1</th>\n",
       "      <td>10245</td>\n",
       "      <td>Zenthon, Edward Rupert</td>\n",
       "      <td>NaN</td>\n",
       "      <td>Edward Rupert</td>\n",
       "      <td>Zenthon</td>\n",
       "      <td>NaN</td>\n",
       "      <td>NaN</td>\n",
       "      <td>M</td>\n",
       "      <td>Y</td>\n",
       "      <td>REF: http://www.iwm.org.uk/collections/item/object/1030031461</td>\n",
       "      <td>nan</td>\n",
       "      <td>1920-07</td>\n",
       "      <td>London, Greater London, England, United Kingdom</td>\n",
       "      <td>c. 2002</td>\n",
       "      <td>NaN</td>\n",
       "      <td>NaN</td>\n",
       "      <td>British</td>\n",
       "      <td>engineer</td>\n",
       "      <td>NaN</td>\n",
       "      <td>NaN</td>\n",
       "      <td>NaN</td>\n",
       "      <td>NaN</td>\n",
       "      <td>NaN</td>\n",
       "      <td>N</td>\n",
       "      <td>28-JAN-98</td>\n",
       "      <td>05-AUG-15</td>\n",
       "      <td>REF: http://www.iwm.org.uk/collections/item/object/1030031461 --- nan</td>\n",
       "      <td>[]</td>\n",
       "      <td>[http://www.iwm.org.uk/collections/item/object/1030031461]</td>\n",
       "    </tr>\n",
       "  </tbody>\n",
       "</table>\n",
       "</div>"
      ],
      "text/plain": [
       "   LINK_ID          PREFERRED_NAME TITLE_NAME  FIRSTMID_NAME  \\\n",
       "0    10243   Brooklyn Arms Company        NaN            NaN   \n",
       "1    10245  Zenthon, Edward Rupert        NaN  Edward Rupert   \n",
       "\n",
       "           LASTSUFF_NAME SUFFIX_NAME HONORARY_SUFFIX GENDER BRIEF_BIO  \\\n",
       "0  Brooklyn Arms Company         NaN             NaN      N         Y   \n",
       "1                Zenthon         NaN             NaN      M         Y   \n",
       "\n",
       "                                                     DESCRIPTION  \\\n",
       "0                                                            nan   \n",
       "1  REF: http://www.iwm.org.uk/collections/item/object/1030031461   \n",
       "\n",
       "                       NOTE BIRTH_DATE  \\\n",
       "0  object record: 1987-1020    c. 1870   \n",
       "1                       nan    1920-07   \n",
       "\n",
       "                                         BIRTH_PLACE DEATH_DATE DEATH_PLACE  \\\n",
       "0  Brooklyn, New York, New York state, United States        NaN         NaN   \n",
       "1    London, Greater London, England, United Kingdom    c. 2002         NaN   \n",
       "\n",
       "  CAUSE_OF_DEATH NATIONALITY                                OCCUPATION  \\\n",
       "0            NaN    American  manufacturer of mathematical instruments   \n",
       "1            NaN     British                                  engineer   \n",
       "\n",
       "  WEBSITE  AFFILIATION  LINGUISTIC_GROUP TYPE  REFERENCE_NUMBER SOURCE  \\\n",
       "0     NaN          NaN               NaN  NaN               NaN      N   \n",
       "1     NaN          NaN               NaN  NaN               NaN      N   \n",
       "\n",
       "  CREATE_DATE UPDATE_DATE  \\\n",
       "0   28-JAN-98   06-NOV-18   \n",
       "1   28-JAN-98   05-AUG-15   \n",
       "\n",
       "                                                           res_ALL_NOTES  \\\n",
       "0                                       nan --- object record: 1987-1020   \n",
       "1  REF: http://www.iwm.org.uk/collections/item/object/1030031461 --- nan   \n",
       "\n",
       "  res_WIKIDATA_IDs                                                    res_URLS  \n",
       "0               []                                                          []  \n",
       "1               []  [http://www.iwm.org.uk/collections/item/object/1030031461]  "
      ]
     },
     "execution_count": 46,
     "metadata": {},
     "output_type": "execute_result"
    }
   ],
   "source": [
    "df = pd.read_pickle(\"../GITIGNORE_DATA/lookup_result.pkl\")\n",
    "\n",
    "df.head(2)"
   ]
  },
  {
   "cell_type": "markdown",
   "metadata": {},
   "source": [
    "### Resolving people"
   ]
  },
  {
   "cell_type": "code",
   "execution_count": 241,
   "metadata": {},
   "outputs": [],
   "source": [
    "df_people = df[df['GENDER'].isin(['M', 'F'])].copy()\n",
    "df_people_small = df_people.head(600)"
   ]
  },
  {
   "cell_type": "code",
   "execution_count": 281,
   "metadata": {},
   "outputs": [
    {
     "name": "stderr",
     "output_type": "stream",
     "text": [
      "  0%|          | 0/73 [00:00<?, ?it/s]"
     ]
    },
    {
     "name": "stdout",
     "output_type": "stream",
     "text": [
      "Getting 3620 wikidata documents in pages of 50\n"
     ]
    },
    {
     "name": "stderr",
     "output_type": "stream",
     "text": [
      "100%|██████████| 73/73 [02:28<00:00,  2.04s/it]\n"
     ]
    }
   ],
   "source": [
    "f = Filter(df_people, \"res_WIKIDATA_IDs\")"
   ]
  },
  {
   "cell_type": "code",
   "execution_count": 282,
   "metadata": {},
   "outputs": [
    {
     "name": "stdout",
     "output_type": "stream",
     "text": [
      "Added filter {'property': ['P31', 'Q5', False]}\n",
      "Added filter {'label': ['PREFERRED_NAME', 90, True]}\n"
     ]
    }
   ],
   "source": [
    "f.add_property_filter(\"P31\", 'Q5') # human\n",
    "f.add_label_filter(\"PREFERRED_NAME\", threshold=90, include_aliases=True)"
   ]
  },
  {
   "cell_type": "code",
   "execution_count": 283,
   "metadata": {},
   "outputs": [
    {
     "name": "stdout",
     "output_type": "stream",
     "text": [
      "Filters: \n",
      " - property: ['P31', 'Q5', False]\n",
      " - label: ['PREFERRED_NAME', 90, True]\n"
     ]
    }
   ],
   "source": [
    "f.view_filters()"
   ]
  },
  {
   "cell_type": "code",
   "execution_count": 284,
   "metadata": {},
   "outputs": [
    {
     "name": "stderr",
     "output_type": "stream",
     "text": [
      "  0%|          | 0/3476 [00:00<?, ?it/s]"
     ]
    },
    {
     "name": "stdout",
     "output_type": "stream",
     "text": [
      "Processing filter 1 of 2\n"
     ]
    },
    {
     "name": "stderr",
     "output_type": "stream",
     "text": [
      "100%|██████████| 3476/3476 [07:25<00:00,  7.79it/s]\n",
      "  0%|          | 0/3321 [00:00<?, ?it/s]"
     ]
    },
    {
     "name": "stdout",
     "output_type": "stream",
     "text": [
      "Processing filter 1 of 2\n"
     ]
    },
    {
     "name": "stderr",
     "output_type": "stream",
     "text": [
      "100%|██████████| 3321/3321 [13:25<00:00,  4.12it/s]\n"
     ]
    }
   ],
   "source": [
    "f.process_dataframe()"
   ]
  },
  {
   "cell_type": "code",
   "execution_count": 285,
   "metadata": {},
   "outputs": [],
   "source": [
    "df_new = f.get_dataframe()"
   ]
  },
  {
   "cell_type": "code",
   "execution_count": null,
   "metadata": {},
   "outputs": [],
   "source": []
  }
 ],
 "metadata": {
  "kernelspec": {
   "display_name": "Python 3",
   "language": "python",
   "name": "python3"
  },
  "language_info": {
   "codemirror_mode": {
    "name": "ipython",
    "version": 3
   },
   "file_extension": ".py",
   "mimetype": "text/x-python",
   "name": "python",
   "nbconvert_exporter": "python",
   "pygments_lexer": "ipython3",
   "version": "3.7.4"
  }
 },
 "nbformat": 4,
 "nbformat_minor": 4
}
