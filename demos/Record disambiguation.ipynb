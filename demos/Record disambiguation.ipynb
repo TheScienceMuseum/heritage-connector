{
 "cells": [
  {
   "cell_type": "markdown",
   "metadata": {},
   "source": [
    "# Record Disambiguation\n",
    "\n",
    "In this notebook we perform entity disambiguation on records, specifically person records."
   ]
  },
  {
   "cell_type": "code",
   "execution_count": 1,
   "metadata": {},
   "outputs": [],
   "source": [
    "%load_ext autoreload\n",
    "%autoreload 2\n",
    "\n",
    "import pandas as pd\n",
    "import numpy as np\n",
    "import seaborn as sns\n",
    "import matplotlib.pyplot as plt\n",
    "from IPython.display import display, Markdown\n",
    "\n",
    "from sklearn.model_selection import train_test_split\n",
    "\n",
    "import sys\n",
    "sys.path.append(\"..\")\n",
    "\n",
    "from heritageconnector.disambiguation.helpers import load_training_data, plot_performance_curves\n",
    "from heritageconnector.disambiguation.pipelines import Disambiguator\n",
    "\n",
    "pd.set_option('display.max_colwidth', None)\n",
    "pd.set_option('display.max_rows', None)"
   ]
  },
  {
   "cell_type": "markdown",
   "metadata": {},
   "source": [
    "## 1. Load data\n",
    "This data has already been generated using `Disambiguator.save_training_data_to_folder` and `Disambiguator.save_test_data_to_folder`."
   ]
  },
  {
   "cell_type": "code",
   "execution_count": 2,
   "metadata": {},
   "outputs": [],
   "source": [
    "train_dir = \"/Volumes/Kalyan_SSD/SMG/disambiguation/train_people_1110/\"\n",
    "test_dir = \"/Volumes/Kalyan_SSD/SMG/disambiguation/test_people_1110/\""
   ]
  },
  {
   "cell_type": "code",
   "execution_count": 3,
   "metadata": {},
   "outputs": [],
   "source": [
    "X, y, pairs, pids = load_training_data(train_dir)\n",
    "X_new, pairs_new, pids_new = load_training_data(test_dir)"
   ]
  },
  {
   "cell_type": "code",
   "execution_count": 4,
   "metadata": {},
   "outputs": [
    {
     "data": {
      "text/plain": [
       "['label', 'P735', 'P734', 'P21', 'P569', 'P570', 'P106', 'P31']"
      ]
     },
     "execution_count": 4,
     "metadata": {},
     "output_type": "execute_result"
    }
   ],
   "source": [
    "pids"
   ]
  },
  {
   "cell_type": "markdown",
   "metadata": {},
   "source": [
    "## 2. Train classifier\n",
    "The disambiguator wraps `sklearn.tree.DecisionTreeClassifier` and takes its parameters as inputs."
   ]
  },
  {
   "cell_type": "markdown",
   "metadata": {},
   "source": [
    "### 2a. Test classifier performance\n",
    "We'll perform a train/test split on the labelled data to quickly test the classifier's performance using its `score` method. \n",
    "\n",
    "The `score` method here returns [balanced accuracy](https://scikit-learn.org/stable/modules/generated/sklearn.metrics.balanced_accuracy_score.html): accuracy weighted so that each class is considered evenly."
   ]
  },
  {
   "cell_type": "code",
   "execution_count": 5,
   "metadata": {},
   "outputs": [],
   "source": [
    "X_train, X_test, y_train, y_test = train_test_split(X, y, random_state=42)"
   ]
  },
  {
   "cell_type": "code",
   "execution_count": 6,
   "metadata": {},
   "outputs": [
    {
     "name": "stdout",
     "output_type": "stream",
     "text": [
      "balanced accuracy score: 0.9796144483822518\n",
      "precision score: 0.9357429718875502\n",
      "recall score: 0.9628099173553719\n"
     ]
    }
   ],
   "source": [
    "clf = Disambiguator().fit(X_train, y_train)\n",
    "print(clf.score(X_test, y_test))"
   ]
  },
  {
   "cell_type": "markdown",
   "metadata": {},
   "source": [
    "### 2b. Use classifier to predict new Wikidata links"
   ]
  },
  {
   "cell_type": "code",
   "execution_count": 7,
   "metadata": {},
   "outputs": [
    {
     "name": "stdout",
     "output_type": "stream",
     "text": [
      "2520 potential new links found\n"
     ]
    }
   ],
   "source": [
    "clf = Disambiguator().fit(X, y)\n",
    "y_pred = clf.predict(X_new, threshold=0.5)\n",
    "y_pred_proba = clf.predict_proba(X_new)\n",
    "\n",
    "print(f\"{np.unique(y_pred, return_counts=True)[1][1]} potential new links found\")"
   ]
  },
  {
   "cell_type": "code",
   "execution_count": 8,
   "metadata": {},
   "outputs": [
    {
     "data": {
      "text/html": [
       "<div>\n",
       "<style scoped>\n",
       "    .dataframe tbody tr th:only-of-type {\n",
       "        vertical-align: middle;\n",
       "    }\n",
       "\n",
       "    .dataframe tbody tr th {\n",
       "        vertical-align: top;\n",
       "    }\n",
       "\n",
       "    .dataframe thead th {\n",
       "        text-align: right;\n",
       "    }\n",
       "</style>\n",
       "<table border=\"1\" class=\"dataframe\">\n",
       "  <thead>\n",
       "    <tr style=\"text-align: right;\">\n",
       "      <th></th>\n",
       "      <th>internal_id</th>\n",
       "      <th>wikidata_id</th>\n",
       "      <th>y_pred</th>\n",
       "      <th>y_pred_proba</th>\n",
       "    </tr>\n",
       "  </thead>\n",
       "  <tbody>\n",
       "    <tr>\n",
       "      <th>63528</th>\n",
       "      <td>https://collection.sciencemuseumgroup.org.uk/people/cp134465</td>\n",
       "      <td>Q1691137</td>\n",
       "      <td>True</td>\n",
       "      <td>0.983783</td>\n",
       "    </tr>\n",
       "    <tr>\n",
       "      <th>31939</th>\n",
       "      <td>https://collection.sciencemuseumgroup.org.uk/people/cp118567</td>\n",
       "      <td>Q5345072</td>\n",
       "      <td>True</td>\n",
       "      <td>0.998223</td>\n",
       "    </tr>\n",
       "    <tr>\n",
       "      <th>103911</th>\n",
       "      <td>https://collection.sciencemuseumgroup.org.uk/people/cp93519</td>\n",
       "      <td>Q20991622</td>\n",
       "      <td>True</td>\n",
       "      <td>0.998223</td>\n",
       "    </tr>\n",
       "    <tr>\n",
       "      <th>27843</th>\n",
       "      <td>https://collection.sciencemuseumgroup.org.uk/people/cp117281</td>\n",
       "      <td>Q21556609</td>\n",
       "      <td>True</td>\n",
       "      <td>0.960899</td>\n",
       "    </tr>\n",
       "    <tr>\n",
       "      <th>20473</th>\n",
       "      <td>https://collection.sciencemuseumgroup.org.uk/people/cp89366</td>\n",
       "      <td>Q616068</td>\n",
       "      <td>True</td>\n",
       "      <td>0.998223</td>\n",
       "    </tr>\n",
       "    <tr>\n",
       "      <th>71131</th>\n",
       "      <td>https://collection.sciencemuseumgroup.org.uk/people/cp39886</td>\n",
       "      <td>Q3099164</td>\n",
       "      <td>True</td>\n",
       "      <td>0.998223</td>\n",
       "    </tr>\n",
       "    <tr>\n",
       "      <th>75325</th>\n",
       "      <td>https://collection.sciencemuseumgroup.org.uk/people/cp167048</td>\n",
       "      <td>Q238948</td>\n",
       "      <td>True</td>\n",
       "      <td>0.998223</td>\n",
       "    </tr>\n",
       "    <tr>\n",
       "      <th>11604</th>\n",
       "      <td>https://collection.sciencemuseumgroup.org.uk/people/cp44586</td>\n",
       "      <td>Q42590721</td>\n",
       "      <td>True</td>\n",
       "      <td>0.998223</td>\n",
       "    </tr>\n",
       "    <tr>\n",
       "      <th>27850</th>\n",
       "      <td>https://collection.sciencemuseumgroup.org.uk/people/cp117281</td>\n",
       "      <td>Q21455568</td>\n",
       "      <td>True</td>\n",
       "      <td>0.996657</td>\n",
       "    </tr>\n",
       "    <tr>\n",
       "      <th>94545</th>\n",
       "      <td>https://collection.sciencemuseumgroup.org.uk/people/cp166863</td>\n",
       "      <td>Q7108130</td>\n",
       "      <td>True</td>\n",
       "      <td>0.998223</td>\n",
       "    </tr>\n",
       "    <tr>\n",
       "      <th>15383</th>\n",
       "      <td>https://collection.sciencemuseumgroup.org.uk/people/cp34532</td>\n",
       "      <td>Q21453865</td>\n",
       "      <td>True</td>\n",
       "      <td>0.998223</td>\n",
       "    </tr>\n",
       "    <tr>\n",
       "      <th>82802</th>\n",
       "      <td>https://collection.sciencemuseumgroup.org.uk/people/cp163232</td>\n",
       "      <td>Q59102095</td>\n",
       "      <td>True</td>\n",
       "      <td>0.998223</td>\n",
       "    </tr>\n",
       "    <tr>\n",
       "      <th>103932</th>\n",
       "      <td>https://collection.sciencemuseumgroup.org.uk/people/cp96394</td>\n",
       "      <td>Q1388187</td>\n",
       "      <td>True</td>\n",
       "      <td>0.960899</td>\n",
       "    </tr>\n",
       "    <tr>\n",
       "      <th>11613</th>\n",
       "      <td>https://collection.sciencemuseumgroup.org.uk/people/cp44586</td>\n",
       "      <td>Q18757261</td>\n",
       "      <td>True</td>\n",
       "      <td>0.960899</td>\n",
       "    </tr>\n",
       "    <tr>\n",
       "      <th>103973</th>\n",
       "      <td>https://collection.sciencemuseumgroup.org.uk/people/cp91838</td>\n",
       "      <td>Q76607</td>\n",
       "      <td>True</td>\n",
       "      <td>0.998223</td>\n",
       "    </tr>\n",
       "    <tr>\n",
       "      <th>132240</th>\n",
       "      <td>https://collection.sciencemuseumgroup.org.uk/people/cp37229</td>\n",
       "      <td>Q435296</td>\n",
       "      <td>True</td>\n",
       "      <td>0.960334</td>\n",
       "    </tr>\n",
       "    <tr>\n",
       "      <th>45166</th>\n",
       "      <td>https://collection.sciencemuseumgroup.org.uk/people/cp106175</td>\n",
       "      <td>Q3719098</td>\n",
       "      <td>True</td>\n",
       "      <td>0.983783</td>\n",
       "    </tr>\n",
       "    <tr>\n",
       "      <th>111727</th>\n",
       "      <td>https://collection.sciencemuseumgroup.org.uk/people/cp139630</td>\n",
       "      <td>Q1346101</td>\n",
       "      <td>True</td>\n",
       "      <td>0.998223</td>\n",
       "    </tr>\n",
       "    <tr>\n",
       "      <th>45171</th>\n",
       "      <td>https://collection.sciencemuseumgroup.org.uk/people/cp106796</td>\n",
       "      <td>Q28457020</td>\n",
       "      <td>True</td>\n",
       "      <td>0.998223</td>\n",
       "    </tr>\n",
       "    <tr>\n",
       "      <th>75298</th>\n",
       "      <td>https://collection.sciencemuseumgroup.org.uk/people/cp167047</td>\n",
       "      <td>Q659402</td>\n",
       "      <td>True</td>\n",
       "      <td>0.998223</td>\n",
       "    </tr>\n",
       "  </tbody>\n",
       "</table>\n",
       "</div>"
      ],
      "text/plain": [
       "                                                         internal_id  \\\n",
       "63528   https://collection.sciencemuseumgroup.org.uk/people/cp134465   \n",
       "31939   https://collection.sciencemuseumgroup.org.uk/people/cp118567   \n",
       "103911   https://collection.sciencemuseumgroup.org.uk/people/cp93519   \n",
       "27843   https://collection.sciencemuseumgroup.org.uk/people/cp117281   \n",
       "20473    https://collection.sciencemuseumgroup.org.uk/people/cp89366   \n",
       "71131    https://collection.sciencemuseumgroup.org.uk/people/cp39886   \n",
       "75325   https://collection.sciencemuseumgroup.org.uk/people/cp167048   \n",
       "11604    https://collection.sciencemuseumgroup.org.uk/people/cp44586   \n",
       "27850   https://collection.sciencemuseumgroup.org.uk/people/cp117281   \n",
       "94545   https://collection.sciencemuseumgroup.org.uk/people/cp166863   \n",
       "15383    https://collection.sciencemuseumgroup.org.uk/people/cp34532   \n",
       "82802   https://collection.sciencemuseumgroup.org.uk/people/cp163232   \n",
       "103932   https://collection.sciencemuseumgroup.org.uk/people/cp96394   \n",
       "11613    https://collection.sciencemuseumgroup.org.uk/people/cp44586   \n",
       "103973   https://collection.sciencemuseumgroup.org.uk/people/cp91838   \n",
       "132240   https://collection.sciencemuseumgroup.org.uk/people/cp37229   \n",
       "45166   https://collection.sciencemuseumgroup.org.uk/people/cp106175   \n",
       "111727  https://collection.sciencemuseumgroup.org.uk/people/cp139630   \n",
       "45171   https://collection.sciencemuseumgroup.org.uk/people/cp106796   \n",
       "75298   https://collection.sciencemuseumgroup.org.uk/people/cp167047   \n",
       "\n",
       "       wikidata_id  y_pred  y_pred_proba  \n",
       "63528     Q1691137    True      0.983783  \n",
       "31939     Q5345072    True      0.998223  \n",
       "103911   Q20991622    True      0.998223  \n",
       "27843    Q21556609    True      0.960899  \n",
       "20473      Q616068    True      0.998223  \n",
       "71131     Q3099164    True      0.998223  \n",
       "75325      Q238948    True      0.998223  \n",
       "11604    Q42590721    True      0.998223  \n",
       "27850    Q21455568    True      0.996657  \n",
       "94545     Q7108130    True      0.998223  \n",
       "15383    Q21453865    True      0.998223  \n",
       "82802    Q59102095    True      0.998223  \n",
       "103932    Q1388187    True      0.960899  \n",
       "11613    Q18757261    True      0.960899  \n",
       "103973      Q76607    True      0.998223  \n",
       "132240     Q435296    True      0.960334  \n",
       "45166     Q3719098    True      0.983783  \n",
       "111727    Q1346101    True      0.998223  \n",
       "45171    Q28457020    True      0.998223  \n",
       "75298      Q659402    True      0.998223  "
      ]
     },
     "execution_count": 8,
     "metadata": {},
     "output_type": "execute_result"
    }
   ],
   "source": [
    "pairs_new[\"y_pred\"] = y_pred\n",
    "pairs_new[\"y_pred_proba\"] = y_pred_proba\n",
    "pairs_new.sort_values(\"y_pred\", ascending=False).head(20)"
   ]
  },
  {
   "cell_type": "code",
   "execution_count": 9,
   "metadata": {},
   "outputs": [
    {
     "data": {
      "text/markdown": [
       "The graph below shows the distribution of the number of predicted matches per SMG ID. Around 75% have a unique match, and most of the remainder have two matches."
      ],
      "text/plain": [
       "<IPython.core.display.Markdown object>"
      ]
     },
     "metadata": {},
     "output_type": "display_data"
    },
    {
     "data": {
      "image/png": "[encoded data removed]",
      "text/plain": [
       "<Figure size 432x288 with 1 Axes>"
      ]
     },
     "metadata": {
      "needs_background": "light"
     },
     "output_type": "display_data"
    }
   ],
   "source": [
    "display(Markdown(\"The graph below shows the distribution of the number of predicted matches per SMG ID. Around 75% have a unique match, and most of the remainder have two matches.\"))\n",
    "sns.distplot(pairs_new.loc[pairs_new[\"y_pred\"] == True, \"internal_id\"].value_counts(), kde=False, norm_hist=True).set_ylabel('proportion')\n",
    "plt.gca().set_title('Count of Number of SMG IDs per True Prediction');"
   ]
  },
  {
   "cell_type": "markdown",
   "metadata": {},
   "source": [
    "## 2c. Returning top-ranked links only\n",
    "We can filter some of the duplicate Wikidata candidates for each SMG item found above by _only returning the top-ranked positive matches_. `clf.predict_top_ranked_pairs` does this."
   ]
  },
  {
   "cell_type": "code",
   "execution_count": 10,
   "metadata": {},
   "outputs": [
    {
     "name": "stdout",
     "output_type": "stream",
     "text": [
      "No. new links: 2437\n",
      "No. SMG items with new links: 2346\n"
     ]
    },
    {
     "data": {
      "text/html": [
       "<div>\n",
       "<style scoped>\n",
       "    .dataframe tbody tr th:only-of-type {\n",
       "        vertical-align: middle;\n",
       "    }\n",
       "\n",
       "    .dataframe tbody tr th {\n",
       "        vertical-align: top;\n",
       "    }\n",
       "\n",
       "    .dataframe thead th {\n",
       "        text-align: right;\n",
       "    }\n",
       "</style>\n",
       "<table border=\"1\" class=\"dataframe\">\n",
       "  <thead>\n",
       "    <tr style=\"text-align: right;\">\n",
       "      <th></th>\n",
       "      <th>internal_id</th>\n",
       "      <th>wikidata_id</th>\n",
       "      <th>y_pred</th>\n",
       "      <th>y_pred_proba</th>\n",
       "    </tr>\n",
       "  </thead>\n",
       "  <tbody>\n",
       "    <tr>\n",
       "      <th>139</th>\n",
       "      <td>https://collection.sciencemuseumgroup.org.uk/people/cp103617</td>\n",
       "      <td>Q20850443</td>\n",
       "      <td>True</td>\n",
       "      <td>0.998223</td>\n",
       "    </tr>\n",
       "    <tr>\n",
       "      <th>326</th>\n",
       "      <td>https://collection.sciencemuseumgroup.org.uk/people/cp1230</td>\n",
       "      <td>Q1066217</td>\n",
       "      <td>True</td>\n",
       "      <td>0.998223</td>\n",
       "    </tr>\n",
       "    <tr>\n",
       "      <th>470</th>\n",
       "      <td>https://collection.sciencemuseumgroup.org.uk/people/cp13964</td>\n",
       "      <td>Q20478836</td>\n",
       "      <td>True</td>\n",
       "      <td>0.998223</td>\n",
       "    </tr>\n",
       "    <tr>\n",
       "      <th>565</th>\n",
       "      <td>https://collection.sciencemuseumgroup.org.uk/people/cp137316</td>\n",
       "      <td>Q726169</td>\n",
       "      <td>True</td>\n",
       "      <td>0.983783</td>\n",
       "    </tr>\n",
       "    <tr>\n",
       "      <th>751</th>\n",
       "      <td>https://collection.sciencemuseumgroup.org.uk/people/cp15129</td>\n",
       "      <td>Q7794196</td>\n",
       "      <td>True</td>\n",
       "      <td>0.998223</td>\n",
       "    </tr>\n",
       "  </tbody>\n",
       "</table>\n",
       "</div>"
      ],
      "text/plain": [
       "                                                      internal_id wikidata_id  \\\n",
       "139  https://collection.sciencemuseumgroup.org.uk/people/cp103617   Q20850443   \n",
       "326    https://collection.sciencemuseumgroup.org.uk/people/cp1230    Q1066217   \n",
       "470   https://collection.sciencemuseumgroup.org.uk/people/cp13964   Q20478836   \n",
       "565  https://collection.sciencemuseumgroup.org.uk/people/cp137316     Q726169   \n",
       "751   https://collection.sciencemuseumgroup.org.uk/people/cp15129    Q7794196   \n",
       "\n",
       "     y_pred  y_pred_proba  \n",
       "139    True      0.998223  \n",
       "326    True      0.998223  \n",
       "470    True      0.998223  \n",
       "565    True      0.983783  \n",
       "751    True      0.998223  "
      ]
     },
     "execution_count": 10,
     "metadata": {},
     "output_type": "execute_result"
    }
   ],
   "source": [
    "pairs_true = clf.predict_top_ranked_pairs(X_new, pairs_new)\n",
    "print(f\"No. new links: {len(pairs_true)}\")\n",
    "print(f\"No. SMG items with new links: {len(pairs_true['internal_id'].unique())}\")\n",
    "pairs_true.head()"
   ]
  },
  {
   "cell_type": "markdown",
   "metadata": {},
   "source": [
    "## 3. Explain classifier\n",
    "We can see that the classifier prioritises P569/P570 (birth and death dates), P21 (gender), label similarity, and occupation.\n",
    "\n",
    "It's interesting to note that P31 (instance of), which tells the classifier whether the Wikidata record is a human, is not used. This is likely because P569/P570/P106/P21 are qualities which only humans can have.\n",
    "\n",
    "P31 is likely to be much more prevalent when classifying objects, and distinguishing between e.g. paintings and posters."
   ]
  },
  {
   "cell_type": "code",
   "execution_count": 11,
   "metadata": {},
   "outputs": [
    {
     "name": "stdout",
     "output_type": "stream",
     "text": [
      "|--- P569 <= 1.00\n",
      "|   |--- P106 <= 0.50\n",
      "|   |   |--- P570 <= 1.00\n",
      "|   |   |   |--- label <= 0.99\n",
      "|   |   |   |   |--- label <= 0.94\n",
      "|   |   |   |   |   |--- class: False\n",
      "|   |   |   |   |--- label >  0.94\n",
      "|   |   |   |   |   |--- class: False\n",
      "|   |   |   |--- label >  0.99\n",
      "|   |   |   |   |--- P21 <= 0.50\n",
      "|   |   |   |   |   |--- class: False\n",
      "|   |   |   |   |--- P21 >  0.50\n",
      "|   |   |   |   |   |--- class: False\n",
      "|   |   |--- P570 >  1.00\n",
      "|   |   |   |--- label <= 0.97\n",
      "|   |   |   |   |--- class: False\n",
      "|   |   |   |--- label >  0.97\n",
      "|   |   |   |   |--- P734 <= 0.97\n",
      "|   |   |   |   |   |--- class: False\n",
      "|   |   |   |   |--- P734 >  0.97\n",
      "|   |   |   |   |   |--- class: True\n",
      "|   |--- P106 >  0.50\n",
      "|   |   |--- label <= 0.95\n",
      "|   |   |   |--- label <= 0.87\n",
      "|   |   |   |   |--- P570 <= 0.28\n",
      "|   |   |   |   |   |--- class: False\n",
      "|   |   |   |   |--- P570 >  0.28\n",
      "|   |   |   |   |   |--- class: False\n",
      "|   |   |   |--- label >  0.87\n",
      "|   |   |   |   |--- P569 <= 0.90\n",
      "|   |   |   |   |   |--- class: True\n",
      "|   |   |   |   |--- P569 >  0.90\n",
      "|   |   |   |   |   |--- class: False\n",
      "|   |   |--- label >  0.95\n",
      "|   |   |   |--- P569 <= 0.42\n",
      "|   |   |   |   |--- P734 <= 0.93\n",
      "|   |   |   |   |   |--- class: True\n",
      "|   |   |   |   |--- P734 >  0.93\n",
      "|   |   |   |   |   |--- class: True\n",
      "|   |   |   |--- P569 >  0.42\n",
      "|   |   |   |   |--- P569 <= 0.99\n",
      "|   |   |   |   |   |--- class: False\n",
      "|   |   |   |   |--- P569 >  0.99\n",
      "|   |   |   |   |   |--- class: True\n",
      "|--- P569 >  1.00\n",
      "|   |--- label <= 0.86\n",
      "|   |   |--- class: False\n",
      "|   |--- label >  0.86\n",
      "|   |   |--- P569 <= 1.00\n",
      "|   |   |   |--- P570 <= 1.00\n",
      "|   |   |   |   |--- P106 <= 0.50\n",
      "|   |   |   |   |   |--- class: False\n",
      "|   |   |   |   |--- P106 >  0.50\n",
      "|   |   |   |   |   |--- class: True\n",
      "|   |   |   |--- P570 >  1.00\n",
      "|   |   |   |   |--- P735 <= 0.63\n",
      "|   |   |   |   |   |--- class: True\n",
      "|   |   |   |   |--- P735 >  0.63\n",
      "|   |   |   |   |   |--- class: True\n",
      "|   |   |--- P569 >  1.00\n",
      "|   |   |   |--- P569 <= 1.00\n",
      "|   |   |   |   |--- P570 <= 1.00\n",
      "|   |   |   |   |   |--- class: False\n",
      "|   |   |   |   |--- P570 >  1.00\n",
      "|   |   |   |   |   |--- class: True\n",
      "|   |   |   |--- P569 >  1.00\n",
      "|   |   |   |   |--- label <= 0.95\n",
      "|   |   |   |   |   |--- class: True\n",
      "|   |   |   |   |--- label >  0.95\n",
      "|   |   |   |   |   |--- class: True\n",
      "\n"
     ]
    }
   ],
   "source": [
    "clf.print_tree(feature_names=pids_new)"
   ]
  },
  {
   "cell_type": "markdown",
   "metadata": {},
   "source": [
    "## 4. Export model & sample of predictions"
   ]
  },
  {
   "cell_type": "code",
   "execution_count": 12,
   "metadata": {},
   "outputs": [],
   "source": [
    "clf.save_classifier_to_disk(\"../GITIGNORE_DATA/models/disambiguation/people_151020.pkl\")"
   ]
  },
  {
   "cell_type": "code",
   "execution_count": 13,
   "metadata": {},
   "outputs": [],
   "source": [
    "pairs_pos_sample = pairs_new[pairs_new['y_pred'] == True].sample(30, random_state=42)\n",
    "pairs_neg_sample = pairs_new[pairs_new['y_pred'] == False].sample(30, random_state=42)\n",
    "\n",
    "pairs_sample = pd.concat([pairs_pos_sample, pairs_neg_sample], ignore_index=False)\n",
    "pairs_sample = pairs_sample.copy()\n",
    "pairs_sample['wikidata_id'] = \"https://www.wikidata.org/entity/\" + pairs_sample['wikidata_id']\n",
    "\n",
    "pairs_sample.to_excel(\"people_classifier_sample_for_review.xlsx\")"
   ]
  },
  {
   "cell_type": "code",
   "execution_count": null,
   "metadata": {},
   "outputs": [],
   "source": []
  }
 ],
 "metadata": {
  "kernelspec": {
   "display_name": "Python 3",
   "language": "python",
   "name": "python3"
  },
  "language_info": {
   "codemirror_mode": {
    "name": "ipython",
    "version": 3
   },
   "file_extension": ".py",
   "mimetype": "text/x-python",
   "name": "python",
   "nbconvert_exporter": "python",
   "pygments_lexer": "ipython3",
   "version": "3.7.4"
  }
 },
 "nbformat": 4,
 "nbformat_minor": 4
}
