{
 "cells": [
  {
   "cell_type": "markdown",
   "metadata": {},
   "source": [
    "# Record Disambiguation\n",
    "\n",
    "In this notebook we perform entity disambiguation on records, specifically person records."
   ]
  },
  {
   "cell_type": "code",
   "execution_count": 16,
   "metadata": {},
   "outputs": [
    {
     "name": "stdout",
     "output_type": "stream",
     "text": [
      "The autoreload extension is already loaded. To reload it, use:\n",
      "  %reload_ext autoreload\n"
     ]
    }
   ],
   "source": [
    "%load_ext autoreload\n",
    "%autoreload 2\n",
    "\n",
    "import pandas as pd\n",
    "import numpy as np\n",
    "import seaborn as sns\n",
    "import matplotlib.pyplot as plt\n",
    "from IPython.display import display, Markdown\n",
    "\n",
    "from sklearn.model_selection import train_test_split\n",
    "from sklearn.metrics import precision_score, recall_score, balanced_accuracy_score\n",
    "from tqdm.auto import tqdm\n",
    "\n",
    "import sys\n",
    "sys.path.append(\"..\")\n",
    "\n",
    "from heritageconnector.disambiguation.helpers import load_training_data, plot_performance_curves\n",
    "from heritageconnector.disambiguation.pipelines import Disambiguator\n",
    "from heritageconnector.disambiguation.postprocessing import filter_cased_wikidata_labels, remove_wikidata_items_with_no_claims\n",
    "from heritageconnector.utils.wikidata import get_sparql_results, url_to_qid\n",
    "from heritageconnector.utils.generic import paginate_list\n",
    "from heritageconnector.config import config\n",
    "\n",
    "pd.set_option('display.max_colwidth', None)\n",
    "pd.set_option('display.max_rows', None)"
   ]
  },
  {
   "cell_type": "markdown",
   "metadata": {},
   "source": [
    "## 1. Load data\n",
    "This data has already been generated using `Disambiguator.save_training_data_to_folder` and `Disambiguator.save_test_data_to_folder`."
   ]
  },
  {
   "cell_type": "code",
   "execution_count": 48,
   "metadata": {},
   "outputs": [],
   "source": [
    "train_dir = \"/Volumes/Kalyan_SSD/SMG/disambiguation/objects_131120/train/\"\n",
    "# test_dir = \"/Volumes/Kalyan_SSD/SMG/disambiguation/objects_131120/test_computing_space/\"\n",
    "test_dir = \"/Volumes/Kalyan_SSD/SMG/disambiguation/objects_131120/test_photographic_aeronautics/\"\n",
    "# test_dir = \"/Volumes/Kalyan_SSD/SMG/disambiguation/objects_131120/test_art_locomotives_and_rolling_stock/\""
   ]
  },
  {
   "cell_type": "code",
   "execution_count": 3,
   "metadata": {},
   "outputs": [],
   "source": [
    "X, y, pairs, pids = load_training_data(train_dir)\n",
    "X_new, pairs_new, pids_new = load_training_data(test_dir)"
   ]
  },
  {
   "cell_type": "code",
   "execution_count": 4,
   "metadata": {},
   "outputs": [
    {
     "data": {
      "text/plain": [
       "20"
      ]
     },
     "execution_count": 4,
     "metadata": {},
     "output_type": "execute_result"
    }
   ],
   "source": [
    "pairs['y'] = y\n",
    "len(pairs[pairs['y'] == True])"
   ]
  },
  {
   "cell_type": "code",
   "execution_count": 5,
   "metadata": {},
   "outputs": [
    {
     "data": {
      "text/plain": [
       "(['P580', 'P186', 'P176', 'label', 'P31'],\n",
       " ['P580', 'P186', 'P176', 'label', 'P31'])"
      ]
     },
     "execution_count": 5,
     "metadata": {},
     "output_type": "execute_result"
    }
   ],
   "source": [
    "pids, pids_new"
   ]
  },
  {
   "cell_type": "code",
   "execution_count": 6,
   "metadata": {},
   "outputs": [
    {
     "data": {
      "text/plain": [
       "((720, 5), (21163, 5))"
      ]
     },
     "execution_count": 6,
     "metadata": {},
     "output_type": "execute_result"
    }
   ],
   "source": [
    "X.shape, X_new.shape"
   ]
  },
  {
   "cell_type": "code",
   "execution_count": 7,
   "metadata": {},
   "outputs": [
    {
     "data": {
      "text/plain": [
       "(array([ 19.52435859,   4.51999998,   1.        , 525.39000006,\n",
       "         49.06818718]),\n",
       " array([  522.29956887,   112.39000048,     0.        , 15048.49998747,\n",
       "         1331.9364215 ]))"
      ]
     },
     "execution_count": 7,
     "metadata": {},
     "output_type": "execute_result"
    }
   ],
   "source": [
    "X.sum(axis=0), X_new.sum(axis=0)"
   ]
  },
  {
   "cell_type": "code",
   "execution_count": 8,
   "metadata": {},
   "outputs": [
    {
     "data": {
      "text/html": [
       "<div>\n",
       "<style scoped>\n",
       "    .dataframe tbody tr th:only-of-type {\n",
       "        vertical-align: middle;\n",
       "    }\n",
       "\n",
       "    .dataframe tbody tr th {\n",
       "        vertical-align: top;\n",
       "    }\n",
       "\n",
       "    .dataframe thead th {\n",
       "        text-align: right;\n",
       "    }\n",
       "</style>\n",
       "<table border=\"1\" class=\"dataframe\">\n",
       "  <thead>\n",
       "    <tr style=\"text-align: right;\">\n",
       "      <th></th>\n",
       "      <th>internal_id</th>\n",
       "      <th>wikidata_id</th>\n",
       "      <th>is_type</th>\n",
       "      <th>y</th>\n",
       "    </tr>\n",
       "  </thead>\n",
       "  <tbody>\n",
       "    <tr>\n",
       "      <th>0</th>\n",
       "      <td>https://collection.sciencemuseumgroup.org.uk/objects/co205781</td>\n",
       "      <td>Q60692892</td>\n",
       "      <td>True</td>\n",
       "      <td>False</td>\n",
       "    </tr>\n",
       "    <tr>\n",
       "      <th>1</th>\n",
       "      <td>https://collection.sciencemuseumgroup.org.uk/objects/co205781</td>\n",
       "      <td>Q7904269</td>\n",
       "      <td>False</td>\n",
       "      <td>False</td>\n",
       "    </tr>\n",
       "    <tr>\n",
       "      <th>2</th>\n",
       "      <td>https://collection.sciencemuseumgroup.org.uk/objects/co205781</td>\n",
       "      <td>Q912552</td>\n",
       "      <td>True</td>\n",
       "      <td>False</td>\n",
       "    </tr>\n",
       "    <tr>\n",
       "      <th>3</th>\n",
       "      <td>https://collection.sciencemuseumgroup.org.uk/objects/co205781</td>\n",
       "      <td>Q171043</td>\n",
       "      <td>True</td>\n",
       "      <td>False</td>\n",
       "    </tr>\n",
       "    <tr>\n",
       "      <th>4</th>\n",
       "      <td>https://collection.sciencemuseumgroup.org.uk/objects/co205781</td>\n",
       "      <td>Q23461745</td>\n",
       "      <td>False</td>\n",
       "      <td>False</td>\n",
       "    </tr>\n",
       "  </tbody>\n",
       "</table>\n",
       "</div>"
      ],
      "text/plain": [
       "                                                     internal_id wikidata_id  \\\n",
       "0  https://collection.sciencemuseumgroup.org.uk/objects/co205781   Q60692892   \n",
       "1  https://collection.sciencemuseumgroup.org.uk/objects/co205781    Q7904269   \n",
       "2  https://collection.sciencemuseumgroup.org.uk/objects/co205781     Q912552   \n",
       "3  https://collection.sciencemuseumgroup.org.uk/objects/co205781     Q171043   \n",
       "4  https://collection.sciencemuseumgroup.org.uk/objects/co205781   Q23461745   \n",
       "\n",
       "   is_type      y  \n",
       "0     True  False  \n",
       "1    False  False  \n",
       "2     True  False  \n",
       "3     True  False  \n",
       "4    False  False  "
      ]
     },
     "execution_count": 8,
     "metadata": {},
     "output_type": "execute_result"
    }
   ],
   "source": [
    "pairs.head()"
   ]
  },
  {
   "cell_type": "markdown",
   "metadata": {},
   "source": [
    "## 2. Train classifier\n",
    "The disambiguator wraps `sklearn.tree.DecisionTreeClassifier` and takes its parameters as inputs."
   ]
  },
  {
   "cell_type": "markdown",
   "metadata": {},
   "source": [
    "### 2a. Test classifier performance\n",
    "We'll perform a train/test split on the labelled data to quickly test the classifier's performance using its `score` method. \n",
    "\n",
    "The `score` method here returns [balanced accuracy](https://scikit-learn.org/stable/modules/generated/sklearn.metrics.balanced_accuracy_score.html): accuracy weighted so that each class is considered evenly."
   ]
  },
  {
   "cell_type": "code",
   "execution_count": 9,
   "metadata": {},
   "outputs": [
    {
     "data": {
      "text/plain": [
       "(576, 144)"
      ]
     },
     "execution_count": 9,
     "metadata": {},
     "output_type": "execute_result"
    }
   ],
   "source": [
    "X_train, X_test, y_train, y_test = train_test_split(pd.DataFrame(X), y, random_state=42, test_size=0.2, stratify=y)\n",
    "len(X_train), len(X_test)"
   ]
  },
  {
   "cell_type": "code",
   "execution_count": 10,
   "metadata": {},
   "outputs": [
    {
     "data": {
      "text/plain": [
       "(576, 576, 144, 144)"
      ]
     },
     "execution_count": 10,
     "metadata": {},
     "output_type": "execute_result"
    }
   ],
   "source": [
    "train_idx = X_train.index.tolist()\n",
    "test_idx = X_test.index.tolist()\n",
    "\n",
    "pairs_train = pairs.loc[train_idx, :]\n",
    "pairs_test = pairs.loc[test_idx, :]\n",
    "\n",
    "len(X_train), len(pairs_train), len(X_test), len(pairs_test)"
   ]
  },
  {
   "cell_type": "code",
   "execution_count": 11,
   "metadata": {},
   "outputs": [
    {
     "name": "stdout",
     "output_type": "stream",
     "text": [
      "0.5 --- \n",
      "balanced accuracy score: 0.8821428571428571\n",
      "precision score: 0.10810810810810811\n",
      "recall score: 1.0\n",
      "0.6 --- \n",
      "balanced accuracy score: 0.8821428571428571\n",
      "precision score: 0.10810810810810811\n",
      "recall score: 1.0\n",
      "0.7 --- \n",
      "balanced accuracy score: 0.8535714285714286\n",
      "precision score: 0.3333333333333333\n",
      "recall score: 0.75\n",
      "0.8 --- \n",
      "balanced accuracy score: 0.8642857142857143\n",
      "precision score: 0.5\n",
      "recall score: 0.75\n",
      "0.9 --- \n",
      "balanced accuracy score: 0.8642857142857143\n",
      "precision score: 0.5\n",
      "recall score: 0.75\n",
      "0.95 --- \n",
      "balanced accuracy score: 0.8642857142857143\n",
      "precision score: 0.5\n",
      "recall score: 0.75\n"
     ]
    }
   ],
   "source": [
    "clf = Disambiguator('OBJECT', max_depth=None).fit(X_train, y_train)\n",
    "for threshold in [0.5, 0.6, 0.7, 0.8, 0.9, 0.95]:\n",
    "    print(str(threshold) + \" --- \\n\" + clf.score(X_test, y_test, threshold))"
   ]
  },
  {
   "cell_type": "code",
   "execution_count": 18,
   "metadata": {},
   "outputs": [
    {
     "data": {
      "text/plain": [
       "(0.6, 0.75, 0.8662280701754386)"
      ]
     },
     "execution_count": 18,
     "metadata": {},
     "output_type": "execute_result"
    }
   ],
   "source": [
    "pairs_predicted = clf.get_predictions_table(X_test, pairs_test, threshold=0.8)\n",
    "\n",
    "pairs_predicted_filtered = filter_cased_wikidata_labels(pairs_predicted)\n",
    "pairs_predicted_filtered = remove_wikidata_items_with_no_claims(pairs_predicted_filtered)\n",
    "\n",
    "y_filtered = pairs_predicted_filtered['y'].tolist()\n",
    "y_pred_filtered = pairs_predicted_filtered['y_pred'].tolist()\n",
    "\n",
    "precision_score(y_filtered, y_pred_filtered), recall_score(y_filtered, y_pred_filtered), balanced_accuracy_score(y_filtered, y_pred_filtered)"
   ]
  },
  {
   "cell_type": "markdown",
   "metadata": {},
   "source": [
    "### 2b. Analyse classifier results"
   ]
  },
  {
   "cell_type": "code",
   "execution_count": 24,
   "metadata": {},
   "outputs": [
    {
     "name": "stdout",
     "output_type": "stream",
     "text": [
      "3 3 137 1\n"
     ]
    }
   ],
   "source": [
    "y_pred = clf.predict(X_test, threshold=0.8)\n",
    "\n",
    "TPs = np.where((y_pred==True) & (y_test==True))\n",
    "FPs = np.where((y_pred==True) & (y_test==False))\n",
    "FNs = np.where((y_pred==False) & (y_test==True))\n",
    "TNs = np.where((y_pred==False) & (y_test==False))\n",
    "\n",
    "print(len(TPs[0]), len(FPs[0]), len(TNs[0]), len(FNs[0]))"
   ]
  },
  {
   "cell_type": "code",
   "execution_count": 25,
   "metadata": {},
   "outputs": [
    {
     "data": {
      "text/html": [
       "<div>\n",
       "<style scoped>\n",
       "    .dataframe tbody tr th:only-of-type {\n",
       "        vertical-align: middle;\n",
       "    }\n",
       "\n",
       "    .dataframe tbody tr th {\n",
       "        vertical-align: top;\n",
       "    }\n",
       "\n",
       "    .dataframe thead th {\n",
       "        text-align: right;\n",
       "    }\n",
       "</style>\n",
       "<table border=\"1\" class=\"dataframe\">\n",
       "  <thead>\n",
       "    <tr style=\"text-align: right;\">\n",
       "      <th></th>\n",
       "      <th>internal_id</th>\n",
       "      <th>wikidata_id</th>\n",
       "      <th>is_type</th>\n",
       "      <th>y</th>\n",
       "    </tr>\n",
       "  </thead>\n",
       "  <tbody>\n",
       "    <tr>\n",
       "      <th>192</th>\n",
       "      <td>https://collection.sciencemuseumgroup.org.uk/objects/co8414844</td>\n",
       "      <td>Q193692</td>\n",
       "      <td>True</td>\n",
       "      <td>False</td>\n",
       "    </tr>\n",
       "    <tr>\n",
       "      <th>680</th>\n",
       "      <td>https://collection.sciencemuseumgroup.org.uk/objects/co63962</td>\n",
       "      <td>Q80031078</td>\n",
       "      <td>True</td>\n",
       "      <td>False</td>\n",
       "    </tr>\n",
       "    <tr>\n",
       "      <th>280</th>\n",
       "      <td>https://collection.sciencemuseumgroup.org.uk/objects/co8232360</td>\n",
       "      <td>Q4045099</td>\n",
       "      <td>True</td>\n",
       "      <td>False</td>\n",
       "    </tr>\n",
       "  </tbody>\n",
       "</table>\n",
       "</div>"
      ],
      "text/plain": [
       "                                                        internal_id  \\\n",
       "192  https://collection.sciencemuseumgroup.org.uk/objects/co8414844   \n",
       "680    https://collection.sciencemuseumgroup.org.uk/objects/co63962   \n",
       "280  https://collection.sciencemuseumgroup.org.uk/objects/co8232360   \n",
       "\n",
       "    wikidata_id  is_type      y  \n",
       "192     Q193692     True  False  \n",
       "680   Q80031078     True  False  \n",
       "280    Q4045099     True  False  "
      ]
     },
     "execution_count": 25,
     "metadata": {},
     "output_type": "execute_result"
    }
   ],
   "source": [
    "pairs_test.iloc[FPs]"
   ]
  },
  {
   "cell_type": "code",
   "execution_count": 26,
   "metadata": {},
   "outputs": [
    {
     "data": {
      "text/html": [
       "<div>\n",
       "<style scoped>\n",
       "    .dataframe tbody tr th:only-of-type {\n",
       "        vertical-align: middle;\n",
       "    }\n",
       "\n",
       "    .dataframe tbody tr th {\n",
       "        vertical-align: top;\n",
       "    }\n",
       "\n",
       "    .dataframe thead th {\n",
       "        text-align: right;\n",
       "    }\n",
       "</style>\n",
       "<table border=\"1\" class=\"dataframe\">\n",
       "  <thead>\n",
       "    <tr style=\"text-align: right;\">\n",
       "      <th></th>\n",
       "      <th>0</th>\n",
       "      <th>1</th>\n",
       "      <th>2</th>\n",
       "      <th>3</th>\n",
       "      <th>4</th>\n",
       "    </tr>\n",
       "  </thead>\n",
       "  <tbody>\n",
       "    <tr>\n",
       "      <th>192</th>\n",
       "      <td>0.0</td>\n",
       "      <td>0.0</td>\n",
       "      <td>0.0</td>\n",
       "      <td>1.0</td>\n",
       "      <td>1.000000</td>\n",
       "    </tr>\n",
       "    <tr>\n",
       "      <th>680</th>\n",
       "      <td>0.0</td>\n",
       "      <td>0.0</td>\n",
       "      <td>0.0</td>\n",
       "      <td>1.0</td>\n",
       "      <td>0.500000</td>\n",
       "    </tr>\n",
       "    <tr>\n",
       "      <th>280</th>\n",
       "      <td>0.0</td>\n",
       "      <td>0.0</td>\n",
       "      <td>0.0</td>\n",
       "      <td>1.0</td>\n",
       "      <td>0.333333</td>\n",
       "    </tr>\n",
       "  </tbody>\n",
       "</table>\n",
       "</div>"
      ],
      "text/plain": [
       "       0    1    2    3         4\n",
       "192  0.0  0.0  0.0  1.0  1.000000\n",
       "680  0.0  0.0  0.0  1.0  0.500000\n",
       "280  0.0  0.0  0.0  1.0  0.333333"
      ]
     },
     "execution_count": 26,
     "metadata": {},
     "output_type": "execute_result"
    }
   ],
   "source": [
    "X_test.iloc[FPs]"
   ]
  },
  {
   "cell_type": "markdown",
   "metadata": {},
   "source": [
    "### 2c. Use classifier to predict new Wikidata links"
   ]
  },
  {
   "cell_type": "code",
   "execution_count": 40,
   "metadata": {},
   "outputs": [
    {
     "name": "stdout",
     "output_type": "stream",
     "text": [
      "702 potential new links found\n"
     ]
    }
   ],
   "source": [
    "clf = Disambiguator('OBJECT').fit(X, y)\n",
    "y_pred = clf.predict(X_new, threshold=0.9)\n",
    "y_pred_proba = clf.predict_proba(X_new)\n",
    "\n",
    "print(f\"{np.unique(y_pred, return_counts=True)[1][1]} potential new links found\")"
   ]
  },
  {
   "cell_type": "code",
   "execution_count": 41,
   "metadata": {},
   "outputs": [],
   "source": [
    "pairs_new = clf.get_predictions_table(X_new, pairs_new, threshold=0.9)"
   ]
  },
  {
   "cell_type": "code",
   "execution_count": 42,
   "metadata": {},
   "outputs": [
    {
     "data": {
      "text/markdown": [
       "The graph below shows the distribution of the number of predicted matches per SMG ID. Around 75% have a unique match, and most of the remainder have two matches."
      ],
      "text/plain": [
       "<IPython.core.display.Markdown object>"
      ]
     },
     "metadata": {},
     "output_type": "display_data"
    },
    {
     "data": {
      "image/png": "[encoded data removed]",
      "text/plain": [
       "<Figure size 432x288 with 1 Axes>"
      ]
     },
     "metadata": {
      "needs_background": "light"
     },
     "output_type": "display_data"
    }
   ],
   "source": [
    "display(Markdown(\"The graph below shows the distribution of the number of predicted matches per SMG ID. Around 75% have a unique match, and most of the remainder have two matches.\"))\n",
    "sns.distplot(pairs_new.loc[pairs_new[\"y_pred\"] == True, \"internal_id\"].value_counts(), kde=False, norm_hist=True).set_ylabel('proportion')\n",
    "plt.gca().set_title('Count of Number of SMG IDs per True Prediction');"
   ]
  },
  {
   "cell_type": "code",
   "execution_count": 43,
   "metadata": {},
   "outputs": [
    {
     "data": {
      "text/html": [
       "<div>\n",
       "<style scoped>\n",
       "    .dataframe tbody tr th:only-of-type {\n",
       "        vertical-align: middle;\n",
       "    }\n",
       "\n",
       "    .dataframe tbody tr th {\n",
       "        vertical-align: top;\n",
       "    }\n",
       "\n",
       "    .dataframe thead th {\n",
       "        text-align: right;\n",
       "    }\n",
       "</style>\n",
       "<table border=\"1\" class=\"dataframe\">\n",
       "  <thead>\n",
       "    <tr style=\"text-align: right;\">\n",
       "      <th></th>\n",
       "      <th>internal_id</th>\n",
       "      <th>wikidata_id</th>\n",
       "      <th>is_type</th>\n",
       "      <th>y_pred_proba</th>\n",
       "      <th>y_pred</th>\n",
       "    </tr>\n",
       "  </thead>\n",
       "  <tbody>\n",
       "    <tr>\n",
       "      <th>854</th>\n",
       "      <td>https://collection.sciencemuseumgroup.org.uk/objects/co62801</td>\n",
       "      <td>Q4389389</td>\n",
       "      <td>True</td>\n",
       "      <td>0.972222</td>\n",
       "      <td>True</td>\n",
       "    </tr>\n",
       "    <tr>\n",
       "      <th>6635</th>\n",
       "      <td>https://collection.sciencemuseumgroup.org.uk/objects/co64136</td>\n",
       "      <td>Q54854916</td>\n",
       "      <td>True</td>\n",
       "      <td>0.972222</td>\n",
       "      <td>True</td>\n",
       "    </tr>\n",
       "    <tr>\n",
       "      <th>11843</th>\n",
       "      <td>https://collection.sciencemuseumgroup.org.uk/objects/co526480</td>\n",
       "      <td>Q1578699</td>\n",
       "      <td>True</td>\n",
       "      <td>0.972222</td>\n",
       "      <td>True</td>\n",
       "    </tr>\n",
       "    <tr>\n",
       "      <th>11841</th>\n",
       "      <td>https://collection.sciencemuseumgroup.org.uk/objects/co526480</td>\n",
       "      <td>Q371482</td>\n",
       "      <td>True</td>\n",
       "      <td>0.972222</td>\n",
       "      <td>True</td>\n",
       "    </tr>\n",
       "    <tr>\n",
       "      <th>18288</th>\n",
       "      <td>https://collection.sciencemuseumgroup.org.uk/objects/co39987</td>\n",
       "      <td>Q59103</td>\n",
       "      <td>True</td>\n",
       "      <td>0.972222</td>\n",
       "      <td>True</td>\n",
       "    </tr>\n",
       "    <tr>\n",
       "      <th>3781</th>\n",
       "      <td>https://collection.sciencemuseumgroup.org.uk/objects/co8399490</td>\n",
       "      <td>Q1053749</td>\n",
       "      <td>True</td>\n",
       "      <td>0.972222</td>\n",
       "      <td>True</td>\n",
       "    </tr>\n",
       "    <tr>\n",
       "      <th>3110</th>\n",
       "      <td>https://collection.sciencemuseumgroup.org.uk/objects/co8640272</td>\n",
       "      <td>Q2933722</td>\n",
       "      <td>True</td>\n",
       "      <td>0.972222</td>\n",
       "      <td>True</td>\n",
       "    </tr>\n",
       "    <tr>\n",
       "      <th>15085</th>\n",
       "      <td>https://collection.sciencemuseumgroup.org.uk/objects/co63986</td>\n",
       "      <td>Q1327833</td>\n",
       "      <td>True</td>\n",
       "      <td>0.972222</td>\n",
       "      <td>True</td>\n",
       "    </tr>\n",
       "    <tr>\n",
       "      <th>4212</th>\n",
       "      <td>https://collection.sciencemuseumgroup.org.uk/objects/co523254</td>\n",
       "      <td>Q12047070</td>\n",
       "      <td>True</td>\n",
       "      <td>0.972222</td>\n",
       "      <td>True</td>\n",
       "    </tr>\n",
       "    <tr>\n",
       "      <th>20220</th>\n",
       "      <td>https://collection.sciencemuseumgroup.org.uk/objects/co39986</td>\n",
       "      <td>Q59131</td>\n",
       "      <td>True</td>\n",
       "      <td>0.972222</td>\n",
       "      <td>True</td>\n",
       "    </tr>\n",
       "  </tbody>\n",
       "</table>\n",
       "</div>"
      ],
      "text/plain": [
       "                                                          internal_id  \\\n",
       "854      https://collection.sciencemuseumgroup.org.uk/objects/co62801   \n",
       "6635     https://collection.sciencemuseumgroup.org.uk/objects/co64136   \n",
       "11843   https://collection.sciencemuseumgroup.org.uk/objects/co526480   \n",
       "11841   https://collection.sciencemuseumgroup.org.uk/objects/co526480   \n",
       "18288    https://collection.sciencemuseumgroup.org.uk/objects/co39987   \n",
       "3781   https://collection.sciencemuseumgroup.org.uk/objects/co8399490   \n",
       "3110   https://collection.sciencemuseumgroup.org.uk/objects/co8640272   \n",
       "15085    https://collection.sciencemuseumgroup.org.uk/objects/co63986   \n",
       "4212    https://collection.sciencemuseumgroup.org.uk/objects/co523254   \n",
       "20220    https://collection.sciencemuseumgroup.org.uk/objects/co39986   \n",
       "\n",
       "      wikidata_id  is_type  y_pred_proba  y_pred  \n",
       "854      Q4389389     True      0.972222    True  \n",
       "6635    Q54854916     True      0.972222    True  \n",
       "11843    Q1578699     True      0.972222    True  \n",
       "11841     Q371482     True      0.972222    True  \n",
       "18288      Q59103     True      0.972222    True  \n",
       "3781     Q1053749     True      0.972222    True  \n",
       "3110     Q2933722     True      0.972222    True  \n",
       "15085    Q1327833     True      0.972222    True  \n",
       "4212    Q12047070     True      0.972222    True  \n",
       "20220      Q59131     True      0.972222    True  "
      ]
     },
     "execution_count": 43,
     "metadata": {},
     "output_type": "execute_result"
    }
   ],
   "source": [
    "pairs_new.sort_values('y_pred_proba', ascending=False).head(10)"
   ]
  },
  {
   "cell_type": "markdown",
   "metadata": {},
   "source": [
    "## 2d. Filter matches"
   ]
  },
  {
   "cell_type": "code",
   "execution_count": 44,
   "metadata": {},
   "outputs": [
    {
     "name": "stdout",
     "output_type": "stream",
     "text": [
      "702\n"
     ]
    },
    {
     "data": {
      "application/vnd.jupyter.widget-view+json": {
       "model_id": "83920323ad3d4b6ab103d25794b0de59",
       "version_major": 2,
       "version_minor": 0
      },
      "text/plain": [
       "HBox(children=(HTML(value=''), FloatProgress(value=1.0, bar_style='info', layout=Layout(width='20px'), max=1.0…"
      ]
     },
     "metadata": {},
     "output_type": "display_data"
    },
    {
     "name": "stdout",
     "output_type": "stream",
     "text": [
      "\n",
      "-- After Filtering --\n",
      "No. new links: 213\n",
      "No. SMG items with new links: 172\n"
     ]
    }
   ],
   "source": [
    "pairs_true = pairs_new[pairs_new['y_pred'] == True]\n",
    "print(len(pairs_true))\n",
    "\n",
    "pairs_true_filtered = filter_cased_wikidata_labels(pairs_true)\n",
    "pairs_true_filtered = remove_wikidata_items_with_no_claims(pairs_true_filtered)\n",
    "pairs_true_filtered = filter_max_wikidata_links(pairs_true_filtered, 2)\n",
    "\n",
    "print(\"-- After Filtering --\")\n",
    "print(f\"No. new links: {len(pairs_true_filtered)}\")\n",
    "print(f\"No. SMG items with new links: {len(pairs_true_filtered['internal_id'].unique())}\")\n"
   ]
  },
  {
   "cell_type": "markdown",
   "metadata": {},
   "source": [
    "## 3. Explain classifier\n",
    "We can see that the classifier prioritises P569/P570 (birth and death dates), P21 (gender), label similarity, and occupation.\n",
    "\n",
    "It's interesting to note that P31 (instance of), which tells the classifier whether the Wikidata record is a human, is not used. This is likely because P569/P570/P106/P21 are qualities which only humans can have.\n",
    "\n",
    "P31 is likely to be much more prevalent when classifying objects, and distinguishing between e.g. paintings and posters."
   ]
  },
  {
   "cell_type": "code",
   "execution_count": 45,
   "metadata": {},
   "outputs": [
    {
     "name": "stdout",
     "output_type": "stream",
     "text": [
      "|--- label <= 0.97\n",
      "|   |--- label <= 0.80\n",
      "|   |   |--- class: False\n",
      "|   |--- label >  0.80\n",
      "|   |   |--- label <= 0.81\n",
      "|   |   |   |--- class: True\n",
      "|   |   |--- label >  0.81\n",
      "|   |   |   |--- label <= 0.81\n",
      "|   |   |   |   |--- class: False\n",
      "|   |   |   |--- label >  0.81\n",
      "|   |   |   |   |--- class: False\n",
      "|--- label >  0.97\n",
      "|   |--- P31 <= 0.13\n",
      "|   |   |--- P31 <= 0.00\n",
      "|   |   |   |--- class: True\n",
      "|   |   |--- P31 >  0.00\n",
      "|   |   |   |--- class: True\n",
      "|   |--- P31 >  0.13\n",
      "|   |   |--- P31 <= 0.75\n",
      "|   |   |   |--- class: True\n",
      "|   |   |--- P31 >  0.75\n",
      "|   |   |   |--- class: True\n",
      "\n"
     ]
    }
   ],
   "source": [
    "clf.print_tree(feature_names=pids)"
   ]
  },
  {
   "cell_type": "markdown",
   "metadata": {},
   "source": [
    "## 4. Export model and final predictions"
   ]
  },
  {
   "cell_type": "code",
   "execution_count": 47,
   "metadata": {},
   "outputs": [],
   "source": [
    "# clf.save_classifier_to_disk(\"/Volumes/Kalyan_SSD/SMG/disambiguation/objects_131120/clf.pkl\")\n",
    "pairs_true_filtered.sort_values('y_pred_proba', ascending=False).to_csv(\n",
    "    \"/Volumes/Kalyan_SSD/SMG/disambiguation/objects_131120/computing_space_preds_positive.csv\", index=False)"
   ]
  },
  {
   "cell_type": "markdown",
   "metadata": {},
   "source": [
    "You can also use the below cell to export a sample of positive and negative samples to an Excel document for manual review"
   ]
  },
  {
   "cell_type": "raw",
   "metadata": {},
   "source": [
    "pairs_pos_sample = pairs_new[pairs_new['y_pred'] == True].sample(30, random_state=42)\n",
    "pairs_neg_sample = pairs_new[pairs_new['y_pred'] == False].sample(30, random_state=42)\n",
    "\n",
    "pairs_sample = pd.concat([pairs_pos_sample, pairs_neg_sample], ignore_index=False)\n",
    "pairs_sample = pairs_sample.copy()\n",
    "pairs_sample['wikidata_id'] = \"https://www.wikidata.org/entity/\" + pairs_sample['wikidata_id']\n",
    "\n",
    "pairs_sample.to_excel(\"objects_classifier_sample_for_review.xlsx\")"
   ]
  },
  {
   "cell_type": "code",
   "execution_count": null,
   "metadata": {},
   "outputs": [],
   "source": []
  }
 ],
 "metadata": {
  "kernelspec": {
   "display_name": "Python 3",
   "language": "python",
   "name": "python3"
  },
  "language_info": {
   "codemirror_mode": {
    "name": "ipython",
    "version": 3
   },
   "file_extension": ".py",
   "mimetype": "text/x-python",
   "name": "python",
   "nbconvert_exporter": "python",
   "pygments_lexer": "ipython3",
   "version": "3.7.4"
  }
 },
 "nbformat": 4,
 "nbformat_minor": 4
}
