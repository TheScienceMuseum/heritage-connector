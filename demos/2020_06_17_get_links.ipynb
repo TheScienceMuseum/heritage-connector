{
 "cells": [
  {
   "cell_type": "markdown",
   "metadata": {},
   "source": [
    "# Getting Links from URLs in People Records"
   ]
  },
  {
   "cell_type": "code",
   "execution_count": 1,
   "metadata": {},
   "outputs": [],
   "source": [
    "%load_ext autoreload\n",
    "%autoreload 2"
   ]
  },
  {
   "cell_type": "code",
   "execution_count": 33,
   "metadata": {},
   "outputs": [
    {
     "data": {
      "application/vnd.jupyter.widget-view+json": {
       "model_id": "1f551ea19268412b9d39ed8dabdb01f3",
       "version_major": 2,
       "version_minor": 0
      },
      "text/plain": [
       "HBox(children=(FloatProgress(value=1.0, bar_style='info', max=1.0), HTML(value='')))"
      ]
     },
     "metadata": {},
     "output_type": "display_data"
    },
    {
     "name": "stderr",
     "output_type": "stream",
     "text": [
      "/Users/kalyan/.local/share/virtualenvs/heritage-connector-tkmarX41/lib/python3.7/site-packages/tqdm/std.py:668: FutureWarning: The Panel class is removed from pandas. Accessing it from the top-level namespace will also be removed in the next version\n",
      "  from pandas import Panel\n"
     ]
    }
   ],
   "source": [
    "import sys\n",
    "sys.path.append('..')\n",
    "\n",
    "from heritageconnector.utils import data_loaders\n",
    "from heritageconnector.lookup import from_url\n",
    "\n",
    "import os\n",
    "\n",
    "import pandas as pd\n",
    "pd.set_option('display.max_colwidth', None)\n",
    "pd.set_option('display.max_columns', None)\n",
    "\n",
    "from tqdm import tqdm\n",
    "from tqdm.notebook import tqdm as tqdm_notebook\n",
    "tqdm_notebook().pandas();"
   ]
  },
  {
   "cell_type": "code",
   "execution_count": 34,
   "metadata": {},
   "outputs": [],
   "source": [
    "DATA_FOLDER = \"../GITIGNORE_DATA\""
   ]
  },
  {
   "cell_type": "markdown",
   "metadata": {},
   "source": [
    "## 1. Import Data"
   ]
  },
  {
   "cell_type": "code",
   "execution_count": 22,
   "metadata": {},
   "outputs": [],
   "source": [
    "loader = data_loaders.local_loader()\n",
    "people_df = loader.load_mimsy_people_data()"
   ]
  },
  {
   "cell_type": "code",
   "execution_count": 23,
   "metadata": {},
   "outputs": [
    {
     "data": {
      "text/html": [
       "<div>\n",
       "<style scoped>\n",
       "    .dataframe tbody tr th:only-of-type {\n",
       "        vertical-align: middle;\n",
       "    }\n",
       "\n",
       "    .dataframe tbody tr th {\n",
       "        vertical-align: top;\n",
       "    }\n",
       "\n",
       "    .dataframe thead th {\n",
       "        text-align: right;\n",
       "    }\n",
       "</style>\n",
       "<table border=\"1\" class=\"dataframe\">\n",
       "  <thead>\n",
       "    <tr style=\"text-align: right;\">\n",
       "      <th></th>\n",
       "      <th>LINK_ID</th>\n",
       "      <th>PREFERRED_NAME</th>\n",
       "      <th>TITLE_NAME</th>\n",
       "      <th>FIRSTMID_NAME</th>\n",
       "      <th>LASTSUFF_NAME</th>\n",
       "      <th>SUFFIX_NAME</th>\n",
       "      <th>HONORARY_SUFFIX</th>\n",
       "      <th>GENDER</th>\n",
       "      <th>BRIEF_BIO</th>\n",
       "      <th>DESCRIPTION</th>\n",
       "      <th>NOTE</th>\n",
       "      <th>BIRTH_DATE</th>\n",
       "      <th>BIRTH_PLACE</th>\n",
       "      <th>DEATH_DATE</th>\n",
       "      <th>DEATH_PLACE</th>\n",
       "      <th>CAUSE_OF_DEATH</th>\n",
       "      <th>NATIONALITY</th>\n",
       "      <th>OCCUPATION</th>\n",
       "      <th>WEBSITE</th>\n",
       "      <th>AFFILIATION</th>\n",
       "      <th>LINGUISTIC_GROUP</th>\n",
       "      <th>TYPE</th>\n",
       "      <th>REFERENCE_NUMBER</th>\n",
       "      <th>SOURCE</th>\n",
       "      <th>CREATE_DATE</th>\n",
       "      <th>UPDATE_DATE</th>\n",
       "    </tr>\n",
       "  </thead>\n",
       "  <tbody>\n",
       "    <tr>\n",
       "      <th>0</th>\n",
       "      <td>10243</td>\n",
       "      <td>Brooklyn Arms Company</td>\n",
       "      <td>NaN</td>\n",
       "      <td>NaN</td>\n",
       "      <td>Brooklyn Arms Company</td>\n",
       "      <td>NaN</td>\n",
       "      <td>NaN</td>\n",
       "      <td>N</td>\n",
       "      <td>Y</td>\n",
       "      <td>NaN</td>\n",
       "      <td>object record: 1987-1020</td>\n",
       "      <td>c. 1870</td>\n",
       "      <td>Brooklyn, New York, New York state, United States</td>\n",
       "      <td>NaN</td>\n",
       "      <td>NaN</td>\n",
       "      <td>NaN</td>\n",
       "      <td>American</td>\n",
       "      <td>manufacturer of mathematical instruments</td>\n",
       "      <td>NaN</td>\n",
       "      <td>NaN</td>\n",
       "      <td>NaN</td>\n",
       "      <td>NaN</td>\n",
       "      <td>NaN</td>\n",
       "      <td>N</td>\n",
       "      <td>28-JAN-98</td>\n",
       "      <td>06-NOV-18</td>\n",
       "    </tr>\n",
       "    <tr>\n",
       "      <th>1</th>\n",
       "      <td>10245</td>\n",
       "      <td>Zenthon, Edward Rupert</td>\n",
       "      <td>NaN</td>\n",
       "      <td>Edward Rupert</td>\n",
       "      <td>Zenthon</td>\n",
       "      <td>NaN</td>\n",
       "      <td>NaN</td>\n",
       "      <td>M</td>\n",
       "      <td>Y</td>\n",
       "      <td>REF: http://www.iwm.org.uk/collections/item/object/1030031461</td>\n",
       "      <td>NaN</td>\n",
       "      <td>1920-07</td>\n",
       "      <td>London, Greater London, England, United Kingdom</td>\n",
       "      <td>c. 2002</td>\n",
       "      <td>NaN</td>\n",
       "      <td>NaN</td>\n",
       "      <td>British</td>\n",
       "      <td>engineer</td>\n",
       "      <td>NaN</td>\n",
       "      <td>NaN</td>\n",
       "      <td>NaN</td>\n",
       "      <td>NaN</td>\n",
       "      <td>NaN</td>\n",
       "      <td>N</td>\n",
       "      <td>28-JAN-98</td>\n",
       "      <td>05-AUG-15</td>\n",
       "    </tr>\n",
       "  </tbody>\n",
       "</table>\n",
       "</div>"
      ],
      "text/plain": [
       "   LINK_ID          PREFERRED_NAME TITLE_NAME  FIRSTMID_NAME  \\\n",
       "0    10243   Brooklyn Arms Company        NaN            NaN   \n",
       "1    10245  Zenthon, Edward Rupert        NaN  Edward Rupert   \n",
       "\n",
       "           LASTSUFF_NAME SUFFIX_NAME HONORARY_SUFFIX GENDER BRIEF_BIO  \\\n",
       "0  Brooklyn Arms Company         NaN             NaN      N         Y   \n",
       "1                Zenthon         NaN             NaN      M         Y   \n",
       "\n",
       "                                                     DESCRIPTION  \\\n",
       "0                                                            NaN   \n",
       "1  REF: http://www.iwm.org.uk/collections/item/object/1030031461   \n",
       "\n",
       "                       NOTE BIRTH_DATE  \\\n",
       "0  object record: 1987-1020    c. 1870   \n",
       "1                       NaN    1920-07   \n",
       "\n",
       "                                         BIRTH_PLACE DEATH_DATE DEATH_PLACE  \\\n",
       "0  Brooklyn, New York, New York state, United States        NaN         NaN   \n",
       "1    London, Greater London, England, United Kingdom    c. 2002         NaN   \n",
       "\n",
       "  CAUSE_OF_DEATH NATIONALITY                                OCCUPATION  \\\n",
       "0            NaN    American  manufacturer of mathematical instruments   \n",
       "1            NaN     British                                  engineer   \n",
       "\n",
       "  WEBSITE  AFFILIATION  LINGUISTIC_GROUP TYPE  REFERENCE_NUMBER SOURCE  \\\n",
       "0     NaN          NaN               NaN  NaN               NaN      N   \n",
       "1     NaN          NaN               NaN  NaN               NaN      N   \n",
       "\n",
       "  CREATE_DATE UPDATE_DATE  \n",
       "0   28-JAN-98   06-NOV-18  \n",
       "1   28-JAN-98   05-AUG-15  "
      ]
     },
     "execution_count": 23,
     "metadata": {},
     "output_type": "execute_result"
    }
   ],
   "source": [
    "people_df.head(2)"
   ]
  },
  {
   "cell_type": "markdown",
   "metadata": {},
   "source": [
    "## 2. Test URL to WID Method"
   ]
  },
  {
   "cell_type": "code",
   "execution_count": 24,
   "metadata": {},
   "outputs": [],
   "source": [
    "df = people_df.copy()"
   ]
  },
  {
   "cell_type": "code",
   "execution_count": 31,
   "metadata": {},
   "outputs": [
    {
     "data": {
      "application/vnd.jupyter.widget-view+json": {
       "model_id": "b7d23a8e62714acf94d8d9dab1c9cade",
       "version_major": 2,
       "version_minor": 0
      },
      "text/plain": [
       "HBox(children=(FloatProgress(value=0.0, max=18095.0), HTML(value='')))"
      ]
     },
     "metadata": {},
     "output_type": "display_data"
    },
    {
     "name": "stdout",
     "output_type": "stream",
     "text": [
      "\n"
     ]
    }
   ],
   "source": [
    "# create joined column\n",
    "cols_look_for_url = [\"DESCRIPTION\", \"NOTE\"]\n",
    "df[cols_look_for_url] = df[cols_look_for_url].astype(str)\n",
    "df[\"res_ALL_NOTES\"] = df[cols_look_for_url].agg(' --- '.join, axis=1)\n",
    "\n",
    "# match URLs\n",
    "url_match = \"((?:https?:\\/\\/|www\\.|https?:\\/\\/|www\\.)[a-z0-9\\.:].*?(?=[\\s;]|$))\"\n",
    "\n",
    "def text_to_urls(text):\n",
    "    return from_url.wikidata_id.get_from_free_text(text, return_urls=True)\n",
    "\n",
    "df[\"res_WIKIDATA_IDs\"], df[\"res_URLS\"] = zip(*df[\"res_ALL_NOTES\"].progress_apply(text_to_urls))"
   ]
  },
  {
   "cell_type": "raw",
   "metadata": {},
   "source": [
    "df.to_pickle(os.path.join(DATA_FOLDER, \"data_with_links_v1.pkl\"))"
   ]
  },
  {
   "cell_type": "code",
   "execution_count": null,
   "metadata": {},
   "outputs": [],
   "source": []
  }
 ],
 "metadata": {
  "kernelspec": {
   "display_name": "Python 3",
   "language": "python",
   "name": "python3"
  },
  "language_info": {
   "codemirror_mode": {
    "name": "ipython",
    "version": 3
   },
   "file_extension": ".py",
   "mimetype": "text/x-python",
   "name": "python",
   "nbconvert_exporter": "python",
   "pygments_lexer": "ipython3",
   "version": "3.7.4"
  }
 },
 "nbformat": 4,
 "nbformat_minor": 4
}
